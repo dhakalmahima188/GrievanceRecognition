{
 "cells": [
  {
   "cell_type": "code",
   "execution_count": 18,
   "metadata": {},
   "outputs": [],
   "source": [
    "import pandas as pd\n",
    "import numpy as np\n",
    "import nltk\n",
    "from nltk.corpus import stopwords\n",
    "from nltk.tokenize import word_tokenize\n",
    "import re\n",
    "from sklearn.model_selection import train_test_split\n",
    "from sklearn.pipeline import Pipeline\n",
    "from sklearn.ensemble import RandomForestClassifier\n",
    "from sklearn.metrics import classification_report\n",
    "from gensim.models import Word2Vec\n",
    "from sklearn.preprocessing import LabelEncoder\n",
    "from nltk.tokenize import word_tokenize\n",
    "import numpy as np"
   ]
  },
  {
   "cell_type": "code",
   "execution_count": 19,
   "metadata": {},
   "outputs": [],
   "source": [
    "pd.set_option('display.max_colwidth',None) \n",
    "df=pd.read_excel(\"dataset/updated_text_data.xlsx\")\n",
    "nepali_stopwords = set(stopwords.words('nepali'))\n",
    "english_stopwords = set(stopwords.words('english'))"
   ]
  },
  {
   "cell_type": "code",
   "execution_count": 20,
   "metadata": {},
   "outputs": [],
   "source": [
    "def preprocess_text(text):\n",
    "    # Convert to lowercase\n",
    "    text = text.lower()\n",
    "    # Remove specified characters\n",
    "    text = re.sub('[#\\\\/।(),०-९<<?!,—–’‘:\\u200d]', '', text)\n",
    "    # Strip double quotes\n",
    "    text = text.strip('\"')\n",
    "\n",
    "    # Tokenize the text\n",
    "    words=word_tokenize(text)\n",
    "    # Remove stop words for both Nepali and English\n",
    "    filtered_words = [word for word in words if word.lower() not in nepali_stopwords and word.lower() not in english_stopwords]\n",
    "    # Join the filtered words to form the processed text\n",
    "    processed_text = ' '.join(filtered_words)\n",
    "    return processed_text\n"
   ]
  },
  {
   "cell_type": "code",
   "execution_count": 35,
   "metadata": {},
   "outputs": [
    {
     "data": {
      "text/plain": [
       "गुनासो वर्ग\n",
       "वेबसाइट तथा अभिलेख व्यवस्थापन सम्बन्धी       2863\n",
       "सोधपुछ, सुझाव, प्रशंसा सम्बन्धी              1899\n",
       "कर्मचारी सम्वन्धी                            1384\n",
       "स्वास्थ्यसँग सम्बन्धी                         899\n",
       "अर्थ सबन्धी                                   856\n",
       "खानेपानी सम्बन्धी                             770\n",
       "सूचना तथा  संचार सम्बन्धी                     642\n",
       "शान्ति सुरक्षा सम्बन्धी                       562\n",
       "प्राकृतिक श्रोत/साधन सम्बन्धी                 233\n",
       "लागु पदार्थ सम्बन्धी                          159\n",
       "अर्थिक अनियमितता तथा भ्रष्टाचार सम्बन्धी       68\n",
       "Name: count, dtype: int64"
      ]
     },
     "execution_count": 35,
     "metadata": {},
     "output_type": "execute_result"
    }
   ],
   "source": [
    "df['गुनासो वर्ग'].value_counts()"
   ]
  },
  {
   "cell_type": "code",
   "execution_count": 21,
   "metadata": {},
   "outputs": [],
   "source": [
    "df_1=df[df['गुनासो वर्ग']=='वेबसाइट तथा अभिलेख व्यवस्थापन सम्बन्धी ']\n",
    "df_2=df[df['गुनासो वर्ग']=='सोधपुछ, सुझाव, प्रशंसा सम्बन्धी'].sample(2863,replace=True)\n",
    "df_2 = df_2.reset_index(drop=True)\n",
    "df_3=df[df['गुनासो वर्ग']=='कर्मचारी सम्वन्धी '].sample(2863,replace=True)\n",
    "df_3 = df_3.reset_index(drop=True)\n",
    "df_4=df[df['गुनासो वर्ग']=='स्वास्थ्यसँग सम्बन्धी'].sample(2863,replace=True)\n",
    "df_4 = df_4.reset_index(drop=True)\n",
    "df_5=df[df['गुनासो वर्ग']=='अर्थ सबन्धी '].sample(2863,replace=True)\n",
    "df_5 = df_5.reset_index(drop=True)\n",
    "df_6=df[df['गुनासो वर्ग']=='खानेपानी सम्बन्धी '].sample(2863,replace=True)\n",
    "df_6 = df_6.reset_index(drop=True)\n",
    "df_7=df[df['गुनासो वर्ग']=='सूचना तथा  संचार सम्बन्धी'].sample(2863,replace=True)\n",
    "df_7 = df_7.reset_index(drop=True)\n",
    "df_8=df[df['गुनासो वर्ग']=='शान्ति सुरक्षा सम्बन्धी '].sample(2863,replace=True)\n",
    "df_8 = df_8.reset_index(drop=True)\n",
    "df_9=df[df['गुनासो वर्ग']=='प्राकृतिक श्रोत/साधन सम्बन्धी'].sample(2863,replace=True)\n",
    "df_9 =df_9.reset_index(drop=True)\n",
    "df_10=df[df['गुनासो वर्ग']=='लागु पदार्थ सम्बन्धी '].sample(2863,replace=True)\n",
    "df_10 = df_10.reset_index(drop=True)\n",
    "df_11=df[df['गुनासो वर्ग']=='अर्थिक अनियमितता तथा भ्रष्टाचार सम्बन्धी '].sample(2863,replace=True)\n",
    "df_11 = df_11.reset_index(drop=True)\n",
    "\n"
   ]
  },
  {
   "cell_type": "code",
   "execution_count": 22,
   "metadata": {},
   "outputs": [],
   "source": [
    "df_final=pd.concat([df_1,df_2,df_3,df_4,df_5,df_6,df_7,df_8,df_9,df_10,df_11],axis=0)"
   ]
  },
  {
   "cell_type": "code",
   "execution_count": 23,
   "metadata": {},
   "outputs": [],
   "source": [
    "df_final['गुनासो']=df_final['गुनासो'].apply(preprocess_text)"
   ]
  },
  {
   "cell_type": "code",
   "execution_count": 24,
   "metadata": {},
   "outputs": [],
   "source": [
    "model_path = \"nepaliW2V_5Million.model\"  # Replace with the path to your model file\n",
    "model = Word2Vec.load(model_path)"
   ]
  },
  {
   "cell_type": "code",
   "execution_count": 25,
   "metadata": {},
   "outputs": [],
   "source": [
    "# Function to convert text to vectors\n",
    "def text_to_vector(text):\n",
    "    vector = np.zeros(model.vector_size)\n",
    "    count = 0\n",
    "    for word in word_tokenize(text):\n",
    "        if word in model.wv:\n",
    "            vector += model.wv[word]\n",
    "            count += 1\n",
    "    if count != 0:\n",
    "        vector /= count\n",
    "    return vector"
   ]
  },
  {
   "cell_type": "code",
   "execution_count": 26,
   "metadata": {},
   "outputs": [
    {
     "data": {
      "text/html": [
       "<div>\n",
       "<style scoped>\n",
       "    .dataframe tbody tr th:only-of-type {\n",
       "        vertical-align: middle;\n",
       "    }\n",
       "\n",
       "    .dataframe tbody tr th {\n",
       "        vertical-align: top;\n",
       "    }\n",
       "\n",
       "    .dataframe thead th {\n",
       "        text-align: right;\n",
       "    }\n",
       "</style>\n",
       "<table border=\"1\" class=\"dataframe\">\n",
       "  <thead>\n",
       "    <tr style=\"text-align: right;\">\n",
       "      <th></th>\n",
       "      <th>गुनासो वर्ग</th>\n",
       "      <th>गुनासो</th>\n",
       "      <th>गुनासो vector</th>\n",
       "    </tr>\n",
       "  </thead>\n",
       "  <tbody>\n",
       "    <tr>\n",
       "      <th>2276</th>\n",
       "      <td>सोधपुछ, सुझाव, प्रशंसा सम्बन्धी</td>\n",
       "      <td>निकाय वा भ्याटमा दर्ता भएका फर्मले नेपाल सरकार आन्तरिक राजस्व बिभागको करदाता पोर्टलमा गई आप्ना डकुमेन्टहरु अपलोड अद्यावधि पर्ने कार्य भुक्तानी पर्ने सम्पूर्ण रकम भुक्तानी गरे पश्चात त्यसको फोटोकपी बोकेर करदाता कार्यालयमा धाउनु पर्ने झन्झट फोन सम्बन्धित कर कार्यालयमा सोधपुछ गरयो आफै आउनु कार्यालयमा जवाफ पाईन्छ ब्यबसायबाट पैशा कमाई त्यहि कमाईको निश्चित रकम सरकारलाई कर तिर्ने अनावश्यक पैशा खर्च गराएर सरकारले सोझा साधा जनतालाई खोजेको चाँहि स्थानिय तहमा कर सेवादाता कार्यालय राख्ने ब्यवस्था मिलाउन सरकार आग्रह गर्दछु रोजगारी अवसर सृजना देखी जनताको बचत भई आय बढ्न जाने यसले देशको अर्थतन्त्रमा टेवा पुग्नेछ बिश्वास दिलाउन</td>\n",
       "      <td>[-0.5575556909087206, 0.048483285457506534, -0.39759182078061533, 0.24018686835760952, 0.5218854906785562, 0.022528575321079276, 0.4099859757898528, -0.020315524085699657, 0.2235205213264486, -0.45014991173444346, -0.17298254356376033, -0.13448355055307268, 0.1134532900912626, -0.05450314825751865, -0.34030126932947363, -0.0007222661382106484, 0.15598753142384353, 0.18059106329914, 0.2593483876314808, 0.37597755568109636, -0.3243665292698768, -0.17914651887735628, 0.4560517764757158, -0.5545579286933434, 0.6339174358261993, 0.0906432923273046, -0.08206351595304784, -0.3360787945051418, 0.2167053428768623, -0.28819084734671185, 0.2058741786730949, 0.30249075513317814, 0.21839369934903397, -0.14600122000756827, 0.08927028980411467, -0.3714951788336249, -0.3769477794622453, -0.25885840530135595, 0.2867521858491675, -0.4052717366835988, -0.5852522354050097, 0.5118952871922434, 0.1187257714737512, -0.42650604865620617, 0.07428862969009359, -0.17555879247298495, 0.21170520806517146, 0.6133956880858321, -0.4368875129732826, 0.3862721431841997, 0.3481921647507392, 0.27216599556831184, 0.0009110498654304958, 0.43326599864655585, 0.2376518089202095, 0.5639183030341615, 0.49610778851220844, 0.1920321396452787, -0.19337940211484178, 0.029581294532437793, 0.12723385487477004, 0.6044196450288911, -0.32193655922215003, -0.1715624537318945, 0.8678343258053828, -0.7709371899941662, -0.2175148818489225, -0.24992125916493232, -0.3390695402526572, -0.23403550906786236, -0.06251741145722202, 0.49961503363809867, 0.2191927874323408, 0.09114950814009568, -0.4062550839067238, -0.8641770883524393, -0.29130123088472204, -0.5758551436163424, 0.18714434243585976, 0.3891978285229597, 0.11531030077708611, 0.30900530998221004, 0.4638923809817824, 0.014439024863245546, 0.8400918174473966, -0.6049267996224712, 0.1689266203826324, 0.010915673727200169, -0.02225884946719667, -0.04836401098682622, 0.1533100636233194, 0.42447111154066736, -0.18186087719905267, -0.6326162913111878, -0.424230910959791, -0.6906783850100197, 0.15481218728465868, -0.14024300991794186, -0.2254728748249348, 0.549163097046224, ...]</td>\n",
       "    </tr>\n",
       "  </tbody>\n",
       "</table>\n",
       "</div>"
      ],
      "text/plain": [
       "                          गुनासो वर्ग  \\\n",
       "2276  सोधपुछ, सुझाव, प्रशंसा सम्बन्धी   \n",
       "\n",
       "                                                                                                                                                                                                                                                                                                                                                                                                                                                                                                                                                                                                                                          गुनासो  \\\n",
       "2276  निकाय वा भ्याटमा दर्ता भएका फर्मले नेपाल सरकार आन्तरिक राजस्व बिभागको करदाता पोर्टलमा गई आप्ना डकुमेन्टहरु अपलोड अद्यावधि पर्ने कार्य भुक्तानी पर्ने सम्पूर्ण रकम भुक्तानी गरे पश्चात त्यसको फोटोकपी बोकेर करदाता कार्यालयमा धाउनु पर्ने झन्झट फोन सम्बन्धित कर कार्यालयमा सोधपुछ गरयो आफै आउनु कार्यालयमा जवाफ पाईन्छ ब्यबसायबाट पैशा कमाई त्यहि कमाईको निश्चित रकम सरकारलाई कर तिर्ने अनावश्यक पैशा खर्च गराएर सरकारले सोझा साधा जनतालाई खोजेको चाँहि स्थानिय तहमा कर सेवादाता कार्यालय राख्ने ब्यवस्था मिलाउन सरकार आग्रह गर्दछु रोजगारी अवसर सृजना देखी जनताको बचत भई आय बढ्न जाने यसले देशको अर्थतन्त्रमा टेवा पुग्नेछ बिश्वास दिलाउन   \n",
       "\n",
       "                                                                                                                                                                                                                                                                                                                                                                                                                                                                                                                                                                                                                                                                                                                                                                                                                                                                                                                                                                                                                                                                                                                                                                                                                                                                                                                                                                                                                                                                                                                                                                                                                                                                                                                                                                                                                                                                                                                                                                                                                                                                                                                                                                                    गुनासो vector  \n",
       "2276  [-0.5575556909087206, 0.048483285457506534, -0.39759182078061533, 0.24018686835760952, 0.5218854906785562, 0.022528575321079276, 0.4099859757898528, -0.020315524085699657, 0.2235205213264486, -0.45014991173444346, -0.17298254356376033, -0.13448355055307268, 0.1134532900912626, -0.05450314825751865, -0.34030126932947363, -0.0007222661382106484, 0.15598753142384353, 0.18059106329914, 0.2593483876314808, 0.37597755568109636, -0.3243665292698768, -0.17914651887735628, 0.4560517764757158, -0.5545579286933434, 0.6339174358261993, 0.0906432923273046, -0.08206351595304784, -0.3360787945051418, 0.2167053428768623, -0.28819084734671185, 0.2058741786730949, 0.30249075513317814, 0.21839369934903397, -0.14600122000756827, 0.08927028980411467, -0.3714951788336249, -0.3769477794622453, -0.25885840530135595, 0.2867521858491675, -0.4052717366835988, -0.5852522354050097, 0.5118952871922434, 0.1187257714737512, -0.42650604865620617, 0.07428862969009359, -0.17555879247298495, 0.21170520806517146, 0.6133956880858321, -0.4368875129732826, 0.3862721431841997, 0.3481921647507392, 0.27216599556831184, 0.0009110498654304958, 0.43326599864655585, 0.2376518089202095, 0.5639183030341615, 0.49610778851220844, 0.1920321396452787, -0.19337940211484178, 0.029581294532437793, 0.12723385487477004, 0.6044196450288911, -0.32193655922215003, -0.1715624537318945, 0.8678343258053828, -0.7709371899941662, -0.2175148818489225, -0.24992125916493232, -0.3390695402526572, -0.23403550906786236, -0.06251741145722202, 0.49961503363809867, 0.2191927874323408, 0.09114950814009568, -0.4062550839067238, -0.8641770883524393, -0.29130123088472204, -0.5758551436163424, 0.18714434243585976, 0.3891978285229597, 0.11531030077708611, 0.30900530998221004, 0.4638923809817824, 0.014439024863245546, 0.8400918174473966, -0.6049267996224712, 0.1689266203826324, 0.010915673727200169, -0.02225884946719667, -0.04836401098682622, 0.1533100636233194, 0.42447111154066736, -0.18186087719905267, -0.6326162913111878, -0.424230910959791, -0.6906783850100197, 0.15481218728465868, -0.14024300991794186, -0.2254728748249348, 0.549163097046224, ...]  "
      ]
     },
     "execution_count": 26,
     "metadata": {},
     "output_type": "execute_result"
    }
   ],
   "source": [
    "df_final['गुनासो vector'] = df_final['गुनासो'].apply(text_to_vector)\n",
    "df_final.sample(1)"
   ]
  },
  {
   "cell_type": "code",
   "execution_count": 27,
   "metadata": {},
   "outputs": [],
   "source": [
    "le = LabelEncoder()\n",
    "y = le.fit_transform(df_final['गुनासो वर्ग'])"
   ]
  },
  {
   "cell_type": "code",
   "execution_count": 28,
   "metadata": {},
   "outputs": [
    {
     "name": "stdout",
     "output_type": "stream",
     "text": [
      "Label Mapping:\n",
      "{'अर्थ सबन्धी ': 0, 'अर्थिक अनियमितता तथा भ्रष्टाचार सम्बन्धी ': 1, 'कर्मचारी सम्वन्धी ': 2, 'खानेपानी सम्बन्धी ': 3, 'प्राकृतिक श्रोत/साधन सम्बन्धी': 4, 'लागु पदार्थ सम्बन्धी ': 5, 'वेबसाइट तथा अभिलेख व्यवस्थापन सम्बन्धी ': 6, 'शान्ति सुरक्षा सम्बन्धी ': 7, 'सूचना तथा  संचार सम्बन्धी': 8, 'सोधपुछ, सुझाव, प्रशंसा सम्बन्धी': 9, 'स्वास्थ्यसँग सम्बन्धी': 10}\n"
     ]
    }
   ],
   "source": [
    "# Mapping between original labels and encoded values\n",
    "label_mapping = dict(zip(le.classes_, le.transform(le.classes_)))\n",
    "\n",
    "# Display the mapping\n",
    "print(\"Label Mapping:\")\n",
    "print(label_mapping)"
   ]
  },
  {
   "cell_type": "code",
   "execution_count": 29,
   "metadata": {},
   "outputs": [],
   "source": [
    "X = np.vstack(df_final['गुनासो vector'])"
   ]
  },
  {
   "cell_type": "code",
   "execution_count": 30,
   "metadata": {},
   "outputs": [],
   "source": [
    "X_train, X_test, y_train, y_test = train_test_split(X, y, test_size=0.2, random_state=42,stratify=y)\n"
   ]
  },
  {
   "cell_type": "code",
   "execution_count": 31,
   "metadata": {},
   "outputs": [
    {
     "name": "stdout",
     "output_type": "stream",
     "text": [
      "              precision    recall  f1-score   support\n",
      "\n",
      "           0       0.87      0.82      0.84       572\n",
      "           1       1.00      1.00      1.00       573\n",
      "           2       0.86      0.79      0.82       573\n",
      "           3       0.92      0.73      0.81       573\n",
      "           4       0.99      0.88      0.93       573\n",
      "           5       1.00      0.99      0.99       572\n",
      "           6       0.35      0.73      0.47       573\n",
      "           7       0.96      0.67      0.79       573\n",
      "           8       0.92      0.81      0.86       573\n",
      "           9       0.81      0.69      0.74       572\n",
      "          10       0.87      0.79      0.83       572\n",
      "\n",
      "    accuracy                           0.81      6299\n",
      "   macro avg       0.87      0.81      0.83      6299\n",
      "weighted avg       0.87      0.81      0.83      6299\n",
      "\n"
     ]
    }
   ],
   "source": [
    "# Initialize and train a Random Forest model\n",
    "rf_model = RandomForestClassifier(n_estimators=100, random_state=42)\n",
    "rf_model.fit(X_train, y_train)\n",
    "predictions = rf_model.predict(X_test)\n",
    "print(classification_report(y_test, predictions))\n"
   ]
  },
  {
   "cell_type": "code",
   "execution_count": 32,
   "metadata": {},
   "outputs": [
    {
     "data": {
      "text/plain": [
       "array(['खानेपानी सम्बन्धी '], dtype=object)"
      ]
     },
     "execution_count": 32,
     "metadata": {},
     "output_type": "execute_result"
    }
   ],
   "source": [
    "test_text='मेरो घर अगाडी सडक दुर्घटना भएको ले अबरुधा छ | बाटो कहिले बन्छ ?'\n",
    "preprocessed_text=preprocess_text(test_text)\n",
    "test_text_vector=text_to_vector(preprocessed_text)\n",
    "predicted_test_class=rf_model.predict([test_text_vector])\n",
    "# Decode the encoded data back to original labels\n",
    "decoded_data = le.inverse_transform(predicted_test_class)\n",
    "decoded_data"
   ]
  },
  {
   "cell_type": "code",
   "execution_count": 33,
   "metadata": {},
   "outputs": [],
   "source": [
    "import pickle\n",
    "with open(\"finalweb2vec.pkl\" ,'wb') as f:\n",
    "    pickle.dump(rf_model,f)"
   ]
  },
  {
   "cell_type": "code",
   "execution_count": 34,
   "metadata": {},
   "outputs": [],
   "source": [
    "# Load the Label Encoder\n",
    "with open('label_encoder.pkl', 'wb') as encoder_file:\n",
    "    pickle.dump(le,encoder_file)"
   ]
  },
  {
   "cell_type": "code",
   "execution_count": null,
   "metadata": {},
   "outputs": [],
   "source": []
  }
 ],
 "metadata": {
  "kernelspec": {
   "display_name": "Python 3 (ipykernel)",
   "language": "python",
   "name": "python3"
  },
  "language_info": {
   "codemirror_mode": {
    "name": "ipython",
    "version": 3
   },
   "file_extension": ".py",
   "mimetype": "text/x-python",
   "name": "python",
   "nbconvert_exporter": "python",
   "pygments_lexer": "ipython3",
   "version": "3.10.12"
  }
 },
 "nbformat": 4,
 "nbformat_minor": 2
}
