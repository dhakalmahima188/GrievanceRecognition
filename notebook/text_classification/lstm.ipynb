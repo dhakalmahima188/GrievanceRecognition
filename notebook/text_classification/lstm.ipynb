{
  "cells": [
    {
      "cell_type": "code",
      "execution_count": 4,
      "metadata": {
        "id": "N97cqZUnuIim"
      },
      "outputs": [],
      "source": [
        "import pandas as pd\n",
        "import numpy as np\n",
        "import re\n",
        "from sklearn.model_selection import train_test_split\n",
        "from sklearn.preprocessing import LabelEncoder\n",
        "from nltk.tokenize import word_tokenize\n",
        "from nltk.corpus import stopwords\n",
        "from gensim.models import Word2Vec\n",
        "from tensorflow.keras.models import Sequential\n",
        "from tensorflow.keras.layers import Embedding, LSTM, Dense, Bidirectional, Dropout\n",
        "from tensorflow.keras.preprocessing.text import Tokenizer\n",
        "from tensorflow.keras.preprocessing.sequence import pad_sequences"
      ]
    },
    {
      "cell_type": "code",
      "execution_count": 6,
      "metadata": {
        "colab": {
          "base_uri": "https://localhost:8080/"
        },
        "id": "sfUv6wcLuVR_",
        "outputId": "51c21871-df54-42ff-9d4e-13ee0e35d98d"
      },
      "outputs": [],
      "source": [
        "# from google.colab import drive\n",
        "# drive.mount('/content/drive')"
      ]
    },
    {
      "cell_type": "code",
      "execution_count": 7,
      "metadata": {
        "id": "oTEh6a67unjS"
      },
      "outputs": [],
      "source": [
        "df=pd.read_csv(\"final.csv\")"
      ]
    },
    {
      "cell_type": "code",
      "execution_count": 8,
      "metadata": {
        "colab": {
          "base_uri": "https://localhost:8080/"
        },
        "id": "he6xABi6vFhR",
        "outputId": "29b04103-7876-48a5-d7c8-5131af68bc00"
      },
      "outputs": [
        {
          "data": {
            "text/plain": [
              "category\n",
              "वेबसाइट तथा अभिलेख व्यवस्थापन सम्बन्धी      2849\n",
              "पार्किङ्ग तथा मेट्रो पुलिस                  1701\n",
              "सोधपुछ, सुझाव, प्रशंसा सम्बन्धी             1605\n",
              "कर्मचारी सम्वन्धी                           1337\n",
              "अर्थ सबन्धी                                  860\n",
              "खानेपानी                                     800\n",
              "स्वास्थ्यसँग सम्बन्धी                        694\n",
              "सूचना तथा संचार                              640\n",
              "शान्ति सुरक्षा                               634\n",
              "फोहोरमैला व्यवस्थापन                         630\n",
              "निर्माण कार्य सम्बन्धी                       605\n",
              "प्राकृतिक श्रोत/साधन सम्बन्धी                200\n",
              "लागु पदार्थ सम्बन्धी                         157\n",
              "अर्थिक अनियमितता तथा भ्रष्टाचार सम्बन्धी      71\n",
              "Name: count, dtype: int64"
            ]
          },
          "execution_count": 8,
          "metadata": {},
          "output_type": "execute_result"
        }
      ],
      "source": [
        "df['category'].value_counts()"
      ]
    },
    {
      "cell_type": "code",
      "execution_count": 9,
      "metadata": {
        "id": "CNhnDZ4RzlXU"
      },
      "outputs": [],
      "source": [
        "categories = [\n",
        "    \"वेबसाइट तथा अभिलेख व्यवस्थापन सम्बन्धी\",\n",
        "    \"पार्किङ्ग तथा मेट्रो पुलिस\",\n",
        "    \"सोधपुछ, सुझाव, प्रशंसा सम्बन्धी\",\n",
        "    \"कर्मचारी सम्वन्धी\",\n",
        "    \"खानेपानी\",\n",
        "    \"अर्थ सबन्धी\",\n",
        "    \"शान्ति सुरक्षा\",\n",
        "    \"स्वास्थ्यसँग सम्बन्धी\",\n",
        "    \"सूचना तथा संचार\",\n",
        "    \"फोहोरमैला व्यवस्थापन\",\n",
        "    \"निर्माण कार्य सम्बन्धी\",\n",
        "    \"प्राकृतिक श्रोत/साधन सम्बन्धी\",\n",
        "    \"लागु पदार्थ सम्बन्धी\",\n",
        "    \"अर्थिक अनियमितता तथा भ्रष्टाचार सम्बन्धी\"\n",
        "]\n"
      ]
    },
    {
      "cell_type": "code",
      "execution_count": 10,
      "metadata": {
        "id": "la5k6SBbuIiq"
      },
      "outputs": [],
      "source": [
        "\n",
        "df_final = pd.DataFrame()  # Initialize an empty DataFrame to hold the final result\n",
        "\n",
        "for category in categories:\n",
        "    # Select rows matching the current category\n",
        "    temp_df = df[df['category'] == category]\n",
        "\n",
        "    # If the category requires sampling, perform sampling; otherwise, proceed as is\n",
        "    if category != 'वेबसाइट तथा अभिलेख व्यवस्थापन सम्बन्धी':  # Adjust this condition as needed\n",
        "        temp_df = temp_df.sample(2863, replace=True).reset_index(drop=True)\n",
        "\n",
        "    df_final = pd.concat([df_final, temp_df], axis=0)\n",
        "\n",
        "# Optionally, reset the index of the final DataFrame\n",
        "df_final = df_final.reset_index(drop=True)\n"
      ]
    },
    {
      "cell_type": "code",
      "execution_count": 11,
      "metadata": {
        "colab": {
          "base_uri": "https://localhost:8080/"
        },
        "id": "VY-itGPSd03t",
        "outputId": "a2273bf7-40a9-436a-e2bc-71e55ae247a4"
      },
      "outputs": [
        {
          "data": {
            "text/plain": [
              "category                                  complain                                                                                                                                                                                                                                                                                                                                                                                                                                                                                                                                                                                                                                                                                                                                                                                                                                                                                                                                               \n",
              "अर्थिक अनियमितता तथा भ्रष्टाचार सम्बन्धी  वडा प्रहरी कार्यालय नेपालगन्जका सइ शरण भण्डारी अवैध असुली धन्दाका नाइके बनेका छन् । दादागिरी शैलीमा सर्वसाधरणलाई धम्क्याउने र थर्काउने गरेका भण्डारीले अवैध असुलीलाई तीब्र बनाएका छन् । \\n\\nसानालाई धम्क्याउने र ठूलाबाट मोटो रकम असुल्ने गरेको छ । जैसपुरमा भारतबाट अवैध सामान भित्र्याउने कार्यमा उनले ठूलो भूमिका निभाएका थिए । त्यहाँबाट मोटो रकम लिएको खुलेको छ । योभन्दा अघि उनी कम्दीमा काठ तस्करसँग मिलेर असुली कार्यमा खटिएका थिए । \\n\\nशान्ति सुरक्षा र अवैध कार्य रोक्ने कसम खाएका भण्डारी आफैं अवैध असुलीमा लिप्त भएका छन् । यहाँसम्मकी अहिले पनि नगर भरी अवैध असुलीमा खटिएका छन् । वडा प्रहरी आसपासमा पार्किङमा राखिएको मोटरसाइकलवालासँग समेत उनले पैसा लिने गरेको छ । सकेसम्म पैसा दिन आग्रह गर्ने र नभए मोवाइलको रिचार्ज माग्ने गरेका छन् । \\n\\nनदिए दादागिरी शैलीमा थर्काउँदै हिड्ने गरेका छन् । दैलेख निवासी उनी पावर लगाएर कमाउ हुने क्षेत्रमा मात्र जाने गरेका छन् । उनको असुली धन्दाबारे वडा कार्यालयकै प्रहरी समेत आजित भएका छन् ।    56\n",
              "                                          १० नं गण सर्लाहीका एसपी बिनोद राज श्रेष्ठले सई प्रमोद सिंहलाई घुमुवाको रुपमा परिचालन गरि खुलेआम तस्करहरु सँग रकम असुली गरेको भन्ने ब्यहोराको गुनासो प्राप्त                                                                                                                                                                                                                                                                                                                                                                                                                                                                                                                                                                                                                                                                                                                                                                                                53\n",
              "                                          मालपोत कार्यालय परासि का सम्पुर्ण कर्मचारी कै मिलाेमताेमा धुस लेनदेन खुल्ला रुपमा हुने गरेकाे र धुस बिना कुनै पनि काम गर्न नमान्ने गरेकाे देखिएको छ । कर्मचारी ल लेखन्दासकाे मिलाेमताेमा धुस लेनदेन हुने गरेकाे छ । एउटा जग्गा पास गर्दा ५००० सम्म भित्रै बुझाउनुपर्ने भएपछि लेखापडि ब्यबसायी ले सेवाग्राहि संग १०००० सम्म लिने गरेका छन् र एउटा राेक्का मात्रै गर्दा सेवाग्राहि ले ५००० सम्म खर्च गर्ने गरेका छन् । अ्न्य अंशबण्डा बापत त ५०००० पचास हजार सम्म भित्त्र बुझाउनुपर्ने बाध्यता सेवाग्राहि काे रहेकाे छ ।                                                                                                                                                                                                                                                                                                                                                                                                                                     53\n",
              "                                          प्रहरी चौकी कुशेश्वर दुम्जाको प्रहरी हरुले बिपि राजमार्गमा राती ७:०० बजे देखि बिहान ५:०० सम्म मात्र ट्रक टिप्पर चल्न पाउने नियम टेकेर स्थानीय एरिया 2/3 किलोमीटर कटे पछि रामेछाप पुग्ने प्रत्येक गाडीहरूबाट आउँदा जादा १००/200 असुली गरिरहेको छ । सबै कागज पत्र ठिक हुदा पनि पैसा लिन छोडदैन। ट्राफिक प्रहरी पनि छ बिहान बेलुका बस्छ भेट्यो भने जरिवाना काट्छ। प्रहरी मात्र भाको बेला 100/200 नदिकन जान दिदैन                                                                                                                                                                                                                                                                                                                                                                                                                                                                                                                                              52\n",
              "                                          कर चुक्ता लिन जादा प्रती कर चुक्ता 2000 नभइ कर चुक्ता प्रमाणपत्र नदिने                                                                                                                                                                                                                                                                                                                                                                                                                                                                                                                                                                                                                                                                                                                                                                                                                                                                                     51\n",
              "                                                                                                                                                                                                                                                                                                                                                                                                                                                                                                                                                                                                                                                                                                                                                                                                                                                                                                                                                                                                     ..\n",
              "वेबसाइट तथा अभिलेख व्यवस्थापन सम्बन्धी    मेरो नागरिकको रेकर्ड गृह मन्त्रालय मा भयन किन हो .50559                                                                                                                                                                                                                                                                                                                                                                                                                                                                                                                                                                                                                                                                                                                                                                                                                                                                                                     1\n",
              "                                          मेरो नागरिक लगानी कोषको,data देखाउँदैन यो एप्समा किन होला? र मेरो सञ्च कोषको data update भइरहा छैन। त्यो पनि सच्याई दिनु होला                                                                                                                                                                                                                                                                                                                                                                                                                                                                                                                                                                                                                                                                                                                                                                                                                               1\n",
              "                                          मेरो नागरिक लगानी कोषको नंबर नागरिक लगानी कोषमा भेटिएन भन्छ सिस्टम अपडेट गर्न सकिन्छ होला की नंबर यसप्रकार छ ६१४३१९५                                                                                                                                                                                                                                                                                                                                                                                                                                                                                                                                                                                                                                                                                                                                                                                                                                        1\n",
              "                                          मेरो नागरिक लगानी कोष परिचय पत्र नं ६१५९५९३ हो। तर नागरिक एपमा भेटिएन देखाउँछ।                                                                                                                                                                                                                                                                                                                                                                                                                                                                                                                                                                                                                                                                                                                                                                                                                                                                              1\n",
              "                                          जन्म मिति स्क्रोलिङ न्हुने सिधै टाइप गर्ने सुबिधा छैन                                                                                                                                                                                                                                                                                                                                                                                                                                                                                                                                                                                                                                                                                                                                                                                                                                                                                                       1\n",
              "Name: count, Length: 11277, dtype: int64"
            ]
          },
          "execution_count": 11,
          "metadata": {},
          "output_type": "execute_result"
        }
      ],
      "source": [
        "df_final.value_counts()"
      ]
    },
    {
      "cell_type": "code",
      "execution_count": 12,
      "metadata": {
        "colab": {
          "base_uri": "https://localhost:8080/"
        },
        "id": "dDz0R18c1ezj",
        "outputId": "9d74731f-01f6-4bcb-c6b4-104a69fc213c"
      },
      "outputs": [
        {
          "name": "stderr",
          "output_type": "stream",
          "text": [
            "[nltk_data] Downloading package stopwords to /home/mahima/nltk_data...\n",
            "[nltk_data]   Package stopwords is already up-to-date!\n"
          ]
        },
        {
          "data": {
            "text/plain": [
              "True"
            ]
          },
          "execution_count": 12,
          "metadata": {},
          "output_type": "execute_result"
        }
      ],
      "source": [
        "import nltk\n",
        "nltk.download('stopwords')"
      ]
    },
    {
      "cell_type": "code",
      "execution_count": 13,
      "metadata": {
        "colab": {
          "base_uri": "https://localhost:8080/"
        },
        "id": "EE-yi96x1eQ4",
        "outputId": "4109a71e-c9f2-4108-a182-f8169683cc63"
      },
      "outputs": [
        {
          "name": "stderr",
          "output_type": "stream",
          "text": [
            "[nltk_data] Downloading package stopwords to /home/mahima/nltk_data...\n",
            "[nltk_data]   Package stopwords is already up-to-date!\n"
          ]
        },
        {
          "data": {
            "text/plain": [
              "True"
            ]
          },
          "execution_count": 13,
          "metadata": {},
          "output_type": "execute_result"
        }
      ],
      "source": [
        "nltk.download('stopwords')"
      ]
    },
    {
      "cell_type": "code",
      "execution_count": 14,
      "metadata": {
        "colab": {
          "base_uri": "https://localhost:8080/"
        },
        "id": "VY3NXsfr1R2i",
        "outputId": "8dccff7e-9b8b-422e-a66a-422c5d0e7320"
      },
      "outputs": [
        {
          "name": "stdout",
          "output_type": "stream",
          "text": [
            "['i', 'me', 'my', 'myself', 'we', 'our', 'ours', 'ourselves', 'you', \"you're\", \"you've\", \"you'll\", \"you'd\", 'your', 'yours', 'yourself', 'yourselves', 'he', 'him', 'his', 'himself', 'she', \"she's\", 'her', 'hers', 'herself', 'it', \"it's\", 'its', 'itself', 'they', 'them', 'their', 'theirs', 'themselves', 'what', 'which', 'who', 'whom', 'this', 'that', \"that'll\", 'these', 'those', 'am', 'is', 'are', 'was', 'were', 'be', 'been', 'being', 'have', 'has', 'had', 'having', 'do', 'does', 'did', 'doing', 'a', 'an', 'the', 'and', 'but', 'if', 'or', 'because', 'as', 'until', 'while', 'of', 'at', 'by', 'for', 'with', 'about', 'against', 'between', 'into', 'through', 'during', 'before', 'after', 'above', 'below', 'to', 'from', 'up', 'down', 'in', 'out', 'on', 'off', 'over', 'under', 'again', 'further', 'then', 'once', 'here', 'there', 'when', 'where', 'why', 'how', 'all', 'any', 'both', 'each', 'few', 'more', 'most', 'other', 'some', 'such', 'no', 'nor', 'not', 'only', 'own', 'same', 'so', 'than', 'too', 'very', 's', 't', 'can', 'will', 'just', 'don', \"don't\", 'should', \"should've\", 'now', 'd', 'll', 'm', 'o', 're', 've', 'y', 'ain', 'aren', \"aren't\", 'couldn', \"couldn't\", 'didn', \"didn't\", 'doesn', \"doesn't\", 'hadn', \"hadn't\", 'hasn', \"hasn't\", 'haven', \"haven't\", 'isn', \"isn't\", 'ma', 'mightn', \"mightn't\", 'mustn', \"mustn't\", 'needn', \"needn't\", 'shan', \"shan't\", 'shouldn', \"shouldn't\", 'wasn', \"wasn't\", 'weren', \"weren't\", 'won', \"won't\", 'wouldn', \"wouldn't\"]\n"
          ]
        }
      ],
      "source": [
        "from nltk.corpus import stopwords\n",
        "\n",
        "stop_words = stopwords.words('english')  # For English stopwords\n",
        "print(stop_words)  # This will print the list of English stopwords\n"
      ]
    },
    {
      "cell_type": "code",
      "execution_count": 15,
      "metadata": {
        "colab": {
          "base_uri": "https://localhost:8080/"
        },
        "id": "DrIkK7z-1_xd",
        "outputId": "44ef796d-735d-4966-a665-c56907007573"
      },
      "outputs": [
        {
          "name": "stderr",
          "output_type": "stream",
          "text": [
            "[nltk_data] Downloading package punkt to /home/mahima/nltk_data...\n",
            "[nltk_data]   Package punkt is already up-to-date!\n"
          ]
        },
        {
          "data": {
            "text/plain": [
              "True"
            ]
          },
          "execution_count": 15,
          "metadata": {},
          "output_type": "execute_result"
        }
      ],
      "source": [
        "nltk.download('punkt')"
      ]
    },
    {
      "cell_type": "code",
      "execution_count": 16,
      "metadata": {
        "id": "1CsoBkmhuIir"
      },
      "outputs": [],
      "source": [
        "# Data Preprocessing\n",
        "nepali_stopwords = set(stopwords.words('nepali'))\n",
        "english_stopwords = set(stopwords.words('english'))\n",
        "def preprocess_text(text):\n",
        "    text = text.lower()\n",
        "    text = re.sub('[#\\\\/।(),०-९<<?!,—–’‘:\\u200d]', '', text)\n",
        "    text = text.strip('\"')\n",
        "    words = word_tokenize(text)\n",
        "    filtered_words = [word for word in words if word.lower() not in nepali_stopwords and word.lower() not in english_stopwords]\n",
        "    processed_text = ' '.join(filtered_words)\n",
        "    return processed_text\n",
        "\n",
        "df_final['complain'] = df_final['complain'].apply(preprocess_text)"
      ]
    },
    {
      "cell_type": "code",
      "execution_count": 17,
      "metadata": {
        "id": "BzbNrZ4iuIis"
      },
      "outputs": [],
      "source": [
        "# Encoding Labels\n",
        "le = LabelEncoder()\n",
        "df_final['label_encoded'] = le.fit_transform(df_final['category'])\n"
      ]
    },
    {
      "cell_type": "code",
      "execution_count": 18,
      "metadata": {
        "id": "NCv5DRx6uIis"
      },
      "outputs": [],
      "source": [
        "# Split the dataset into training and testing sets\n",
        "train_data, test_data = train_test_split(df_final, test_size=0.2, stratify=df_final['label_encoded'], random_state=42)\n"
      ]
    },
    {
      "cell_type": "code",
      "execution_count": 19,
      "metadata": {
        "id": "MzvualRWuIis"
      },
      "outputs": [],
      "source": [
        "# Tokenize the text data\n",
        "max_words = 10000\n",
        "max_length = 100\n",
        "tokenizer = Tokenizer(num_words=max_words, oov_token='<OOV>')\n",
        "tokenizer.fit_on_texts(train_data['complain'])"
      ]
    },
    {
      "cell_type": "code",
      "execution_count": 20,
      "metadata": {
        "id": "YN9mvtYEuIit"
      },
      "outputs": [],
      "source": [
        "train_sequences = tokenizer.texts_to_sequences(train_data['complain'])\n",
        "test_sequences = tokenizer.texts_to_sequences(test_data['complain'])"
      ]
    },
    {
      "cell_type": "code",
      "execution_count": 21,
      "metadata": {
        "id": "Fcw4uay7uIit"
      },
      "outputs": [],
      "source": [
        "train_padded = pad_sequences(train_sequences, maxlen=max_length, padding='post', truncating='post')\n",
        "test_padded = pad_sequences(test_sequences, maxlen=max_length, padding='post', truncating='post')"
      ]
    },
    {
      "cell_type": "code",
      "execution_count": 22,
      "metadata": {
        "id": "69u5SliNuIit"
      },
      "outputs": [],
      "source": [
        "# Load your pre-trained Nepali Word2Vec model\n",
        "word2vec_model_path = \"nepaliW2V_5Million.model\"\n",
        "word2vec_model = Word2Vec.load(word2vec_model_path)"
      ]
    },
    {
      "cell_type": "code",
      "execution_count": 23,
      "metadata": {
        "id": "KOkdMUzsuIit"
      },
      "outputs": [],
      "source": [
        "# Create an embedding matrix\n",
        "embedding_dim = word2vec_model.vector_size\n",
        "embedding_matrix = np.zeros((max_words, embedding_dim))\n",
        "for word, i in tokenizer.word_index.items():\n",
        "    if i < max_words and word in word2vec_model.wv:\n",
        "\n",
        "        embedding_matrix[i] = word2vec_model.wv[word]"
      ]
    },
    {
      "cell_type": "code",
      "execution_count": 34,
      "metadata": {},
      "outputs": [
        {
          "ename": "ValueError",
          "evalue": "Unrecognized keyword arguments passed to Embedding: {'weights': [array([[ 0.        ,  0.        ,  0.        , ...,  0.        ,\n         0.        ,  0.        ],\n       [ 0.        ,  0.        ,  0.        , ...,  0.        ,\n         0.        ,  0.        ],\n       [-0.63166529,  2.65925193,  0.42217514, ...,  2.75199866,\n         0.10301337,  1.53261209],\n       ...,\n       [ 0.        ,  0.        ,  0.        , ...,  0.        ,\n         0.        ,  0.        ],\n       [ 0.        ,  0.        ,  0.        , ...,  0.        ,\n         0.        ,  0.        ],\n       [ 0.25169644,  0.25050384, -0.34147123, ...,  0.26978901,\n         0.1584765 ,  0.379031  ]])]}",
          "output_type": "error",
          "traceback": [
            "\u001b[0;31m---------------------------------------------------------------------------\u001b[0m",
            "\u001b[0;31mValueError\u001b[0m                                Traceback (most recent call last)",
            "Cell \u001b[0;32mIn[34], line 8\u001b[0m\n\u001b[1;32m      5\u001b[0m embedding_dim \u001b[38;5;241m=\u001b[39m \u001b[38;5;241m100\u001b[39m  \u001b[38;5;66;03m# Or whatever size your Word2Vec embeddings are\u001b[39;00m\n\u001b[1;32m      7\u001b[0m model \u001b[38;5;241m=\u001b[39m Sequential()\n\u001b[0;32m----> 8\u001b[0m model\u001b[38;5;241m.\u001b[39madd(\u001b[43mEmbedding\u001b[49m\u001b[43m(\u001b[49m\u001b[43minput_dim\u001b[49m\u001b[38;5;241;43m=\u001b[39;49m\u001b[43mvocab_size\u001b[49m\u001b[43m,\u001b[49m\u001b[43m \u001b[49m\u001b[43moutput_dim\u001b[49m\u001b[38;5;241;43m=\u001b[39;49m\u001b[43membedding_dim\u001b[49m\u001b[43m,\u001b[49m\u001b[43m \u001b[49m\u001b[43mweights\u001b[49m\u001b[38;5;241;43m=\u001b[39;49m\u001b[43m[\u001b[49m\u001b[43membedding_matrix\u001b[49m\u001b[43m]\u001b[49m\u001b[43m,\u001b[49m\u001b[43m \u001b[49m\u001b[43mtrainable\u001b[49m\u001b[38;5;241;43m=\u001b[39;49m\u001b[38;5;28;43;01mFalse\u001b[39;49;00m\u001b[43m)\u001b[49m)\n\u001b[1;32m      9\u001b[0m model\u001b[38;5;241m.\u001b[39madd(LSTM(units\u001b[38;5;241m=\u001b[39m\u001b[38;5;241m100\u001b[39m, return_sequences\u001b[38;5;241m=\u001b[39m\u001b[38;5;28;01mFalse\u001b[39;00m))  \u001b[38;5;66;03m# Adjust according to your needs\u001b[39;00m\n\u001b[1;32m     10\u001b[0m model\u001b[38;5;241m.\u001b[39madd(Dense(units\u001b[38;5;241m=\u001b[39m\u001b[38;5;28mlen\u001b[39m(np\u001b[38;5;241m.\u001b[39munique(y)), activation\u001b[38;5;241m=\u001b[39m\u001b[38;5;124m'\u001b[39m\u001b[38;5;124msoftmax\u001b[39m\u001b[38;5;124m'\u001b[39m))  \u001b[38;5;66;03m# Assuming `y` is your label array\u001b[39;00m\n",
            "File \u001b[0;32m~/Documents/GrievanceRecognition/venv/lib/python3.10/site-packages/keras/src/layers/core/embedding.py:89\u001b[0m, in \u001b[0;36mEmbedding.__init__\u001b[0;34m(self, input_dim, output_dim, embeddings_initializer, embeddings_regularizer, embeddings_constraint, mask_zero, lora_rank, **kwargs)\u001b[0m\n\u001b[1;32m     85\u001b[0m \u001b[38;5;28;01mif\u001b[39;00m input_length \u001b[38;5;129;01mis\u001b[39;00m \u001b[38;5;129;01mnot\u001b[39;00m \u001b[38;5;28;01mNone\u001b[39;00m:\n\u001b[1;32m     86\u001b[0m     warnings\u001b[38;5;241m.\u001b[39mwarn(\n\u001b[1;32m     87\u001b[0m         \u001b[38;5;124m\"\u001b[39m\u001b[38;5;124mArgument `input_length` is deprecated. Just remove it.\u001b[39m\u001b[38;5;124m\"\u001b[39m\n\u001b[1;32m     88\u001b[0m     )\n\u001b[0;32m---> 89\u001b[0m \u001b[38;5;28;43msuper\u001b[39;49m\u001b[43m(\u001b[49m\u001b[43m)\u001b[49m\u001b[38;5;241;43m.\u001b[39;49m\u001b[38;5;21;43m__init__\u001b[39;49m\u001b[43m(\u001b[49m\u001b[38;5;241;43m*\u001b[39;49m\u001b[38;5;241;43m*\u001b[39;49m\u001b[43mkwargs\u001b[49m\u001b[43m)\u001b[49m\n\u001b[1;32m     90\u001b[0m \u001b[38;5;28mself\u001b[39m\u001b[38;5;241m.\u001b[39minput_dim \u001b[38;5;241m=\u001b[39m input_dim\n\u001b[1;32m     91\u001b[0m \u001b[38;5;28mself\u001b[39m\u001b[38;5;241m.\u001b[39moutput_dim \u001b[38;5;241m=\u001b[39m output_dim\n",
            "File \u001b[0;32m~/Documents/GrievanceRecognition/venv/lib/python3.10/site-packages/keras/src/layers/layer.py:263\u001b[0m, in \u001b[0;36mLayer.__init__\u001b[0;34m(self, activity_regularizer, trainable, dtype, autocast, name, **kwargs)\u001b[0m\n\u001b[1;32m    261\u001b[0m     \u001b[38;5;28mself\u001b[39m\u001b[38;5;241m.\u001b[39m_input_shape_arg \u001b[38;5;241m=\u001b[39m input_shape_arg\n\u001b[1;32m    262\u001b[0m \u001b[38;5;28;01mif\u001b[39;00m kwargs:\n\u001b[0;32m--> 263\u001b[0m     \u001b[38;5;28;01mraise\u001b[39;00m \u001b[38;5;167;01mValueError\u001b[39;00m(\n\u001b[1;32m    264\u001b[0m         \u001b[38;5;124m\"\u001b[39m\u001b[38;5;124mUnrecognized keyword arguments \u001b[39m\u001b[38;5;124m\"\u001b[39m\n\u001b[1;32m    265\u001b[0m         \u001b[38;5;124mf\u001b[39m\u001b[38;5;124m\"\u001b[39m\u001b[38;5;124mpassed to \u001b[39m\u001b[38;5;132;01m{\u001b[39;00m\u001b[38;5;28mself\u001b[39m\u001b[38;5;241m.\u001b[39m\u001b[38;5;18m__class__\u001b[39m\u001b[38;5;241m.\u001b[39m\u001b[38;5;18m__name__\u001b[39m\u001b[38;5;132;01m}\u001b[39;00m\u001b[38;5;124m: \u001b[39m\u001b[38;5;132;01m{\u001b[39;00mkwargs\u001b[38;5;132;01m}\u001b[39;00m\u001b[38;5;124m\"\u001b[39m\n\u001b[1;32m    266\u001b[0m     )\n\u001b[1;32m    268\u001b[0m \u001b[38;5;28mself\u001b[39m\u001b[38;5;241m.\u001b[39mbuilt \u001b[38;5;241m=\u001b[39m \u001b[38;5;28;01mFalse\u001b[39;00m\n\u001b[1;32m    269\u001b[0m \u001b[38;5;28mself\u001b[39m\u001b[38;5;241m.\u001b[39mautocast \u001b[38;5;241m=\u001b[39m autocast\n",
            "\u001b[0;31mValueError\u001b[0m: Unrecognized keyword arguments passed to Embedding: {'weights': [array([[ 0.        ,  0.        ,  0.        , ...,  0.        ,\n         0.        ,  0.        ],\n       [ 0.        ,  0.        ,  0.        , ...,  0.        ,\n         0.        ,  0.        ],\n       [-0.63166529,  2.65925193,  0.42217514, ...,  2.75199866,\n         0.10301337,  1.53261209],\n       ...,\n       [ 0.        ,  0.        ,  0.        , ...,  0.        ,\n         0.        ,  0.        ],\n       [ 0.        ,  0.        ,  0.        , ...,  0.        ,\n         0.        ,  0.        ],\n       [ 0.25169644,  0.25050384, -0.34147123, ...,  0.26978901,\n         0.1584765 ,  0.379031  ]])]}"
          ]
        }
      ],
      "source": [
        "from tensorflow.keras.models import Sequential\n",
        "from tensorflow.keras.layers import Embedding, LSTM, Dense\n",
        "\n",
        "vocab_size = max_words + 1  # Assuming `max_words` is your vocabulary size\n",
        "embedding_dim = 100  # Or whatever size your Word2Vec embeddings are\n",
        "\n",
        "model = Sequential()\n",
        "model.add(Embedding(input_dim=vocab_size, output_dim=embedding_dim, weights=[embedding_matrix], trainable=False))\n",
        "model.add(LSTM(units=100, return_sequences=False))  # Adjust according to your needs\n",
        "model.add(Dense(units=len(np.unique(y)), activation='softmax'))  # Assuming `y` is your label array\n",
        "\n",
        "model.compile(optimizer='adam', loss='sparse_categorical_crossentropy', metrics=['accuracy'])\n"
      ]
    },
    {
      "cell_type": "code",
      "execution_count": 27,
      "metadata": {
        "id": "eAiBaH8tuIiu"
      },
      "outputs": [
        {
          "ename": "ValueError",
          "evalue": "Unrecognized keyword arguments passed to Embedding: {'weights': [array([[ 0.        ,  0.        ,  0.        , ...,  0.        ,\n         0.        ,  0.        ],\n       [ 0.        ,  0.        ,  0.        , ...,  0.        ,\n         0.        ,  0.        ],\n       [-0.63166529,  2.65925193,  0.42217514, ...,  2.75199866,\n         0.10301337,  1.53261209],\n       ...,\n       [ 0.        ,  0.        ,  0.        , ...,  0.        ,\n         0.        ,  0.        ],\n       [ 0.        ,  0.        ,  0.        , ...,  0.        ,\n         0.        ,  0.        ],\n       [ 0.25169644,  0.25050384, -0.34147123, ...,  0.26978901,\n         0.1584765 ,  0.379031  ]])]}",
          "output_type": "error",
          "traceback": [
            "\u001b[0;31m---------------------------------------------------------------------------\u001b[0m",
            "\u001b[0;31mValueError\u001b[0m                                Traceback (most recent call last)",
            "Cell \u001b[0;32mIn[27], line 4\u001b[0m\n\u001b[1;32m      2\u001b[0m lstm_units\u001b[38;5;241m=\u001b[39m\u001b[38;5;241m100\u001b[39m\n\u001b[1;32m      3\u001b[0m model \u001b[38;5;241m=\u001b[39m Sequential()\n\u001b[0;32m----> 4\u001b[0m model\u001b[38;5;241m.\u001b[39madd(\u001b[43mEmbedding\u001b[49m\u001b[43m(\u001b[49m\u001b[43minput_dim\u001b[49m\u001b[38;5;241;43m=\u001b[39;49m\u001b[43mmax_words\u001b[49m\u001b[43m,\u001b[49m\u001b[43m \u001b[49m\u001b[43moutput_dim\u001b[49m\u001b[38;5;241;43m=\u001b[39;49m\u001b[43membedding_dim\u001b[49m\u001b[43m,\u001b[49m\u001b[43m \u001b[49m\u001b[43mweights\u001b[49m\u001b[38;5;241;43m=\u001b[39;49m\u001b[43m[\u001b[49m\u001b[43membedding_matrix\u001b[49m\u001b[43m]\u001b[49m\u001b[43m,\u001b[49m\u001b[43m \u001b[49m\u001b[43mtrainable\u001b[49m\u001b[38;5;241;43m=\u001b[39;49m\u001b[38;5;28;43;01mFalse\u001b[39;49;00m\u001b[43m)\u001b[49m)\n\u001b[1;32m      5\u001b[0m model\u001b[38;5;241m.\u001b[39madd(LSTM(units\u001b[38;5;241m=\u001b[39mlstm_units, dropout\u001b[38;5;241m=\u001b[39m\u001b[38;5;241m0.2\u001b[39m, recurrent_dropout\u001b[38;5;241m=\u001b[39m\u001b[38;5;241m0.2\u001b[39m))\n\u001b[1;32m      6\u001b[0m model\u001b[38;5;241m.\u001b[39madd(Dense(units\u001b[38;5;241m=\u001b[39m\u001b[38;5;28mlen\u001b[39m(np\u001b[38;5;241m.\u001b[39munique(df_final[\u001b[38;5;124m'\u001b[39m\u001b[38;5;124mlabel_encoded\u001b[39m\u001b[38;5;124m'\u001b[39m])), activation\u001b[38;5;241m=\u001b[39m\u001b[38;5;124m'\u001b[39m\u001b[38;5;124msoftmax\u001b[39m\u001b[38;5;124m'\u001b[39m))\n",
            "File \u001b[0;32m~/Documents/GrievanceRecognition/venv/lib/python3.10/site-packages/keras/src/layers/core/embedding.py:89\u001b[0m, in \u001b[0;36mEmbedding.__init__\u001b[0;34m(self, input_dim, output_dim, embeddings_initializer, embeddings_regularizer, embeddings_constraint, mask_zero, lora_rank, **kwargs)\u001b[0m\n\u001b[1;32m     85\u001b[0m \u001b[38;5;28;01mif\u001b[39;00m input_length \u001b[38;5;129;01mis\u001b[39;00m \u001b[38;5;129;01mnot\u001b[39;00m \u001b[38;5;28;01mNone\u001b[39;00m:\n\u001b[1;32m     86\u001b[0m     warnings\u001b[38;5;241m.\u001b[39mwarn(\n\u001b[1;32m     87\u001b[0m         \u001b[38;5;124m\"\u001b[39m\u001b[38;5;124mArgument `input_length` is deprecated. Just remove it.\u001b[39m\u001b[38;5;124m\"\u001b[39m\n\u001b[1;32m     88\u001b[0m     )\n\u001b[0;32m---> 89\u001b[0m \u001b[38;5;28;43msuper\u001b[39;49m\u001b[43m(\u001b[49m\u001b[43m)\u001b[49m\u001b[38;5;241;43m.\u001b[39;49m\u001b[38;5;21;43m__init__\u001b[39;49m\u001b[43m(\u001b[49m\u001b[38;5;241;43m*\u001b[39;49m\u001b[38;5;241;43m*\u001b[39;49m\u001b[43mkwargs\u001b[49m\u001b[43m)\u001b[49m\n\u001b[1;32m     90\u001b[0m \u001b[38;5;28mself\u001b[39m\u001b[38;5;241m.\u001b[39minput_dim \u001b[38;5;241m=\u001b[39m input_dim\n\u001b[1;32m     91\u001b[0m \u001b[38;5;28mself\u001b[39m\u001b[38;5;241m.\u001b[39moutput_dim \u001b[38;5;241m=\u001b[39m output_dim\n",
            "File \u001b[0;32m~/Documents/GrievanceRecognition/venv/lib/python3.10/site-packages/keras/src/layers/layer.py:263\u001b[0m, in \u001b[0;36mLayer.__init__\u001b[0;34m(self, activity_regularizer, trainable, dtype, autocast, name, **kwargs)\u001b[0m\n\u001b[1;32m    261\u001b[0m     \u001b[38;5;28mself\u001b[39m\u001b[38;5;241m.\u001b[39m_input_shape_arg \u001b[38;5;241m=\u001b[39m input_shape_arg\n\u001b[1;32m    262\u001b[0m \u001b[38;5;28;01mif\u001b[39;00m kwargs:\n\u001b[0;32m--> 263\u001b[0m     \u001b[38;5;28;01mraise\u001b[39;00m \u001b[38;5;167;01mValueError\u001b[39;00m(\n\u001b[1;32m    264\u001b[0m         \u001b[38;5;124m\"\u001b[39m\u001b[38;5;124mUnrecognized keyword arguments \u001b[39m\u001b[38;5;124m\"\u001b[39m\n\u001b[1;32m    265\u001b[0m         \u001b[38;5;124mf\u001b[39m\u001b[38;5;124m\"\u001b[39m\u001b[38;5;124mpassed to \u001b[39m\u001b[38;5;132;01m{\u001b[39;00m\u001b[38;5;28mself\u001b[39m\u001b[38;5;241m.\u001b[39m\u001b[38;5;18m__class__\u001b[39m\u001b[38;5;241m.\u001b[39m\u001b[38;5;18m__name__\u001b[39m\u001b[38;5;132;01m}\u001b[39;00m\u001b[38;5;124m: \u001b[39m\u001b[38;5;132;01m{\u001b[39;00mkwargs\u001b[38;5;132;01m}\u001b[39;00m\u001b[38;5;124m\"\u001b[39m\n\u001b[1;32m    266\u001b[0m     )\n\u001b[1;32m    268\u001b[0m \u001b[38;5;28mself\u001b[39m\u001b[38;5;241m.\u001b[39mbuilt \u001b[38;5;241m=\u001b[39m \u001b[38;5;28;01mFalse\u001b[39;00m\n\u001b[1;32m    269\u001b[0m \u001b[38;5;28mself\u001b[39m\u001b[38;5;241m.\u001b[39mautocast \u001b[38;5;241m=\u001b[39m autocast\n",
            "\u001b[0;31mValueError\u001b[0m: Unrecognized keyword arguments passed to Embedding: {'weights': [array([[ 0.        ,  0.        ,  0.        , ...,  0.        ,\n         0.        ,  0.        ],\n       [ 0.        ,  0.        ,  0.        , ...,  0.        ,\n         0.        ,  0.        ],\n       [-0.63166529,  2.65925193,  0.42217514, ...,  2.75199866,\n         0.10301337,  1.53261209],\n       ...,\n       [ 0.        ,  0.        ,  0.        , ...,  0.        ,\n         0.        ,  0.        ],\n       [ 0.        ,  0.        ,  0.        , ...,  0.        ,\n         0.        ,  0.        ],\n       [ 0.25169644,  0.25050384, -0.34147123, ...,  0.26978901,\n         0.1584765 ,  0.379031  ]])]}"
          ]
        }
      ],
      "source": [
        "# Build the LSTM model with Word2Vec embeddings\n",
        "lstm_units=100\n",
        "model = Sequential()\n",
        "model.add(Embedding(input_dim=max_words, output_dim=embedding_dim, weights=[embedding_matrix], trainable=False))\n",
        "model.add(LSTM(units=lstm_units, dropout=0.2, recurrent_dropout=0.2))\n",
        "model.add(Dense(units=len(np.unique(df_final['label_encoded'])), activation='softmax'))"
      ]
    },
    {
      "cell_type": "code",
      "execution_count": 30,
      "metadata": {},
      "outputs": [
        {
          "name": "stderr",
          "output_type": "stream",
          "text": [
            "/home/mahima/Documents/GrievanceRecognition/venv/lib/python3.10/site-packages/keras/src/layers/rnn/rnn.py:204: UserWarning: Do not pass an `input_shape`/`input_dim` argument to a layer. When using Sequential models, prefer using an `Input(shape)` object as the first layer in the model instead.\n",
            "  super().__init__(**kwargs)\n"
          ]
        }
      ],
      "source": [
        "# Encoding Labels\n",
        "le = LabelEncoder()\n",
        "y = le.fit_transform(df_final['category'])\n",
        "from tensorflow.keras.layers import Flatten\n",
        "model = Sequential()\n",
        "\n",
        "# Assuming max_length is the maximum length of your sequences\n",
        "model.add(LSTM(100, input_shape=(400\n",
        ", word2vec_model.vector_size), activation='relu', return_sequences=True))\n",
        "model.add(LSTM(50, activation='relu'))  # Add more LSTM layers if needed\n",
        "\n",
        "# Flatten the output of the LSTM layers before feeding into Dense layers\n",
        "model.add(Flatten())\n",
        "\n",
        "# Add Dense layers\n",
        "model.add(Dense(50, activation='relu'))\n",
        "model.add(Dense(len(np.unique(y)), activation='softmax'))"
      ]
    },
    {
      "cell_type": "code",
      "execution_count": 32,
      "metadata": {},
      "outputs": [],
      "source": [
        "history=model.compile(optimizer='adam', loss='sparse_categorical_crossentropy', metrics=['accuracy'])\n"
      ]
    },
    {
      "cell_type": "code",
      "execution_count": 33,
      "metadata": {},
      "outputs": [
        {
          "name": "stdout",
          "output_type": "stream",
          "text": [
            "Epoch 1/10\n"
          ]
        },
        {
          "ename": "ValueError",
          "evalue": "Exception encountered when calling Sequential.call().\n\n\u001b[1mInvalid input shape for input Tensor(\"sequential_5_1/Cast:0\", shape=(None, 1), dtype=float32). Expected shape (None, 400, 200), but input has incompatible shape (None, 1)\u001b[0m\n\nArguments received by Sequential.call():\n  • inputs=tf.Tensor(shape=(None, 1), dtype=string)\n  • training=True\n  • mask=None",
          "output_type": "error",
          "traceback": [
            "\u001b[0;31m---------------------------------------------------------------------------\u001b[0m",
            "\u001b[0;31mValueError\u001b[0m                                Traceback (most recent call last)",
            "Cell \u001b[0;32mIn[33], line 1\u001b[0m\n\u001b[0;32m----> 1\u001b[0m \u001b[43mmodel\u001b[49m\u001b[38;5;241;43m.\u001b[39;49m\u001b[43mfit\u001b[49m\u001b[43m(\u001b[49m\u001b[43mtrain_data\u001b[49m\u001b[43m[\u001b[49m\u001b[38;5;124;43m'\u001b[39;49m\u001b[38;5;124;43mcomplain\u001b[39;49m\u001b[38;5;124;43m'\u001b[39;49m\u001b[43m]\u001b[49m\u001b[43m,\u001b[49m\u001b[43m \u001b[49m\u001b[43mtrain_data\u001b[49m\u001b[43m[\u001b[49m\u001b[38;5;124;43m'\u001b[39;49m\u001b[38;5;124;43mcategory\u001b[39;49m\u001b[38;5;124;43m'\u001b[39;49m\u001b[43m]\u001b[49m\u001b[43m,\u001b[49m\u001b[43m \u001b[49m\u001b[43mvalidation_data\u001b[49m\u001b[38;5;241;43m=\u001b[39;49m\u001b[43m(\u001b[49m\u001b[43mtest_data\u001b[49m\u001b[43m[\u001b[49m\u001b[38;5;124;43m'\u001b[39;49m\u001b[38;5;124;43mcomplain\u001b[39;49m\u001b[38;5;124;43m'\u001b[39;49m\u001b[43m]\u001b[49m\u001b[43m,\u001b[49m\u001b[43m \u001b[49m\u001b[43mtest_data\u001b[49m\u001b[43m[\u001b[49m\u001b[38;5;124;43m'\u001b[39;49m\u001b[38;5;124;43mcategory\u001b[39;49m\u001b[38;5;124;43m'\u001b[39;49m\u001b[43m]\u001b[49m\u001b[43m)\u001b[49m\u001b[43m,\u001b[49m\u001b[43m \u001b[49m\u001b[43mepochs\u001b[49m\u001b[38;5;241;43m=\u001b[39;49m\u001b[38;5;241;43m10\u001b[39;49m\u001b[43m,\u001b[49m\u001b[43m \u001b[49m\u001b[43mbatch_size\u001b[49m\u001b[38;5;241;43m=\u001b[39;49m\u001b[38;5;241;43m32\u001b[39;49m\u001b[43m)\u001b[49m\n",
            "File \u001b[0;32m~/Documents/GrievanceRecognition/venv/lib/python3.10/site-packages/keras/src/utils/traceback_utils.py:122\u001b[0m, in \u001b[0;36mfilter_traceback.<locals>.error_handler\u001b[0;34m(*args, **kwargs)\u001b[0m\n\u001b[1;32m    119\u001b[0m     filtered_tb \u001b[38;5;241m=\u001b[39m _process_traceback_frames(e\u001b[38;5;241m.\u001b[39m__traceback__)\n\u001b[1;32m    120\u001b[0m     \u001b[38;5;66;03m# To get the full stack trace, call:\u001b[39;00m\n\u001b[1;32m    121\u001b[0m     \u001b[38;5;66;03m# `keras.config.disable_traceback_filtering()`\u001b[39;00m\n\u001b[0;32m--> 122\u001b[0m     \u001b[38;5;28;01mraise\u001b[39;00m e\u001b[38;5;241m.\u001b[39mwith_traceback(filtered_tb) \u001b[38;5;28;01mfrom\u001b[39;00m \u001b[38;5;28;01mNone\u001b[39;00m\n\u001b[1;32m    123\u001b[0m \u001b[38;5;28;01mfinally\u001b[39;00m:\n\u001b[1;32m    124\u001b[0m     \u001b[38;5;28;01mdel\u001b[39;00m filtered_tb\n",
            "File \u001b[0;32m~/Documents/GrievanceRecognition/venv/lib/python3.10/site-packages/keras/src/models/functional.py:281\u001b[0m, in \u001b[0;36mFunctional._adjust_input_rank\u001b[0;34m(self, flat_inputs)\u001b[0m\n\u001b[1;32m    279\u001b[0m             adjusted\u001b[38;5;241m.\u001b[39mappend(ops\u001b[38;5;241m.\u001b[39mexpand_dims(x, axis\u001b[38;5;241m=\u001b[39m\u001b[38;5;241m-\u001b[39m\u001b[38;5;241m1\u001b[39m))\n\u001b[1;32m    280\u001b[0m             \u001b[38;5;28;01mcontinue\u001b[39;00m\n\u001b[0;32m--> 281\u001b[0m     \u001b[38;5;28;01mraise\u001b[39;00m \u001b[38;5;167;01mValueError\u001b[39;00m(\n\u001b[1;32m    282\u001b[0m         \u001b[38;5;124mf\u001b[39m\u001b[38;5;124m\"\u001b[39m\u001b[38;5;124mInvalid input shape for input \u001b[39m\u001b[38;5;132;01m{\u001b[39;00mx\u001b[38;5;132;01m}\u001b[39;00m\u001b[38;5;124m. Expected shape \u001b[39m\u001b[38;5;124m\"\u001b[39m\n\u001b[1;32m    283\u001b[0m         \u001b[38;5;124mf\u001b[39m\u001b[38;5;124m\"\u001b[39m\u001b[38;5;132;01m{\u001b[39;00mref_shape\u001b[38;5;132;01m}\u001b[39;00m\u001b[38;5;124m, but input has incompatible shape \u001b[39m\u001b[38;5;132;01m{\u001b[39;00mx\u001b[38;5;241m.\u001b[39mshape\u001b[38;5;132;01m}\u001b[39;00m\u001b[38;5;124m\"\u001b[39m\n\u001b[1;32m    284\u001b[0m     )\n\u001b[1;32m    285\u001b[0m \u001b[38;5;66;03m# Add back metadata.\u001b[39;00m\n\u001b[1;32m    286\u001b[0m \u001b[38;5;28;01mfor\u001b[39;00m i \u001b[38;5;129;01min\u001b[39;00m \u001b[38;5;28mrange\u001b[39m(\u001b[38;5;28mlen\u001b[39m(flat_inputs)):\n",
            "\u001b[0;31mValueError\u001b[0m: Exception encountered when calling Sequential.call().\n\n\u001b[1mInvalid input shape for input Tensor(\"sequential_5_1/Cast:0\", shape=(None, 1), dtype=float32). Expected shape (None, 400, 200), but input has incompatible shape (None, 1)\u001b[0m\n\nArguments received by Sequential.call():\n  • inputs=tf.Tensor(shape=(None, 1), dtype=string)\n  • training=True\n  • mask=None"
          ]
        }
      ],
      "source": [
        "\n",
        "model.fit(train_data['complain'], train_data['category'], validation_data=(test_data['complain'], test_data['category']), epochs=10, batch_size=32)\n",
        "\n"
      ]
    },
    {
      "cell_type": "code",
      "execution_count": 31,
      "metadata": {
        "colab": {
          "base_uri": "https://localhost:8080/"
        },
        "id": "eXdzXcMouIiu",
        "outputId": "ecad5366-2cdc-4059-f09f-5881cad3fb11"
      },
      "outputs": [
        {
          "name": "stdout",
          "output_type": "stream",
          "text": [
            "Epoch 1/20\n"
          ]
        },
        {
          "ename": "ValueError",
          "evalue": "Exception encountered when calling Sequential.call().\n\n\u001b[1mInvalid input shape for input Tensor(\"sequential_5_1/Cast:0\", shape=(None, 100), dtype=float32). Expected shape (None, 400, 200), but input has incompatible shape (None, 100)\u001b[0m\n\nArguments received by Sequential.call():\n  • inputs=tf.Tensor(shape=(None, 100), dtype=int32)\n  • training=True\n  • mask=None",
          "output_type": "error",
          "traceback": [
            "\u001b[0;31m---------------------------------------------------------------------------\u001b[0m",
            "\u001b[0;31mValueError\u001b[0m                                Traceback (most recent call last)",
            "Cell \u001b[0;32mIn[31], line 6\u001b[0m\n\u001b[1;32m      4\u001b[0m \u001b[38;5;66;03m# Train the model\u001b[39;00m\n\u001b[1;32m      5\u001b[0m epochs \u001b[38;5;241m=\u001b[39m \u001b[38;5;241m20\u001b[39m\n\u001b[0;32m----> 6\u001b[0m history\u001b[38;5;241m=\u001b[39m\u001b[43mmodel\u001b[49m\u001b[38;5;241;43m.\u001b[39;49m\u001b[43mfit\u001b[49m\u001b[43m(\u001b[49m\u001b[43mtrain_padded\u001b[49m\u001b[43m,\u001b[49m\u001b[43m \u001b[49m\u001b[43mtrain_data\u001b[49m\u001b[43m[\u001b[49m\u001b[38;5;124;43m'\u001b[39;49m\u001b[38;5;124;43mlabel_encoded\u001b[39;49m\u001b[38;5;124;43m'\u001b[39;49m\u001b[43m]\u001b[49m\u001b[43m,\u001b[49m\u001b[43m \u001b[49m\u001b[43mepochs\u001b[49m\u001b[38;5;241;43m=\u001b[39;49m\u001b[43mepochs\u001b[49m\u001b[43m,\u001b[49m\u001b[43m \u001b[49m\u001b[43mvalidation_data\u001b[49m\u001b[38;5;241;43m=\u001b[39;49m\u001b[43m(\u001b[49m\u001b[43mtest_padded\u001b[49m\u001b[43m,\u001b[49m\u001b[43m \u001b[49m\u001b[43mtest_data\u001b[49m\u001b[43m[\u001b[49m\u001b[38;5;124;43m'\u001b[39;49m\u001b[38;5;124;43mlabel_encoded\u001b[39;49m\u001b[38;5;124;43m'\u001b[39;49m\u001b[43m]\u001b[49m\u001b[43m)\u001b[49m\u001b[43m)\u001b[49m\n",
            "File \u001b[0;32m~/Documents/GrievanceRecognition/venv/lib/python3.10/site-packages/keras/src/utils/traceback_utils.py:122\u001b[0m, in \u001b[0;36mfilter_traceback.<locals>.error_handler\u001b[0;34m(*args, **kwargs)\u001b[0m\n\u001b[1;32m    119\u001b[0m     filtered_tb \u001b[38;5;241m=\u001b[39m _process_traceback_frames(e\u001b[38;5;241m.\u001b[39m__traceback__)\n\u001b[1;32m    120\u001b[0m     \u001b[38;5;66;03m# To get the full stack trace, call:\u001b[39;00m\n\u001b[1;32m    121\u001b[0m     \u001b[38;5;66;03m# `keras.config.disable_traceback_filtering()`\u001b[39;00m\n\u001b[0;32m--> 122\u001b[0m     \u001b[38;5;28;01mraise\u001b[39;00m e\u001b[38;5;241m.\u001b[39mwith_traceback(filtered_tb) \u001b[38;5;28;01mfrom\u001b[39;00m \u001b[38;5;28;01mNone\u001b[39;00m\n\u001b[1;32m    123\u001b[0m \u001b[38;5;28;01mfinally\u001b[39;00m:\n\u001b[1;32m    124\u001b[0m     \u001b[38;5;28;01mdel\u001b[39;00m filtered_tb\n",
            "File \u001b[0;32m~/Documents/GrievanceRecognition/venv/lib/python3.10/site-packages/keras/src/models/functional.py:281\u001b[0m, in \u001b[0;36mFunctional._adjust_input_rank\u001b[0;34m(self, flat_inputs)\u001b[0m\n\u001b[1;32m    279\u001b[0m             adjusted\u001b[38;5;241m.\u001b[39mappend(ops\u001b[38;5;241m.\u001b[39mexpand_dims(x, axis\u001b[38;5;241m=\u001b[39m\u001b[38;5;241m-\u001b[39m\u001b[38;5;241m1\u001b[39m))\n\u001b[1;32m    280\u001b[0m             \u001b[38;5;28;01mcontinue\u001b[39;00m\n\u001b[0;32m--> 281\u001b[0m     \u001b[38;5;28;01mraise\u001b[39;00m \u001b[38;5;167;01mValueError\u001b[39;00m(\n\u001b[1;32m    282\u001b[0m         \u001b[38;5;124mf\u001b[39m\u001b[38;5;124m\"\u001b[39m\u001b[38;5;124mInvalid input shape for input \u001b[39m\u001b[38;5;132;01m{\u001b[39;00mx\u001b[38;5;132;01m}\u001b[39;00m\u001b[38;5;124m. Expected shape \u001b[39m\u001b[38;5;124m\"\u001b[39m\n\u001b[1;32m    283\u001b[0m         \u001b[38;5;124mf\u001b[39m\u001b[38;5;124m\"\u001b[39m\u001b[38;5;132;01m{\u001b[39;00mref_shape\u001b[38;5;132;01m}\u001b[39;00m\u001b[38;5;124m, but input has incompatible shape \u001b[39m\u001b[38;5;132;01m{\u001b[39;00mx\u001b[38;5;241m.\u001b[39mshape\u001b[38;5;132;01m}\u001b[39;00m\u001b[38;5;124m\"\u001b[39m\n\u001b[1;32m    284\u001b[0m     )\n\u001b[1;32m    285\u001b[0m \u001b[38;5;66;03m# Add back metadata.\u001b[39;00m\n\u001b[1;32m    286\u001b[0m \u001b[38;5;28;01mfor\u001b[39;00m i \u001b[38;5;129;01min\u001b[39;00m \u001b[38;5;28mrange\u001b[39m(\u001b[38;5;28mlen\u001b[39m(flat_inputs)):\n",
            "\u001b[0;31mValueError\u001b[0m: Exception encountered when calling Sequential.call().\n\n\u001b[1mInvalid input shape for input Tensor(\"sequential_5_1/Cast:0\", shape=(None, 100), dtype=float32). Expected shape (None, 400, 200), but input has incompatible shape (None, 100)\u001b[0m\n\nArguments received by Sequential.call():\n  • inputs=tf.Tensor(shape=(None, 100), dtype=int32)\n  • training=True\n  • mask=None"
          ]
        }
      ],
      "source": [
        "# Compile the model\n",
        "model.compile(optimizer='adam', loss='sparse_categorical_crossentropy', metrics=['accuracy'])\n",
        "\n",
        "# Train the model\n",
        "epochs = 20\n",
        "history=model.fit(train_padded, train_data['label_encoded'], epochs=epochs, validation_data=(test_padded, test_data['label_encoded']))\n"
      ]
    },
    {
      "cell_type": "code",
      "execution_count": null,
      "metadata": {
        "colab": {
          "base_uri": "https://localhost:8080/",
          "height": 472
        },
        "id": "8fIWdURGasta",
        "outputId": "755ebea2-2510-420d-8adb-492376705b8d"
      },
      "outputs": [
        {
          "data": {
            "image/png": "[encoded data removed]",
            "text/plain": [
              "<Figure size 640x480 with 1 Axes>"
            ]
          },
          "metadata": {},
          "output_type": "display_data"
        }
      ],
      "source": [
        "import matplotlib.pyplot as plt\n",
        "\n",
        "plt.plot(history.history['loss'], label='Training Loss')\n",
        "plt.plot(history.history['val_loss'], label='Validation Loss')\n",
        "plt.title('Training and Validation Loss')\n",
        "plt.xlabel('Epoch')\n",
        "plt.ylabel('Loss')\n",
        "plt.legend()\n",
        "plt.show()"
      ]
    },
    {
      "cell_type": "code",
      "execution_count": null,
      "metadata": {
        "colab": {
          "base_uri": "https://localhost:8080/",
          "height": 472
        },
        "id": "9hce2DSra3b7",
        "outputId": "3ff13c78-d9e5-4994-f4d0-f1383fb5613b"
      },
      "outputs": [
        {
          "data": {
            "image/png": "[encoded data removed]",
            "text/plain": [
              "<Figure size 640x480 with 1 Axes>"
            ]
          },
          "metadata": {},
          "output_type": "display_data"
        }
      ],
      "source": [
        "# Plot training and validation accuracies\n",
        "plt.plot(history.history['accuracy'], label='Training Accuracy')\n",
        "plt.plot(history.history['val_accuracy'], label='Validation Accuracy')\n",
        "plt.title('Training and Validation Accuracy')\n",
        "plt.xlabel('Epoch')\n",
        "plt.ylabel('Accuracy')\n",
        "plt.legend()\n",
        "plt.show()\n"
      ]
    },
    {
      "cell_type": "code",
      "execution_count": null,
      "metadata": {
        "id": "nSh83H60ayl7"
      },
      "outputs": [],
      "source": []
    },
    {
      "cell_type": "code",
      "execution_count": null,
      "metadata": {
        "id": "J1kGeZk485a0"
      },
      "outputs": [],
      "source": []
    },
    {
      "cell_type": "code",
      "execution_count": null,
      "metadata": {
        "colab": {
          "base_uri": "https://localhost:8080/"
        },
        "id": "SwiW44tluIiu",
        "outputId": "d815f32d-0db8-4a05-ca3a-cf842604a04d"
      },
      "outputs": [
        {
          "name": "stdout",
          "output_type": "stream",
          "text": [
            "251/251 [==============================] - 32s 120ms/step\n",
            "Classification Report:\n",
            "                                          precision    recall  f1-score   support\n",
            "\n",
            "                             अर्थ सबन्धी       0.96      0.96      0.96       572\n",
            "अर्थिक अनियमितता तथा भ्रष्टाचार सम्बन्धी       0.99      1.00      1.00       573\n",
            "                       कर्मचारी सम्वन्धी       0.93      0.89      0.91       573\n",
            "                                खानेपानी       0.99      1.00      0.99       573\n",
            "                  निर्माण कार्य सम्बन्धी       0.96      0.96      0.96       573\n",
            "              पार्किङ्ग तथा मेट्रो पुलिस       0.95      0.92      0.93       572\n",
            "           प्राकृतिक श्रोत/साधन सम्बन्धी       1.00      1.00      1.00       573\n",
            "                    फोहोरमैला व्यवस्थापन       0.93      0.97      0.95       573\n",
            "                    लागु पदार्थ सम्बन्धी       1.00      0.98      0.99       572\n",
            "  वेबसाइट तथा अभिलेख व्यवस्थापन सम्बन्धी       0.83      0.66      0.74       570\n",
            "                          शान्ति सुरक्षा       0.90      0.99      0.94       572\n",
            "                         सूचना तथा संचार       0.95      0.98      0.96       573\n",
            "         सोधपुछ, सुझाव, प्रशंसा सम्बन्धी       0.79      0.86      0.82       572\n",
            "                   स्वास्थ्यसँग सम्बन्धी       0.94      0.95      0.95       573\n",
            "\n",
            "                                accuracy                           0.94      8014\n",
            "                               macro avg       0.94      0.94      0.94      8014\n",
            "                            weighted avg       0.94      0.94      0.94      8014\n",
            "\n"
          ]
        }
      ],
      "source": [
        "# Evaluate the model\n",
        "y_pred_probs = model.predict(test_padded)\n",
        "\n",
        "# Convert predicted probabilities to class labels\n",
        "y_pred = np.argmax(y_pred_probs, axis=1)\n",
        "\n",
        "# Decode the encoded labels back to original classes\n",
        "y_true = le.inverse_transform(test_data['label_encoded'])\n",
        "y_pred_decoded = le.inverse_transform(y_pred)\n",
        "\n",
        "# Print the classification report\n",
        "from sklearn.metrics import classification_report\n",
        "print(\"Classification Report:\")\n",
        "print(classification_report(y_true, y_pred_decoded))\n"
      ]
    },
    {
      "cell_type": "code",
      "execution_count": null,
      "metadata": {
        "colab": {
          "base_uri": "https://localhost:8080/"
        },
        "id": "0o6bI5qRb29m",
        "outputId": "5eee1bad-8428-4b89-fdae-8b028b702c8f"
      },
      "outputs": [
        {
          "name": "stderr",
          "output_type": "stream",
          "text": [
            "/usr/local/lib/python3.10/dist-packages/keras/src/engine/training.py:3103: UserWarning: You are saving your model as an HDF5 file via `model.save()`. This file format is considered legacy. We recommend using instead the native Keras format, e.g. `model.save('my_model.keras')`.\n",
            "  saving_api.save_model(\n"
          ]
        }
      ],
      "source": [
        "model.save(\"model.h5\")"
      ]
    },
    {
      "cell_type": "code",
      "execution_count": null,
      "metadata": {
        "id": "qjYaWJHUcqUA"
      },
      "outputs": [],
      "source": [
        "from tensorflow.keras.models import load_model\n",
        "\n",
        "# Load the saved model\n",
        "loaded_model = load_model('/content/drive/MyDrive/model.h5')\n",
        "\n"
      ]
    },
    {
      "cell_type": "code",
      "execution_count": null,
      "metadata": {
        "colab": {
          "base_uri": "https://localhost:8080/"
        },
        "id": "oyk49Y5wuIiu",
        "outputId": "a710cadd-156e-4a7a-f4f8-0de4b4f705ee"
      },
      "outputs": [
        {
          "name": "stdout",
          "output_type": "stream",
          "text": [
            "1/1 [==============================] - 2s 2s/step\n",
            "Predicted Class: शान्ति सुरक्षा (Class 10)\n"
          ]
        }
      ],
      "source": [
        "# New Nepali text\n",
        "new_text = \"यस महानगरपालिकाको सुनाकोठी नखिपोट नख्खुडोल गोकुल आवास कान्तिपुर कोलोनीका वासिन्दाले दिनरात यो धुंवाको सास कहिलेसम्म फेर्नुपर्ने हो हजुर?\"\n",
        "\n",
        "# Preprocess the new text\n",
        "processed_text = preprocess_text(new_text)\n",
        "\n",
        "# Tokenize and pad the sequence\n",
        "new_sequence = tokenizer.texts_to_sequences([processed_text])\n",
        "new_padded = pad_sequences(new_sequence, maxlen=max_length, padding='post', truncating='post')\n",
        "\n",
        "# Make predictions\n",
        "new_pred_probs = loaded_model.predict(new_padded)\n",
        "new_pred_class = np.argmax(new_pred_probs, axis=1)[0]\n",
        "predicted_class_label = le.inverse_transform([new_pred_class])[0]\n",
        "\n",
        "# Print the result\n",
        "print(f\"Predicted Class: {predicted_class_label} (Class {new_pred_class})\")"
      ]
    },
    {
      "cell_type": "code",
      "execution_count": null,
      "metadata": {
        "colab": {
          "base_uri": "https://localhost:8080/"
        },
        "id": "EETWMdGiuIiu",
        "outputId": "3b09d604-cf71-4a68-f338-46f07e80ae6b"
      },
      "outputs": [
        {
          "name": "stdout",
          "output_type": "stream",
          "text": [
            "1/1 [==============================] - 0s 62ms/step\n",
            "Predicted Class: कर्मचारी सम्वन्धी (Class 2)\n"
          ]
        }
      ],
      "source": [
        "# New Nepali text\n",
        "new_text = \"सुनसरी जिल्ला इटहरी उप महानगर भित्र अवस्थित धरान पुग्ने यो बाटो । कुन ठेकेदारले यो काम गर्दा कति पैसा कुम्ल्याउन पाइने हो र आफ्नो निर्वाचन ताका खर्च भएको करोड उठाउन पाइन्छ भनेर त हैन ?\"\n",
        "\n",
        "# Preprocess the new text\n",
        "processed_text = preprocess_text(new_text)\n",
        "\n",
        "# Tokenize and pad the sequence\n",
        "new_sequence = tokenizer.texts_to_sequences([processed_text])\n",
        "new_padded = pad_sequences(new_sequence, maxlen=max_length, padding='post', truncating='post')\n",
        "\n",
        "# Make predictions\n",
        "new_pred_probs = model.predict(new_padded)\n",
        "new_pred_class = np.argmax(new_pred_probs, axis=1)[0]\n",
        "predicted_class_label = le.inverse_transform([new_pred_class])[0]\n",
        "\n",
        "# Print the result\n",
        "print(f\"Predicted Class: {predicted_class_label} (Class {new_pred_class})\")"
      ]
    },
    {
      "cell_type": "code",
      "execution_count": null,
      "metadata": {
        "colab": {
          "base_uri": "https://localhost:8080/"
        },
        "id": "bmtlct7muIiv",
        "outputId": "286fd10d-0480-4982-9794-492f55d50cea"
      },
      "outputs": [
        {
          "name": "stdout",
          "output_type": "stream",
          "text": [
            "1/1 [==============================] - 0s 53ms/step\n",
            "Predicted Class: खानेपानी (Class 3)\n"
          ]
        }
      ],
      "source": [
        "# New Nepali text\n",
        "new_text = \"काठमाडौं मा मेलम्ची को पानी बितरन्ण भयो भन्छ । हामी मा अहीपुग्ने कहिले हो मेरो मा पानी न आहेक्क आजको दिन टक्काइ ४० दिन भयो । खानी पानी कार्यल मा भनो भने पाले ले आजै दिन्छ भन्छ हामी लाई फर्काइ दिन्छ अब भन्नुस् कति दिन यो महङ्गो मा पानी किनेर जिबन याबन गर्ने । हजुर हरु लाई के लाग्छ के हामी पानी बिना को जिबन जिउन सकिन्छ त ।कृपया हाम्रो समस्य बुझीदिन्छ कि भनेर हजुर सम्म यो गुनासो पठाउन बात्य भएको छु ।\"\n",
        "\n",
        "# Preprocess the new text\n",
        "processed_text = preprocess_text(new_text)\n",
        "\n",
        "# Tokenize and pad the sequence\n",
        "new_sequence = tokenizer.texts_to_sequences([processed_text])\n",
        "new_padded = pad_sequences(new_sequence, maxlen=max_length, padding='post', truncating='post')\n",
        "\n",
        "# Make predictions\n",
        "new_pred_probs = model.predict(new_padded)\n",
        "new_pred_class = np.argmax(new_pred_probs, axis=1)[0]\n",
        "predicted_class_label = le.inverse_transform([new_pred_class])[0]\n",
        "\n",
        "# Print the result\n",
        "print(f\"Predicted Class: {predicted_class_label} (Class {new_pred_class})\")"
      ]
    },
    {
      "cell_type": "code",
      "execution_count": null,
      "metadata": {
        "colab": {
          "base_uri": "https://localhost:8080/"
        },
        "id": "GPGuxUQPuIiv",
        "outputId": "84b712c9-5ffd-4377-d348-8f69833cda13"
      },
      "outputs": [
        {
          "name": "stdout",
          "output_type": "stream",
          "text": [
            "1/1 [==============================] - 0s 51ms/step\n",
            "Predicted Class: वेबसाइट तथा अभिलेख व्यवस्थापन सम्बन्धी (Class 9)\n"
          ]
        }
      ],
      "source": [
        "# New Nepali text\n",
        "new_text = \"नगरिक ऐप नागरिकता संशोधन\"\n",
        "\n",
        "# Preprocess the new text\n",
        "processed_text = preprocess_text(new_text)\n",
        "\n",
        "# Tokenize and pad the sequence\n",
        "new_sequence = tokenizer.texts_to_sequences([processed_text])\n",
        "new_padded = pad_sequences(new_sequence, maxlen=max_length, padding='post', truncating='post')\n",
        "\n",
        "# Make predictions\n",
        "new_pred_probs = model.predict(new_padded)\n",
        "new_pred_class = np.argmax(new_pred_probs, axis=1)[0]\n",
        "predicted_class_label = le.inverse_transform([new_pred_class])[0]\n",
        "\n",
        "# Print the result\n",
        "print(f\"Predicted Class: {predicted_class_label} (Class {new_pred_class})\")"
      ]
    },
    {
      "cell_type": "code",
      "execution_count": null,
      "metadata": {
        "id": "SNap9xtWBvpW"
      },
      "outputs": [],
      "source": []
    }
  ],
  "metadata": {
    "accelerator": "GPU",
    "colab": {
      "gpuType": "T4",
      "provenance": []
    },
    "kernelspec": {
      "display_name": "Python 3",
      "name": "python3"
    },
    "language_info": {
      "codemirror_mode": {
        "name": "ipython",
        "version": 3
      },
      "file_extension": ".py",
      "mimetype": "text/x-python",
      "name": "python",
      "nbconvert_exporter": "python",
      "pygments_lexer": "ipython3",
      "version": "3.10.12"
    }
  },
  "nbformat": 4,
  "nbformat_minor": 0
}
