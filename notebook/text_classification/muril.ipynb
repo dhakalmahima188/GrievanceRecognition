{
  "cells": [
    {
      "cell_type": "code",
      "execution_count": null,
      "metadata": {
        "id": "ucT_sW0OW8kc"
      },
      "outputs": [],
      "source": [
        "!pip install -q torch transformers huggingface_hub datasets wandb"
      ]
    },
    {
      "cell_type": "code",
      "execution_count": null,
      "metadata": {
        "colab": {
          "base_uri": "https://localhost:8080/"
        },
        "id": "UWS5SxC6iJfD",
        "outputId": "11decc76-7746-489b-8d79-bb5770614e35"
      },
      "outputs": [
        {
          "name": "stdout",
          "output_type": "stream",
          "text": [
            "\u001b[?25l     \u001b[90m━━━━━━━━━━━━━━━━━━━━━━━━━━━━━━━━━━━━━━━━\u001b[0m \u001b[32m0.0/280.0 kB\u001b[0m \u001b[31m?\u001b[0m eta \u001b[36m-:--:--\u001b[0m\r\u001b[2K     \u001b[90m━━━━━━━━━━━━━━━━━━━━━━━━━━━━━━━━━━━━━━━━\u001b[0m \u001b[32m280.0/280.0 kB\u001b[0m \u001b[31m9.8 MB/s\u001b[0m eta \u001b[36m0:00:00\u001b[0m\n",
            "\u001b[?25h"
          ]
        }
      ],
      "source": [
        "!pip install -q transformers[torch]"
      ]
    },
    {
      "cell_type": "code",
      "execution_count": null,
      "metadata": {
        "colab": {
          "base_uri": "https://localhost:8080/"
        },
        "id": "NJQSusBywP3a",
        "outputId": "e53de514-49ba-4a68-9d96-051302352e1c"
      },
      "outputs": [
        {
          "name": "stdout",
          "output_type": "stream",
          "text": [
            "Mounted at /content/drive\n"
          ]
        }
      ],
      "source": [
        "from google.colab import drive\n",
        "drive.mount('/content/drive')"
      ]
    },
    {
      "cell_type": "markdown",
      "metadata": {
        "id": "v_ujjN8QjHJO"
      },
      "source": [
        "Connect to WANDB to store logs"
      ]
    },
    {
      "cell_type": "code",
      "execution_count": null,
      "metadata": {
        "colab": {
          "base_uri": "https://localhost:8080/"
        },
        "id": "WqyQJGO3F6v5",
        "outputId": "e1b25d1e-fa58-4ee8-b07e-f9497bae417c"
      },
      "outputs": [
        {
          "name": "stdout",
          "output_type": "stream",
          "text": [
            "Enter your Wandb api key: ··········\n"
          ]
        }
      ],
      "source": [
        "from getpass import getpass\n",
        "api_token = getpass(\"Enter your Wandb api key: \")\n"
      ]
    },
    {
      "cell_type": "code",
      "execution_count": null,
      "metadata": {
        "id": "sa4EMG-hJvjj"
      },
      "outputs": [],
      "source": [
        "import wandb"
      ]
    },
    {
      "cell_type": "code",
      "execution_count": null,
      "metadata": {
        "colab": {
          "base_uri": "https://localhost:8080/",
          "height": 232
        },
        "id": "vyuLAuB9FKdR",
        "outputId": "648cc438-4f9d-463e-f52c-d13361a7781b"
      },
      "outputs": [
        {
          "name": "stderr",
          "output_type": "stream",
          "text": [
            "\u001b[34m\u001b[1mwandb\u001b[0m: W&B API key is configured. Use \u001b[1m`wandb login --relogin`\u001b[0m to force relogin\n",
            "\u001b[34m\u001b[1mwandb\u001b[0m: \u001b[33mWARNING\u001b[0m If you're specifying your api key in code, ensure this code is not shared publicly.\n",
            "\u001b[34m\u001b[1mwandb\u001b[0m: \u001b[33mWARNING\u001b[0m Consider setting the WANDB_API_KEY environment variable, or running `wandb login` from the command line.\n",
            "\u001b[34m\u001b[1mwandb\u001b[0m: Appending key for api.wandb.ai to your netrc file: /root/.netrc\n",
            "\u001b[34m\u001b[1mwandb\u001b[0m: Currently logged in as: \u001b[33mnadikapoudel16\u001b[0m. Use \u001b[1m`wandb login --relogin`\u001b[0m to force relogin\n"
          ]
        },
        {
          "data": {
            "text/html": [
              "Tracking run with wandb version 0.16.4"
            ],
            "text/plain": [
              "<IPython.core.display.HTML object>"
            ]
          },
          "metadata": {},
          "output_type": "display_data"
        },
        {
          "data": {
            "text/html": [
              "Run data is saved locally in <code>/content/wandb/run-20240310_203816-q766fi0r</code>"
            ],
            "text/plain": [
              "<IPython.core.display.HTML object>"
            ]
          },
          "metadata": {},
          "output_type": "display_data"
        },
        {
          "data": {
            "text/html": [
              "Syncing run <strong><a href='https://wandb.ai/nadikapoudel16/muril_finetuning_3/runs/q766fi0r' target=\"_blank\">golden-field-1</a></strong> to <a href='https://wandb.ai/nadikapoudel16/muril_finetuning_3' target=\"_blank\">Weights & Biases</a> (<a href='https://wandb.me/run' target=\"_blank\">docs</a>)<br/>"
            ],
            "text/plain": [
              "<IPython.core.display.HTML object>"
            ]
          },
          "metadata": {},
          "output_type": "display_data"
        },
        {
          "data": {
            "text/html": [
              " View project at <a href='https://wandb.ai/nadikapoudel16/muril_finetuning_3' target=\"_blank\">https://wandb.ai/nadikapoudel16/muril_finetuning_3</a>"
            ],
            "text/plain": [
              "<IPython.core.display.HTML object>"
            ]
          },
          "metadata": {},
          "output_type": "display_data"
        },
        {
          "data": {
            "text/html": [
              " View run at <a href='https://wandb.ai/nadikapoudel16/muril_finetuning_3/runs/q766fi0r' target=\"_blank\">https://wandb.ai/nadikapoudel16/muril_finetuning_3/runs/q766fi0r</a>"
            ],
            "text/plain": [
              "<IPython.core.display.HTML object>"
            ]
          },
          "metadata": {},
          "output_type": "display_data"
        },
        {
          "data": {
            "text/html": [
              "<button onClick=\"this.nextSibling.style.display='block';this.style.display='none';\">Display W&B run</button><iframe src='https://wandb.ai/nadikapoudel16/muril_finetuning_3/runs/q766fi0r?jupyter=true' style='border:none;width:100%;height:420px;display:none;'></iframe>"
            ],
            "text/plain": [
              "<wandb.sdk.wandb_run.Run at 0x7d033f3524d0>"
            ]
          },
          "execution_count": 7,
          "metadata": {},
          "output_type": "execute_result"
        }
      ],
      "source": [
        "wandb.login(key=api_token)\n",
        "wandb.init(project='muril_finetuning_3')\n"
      ]
    },
    {
      "cell_type": "code",
      "execution_count": null,
      "metadata": {
        "colab": {
          "base_uri": "https://localhost:8080/",
          "height": 160,
          "referenced_widgets": [
            "0c41fb896d034e7cb302b86119c2e143",
            "e893f1b58d19418d9d9b7620effd3c6a",
            "12ac9d6393f44cfc8243ca793f126d1e",
            "ceea327070e44723bc2beb7a00ba2fe1",
            "7151eac915f948588435b72924b689a5",
            "2056289e94c149bfa4d35c8761cd0fb6",
            "4099a7c28d674448b32a06acc375e486",
            "8b975d6670e74d9291f5429c3f845069",
            "a3ba9684403b4aca8c0f3dd6fc380c0b",
            "05ddf11d4bed4d69a65ebbc82395ff37",
            "6862bdc45f6343bba7d1205ae7c78c87",
            "b2468f91bad54115a709de9042cfff64",
            "1a19333230764e7284471be5234741b3",
            "a82dd368ebe64aa7ba749caac01dfea8"
          ]
        },
        "id": "H_MWS0YpwnlM",
        "outputId": "05bc4eea-d805-4c90-d07b-1017d4cd7a02"
      },
      "outputs": [
        {
          "data": {
            "application/vnd.jupyter.widget-view+json": {
              "model_id": "0c41fb896d034e7cb302b86119c2e143",
              "version_major": 2,
              "version_minor": 0
            },
            "text/plain": [
              "VBox(children=(HTML(value='<center> <img\\nsrc=https://huggingface.co/front/assets/huggingface_logo-noborder.sv…"
            ]
          },
          "metadata": {},
          "output_type": "display_data"
        }
      ],
      "source": [
        "from huggingface_hub import notebook_login\n",
        "\n",
        "notebook_login()"
      ]
    },
    {
      "cell_type": "code",
      "execution_count": null,
      "metadata": {
        "id": "PzhwmQKWw6Mk"
      },
      "outputs": [],
      "source": [
        "from transformers import AutoModelForSequenceClassification, AutoTokenizer,TrainingArguments,Trainer"
      ]
    },
    {
      "cell_type": "code",
      "execution_count": null,
      "metadata": {
        "id": "Go9kgqcixDEN"
      },
      "outputs": [],
      "source": [
        "import torch\n",
        "from torch.utils.data import Dataset,DataLoader\n",
        "from sklearn.model_selection import train_test_split\n",
        "import pandas as pd\n",
        "import nltk\n",
        "from nltk.corpus import stopwords\n",
        "from nltk.tokenize import word_tokenize\n",
        "import re\n",
        "from sklearn.preprocessing import LabelEncoder\n",
        "import numpy as np\n",
        "from datasets import load_dataset,DatasetDict\n",
        "from huggingface_hub import Repository"
      ]
    },
    {
      "cell_type": "code",
      "execution_count": null,
      "metadata": {
        "colab": {
          "base_uri": "https://localhost:8080/",
          "height": 266,
          "referenced_widgets": [
            "a6517b54388b48b498990a42fe477baa",
            "25f7e90aada247e8b6466caf2ab17cc3",
            "7ae33b1915944e04a958f559b4cdc021",
            "800f5b7aad3340c3945202265dd1a833",
            "6910f00debcc4c85bf86ab011c06456e",
            "cce8c85d206643a6ad3f44abd3a05a88",
            "2155eaaff5964fb8a4f60d695e8b3cd7",
            "57fb808f05c345fdb8f9d53e639ecaf0",
            "e0932cb53f9c4e33bd241a57b7440786",
            "58fb0e22efd14964861bc18ac29ba7e3",
            "26532f70e96741bf8c27bf343055614c",
            "79c13fb4dbb7466287af056808839bcb",
            "ce1595e52e01440eaff0795c178851d2",
            "0a8a500abfde49f9965c6426b437073c",
            "3aeecabdaeb04ea2bb4612737f50f440",
            "12a62f194ca04055a5b4f6c97d0447c1",
            "dfcb80760c134af7a660dcaa2f499e12",
            "993e0674df874a58bbd4f7a4965bd039",
            "3a5d10c218724837b33dcc4a45cc841f",
            "09fde52e3e5b4aa7b4956138d08caff5",
            "113b5ab763c0464cba1c3145f2d6a0cd",
            "34ba7a6f4d764c598b189e30428b6ebc",
            "9db203c5d832462696cbf1ae9ec8a4c9",
            "37469dcd63904d92a72418669490a995",
            "e7e52b0b9f3a4642bc0673acf931e261",
            "df3bf5f2eca045c78b219024dc46d2dd",
            "2c148123244840708a59c9dfe5fcf154",
            "2a3ce5f8e5e249a2804aa381271cf418",
            "fb79d5f805884deb8b31859e7965fe44",
            "6e0a88e9ff024095a92038da80793c37",
            "a20fc5ab36f949b889610bbe7ca7967b",
            "7830526ed6494a2093ef6fde2a18393c",
            "bb43523fca6d4aac80c8ef89b866dae7",
            "e9b4a715656949299bd38f8dc0b7272f",
            "7eea640d90604ff5add4c5fd6a94c160",
            "a886204faf0e45f395424b1f33856520",
            "0cb68913aab84cf7b015435ee9c65800",
            "ab2631fc3a254fd993731083441671bc",
            "ef38b92d1a124e5baf3284646bfd65b3",
            "1f56333de2604277b001fd58e70ee78b",
            "0aa3829b6a87432b983d095cb2694295",
            "20111fb46ef5447ab76376f72dcace88",
            "2c92055372a14fa8bf5621d24c5062e6",
            "7874cc67449345ed9c135d607d5a5e92",
            "60fd467a708d4b8cb5cc092353a4a740",
            "f555123a59ee4fb2abc08934cfa5b2e0",
            "3443c740d30149dcbf6533f6f3a9ba15",
            "291f043afb674293b5f79e46db0e0e09",
            "0ddadea2428d43d89d8ef595a8fdfad2",
            "68b6cb4ca6ef48228748a5486229ce89",
            "c1f9a781e9e845b7b07033198efbaa90",
            "9def0eb6e01c4b3b91cf5553e619bdef",
            "83f4e251923148b9a6fd8cc4d765bc13",
            "45f23269a3b6474fb61b5fbf586d186a",
            "dffdb6c4bcfe4557837cdfbe2411cc0a"
          ]
        },
        "id": "UFv8DtDqxGC8",
        "outputId": "89fcc636-9c9a-42af-f989-e9a8d180810d"
      },
      "outputs": [
        {
          "data": {
            "application/vnd.jupyter.widget-view+json": {
              "model_id": "a6517b54388b48b498990a42fe477baa",
              "version_major": 2,
              "version_minor": 0
            },
            "text/plain": [
              "tokenizer_config.json:   0%|          | 0.00/206 [00:00<?, ?B/s]"
            ]
          },
          "metadata": {},
          "output_type": "display_data"
        },
        {
          "data": {
            "application/vnd.jupyter.widget-view+json": {
              "model_id": "79c13fb4dbb7466287af056808839bcb",
              "version_major": 2,
              "version_minor": 0
            },
            "text/plain": [
              "config.json:   0%|          | 0.00/411 [00:00<?, ?B/s]"
            ]
          },
          "metadata": {},
          "output_type": "display_data"
        },
        {
          "data": {
            "application/vnd.jupyter.widget-view+json": {
              "model_id": "9db203c5d832462696cbf1ae9ec8a4c9",
              "version_major": 2,
              "version_minor": 0
            },
            "text/plain": [
              "vocab.txt:   0%|          | 0.00/3.16M [00:00<?, ?B/s]"
            ]
          },
          "metadata": {},
          "output_type": "display_data"
        },
        {
          "data": {
            "application/vnd.jupyter.widget-view+json": {
              "model_id": "e9b4a715656949299bd38f8dc0b7272f",
              "version_major": 2,
              "version_minor": 0
            },
            "text/plain": [
              "special_tokens_map.json:   0%|          | 0.00/113 [00:00<?, ?B/s]"
            ]
          },
          "metadata": {},
          "output_type": "display_data"
        },
        {
          "data": {
            "application/vnd.jupyter.widget-view+json": {
              "model_id": "60fd467a708d4b8cb5cc092353a4a740",
              "version_major": 2,
              "version_minor": 0
            },
            "text/plain": [
              "pytorch_model.bin:   0%|          | 0.00/953M [00:00<?, ?B/s]"
            ]
          },
          "metadata": {},
          "output_type": "display_data"
        },
        {
          "name": "stderr",
          "output_type": "stream",
          "text": [
            "/usr/local/lib/python3.10/dist-packages/torch/_utils.py:831: UserWarning: TypedStorage is deprecated. It will be removed in the future and UntypedStorage will be the only storage class. This should only matter to you if you are using storages directly.  To access UntypedStorage directly, use tensor.untyped_storage() instead of tensor.storage()\n",
            "  return self.fget.__get__(instance, owner)()\n",
            "Some weights of BertForSequenceClassification were not initialized from the model checkpoint at google/muril-base-cased and are newly initialized: ['classifier.bias', 'classifier.weight']\n",
            "You should probably TRAIN this model on a down-stream task to be able to use it for predictions and inference.\n"
          ]
        }
      ],
      "source": [
        "tokenizer=AutoTokenizer.from_pretrained('google/muril-base-cased')\n",
        "model=AutoModelForSequenceClassification.from_pretrained('google/muril-base-cased')"
      ]
    },
    {
      "cell_type": "code",
      "execution_count": null,
      "metadata": {
        "id": "K36qOPQbxJ7M"
      },
      "outputs": [],
      "source": [
        "dataset_file_path='/content/drive/MyDrive/major/cleaned_data_final.xlsx'"
      ]
    },
    {
      "cell_type": "code",
      "execution_count": null,
      "metadata": {
        "colab": {
          "base_uri": "https://localhost:8080/"
        },
        "id": "6T8DngKXxN0i",
        "outputId": "d0e85c50-c94c-4b98-8f3e-971540af375c"
      },
      "outputs": [
        {
          "name": "stderr",
          "output_type": "stream",
          "text": [
            "[nltk_data] Downloading package stopwords to /root/nltk_data...\n",
            "[nltk_data]   Unzipping corpora/stopwords.zip.\n",
            "[nltk_data] Downloading package punkt to /root/nltk_data...\n",
            "[nltk_data]   Unzipping tokenizers/punkt.zip.\n"
          ]
        },
        {
          "data": {
            "text/plain": [
              "True"
            ]
          },
          "execution_count": 13,
          "metadata": {},
          "output_type": "execute_result"
        }
      ],
      "source": [
        "nltk.download('stopwords')\n",
        "nltk.download('punkt')"
      ]
    },
    {
      "cell_type": "code",
      "execution_count": null,
      "metadata": {
        "id": "bPR_ViquxPlO"
      },
      "outputs": [],
      "source": [
        "df = pd.read_excel(dataset_file_path)"
      ]
    },
    {
      "cell_type": "code",
      "execution_count": null,
      "metadata": {
        "colab": {
          "base_uri": "https://localhost:8080/"
        },
        "id": "2FrQV_XkxSZE",
        "outputId": "14c3e850-7a00-4597-e65c-ebfc8e29d9f1"
      },
      "outputs": [
        {
          "data": {
            "text/plain": [
              "array(['अर्थ सबन्धी', 'अर्थिक अनियमितता तथा भ्रष्टाचार सम्बन्धी',\n",
              "       'कर्मचारी सम्वन्धी', 'खानेपानी', 'निर्माण कार्य सम्बन्धी',\n",
              "       'पार्किङ्ग तथा मेट्रो पुलिस', 'प्राकृतिक श्रोत/साधन सम्बन्धी',\n",
              "       'फोहोरमैला व्यवस्थापन', 'लागु पदार्थ सम्बन्धी',\n",
              "       'वेबसाइट तथा अभिलेख व्यवस्थापन सम्बन्धी', 'शान्ति सुरक्षा',\n",
              "       'सूचना तथा संचार', 'सोधपुछ, सुझाव, प्रशंसा सम्बन्धी',\n",
              "       'स्वास्थ्यसँग सम्बन्धी'], dtype=object)"
            ]
          },
          "execution_count": 15,
          "metadata": {},
          "output_type": "execute_result"
        }
      ],
      "source": [
        "df['गुनासो वर्ग'].unique()"
      ]
    },
    {
      "cell_type": "code",
      "execution_count": null,
      "metadata": {
        "colab": {
          "base_uri": "https://localhost:8080/",
          "height": 206
        },
        "id": "igI3DP3dxUSW",
        "outputId": "96d46136-7728-4de5-c2bc-5a272aeb920f"
      },
      "outputs": [
        {
          "data": {
            "application/vnd.google.colaboratory.intrinsic+json": {
              "summary": "{\n  \"name\": \"df\",\n  \"rows\": 13061,\n  \"fields\": [\n    {\n      \"column\": \"\\u0917\\u0941\\u0928\\u093e\\u0938\\u094b \\u0935\\u0930\\u094d\\u0917\",\n      \"properties\": {\n        \"dtype\": \"category\",\n        \"num_unique_values\": 14,\n        \"samples\": [\n          \"\\u0935\\u0947\\u092c\\u0938\\u093e\\u0907\\u091f \\u0924\\u0925\\u093e \\u0905\\u092d\\u093f\\u0932\\u0947\\u0916 \\u0935\\u094d\\u092f\\u0935\\u0938\\u094d\\u0925\\u093e\\u092a\\u0928 \\u0938\\u092e\\u094d\\u092c\\u0928\\u094d\\u0927\\u0940\",\n          \"\\u0938\\u0942\\u091a\\u0928\\u093e \\u0924\\u0925\\u093e \\u0938\\u0902\\u091a\\u093e\\u0930\",\n          \"\\u0905\\u0930\\u094d\\u0925 \\u0938\\u092c\\u0928\\u094d\\u0927\\u0940\"\n        ],\n        \"semantic_type\": \"\",\n        \"description\": \"\"\n      }\n    },\n    {\n      \"column\": \"\\u0917\\u0941\\u0928\\u093e\\u0938\\u094b\",\n      \"properties\": {\n        \"dtype\": \"string\",\n        \"num_unique_values\": 12254,\n        \"samples\": [\n          \"\\u092e\\u0948\\u0932\\u0947 \\u092c\\u093f\\u0917\\u0924 \\u091a\\u094c\\u0927 \\u0935\\u0930\\u094d\\u0937 \\u0926\\u0947\\u0916\\u093f \\u096f\\u096e\\u096a\\u096b\\u0969\\u096b\\u096d\\u0967\\u096b\\u096a \\u0928\\u092e\\u094d\\u092c\\u0930 \\u0915\\u094b \\u0938\\u093f\\u092e \\u091a\\u0932\\u093e\\u090f\\u0915\\u094b \\u091b\\u0941 \\u0924\\u0930 \\u092e\\u0947\\u0930\\u094b \\u0928\\u093e\\u092e \\u092e\\u093e \\u0938\\u093f\\u092e \\u0926\\u0930\\u094d\\u0924\\u093e \\u0928\\u0926\\u0947\\u0916\\u093e\\u090f\\u0915\\u094b \\u0932\\u0947 \\u0928\\u093e\\u0917\\u0930\\u093f\\u0915\\u0924\\u093e \\u0938\\u0939\\u093f\\u0924 \\u092a\\u0939\\u093f\\u0932\\u094b \\u092a\\u091f\\u0915 \\u0926\\u0936\\u0948\\u0901 \\u0905\\u0917\\u093e\\u0921\\u093f \\u092c\\u0941\\u091d\\u093e\\u0909\\u0926\\u093e \\u0928\\u092d\\u090f\\u0915\\u094b \\u0932\\u0947 \\u0926\\u094b\\u0936\\u094d\\u0930\\u094b \\u092a\\u091f\\u0915 \\u0924\\u093f\\u0939\\u093e\\u0930 \\u0905\\u0917\\u093e\\u0921\\u093f \\u092b\\u0947\\u0930\\u0940 \\u092b\\u093e\\u0930\\u092e \\u0930 \\u0928\\u093e\\u0917\\u0930\\u0940\\u0915\\u0924 \\u092c\\u0941\\u091c\\u093e\\u0909\\u0926\\u093e \\u092a\\u0928\\u093f \\u0915\\u0941\\u0928\\u0948 \\u0915\\u093e\\u0930\\u0935\\u093e\\u0939\\u0940 \\u092d\\u090f\\u0928 \\u0926\\u0941\\u0908 \\u092a\\u091f\\u0915 \\u0915\\u0947\\u0935\\u093e\\u0908\\u0938\\u0940 \\u092b\\u093e\\u0930\\u092e \\u092d\\u0930\\u0924\\u092a\\u0941\\u0930 \\u091f\\u0947\\u0932\\u093f\\u0915\\u092e \\u092e\\u093e \\u092c\\u0941\\u091d\\u093e\\u0909\\u0926\\u093e \\u092a\\u0928\\u093f \\u092e\\u0947\\u0930\\u094b \\u0905\\u092a\\u0921\\u0947\\u091f \\u0917\\u0930\\u093f\\u090f\\u0928 \\u091c\\u0938\\u0932\\u0947 \\u0917\\u0930\\u094d\\u0926\\u093e \\u092e \\u0928\\u093e\\u0917\\u0930\\u093f\\u0915 \\u090f\\u092a \\u091a\\u0932\\u093e\\u0909\\u0928 \\u092c\\u093e\\u091f \\u092c\\u0928\\u094d\\u091a\\u093f\\u0924 \\u092d\\u090f\\u0915\\u094b \\u091b\\u0941 ! \\u0915\\u0924\\u093f \\u092a\\u091f\\u0915 \\u0938\\u092e\\u094d\\u092e \\u092b\\u093e\\u0930\\u092e \\u0930 \\u0928\\u093e\\u0917\\u0930\\u093f\\u0915\\u0924\\u093e \\u092c\\u0941\\u091d\\u093e\\u0909\\u0928 \\u092a\\u0930\\u094d\\u0928\\u0947 \\u0939\\u094b \\u092c\\u0941\\u091c\\u094d\\u0928 \\u0938\\u0915\\u093f\\u090f\\u0928 \\u0915\\u0943\\u092a\\u092f\\u093e \\u0938\\u092e\\u094d\\u0935\\u0928\\u094d\\u0927\\u093f\\u0924 \\u0928\\u093f\\u0915\\u093e\\u090f\\u092e\\u093e \\u092f\\u094b \\u0917\\u0941\\u0928\\u093e\\u0938\\u094b \\u092a\\u0941\\u0917\\u094d\\u0928\\u0947 \\u0930 \\u0938\\u0941\\u0928\\u0935\\u093e\\u0908 \\u0939\\u0941\\u0928\\u0947 \\u0906\\u0938\\u093e \\u0932\\u093f\\u090f\\u0915\\u094b \\u091b\\u0941\",\n          \"\\u0928\\u0947\\u092a\\u093e\\u0932 \\u092c\\u0948\\u0902\\u0915 \\u092c\\u0930\\u0939\\u0925\\u0935\\u093e \\u0938\\u0930\\u094d\\u0932\\u093e\\u0939\\u0940 \\u092e\\u093e \\u0938\\u093e\\u0924 \\u092e\\u0939\\u093f\\u0928\\u093e \\u092a\\u0939\\u093f\\u0932\\u093e \\u0932\\u094b\\u0928 \\u0915\\u094b \\u0932\\u093e\\u0917\\u093f \\u0938\\u092c\\u0948 \\u0915\\u093e\\u0917\\u091c\\u093e\\u0924 \\u092a\\u0947\\u0936 \\u0917\\u0930\\u0947\\u0915\\u094b \\u0925\\u093f\\u090f\\u0901\\u0964 \\u0915\\u0924\\u093f \\u091a\\u094b\\u091f\\u0940 \\u092c\\u0948\\u0902\\u0915 \\u092e\\u093e \\u0917\\u090f\\u0930 \\u0938\\u094b\\u0927\\u0947 \\u092e\\u0947\\u0930\\u094b \\u0932\\u094b\\u0928 \\u0915\\u0939\\u093f\\u0932\\u0947 \\u092a\\u093e\\u0938 \\u0939\\u0941\\u0928\\u094d\\u091b\\u0964 \\u092c\\u0948\\u0902\\u0915 \\u092c\\u093e\\u091f \\u091c\\u0935\\u093e\\u092b \\u0926\\u093f\\u0928\\u094d\\u091b \\u0967\\u0966 \\u0926\\u093f\\u0928 \\u092a\\u091b\\u0940 \\u0939\\u0941\\u0928\\u094d\\u091b \\u0915\\u0939\\u093f\\u0932\\u0947 \\u092d\\u0928\\u094d\\u091b \\u0968 \\u0913\\u091f\\u093e \\u092b\\u093e\\u0908\\u0932 \\u092c\\u093e\\u0901\\u0915\\u093f \\u091b \\u0924\\u0947\\u0938\\u094d\\u0930\\u094b \\u092e\\u093e \\u0924\\u092a\\u093e\\u0908 \\u0915\\u094b \\u0939\\u0941\\u0928\\u094d\\u091b\\u0964 \\u092b\\u094b\\u0928\\u092e\\u093e \\u0915\\u0941\\u0930\\u093e \\u0917\\u0930\\u094d\\u0926\\u093e \\u092d\\u0928\\u094d\\u0928\\u0941 \\u0939\\u0941\\u0928\\u094d\\u091b \\u092d\\u0928\\u094d\\u0928\\u0941 \\u0939\\u0941\\u0928\\u094d\\u091b \\u0939\\u0947\\u0930\\u0947\\u0930 \\u092e \\u0915\\u0941\\u0930\\u093e \\u0917\\u0930\\u094d\\u091b\\u0941 \\u0964\\u0924\\u094d\\u092f\\u0938 \\u092a\\u091b\\u093f \\u0915\\u0941\\u0930\\u093e \\u0939\\u0941\\u0926\\u0948\\u0928\\u0964 \\u0905\\u0930\\u094d\\u0915\\u094b \\u0926\\u093f\\u0928 \\u0915\\u0941\\u0930\\u093e \\u0917\\u0930\\u094d\\u0926\\u093e \\u092b\\u094b\\u0928 \\u0909\\u0920\\u094d\\u0926\\u0948\\u0928 \\u0909\\u0920\\u0947\\u092a\\u0928\\u093f \\u0905\\u0930\\u0941 \\u092e\\u093e\\u0928\\u094d\\u091b\\u0947 \\u0909\\u0920\\u093e\\u0909\\u0901\\u091b \\u092d\\u0928\\u094d\\u0928\\u0941 \\u0939\\u0941\\u0928\\u094d\\u091b \\u092c\\u093e\\u0939\\u093f\\u0930 \\u091c\\u093e\\u0928\\u0941 \\u092d\\u0915\\u094b\\u091b \\u0964\",\n          \"\\u0967\\u096a \\u0935\\u0921\\u093e \\u0915\\u0941\\u092e\\u093e\\u0930\\u0940 \\u0915\\u0932\\u092c \\u0905\\u0917\\u093e\\u0921\\u093f\\u0915\\u094b \\u092c\\u093e\\u091f\\u094b\\u092e\\u093e \\u0916\\u093e\\u0932\\u094d\\u0921\\u094b \\u0930\\u0939\\u0947\\u0915\\u094b \\u0939\\u0941\\u0901\\u0926\\u093e \\u092f\\u0938\\u0915\\u094b \\u0905\\u0924\\u093f\\u0936\\u093f\\u0930\\u094d\\u0918 \\u092c\\u0928\\u093e\\u0907\\u0926\\u093f\\u0928\\u0941\\u0939\\u0941\\u0928 \\u0905\\u0928\\u0941\\u0930\\u094b\\u0927 \\u091b \\u0964\"\n        ],\n        \"semantic_type\": \"\",\n        \"description\": \"\"\n      }\n    }\n  ]\n}",
              "type": "dataframe",
              "variable_name": "df"
            },
            "text/html": [
              "\n",
              "  <div id=\"df-87d0c27b-e06d-4075-9f90-53b5bf453968\" class=\"colab-df-container\">\n",
              "    <div>\n",
              "<style scoped>\n",
              "    .dataframe tbody tr th:only-of-type {\n",
              "        vertical-align: middle;\n",
              "    }\n",
              "\n",
              "    .dataframe tbody tr th {\n",
              "        vertical-align: top;\n",
              "    }\n",
              "\n",
              "    .dataframe thead th {\n",
              "        text-align: right;\n",
              "    }\n",
              "</style>\n",
              "<table border=\"1\" class=\"dataframe\">\n",
              "  <thead>\n",
              "    <tr style=\"text-align: right;\">\n",
              "      <th></th>\n",
              "      <th>गुनासो वर्ग</th>\n",
              "      <th>गुनासो</th>\n",
              "    </tr>\n",
              "  </thead>\n",
              "  <tbody>\n",
              "    <tr>\n",
              "      <th>0</th>\n",
              "      <td>अर्थ सबन्धी</td>\n",
              "      <td>मीनभवन र तिनकुनेको बीचमा रहेको एलजी शोरुम माथि...</td>\n",
              "    </tr>\n",
              "    <tr>\n",
              "      <th>1</th>\n",
              "      <td>अर्थ सबन्धी</td>\n",
              "      <td>- भ्याट बिल जारी गरिएको छैन</td>\n",
              "    </tr>\n",
              "    <tr>\n",
              "      <th>2</th>\n",
              "      <td>अर्थ सबन्धी</td>\n",
              "      <td>. जानकारी - अनुरोध\\nकुनै पनि मानिसको जागिर अवध...</td>\n",
              "    </tr>\n",
              "    <tr>\n",
              "      <th>3</th>\n",
              "      <td>अर्थ सबन्धी</td>\n",
              "      <td>एटीएम कार्ड हराएको लगभग २ वर्ष जति भइसकेको छ न...</td>\n",
              "    </tr>\n",
              "    <tr>\n",
              "      <th>4</th>\n",
              "      <td>अर्थ सबन्धी</td>\n",
              "      <td>वास्तवमा, यो उल्लिखित समस्या स्टक एक्सचेन्जसँग...</td>\n",
              "    </tr>\n",
              "  </tbody>\n",
              "</table>\n",
              "</div>\n",
              "    <div class=\"colab-df-buttons\">\n",
              "\n",
              "  <div class=\"colab-df-container\">\n",
              "    <button class=\"colab-df-convert\" onclick=\"convertToInteractive('df-87d0c27b-e06d-4075-9f90-53b5bf453968')\"\n",
              "            title=\"Convert this dataframe to an interactive table.\"\n",
              "            style=\"display:none;\">\n",
              "\n",
              "  <svg xmlns=\"http://www.w3.org/2000/svg\" height=\"24px\" viewBox=\"0 -960 960 960\">\n",
              "    <path d=\"M120-120v-720h720v720H120Zm60-500h600v-160H180v160Zm220 220h160v-160H400v160Zm0 220h160v-160H400v160ZM180-400h160v-160H180v160Zm440 0h160v-160H620v160ZM180-180h160v-160H180v160Zm440 0h160v-160H620v160Z\"/>\n",
              "  </svg>\n",
              "    </button>\n",
              "\n",
              "  <style>\n",
              "    .colab-df-container {\n",
              "      display:flex;\n",
              "      gap: 12px;\n",
              "    }\n",
              "\n",
              "    .colab-df-convert {\n",
              "      background-color: #E8F0FE;\n",
              "      border: none;\n",
              "      border-radius: 50%;\n",
              "      cursor: pointer;\n",
              "      display: none;\n",
              "      fill: #1967D2;\n",
              "      height: 32px;\n",
              "      padding: 0 0 0 0;\n",
              "      width: 32px;\n",
              "    }\n",
              "\n",
              "    .colab-df-convert:hover {\n",
              "      background-color: #E2EBFA;\n",
              "      box-shadow: 0px 1px 2px rgba(60, 64, 67, 0.3), 0px 1px 3px 1px rgba(60, 64, 67, 0.15);\n",
              "      fill: #174EA6;\n",
              "    }\n",
              "\n",
              "    .colab-df-buttons div {\n",
              "      margin-bottom: 4px;\n",
              "    }\n",
              "\n",
              "    [theme=dark] .colab-df-convert {\n",
              "      background-color: #3B4455;\n",
              "      fill: #D2E3FC;\n",
              "    }\n",
              "\n",
              "    [theme=dark] .colab-df-convert:hover {\n",
              "      background-color: #434B5C;\n",
              "      box-shadow: 0px 1px 3px 1px rgba(0, 0, 0, 0.15);\n",
              "      filter: drop-shadow(0px 1px 2px rgba(0, 0, 0, 0.3));\n",
              "      fill: #FFFFFF;\n",
              "    }\n",
              "  </style>\n",
              "\n",
              "    <script>\n",
              "      const buttonEl =\n",
              "        document.querySelector('#df-87d0c27b-e06d-4075-9f90-53b5bf453968 button.colab-df-convert');\n",
              "      buttonEl.style.display =\n",
              "        google.colab.kernel.accessAllowed ? 'block' : 'none';\n",
              "\n",
              "      async function convertToInteractive(key) {\n",
              "        const element = document.querySelector('#df-87d0c27b-e06d-4075-9f90-53b5bf453968');\n",
              "        const dataTable =\n",
              "          await google.colab.kernel.invokeFunction('convertToInteractive',\n",
              "                                                    [key], {});\n",
              "        if (!dataTable) return;\n",
              "\n",
              "        const docLinkHtml = 'Like what you see? Visit the ' +\n",
              "          '<a target=\"_blank\" href=https://colab.research.google.com/notebooks/data_table.ipynb>data table notebook</a>'\n",
              "          + ' to learn more about interactive tables.';\n",
              "        element.innerHTML = '';\n",
              "        dataTable['output_type'] = 'display_data';\n",
              "        await google.colab.output.renderOutput(dataTable, element);\n",
              "        const docLink = document.createElement('div');\n",
              "        docLink.innerHTML = docLinkHtml;\n",
              "        element.appendChild(docLink);\n",
              "      }\n",
              "    </script>\n",
              "  </div>\n",
              "\n",
              "\n",
              "<div id=\"df-a1f2921b-3a02-4dab-bc6f-2b5e7a70c03f\">\n",
              "  <button class=\"colab-df-quickchart\" onclick=\"quickchart('df-a1f2921b-3a02-4dab-bc6f-2b5e7a70c03f')\"\n",
              "            title=\"Suggest charts\"\n",
              "            style=\"display:none;\">\n",
              "\n",
              "<svg xmlns=\"http://www.w3.org/2000/svg\" height=\"24px\"viewBox=\"0 0 24 24\"\n",
              "     width=\"24px\">\n",
              "    <g>\n",
              "        <path d=\"M19 3H5c-1.1 0-2 .9-2 2v14c0 1.1.9 2 2 2h14c1.1 0 2-.9 2-2V5c0-1.1-.9-2-2-2zM9 17H7v-7h2v7zm4 0h-2V7h2v10zm4 0h-2v-4h2v4z\"/>\n",
              "    </g>\n",
              "</svg>\n",
              "  </button>\n",
              "\n",
              "<style>\n",
              "  .colab-df-quickchart {\n",
              "      --bg-color: #E8F0FE;\n",
              "      --fill-color: #1967D2;\n",
              "      --hover-bg-color: #E2EBFA;\n",
              "      --hover-fill-color: #174EA6;\n",
              "      --disabled-fill-color: #AAA;\n",
              "      --disabled-bg-color: #DDD;\n",
              "  }\n",
              "\n",
              "  [theme=dark] .colab-df-quickchart {\n",
              "      --bg-color: #3B4455;\n",
              "      --fill-color: #D2E3FC;\n",
              "      --hover-bg-color: #434B5C;\n",
              "      --hover-fill-color: #FFFFFF;\n",
              "      --disabled-bg-color: #3B4455;\n",
              "      --disabled-fill-color: #666;\n",
              "  }\n",
              "\n",
              "  .colab-df-quickchart {\n",
              "    background-color: var(--bg-color);\n",
              "    border: none;\n",
              "    border-radius: 50%;\n",
              "    cursor: pointer;\n",
              "    display: none;\n",
              "    fill: var(--fill-color);\n",
              "    height: 32px;\n",
              "    padding: 0;\n",
              "    width: 32px;\n",
              "  }\n",
              "\n",
              "  .colab-df-quickchart:hover {\n",
              "    background-color: var(--hover-bg-color);\n",
              "    box-shadow: 0 1px 2px rgba(60, 64, 67, 0.3), 0 1px 3px 1px rgba(60, 64, 67, 0.15);\n",
              "    fill: var(--button-hover-fill-color);\n",
              "  }\n",
              "\n",
              "  .colab-df-quickchart-complete:disabled,\n",
              "  .colab-df-quickchart-complete:disabled:hover {\n",
              "    background-color: var(--disabled-bg-color);\n",
              "    fill: var(--disabled-fill-color);\n",
              "    box-shadow: none;\n",
              "  }\n",
              "\n",
              "  .colab-df-spinner {\n",
              "    border: 2px solid var(--fill-color);\n",
              "    border-color: transparent;\n",
              "    border-bottom-color: var(--fill-color);\n",
              "    animation:\n",
              "      spin 1s steps(1) infinite;\n",
              "  }\n",
              "\n",
              "  @keyframes spin {\n",
              "    0% {\n",
              "      border-color: transparent;\n",
              "      border-bottom-color: var(--fill-color);\n",
              "      border-left-color: var(--fill-color);\n",
              "    }\n",
              "    20% {\n",
              "      border-color: transparent;\n",
              "      border-left-color: var(--fill-color);\n",
              "      border-top-color: var(--fill-color);\n",
              "    }\n",
              "    30% {\n",
              "      border-color: transparent;\n",
              "      border-left-color: var(--fill-color);\n",
              "      border-top-color: var(--fill-color);\n",
              "      border-right-color: var(--fill-color);\n",
              "    }\n",
              "    40% {\n",
              "      border-color: transparent;\n",
              "      border-right-color: var(--fill-color);\n",
              "      border-top-color: var(--fill-color);\n",
              "    }\n",
              "    60% {\n",
              "      border-color: transparent;\n",
              "      border-right-color: var(--fill-color);\n",
              "    }\n",
              "    80% {\n",
              "      border-color: transparent;\n",
              "      border-right-color: var(--fill-color);\n",
              "      border-bottom-color: var(--fill-color);\n",
              "    }\n",
              "    90% {\n",
              "      border-color: transparent;\n",
              "      border-bottom-color: var(--fill-color);\n",
              "    }\n",
              "  }\n",
              "</style>\n",
              "\n",
              "  <script>\n",
              "    async function quickchart(key) {\n",
              "      const quickchartButtonEl =\n",
              "        document.querySelector('#' + key + ' button');\n",
              "      quickchartButtonEl.disabled = true;  // To prevent multiple clicks.\n",
              "      quickchartButtonEl.classList.add('colab-df-spinner');\n",
              "      try {\n",
              "        const charts = await google.colab.kernel.invokeFunction(\n",
              "            'suggestCharts', [key], {});\n",
              "      } catch (error) {\n",
              "        console.error('Error during call to suggestCharts:', error);\n",
              "      }\n",
              "      quickchartButtonEl.classList.remove('colab-df-spinner');\n",
              "      quickchartButtonEl.classList.add('colab-df-quickchart-complete');\n",
              "    }\n",
              "    (() => {\n",
              "      let quickchartButtonEl =\n",
              "        document.querySelector('#df-a1f2921b-3a02-4dab-bc6f-2b5e7a70c03f button');\n",
              "      quickchartButtonEl.style.display =\n",
              "        google.colab.kernel.accessAllowed ? 'block' : 'none';\n",
              "    })();\n",
              "  </script>\n",
              "</div>\n",
              "\n",
              "    </div>\n",
              "  </div>\n"
            ],
            "text/plain": [
              "   गुनासो वर्ग                                             गुनासो\n",
              "0  अर्थ सबन्धी  मीनभवन र तिनकुनेको बीचमा रहेको एलजी शोरुम माथि...\n",
              "1  अर्थ सबन्धी                        - भ्याट बिल जारी गरिएको छैन\n",
              "2  अर्थ सबन्धी  . जानकारी - अनुरोध\\nकुनै पनि मानिसको जागिर अवध...\n",
              "3  अर्थ सबन्धी  एटीएम कार्ड हराएको लगभग २ वर्ष जति भइसकेको छ न...\n",
              "4  अर्थ सबन्धी  वास्तवमा, यो उल्लिखित समस्या स्टक एक्सचेन्जसँग..."
            ]
          },
          "execution_count": 16,
          "metadata": {},
          "output_type": "execute_result"
        }
      ],
      "source": [
        "df.head()"
      ]
    },
    {
      "cell_type": "code",
      "execution_count": null,
      "metadata": {
        "colab": {
          "base_uri": "https://localhost:8080/"
        },
        "id": "Qu7TUEAlyG7i",
        "outputId": "1befece2-5cd1-42a0-b2a6-ddd86b2d366d"
      },
      "outputs": [
        {
          "data": {
            "text/plain": [
              "वेबसाइट तथा अभिलेख व्यवस्थापन सम्बन्धी      2849\n",
              "सोधपुछ, सुझाव, प्रशंसा सम्बन्धी             1883\n",
              "पार्किङ्ग तथा मेट्रो पुलिस                  1701\n",
              "कर्मचारी सम्वन्धी                           1337\n",
              "अर्थ सबन्धी                                  860\n",
              "खानेपानी                                     800\n",
              "स्वास्थ्यसँग सम्बन्धी                        694\n",
              "सूचना तथा संचार                              640\n",
              "शान्ति सुरक्षा                               634\n",
              "फोहोरमैला व्यवस्थापन                         630\n",
              "निर्माण कार्य सम्बन्धी                       605\n",
              "प्राकृतिक श्रोत/साधन सम्बन्धी                200\n",
              "लागु पदार्थ सम्बन्धी                         157\n",
              "अर्थिक अनियमितता तथा भ्रष्टाचार सम्बन्धी      71\n",
              "Name: गुनासो वर्ग, dtype: int64"
            ]
          },
          "execution_count": 17,
          "metadata": {},
          "output_type": "execute_result"
        }
      ],
      "source": [
        "df['गुनासो वर्ग'].value_counts()"
      ]
    },
    {
      "cell_type": "code",
      "execution_count": null,
      "metadata": {
        "colab": {
          "base_uri": "https://localhost:8080/"
        },
        "id": "1fd3lww6yIVi",
        "outputId": "9894fd83-f5c2-4738-d8a1-b86874192711"
      },
      "outputs": [
        {
          "name": "stdout",
          "output_type": "stream",
          "text": [
            "Collecting nlpaug\n",
            "  Downloading nlpaug-1.1.11-py3-none-any.whl (410 kB)\n",
            "\u001b[?25l     \u001b[90m━━━━━━━━━━━━━━━━━━━━━━━━━━━━━━━━━━━━━━━━\u001b[0m \u001b[32m0.0/410.5 kB\u001b[0m \u001b[31m?\u001b[0m eta \u001b[36m-:--:--\u001b[0m\r\u001b[2K     \u001b[91m━━━━━━━━━━━━━━━━━━━━━━━━━━━━━━━━━━━━━━━\u001b[0m\u001b[91m╸\u001b[0m \u001b[32m409.6/410.5 kB\u001b[0m \u001b[31m15.9 MB/s\u001b[0m eta \u001b[36m0:00:01\u001b[0m\r\u001b[2K     \u001b[90m━━━━━━━━━━━━━━━━━━━━━━━━━━━━━━━━━━━━━━━━\u001b[0m \u001b[32m410.5/410.5 kB\u001b[0m \u001b[31m11.3 MB/s\u001b[0m eta \u001b[36m0:00:00\u001b[0m\n",
            "\u001b[?25hRequirement already satisfied: numpy>=1.16.2 in /usr/local/lib/python3.10/dist-packages (from nlpaug) (1.25.2)\n",
            "Requirement already satisfied: pandas>=1.2.0 in /usr/local/lib/python3.10/dist-packages (from nlpaug) (1.5.3)\n",
            "Requirement already satisfied: requests>=2.22.0 in /usr/local/lib/python3.10/dist-packages (from nlpaug) (2.31.0)\n",
            "Requirement already satisfied: gdown>=4.0.0 in /usr/local/lib/python3.10/dist-packages (from nlpaug) (4.7.3)\n",
            "Requirement already satisfied: filelock in /usr/local/lib/python3.10/dist-packages (from gdown>=4.0.0->nlpaug) (3.13.1)\n",
            "Requirement already satisfied: six in /usr/local/lib/python3.10/dist-packages (from gdown>=4.0.0->nlpaug) (1.16.0)\n",
            "Requirement already satisfied: tqdm in /usr/local/lib/python3.10/dist-packages (from gdown>=4.0.0->nlpaug) (4.66.2)\n",
            "Requirement already satisfied: beautifulsoup4 in /usr/local/lib/python3.10/dist-packages (from gdown>=4.0.0->nlpaug) (4.12.3)\n",
            "Requirement already satisfied: python-dateutil>=2.8.1 in /usr/local/lib/python3.10/dist-packages (from pandas>=1.2.0->nlpaug) (2.8.2)\n",
            "Requirement already satisfied: pytz>=2020.1 in /usr/local/lib/python3.10/dist-packages (from pandas>=1.2.0->nlpaug) (2023.4)\n",
            "Requirement already satisfied: charset-normalizer<4,>=2 in /usr/local/lib/python3.10/dist-packages (from requests>=2.22.0->nlpaug) (3.3.2)\n",
            "Requirement already satisfied: idna<4,>=2.5 in /usr/local/lib/python3.10/dist-packages (from requests>=2.22.0->nlpaug) (3.6)\n",
            "Requirement already satisfied: urllib3<3,>=1.21.1 in /usr/local/lib/python3.10/dist-packages (from requests>=2.22.0->nlpaug) (2.0.7)\n",
            "Requirement already satisfied: certifi>=2017.4.17 in /usr/local/lib/python3.10/dist-packages (from requests>=2.22.0->nlpaug) (2024.2.2)\n",
            "Requirement already satisfied: soupsieve>1.2 in /usr/local/lib/python3.10/dist-packages (from beautifulsoup4->gdown>=4.0.0->nlpaug) (2.5)\n",
            "Requirement already satisfied: PySocks!=1.5.7,>=1.5.6 in /usr/local/lib/python3.10/dist-packages (from requests>=2.22.0->nlpaug) (1.7.1)\n",
            "Installing collected packages: nlpaug\n",
            "Successfully installed nlpaug-1.1.11\n"
          ]
        }
      ],
      "source": [
        "!pip install nlpaug"
      ]
    },
    {
      "cell_type": "code",
      "execution_count": null,
      "metadata": {
        "id": "ngLs7KQVz3AJ"
      },
      "outputs": [],
      "source": [
        "\n",
        "import nlpaug.augmenter.char as nac\n",
        "import nlpaug.augmenter.word as naw\n",
        "import nlpaug.flow as naf\n",
        "from nlpaug.util import Action\n",
        "import random"
      ]
    },
    {
      "cell_type": "code",
      "execution_count": null,
      "metadata": {
        "colab": {
          "base_uri": "https://localhost:8080/"
        },
        "id": "P4BGNELiz_Yb",
        "outputId": "45a19702-d12a-43ac-9ec6-37a048a23489"
      },
      "outputs": [
        {
          "data": {
            "text/plain": [
              "2849"
            ]
          },
          "execution_count": 20,
          "metadata": {},
          "output_type": "execute_result"
        }
      ],
      "source": [
        "counts=df['गुनासो वर्ग'].value_counts()\n",
        "max_count= max(counts)\n",
        "max_count"
      ]
    },
    {
      "cell_type": "code",
      "execution_count": null,
      "metadata": {
        "id": "p80auAfQ3sMk"
      },
      "outputs": [],
      "source": [
        "# # Define the simple text augmentation function again\n",
        "# def simple_augment_nepali_text(text, operation=\"insertion\", changes=1):\n",
        "#     words = text.split()\n",
        "\n",
        "#     if operation == \"insertion\":\n",
        "#         for _ in range(changes):\n",
        "#             insert_position = random.randint(0, len(words) - 1)\n",
        "#             words.insert(insert_position, \"नेपाली\")\n",
        "#     elif operation == \"deletion\":\n",
        "#         for _ in range(min(changes, len(words))):\n",
        "#             delete_position = random.randint(0, len(words) - 1)\n",
        "#             del words[delete_position]\n",
        "\n",
        "#     return ' '.join(words)"
      ]
    },
    {
      "cell_type": "code",
      "execution_count": null,
      "metadata": {
        "id": "YAuDUNwQ7ZVL"
      },
      "outputs": [],
      "source": [
        "# import pandas as pd\n",
        "# import random\n",
        "\n",
        "# # Assuming df is the DataFrame with your data\n",
        "# # Replace 'category_column' with the actual name of your category column, e.g., 'गुनासो वर्ग'\n",
        "# category_column = 'गुनासो वर्ग'\n",
        "\n",
        "# counts = df[category_column].value_counts()\n",
        "# max_count = max(counts)\n",
        "\n",
        "# df_final = pd.DataFrame()\n",
        "\n",
        "# for category, count in counts.items():\n",
        "#     df_cat = df[df[category_column] == category]\n",
        "#     augmentation_needed = max_count - count\n",
        "\n",
        "#     # Check if augmentation is needed\n",
        "#     if augmentation_needed > 0:\n",
        "#         augmented_texts = []\n",
        "#         for _ in range(augmentation_needed):\n",
        "#             # Randomly select a text to augment\n",
        "#             text_to_augment = df_cat.sample(n=1, replace=True)['गुनासो'].iloc[0]\n",
        "#             # Apply the augmentation function\n",
        "#             augmented_text = simple_augment_nepali_text(text_to_augment, operation=\"insertion\", changes=2)\n",
        "#             augmented_texts.append({'गुनासो': augmented_text, category_column: category})\n",
        "\n",
        "#         # Create a DataFrame from the augmented texts\n",
        "#         augmented_df = pd.DataFrame(augmented_texts)\n",
        "#         # Combine the original and augmented data for this category\n",
        "#         df_cat_final = pd.concat([df_cat, augmented_df])\n",
        "#     else:\n",
        "#         df_cat_final = df_cat\n",
        "\n",
        "#     # Combine with the final DataFrame\n",
        "#     df_final = pd.concat([df_final, df_cat_final], ignore_index=True)\n",
        "\n",
        "# # Ensure the final DataFrame doesn't exceed the max_count for any category\n",
        "# # This is a safeguard and may not be necessary if the above loop works correctly\n",
        "# df_final_counts = df_final[category_column].value_counts()\n",
        "# print(df_final_counts)\n"
      ]
    },
    {
      "cell_type": "code",
      "execution_count": null,
      "metadata": {
        "id": "p3ERq9VCHe5q"
      },
      "outputs": [],
      "source": [
        "df_final=pd.DataFrame()\n",
        "for category,count in counts.items():\n",
        "  df_cat=df[df['गुनासो वर्ग']==category]\n",
        "  if count < max_count:\n",
        "    df_cat_oversampled=df_cat.sample(max_count,replace=True)\n",
        "    df_cat_oversampled=df_cat_oversampled.reset_index(drop=True)\n",
        "  else:\n",
        "    df_cat_oversampled=df_cat\n",
        "\n",
        "  df_final=pd.concat([df_final,df_cat_oversampled])\n"
      ]
    },
    {
      "cell_type": "code",
      "execution_count": null,
      "metadata": {
        "colab": {
          "base_uri": "https://localhost:8080/"
        },
        "id": "H6QO_niU7hl2",
        "outputId": "19e494f4-babf-44dc-ef5c-e2c68b0195ed"
      },
      "outputs": [
        {
          "data": {
            "text/plain": [
              "वेबसाइट तथा अभिलेख व्यवस्थापन सम्बन्धी      2849\n",
              "सोधपुछ, सुझाव, प्रशंसा सम्बन्धी             2849\n",
              "पार्किङ्ग तथा मेट्रो पुलिस                  2849\n",
              "कर्मचारी सम्वन्धी                           2849\n",
              "अर्थ सबन्धी                                 2849\n",
              "खानेपानी                                    2849\n",
              "स्वास्थ्यसँग सम्बन्धी                       2849\n",
              "सूचना तथा संचार                             2849\n",
              "शान्ति सुरक्षा                              2849\n",
              "फोहोरमैला व्यवस्थापन                        2849\n",
              "निर्माण कार्य सम्बन्धी                      2849\n",
              "प्राकृतिक श्रोत/साधन सम्बन्धी               2849\n",
              "लागु पदार्थ सम्बन्धी                        2849\n",
              "अर्थिक अनियमितता तथा भ्रष्टाचार सम्बन्धी    2849\n",
              "Name: गुनासो वर्ग, dtype: int64"
            ]
          },
          "execution_count": 24,
          "metadata": {},
          "output_type": "execute_result"
        }
      ],
      "source": [
        "df_final['गुनासो वर्ग'].value_counts()"
      ]
    },
    {
      "cell_type": "code",
      "execution_count": null,
      "metadata": {
        "colab": {
          "base_uri": "https://localhost:8080/",
          "height": 206
        },
        "id": "lixrGgkVQ_Q_",
        "outputId": "b70ea2bb-358c-40a8-b2ac-4933dfc1c0a1"
      },
      "outputs": [
        {
          "data": {
            "application/vnd.google.colaboratory.intrinsic+json": {
              "summary": "{\n  \"name\": \"df_final\",\n  \"rows\": 5,\n  \"fields\": [\n    {\n      \"column\": \"\\u0917\\u0941\\u0928\\u093e\\u0938\\u094b \\u0935\\u0930\\u094d\\u0917\",\n      \"properties\": {\n        \"dtype\": \"string\",\n        \"num_unique_values\": 3,\n        \"samples\": [\n          \"\\u0936\\u093e\\u0928\\u094d\\u0924\\u093f \\u0938\\u0941\\u0930\\u0915\\u094d\\u0937\\u093e\",\n          \"\\u0938\\u094b\\u0927\\u092a\\u0941\\u091b, \\u0938\\u0941\\u091d\\u093e\\u0935, \\u092a\\u094d\\u0930\\u0936\\u0902\\u0938\\u093e \\u0938\\u092e\\u094d\\u092c\\u0928\\u094d\\u0927\\u0940\",\n          \"\\u0905\\u0930\\u094d\\u0925 \\u0938\\u092c\\u0928\\u094d\\u0927\\u0940\"\n        ],\n        \"semantic_type\": \"\",\n        \"description\": \"\"\n      }\n    },\n    {\n      \"column\": \"\\u0917\\u0941\\u0928\\u093e\\u0938\\u094b\",\n      \"properties\": {\n        \"dtype\": \"string\",\n        \"num_unique_values\": 5,\n        \"samples\": [\n          \"\\u092a\\u0941\\u0932\\u093f\\u0938 clearance report (apply, reference, payment)jun jhamela x last time\\\\neasy hunu paryo.\\\\npahila easy thiyo ahile bhanda.\\\\nminimum 4/5 din lagx complet garn.\\\\npayment hamle garer pani feri \\u092a\\u0930\\u0930\\u093e\\u0937\\u094d\\u091f\\u094d\\u0930 \\u092e\\u093e \\u091c\\u093e\\u0928\\u0941 \\u092a\\u0930\\u094d\\u0928\\u0947 \\u0915\\u093f\\u0928????\",\n          \"\\u091c\\u093f \\u092a\\u094d\\u0930 \\u0915\\u093e \\u0930\\u0941\\u092a\\u0928\\u094d\\u0926\\u0947\\u0939\\u0940 \\u092c\\u093e\\u091f \\u091c\\u093e\\u0930\\u0940 \\u0928\\u093e \\u0928 \\u0969\\u096d/\\u0968\\u0966\\u096b\\u096c\\u096b \\u0939\\u094b \\u092e\\u0947\\u0930\\u094b \\u0924\\u0930 \\u092f\\u094b \\u092e\\u0947\\u0938\\u0947\\u091c \\u092c\\u093e\\u091f \\u0926\\u094d\\u0935\\u093f\\u092c\\u093f\\u0927\\u093e \\u0909\\u0924\\u094d\\u092a\\u0928\\u094d\\u0928 \\u092d\\u092f\\u094b \\u0915\\u0947 \\u0915\\u0938\\u094b \\u0939\\u094b \\u092a\\u094d\\u0930\\u0937\\u094d\\u091f \\u092a\\u093e\\u0930\\u093f\\u0926\\u093f\\u0928\\u0941 \\u092d\\u090f \\u0906\\u092d\\u093e\\u0930\\u0940 \\u0939\\u0941\\u0928\\u0947 \\u0925\\u093f\\u090f\",\n          \"\\u090f\\u091f\\u0940\\u090f\\u092e \\u0915\\u093e\\u0930\\u094d\\u0921 \\u0939\\u0930\\u093e\\u090f\\u0915\\u094b \\u0932\\u0917\\u092d\\u0917 \\u0968 \\u0935\\u0930\\u094d\\u0937 \\u091c\\u0924\\u093f \\u092d\\u0907\\u0938\\u0915\\u0947\\u0915\\u094b \\u091b \\u0928\\u093f\\u0935\\u0947\\u0926\\u0928 \\u092a\\u0928\\u093f \\u0969/\\u096a \\u092a\\u091f\\u0915 \\u0928\\u0947\\u092a\\u093e\\u0932 \\u092c\\u0948\\u0902\\u0915 \\u0939\\u0930\\u093f\\u0935\\u0928 \\u0936\\u093e\\u0916\\u093e\\u092e\\u093e \\u0926\\u093f\\u090f\\u0915\\u094b \\u0939\\u0941\\u0928\\u093e\\u0932\\u0947 \\u0924\\u0930 \\u0905\\u0939\\u093f\\u0932\\u0947\\u0938\\u092e\\u094d\\u092e \\u0906\\u090f\\u0915\\u094b \\u091b\\u0948\\u0928\\u0964\"\n        ],\n        \"semantic_type\": \"\",\n        \"description\": \"\"\n      }\n    }\n  ]\n}",
              "type": "dataframe"
            },
            "text/html": [
              "\n",
              "  <div id=\"df-95f485f4-3a84-4655-a3a2-f924562a7cc3\" class=\"colab-df-container\">\n",
              "    <div>\n",
              "<style scoped>\n",
              "    .dataframe tbody tr th:only-of-type {\n",
              "        vertical-align: middle;\n",
              "    }\n",
              "\n",
              "    .dataframe tbody tr th {\n",
              "        vertical-align: top;\n",
              "    }\n",
              "\n",
              "    .dataframe thead th {\n",
              "        text-align: right;\n",
              "    }\n",
              "</style>\n",
              "<table border=\"1\" class=\"dataframe\">\n",
              "  <thead>\n",
              "    <tr style=\"text-align: right;\">\n",
              "      <th></th>\n",
              "      <th>गुनासो वर्ग</th>\n",
              "      <th>गुनासो</th>\n",
              "    </tr>\n",
              "  </thead>\n",
              "  <tbody>\n",
              "    <tr>\n",
              "      <th>1552</th>\n",
              "      <td>शान्ति सुरक्षा</td>\n",
              "      <td>चितवन जिल्लाको रत्ननगर टाडी घर भएको प्रनिश थाप...</td>\n",
              "    </tr>\n",
              "    <tr>\n",
              "      <th>2395</th>\n",
              "      <td>सोधपुछ, सुझाव, प्रशंसा सम्बन्धी</td>\n",
              "      <td>पुलिस clearance report (apply, reference, paym...</td>\n",
              "    </tr>\n",
              "    <tr>\n",
              "      <th>2307</th>\n",
              "      <td>अर्थ सबन्धी</td>\n",
              "      <td>एटीएम कार्ड हराएको लगभग २ वर्ष जति भइसकेको छ न...</td>\n",
              "    </tr>\n",
              "    <tr>\n",
              "      <th>1738</th>\n",
              "      <td>सोधपुछ, सुझाव, प्रशंसा सम्बन्धी</td>\n",
              "      <td>त्रि बि मा स्नातक तह (Bachelor in Business Stu...</td>\n",
              "    </tr>\n",
              "    <tr>\n",
              "      <th>1541</th>\n",
              "      <td>सोधपुछ, सुझाव, प्रशंसा सम्बन्धी</td>\n",
              "      <td>जि प्र का रुपन्देही बाट जारी ना न ३७/२०५६५ हो ...</td>\n",
              "    </tr>\n",
              "  </tbody>\n",
              "</table>\n",
              "</div>\n",
              "    <div class=\"colab-df-buttons\">\n",
              "\n",
              "  <div class=\"colab-df-container\">\n",
              "    <button class=\"colab-df-convert\" onclick=\"convertToInteractive('df-95f485f4-3a84-4655-a3a2-f924562a7cc3')\"\n",
              "            title=\"Convert this dataframe to an interactive table.\"\n",
              "            style=\"display:none;\">\n",
              "\n",
              "  <svg xmlns=\"http://www.w3.org/2000/svg\" height=\"24px\" viewBox=\"0 -960 960 960\">\n",
              "    <path d=\"M120-120v-720h720v720H120Zm60-500h600v-160H180v160Zm220 220h160v-160H400v160Zm0 220h160v-160H400v160ZM180-400h160v-160H180v160Zm440 0h160v-160H620v160ZM180-180h160v-160H180v160Zm440 0h160v-160H620v160Z\"/>\n",
              "  </svg>\n",
              "    </button>\n",
              "\n",
              "  <style>\n",
              "    .colab-df-container {\n",
              "      display:flex;\n",
              "      gap: 12px;\n",
              "    }\n",
              "\n",
              "    .colab-df-convert {\n",
              "      background-color: #E8F0FE;\n",
              "      border: none;\n",
              "      border-radius: 50%;\n",
              "      cursor: pointer;\n",
              "      display: none;\n",
              "      fill: #1967D2;\n",
              "      height: 32px;\n",
              "      padding: 0 0 0 0;\n",
              "      width: 32px;\n",
              "    }\n",
              "\n",
              "    .colab-df-convert:hover {\n",
              "      background-color: #E2EBFA;\n",
              "      box-shadow: 0px 1px 2px rgba(60, 64, 67, 0.3), 0px 1px 3px 1px rgba(60, 64, 67, 0.15);\n",
              "      fill: #174EA6;\n",
              "    }\n",
              "\n",
              "    .colab-df-buttons div {\n",
              "      margin-bottom: 4px;\n",
              "    }\n",
              "\n",
              "    [theme=dark] .colab-df-convert {\n",
              "      background-color: #3B4455;\n",
              "      fill: #D2E3FC;\n",
              "    }\n",
              "\n",
              "    [theme=dark] .colab-df-convert:hover {\n",
              "      background-color: #434B5C;\n",
              "      box-shadow: 0px 1px 3px 1px rgba(0, 0, 0, 0.15);\n",
              "      filter: drop-shadow(0px 1px 2px rgba(0, 0, 0, 0.3));\n",
              "      fill: #FFFFFF;\n",
              "    }\n",
              "  </style>\n",
              "\n",
              "    <script>\n",
              "      const buttonEl =\n",
              "        document.querySelector('#df-95f485f4-3a84-4655-a3a2-f924562a7cc3 button.colab-df-convert');\n",
              "      buttonEl.style.display =\n",
              "        google.colab.kernel.accessAllowed ? 'block' : 'none';\n",
              "\n",
              "      async function convertToInteractive(key) {\n",
              "        const element = document.querySelector('#df-95f485f4-3a84-4655-a3a2-f924562a7cc3');\n",
              "        const dataTable =\n",
              "          await google.colab.kernel.invokeFunction('convertToInteractive',\n",
              "                                                    [key], {});\n",
              "        if (!dataTable) return;\n",
              "\n",
              "        const docLinkHtml = 'Like what you see? Visit the ' +\n",
              "          '<a target=\"_blank\" href=https://colab.research.google.com/notebooks/data_table.ipynb>data table notebook</a>'\n",
              "          + ' to learn more about interactive tables.';\n",
              "        element.innerHTML = '';\n",
              "        dataTable['output_type'] = 'display_data';\n",
              "        await google.colab.output.renderOutput(dataTable, element);\n",
              "        const docLink = document.createElement('div');\n",
              "        docLink.innerHTML = docLinkHtml;\n",
              "        element.appendChild(docLink);\n",
              "      }\n",
              "    </script>\n",
              "  </div>\n",
              "\n",
              "\n",
              "<div id=\"df-321ebcce-e0a5-49fb-89aa-fe6b90a5b8ca\">\n",
              "  <button class=\"colab-df-quickchart\" onclick=\"quickchart('df-321ebcce-e0a5-49fb-89aa-fe6b90a5b8ca')\"\n",
              "            title=\"Suggest charts\"\n",
              "            style=\"display:none;\">\n",
              "\n",
              "<svg xmlns=\"http://www.w3.org/2000/svg\" height=\"24px\"viewBox=\"0 0 24 24\"\n",
              "     width=\"24px\">\n",
              "    <g>\n",
              "        <path d=\"M19 3H5c-1.1 0-2 .9-2 2v14c0 1.1.9 2 2 2h14c1.1 0 2-.9 2-2V5c0-1.1-.9-2-2-2zM9 17H7v-7h2v7zm4 0h-2V7h2v10zm4 0h-2v-4h2v4z\"/>\n",
              "    </g>\n",
              "</svg>\n",
              "  </button>\n",
              "\n",
              "<style>\n",
              "  .colab-df-quickchart {\n",
              "      --bg-color: #E8F0FE;\n",
              "      --fill-color: #1967D2;\n",
              "      --hover-bg-color: #E2EBFA;\n",
              "      --hover-fill-color: #174EA6;\n",
              "      --disabled-fill-color: #AAA;\n",
              "      --disabled-bg-color: #DDD;\n",
              "  }\n",
              "\n",
              "  [theme=dark] .colab-df-quickchart {\n",
              "      --bg-color: #3B4455;\n",
              "      --fill-color: #D2E3FC;\n",
              "      --hover-bg-color: #434B5C;\n",
              "      --hover-fill-color: #FFFFFF;\n",
              "      --disabled-bg-color: #3B4455;\n",
              "      --disabled-fill-color: #666;\n",
              "  }\n",
              "\n",
              "  .colab-df-quickchart {\n",
              "    background-color: var(--bg-color);\n",
              "    border: none;\n",
              "    border-radius: 50%;\n",
              "    cursor: pointer;\n",
              "    display: none;\n",
              "    fill: var(--fill-color);\n",
              "    height: 32px;\n",
              "    padding: 0;\n",
              "    width: 32px;\n",
              "  }\n",
              "\n",
              "  .colab-df-quickchart:hover {\n",
              "    background-color: var(--hover-bg-color);\n",
              "    box-shadow: 0 1px 2px rgba(60, 64, 67, 0.3), 0 1px 3px 1px rgba(60, 64, 67, 0.15);\n",
              "    fill: var(--button-hover-fill-color);\n",
              "  }\n",
              "\n",
              "  .colab-df-quickchart-complete:disabled,\n",
              "  .colab-df-quickchart-complete:disabled:hover {\n",
              "    background-color: var(--disabled-bg-color);\n",
              "    fill: var(--disabled-fill-color);\n",
              "    box-shadow: none;\n",
              "  }\n",
              "\n",
              "  .colab-df-spinner {\n",
              "    border: 2px solid var(--fill-color);\n",
              "    border-color: transparent;\n",
              "    border-bottom-color: var(--fill-color);\n",
              "    animation:\n",
              "      spin 1s steps(1) infinite;\n",
              "  }\n",
              "\n",
              "  @keyframes spin {\n",
              "    0% {\n",
              "      border-color: transparent;\n",
              "      border-bottom-color: var(--fill-color);\n",
              "      border-left-color: var(--fill-color);\n",
              "    }\n",
              "    20% {\n",
              "      border-color: transparent;\n",
              "      border-left-color: var(--fill-color);\n",
              "      border-top-color: var(--fill-color);\n",
              "    }\n",
              "    30% {\n",
              "      border-color: transparent;\n",
              "      border-left-color: var(--fill-color);\n",
              "      border-top-color: var(--fill-color);\n",
              "      border-right-color: var(--fill-color);\n",
              "    }\n",
              "    40% {\n",
              "      border-color: transparent;\n",
              "      border-right-color: var(--fill-color);\n",
              "      border-top-color: var(--fill-color);\n",
              "    }\n",
              "    60% {\n",
              "      border-color: transparent;\n",
              "      border-right-color: var(--fill-color);\n",
              "    }\n",
              "    80% {\n",
              "      border-color: transparent;\n",
              "      border-right-color: var(--fill-color);\n",
              "      border-bottom-color: var(--fill-color);\n",
              "    }\n",
              "    90% {\n",
              "      border-color: transparent;\n",
              "      border-bottom-color: var(--fill-color);\n",
              "    }\n",
              "  }\n",
              "</style>\n",
              "\n",
              "  <script>\n",
              "    async function quickchart(key) {\n",
              "      const quickchartButtonEl =\n",
              "        document.querySelector('#' + key + ' button');\n",
              "      quickchartButtonEl.disabled = true;  // To prevent multiple clicks.\n",
              "      quickchartButtonEl.classList.add('colab-df-spinner');\n",
              "      try {\n",
              "        const charts = await google.colab.kernel.invokeFunction(\n",
              "            'suggestCharts', [key], {});\n",
              "      } catch (error) {\n",
              "        console.error('Error during call to suggestCharts:', error);\n",
              "      }\n",
              "      quickchartButtonEl.classList.remove('colab-df-spinner');\n",
              "      quickchartButtonEl.classList.add('colab-df-quickchart-complete');\n",
              "    }\n",
              "    (() => {\n",
              "      let quickchartButtonEl =\n",
              "        document.querySelector('#df-321ebcce-e0a5-49fb-89aa-fe6b90a5b8ca button');\n",
              "      quickchartButtonEl.style.display =\n",
              "        google.colab.kernel.accessAllowed ? 'block' : 'none';\n",
              "    })();\n",
              "  </script>\n",
              "</div>\n",
              "\n",
              "    </div>\n",
              "  </div>\n"
            ],
            "text/plain": [
              "                          गुनासो वर्ग  \\\n",
              "1552                   शान्ति सुरक्षा   \n",
              "2395  सोधपुछ, सुझाव, प्रशंसा सम्बन्धी   \n",
              "2307                      अर्थ सबन्धी   \n",
              "1738  सोधपुछ, सुझाव, प्रशंसा सम्बन्धी   \n",
              "1541  सोधपुछ, सुझाव, प्रशंसा सम्बन्धी   \n",
              "\n",
              "                                                 गुनासो  \n",
              "1552  चितवन जिल्लाको रत्ननगर टाडी घर भएको प्रनिश थाप...  \n",
              "2395  पुलिस clearance report (apply, reference, paym...  \n",
              "2307  एटीएम कार्ड हराएको लगभग २ वर्ष जति भइसकेको छ न...  \n",
              "1738  त्रि बि मा स्नातक तह (Bachelor in Business Stu...  \n",
              "1541  जि प्र का रुपन्देही बाट जारी ना न ३७/२०५६५ हो ...  "
            ]
          },
          "execution_count": 25,
          "metadata": {},
          "output_type": "execute_result"
        }
      ],
      "source": [
        "df_final.sample(5)"
      ]
    },
    {
      "cell_type": "code",
      "execution_count": null,
      "metadata": {
        "id": "Xdzfl2ZO96P0"
      },
      "outputs": [],
      "source": [
        "# Data Preprocessing\n",
        "nepali_stopwords = set(stopwords.words('nepali'))\n",
        "english_stopwords = set(stopwords.words('english'))\n",
        "def preprocess_text(text):\n",
        "    text = text.lower()\n",
        "    text = re.sub('[#\\\\/।(),०-९<<?!,—–’‘:\\u200d]', '', text)\n",
        "    text = text.strip('\"')\n",
        "\n",
        "    words = word_tokenize(text)\n",
        "    filtered_words = [word for word in words if word.lower() not in nepali_stopwords and word.lower() not in english_stopwords]\n",
        "    processed_text = ' '.join(filtered_words)\n",
        "    return processed_text\n",
        "\n"
      ]
    },
    {
      "cell_type": "code",
      "execution_count": null,
      "metadata": {
        "id": "h_MsIALA99oZ"
      },
      "outputs": [],
      "source": [
        "df_final['गुनासो'] = df_final['गुनासो'].apply(preprocess_text)"
      ]
    },
    {
      "cell_type": "code",
      "execution_count": null,
      "metadata": {
        "colab": {
          "base_uri": "https://localhost:8080/"
        },
        "id": "24E_4GM-9_Lr",
        "outputId": "e59e06b9-56e6-4792-ce77-e8d4d9b20fca"
      },
      "outputs": [
        {
          "data": {
            "text/plain": [
              "वेबसाइट तथा अभिलेख व्यवस्थापन सम्बन्धी      2849\n",
              "सोधपुछ, सुझाव, प्रशंसा सम्बन्धी             2849\n",
              "पार्किङ्ग तथा मेट्रो पुलिस                  2849\n",
              "कर्मचारी सम्वन्धी                           2849\n",
              "अर्थ सबन्धी                                 2849\n",
              "खानेपानी                                    2849\n",
              "स्वास्थ्यसँग सम्बन्धी                       2849\n",
              "सूचना तथा संचार                             2849\n",
              "शान्ति सुरक्षा                              2849\n",
              "फोहोरमैला व्यवस्थापन                        2849\n",
              "निर्माण कार्य सम्बन्धी                      2849\n",
              "प्राकृतिक श्रोत/साधन सम्बन्धी               2849\n",
              "लागु पदार्थ सम्बन्धी                        2849\n",
              "अर्थिक अनियमितता तथा भ्रष्टाचार सम्बन्धी    2849\n",
              "Name: गुनासो वर्ग, dtype: int64"
            ]
          },
          "execution_count": 28,
          "metadata": {},
          "output_type": "execute_result"
        }
      ],
      "source": [
        "\n",
        "df_final['गुनासो वर्ग'].value_counts()"
      ]
    },
    {
      "cell_type": "code",
      "execution_count": null,
      "metadata": {
        "id": "gcHmF_CN-A9m"
      },
      "outputs": [],
      "source": [
        "label_encoder = LabelEncoder()\n",
        "df_final['encoded_labels'] = label_encoder.fit_transform(df_final['गुनासो वर्ग'])"
      ]
    },
    {
      "cell_type": "code",
      "execution_count": null,
      "metadata": {
        "colab": {
          "base_uri": "https://localhost:8080/",
          "height": 206
        },
        "id": "MnGK_vkW-CYb",
        "outputId": "2762066b-0b69-4009-e782-80fb7b6a4be9"
      },
      "outputs": [
        {
          "data": {
            "application/vnd.google.colaboratory.intrinsic+json": {
              "summary": "{\n  \"name\": \"df_final\",\n  \"rows\": 39886,\n  \"fields\": [\n    {\n      \"column\": \"\\u0917\\u0941\\u0928\\u093e\\u0938\\u094b \\u0935\\u0930\\u094d\\u0917\",\n      \"properties\": {\n        \"dtype\": \"category\",\n        \"num_unique_values\": 14,\n        \"samples\": [\n          \"\\u092b\\u094b\\u0939\\u094b\\u0930\\u092e\\u0948\\u0932\\u093e \\u0935\\u094d\\u092f\\u0935\\u0938\\u094d\\u0925\\u093e\\u092a\\u0928\",\n          \"\\u092a\\u094d\\u0930\\u093e\\u0915\\u0943\\u0924\\u093f\\u0915 \\u0936\\u094d\\u0930\\u094b\\u0924/\\u0938\\u093e\\u0927\\u0928 \\u0938\\u092e\\u094d\\u092c\\u0928\\u094d\\u0927\\u0940\",\n          \"\\u0935\\u0947\\u092c\\u0938\\u093e\\u0907\\u091f \\u0924\\u0925\\u093e \\u0905\\u092d\\u093f\\u0932\\u0947\\u0916 \\u0935\\u094d\\u092f\\u0935\\u0938\\u094d\\u0925\\u093e\\u092a\\u0928 \\u0938\\u092e\\u094d\\u092c\\u0928\\u094d\\u0927\\u0940\"\n        ],\n        \"semantic_type\": \"\",\n        \"description\": \"\"\n      }\n    },\n    {\n      \"column\": \"\\u0917\\u0941\\u0928\\u093e\\u0938\\u094b\",\n      \"properties\": {\n        \"dtype\": \"category\",\n        \"num_unique_values\": 11235,\n        \"samples\": [\n          \"pan process \\u0917\\u0930\\u094d\\u0926\\u093e form submit \\u0939\\u0941\\u0926\\u0948\\u0928\\u094d technical problems specially formats \\u0924\\u094d\\u092f\\u0938\\u0948\\u0932\\u0947 \\u0939\\u091c\\u0941\\u0930 \\u092c\\u093f\\u0928\\u094d\\u092e\\u0930 \\u0905\\u0928\\u0941\\u0930\\u094b\\u0927 \\u0938\\u092e\\u0938\\u094d\\u092f\\u093e \\u0938\\u0915\\u094d\\u0926\\u094b \\u0928\\u093f\\u0926\\u093e\\u0928\\u094d \\u092a\\u093e\\u090a \\\\n\\\\n - \\u0928\\u0947\\u092a\\u093e\\u0932 \\u0938\\u0930\\u0915\\u093e\\u0930 \\u0938\\u0902\\u091a\\u094d\\u091a\\u093e \\u0908\\u092e\\u093e\\u0928\\u0926\\u093e\\u0930 \\u0928\\u093e\\u0917\\u0930\\u093f\\u0915\",\n          \"\\u092e\\u0939\\u093f\\u0928\\u094c \\u0915\\u093e\\u0930\\u094d\\u092f \\u091c\\u093f\\u092e\\u094d\\u092e\\u0947\\u0935\\u093e\\u0930\\u0940 \\u0928\\u0926\\u093f\\u0908 \\u0930\\u093e\\u0916\\u0947\\u0915\\u094b \\u0938\\u0947 \\u0926\\u092b\\u093e \\u0905\\u0920\\u093e\\u0930 \\u0916 \\u0935\\u093f\\u092a\\u0930\\u093f\\u0924 \\u0915\\u093e\\u0930\\u094d\\u092f \\u0939\\u0941\\u0928\\u093e\\u0932\\u0947 \\u0926\\u092b\\u093e \\u0938\\u093e\\u0920\\u0940 \\u092c\\u092e\\u094b\\u091c\\u093f\\u092e \\u0915\\u093e\\u0930\\u0935\\u093e\\u0939\\u0940 \\u0905\\u0928\\u0941\\u0930\\u094b\\u0927 \\u0917\\u0930\\u094d\\u0926\\u091b\\u0941\",\n          \"ncell \\u0928\\u0947\\u091f\\u094d\\u0935\\u094b\\u0930\\u094d\\u0915 \\u0915\\u092e\\u094d\\u091c\\u094b\\u0930 \\u0915\\u093e\\u0930\\u0923 \\u0938\\u092e\\u0938\\u094d\\u092f\\u093e \\u091a\\u093e\\u0921\\u0948 \\u0938\\u093e\\u092e\\u0927\\u093e\\u0928 \\u0917\\u0930\\u093e\\u0907 \\u0926\\u093f\\u0928\\u0941 \\u0905\\u0928\\u0941\\u0930\\u094b\\u0927 \\u0917\\u0930\\u094d\\u0926\\u091b\\u0941\"\n        ],\n        \"semantic_type\": \"\",\n        \"description\": \"\"\n      }\n    },\n    {\n      \"column\": \"encoded_labels\",\n      \"properties\": {\n        \"dtype\": \"number\",\n        \"std\": 4,\n        \"min\": 0,\n        \"max\": 13,\n        \"num_unique_values\": 14,\n        \"samples\": [\n          7,\n          6,\n          9\n        ],\n        \"semantic_type\": \"\",\n        \"description\": \"\"\n      }\n    }\n  ]\n}",
              "type": "dataframe",
              "variable_name": "df_final"
            },
            "text/html": [
              "\n",
              "  <div id=\"df-5879880a-25d6-4eed-944c-3d5107b4d562\" class=\"colab-df-container\">\n",
              "    <div>\n",
              "<style scoped>\n",
              "    .dataframe tbody tr th:only-of-type {\n",
              "        vertical-align: middle;\n",
              "    }\n",
              "\n",
              "    .dataframe tbody tr th {\n",
              "        vertical-align: top;\n",
              "    }\n",
              "\n",
              "    .dataframe thead th {\n",
              "        text-align: right;\n",
              "    }\n",
              "</style>\n",
              "<table border=\"1\" class=\"dataframe\">\n",
              "  <thead>\n",
              "    <tr style=\"text-align: right;\">\n",
              "      <th></th>\n",
              "      <th>गुनासो वर्ग</th>\n",
              "      <th>गुनासो</th>\n",
              "      <th>encoded_labels</th>\n",
              "    </tr>\n",
              "  </thead>\n",
              "  <tbody>\n",
              "    <tr>\n",
              "      <th>6361</th>\n",
              "      <td>वेबसाइट तथा अभिलेख व्यवस्थापन सम्बन्धी</td>\n",
              "      <td>अछाम जिल्ला रेकर्ड भन्छ</td>\n",
              "      <td>9</td>\n",
              "    </tr>\n",
              "    <tr>\n",
              "      <th>6362</th>\n",
              "      <td>वेबसाइट तथा अभिलेख व्यवस्थापन सम्बन्धी</td>\n",
              "      <td>अझ यसमा लाईसेन्सको थप्न पाए हुन्थ्यो</td>\n",
              "      <td>9</td>\n",
              "    </tr>\n",
              "    <tr>\n",
              "      <th>6363</th>\n",
              "      <td>वेबसाइट तथा अभिलेख व्यवस्थापन सम्बन्धी</td>\n",
              "      <td>अपडेट नभएको सर नागरिक apps माथी उल्लेखित न.हान...</td>\n",
              "      <td>9</td>\n",
              "    </tr>\n",
              "    <tr>\n",
              "      <th>6364</th>\n",
              "      <td>वेबसाइट तथा अभिलेख व्यवस्थापन सम्बन्धी</td>\n",
              "      <td>अञ्चल लेख्न लेख्नी बाघ मति मात्रै आउनुपर्ने</td>\n",
              "      <td>9</td>\n",
              "    </tr>\n",
              "    <tr>\n",
              "      <th>6365</th>\n",
              "      <td>वेबसाइट तथा अभिलेख व्यवस्थापन सम्बन्धी</td>\n",
              "      <td>अधिकृत छैठौको भोली फम भर्ने अन्तिम मिति हिजो क...</td>\n",
              "      <td>9</td>\n",
              "    </tr>\n",
              "  </tbody>\n",
              "</table>\n",
              "</div>\n",
              "    <div class=\"colab-df-buttons\">\n",
              "\n",
              "  <div class=\"colab-df-container\">\n",
              "    <button class=\"colab-df-convert\" onclick=\"convertToInteractive('df-5879880a-25d6-4eed-944c-3d5107b4d562')\"\n",
              "            title=\"Convert this dataframe to an interactive table.\"\n",
              "            style=\"display:none;\">\n",
              "\n",
              "  <svg xmlns=\"http://www.w3.org/2000/svg\" height=\"24px\" viewBox=\"0 -960 960 960\">\n",
              "    <path d=\"M120-120v-720h720v720H120Zm60-500h600v-160H180v160Zm220 220h160v-160H400v160Zm0 220h160v-160H400v160ZM180-400h160v-160H180v160Zm440 0h160v-160H620v160ZM180-180h160v-160H180v160Zm440 0h160v-160H620v160Z\"/>\n",
              "  </svg>\n",
              "    </button>\n",
              "\n",
              "  <style>\n",
              "    .colab-df-container {\n",
              "      display:flex;\n",
              "      gap: 12px;\n",
              "    }\n",
              "\n",
              "    .colab-df-convert {\n",
              "      background-color: #E8F0FE;\n",
              "      border: none;\n",
              "      border-radius: 50%;\n",
              "      cursor: pointer;\n",
              "      display: none;\n",
              "      fill: #1967D2;\n",
              "      height: 32px;\n",
              "      padding: 0 0 0 0;\n",
              "      width: 32px;\n",
              "    }\n",
              "\n",
              "    .colab-df-convert:hover {\n",
              "      background-color: #E2EBFA;\n",
              "      box-shadow: 0px 1px 2px rgba(60, 64, 67, 0.3), 0px 1px 3px 1px rgba(60, 64, 67, 0.15);\n",
              "      fill: #174EA6;\n",
              "    }\n",
              "\n",
              "    .colab-df-buttons div {\n",
              "      margin-bottom: 4px;\n",
              "    }\n",
              "\n",
              "    [theme=dark] .colab-df-convert {\n",
              "      background-color: #3B4455;\n",
              "      fill: #D2E3FC;\n",
              "    }\n",
              "\n",
              "    [theme=dark] .colab-df-convert:hover {\n",
              "      background-color: #434B5C;\n",
              "      box-shadow: 0px 1px 3px 1px rgba(0, 0, 0, 0.15);\n",
              "      filter: drop-shadow(0px 1px 2px rgba(0, 0, 0, 0.3));\n",
              "      fill: #FFFFFF;\n",
              "    }\n",
              "  </style>\n",
              "\n",
              "    <script>\n",
              "      const buttonEl =\n",
              "        document.querySelector('#df-5879880a-25d6-4eed-944c-3d5107b4d562 button.colab-df-convert');\n",
              "      buttonEl.style.display =\n",
              "        google.colab.kernel.accessAllowed ? 'block' : 'none';\n",
              "\n",
              "      async function convertToInteractive(key) {\n",
              "        const element = document.querySelector('#df-5879880a-25d6-4eed-944c-3d5107b4d562');\n",
              "        const dataTable =\n",
              "          await google.colab.kernel.invokeFunction('convertToInteractive',\n",
              "                                                    [key], {});\n",
              "        if (!dataTable) return;\n",
              "\n",
              "        const docLinkHtml = 'Like what you see? Visit the ' +\n",
              "          '<a target=\"_blank\" href=https://colab.research.google.com/notebooks/data_table.ipynb>data table notebook</a>'\n",
              "          + ' to learn more about interactive tables.';\n",
              "        element.innerHTML = '';\n",
              "        dataTable['output_type'] = 'display_data';\n",
              "        await google.colab.output.renderOutput(dataTable, element);\n",
              "        const docLink = document.createElement('div');\n",
              "        docLink.innerHTML = docLinkHtml;\n",
              "        element.appendChild(docLink);\n",
              "      }\n",
              "    </script>\n",
              "  </div>\n",
              "\n",
              "\n",
              "<div id=\"df-f3eb19c0-8dba-4103-8724-9cdfa2070c0d\">\n",
              "  <button class=\"colab-df-quickchart\" onclick=\"quickchart('df-f3eb19c0-8dba-4103-8724-9cdfa2070c0d')\"\n",
              "            title=\"Suggest charts\"\n",
              "            style=\"display:none;\">\n",
              "\n",
              "<svg xmlns=\"http://www.w3.org/2000/svg\" height=\"24px\"viewBox=\"0 0 24 24\"\n",
              "     width=\"24px\">\n",
              "    <g>\n",
              "        <path d=\"M19 3H5c-1.1 0-2 .9-2 2v14c0 1.1.9 2 2 2h14c1.1 0 2-.9 2-2V5c0-1.1-.9-2-2-2zM9 17H7v-7h2v7zm4 0h-2V7h2v10zm4 0h-2v-4h2v4z\"/>\n",
              "    </g>\n",
              "</svg>\n",
              "  </button>\n",
              "\n",
              "<style>\n",
              "  .colab-df-quickchart {\n",
              "      --bg-color: #E8F0FE;\n",
              "      --fill-color: #1967D2;\n",
              "      --hover-bg-color: #E2EBFA;\n",
              "      --hover-fill-color: #174EA6;\n",
              "      --disabled-fill-color: #AAA;\n",
              "      --disabled-bg-color: #DDD;\n",
              "  }\n",
              "\n",
              "  [theme=dark] .colab-df-quickchart {\n",
              "      --bg-color: #3B4455;\n",
              "      --fill-color: #D2E3FC;\n",
              "      --hover-bg-color: #434B5C;\n",
              "      --hover-fill-color: #FFFFFF;\n",
              "      --disabled-bg-color: #3B4455;\n",
              "      --disabled-fill-color: #666;\n",
              "  }\n",
              "\n",
              "  .colab-df-quickchart {\n",
              "    background-color: var(--bg-color);\n",
              "    border: none;\n",
              "    border-radius: 50%;\n",
              "    cursor: pointer;\n",
              "    display: none;\n",
              "    fill: var(--fill-color);\n",
              "    height: 32px;\n",
              "    padding: 0;\n",
              "    width: 32px;\n",
              "  }\n",
              "\n",
              "  .colab-df-quickchart:hover {\n",
              "    background-color: var(--hover-bg-color);\n",
              "    box-shadow: 0 1px 2px rgba(60, 64, 67, 0.3), 0 1px 3px 1px rgba(60, 64, 67, 0.15);\n",
              "    fill: var(--button-hover-fill-color);\n",
              "  }\n",
              "\n",
              "  .colab-df-quickchart-complete:disabled,\n",
              "  .colab-df-quickchart-complete:disabled:hover {\n",
              "    background-color: var(--disabled-bg-color);\n",
              "    fill: var(--disabled-fill-color);\n",
              "    box-shadow: none;\n",
              "  }\n",
              "\n",
              "  .colab-df-spinner {\n",
              "    border: 2px solid var(--fill-color);\n",
              "    border-color: transparent;\n",
              "    border-bottom-color: var(--fill-color);\n",
              "    animation:\n",
              "      spin 1s steps(1) infinite;\n",
              "  }\n",
              "\n",
              "  @keyframes spin {\n",
              "    0% {\n",
              "      border-color: transparent;\n",
              "      border-bottom-color: var(--fill-color);\n",
              "      border-left-color: var(--fill-color);\n",
              "    }\n",
              "    20% {\n",
              "      border-color: transparent;\n",
              "      border-left-color: var(--fill-color);\n",
              "      border-top-color: var(--fill-color);\n",
              "    }\n",
              "    30% {\n",
              "      border-color: transparent;\n",
              "      border-left-color: var(--fill-color);\n",
              "      border-top-color: var(--fill-color);\n",
              "      border-right-color: var(--fill-color);\n",
              "    }\n",
              "    40% {\n",
              "      border-color: transparent;\n",
              "      border-right-color: var(--fill-color);\n",
              "      border-top-color: var(--fill-color);\n",
              "    }\n",
              "    60% {\n",
              "      border-color: transparent;\n",
              "      border-right-color: var(--fill-color);\n",
              "    }\n",
              "    80% {\n",
              "      border-color: transparent;\n",
              "      border-right-color: var(--fill-color);\n",
              "      border-bottom-color: var(--fill-color);\n",
              "    }\n",
              "    90% {\n",
              "      border-color: transparent;\n",
              "      border-bottom-color: var(--fill-color);\n",
              "    }\n",
              "  }\n",
              "</style>\n",
              "\n",
              "  <script>\n",
              "    async function quickchart(key) {\n",
              "      const quickchartButtonEl =\n",
              "        document.querySelector('#' + key + ' button');\n",
              "      quickchartButtonEl.disabled = true;  // To prevent multiple clicks.\n",
              "      quickchartButtonEl.classList.add('colab-df-spinner');\n",
              "      try {\n",
              "        const charts = await google.colab.kernel.invokeFunction(\n",
              "            'suggestCharts', [key], {});\n",
              "      } catch (error) {\n",
              "        console.error('Error during call to suggestCharts:', error);\n",
              "      }\n",
              "      quickchartButtonEl.classList.remove('colab-df-spinner');\n",
              "      quickchartButtonEl.classList.add('colab-df-quickchart-complete');\n",
              "    }\n",
              "    (() => {\n",
              "      let quickchartButtonEl =\n",
              "        document.querySelector('#df-f3eb19c0-8dba-4103-8724-9cdfa2070c0d button');\n",
              "      quickchartButtonEl.style.display =\n",
              "        google.colab.kernel.accessAllowed ? 'block' : 'none';\n",
              "    })();\n",
              "  </script>\n",
              "</div>\n",
              "\n",
              "    </div>\n",
              "  </div>\n"
            ],
            "text/plain": [
              "                                 गुनासो वर्ग  \\\n",
              "6361  वेबसाइट तथा अभिलेख व्यवस्थापन सम्बन्धी   \n",
              "6362  वेबसाइट तथा अभिलेख व्यवस्थापन सम्बन्धी   \n",
              "6363  वेबसाइट तथा अभिलेख व्यवस्थापन सम्बन्धी   \n",
              "6364  वेबसाइट तथा अभिलेख व्यवस्थापन सम्बन्धी   \n",
              "6365  वेबसाइट तथा अभिलेख व्यवस्थापन सम्बन्धी   \n",
              "\n",
              "                                                 गुनासो  encoded_labels  \n",
              "6361                            अछाम जिल्ला रेकर्ड भन्छ               9  \n",
              "6362               अझ यसमा लाईसेन्सको थप्न पाए हुन्थ्यो               9  \n",
              "6363  अपडेट नभएको सर नागरिक apps माथी उल्लेखित न.हान...               9  \n",
              "6364        अञ्चल लेख्न लेख्नी बाघ मति मात्रै आउनुपर्ने               9  \n",
              "6365  अधिकृत छैठौको भोली फम भर्ने अन्तिम मिति हिजो क...               9  "
            ]
          },
          "execution_count": 30,
          "metadata": {},
          "output_type": "execute_result"
        }
      ],
      "source": [
        "df_final.head()"
      ]
    },
    {
      "cell_type": "code",
      "execution_count": null,
      "metadata": {
        "colab": {
          "base_uri": "https://localhost:8080/",
          "height": 206
        },
        "id": "Zg7clHV2-EDG",
        "outputId": "7173efd1-8d51-4a0e-d749-ddb6dd267d9a"
      },
      "outputs": [
        {
          "data": {
            "application/vnd.google.colaboratory.intrinsic+json": {
              "summary": "{\n  \"name\": \"df_final\",\n  \"rows\": 5,\n  \"fields\": [\n    {\n      \"column\": \"\\u0917\\u0941\\u0928\\u093e\\u0938\\u094b \\u0935\\u0930\\u094d\\u0917\",\n      \"properties\": {\n        \"dtype\": \"category\",\n        \"num_unique_values\": 1,\n        \"samples\": [\n          \"\\u0905\\u0930\\u094d\\u0925\\u093f\\u0915 \\u0905\\u0928\\u093f\\u092f\\u092e\\u093f\\u0924\\u0924\\u093e \\u0924\\u0925\\u093e \\u092d\\u094d\\u0930\\u0937\\u094d\\u091f\\u093e\\u091a\\u093e\\u0930 \\u0938\\u092e\\u094d\\u092c\\u0928\\u094d\\u0927\\u0940\"\n        ],\n        \"semantic_type\": \"\",\n        \"description\": \"\"\n      }\n    },\n    {\n      \"column\": \"\\u0917\\u0941\\u0928\\u093e\\u0938\\u094b\",\n      \"properties\": {\n        \"dtype\": \"string\",\n        \"num_unique_values\": 5,\n        \"samples\": [\n          \"\\u092a\\u093e\\u0901\\u091a\\u0925\\u0930 \\u091c\\u093f\\u0932\\u094d\\u0932\\u093e \\u0905\\u0938\\u094d\\u092a\\u0924\\u093e\\u0932\\u092e\\u093e \\u0915\\u0930\\u094d\\u092e\\u091a\\u093e\\u0930\\u0940 \\u0930\\u093e\\u0916\\u094d\\u0926\\u093e \\u0905\\u0928\\u093f\\u092f\\u092e\\u093f\\u0924\\u0924\\u093e \\u0915\\u092e\\u093f\\u0938\\u0928 \\u0932\\u094b\\u092d\\u092e\\u093e \\u092a\\u0930\\u0940 \\u0915\\u092e\\u093f\\u0938\\u0928 \\u0932\\u093f\\u0907 \\u0915\\u0930\\u094d\\u092e\\u091a\\u093e\\u0930\\u0940\\u0939\\u0930\\u0941 \\u0928\\u093f\\u092f\\u0941\\u0915\\u094d\\u0924\"\n        ],\n        \"semantic_type\": \"\",\n        \"description\": \"\"\n      }\n    },\n    {\n      \"column\": \"encoded_labels\",\n      \"properties\": {\n        \"dtype\": \"number\",\n        \"std\": 0,\n        \"min\": 1,\n        \"max\": 1,\n        \"num_unique_values\": 1,\n        \"samples\": [\n          1\n        ],\n        \"semantic_type\": \"\",\n        \"description\": \"\"\n      }\n    }\n  ]\n}",
              "type": "dataframe"
            },
            "text/html": [
              "\n",
              "  <div id=\"df-671e0d96-854d-472c-8866-0af3e1a9051c\" class=\"colab-df-container\">\n",
              "    <div>\n",
              "<style scoped>\n",
              "    .dataframe tbody tr th:only-of-type {\n",
              "        vertical-align: middle;\n",
              "    }\n",
              "\n",
              "    .dataframe tbody tr th {\n",
              "        vertical-align: top;\n",
              "    }\n",
              "\n",
              "    .dataframe thead th {\n",
              "        text-align: right;\n",
              "    }\n",
              "</style>\n",
              "<table border=\"1\" class=\"dataframe\">\n",
              "  <thead>\n",
              "    <tr style=\"text-align: right;\">\n",
              "      <th></th>\n",
              "      <th>गुनासो वर्ग</th>\n",
              "      <th>गुनासो</th>\n",
              "      <th>encoded_labels</th>\n",
              "    </tr>\n",
              "  </thead>\n",
              "  <tbody>\n",
              "    <tr>\n",
              "      <th>2844</th>\n",
              "      <td>अर्थिक अनियमितता तथा भ्रष्टाचार सम्बन्धी</td>\n",
              "      <td>बाँके जिल्लाको शिक्षा विकास समन्वय इकाइ प्रमुख...</td>\n",
              "      <td>1</td>\n",
              "    </tr>\n",
              "    <tr>\n",
              "      <th>2845</th>\n",
              "      <td>अर्थिक अनियमितता तथा भ्रष्टाचार सम्बन्धी</td>\n",
              "      <td>पाँचथर जिल्ला अस्पतालमा कर्मचारी राख्दा अनियमि...</td>\n",
              "      <td>1</td>\n",
              "    </tr>\n",
              "    <tr>\n",
              "      <th>2846</th>\n",
              "      <td>अर्थिक अनियमितता तथा भ्रष्टाचार सम्बन्धी</td>\n",
              "      <td>सरकारले विद्युतीय राहदानी इपासपोर्ट जारी नेपाल...</td>\n",
              "      <td>1</td>\n",
              "    </tr>\n",
              "    <tr>\n",
              "      <th>2847</th>\n",
              "      <td>अर्थिक अनियमितता तथा भ्रष्टाचार सम्बन्धी</td>\n",
              "      <td>पैसाको चलखेलमा गलत पद्घती स्थापित खोजिएकोले रो...</td>\n",
              "      <td>1</td>\n",
              "    </tr>\n",
              "    <tr>\n",
              "      <th>2848</th>\n",
              "      <td>अर्थिक अनियमितता तथा भ्रष्टाचार सम्बन्धी</td>\n",
              "      <td>प्रहरी चौकी कुशेश्वर दुम्जाको प्रहरी हरुले बिप...</td>\n",
              "      <td>1</td>\n",
              "    </tr>\n",
              "  </tbody>\n",
              "</table>\n",
              "</div>\n",
              "    <div class=\"colab-df-buttons\">\n",
              "\n",
              "  <div class=\"colab-df-container\">\n",
              "    <button class=\"colab-df-convert\" onclick=\"convertToInteractive('df-671e0d96-854d-472c-8866-0af3e1a9051c')\"\n",
              "            title=\"Convert this dataframe to an interactive table.\"\n",
              "            style=\"display:none;\">\n",
              "\n",
              "  <svg xmlns=\"http://www.w3.org/2000/svg\" height=\"24px\" viewBox=\"0 -960 960 960\">\n",
              "    <path d=\"M120-120v-720h720v720H120Zm60-500h600v-160H180v160Zm220 220h160v-160H400v160Zm0 220h160v-160H400v160ZM180-400h160v-160H180v160Zm440 0h160v-160H620v160ZM180-180h160v-160H180v160Zm440 0h160v-160H620v160Z\"/>\n",
              "  </svg>\n",
              "    </button>\n",
              "\n",
              "  <style>\n",
              "    .colab-df-container {\n",
              "      display:flex;\n",
              "      gap: 12px;\n",
              "    }\n",
              "\n",
              "    .colab-df-convert {\n",
              "      background-color: #E8F0FE;\n",
              "      border: none;\n",
              "      border-radius: 50%;\n",
              "      cursor: pointer;\n",
              "      display: none;\n",
              "      fill: #1967D2;\n",
              "      height: 32px;\n",
              "      padding: 0 0 0 0;\n",
              "      width: 32px;\n",
              "    }\n",
              "\n",
              "    .colab-df-convert:hover {\n",
              "      background-color: #E2EBFA;\n",
              "      box-shadow: 0px 1px 2px rgba(60, 64, 67, 0.3), 0px 1px 3px 1px rgba(60, 64, 67, 0.15);\n",
              "      fill: #174EA6;\n",
              "    }\n",
              "\n",
              "    .colab-df-buttons div {\n",
              "      margin-bottom: 4px;\n",
              "    }\n",
              "\n",
              "    [theme=dark] .colab-df-convert {\n",
              "      background-color: #3B4455;\n",
              "      fill: #D2E3FC;\n",
              "    }\n",
              "\n",
              "    [theme=dark] .colab-df-convert:hover {\n",
              "      background-color: #434B5C;\n",
              "      box-shadow: 0px 1px 3px 1px rgba(0, 0, 0, 0.15);\n",
              "      filter: drop-shadow(0px 1px 2px rgba(0, 0, 0, 0.3));\n",
              "      fill: #FFFFFF;\n",
              "    }\n",
              "  </style>\n",
              "\n",
              "    <script>\n",
              "      const buttonEl =\n",
              "        document.querySelector('#df-671e0d96-854d-472c-8866-0af3e1a9051c button.colab-df-convert');\n",
              "      buttonEl.style.display =\n",
              "        google.colab.kernel.accessAllowed ? 'block' : 'none';\n",
              "\n",
              "      async function convertToInteractive(key) {\n",
              "        const element = document.querySelector('#df-671e0d96-854d-472c-8866-0af3e1a9051c');\n",
              "        const dataTable =\n",
              "          await google.colab.kernel.invokeFunction('convertToInteractive',\n",
              "                                                    [key], {});\n",
              "        if (!dataTable) return;\n",
              "\n",
              "        const docLinkHtml = 'Like what you see? Visit the ' +\n",
              "          '<a target=\"_blank\" href=https://colab.research.google.com/notebooks/data_table.ipynb>data table notebook</a>'\n",
              "          + ' to learn more about interactive tables.';\n",
              "        element.innerHTML = '';\n",
              "        dataTable['output_type'] = 'display_data';\n",
              "        await google.colab.output.renderOutput(dataTable, element);\n",
              "        const docLink = document.createElement('div');\n",
              "        docLink.innerHTML = docLinkHtml;\n",
              "        element.appendChild(docLink);\n",
              "      }\n",
              "    </script>\n",
              "  </div>\n",
              "\n",
              "\n",
              "<div id=\"df-fc172490-c09e-4bf2-ad8b-f83b75dbc874\">\n",
              "  <button class=\"colab-df-quickchart\" onclick=\"quickchart('df-fc172490-c09e-4bf2-ad8b-f83b75dbc874')\"\n",
              "            title=\"Suggest charts\"\n",
              "            style=\"display:none;\">\n",
              "\n",
              "<svg xmlns=\"http://www.w3.org/2000/svg\" height=\"24px\"viewBox=\"0 0 24 24\"\n",
              "     width=\"24px\">\n",
              "    <g>\n",
              "        <path d=\"M19 3H5c-1.1 0-2 .9-2 2v14c0 1.1.9 2 2 2h14c1.1 0 2-.9 2-2V5c0-1.1-.9-2-2-2zM9 17H7v-7h2v7zm4 0h-2V7h2v10zm4 0h-2v-4h2v4z\"/>\n",
              "    </g>\n",
              "</svg>\n",
              "  </button>\n",
              "\n",
              "<style>\n",
              "  .colab-df-quickchart {\n",
              "      --bg-color: #E8F0FE;\n",
              "      --fill-color: #1967D2;\n",
              "      --hover-bg-color: #E2EBFA;\n",
              "      --hover-fill-color: #174EA6;\n",
              "      --disabled-fill-color: #AAA;\n",
              "      --disabled-bg-color: #DDD;\n",
              "  }\n",
              "\n",
              "  [theme=dark] .colab-df-quickchart {\n",
              "      --bg-color: #3B4455;\n",
              "      --fill-color: #D2E3FC;\n",
              "      --hover-bg-color: #434B5C;\n",
              "      --hover-fill-color: #FFFFFF;\n",
              "      --disabled-bg-color: #3B4455;\n",
              "      --disabled-fill-color: #666;\n",
              "  }\n",
              "\n",
              "  .colab-df-quickchart {\n",
              "    background-color: var(--bg-color);\n",
              "    border: none;\n",
              "    border-radius: 50%;\n",
              "    cursor: pointer;\n",
              "    display: none;\n",
              "    fill: var(--fill-color);\n",
              "    height: 32px;\n",
              "    padding: 0;\n",
              "    width: 32px;\n",
              "  }\n",
              "\n",
              "  .colab-df-quickchart:hover {\n",
              "    background-color: var(--hover-bg-color);\n",
              "    box-shadow: 0 1px 2px rgba(60, 64, 67, 0.3), 0 1px 3px 1px rgba(60, 64, 67, 0.15);\n",
              "    fill: var(--button-hover-fill-color);\n",
              "  }\n",
              "\n",
              "  .colab-df-quickchart-complete:disabled,\n",
              "  .colab-df-quickchart-complete:disabled:hover {\n",
              "    background-color: var(--disabled-bg-color);\n",
              "    fill: var(--disabled-fill-color);\n",
              "    box-shadow: none;\n",
              "  }\n",
              "\n",
              "  .colab-df-spinner {\n",
              "    border: 2px solid var(--fill-color);\n",
              "    border-color: transparent;\n",
              "    border-bottom-color: var(--fill-color);\n",
              "    animation:\n",
              "      spin 1s steps(1) infinite;\n",
              "  }\n",
              "\n",
              "  @keyframes spin {\n",
              "    0% {\n",
              "      border-color: transparent;\n",
              "      border-bottom-color: var(--fill-color);\n",
              "      border-left-color: var(--fill-color);\n",
              "    }\n",
              "    20% {\n",
              "      border-color: transparent;\n",
              "      border-left-color: var(--fill-color);\n",
              "      border-top-color: var(--fill-color);\n",
              "    }\n",
              "    30% {\n",
              "      border-color: transparent;\n",
              "      border-left-color: var(--fill-color);\n",
              "      border-top-color: var(--fill-color);\n",
              "      border-right-color: var(--fill-color);\n",
              "    }\n",
              "    40% {\n",
              "      border-color: transparent;\n",
              "      border-right-color: var(--fill-color);\n",
              "      border-top-color: var(--fill-color);\n",
              "    }\n",
              "    60% {\n",
              "      border-color: transparent;\n",
              "      border-right-color: var(--fill-color);\n",
              "    }\n",
              "    80% {\n",
              "      border-color: transparent;\n",
              "      border-right-color: var(--fill-color);\n",
              "      border-bottom-color: var(--fill-color);\n",
              "    }\n",
              "    90% {\n",
              "      border-color: transparent;\n",
              "      border-bottom-color: var(--fill-color);\n",
              "    }\n",
              "  }\n",
              "</style>\n",
              "\n",
              "  <script>\n",
              "    async function quickchart(key) {\n",
              "      const quickchartButtonEl =\n",
              "        document.querySelector('#' + key + ' button');\n",
              "      quickchartButtonEl.disabled = true;  // To prevent multiple clicks.\n",
              "      quickchartButtonEl.classList.add('colab-df-spinner');\n",
              "      try {\n",
              "        const charts = await google.colab.kernel.invokeFunction(\n",
              "            'suggestCharts', [key], {});\n",
              "      } catch (error) {\n",
              "        console.error('Error during call to suggestCharts:', error);\n",
              "      }\n",
              "      quickchartButtonEl.classList.remove('colab-df-spinner');\n",
              "      quickchartButtonEl.classList.add('colab-df-quickchart-complete');\n",
              "    }\n",
              "    (() => {\n",
              "      let quickchartButtonEl =\n",
              "        document.querySelector('#df-fc172490-c09e-4bf2-ad8b-f83b75dbc874 button');\n",
              "      quickchartButtonEl.style.display =\n",
              "        google.colab.kernel.accessAllowed ? 'block' : 'none';\n",
              "    })();\n",
              "  </script>\n",
              "</div>\n",
              "\n",
              "    </div>\n",
              "  </div>\n"
            ],
            "text/plain": [
              "                                   गुनासो वर्ग  \\\n",
              "2844  अर्थिक अनियमितता तथा भ्रष्टाचार सम्बन्धी   \n",
              "2845  अर्थिक अनियमितता तथा भ्रष्टाचार सम्बन्धी   \n",
              "2846  अर्थिक अनियमितता तथा भ्रष्टाचार सम्बन्धी   \n",
              "2847  अर्थिक अनियमितता तथा भ्रष्टाचार सम्बन्धी   \n",
              "2848  अर्थिक अनियमितता तथा भ्रष्टाचार सम्बन्धी   \n",
              "\n",
              "                                                 गुनासो  encoded_labels  \n",
              "2844  बाँके जिल्लाको शिक्षा विकास समन्वय इकाइ प्रमुख...               1  \n",
              "2845  पाँचथर जिल्ला अस्पतालमा कर्मचारी राख्दा अनियमि...               1  \n",
              "2846  सरकारले विद्युतीय राहदानी इपासपोर्ट जारी नेपाल...               1  \n",
              "2847  पैसाको चलखेलमा गलत पद्घती स्थापित खोजिएकोले रो...               1  \n",
              "2848  प्रहरी चौकी कुशेश्वर दुम्जाको प्रहरी हरुले बिप...               1  "
            ]
          },
          "execution_count": 31,
          "metadata": {},
          "output_type": "execute_result"
        }
      ],
      "source": [
        "df_final.tail()"
      ]
    },
    {
      "cell_type": "code",
      "execution_count": null,
      "metadata": {
        "id": "v3SDHKN6-FPB"
      },
      "outputs": [],
      "source": [
        "encodings = tokenizer(df_final['गुनासो'].tolist(), padding=True, truncation=True, max_length=512, return_tensors=\"pt\")"
      ]
    },
    {
      "cell_type": "code",
      "execution_count": null,
      "metadata": {
        "id": "zYAXKhzu-Hpz"
      },
      "outputs": [],
      "source": [
        "train_indices, val_indices = train_test_split(np.arange(len(df_final)), test_size=0.2, stratify=df_final['encoded_labels'])\n"
      ]
    },
    {
      "cell_type": "code",
      "execution_count": null,
      "metadata": {
        "id": "GIW2Easd-KUI"
      },
      "outputs": [],
      "source": [
        "# Custom dataset class\n",
        "class NepaliComplaintsDataset(Dataset):\n",
        "    def __init__(self, encodings, labels, indices):\n",
        "        self.encodings = {key: val[indices] for key, val in encodings.items()}\n",
        "        self.labels = labels[indices]\n",
        "\n",
        "    def __getitem__(self, idx):\n",
        "        item = {key: torch.tensor(val[idx]) for key, val in self.encodings.items()}\n",
        "        item['labels'] = torch.tensor(self.labels[idx], dtype=torch.long)\n",
        "        return item\n",
        "\n",
        "    def __len__(self):\n",
        "        return len(self.labels)"
      ]
    },
    {
      "cell_type": "code",
      "execution_count": null,
      "metadata": {
        "id": "qaSH6HW_-MHh"
      },
      "outputs": [],
      "source": [
        "\n",
        "# Creating datasets\n",
        "train_dataset = NepaliComplaintsDataset(encodings, np.array(df_final['encoded_labels']), train_indices)\n",
        "val_dataset = NepaliComplaintsDataset(encodings, np.array(df_final['encoded_labels']), val_indices)"
      ]
    },
    {
      "cell_type": "code",
      "execution_count": null,
      "metadata": {
        "id": "zWrCmweA-Nz8"
      },
      "outputs": [],
      "source": [
        "# DataLoader setup\n",
        "train_loader = DataLoader(train_dataset, batch_size=16, shuffle=True)\n",
        "val_loader = DataLoader(val_dataset, batch_size=16, shuffle=False)"
      ]
    },
    {
      "cell_type": "code",
      "execution_count": null,
      "metadata": {
        "id": "4eU6CPHd-PL6"
      },
      "outputs": [],
      "source": [
        "num_labels = len(np.unique(df_final['encoded_labels']))\n"
      ]
    },
    {
      "cell_type": "code",
      "execution_count": null,
      "metadata": {
        "colab": {
          "base_uri": "https://localhost:8080/"
        },
        "id": "4iOrF544-Qzz",
        "outputId": "c92a6cab-012d-40e3-d7d3-84fdc2e6082f"
      },
      "outputs": [
        {
          "name": "stderr",
          "output_type": "stream",
          "text": [
            "Some weights of BertForSequenceClassification were not initialized from the model checkpoint at google/muril-base-cased and are newly initialized: ['classifier.bias', 'classifier.weight']\n",
            "You should probably TRAIN this model on a down-stream task to be able to use it for predictions and inference.\n"
          ]
        }
      ],
      "source": [
        "model = AutoModelForSequenceClassification.from_pretrained(\"google/muril-base-cased\", num_labels=num_labels)\n"
      ]
    },
    {
      "cell_type": "code",
      "execution_count": null,
      "metadata": {
        "id": "qIvUXoxX-SbJ"
      },
      "outputs": [],
      "source": [
        "from transformers import Trainer, TrainingArguments\n",
        "from transformers import DataCollatorWithPadding\n",
        "data_collator = DataCollatorWithPadding(tokenizer=tokenizer)\n",
        "\n"
      ]
    },
    {
      "cell_type": "code",
      "execution_count": null,
      "metadata": {
        "colab": {
          "base_uri": "https://localhost:8080/"
        },
        "id": "rLDMrO7y-UB-",
        "outputId": "e2714eea-f819-432e-cd85-f88a0de4d4ec"
      },
      "outputs": [
        {
          "name": "stdout",
          "output_type": "stream",
          "text": [
            "nadika\n"
          ]
        }
      ],
      "source": [
        "!huggingface-cli whoami"
      ]
    },
    {
      "cell_type": "code",
      "execution_count": null,
      "metadata": {
        "id": "QYIhc8Mj_4pQ"
      },
      "outputs": [],
      "source": [
        "# hub_model_id = \"nadika/nepali_complaints_classification\""
      ]
    },
    {
      "cell_type": "code",
      "execution_count": null,
      "metadata": {
        "id": "78QWkUHh-VZN"
      },
      "outputs": [],
      "source": [
        "training_args = TrainingArguments(\n",
        "    output_dir='nepali_complaints_classification_muril3',          # Directory for saving model and outputs\n",
        "    num_train_epochs=5,              # Number of training epochs\n",
        "    per_device_train_batch_size=16,  # Batch size for training\n",
        "    per_device_eval_batch_size=16,   # Batch size for evaluation\n",
        "    warmup_steps=50,                # Number of warmup steps\n",
        "    weight_decay=0.01,               # Weight decay rate #l2 regularization AdamW\n",
        "    report_to = \"wandb\",\n",
        "    logging_dir='./logs',            # Directory for logging\n",
        "    evaluation_strategy=\"steps\",     # Evaluate at the end of every epoch\n",
        "    save_steps = 500,\n",
        "    eval_steps=500,\n",
        "    logging_steps=500,          # Save model at the end of every epoch\n",
        "    learning_rate=2e-5,\n",
        "    load_best_model_at_end=True,     # Load the best model at the end of training\n",
        "    metric_for_best_model=\"eval_loss\",  # Metric to optimize over\n",
        "    save_total_limit=5,              # Limit the total number of checkpoints to save (useful for saving disk space)\n",
        "    push_to_hub=True,\n",
        "    # hub_model_id=hub_model_id,\n",
        ")"
      ]
    },
    {
      "cell_type": "code",
      "execution_count": null,
      "metadata": {
        "id": "N7cXf7rYwY4j"
      },
      "outputs": [],
      "source": [
        "# from sklearn.metrics import accuracy_score, precision_recall_fscore_support\n",
        "# def compute_metrics(pred):\n",
        "#     labels = pred.label_ids\n",
        "#     preds = pred.predictions.argmax(-1)\n",
        "#     precision, recall, f1, _ = precision_recall_fscore_support(labels, preds, average='weighted')\n",
        "#     acc = accuracy_score(labels, preds)\n",
        "#     return {\n",
        "#         'accuracy': acc,\n",
        "#         'f1': f1,\n",
        "#         'precision': precision,\n",
        "#         'recall': recall\n",
        "#     }\n"
      ]
    },
    {
      "cell_type": "code",
      "execution_count": null,
      "metadata": {
        "id": "MHhVYF0d-Wz2"
      },
      "outputs": [],
      "source": [
        "trainer = Trainer(\n",
        "    model=model,\n",
        "    args=training_args,\n",
        "    train_dataset=train_dataset,\n",
        "    eval_dataset=val_dataset,\n",
        "    data_collator=data_collator,\n",
        "    # compute_metrics=compute_metrics\n",
        ")"
      ]
    },
    {
      "cell_type": "code",
      "execution_count": null,
      "metadata": {
        "colab": {
          "background_save": true,
          "base_uri": "https://localhost:8080/",
          "height": 1000
        },
        "id": "3B2HSe4u-YiU",
        "outputId": "3cacab91-a2fb-4109-e927-1560956112f4"
      },
      "outputs": [
        {
          "name": "stderr",
          "output_type": "stream",
          "text": [
            "<ipython-input-34-1529dc6678a3>:8: UserWarning: To copy construct from a tensor, it is recommended to use sourceTensor.clone().detach() or sourceTensor.clone().detach().requires_grad_(True), rather than torch.tensor(sourceTensor).\n",
            "  item = {key: torch.tensor(val[idx]) for key, val in self.encodings.items()}\n"
          ]
        }
      ],
      "source": [
        "trainer.train()"
      ]
    },
    {
      "cell_type": "code",
      "execution_count": null,
      "metadata": {
        "colab": {
          "base_uri": "https://localhost:8080/",
          "height": 89
        },
        "id": "e4L9Hyqi-aNw",
        "outputId": "5eb0ba16-ccd4-4155-e2c2-98756da4099e"
      },
      "outputs": [
        {
          "data": {
            "application/vnd.google.colaboratory.intrinsic+json": {
              "type": "string"
            },
            "text/plain": [
              "CommitInfo(commit_url='https://huggingface.co/nadika/nepali_complaints_classification_muril2/commit/88f89b542d058f9a1591049db3b5b50383d1e89f', commit_message='End of training', commit_description='', oid='88f89b542d058f9a1591049db3b5b50383d1e89f', pr_url=None, pr_revision=None, pr_num=None)"
            ]
          },
          "execution_count": 45,
          "metadata": {},
          "output_type": "execute_result"
        }
      ],
      "source": [
        "trainer.push_to_hub()"
      ]
    },
    {
      "cell_type": "code",
      "execution_count": null,
      "metadata": {
        "colab": {
          "base_uri": "https://localhost:8080/",
          "height": 179
        },
        "id": "83uJ8PSb-cDb",
        "outputId": "4c1c164a-87e6-4dab-c044-d3beaab9e637"
      },
      "outputs": [
        {
          "name": "stderr",
          "output_type": "stream",
          "text": [
            "<ipython-input-33-1529dc6678a3>:8: UserWarning: To copy construct from a tensor, it is recommended to use sourceTensor.clone().detach() or sourceTensor.clone().detach().requires_grad_(True), rather than torch.tensor(sourceTensor).\n",
            "  item = {key: torch.tensor(val[idx]) for key, val in self.encodings.items()}\n"
          ]
        },
        {
          "data": {
            "text/html": [
              "\n",
              "    <div>\n",
              "      \n",
              "      <progress value='250' max='250' style='width:300px; height:20px; vertical-align: middle;'></progress>\n",
              "      [250/250 00:37]\n",
              "    </div>\n",
              "    "
            ],
            "text/plain": [
              "<IPython.core.display.HTML object>"
            ]
          },
          "metadata": {},
          "output_type": "display_data"
        },
        {
          "data": {
            "text/plain": [
              "{'eval_loss': 2.6390602588653564,\n",
              " 'eval_runtime': 37.9121,\n",
              " 'eval_samples_per_second': 105.217,\n",
              " 'eval_steps_per_second': 6.594,\n",
              " 'epoch': 5.0}"
            ]
          },
          "execution_count": 46,
          "metadata": {},
          "output_type": "execute_result"
        }
      ],
      "source": [
        "trainer.evaluate()"
      ]
    },
    {
      "cell_type": "code",
      "execution_count": null,
      "metadata": {
        "colab": {
          "base_uri": "https://localhost:8080/",
          "height": 121,
          "referenced_widgets": [
            "b2add40b038a4e88ba74f61a8f023dcc",
            "9536d1f2174946d9a8dd5dc1b4076c8b",
            "9261d1a82d8a4079933a550f2acc5549",
            "1579c79f47ac497889eebac40931ee06",
            "c7d7aeaa2d8743c2b367566d85d4809e",
            "5877b003f2a847f6ac3e078f65f3dd76",
            "a3c123738c9948c29dc21359cf027248",
            "f1076b6af4ec4070b01a3f608f7bc484",
            "13533a7b6aa6497a9f8207d2cda21119",
            "c30fea07102b4dd09f939e419551cd4e",
            "ff1ddf93e9c64064ba6478c843e0fa1d"
          ]
        },
        "id": "f3Yk9WCN-dhe",
        "outputId": "bb831a10-0b76-4158-e9c7-a7cbd459b7d5"
      },
      "outputs": [
        {
          "data": {
            "application/vnd.jupyter.widget-view+json": {
              "model_id": "b2add40b038a4e88ba74f61a8f023dcc",
              "version_major": 2,
              "version_minor": 0
            },
            "text/plain": [
              "README.md:   0%|          | 0.00/2.48k [00:00<?, ?B/s]"
            ]
          },
          "metadata": {},
          "output_type": "display_data"
        },
        {
          "data": {
            "application/vnd.google.colaboratory.intrinsic+json": {
              "type": "string"
            },
            "text/plain": [
              "CommitInfo(commit_url='https://huggingface.co/nadika/nepali_complaints_classification_muril2/commit/20459d36b4f1ca0125bc99de774d439e52d5c586', commit_message='Upload tokenizer', commit_description='', oid='20459d36b4f1ca0125bc99de774d439e52d5c586', pr_url=None, pr_revision=None, pr_num=None)"
            ]
          },
          "execution_count": 47,
          "metadata": {},
          "output_type": "execute_result"
        }
      ],
      "source": [
        "tokenizer.push_to_hub(\"nadika/nepali_complaints_classification_muril3\")"
      ]
    },
    {
      "cell_type": "code",
      "execution_count": null,
      "metadata": {
        "colab": {
          "base_uri": "https://localhost:8080/"
        },
        "id": "MpiV4FGb-e8g",
        "outputId": "bc84d901-d146-43c2-bc38-90159ba2ebd8"
      },
      "outputs": [
        {
          "data": {
            "text/plain": [
              "{0: 'अर्थ सबन्धी',\n",
              " 1: 'अर्थिक अनियमितता तथा भ्रष्टाचार सम्बन्धी',\n",
              " 2: 'कर्मचारी सम्वन्धी',\n",
              " 3: 'खानेपानी',\n",
              " 4: 'निर्माण कार्य सम्बन्धी',\n",
              " 5: 'पार्किङ्ग तथा मेट्रो पुलिस',\n",
              " 6: 'प्राकृतिक श्रोत/साधन सम्बन्धी',\n",
              " 7: 'फोहोरमैला व्यवस्थापन',\n",
              " 8: 'लागु पदार्थ सम्बन्धी',\n",
              " 9: 'वेबसाइट तथा अभिलेख व्यवस्थापन सम्बन्धी',\n",
              " 10: 'शान्ति सुरक्षा',\n",
              " 11: 'सूचना तथा संचार',\n",
              " 12: 'सोधपुछ, सुझाव, प्रशंसा सम्बन्धी',\n",
              " 13: 'स्वास्थ्यसँग सम्बन्धी'}"
            ]
          },
          "execution_count": 48,
          "metadata": {},
          "output_type": "execute_result"
        }
      ],
      "source": [
        "labels = label_encoder.classes_  # This gets the ordered list of class names\n",
        "id2label = dict(enumerate(labels))\n",
        "id2label"
      ]
    },
    {
      "cell_type": "code",
      "execution_count": null,
      "metadata": {
        "colab": {
          "base_uri": "https://localhost:8080/"
        },
        "id": "JplGUkPP-iFz",
        "outputId": "a3b63652-fd8f-4261-e441-60cd6aa9b30e"
      },
      "outputs": [
        {
          "data": {
            "text/plain": [
              "{'अर्थ सबन्धी': 0,\n",
              " 'अर्थिक अनियमितता तथा भ्रष्टाचार सम्बन्धी': 1,\n",
              " 'कर्मचारी सम्वन्धी': 2,\n",
              " 'खानेपानी': 3,\n",
              " 'निर्माण कार्य सम्बन्धी': 4,\n",
              " 'पार्किङ्ग तथा मेट्रो पुलिस': 5,\n",
              " 'प्राकृतिक श्रोत/साधन सम्बन्धी': 6,\n",
              " 'फोहोरमैला व्यवस्थापन': 7,\n",
              " 'लागु पदार्थ सम्बन्धी': 8,\n",
              " 'वेबसाइट तथा अभिलेख व्यवस्थापन सम्बन्धी': 9,\n",
              " 'शान्ति सुरक्षा': 10,\n",
              " 'सूचना तथा संचार': 11,\n",
              " 'सोधपुछ, सुझाव, प्रशंसा सम्बन्धी': 12,\n",
              " 'स्वास्थ्यसँग सम्बन्धी': 13}"
            ]
          },
          "execution_count": 49,
          "metadata": {},
          "output_type": "execute_result"
        }
      ],
      "source": [
        "label2id = {label: id for id, label in id2label.items()}\n",
        "label2id"
      ]
    },
    {
      "cell_type": "code",
      "execution_count": null,
      "metadata": {
        "colab": {
          "base_uri": "https://localhost:8080/"
        },
        "id": "XuAYu8UD-lE-",
        "outputId": "56972967-d217-4180-c723-fca78cea90c5"
      },
      "outputs": [
        {
          "data": {
            "text/plain": [
              "('./my_muril_model/tokenizer_config.json',\n",
              " './my_muril_model/special_tokens_map.json',\n",
              " './my_muril_model/vocab.txt',\n",
              " './my_muril_model/added_tokens.json',\n",
              " './my_muril_model/tokenizer.json')"
            ]
          },
          "execution_count": 50,
          "metadata": {},
          "output_type": "execute_result"
        }
      ],
      "source": [
        "model.save_pretrained('./my_muril_model')\n",
        "tokenizer.save_pretrained('./my_muril_model')"
      ]
    },
    {
      "cell_type": "code",
      "execution_count": null,
      "metadata": {
        "id": "90ZFhgb6-nmP"
      },
      "outputs": [],
      "source": [
        "model_name=\"./my_muril_model\""
      ]
    },
    {
      "cell_type": "code",
      "execution_count": null,
      "metadata": {
        "id": "iCZGZ-so-xIA"
      },
      "outputs": [],
      "source": [
        "from transformers import AutoConfig\n",
        "config = AutoConfig.from_pretrained(model_name)\n"
      ]
    },
    {
      "cell_type": "code",
      "execution_count": null,
      "metadata": {
        "id": "GVW_ai3Q-y8g"
      },
      "outputs": [],
      "source": [
        "config.id2label = id2label\n",
        "config.label2id = label2id"
      ]
    },
    {
      "cell_type": "code",
      "execution_count": null,
      "metadata": {
        "id": "3PExREyM-0gE"
      },
      "outputs": [],
      "source": [
        "model=AutoModelForSequenceClassification.from_pretrained(model_name)\n",
        "tokenizer=AutoTokenizer.from_pretrained(model_name)"
      ]
    },
    {
      "cell_type": "code",
      "execution_count": null,
      "metadata": {
        "id": "TH6lBozw-2-n"
      },
      "outputs": [],
      "source": [
        "config.save_pretrained(model_name)"
      ]
    },
    {
      "cell_type": "code",
      "execution_count": null,
      "metadata": {
        "id": "HD6DhX0QllWK"
      },
      "outputs": [],
      "source": [
        "model_name=\"./my_muril_model\"\n",
        "model=AutoModelForSequenceClassification.from_pretrained(model_name)\n",
        "tokenizer=AutoTokenizer.from_pretrained(model_name)"
      ]
    },
    {
      "cell_type": "code",
      "execution_count": null,
      "metadata": {
        "id": "MkPgOuwU-5tj"
      },
      "outputs": [],
      "source": [
        "repo_name=\"nadika/nepali_complaints_classification_muril3\""
      ]
    },
    {
      "cell_type": "code",
      "execution_count": null,
      "metadata": {
        "colab": {
          "base_uri": "https://localhost:8080/",
          "height": 121,
          "referenced_widgets": [
            "05297bf35862409d90fbf1706d13e148",
            "a722d5a3ae7844399439a4fec19027a1",
            "f19ce00de84244edb33aa0b3fb600b7c",
            "4701c824ea8b41c396f1594d9f27ee28",
            "b42ef295eb4b45ed8a27554e861164da",
            "ad0df982b2f046c89288917cf41062fa",
            "5e517e3e9495473cb014030787d27162",
            "35ede8a7379340b1baacfa9259feae60",
            "83b676f96ddb4eacbc80b619a62fea06",
            "35c4cf366eb244e7abd012f9d84b18c6",
            "33235826e4ab42bba48f84e0ef57ac01"
          ]
        },
        "id": "k6TsjhWS-7ru",
        "outputId": "c5343924-fa18-4b9c-d40d-b219fc3123a0"
      },
      "outputs": [
        {
          "data": {
            "application/vnd.jupyter.widget-view+json": {
              "model_id": "05297bf35862409d90fbf1706d13e148",
              "version_major": 2,
              "version_minor": 0
            },
            "text/plain": [
              "README.md:   0%|          | 0.00/2.48k [00:00<?, ?B/s]"
            ]
          },
          "metadata": {},
          "output_type": "display_data"
        },
        {
          "data": {
            "application/vnd.google.colaboratory.intrinsic+json": {
              "type": "string"
            },
            "text/plain": [
              "CommitInfo(commit_url='https://huggingface.co/nadika/nepali_complaints_classification_muril2/commit/c595f6a21743b6120865d85e0aea4015838edc9f', commit_message='Upload tokenizer', commit_description='', oid='c595f6a21743b6120865d85e0aea4015838edc9f', pr_url=None, pr_revision=None, pr_num=None)"
            ]
          },
          "execution_count": 58,
          "metadata": {},
          "output_type": "execute_result"
        }
      ],
      "source": [
        "model.push_to_hub(repo_name)\n",
        "tokenizer.push_to_hub(repo_name)"
      ]
    },
    {
      "cell_type": "code",
      "execution_count": null,
      "metadata": {
        "id": "7xMeVV1GOPBa"
      },
      "outputs": [],
      "source": [
        "# model_id = \"nadika/nepali_complaints_classification\"  # replace with your model's repository name\n",
        "# tokenizer = AutoTokenizer.from_pretrained(model_id)\n",
        "# model = AutoModelForSequenceClassification.from_pretrained(model_id)"
      ]
    },
    {
      "cell_type": "code",
      "execution_count": null,
      "metadata": {
        "id": "Y0QR-aPT-9Bt"
      },
      "outputs": [],
      "source": [
        "\n",
        "\n",
        "def preprocess_and_tokenize(text):\n",
        "    # Assuming the `preprocess_text` is your text cleaning and preprocessing function\n",
        "    # Make sure to include the preprocess_text function or adjust this part accordingly\n",
        "    processed_text = preprocess_text(text)  # Use your preprocessing here\n",
        "    encoded_input = tokenizer(processed_text, padding=True, truncation=True, max_length=512, return_tensors=\"pt\")\n",
        "    return encoded_input\n",
        "\n",
        "def predict(text):\n",
        "    # Preprocess and tokenize the text\n",
        "    encoded_input = preprocess_and_tokenize(text)\n",
        "\n",
        "    # Generate predictions\n",
        "    with torch.no_grad():\n",
        "        output = model(**encoded_input)\n",
        "\n",
        "    # The output is logits; apply softmax to get probabilities\n",
        "    probabilities = torch.nn.functional.softmax(output.logits, dim=-1)\n",
        "\n",
        "    # Convert probabilities to numpy for easier handling\n",
        "    probabilities = probabilities.detach().cpu().numpy()\n",
        "\n",
        "    # Get the most likely class index\n",
        "    predicted_class_idx = probabilities.argmax()\n",
        "\n",
        "    # Decode the predicted class index to the class name using the model's config\n",
        "    predicted_class = model.config.id2label[predicted_class_idx]\n",
        "    return predicted_class, probabilities[0][predicted_class_idx]\n",
        "\n",
        "\n"
      ]
    },
    {
      "cell_type": "code",
      "execution_count": null,
      "metadata": {
        "colab": {
          "base_uri": "https://localhost:8080/"
        },
        "id": "RrZsbTi2_EFt",
        "outputId": "dca8e676-6d62-4957-caa6-d6b56ef94278"
      },
      "outputs": [
        {
          "name": "stdout",
          "output_type": "stream",
          "text": [
            "Predicted Class: खानेपानी, Probability: 0.07179027795791626\n"
          ]
        }
      ],
      "source": [
        "# Example text for prediction\n",
        "new_text = \"यस महानगरपालिकाको सुनाकोठी नखिपोट नख्खुडोल गोकुल आवास कान्तिपुर कोलोनीका वासिन्दाले दिनरात यो धुंवाको सास कहिलेसम्म फेर्नुपर्ने हो हजुर?\"\n",
        "predicted_class, probability = predict(new_text)\n",
        "print(f\"Predicted Class: {predicted_class}, Probability: {probability}\")"
      ]
    },
    {
      "cell_type": "code",
      "execution_count": null,
      "metadata": {
        "colab": {
          "base_uri": "https://localhost:8080/"
        },
        "id": "Uo19dBzsQbu7",
        "outputId": "068ef926-04a4-4865-9c10-69479518bb15"
      },
      "outputs": [
        {
          "name": "stdout",
          "output_type": "stream",
          "text": [
            "Predicted Class: खानेपानी, Probability: 0.07179027795791626\n"
          ]
        }
      ],
      "source": [
        "# Example text for prediction\n",
        "new_text = \"सुनसरी जिल्ला इटहरी उप महानगर भित्र अवस्थित धरान पुग्ने यो बाटो । कुन ठेकेदारले यो काम गर्दा कति पैसा कुम्ल्याउन पाइने हो र आफ्नो निर्वाचन ताका खर्च भएको करोड उठाउन पाइन्छ भनेर त हैन ?\"\n",
        "predicted_class, probability = predict(new_text)\n",
        "print(f\"Predicted Class: {predicted_class}, Probability: {probability}\")"
      ]
    },
    {
      "cell_type": "code",
      "execution_count": null,
      "metadata": {
        "colab": {
          "base_uri": "https://localhost:8080/"
        },
        "id": "8pV8bMEFQkR0",
        "outputId": "3496e1ea-dbfb-4081-849c-efde808ed504"
      },
      "outputs": [
        {
          "name": "stdout",
          "output_type": "stream",
          "text": [
            "Predicted Class: खानेपानी, Probability: 0.07179027795791626\n"
          ]
        }
      ],
      "source": [
        "# Example text for prediction\n",
        "new_text = \"इटहरीदेखि पूर्वाञ्चल विश्वविद्यालय, माेरङ हुँदै पूर्व जाने बाटाे जुन लालभित्तीमा गएर टुङ्गिन्छ, पिच गर्नुपर्‍याे। बीचमा दुइटा ठूला खाेला छन्, त्यसमा पुल हाल्नुपर्‍याे। याे बाटाेलाई वैकल्पिक राजमार्गकाे रुपमा विकास गर्नुप्रयो।\"\n",
        "predicted_class, probability = predict(new_text)\n",
        "print(f\"Predicted Class: {predicted_class}, Probability: {probability}\")"
      ]
    },
    {
      "cell_type": "code",
      "execution_count": null,
      "metadata": {
        "colab": {
          "base_uri": "https://localhost:8080/"
        },
        "id": "ZDbepVdjQra1",
        "outputId": "aba5028d-232d-4a49-9561-00246d3540c7"
      },
      "outputs": [
        {
          "name": "stdout",
          "output_type": "stream",
          "text": [
            "Predicted Class: खानेपानी, Probability: 0.07179027795791626\n"
          ]
        }
      ],
      "source": [
        "# Example text for prediction\n",
        "new_text = \"मेयरले उपभोक्ता समितिसँग ३० प्रतिशत कमिसन लिएपछि विकासको काम गुणस्तरहीन, दबाब झेल्न नसकेर प्रशासकीय अधिकृतको भागाभाग। बाह्रबिसेका मेयरको मनोमानी- दोहोरीमा रमाइलो गरेको बिलसमेत नगरपालिकाबाटै भुक्तानी गर्न दबाब मेयरले उपभोक्ता समितिसँग ३० प्रतिशत कमिसन लिएपछि विकासको काम गुणस्तरहीन, दबाब झेल्न नसकेर प्रशासकीय अधिकृतको भागाभाग।\"\n",
        "predicted_class, probability = predict(new_text)\n",
        "print(f\"Predicted Class: {predicted_class}, Probability: {probability}\")"
      ]
    },
    {
      "cell_type": "code",
      "execution_count": null,
      "metadata": {
        "id": "8SQle7iu_Gdz"
      },
      "outputs": [],
      "source": [
        "val_loader = DataLoader(val_dataset, batch_size=16, shuffle=False)\n"
      ]
    },
    {
      "cell_type": "code",
      "execution_count": null,
      "metadata": {
        "colab": {
          "base_uri": "https://localhost:8080/"
        },
        "id": "UiIeig1EOT0u",
        "outputId": "dcba32b8-4ee9-4f2a-a26e-689690bfe6c3"
      },
      "outputs": [
        {
          "name": "stdout",
          "output_type": "stream",
          "text": [
            "Using device: cuda\n"
          ]
        }
      ],
      "source": [
        "device = torch.device(\"cuda\" if torch.cuda.is_available() else \"cpu\")\n",
        "print(f\"Using device: {device}\")"
      ]
    },
    {
      "cell_type": "code",
      "execution_count": null,
      "metadata": {
        "colab": {
          "base_uri": "https://localhost:8080/"
        },
        "id": "UFjMxeh4OW5s",
        "outputId": "92684bee-32ee-49fb-e217-83386ec2ebea"
      },
      "outputs": [
        {
          "name": "stderr",
          "output_type": "stream",
          "text": [
            "<ipython-input-33-1529dc6678a3>:8: UserWarning: To copy construct from a tensor, it is recommended to use sourceTensor.clone().detach() or sourceTensor.clone().detach().requires_grad_(True), rather than torch.tensor(sourceTensor).\n",
            "  item = {key: torch.tensor(val[idx]) for key, val in self.encodings.items()}\n"
          ]
        }
      ],
      "source": [
        "predictions = []\n",
        "labels = []\n",
        "\n",
        "with torch.no_grad():\n",
        "    for batch in val_loader:\n",
        "        inputs = batch['input_ids'].to(device)\n",
        "        attention_mask = batch['attention_mask'].to(device)\n",
        "        model.to(device)\n",
        "        output = model(inputs, attention_mask=attention_mask)\n",
        "        logits = output.logits.to(device)\n",
        "        preds = torch.argmax(logits, dim=-1).cpu().numpy()\n",
        "        predictions.extend(preds)\n",
        "        labels.extend(batch['labels'].cpu().numpy())"
      ]
    },
    {
      "cell_type": "code",
      "execution_count": null,
      "metadata": {
        "colab": {
          "base_uri": "https://localhost:8080/"
        },
        "id": "y8nr3O9OOYvz",
        "outputId": "fa0f31c3-5be7-4ac9-bacf-f6506e49d177"
      },
      "outputs": [
        {
          "name": "stdout",
          "output_type": "stream",
          "text": [
            "Accuracy: 0.07144647781398847\n",
            "Precision: 0.005104599192024746\n",
            "Recall: 0.07144647781398847\n",
            "F1 Score: 0.009528425913423826\n"
          ]
        },
        {
          "name": "stderr",
          "output_type": "stream",
          "text": [
            "/usr/local/lib/python3.10/dist-packages/sklearn/metrics/_classification.py:1344: UndefinedMetricWarning: Precision and F-score are ill-defined and being set to 0.0 in labels with no predicted samples. Use `zero_division` parameter to control this behavior.\n",
            "  _warn_prf(average, modifier, msg_start, len(result))\n"
          ]
        }
      ],
      "source": [
        "from sklearn.metrics import accuracy_score, precision_recall_fscore_support\n",
        "\n",
        "# Calculate accuracy\n",
        "accuracy = accuracy_score(labels, predictions)\n",
        "print(f\"Accuracy: {accuracy}\")\n",
        "\n",
        "# Calculate precision, recall, and F1 score\n",
        "precision, recall, f1, _ = precision_recall_fscore_support(labels, predictions, average='weighted')\n",
        "print(f\"Precision: {precision}\\nRecall: {recall}\\nF1 Score: {f1}\")\n"
      ]
    },
    {
      "cell_type": "code",
      "execution_count": null,
      "metadata": {
        "id": "eXv-iOxzO7V9"
      },
      "outputs": [],
      "source": [
        "import shutil\n",
        "from google.colab import files\n",
        "\n",
        "# Directory containing the saved model and tokenizer\n",
        "directory_path = './my_muril_model'\n",
        "\n",
        "# Zip the directory\n",
        "shutil.make_archive('my_muril_model', 'zip', directory_path)\n",
        "\n",
        "# Download the zip file\n",
        "files.download('my_muril_model.zip')"
      ]
    },
    {
      "cell_type": "code",
      "execution_count": null,
      "metadata": {
        "id": "ziLD2sLems2E"
      },
      "outputs": [],
      "source": []
    }
  ],
  "metadata": {
    "colab": {
      "machine_shape": "hm",
      "provenance": []
    },
    "kernelspec": {
      "display_name": "Python 3",
      "name": "python3"
    },
    "language_info": {
      "name": "python"
    },
    "widgets": {
      "application/vnd.jupyter.widget-state+json": {
        "05297bf35862409d90fbf1706d13e148": {
          "model_module": "@jupyter-widgets/controls",
          "model_module_version": "1.5.0",
          "model_name": "HBoxModel",
          "state": {
            "_dom_classes": [],
            "_model_module": "@jupyter-widgets/controls",
            "_model_module_version": "1.5.0",
            "_model_name": "HBoxModel",
            "_view_count": null,
            "_view_module": "@jupyter-widgets/controls",
            "_view_module_version": "1.5.0",
            "_view_name": "HBoxView",
            "box_style": "",
            "children": [
              "IPY_MODEL_a722d5a3ae7844399439a4fec19027a1",
              "IPY_MODEL_f19ce00de84244edb33aa0b3fb600b7c",
              "IPY_MODEL_4701c824ea8b41c396f1594d9f27ee28"
            ],
            "layout": "IPY_MODEL_b42ef295eb4b45ed8a27554e861164da"
          }
        },
        "05ddf11d4bed4d69a65ebbc82395ff37": {
          "model_module": "@jupyter-widgets/controls",
          "model_module_version": "1.5.0",
          "model_name": "DescriptionStyleModel",
          "state": {
            "_model_module": "@jupyter-widgets/controls",
            "_model_module_version": "1.5.0",
            "_model_name": "DescriptionStyleModel",
            "_view_count": null,
            "_view_module": "@jupyter-widgets/base",
            "_view_module_version": "1.2.0",
            "_view_name": "StyleView",
            "description_width": ""
          }
        },
        "09fde52e3e5b4aa7b4956138d08caff5": {
          "model_module": "@jupyter-widgets/controls",
          "model_module_version": "1.5.0",
          "model_name": "ProgressStyleModel",
          "state": {
            "_model_module": "@jupyter-widgets/controls",
            "_model_module_version": "1.5.0",
            "_model_name": "ProgressStyleModel",
            "_view_count": null,
            "_view_module": "@jupyter-widgets/base",
            "_view_module_version": "1.2.0",
            "_view_name": "StyleView",
            "bar_color": null,
            "description_width": ""
          }
        },
        "0a8a500abfde49f9965c6426b437073c": {
          "model_module": "@jupyter-widgets/controls",
          "model_module_version": "1.5.0",
          "model_name": "FloatProgressModel",
          "state": {
            "_dom_classes": [],
            "_model_module": "@jupyter-widgets/controls",
            "_model_module_version": "1.5.0",
            "_model_name": "FloatProgressModel",
            "_view_count": null,
            "_view_module": "@jupyter-widgets/controls",
            "_view_module_version": "1.5.0",
            "_view_name": "ProgressView",
            "bar_style": "success",
            "description": "",
            "description_tooltip": null,
            "layout": "IPY_MODEL_3a5d10c218724837b33dcc4a45cc841f",
            "max": 411,
            "min": 0,
            "orientation": "horizontal",
            "style": "IPY_MODEL_09fde52e3e5b4aa7b4956138d08caff5",
            "value": 411
          }
        },
        "0aa3829b6a87432b983d095cb2694295": {
          "model_module": "@jupyter-widgets/base",
          "model_module_version": "1.2.0",
          "model_name": "LayoutModel",
          "state": {
            "_model_module": "@jupyter-widgets/base",
            "_model_module_version": "1.2.0",
            "_model_name": "LayoutModel",
            "_view_count": null,
            "_view_module": "@jupyter-widgets/base",
            "_view_module_version": "1.2.0",
            "_view_name": "LayoutView",
            "align_content": null,
            "align_items": null,
            "align_self": null,
            "border": null,
            "bottom": null,
            "display": null,
            "flex": null,
            "flex_flow": null,
            "grid_area": null,
            "grid_auto_columns": null,
            "grid_auto_flow": null,
            "grid_auto_rows": null,
            "grid_column": null,
            "grid_gap": null,
            "grid_row": null,
            "grid_template_areas": null,
            "grid_template_columns": null,
            "grid_template_rows": null,
            "height": null,
            "justify_content": null,
            "justify_items": null,
            "left": null,
            "margin": null,
            "max_height": null,
            "max_width": null,
            "min_height": null,
            "min_width": null,
            "object_fit": null,
            "object_position": null,
            "order": null,
            "overflow": null,
            "overflow_x": null,
            "overflow_y": null,
            "padding": null,
            "right": null,
            "top": null,
            "visibility": null,
            "width": null
          }
        },
        "0c41fb896d034e7cb302b86119c2e143": {
          "model_module": "@jupyter-widgets/controls",
          "model_module_version": "1.5.0",
          "model_name": "VBoxModel",
          "state": {
            "_dom_classes": [],
            "_model_module": "@jupyter-widgets/controls",
            "_model_module_version": "1.5.0",
            "_model_name": "VBoxModel",
            "_view_count": null,
            "_view_module": "@jupyter-widgets/controls",
            "_view_module_version": "1.5.0",
            "_view_name": "VBoxView",
            "box_style": "",
            "children": [
              "IPY_MODEL_e893f1b58d19418d9d9b7620effd3c6a",
              "IPY_MODEL_12ac9d6393f44cfc8243ca793f126d1e",
              "IPY_MODEL_ceea327070e44723bc2beb7a00ba2fe1",
              "IPY_MODEL_7151eac915f948588435b72924b689a5"
            ],
            "layout": "IPY_MODEL_2056289e94c149bfa4d35c8761cd0fb6"
          }
        },
        "0cb68913aab84cf7b015435ee9c65800": {
          "model_module": "@jupyter-widgets/controls",
          "model_module_version": "1.5.0",
          "model_name": "HTMLModel",
          "state": {
            "_dom_classes": [],
            "_model_module": "@jupyter-widgets/controls",
            "_model_module_version": "1.5.0",
            "_model_name": "HTMLModel",
            "_view_count": null,
            "_view_module": "@jupyter-widgets/controls",
            "_view_module_version": "1.5.0",
            "_view_name": "HTMLView",
            "description": "",
            "description_tooltip": null,
            "layout": "IPY_MODEL_2c92055372a14fa8bf5621d24c5062e6",
            "placeholder": "​",
            "style": "IPY_MODEL_7874cc67449345ed9c135d607d5a5e92",
            "value": " 113/113 [00:00&lt;00:00, 9.31kB/s]"
          }
        },
        "0ddadea2428d43d89d8ef595a8fdfad2": {
          "model_module": "@jupyter-widgets/base",
          "model_module_version": "1.2.0",
          "model_name": "LayoutModel",
          "state": {
            "_model_module": "@jupyter-widgets/base",
            "_model_module_version": "1.2.0",
            "_model_name": "LayoutModel",
            "_view_count": null,
            "_view_module": "@jupyter-widgets/base",
            "_view_module_version": "1.2.0",
            "_view_name": "LayoutView",
            "align_content": null,
            "align_items": null,
            "align_self": null,
            "border": null,
            "bottom": null,
            "display": null,
            "flex": null,
            "flex_flow": null,
            "grid_area": null,
            "grid_auto_columns": null,
            "grid_auto_flow": null,
            "grid_auto_rows": null,
            "grid_column": null,
            "grid_gap": null,
            "grid_row": null,
            "grid_template_areas": null,
            "grid_template_columns": null,
            "grid_template_rows": null,
            "height": null,
            "justify_content": null,
            "justify_items": null,
            "left": null,
            "margin": null,
            "max_height": null,
            "max_width": null,
            "min_height": null,
            "min_width": null,
            "object_fit": null,
            "object_position": null,
            "order": null,
            "overflow": null,
            "overflow_x": null,
            "overflow_y": null,
            "padding": null,
            "right": null,
            "top": null,
            "visibility": null,
            "width": null
          }
        },
        "113b5ab763c0464cba1c3145f2d6a0cd": {
          "model_module": "@jupyter-widgets/base",
          "model_module_version": "1.2.0",
          "model_name": "LayoutModel",
          "state": {
            "_model_module": "@jupyter-widgets/base",
            "_model_module_version": "1.2.0",
            "_model_name": "LayoutModel",
            "_view_count": null,
            "_view_module": "@jupyter-widgets/base",
            "_view_module_version": "1.2.0",
            "_view_name": "LayoutView",
            "align_content": null,
            "align_items": null,
            "align_self": null,
            "border": null,
            "bottom": null,
            "display": null,
            "flex": null,
            "flex_flow": null,
            "grid_area": null,
            "grid_auto_columns": null,
            "grid_auto_flow": null,
            "grid_auto_rows": null,
            "grid_column": null,
            "grid_gap": null,
            "grid_row": null,
            "grid_template_areas": null,
            "grid_template_columns": null,
            "grid_template_rows": null,
            "height": null,
            "justify_content": null,
            "justify_items": null,
            "left": null,
            "margin": null,
            "max_height": null,
            "max_width": null,
            "min_height": null,
            "min_width": null,
            "object_fit": null,
            "object_position": null,
            "order": null,
            "overflow": null,
            "overflow_x": null,
            "overflow_y": null,
            "padding": null,
            "right": null,
            "top": null,
            "visibility": null,
            "width": null
          }
        },
        "12a62f194ca04055a5b4f6c97d0447c1": {
          "model_module": "@jupyter-widgets/base",
          "model_module_version": "1.2.0",
          "model_name": "LayoutModel",
          "state": {
            "_model_module": "@jupyter-widgets/base",
            "_model_module_version": "1.2.0",
            "_model_name": "LayoutModel",
            "_view_count": null,
            "_view_module": "@jupyter-widgets/base",
            "_view_module_version": "1.2.0",
            "_view_name": "LayoutView",
            "align_content": null,
            "align_items": null,
            "align_self": null,
            "border": null,
            "bottom": null,
            "display": null,
            "flex": null,
            "flex_flow": null,
            "grid_area": null,
            "grid_auto_columns": null,
            "grid_auto_flow": null,
            "grid_auto_rows": null,
            "grid_column": null,
            "grid_gap": null,
            "grid_row": null,
            "grid_template_areas": null,
            "grid_template_columns": null,
            "grid_template_rows": null,
            "height": null,
            "justify_content": null,
            "justify_items": null,
            "left": null,
            "margin": null,
            "max_height": null,
            "max_width": null,
            "min_height": null,
            "min_width": null,
            "object_fit": null,
            "object_position": null,
            "order": null,
            "overflow": null,
            "overflow_x": null,
            "overflow_y": null,
            "padding": null,
            "right": null,
            "top": null,
            "visibility": null,
            "width": null
          }
        },
        "12ac9d6393f44cfc8243ca793f126d1e": {
          "model_module": "@jupyter-widgets/controls",
          "model_module_version": "1.5.0",
          "model_name": "LabelModel",
          "state": {
            "_dom_classes": [],
            "_model_module": "@jupyter-widgets/controls",
            "_model_module_version": "1.5.0",
            "_model_name": "LabelModel",
            "_view_count": null,
            "_view_module": "@jupyter-widgets/controls",
            "_view_module_version": "1.5.0",
            "_view_name": "LabelView",
            "description": "",
            "description_tooltip": null,
            "layout": "IPY_MODEL_a3ba9684403b4aca8c0f3dd6fc380c0b",
            "placeholder": "​",
            "style": "IPY_MODEL_05ddf11d4bed4d69a65ebbc82395ff37",
            "value": "Your token has been saved in your configured git credential helpers (store)."
          }
        },
        "13533a7b6aa6497a9f8207d2cda21119": {
          "model_module": "@jupyter-widgets/controls",
          "model_module_version": "1.5.0",
          "model_name": "ProgressStyleModel",
          "state": {
            "_model_module": "@jupyter-widgets/controls",
            "_model_module_version": "1.5.0",
            "_model_name": "ProgressStyleModel",
            "_view_count": null,
            "_view_module": "@jupyter-widgets/base",
            "_view_module_version": "1.2.0",
            "_view_name": "StyleView",
            "bar_color": null,
            "description_width": ""
          }
        },
        "1579c79f47ac497889eebac40931ee06": {
          "model_module": "@jupyter-widgets/controls",
          "model_module_version": "1.5.0",
          "model_name": "HTMLModel",
          "state": {
            "_dom_classes": [],
            "_model_module": "@jupyter-widgets/controls",
            "_model_module_version": "1.5.0",
            "_model_name": "HTMLModel",
            "_view_count": null,
            "_view_module": "@jupyter-widgets/controls",
            "_view_module_version": "1.5.0",
            "_view_name": "HTMLView",
            "description": "",
            "description_tooltip": null,
            "layout": "IPY_MODEL_c30fea07102b4dd09f939e419551cd4e",
            "placeholder": "​",
            "style": "IPY_MODEL_ff1ddf93e9c64064ba6478c843e0fa1d",
            "value": " 2.48k/2.48k [00:00&lt;00:00, 200kB/s]"
          }
        },
        "1a19333230764e7284471be5234741b3": {
          "model_module": "@jupyter-widgets/base",
          "model_module_version": "1.2.0",
          "model_name": "LayoutModel",
          "state": {
            "_model_module": "@jupyter-widgets/base",
            "_model_module_version": "1.2.0",
            "_model_name": "LayoutModel",
            "_view_count": null,
            "_view_module": "@jupyter-widgets/base",
            "_view_module_version": "1.2.0",
            "_view_name": "LayoutView",
            "align_content": null,
            "align_items": null,
            "align_self": null,
            "border": null,
            "bottom": null,
            "display": null,
            "flex": null,
            "flex_flow": null,
            "grid_area": null,
            "grid_auto_columns": null,
            "grid_auto_flow": null,
            "grid_auto_rows": null,
            "grid_column": null,
            "grid_gap": null,
            "grid_row": null,
            "grid_template_areas": null,
            "grid_template_columns": null,
            "grid_template_rows": null,
            "height": null,
            "justify_content": null,
            "justify_items": null,
            "left": null,
            "margin": null,
            "max_height": null,
            "max_width": null,
            "min_height": null,
            "min_width": null,
            "object_fit": null,
            "object_position": null,
            "order": null,
            "overflow": null,
            "overflow_x": null,
            "overflow_y": null,
            "padding": null,
            "right": null,
            "top": null,
            "visibility": null,
            "width": null
          }
        },
        "1f56333de2604277b001fd58e70ee78b": {
          "model_module": "@jupyter-widgets/controls",
          "model_module_version": "1.5.0",
          "model_name": "DescriptionStyleModel",
          "state": {
            "_model_module": "@jupyter-widgets/controls",
            "_model_module_version": "1.5.0",
            "_model_name": "DescriptionStyleModel",
            "_view_count": null,
            "_view_module": "@jupyter-widgets/base",
            "_view_module_version": "1.2.0",
            "_view_name": "StyleView",
            "description_width": ""
          }
        },
        "20111fb46ef5447ab76376f72dcace88": {
          "model_module": "@jupyter-widgets/controls",
          "model_module_version": "1.5.0",
          "model_name": "ProgressStyleModel",
          "state": {
            "_model_module": "@jupyter-widgets/controls",
            "_model_module_version": "1.5.0",
            "_model_name": "ProgressStyleModel",
            "_view_count": null,
            "_view_module": "@jupyter-widgets/base",
            "_view_module_version": "1.2.0",
            "_view_name": "StyleView",
            "bar_color": null,
            "description_width": ""
          }
        },
        "2056289e94c149bfa4d35c8761cd0fb6": {
          "model_module": "@jupyter-widgets/base",
          "model_module_version": "1.2.0",
          "model_name": "LayoutModel",
          "state": {
            "_model_module": "@jupyter-widgets/base",
            "_model_module_version": "1.2.0",
            "_model_name": "LayoutModel",
            "_view_count": null,
            "_view_module": "@jupyter-widgets/base",
            "_view_module_version": "1.2.0",
            "_view_name": "LayoutView",
            "align_content": null,
            "align_items": "center",
            "align_self": null,
            "border": null,
            "bottom": null,
            "display": "flex",
            "flex": null,
            "flex_flow": "column",
            "grid_area": null,
            "grid_auto_columns": null,
            "grid_auto_flow": null,
            "grid_auto_rows": null,
            "grid_column": null,
            "grid_gap": null,
            "grid_row": null,
            "grid_template_areas": null,
            "grid_template_columns": null,
            "grid_template_rows": null,
            "height": null,
            "justify_content": null,
            "justify_items": null,
            "left": null,
            "margin": null,
            "max_height": null,
            "max_width": null,
            "min_height": null,
            "min_width": null,
            "object_fit": null,
            "object_position": null,
            "order": null,
            "overflow": null,
            "overflow_x": null,
            "overflow_y": null,
            "padding": null,
            "right": null,
            "top": null,
            "visibility": null,
            "width": "50%"
          }
        },
        "2155eaaff5964fb8a4f60d695e8b3cd7": {
          "model_module": "@jupyter-widgets/controls",
          "model_module_version": "1.5.0",
          "model_name": "DescriptionStyleModel",
          "state": {
            "_model_module": "@jupyter-widgets/controls",
            "_model_module_version": "1.5.0",
            "_model_name": "DescriptionStyleModel",
            "_view_count": null,
            "_view_module": "@jupyter-widgets/base",
            "_view_module_version": "1.2.0",
            "_view_name": "StyleView",
            "description_width": ""
          }
        },
        "25f7e90aada247e8b6466caf2ab17cc3": {
          "model_module": "@jupyter-widgets/controls",
          "model_module_version": "1.5.0",
          "model_name": "HTMLModel",
          "state": {
            "_dom_classes": [],
            "_model_module": "@jupyter-widgets/controls",
            "_model_module_version": "1.5.0",
            "_model_name": "HTMLModel",
            "_view_count": null,
            "_view_module": "@jupyter-widgets/controls",
            "_view_module_version": "1.5.0",
            "_view_name": "HTMLView",
            "description": "",
            "description_tooltip": null,
            "layout": "IPY_MODEL_cce8c85d206643a6ad3f44abd3a05a88",
            "placeholder": "​",
            "style": "IPY_MODEL_2155eaaff5964fb8a4f60d695e8b3cd7",
            "value": "tokenizer_config.json: 100%"
          }
        },
        "26532f70e96741bf8c27bf343055614c": {
          "model_module": "@jupyter-widgets/controls",
          "model_module_version": "1.5.0",
          "model_name": "DescriptionStyleModel",
          "state": {
            "_model_module": "@jupyter-widgets/controls",
            "_model_module_version": "1.5.0",
            "_model_name": "DescriptionStyleModel",
            "_view_count": null,
            "_view_module": "@jupyter-widgets/base",
            "_view_module_version": "1.2.0",
            "_view_name": "StyleView",
            "description_width": ""
          }
        },
        "291f043afb674293b5f79e46db0e0e09": {
          "model_module": "@jupyter-widgets/controls",
          "model_module_version": "1.5.0",
          "model_name": "HTMLModel",
          "state": {
            "_dom_classes": [],
            "_model_module": "@jupyter-widgets/controls",
            "_model_module_version": "1.5.0",
            "_model_name": "HTMLModel",
            "_view_count": null,
            "_view_module": "@jupyter-widgets/controls",
            "_view_module_version": "1.5.0",
            "_view_name": "HTMLView",
            "description": "",
            "description_tooltip": null,
            "layout": "IPY_MODEL_45f23269a3b6474fb61b5fbf586d186a",
            "placeholder": "​",
            "style": "IPY_MODEL_dffdb6c4bcfe4557837cdfbe2411cc0a",
            "value": " 953M/953M [00:02&lt;00:00, 318MB/s]"
          }
        },
        "2a3ce5f8e5e249a2804aa381271cf418": {
          "model_module": "@jupyter-widgets/base",
          "model_module_version": "1.2.0",
          "model_name": "LayoutModel",
          "state": {
            "_model_module": "@jupyter-widgets/base",
            "_model_module_version": "1.2.0",
            "_model_name": "LayoutModel",
            "_view_count": null,
            "_view_module": "@jupyter-widgets/base",
            "_view_module_version": "1.2.0",
            "_view_name": "LayoutView",
            "align_content": null,
            "align_items": null,
            "align_self": null,
            "border": null,
            "bottom": null,
            "display": null,
            "flex": null,
            "flex_flow": null,
            "grid_area": null,
            "grid_auto_columns": null,
            "grid_auto_flow": null,
            "grid_auto_rows": null,
            "grid_column": null,
            "grid_gap": null,
            "grid_row": null,
            "grid_template_areas": null,
            "grid_template_columns": null,
            "grid_template_rows": null,
            "height": null,
            "justify_content": null,
            "justify_items": null,
            "left": null,
            "margin": null,
            "max_height": null,
            "max_width": null,
            "min_height": null,
            "min_width": null,
            "object_fit": null,
            "object_position": null,
            "order": null,
            "overflow": null,
            "overflow_x": null,
            "overflow_y": null,
            "padding": null,
            "right": null,
            "top": null,
            "visibility": null,
            "width": null
          }
        },
        "2c148123244840708a59c9dfe5fcf154": {
          "model_module": "@jupyter-widgets/base",
          "model_module_version": "1.2.0",
          "model_name": "LayoutModel",
          "state": {
            "_model_module": "@jupyter-widgets/base",
            "_model_module_version": "1.2.0",
            "_model_name": "LayoutModel",
            "_view_count": null,
            "_view_module": "@jupyter-widgets/base",
            "_view_module_version": "1.2.0",
            "_view_name": "LayoutView",
            "align_content": null,
            "align_items": null,
            "align_self": null,
            "border": null,
            "bottom": null,
            "display": null,
            "flex": null,
            "flex_flow": null,
            "grid_area": null,
            "grid_auto_columns": null,
            "grid_auto_flow": null,
            "grid_auto_rows": null,
            "grid_column": null,
            "grid_gap": null,
            "grid_row": null,
            "grid_template_areas": null,
            "grid_template_columns": null,
            "grid_template_rows": null,
            "height": null,
            "justify_content": null,
            "justify_items": null,
            "left": null,
            "margin": null,
            "max_height": null,
            "max_width": null,
            "min_height": null,
            "min_width": null,
            "object_fit": null,
            "object_position": null,
            "order": null,
            "overflow": null,
            "overflow_x": null,
            "overflow_y": null,
            "padding": null,
            "right": null,
            "top": null,
            "visibility": null,
            "width": null
          }
        },
        "2c92055372a14fa8bf5621d24c5062e6": {
          "model_module": "@jupyter-widgets/base",
          "model_module_version": "1.2.0",
          "model_name": "LayoutModel",
          "state": {
            "_model_module": "@jupyter-widgets/base",
            "_model_module_version": "1.2.0",
            "_model_name": "LayoutModel",
            "_view_count": null,
            "_view_module": "@jupyter-widgets/base",
            "_view_module_version": "1.2.0",
            "_view_name": "LayoutView",
            "align_content": null,
            "align_items": null,
            "align_self": null,
            "border": null,
            "bottom": null,
            "display": null,
            "flex": null,
            "flex_flow": null,
            "grid_area": null,
            "grid_auto_columns": null,
            "grid_auto_flow": null,
            "grid_auto_rows": null,
            "grid_column": null,
            "grid_gap": null,
            "grid_row": null,
            "grid_template_areas": null,
            "grid_template_columns": null,
            "grid_template_rows": null,
            "height": null,
            "justify_content": null,
            "justify_items": null,
            "left": null,
            "margin": null,
            "max_height": null,
            "max_width": null,
            "min_height": null,
            "min_width": null,
            "object_fit": null,
            "object_position": null,
            "order": null,
            "overflow": null,
            "overflow_x": null,
            "overflow_y": null,
            "padding": null,
            "right": null,
            "top": null,
            "visibility": null,
            "width": null
          }
        },
        "33235826e4ab42bba48f84e0ef57ac01": {
          "model_module": "@jupyter-widgets/controls",
          "model_module_version": "1.5.0",
          "model_name": "DescriptionStyleModel",
          "state": {
            "_model_module": "@jupyter-widgets/controls",
            "_model_module_version": "1.5.0",
            "_model_name": "DescriptionStyleModel",
            "_view_count": null,
            "_view_module": "@jupyter-widgets/base",
            "_view_module_version": "1.2.0",
            "_view_name": "StyleView",
            "description_width": ""
          }
        },
        "3443c740d30149dcbf6533f6f3a9ba15": {
          "model_module": "@jupyter-widgets/controls",
          "model_module_version": "1.5.0",
          "model_name": "FloatProgressModel",
          "state": {
            "_dom_classes": [],
            "_model_module": "@jupyter-widgets/controls",
            "_model_module_version": "1.5.0",
            "_model_name": "FloatProgressModel",
            "_view_count": null,
            "_view_module": "@jupyter-widgets/controls",
            "_view_module_version": "1.5.0",
            "_view_name": "ProgressView",
            "bar_style": "success",
            "description": "",
            "description_tooltip": null,
            "layout": "IPY_MODEL_9def0eb6e01c4b3b91cf5553e619bdef",
            "max": 953477430,
            "min": 0,
            "orientation": "horizontal",
            "style": "IPY_MODEL_83f4e251923148b9a6fd8cc4d765bc13",
            "value": 953477430
          }
        },
        "34ba7a6f4d764c598b189e30428b6ebc": {
          "model_module": "@jupyter-widgets/controls",
          "model_module_version": "1.5.0",
          "model_name": "DescriptionStyleModel",
          "state": {
            "_model_module": "@jupyter-widgets/controls",
            "_model_module_version": "1.5.0",
            "_model_name": "DescriptionStyleModel",
            "_view_count": null,
            "_view_module": "@jupyter-widgets/base",
            "_view_module_version": "1.2.0",
            "_view_name": "StyleView",
            "description_width": ""
          }
        },
        "35c4cf366eb244e7abd012f9d84b18c6": {
          "model_module": "@jupyter-widgets/base",
          "model_module_version": "1.2.0",
          "model_name": "LayoutModel",
          "state": {
            "_model_module": "@jupyter-widgets/base",
            "_model_module_version": "1.2.0",
            "_model_name": "LayoutModel",
            "_view_count": null,
            "_view_module": "@jupyter-widgets/base",
            "_view_module_version": "1.2.0",
            "_view_name": "LayoutView",
            "align_content": null,
            "align_items": null,
            "align_self": null,
            "border": null,
            "bottom": null,
            "display": null,
            "flex": null,
            "flex_flow": null,
            "grid_area": null,
            "grid_auto_columns": null,
            "grid_auto_flow": null,
            "grid_auto_rows": null,
            "grid_column": null,
            "grid_gap": null,
            "grid_row": null,
            "grid_template_areas": null,
            "grid_template_columns": null,
            "grid_template_rows": null,
            "height": null,
            "justify_content": null,
            "justify_items": null,
            "left": null,
            "margin": null,
            "max_height": null,
            "max_width": null,
            "min_height": null,
            "min_width": null,
            "object_fit": null,
            "object_position": null,
            "order": null,
            "overflow": null,
            "overflow_x": null,
            "overflow_y": null,
            "padding": null,
            "right": null,
            "top": null,
            "visibility": null,
            "width": null
          }
        },
        "35ede8a7379340b1baacfa9259feae60": {
          "model_module": "@jupyter-widgets/base",
          "model_module_version": "1.2.0",
          "model_name": "LayoutModel",
          "state": {
            "_model_module": "@jupyter-widgets/base",
            "_model_module_version": "1.2.0",
            "_model_name": "LayoutModel",
            "_view_count": null,
            "_view_module": "@jupyter-widgets/base",
            "_view_module_version": "1.2.0",
            "_view_name": "LayoutView",
            "align_content": null,
            "align_items": null,
            "align_self": null,
            "border": null,
            "bottom": null,
            "display": null,
            "flex": null,
            "flex_flow": null,
            "grid_area": null,
            "grid_auto_columns": null,
            "grid_auto_flow": null,
            "grid_auto_rows": null,
            "grid_column": null,
            "grid_gap": null,
            "grid_row": null,
            "grid_template_areas": null,
            "grid_template_columns": null,
            "grid_template_rows": null,
            "height": null,
            "justify_content": null,
            "justify_items": null,
            "left": null,
            "margin": null,
            "max_height": null,
            "max_width": null,
            "min_height": null,
            "min_width": null,
            "object_fit": null,
            "object_position": null,
            "order": null,
            "overflow": null,
            "overflow_x": null,
            "overflow_y": null,
            "padding": null,
            "right": null,
            "top": null,
            "visibility": null,
            "width": null
          }
        },
        "37469dcd63904d92a72418669490a995": {
          "model_module": "@jupyter-widgets/controls",
          "model_module_version": "1.5.0",
          "model_name": "HTMLModel",
          "state": {
            "_dom_classes": [],
            "_model_module": "@jupyter-widgets/controls",
            "_model_module_version": "1.5.0",
            "_model_name": "HTMLModel",
            "_view_count": null,
            "_view_module": "@jupyter-widgets/controls",
            "_view_module_version": "1.5.0",
            "_view_name": "HTMLView",
            "description": "",
            "description_tooltip": null,
            "layout": "IPY_MODEL_2a3ce5f8e5e249a2804aa381271cf418",
            "placeholder": "​",
            "style": "IPY_MODEL_fb79d5f805884deb8b31859e7965fe44",
            "value": "vocab.txt: 100%"
          }
        },
        "3a5d10c218724837b33dcc4a45cc841f": {
          "model_module": "@jupyter-widgets/base",
          "model_module_version": "1.2.0",
          "model_name": "LayoutModel",
          "state": {
            "_model_module": "@jupyter-widgets/base",
            "_model_module_version": "1.2.0",
            "_model_name": "LayoutModel",
            "_view_count": null,
            "_view_module": "@jupyter-widgets/base",
            "_view_module_version": "1.2.0",
            "_view_name": "LayoutView",
            "align_content": null,
            "align_items": null,
            "align_self": null,
            "border": null,
            "bottom": null,
            "display": null,
            "flex": null,
            "flex_flow": null,
            "grid_area": null,
            "grid_auto_columns": null,
            "grid_auto_flow": null,
            "grid_auto_rows": null,
            "grid_column": null,
            "grid_gap": null,
            "grid_row": null,
            "grid_template_areas": null,
            "grid_template_columns": null,
            "grid_template_rows": null,
            "height": null,
            "justify_content": null,
            "justify_items": null,
            "left": null,
            "margin": null,
            "max_height": null,
            "max_width": null,
            "min_height": null,
            "min_width": null,
            "object_fit": null,
            "object_position": null,
            "order": null,
            "overflow": null,
            "overflow_x": null,
            "overflow_y": null,
            "padding": null,
            "right": null,
            "top": null,
            "visibility": null,
            "width": null
          }
        },
        "3aeecabdaeb04ea2bb4612737f50f440": {
          "model_module": "@jupyter-widgets/controls",
          "model_module_version": "1.5.0",
          "model_name": "HTMLModel",
          "state": {
            "_dom_classes": [],
            "_model_module": "@jupyter-widgets/controls",
            "_model_module_version": "1.5.0",
            "_model_name": "HTMLModel",
            "_view_count": null,
            "_view_module": "@jupyter-widgets/controls",
            "_view_module_version": "1.5.0",
            "_view_name": "HTMLView",
            "description": "",
            "description_tooltip": null,
            "layout": "IPY_MODEL_113b5ab763c0464cba1c3145f2d6a0cd",
            "placeholder": "​",
            "style": "IPY_MODEL_34ba7a6f4d764c598b189e30428b6ebc",
            "value": " 411/411 [00:00&lt;00:00, 41.2kB/s]"
          }
        },
        "4099a7c28d674448b32a06acc375e486": {
          "model_module": "@jupyter-widgets/base",
          "model_module_version": "1.2.0",
          "model_name": "LayoutModel",
          "state": {
            "_model_module": "@jupyter-widgets/base",
            "_model_module_version": "1.2.0",
            "_model_name": "LayoutModel",
            "_view_count": null,
            "_view_module": "@jupyter-widgets/base",
            "_view_module_version": "1.2.0",
            "_view_name": "LayoutView",
            "align_content": null,
            "align_items": null,
            "align_self": null,
            "border": null,
            "bottom": null,
            "display": null,
            "flex": null,
            "flex_flow": null,
            "grid_area": null,
            "grid_auto_columns": null,
            "grid_auto_flow": null,
            "grid_auto_rows": null,
            "grid_column": null,
            "grid_gap": null,
            "grid_row": null,
            "grid_template_areas": null,
            "grid_template_columns": null,
            "grid_template_rows": null,
            "height": null,
            "justify_content": null,
            "justify_items": null,
            "left": null,
            "margin": null,
            "max_height": null,
            "max_width": null,
            "min_height": null,
            "min_width": null,
            "object_fit": null,
            "object_position": null,
            "order": null,
            "overflow": null,
            "overflow_x": null,
            "overflow_y": null,
            "padding": null,
            "right": null,
            "top": null,
            "visibility": null,
            "width": null
          }
        },
        "45f23269a3b6474fb61b5fbf586d186a": {
          "model_module": "@jupyter-widgets/base",
          "model_module_version": "1.2.0",
          "model_name": "LayoutModel",
          "state": {
            "_model_module": "@jupyter-widgets/base",
            "_model_module_version": "1.2.0",
            "_model_name": "LayoutModel",
            "_view_count": null,
            "_view_module": "@jupyter-widgets/base",
            "_view_module_version": "1.2.0",
            "_view_name": "LayoutView",
            "align_content": null,
            "align_items": null,
            "align_self": null,
            "border": null,
            "bottom": null,
            "display": null,
            "flex": null,
            "flex_flow": null,
            "grid_area": null,
            "grid_auto_columns": null,
            "grid_auto_flow": null,
            "grid_auto_rows": null,
            "grid_column": null,
            "grid_gap": null,
            "grid_row": null,
            "grid_template_areas": null,
            "grid_template_columns": null,
            "grid_template_rows": null,
            "height": null,
            "justify_content": null,
            "justify_items": null,
            "left": null,
            "margin": null,
            "max_height": null,
            "max_width": null,
            "min_height": null,
            "min_width": null,
            "object_fit": null,
            "object_position": null,
            "order": null,
            "overflow": null,
            "overflow_x": null,
            "overflow_y": null,
            "padding": null,
            "right": null,
            "top": null,
            "visibility": null,
            "width": null
          }
        },
        "4701c824ea8b41c396f1594d9f27ee28": {
          "model_module": "@jupyter-widgets/controls",
          "model_module_version": "1.5.0",
          "model_name": "HTMLModel",
          "state": {
            "_dom_classes": [],
            "_model_module": "@jupyter-widgets/controls",
            "_model_module_version": "1.5.0",
            "_model_name": "HTMLModel",
            "_view_count": null,
            "_view_module": "@jupyter-widgets/controls",
            "_view_module_version": "1.5.0",
            "_view_name": "HTMLView",
            "description": "",
            "description_tooltip": null,
            "layout": "IPY_MODEL_35c4cf366eb244e7abd012f9d84b18c6",
            "placeholder": "​",
            "style": "IPY_MODEL_33235826e4ab42bba48f84e0ef57ac01",
            "value": " 2.48k/2.48k [00:00&lt;00:00, 203kB/s]"
          }
        },
        "57fb808f05c345fdb8f9d53e639ecaf0": {
          "model_module": "@jupyter-widgets/base",
          "model_module_version": "1.2.0",
          "model_name": "LayoutModel",
          "state": {
            "_model_module": "@jupyter-widgets/base",
            "_model_module_version": "1.2.0",
            "_model_name": "LayoutModel",
            "_view_count": null,
            "_view_module": "@jupyter-widgets/base",
            "_view_module_version": "1.2.0",
            "_view_name": "LayoutView",
            "align_content": null,
            "align_items": null,
            "align_self": null,
            "border": null,
            "bottom": null,
            "display": null,
            "flex": null,
            "flex_flow": null,
            "grid_area": null,
            "grid_auto_columns": null,
            "grid_auto_flow": null,
            "grid_auto_rows": null,
            "grid_column": null,
            "grid_gap": null,
            "grid_row": null,
            "grid_template_areas": null,
            "grid_template_columns": null,
            "grid_template_rows": null,
            "height": null,
            "justify_content": null,
            "justify_items": null,
            "left": null,
            "margin": null,
            "max_height": null,
            "max_width": null,
            "min_height": null,
            "min_width": null,
            "object_fit": null,
            "object_position": null,
            "order": null,
            "overflow": null,
            "overflow_x": null,
            "overflow_y": null,
            "padding": null,
            "right": null,
            "top": null,
            "visibility": null,
            "width": null
          }
        },
        "5877b003f2a847f6ac3e078f65f3dd76": {
          "model_module": "@jupyter-widgets/base",
          "model_module_version": "1.2.0",
          "model_name": "LayoutModel",
          "state": {
            "_model_module": "@jupyter-widgets/base",
            "_model_module_version": "1.2.0",
            "_model_name": "LayoutModel",
            "_view_count": null,
            "_view_module": "@jupyter-widgets/base",
            "_view_module_version": "1.2.0",
            "_view_name": "LayoutView",
            "align_content": null,
            "align_items": null,
            "align_self": null,
            "border": null,
            "bottom": null,
            "display": null,
            "flex": null,
            "flex_flow": null,
            "grid_area": null,
            "grid_auto_columns": null,
            "grid_auto_flow": null,
            "grid_auto_rows": null,
            "grid_column": null,
            "grid_gap": null,
            "grid_row": null,
            "grid_template_areas": null,
            "grid_template_columns": null,
            "grid_template_rows": null,
            "height": null,
            "justify_content": null,
            "justify_items": null,
            "left": null,
            "margin": null,
            "max_height": null,
            "max_width": null,
            "min_height": null,
            "min_width": null,
            "object_fit": null,
            "object_position": null,
            "order": null,
            "overflow": null,
            "overflow_x": null,
            "overflow_y": null,
            "padding": null,
            "right": null,
            "top": null,
            "visibility": null,
            "width": null
          }
        },
        "58fb0e22efd14964861bc18ac29ba7e3": {
          "model_module": "@jupyter-widgets/base",
          "model_module_version": "1.2.0",
          "model_name": "LayoutModel",
          "state": {
            "_model_module": "@jupyter-widgets/base",
            "_model_module_version": "1.2.0",
            "_model_name": "LayoutModel",
            "_view_count": null,
            "_view_module": "@jupyter-widgets/base",
            "_view_module_version": "1.2.0",
            "_view_name": "LayoutView",
            "align_content": null,
            "align_items": null,
            "align_self": null,
            "border": null,
            "bottom": null,
            "display": null,
            "flex": null,
            "flex_flow": null,
            "grid_area": null,
            "grid_auto_columns": null,
            "grid_auto_flow": null,
            "grid_auto_rows": null,
            "grid_column": null,
            "grid_gap": null,
            "grid_row": null,
            "grid_template_areas": null,
            "grid_template_columns": null,
            "grid_template_rows": null,
            "height": null,
            "justify_content": null,
            "justify_items": null,
            "left": null,
            "margin": null,
            "max_height": null,
            "max_width": null,
            "min_height": null,
            "min_width": null,
            "object_fit": null,
            "object_position": null,
            "order": null,
            "overflow": null,
            "overflow_x": null,
            "overflow_y": null,
            "padding": null,
            "right": null,
            "top": null,
            "visibility": null,
            "width": null
          }
        },
        "5e517e3e9495473cb014030787d27162": {
          "model_module": "@jupyter-widgets/controls",
          "model_module_version": "1.5.0",
          "model_name": "DescriptionStyleModel",
          "state": {
            "_model_module": "@jupyter-widgets/controls",
            "_model_module_version": "1.5.0",
            "_model_name": "DescriptionStyleModel",
            "_view_count": null,
            "_view_module": "@jupyter-widgets/base",
            "_view_module_version": "1.2.0",
            "_view_name": "StyleView",
            "description_width": ""
          }
        },
        "60fd467a708d4b8cb5cc092353a4a740": {
          "model_module": "@jupyter-widgets/controls",
          "model_module_version": "1.5.0",
          "model_name": "HBoxModel",
          "state": {
            "_dom_classes": [],
            "_model_module": "@jupyter-widgets/controls",
            "_model_module_version": "1.5.0",
            "_model_name": "HBoxModel",
            "_view_count": null,
            "_view_module": "@jupyter-widgets/controls",
            "_view_module_version": "1.5.0",
            "_view_name": "HBoxView",
            "box_style": "",
            "children": [
              "IPY_MODEL_f555123a59ee4fb2abc08934cfa5b2e0",
              "IPY_MODEL_3443c740d30149dcbf6533f6f3a9ba15",
              "IPY_MODEL_291f043afb674293b5f79e46db0e0e09"
            ],
            "layout": "IPY_MODEL_0ddadea2428d43d89d8ef595a8fdfad2"
          }
        },
        "6862bdc45f6343bba7d1205ae7c78c87": {
          "model_module": "@jupyter-widgets/base",
          "model_module_version": "1.2.0",
          "model_name": "LayoutModel",
          "state": {
            "_model_module": "@jupyter-widgets/base",
            "_model_module_version": "1.2.0",
            "_model_name": "LayoutModel",
            "_view_count": null,
            "_view_module": "@jupyter-widgets/base",
            "_view_module_version": "1.2.0",
            "_view_name": "LayoutView",
            "align_content": null,
            "align_items": null,
            "align_self": null,
            "border": null,
            "bottom": null,
            "display": null,
            "flex": null,
            "flex_flow": null,
            "grid_area": null,
            "grid_auto_columns": null,
            "grid_auto_flow": null,
            "grid_auto_rows": null,
            "grid_column": null,
            "grid_gap": null,
            "grid_row": null,
            "grid_template_areas": null,
            "grid_template_columns": null,
            "grid_template_rows": null,
            "height": null,
            "justify_content": null,
            "justify_items": null,
            "left": null,
            "margin": null,
            "max_height": null,
            "max_width": null,
            "min_height": null,
            "min_width": null,
            "object_fit": null,
            "object_position": null,
            "order": null,
            "overflow": null,
            "overflow_x": null,
            "overflow_y": null,
            "padding": null,
            "right": null,
            "top": null,
            "visibility": null,
            "width": null
          }
        },
        "68b6cb4ca6ef48228748a5486229ce89": {
          "model_module": "@jupyter-widgets/base",
          "model_module_version": "1.2.0",
          "model_name": "LayoutModel",
          "state": {
            "_model_module": "@jupyter-widgets/base",
            "_model_module_version": "1.2.0",
            "_model_name": "LayoutModel",
            "_view_count": null,
            "_view_module": "@jupyter-widgets/base",
            "_view_module_version": "1.2.0",
            "_view_name": "LayoutView",
            "align_content": null,
            "align_items": null,
            "align_self": null,
            "border": null,
            "bottom": null,
            "display": null,
            "flex": null,
            "flex_flow": null,
            "grid_area": null,
            "grid_auto_columns": null,
            "grid_auto_flow": null,
            "grid_auto_rows": null,
            "grid_column": null,
            "grid_gap": null,
            "grid_row": null,
            "grid_template_areas": null,
            "grid_template_columns": null,
            "grid_template_rows": null,
            "height": null,
            "justify_content": null,
            "justify_items": null,
            "left": null,
            "margin": null,
            "max_height": null,
            "max_width": null,
            "min_height": null,
            "min_width": null,
            "object_fit": null,
            "object_position": null,
            "order": null,
            "overflow": null,
            "overflow_x": null,
            "overflow_y": null,
            "padding": null,
            "right": null,
            "top": null,
            "visibility": null,
            "width": null
          }
        },
        "6910f00debcc4c85bf86ab011c06456e": {
          "model_module": "@jupyter-widgets/base",
          "model_module_version": "1.2.0",
          "model_name": "LayoutModel",
          "state": {
            "_model_module": "@jupyter-widgets/base",
            "_model_module_version": "1.2.0",
            "_model_name": "LayoutModel",
            "_view_count": null,
            "_view_module": "@jupyter-widgets/base",
            "_view_module_version": "1.2.0",
            "_view_name": "LayoutView",
            "align_content": null,
            "align_items": null,
            "align_self": null,
            "border": null,
            "bottom": null,
            "display": null,
            "flex": null,
            "flex_flow": null,
            "grid_area": null,
            "grid_auto_columns": null,
            "grid_auto_flow": null,
            "grid_auto_rows": null,
            "grid_column": null,
            "grid_gap": null,
            "grid_row": null,
            "grid_template_areas": null,
            "grid_template_columns": null,
            "grid_template_rows": null,
            "height": null,
            "justify_content": null,
            "justify_items": null,
            "left": null,
            "margin": null,
            "max_height": null,
            "max_width": null,
            "min_height": null,
            "min_width": null,
            "object_fit": null,
            "object_position": null,
            "order": null,
            "overflow": null,
            "overflow_x": null,
            "overflow_y": null,
            "padding": null,
            "right": null,
            "top": null,
            "visibility": null,
            "width": null
          }
        },
        "6e0a88e9ff024095a92038da80793c37": {
          "model_module": "@jupyter-widgets/base",
          "model_module_version": "1.2.0",
          "model_name": "LayoutModel",
          "state": {
            "_model_module": "@jupyter-widgets/base",
            "_model_module_version": "1.2.0",
            "_model_name": "LayoutModel",
            "_view_count": null,
            "_view_module": "@jupyter-widgets/base",
            "_view_module_version": "1.2.0",
            "_view_name": "LayoutView",
            "align_content": null,
            "align_items": null,
            "align_self": null,
            "border": null,
            "bottom": null,
            "display": null,
            "flex": null,
            "flex_flow": null,
            "grid_area": null,
            "grid_auto_columns": null,
            "grid_auto_flow": null,
            "grid_auto_rows": null,
            "grid_column": null,
            "grid_gap": null,
            "grid_row": null,
            "grid_template_areas": null,
            "grid_template_columns": null,
            "grid_template_rows": null,
            "height": null,
            "justify_content": null,
            "justify_items": null,
            "left": null,
            "margin": null,
            "max_height": null,
            "max_width": null,
            "min_height": null,
            "min_width": null,
            "object_fit": null,
            "object_position": null,
            "order": null,
            "overflow": null,
            "overflow_x": null,
            "overflow_y": null,
            "padding": null,
            "right": null,
            "top": null,
            "visibility": null,
            "width": null
          }
        },
        "7151eac915f948588435b72924b689a5": {
          "model_module": "@jupyter-widgets/controls",
          "model_module_version": "1.5.0",
          "model_name": "LabelModel",
          "state": {
            "_dom_classes": [],
            "_model_module": "@jupyter-widgets/controls",
            "_model_module_version": "1.5.0",
            "_model_name": "LabelModel",
            "_view_count": null,
            "_view_module": "@jupyter-widgets/controls",
            "_view_module_version": "1.5.0",
            "_view_name": "LabelView",
            "description": "",
            "description_tooltip": null,
            "layout": "IPY_MODEL_1a19333230764e7284471be5234741b3",
            "placeholder": "​",
            "style": "IPY_MODEL_a82dd368ebe64aa7ba749caac01dfea8",
            "value": "Login successful"
          }
        },
        "7830526ed6494a2093ef6fde2a18393c": {
          "model_module": "@jupyter-widgets/base",
          "model_module_version": "1.2.0",
          "model_name": "LayoutModel",
          "state": {
            "_model_module": "@jupyter-widgets/base",
            "_model_module_version": "1.2.0",
            "_model_name": "LayoutModel",
            "_view_count": null,
            "_view_module": "@jupyter-widgets/base",
            "_view_module_version": "1.2.0",
            "_view_name": "LayoutView",
            "align_content": null,
            "align_items": null,
            "align_self": null,
            "border": null,
            "bottom": null,
            "display": null,
            "flex": null,
            "flex_flow": null,
            "grid_area": null,
            "grid_auto_columns": null,
            "grid_auto_flow": null,
            "grid_auto_rows": null,
            "grid_column": null,
            "grid_gap": null,
            "grid_row": null,
            "grid_template_areas": null,
            "grid_template_columns": null,
            "grid_template_rows": null,
            "height": null,
            "justify_content": null,
            "justify_items": null,
            "left": null,
            "margin": null,
            "max_height": null,
            "max_width": null,
            "min_height": null,
            "min_width": null,
            "object_fit": null,
            "object_position": null,
            "order": null,
            "overflow": null,
            "overflow_x": null,
            "overflow_y": null,
            "padding": null,
            "right": null,
            "top": null,
            "visibility": null,
            "width": null
          }
        },
        "7874cc67449345ed9c135d607d5a5e92": {
          "model_module": "@jupyter-widgets/controls",
          "model_module_version": "1.5.0",
          "model_name": "DescriptionStyleModel",
          "state": {
            "_model_module": "@jupyter-widgets/controls",
            "_model_module_version": "1.5.0",
            "_model_name": "DescriptionStyleModel",
            "_view_count": null,
            "_view_module": "@jupyter-widgets/base",
            "_view_module_version": "1.2.0",
            "_view_name": "StyleView",
            "description_width": ""
          }
        },
        "79c13fb4dbb7466287af056808839bcb": {
          "model_module": "@jupyter-widgets/controls",
          "model_module_version": "1.5.0",
          "model_name": "HBoxModel",
          "state": {
            "_dom_classes": [],
            "_model_module": "@jupyter-widgets/controls",
            "_model_module_version": "1.5.0",
            "_model_name": "HBoxModel",
            "_view_count": null,
            "_view_module": "@jupyter-widgets/controls",
            "_view_module_version": "1.5.0",
            "_view_name": "HBoxView",
            "box_style": "",
            "children": [
              "IPY_MODEL_ce1595e52e01440eaff0795c178851d2",
              "IPY_MODEL_0a8a500abfde49f9965c6426b437073c",
              "IPY_MODEL_3aeecabdaeb04ea2bb4612737f50f440"
            ],
            "layout": "IPY_MODEL_12a62f194ca04055a5b4f6c97d0447c1"
          }
        },
        "7ae33b1915944e04a958f559b4cdc021": {
          "model_module": "@jupyter-widgets/controls",
          "model_module_version": "1.5.0",
          "model_name": "FloatProgressModel",
          "state": {
            "_dom_classes": [],
            "_model_module": "@jupyter-widgets/controls",
            "_model_module_version": "1.5.0",
            "_model_name": "FloatProgressModel",
            "_view_count": null,
            "_view_module": "@jupyter-widgets/controls",
            "_view_module_version": "1.5.0",
            "_view_name": "ProgressView",
            "bar_style": "success",
            "description": "",
            "description_tooltip": null,
            "layout": "IPY_MODEL_57fb808f05c345fdb8f9d53e639ecaf0",
            "max": 206,
            "min": 0,
            "orientation": "horizontal",
            "style": "IPY_MODEL_e0932cb53f9c4e33bd241a57b7440786",
            "value": 206
          }
        },
        "7eea640d90604ff5add4c5fd6a94c160": {
          "model_module": "@jupyter-widgets/controls",
          "model_module_version": "1.5.0",
          "model_name": "HTMLModel",
          "state": {
            "_dom_classes": [],
            "_model_module": "@jupyter-widgets/controls",
            "_model_module_version": "1.5.0",
            "_model_name": "HTMLModel",
            "_view_count": null,
            "_view_module": "@jupyter-widgets/controls",
            "_view_module_version": "1.5.0",
            "_view_name": "HTMLView",
            "description": "",
            "description_tooltip": null,
            "layout": "IPY_MODEL_ef38b92d1a124e5baf3284646bfd65b3",
            "placeholder": "​",
            "style": "IPY_MODEL_1f56333de2604277b001fd58e70ee78b",
            "value": "special_tokens_map.json: 100%"
          }
        },
        "800f5b7aad3340c3945202265dd1a833": {
          "model_module": "@jupyter-widgets/controls",
          "model_module_version": "1.5.0",
          "model_name": "HTMLModel",
          "state": {
            "_dom_classes": [],
            "_model_module": "@jupyter-widgets/controls",
            "_model_module_version": "1.5.0",
            "_model_name": "HTMLModel",
            "_view_count": null,
            "_view_module": "@jupyter-widgets/controls",
            "_view_module_version": "1.5.0",
            "_view_name": "HTMLView",
            "description": "",
            "description_tooltip": null,
            "layout": "IPY_MODEL_58fb0e22efd14964861bc18ac29ba7e3",
            "placeholder": "​",
            "style": "IPY_MODEL_26532f70e96741bf8c27bf343055614c",
            "value": " 206/206 [00:00&lt;00:00, 14.5kB/s]"
          }
        },
        "83b676f96ddb4eacbc80b619a62fea06": {
          "model_module": "@jupyter-widgets/controls",
          "model_module_version": "1.5.0",
          "model_name": "ProgressStyleModel",
          "state": {
            "_model_module": "@jupyter-widgets/controls",
            "_model_module_version": "1.5.0",
            "_model_name": "ProgressStyleModel",
            "_view_count": null,
            "_view_module": "@jupyter-widgets/base",
            "_view_module_version": "1.2.0",
            "_view_name": "StyleView",
            "bar_color": null,
            "description_width": ""
          }
        },
        "83f4e251923148b9a6fd8cc4d765bc13": {
          "model_module": "@jupyter-widgets/controls",
          "model_module_version": "1.5.0",
          "model_name": "ProgressStyleModel",
          "state": {
            "_model_module": "@jupyter-widgets/controls",
            "_model_module_version": "1.5.0",
            "_model_name": "ProgressStyleModel",
            "_view_count": null,
            "_view_module": "@jupyter-widgets/base",
            "_view_module_version": "1.2.0",
            "_view_name": "StyleView",
            "bar_color": null,
            "description_width": ""
          }
        },
        "8b975d6670e74d9291f5429c3f845069": {
          "model_module": "@jupyter-widgets/controls",
          "model_module_version": "1.5.0",
          "model_name": "DescriptionStyleModel",
          "state": {
            "_model_module": "@jupyter-widgets/controls",
            "_model_module_version": "1.5.0",
            "_model_name": "DescriptionStyleModel",
            "_view_count": null,
            "_view_module": "@jupyter-widgets/base",
            "_view_module_version": "1.2.0",
            "_view_name": "StyleView",
            "description_width": ""
          }
        },
        "9261d1a82d8a4079933a550f2acc5549": {
          "model_module": "@jupyter-widgets/controls",
          "model_module_version": "1.5.0",
          "model_name": "FloatProgressModel",
          "state": {
            "_dom_classes": [],
            "_model_module": "@jupyter-widgets/controls",
            "_model_module_version": "1.5.0",
            "_model_name": "FloatProgressModel",
            "_view_count": null,
            "_view_module": "@jupyter-widgets/controls",
            "_view_module_version": "1.5.0",
            "_view_name": "ProgressView",
            "bar_style": "success",
            "description": "",
            "description_tooltip": null,
            "layout": "IPY_MODEL_f1076b6af4ec4070b01a3f608f7bc484",
            "max": 2476,
            "min": 0,
            "orientation": "horizontal",
            "style": "IPY_MODEL_13533a7b6aa6497a9f8207d2cda21119",
            "value": 2476
          }
        },
        "9536d1f2174946d9a8dd5dc1b4076c8b": {
          "model_module": "@jupyter-widgets/controls",
          "model_module_version": "1.5.0",
          "model_name": "HTMLModel",
          "state": {
            "_dom_classes": [],
            "_model_module": "@jupyter-widgets/controls",
            "_model_module_version": "1.5.0",
            "_model_name": "HTMLModel",
            "_view_count": null,
            "_view_module": "@jupyter-widgets/controls",
            "_view_module_version": "1.5.0",
            "_view_name": "HTMLView",
            "description": "",
            "description_tooltip": null,
            "layout": "IPY_MODEL_5877b003f2a847f6ac3e078f65f3dd76",
            "placeholder": "​",
            "style": "IPY_MODEL_a3c123738c9948c29dc21359cf027248",
            "value": "README.md: 100%"
          }
        },
        "993e0674df874a58bbd4f7a4965bd039": {
          "model_module": "@jupyter-widgets/controls",
          "model_module_version": "1.5.0",
          "model_name": "DescriptionStyleModel",
          "state": {
            "_model_module": "@jupyter-widgets/controls",
            "_model_module_version": "1.5.0",
            "_model_name": "DescriptionStyleModel",
            "_view_count": null,
            "_view_module": "@jupyter-widgets/base",
            "_view_module_version": "1.2.0",
            "_view_name": "StyleView",
            "description_width": ""
          }
        },
        "9db203c5d832462696cbf1ae9ec8a4c9": {
          "model_module": "@jupyter-widgets/controls",
          "model_module_version": "1.5.0",
          "model_name": "HBoxModel",
          "state": {
            "_dom_classes": [],
            "_model_module": "@jupyter-widgets/controls",
            "_model_module_version": "1.5.0",
            "_model_name": "HBoxModel",
            "_view_count": null,
            "_view_module": "@jupyter-widgets/controls",
            "_view_module_version": "1.5.0",
            "_view_name": "HBoxView",
            "box_style": "",
            "children": [
              "IPY_MODEL_37469dcd63904d92a72418669490a995",
              "IPY_MODEL_e7e52b0b9f3a4642bc0673acf931e261",
              "IPY_MODEL_df3bf5f2eca045c78b219024dc46d2dd"
            ],
            "layout": "IPY_MODEL_2c148123244840708a59c9dfe5fcf154"
          }
        },
        "9def0eb6e01c4b3b91cf5553e619bdef": {
          "model_module": "@jupyter-widgets/base",
          "model_module_version": "1.2.0",
          "model_name": "LayoutModel",
          "state": {
            "_model_module": "@jupyter-widgets/base",
            "_model_module_version": "1.2.0",
            "_model_name": "LayoutModel",
            "_view_count": null,
            "_view_module": "@jupyter-widgets/base",
            "_view_module_version": "1.2.0",
            "_view_name": "LayoutView",
            "align_content": null,
            "align_items": null,
            "align_self": null,
            "border": null,
            "bottom": null,
            "display": null,
            "flex": null,
            "flex_flow": null,
            "grid_area": null,
            "grid_auto_columns": null,
            "grid_auto_flow": null,
            "grid_auto_rows": null,
            "grid_column": null,
            "grid_gap": null,
            "grid_row": null,
            "grid_template_areas": null,
            "grid_template_columns": null,
            "grid_template_rows": null,
            "height": null,
            "justify_content": null,
            "justify_items": null,
            "left": null,
            "margin": null,
            "max_height": null,
            "max_width": null,
            "min_height": null,
            "min_width": null,
            "object_fit": null,
            "object_position": null,
            "order": null,
            "overflow": null,
            "overflow_x": null,
            "overflow_y": null,
            "padding": null,
            "right": null,
            "top": null,
            "visibility": null,
            "width": null
          }
        },
        "a20fc5ab36f949b889610bbe7ca7967b": {
          "model_module": "@jupyter-widgets/controls",
          "model_module_version": "1.5.0",
          "model_name": "ProgressStyleModel",
          "state": {
            "_model_module": "@jupyter-widgets/controls",
            "_model_module_version": "1.5.0",
            "_model_name": "ProgressStyleModel",
            "_view_count": null,
            "_view_module": "@jupyter-widgets/base",
            "_view_module_version": "1.2.0",
            "_view_name": "StyleView",
            "bar_color": null,
            "description_width": ""
          }
        },
        "a3ba9684403b4aca8c0f3dd6fc380c0b": {
          "model_module": "@jupyter-widgets/base",
          "model_module_version": "1.2.0",
          "model_name": "LayoutModel",
          "state": {
            "_model_module": "@jupyter-widgets/base",
            "_model_module_version": "1.2.0",
            "_model_name": "LayoutModel",
            "_view_count": null,
            "_view_module": "@jupyter-widgets/base",
            "_view_module_version": "1.2.0",
            "_view_name": "LayoutView",
            "align_content": null,
            "align_items": null,
            "align_self": null,
            "border": null,
            "bottom": null,
            "display": null,
            "flex": null,
            "flex_flow": null,
            "grid_area": null,
            "grid_auto_columns": null,
            "grid_auto_flow": null,
            "grid_auto_rows": null,
            "grid_column": null,
            "grid_gap": null,
            "grid_row": null,
            "grid_template_areas": null,
            "grid_template_columns": null,
            "grid_template_rows": null,
            "height": null,
            "justify_content": null,
            "justify_items": null,
            "left": null,
            "margin": null,
            "max_height": null,
            "max_width": null,
            "min_height": null,
            "min_width": null,
            "object_fit": null,
            "object_position": null,
            "order": null,
            "overflow": null,
            "overflow_x": null,
            "overflow_y": null,
            "padding": null,
            "right": null,
            "top": null,
            "visibility": null,
            "width": null
          }
        },
        "a3c123738c9948c29dc21359cf027248": {
          "model_module": "@jupyter-widgets/controls",
          "model_module_version": "1.5.0",
          "model_name": "DescriptionStyleModel",
          "state": {
            "_model_module": "@jupyter-widgets/controls",
            "_model_module_version": "1.5.0",
            "_model_name": "DescriptionStyleModel",
            "_view_count": null,
            "_view_module": "@jupyter-widgets/base",
            "_view_module_version": "1.2.0",
            "_view_name": "StyleView",
            "description_width": ""
          }
        },
        "a6517b54388b48b498990a42fe477baa": {
          "model_module": "@jupyter-widgets/controls",
          "model_module_version": "1.5.0",
          "model_name": "HBoxModel",
          "state": {
            "_dom_classes": [],
            "_model_module": "@jupyter-widgets/controls",
            "_model_module_version": "1.5.0",
            "_model_name": "HBoxModel",
            "_view_count": null,
            "_view_module": "@jupyter-widgets/controls",
            "_view_module_version": "1.5.0",
            "_view_name": "HBoxView",
            "box_style": "",
            "children": [
              "IPY_MODEL_25f7e90aada247e8b6466caf2ab17cc3",
              "IPY_MODEL_7ae33b1915944e04a958f559b4cdc021",
              "IPY_MODEL_800f5b7aad3340c3945202265dd1a833"
            ],
            "layout": "IPY_MODEL_6910f00debcc4c85bf86ab011c06456e"
          }
        },
        "a722d5a3ae7844399439a4fec19027a1": {
          "model_module": "@jupyter-widgets/controls",
          "model_module_version": "1.5.0",
          "model_name": "HTMLModel",
          "state": {
            "_dom_classes": [],
            "_model_module": "@jupyter-widgets/controls",
            "_model_module_version": "1.5.0",
            "_model_name": "HTMLModel",
            "_view_count": null,
            "_view_module": "@jupyter-widgets/controls",
            "_view_module_version": "1.5.0",
            "_view_name": "HTMLView",
            "description": "",
            "description_tooltip": null,
            "layout": "IPY_MODEL_ad0df982b2f046c89288917cf41062fa",
            "placeholder": "​",
            "style": "IPY_MODEL_5e517e3e9495473cb014030787d27162",
            "value": "README.md: 100%"
          }
        },
        "a82dd368ebe64aa7ba749caac01dfea8": {
          "model_module": "@jupyter-widgets/controls",
          "model_module_version": "1.5.0",
          "model_name": "DescriptionStyleModel",
          "state": {
            "_model_module": "@jupyter-widgets/controls",
            "_model_module_version": "1.5.0",
            "_model_name": "DescriptionStyleModel",
            "_view_count": null,
            "_view_module": "@jupyter-widgets/base",
            "_view_module_version": "1.2.0",
            "_view_name": "StyleView",
            "description_width": ""
          }
        },
        "a886204faf0e45f395424b1f33856520": {
          "model_module": "@jupyter-widgets/controls",
          "model_module_version": "1.5.0",
          "model_name": "FloatProgressModel",
          "state": {
            "_dom_classes": [],
            "_model_module": "@jupyter-widgets/controls",
            "_model_module_version": "1.5.0",
            "_model_name": "FloatProgressModel",
            "_view_count": null,
            "_view_module": "@jupyter-widgets/controls",
            "_view_module_version": "1.5.0",
            "_view_name": "ProgressView",
            "bar_style": "success",
            "description": "",
            "description_tooltip": null,
            "layout": "IPY_MODEL_0aa3829b6a87432b983d095cb2694295",
            "max": 113,
            "min": 0,
            "orientation": "horizontal",
            "style": "IPY_MODEL_20111fb46ef5447ab76376f72dcace88",
            "value": 113
          }
        },
        "ab2631fc3a254fd993731083441671bc": {
          "model_module": "@jupyter-widgets/base",
          "model_module_version": "1.2.0",
          "model_name": "LayoutModel",
          "state": {
            "_model_module": "@jupyter-widgets/base",
            "_model_module_version": "1.2.0",
            "_model_name": "LayoutModel",
            "_view_count": null,
            "_view_module": "@jupyter-widgets/base",
            "_view_module_version": "1.2.0",
            "_view_name": "LayoutView",
            "align_content": null,
            "align_items": null,
            "align_self": null,
            "border": null,
            "bottom": null,
            "display": null,
            "flex": null,
            "flex_flow": null,
            "grid_area": null,
            "grid_auto_columns": null,
            "grid_auto_flow": null,
            "grid_auto_rows": null,
            "grid_column": null,
            "grid_gap": null,
            "grid_row": null,
            "grid_template_areas": null,
            "grid_template_columns": null,
            "grid_template_rows": null,
            "height": null,
            "justify_content": null,
            "justify_items": null,
            "left": null,
            "margin": null,
            "max_height": null,
            "max_width": null,
            "min_height": null,
            "min_width": null,
            "object_fit": null,
            "object_position": null,
            "order": null,
            "overflow": null,
            "overflow_x": null,
            "overflow_y": null,
            "padding": null,
            "right": null,
            "top": null,
            "visibility": null,
            "width": null
          }
        },
        "ad0df982b2f046c89288917cf41062fa": {
          "model_module": "@jupyter-widgets/base",
          "model_module_version": "1.2.0",
          "model_name": "LayoutModel",
          "state": {
            "_model_module": "@jupyter-widgets/base",
            "_model_module_version": "1.2.0",
            "_model_name": "LayoutModel",
            "_view_count": null,
            "_view_module": "@jupyter-widgets/base",
            "_view_module_version": "1.2.0",
            "_view_name": "LayoutView",
            "align_content": null,
            "align_items": null,
            "align_self": null,
            "border": null,
            "bottom": null,
            "display": null,
            "flex": null,
            "flex_flow": null,
            "grid_area": null,
            "grid_auto_columns": null,
            "grid_auto_flow": null,
            "grid_auto_rows": null,
            "grid_column": null,
            "grid_gap": null,
            "grid_row": null,
            "grid_template_areas": null,
            "grid_template_columns": null,
            "grid_template_rows": null,
            "height": null,
            "justify_content": null,
            "justify_items": null,
            "left": null,
            "margin": null,
            "max_height": null,
            "max_width": null,
            "min_height": null,
            "min_width": null,
            "object_fit": null,
            "object_position": null,
            "order": null,
            "overflow": null,
            "overflow_x": null,
            "overflow_y": null,
            "padding": null,
            "right": null,
            "top": null,
            "visibility": null,
            "width": null
          }
        },
        "b2468f91bad54115a709de9042cfff64": {
          "model_module": "@jupyter-widgets/controls",
          "model_module_version": "1.5.0",
          "model_name": "DescriptionStyleModel",
          "state": {
            "_model_module": "@jupyter-widgets/controls",
            "_model_module_version": "1.5.0",
            "_model_name": "DescriptionStyleModel",
            "_view_count": null,
            "_view_module": "@jupyter-widgets/base",
            "_view_module_version": "1.2.0",
            "_view_name": "StyleView",
            "description_width": ""
          }
        },
        "b2add40b038a4e88ba74f61a8f023dcc": {
          "model_module": "@jupyter-widgets/controls",
          "model_module_version": "1.5.0",
          "model_name": "HBoxModel",
          "state": {
            "_dom_classes": [],
            "_model_module": "@jupyter-widgets/controls",
            "_model_module_version": "1.5.0",
            "_model_name": "HBoxModel",
            "_view_count": null,
            "_view_module": "@jupyter-widgets/controls",
            "_view_module_version": "1.5.0",
            "_view_name": "HBoxView",
            "box_style": "",
            "children": [
              "IPY_MODEL_9536d1f2174946d9a8dd5dc1b4076c8b",
              "IPY_MODEL_9261d1a82d8a4079933a550f2acc5549",
              "IPY_MODEL_1579c79f47ac497889eebac40931ee06"
            ],
            "layout": "IPY_MODEL_c7d7aeaa2d8743c2b367566d85d4809e"
          }
        },
        "b42ef295eb4b45ed8a27554e861164da": {
          "model_module": "@jupyter-widgets/base",
          "model_module_version": "1.2.0",
          "model_name": "LayoutModel",
          "state": {
            "_model_module": "@jupyter-widgets/base",
            "_model_module_version": "1.2.0",
            "_model_name": "LayoutModel",
            "_view_count": null,
            "_view_module": "@jupyter-widgets/base",
            "_view_module_version": "1.2.0",
            "_view_name": "LayoutView",
            "align_content": null,
            "align_items": null,
            "align_self": null,
            "border": null,
            "bottom": null,
            "display": null,
            "flex": null,
            "flex_flow": null,
            "grid_area": null,
            "grid_auto_columns": null,
            "grid_auto_flow": null,
            "grid_auto_rows": null,
            "grid_column": null,
            "grid_gap": null,
            "grid_row": null,
            "grid_template_areas": null,
            "grid_template_columns": null,
            "grid_template_rows": null,
            "height": null,
            "justify_content": null,
            "justify_items": null,
            "left": null,
            "margin": null,
            "max_height": null,
            "max_width": null,
            "min_height": null,
            "min_width": null,
            "object_fit": null,
            "object_position": null,
            "order": null,
            "overflow": null,
            "overflow_x": null,
            "overflow_y": null,
            "padding": null,
            "right": null,
            "top": null,
            "visibility": null,
            "width": null
          }
        },
        "bb43523fca6d4aac80c8ef89b866dae7": {
          "model_module": "@jupyter-widgets/controls",
          "model_module_version": "1.5.0",
          "model_name": "DescriptionStyleModel",
          "state": {
            "_model_module": "@jupyter-widgets/controls",
            "_model_module_version": "1.5.0",
            "_model_name": "DescriptionStyleModel",
            "_view_count": null,
            "_view_module": "@jupyter-widgets/base",
            "_view_module_version": "1.2.0",
            "_view_name": "StyleView",
            "description_width": ""
          }
        },
        "c1f9a781e9e845b7b07033198efbaa90": {
          "model_module": "@jupyter-widgets/controls",
          "model_module_version": "1.5.0",
          "model_name": "DescriptionStyleModel",
          "state": {
            "_model_module": "@jupyter-widgets/controls",
            "_model_module_version": "1.5.0",
            "_model_name": "DescriptionStyleModel",
            "_view_count": null,
            "_view_module": "@jupyter-widgets/base",
            "_view_module_version": "1.2.0",
            "_view_name": "StyleView",
            "description_width": ""
          }
        },
        "c30fea07102b4dd09f939e419551cd4e": {
          "model_module": "@jupyter-widgets/base",
          "model_module_version": "1.2.0",
          "model_name": "LayoutModel",
          "state": {
            "_model_module": "@jupyter-widgets/base",
            "_model_module_version": "1.2.0",
            "_model_name": "LayoutModel",
            "_view_count": null,
            "_view_module": "@jupyter-widgets/base",
            "_view_module_version": "1.2.0",
            "_view_name": "LayoutView",
            "align_content": null,
            "align_items": null,
            "align_self": null,
            "border": null,
            "bottom": null,
            "display": null,
            "flex": null,
            "flex_flow": null,
            "grid_area": null,
            "grid_auto_columns": null,
            "grid_auto_flow": null,
            "grid_auto_rows": null,
            "grid_column": null,
            "grid_gap": null,
            "grid_row": null,
            "grid_template_areas": null,
            "grid_template_columns": null,
            "grid_template_rows": null,
            "height": null,
            "justify_content": null,
            "justify_items": null,
            "left": null,
            "margin": null,
            "max_height": null,
            "max_width": null,
            "min_height": null,
            "min_width": null,
            "object_fit": null,
            "object_position": null,
            "order": null,
            "overflow": null,
            "overflow_x": null,
            "overflow_y": null,
            "padding": null,
            "right": null,
            "top": null,
            "visibility": null,
            "width": null
          }
        },
        "c7d7aeaa2d8743c2b367566d85d4809e": {
          "model_module": "@jupyter-widgets/base",
          "model_module_version": "1.2.0",
          "model_name": "LayoutModel",
          "state": {
            "_model_module": "@jupyter-widgets/base",
            "_model_module_version": "1.2.0",
            "_model_name": "LayoutModel",
            "_view_count": null,
            "_view_module": "@jupyter-widgets/base",
            "_view_module_version": "1.2.0",
            "_view_name": "LayoutView",
            "align_content": null,
            "align_items": null,
            "align_self": null,
            "border": null,
            "bottom": null,
            "display": null,
            "flex": null,
            "flex_flow": null,
            "grid_area": null,
            "grid_auto_columns": null,
            "grid_auto_flow": null,
            "grid_auto_rows": null,
            "grid_column": null,
            "grid_gap": null,
            "grid_row": null,
            "grid_template_areas": null,
            "grid_template_columns": null,
            "grid_template_rows": null,
            "height": null,
            "justify_content": null,
            "justify_items": null,
            "left": null,
            "margin": null,
            "max_height": null,
            "max_width": null,
            "min_height": null,
            "min_width": null,
            "object_fit": null,
            "object_position": null,
            "order": null,
            "overflow": null,
            "overflow_x": null,
            "overflow_y": null,
            "padding": null,
            "right": null,
            "top": null,
            "visibility": null,
            "width": null
          }
        },
        "cce8c85d206643a6ad3f44abd3a05a88": {
          "model_module": "@jupyter-widgets/base",
          "model_module_version": "1.2.0",
          "model_name": "LayoutModel",
          "state": {
            "_model_module": "@jupyter-widgets/base",
            "_model_module_version": "1.2.0",
            "_model_name": "LayoutModel",
            "_view_count": null,
            "_view_module": "@jupyter-widgets/base",
            "_view_module_version": "1.2.0",
            "_view_name": "LayoutView",
            "align_content": null,
            "align_items": null,
            "align_self": null,
            "border": null,
            "bottom": null,
            "display": null,
            "flex": null,
            "flex_flow": null,
            "grid_area": null,
            "grid_auto_columns": null,
            "grid_auto_flow": null,
            "grid_auto_rows": null,
            "grid_column": null,
            "grid_gap": null,
            "grid_row": null,
            "grid_template_areas": null,
            "grid_template_columns": null,
            "grid_template_rows": null,
            "height": null,
            "justify_content": null,
            "justify_items": null,
            "left": null,
            "margin": null,
            "max_height": null,
            "max_width": null,
            "min_height": null,
            "min_width": null,
            "object_fit": null,
            "object_position": null,
            "order": null,
            "overflow": null,
            "overflow_x": null,
            "overflow_y": null,
            "padding": null,
            "right": null,
            "top": null,
            "visibility": null,
            "width": null
          }
        },
        "ce1595e52e01440eaff0795c178851d2": {
          "model_module": "@jupyter-widgets/controls",
          "model_module_version": "1.5.0",
          "model_name": "HTMLModel",
          "state": {
            "_dom_classes": [],
            "_model_module": "@jupyter-widgets/controls",
            "_model_module_version": "1.5.0",
            "_model_name": "HTMLModel",
            "_view_count": null,
            "_view_module": "@jupyter-widgets/controls",
            "_view_module_version": "1.5.0",
            "_view_name": "HTMLView",
            "description": "",
            "description_tooltip": null,
            "layout": "IPY_MODEL_dfcb80760c134af7a660dcaa2f499e12",
            "placeholder": "​",
            "style": "IPY_MODEL_993e0674df874a58bbd4f7a4965bd039",
            "value": "config.json: 100%"
          }
        },
        "ceea327070e44723bc2beb7a00ba2fe1": {
          "model_module": "@jupyter-widgets/controls",
          "model_module_version": "1.5.0",
          "model_name": "LabelModel",
          "state": {
            "_dom_classes": [],
            "_model_module": "@jupyter-widgets/controls",
            "_model_module_version": "1.5.0",
            "_model_name": "LabelModel",
            "_view_count": null,
            "_view_module": "@jupyter-widgets/controls",
            "_view_module_version": "1.5.0",
            "_view_name": "LabelView",
            "description": "",
            "description_tooltip": null,
            "layout": "IPY_MODEL_6862bdc45f6343bba7d1205ae7c78c87",
            "placeholder": "​",
            "style": "IPY_MODEL_b2468f91bad54115a709de9042cfff64",
            "value": "Your token has been saved to /root/.cache/huggingface/token"
          }
        },
        "df3bf5f2eca045c78b219024dc46d2dd": {
          "model_module": "@jupyter-widgets/controls",
          "model_module_version": "1.5.0",
          "model_name": "HTMLModel",
          "state": {
            "_dom_classes": [],
            "_model_module": "@jupyter-widgets/controls",
            "_model_module_version": "1.5.0",
            "_model_name": "HTMLModel",
            "_view_count": null,
            "_view_module": "@jupyter-widgets/controls",
            "_view_module_version": "1.5.0",
            "_view_name": "HTMLView",
            "description": "",
            "description_tooltip": null,
            "layout": "IPY_MODEL_7830526ed6494a2093ef6fde2a18393c",
            "placeholder": "​",
            "style": "IPY_MODEL_bb43523fca6d4aac80c8ef89b866dae7",
            "value": " 3.16M/3.16M [00:00&lt;00:00, 9.60MB/s]"
          }
        },
        "dfcb80760c134af7a660dcaa2f499e12": {
          "model_module": "@jupyter-widgets/base",
          "model_module_version": "1.2.0",
          "model_name": "LayoutModel",
          "state": {
            "_model_module": "@jupyter-widgets/base",
            "_model_module_version": "1.2.0",
            "_model_name": "LayoutModel",
            "_view_count": null,
            "_view_module": "@jupyter-widgets/base",
            "_view_module_version": "1.2.0",
            "_view_name": "LayoutView",
            "align_content": null,
            "align_items": null,
            "align_self": null,
            "border": null,
            "bottom": null,
            "display": null,
            "flex": null,
            "flex_flow": null,
            "grid_area": null,
            "grid_auto_columns": null,
            "grid_auto_flow": null,
            "grid_auto_rows": null,
            "grid_column": null,
            "grid_gap": null,
            "grid_row": null,
            "grid_template_areas": null,
            "grid_template_columns": null,
            "grid_template_rows": null,
            "height": null,
            "justify_content": null,
            "justify_items": null,
            "left": null,
            "margin": null,
            "max_height": null,
            "max_width": null,
            "min_height": null,
            "min_width": null,
            "object_fit": null,
            "object_position": null,
            "order": null,
            "overflow": null,
            "overflow_x": null,
            "overflow_y": null,
            "padding": null,
            "right": null,
            "top": null,
            "visibility": null,
            "width": null
          }
        },
        "dffdb6c4bcfe4557837cdfbe2411cc0a": {
          "model_module": "@jupyter-widgets/controls",
          "model_module_version": "1.5.0",
          "model_name": "DescriptionStyleModel",
          "state": {
            "_model_module": "@jupyter-widgets/controls",
            "_model_module_version": "1.5.0",
            "_model_name": "DescriptionStyleModel",
            "_view_count": null,
            "_view_module": "@jupyter-widgets/base",
            "_view_module_version": "1.2.0",
            "_view_name": "StyleView",
            "description_width": ""
          }
        },
        "e0932cb53f9c4e33bd241a57b7440786": {
          "model_module": "@jupyter-widgets/controls",
          "model_module_version": "1.5.0",
          "model_name": "ProgressStyleModel",
          "state": {
            "_model_module": "@jupyter-widgets/controls",
            "_model_module_version": "1.5.0",
            "_model_name": "ProgressStyleModel",
            "_view_count": null,
            "_view_module": "@jupyter-widgets/base",
            "_view_module_version": "1.2.0",
            "_view_name": "StyleView",
            "bar_color": null,
            "description_width": ""
          }
        },
        "e7e52b0b9f3a4642bc0673acf931e261": {
          "model_module": "@jupyter-widgets/controls",
          "model_module_version": "1.5.0",
          "model_name": "FloatProgressModel",
          "state": {
            "_dom_classes": [],
            "_model_module": "@jupyter-widgets/controls",
            "_model_module_version": "1.5.0",
            "_model_name": "FloatProgressModel",
            "_view_count": null,
            "_view_module": "@jupyter-widgets/controls",
            "_view_module_version": "1.5.0",
            "_view_name": "ProgressView",
            "bar_style": "success",
            "description": "",
            "description_tooltip": null,
            "layout": "IPY_MODEL_6e0a88e9ff024095a92038da80793c37",
            "max": 3162999,
            "min": 0,
            "orientation": "horizontal",
            "style": "IPY_MODEL_a20fc5ab36f949b889610bbe7ca7967b",
            "value": 3162999
          }
        },
        "e893f1b58d19418d9d9b7620effd3c6a": {
          "model_module": "@jupyter-widgets/controls",
          "model_module_version": "1.5.0",
          "model_name": "LabelModel",
          "state": {
            "_dom_classes": [],
            "_model_module": "@jupyter-widgets/controls",
            "_model_module_version": "1.5.0",
            "_model_name": "LabelModel",
            "_view_count": null,
            "_view_module": "@jupyter-widgets/controls",
            "_view_module_version": "1.5.0",
            "_view_name": "LabelView",
            "description": "",
            "description_tooltip": null,
            "layout": "IPY_MODEL_4099a7c28d674448b32a06acc375e486",
            "placeholder": "​",
            "style": "IPY_MODEL_8b975d6670e74d9291f5429c3f845069",
            "value": "Token is valid (permission: write)."
          }
        },
        "e9b4a715656949299bd38f8dc0b7272f": {
          "model_module": "@jupyter-widgets/controls",
          "model_module_version": "1.5.0",
          "model_name": "HBoxModel",
          "state": {
            "_dom_classes": [],
            "_model_module": "@jupyter-widgets/controls",
            "_model_module_version": "1.5.0",
            "_model_name": "HBoxModel",
            "_view_count": null,
            "_view_module": "@jupyter-widgets/controls",
            "_view_module_version": "1.5.0",
            "_view_name": "HBoxView",
            "box_style": "",
            "children": [
              "IPY_MODEL_7eea640d90604ff5add4c5fd6a94c160",
              "IPY_MODEL_a886204faf0e45f395424b1f33856520",
              "IPY_MODEL_0cb68913aab84cf7b015435ee9c65800"
            ],
            "layout": "IPY_MODEL_ab2631fc3a254fd993731083441671bc"
          }
        },
        "ef38b92d1a124e5baf3284646bfd65b3": {
          "model_module": "@jupyter-widgets/base",
          "model_module_version": "1.2.0",
          "model_name": "LayoutModel",
          "state": {
            "_model_module": "@jupyter-widgets/base",
            "_model_module_version": "1.2.0",
            "_model_name": "LayoutModel",
            "_view_count": null,
            "_view_module": "@jupyter-widgets/base",
            "_view_module_version": "1.2.0",
            "_view_name": "LayoutView",
            "align_content": null,
            "align_items": null,
            "align_self": null,
            "border": null,
            "bottom": null,
            "display": null,
            "flex": null,
            "flex_flow": null,
            "grid_area": null,
            "grid_auto_columns": null,
            "grid_auto_flow": null,
            "grid_auto_rows": null,
            "grid_column": null,
            "grid_gap": null,
            "grid_row": null,
            "grid_template_areas": null,
            "grid_template_columns": null,
            "grid_template_rows": null,
            "height": null,
            "justify_content": null,
            "justify_items": null,
            "left": null,
            "margin": null,
            "max_height": null,
            "max_width": null,
            "min_height": null,
            "min_width": null,
            "object_fit": null,
            "object_position": null,
            "order": null,
            "overflow": null,
            "overflow_x": null,
            "overflow_y": null,
            "padding": null,
            "right": null,
            "top": null,
            "visibility": null,
            "width": null
          }
        },
        "f1076b6af4ec4070b01a3f608f7bc484": {
          "model_module": "@jupyter-widgets/base",
          "model_module_version": "1.2.0",
          "model_name": "LayoutModel",
          "state": {
            "_model_module": "@jupyter-widgets/base",
            "_model_module_version": "1.2.0",
            "_model_name": "LayoutModel",
            "_view_count": null,
            "_view_module": "@jupyter-widgets/base",
            "_view_module_version": "1.2.0",
            "_view_name": "LayoutView",
            "align_content": null,
            "align_items": null,
            "align_self": null,
            "border": null,
            "bottom": null,
            "display": null,
            "flex": null,
            "flex_flow": null,
            "grid_area": null,
            "grid_auto_columns": null,
            "grid_auto_flow": null,
            "grid_auto_rows": null,
            "grid_column": null,
            "grid_gap": null,
            "grid_row": null,
            "grid_template_areas": null,
            "grid_template_columns": null,
            "grid_template_rows": null,
            "height": null,
            "justify_content": null,
            "justify_items": null,
            "left": null,
            "margin": null,
            "max_height": null,
            "max_width": null,
            "min_height": null,
            "min_width": null,
            "object_fit": null,
            "object_position": null,
            "order": null,
            "overflow": null,
            "overflow_x": null,
            "overflow_y": null,
            "padding": null,
            "right": null,
            "top": null,
            "visibility": null,
            "width": null
          }
        },
        "f19ce00de84244edb33aa0b3fb600b7c": {
          "model_module": "@jupyter-widgets/controls",
          "model_module_version": "1.5.0",
          "model_name": "FloatProgressModel",
          "state": {
            "_dom_classes": [],
            "_model_module": "@jupyter-widgets/controls",
            "_model_module_version": "1.5.0",
            "_model_name": "FloatProgressModel",
            "_view_count": null,
            "_view_module": "@jupyter-widgets/controls",
            "_view_module_version": "1.5.0",
            "_view_name": "ProgressView",
            "bar_style": "success",
            "description": "",
            "description_tooltip": null,
            "layout": "IPY_MODEL_35ede8a7379340b1baacfa9259feae60",
            "max": 2476,
            "min": 0,
            "orientation": "horizontal",
            "style": "IPY_MODEL_83b676f96ddb4eacbc80b619a62fea06",
            "value": 2476
          }
        },
        "f555123a59ee4fb2abc08934cfa5b2e0": {
          "model_module": "@jupyter-widgets/controls",
          "model_module_version": "1.5.0",
          "model_name": "HTMLModel",
          "state": {
            "_dom_classes": [],
            "_model_module": "@jupyter-widgets/controls",
            "_model_module_version": "1.5.0",
            "_model_name": "HTMLModel",
            "_view_count": null,
            "_view_module": "@jupyter-widgets/controls",
            "_view_module_version": "1.5.0",
            "_view_name": "HTMLView",
            "description": "",
            "description_tooltip": null,
            "layout": "IPY_MODEL_68b6cb4ca6ef48228748a5486229ce89",
            "placeholder": "​",
            "style": "IPY_MODEL_c1f9a781e9e845b7b07033198efbaa90",
            "value": "pytorch_model.bin: 100%"
          }
        },
        "fb79d5f805884deb8b31859e7965fe44": {
          "model_module": "@jupyter-widgets/controls",
          "model_module_version": "1.5.0",
          "model_name": "DescriptionStyleModel",
          "state": {
            "_model_module": "@jupyter-widgets/controls",
            "_model_module_version": "1.5.0",
            "_model_name": "DescriptionStyleModel",
            "_view_count": null,
            "_view_module": "@jupyter-widgets/base",
            "_view_module_version": "1.2.0",
            "_view_name": "StyleView",
            "description_width": ""
          }
        },
        "ff1ddf93e9c64064ba6478c843e0fa1d": {
          "model_module": "@jupyter-widgets/controls",
          "model_module_version": "1.5.0",
          "model_name": "DescriptionStyleModel",
          "state": {
            "_model_module": "@jupyter-widgets/controls",
            "_model_module_version": "1.5.0",
            "_model_name": "DescriptionStyleModel",
            "_view_count": null,
            "_view_module": "@jupyter-widgets/base",
            "_view_module_version": "1.2.0",
            "_view_name": "StyleView",
            "description_width": ""
          }
        }
      }
    }
  },
  "nbformat": 4,
  "nbformat_minor": 0
}