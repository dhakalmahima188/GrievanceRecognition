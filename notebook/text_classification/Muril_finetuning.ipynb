{
  "cells": [
    {
      "cell_type": "code",
      "execution_count": 1,
      "metadata": {
        "id": "ucT_sW0OW8kc",
        "colab": {
          "base_uri": "https://localhost:8080/"
        },
        "outputId": "c075d0bb-b91d-4752-9e53-5783f0943d0a"
      },
      "outputs": [
        {
          "output_type": "stream",
          "name": "stdout",
          "text": [
            "\u001b[2K     \u001b[90m━━━━━━━━━━━━━━━━━━━━━━━━━━━━━━━━━━━━━━━━\u001b[0m \u001b[32m510.5/510.5 kB\u001b[0m \u001b[31m10.6 MB/s\u001b[0m eta \u001b[36m0:00:00\u001b[0m\n",
            "\u001b[2K     \u001b[90m━━━━━━━━━━━━━━━━━━━━━━━━━━━━━━━━━━━━━━━━\u001b[0m \u001b[32m116.3/116.3 kB\u001b[0m \u001b[31m15.2 MB/s\u001b[0m eta \u001b[36m0:00:00\u001b[0m\n",
            "\u001b[2K     \u001b[90m━━━━━━━━━━━━━━━━━━━━━━━━━━━━━━━━━━━━━━━━\u001b[0m \u001b[32m134.8/134.8 kB\u001b[0m \u001b[31m16.8 MB/s\u001b[0m eta \u001b[36m0:00:00\u001b[0m\n",
            "\u001b[?25h"
          ]
        }
      ],
      "source": [
        "!pip install -q torch transformers huggingface_hub datasets"
      ]
    },
    {
      "cell_type": "code",
      "source": [
        "!pip install -q transformers[torch]"
      ],
      "metadata": {
        "colab": {
          "base_uri": "https://localhost:8080/"
        },
        "id": "UWS5SxC6iJfD",
        "outputId": "8af53f0e-72cc-4870-9a7a-b392e788942f"
      },
      "execution_count": 2,
      "outputs": [
        {
          "output_type": "stream",
          "name": "stdout",
          "text": [
            "\u001b[?25l     \u001b[90m━━━━━━━━━━━━━━━━━━━━━━━━━━━━━━━━━━━━━━━━\u001b[0m \u001b[32m0.0/280.0 kB\u001b[0m \u001b[31m?\u001b[0m eta \u001b[36m-:--:--\u001b[0m\r\u001b[2K     \u001b[91m━━━━━━━━━━━━━━━━━━━━━━━━━━━━━━━━━━━━━━━\u001b[0m\u001b[90m╺\u001b[0m \u001b[32m276.5/280.0 kB\u001b[0m \u001b[31m8.2 MB/s\u001b[0m eta \u001b[36m0:00:01\u001b[0m\r\u001b[2K     \u001b[90m━━━━━━━━━━━━━━━━━━━━━━━━━━━━━━━━━━━━━━━━\u001b[0m \u001b[32m280.0/280.0 kB\u001b[0m \u001b[31m6.3 MB/s\u001b[0m eta \u001b[36m0:00:00\u001b[0m\n",
            "\u001b[?25h"
          ]
        }
      ]
    },
    {
      "cell_type": "code",
      "execution_count": 3,
      "metadata": {
        "colab": {
          "base_uri": "https://localhost:8080/"
        },
        "id": "NJQSusBywP3a",
        "outputId": "e80458a3-0b7b-4c74-b851-76e54281d4cf"
      },
      "outputs": [
        {
          "output_type": "stream",
          "name": "stdout",
          "text": [
            "Mounted at /content/drive\n"
          ]
        }
      ],
      "source": [
        "from google.colab import drive\n",
        "drive.mount('/content/drive')"
      ]
    },
    {
      "cell_type": "code",
      "source": [
        "# from getpass import getpass\n",
        "# api_token = getpass(\"Enter your Hugging Face API token: \")\n"
      ],
      "metadata": {
        "colab": {
          "base_uri": "https://localhost:8080/"
        },
        "id": "WqyQJGO3F6v5",
        "outputId": "e0426304-7c53-4698-fa71-49c5be22add3"
      },
      "execution_count": null,
      "outputs": [
        {
          "name": "stdout",
          "output_type": "stream",
          "text": [
            "Enter your Hugging Face API token: ··········\n"
          ]
        }
      ]
    },
    {
      "cell_type": "code",
      "source": [
        "# import os\n",
        "# os.environ[\"HF_HOME\"] = os.path.expanduser(\"https://huggingface.co/nadika/nepali_complaints_classification\")\n",
        "# os.environ[\"HF_HOME\"] = api_token\n"
      ],
      "metadata": {
        "id": "vyuLAuB9FKdR"
      },
      "execution_count": null,
      "outputs": []
    },
    {
      "cell_type": "code",
      "execution_count": 4,
      "metadata": {
        "colab": {
          "base_uri": "https://localhost:8080/",
          "height": 160,
          "referenced_widgets": [
            "9f20e5e349a543819da75bcf840b2831",
            "34fe0f2db532441f929d7bf494f38e8e",
            "a5d04a07993d4efe987d877a5a91e831",
            "9559e702704a4d28a79cb20b8ca3f954",
            "b13f8ddcf6a343e983b3f974ce916725",
            "fa58ce1e1b35404dae57e36798a1a8b3",
            "f33b7825142b46039e20cc9d18f9d208",
            "826a9df9ddf04ba9bc8d3e2099ffa4bc",
            "a2e8a919cdcc4528855d119017827317",
            "2521f99718854184953d65df950b8741",
            "5c26f7faa4a34dd9aaf44fdb1fdaaff5",
            "f7ace2412db0401391d5e7a1f4072624",
            "d5036546bcde4fd887c3cc21b71682e2",
            "28d8e0802a7d4966986bb3af6faad2f9",
            "ad70a1afc83e4b5ca7e76633841be195",
            "175d94c4916249f4a35d3723ba67e1a0",
            "be321c06b97b458e832d049394b58613",
            "a85f59d21f514b80be2fefa5d785d8cc",
            "c5be0acb41834fb69c3bfc8864b0d807",
            "71a84ed7c5b646c68e09d2e1831b24ba",
            "eecc6000e60e4a31a91b29a3c73a80a8",
            "c1ae4676444e4d719cd6b639d2ccd78d",
            "74933a70d0824e8e81aa6b02b983dd51",
            "18ac5ab026324b458bdcdc7e5a710513",
            "2fec7e1360b54893a08a734032d9dc41",
            "40a3103205ef408c9d5c3350a9e1a10b",
            "ead0e245cdb44c35b6c8311d0a504489",
            "663f5b79e677456c89baef98e2f71228",
            "54b09c2ca2954f0ea34b3cfd2b566e95",
            "798d9bb5df3d4f5687baf9f21c78ea91",
            "15075668c9a044d1a57993bfa3378a85",
            "f4a0dc091c094de087be79eec1579928"
          ]
        },
        "id": "H_MWS0YpwnlM",
        "outputId": "517e5758-7075-4d07-b37c-924cda293a42"
      },
      "outputs": [
        {
          "output_type": "display_data",
          "data": {
            "text/plain": [
              "VBox(children=(HTML(value='<center> <img\\nsrc=https://huggingface.co/front/assets/huggingface_logo-noborder.sv…"
            ],
            "application/vnd.jupyter.widget-view+json": {
              "version_major": 2,
              "version_minor": 0,
              "model_id": "9f20e5e349a543819da75bcf840b2831"
            }
          },
          "metadata": {}
        }
      ],
      "source": [
        "from huggingface_hub import notebook_login\n",
        "\n",
        "notebook_login()"
      ]
    },
    {
      "cell_type": "code",
      "execution_count": 5,
      "metadata": {
        "id": "PzhwmQKWw6Mk"
      },
      "outputs": [],
      "source": [
        "from transformers import AutoModelForSequenceClassification, AutoTokenizer,TrainingArguments,Trainer"
      ]
    },
    {
      "cell_type": "code",
      "execution_count": 6,
      "metadata": {
        "id": "Go9kgqcixDEN"
      },
      "outputs": [],
      "source": [
        "import torch\n",
        "from torch.utils.data import Dataset,DataLoader\n",
        "from sklearn.model_selection import train_test_split\n",
        "import pandas as pd\n",
        "import nltk\n",
        "from nltk.corpus import stopwords\n",
        "from nltk.tokenize import word_tokenize\n",
        "import re\n",
        "from sklearn.preprocessing import LabelEncoder\n",
        "import numpy as np\n",
        "from datasets import load_dataset,DatasetDict\n",
        "from huggingface_hub import Repository"
      ]
    },
    {
      "cell_type": "code",
      "execution_count": 8,
      "metadata": {
        "colab": {
          "base_uri": "https://localhost:8080/",
          "height": 266,
          "referenced_widgets": [
            "c146fe1571114972a9d1254627fbf883",
            "9e5048c9c9964732b5630d5c9af7eda0",
            "c551be63a5f84fb6b0fd682540adee3d",
            "dfd34d1e48bd4f1fb8837678783a96dc",
            "f4413e9b40f24120992773b1202e2701",
            "6aeef39eeee0497e8fbf34d00f407557",
            "1da50f355f4a4e63bbcbde72d124decc",
            "8339fb2bb74c45cca2f95aa44920e503",
            "d4fc6eca52d843d3a3f8e6c502a6406e",
            "4b2ae108071e494591e098ff6eaed5d3",
            "9e39e6b6ed544c66828db6774d2f58b1",
            "bfec700477e34201bc7f39718e194052",
            "5e3e48648a874566a5165716f947a007",
            "52a025eab8914f569b700b8e9fda5f18",
            "e3663606695f42d3a4e8000f97e7d182",
            "5f1cf0c650b54d93a416c7416b6e4c62",
            "3821259a525043aeb80715e28d6f0929",
            "d31db1d5e20546fbbd67c74ed2c2f805",
            "21fac556310c4364a9d1b395fff6f441",
            "ba8836ae20824f57b3d06b14c2215ab2",
            "7a37bd019484492c87a43d0b6181479b",
            "14f692fc6ac04a03a060c455317086bf",
            "7137b978b3324df0900762ed1d57f0e4",
            "cd86016bb851448ba84236359039afc9",
            "f6277573cf774775838956077e2b9418",
            "e68335feb8024e2491eba0e3434d8add",
            "6c47bad4fbbf48e09c93b70fce3b77d7",
            "8ce737992af844798b7a6eefc8ad1ef7",
            "b7e0f93b8cd44c6bab1eb9e0924c2ea9",
            "9a629bb60b9d41598098a3eff25bac7b",
            "d63deb9a03b94a4788c977d10be3916f",
            "f2b6e7c1cbf547c19a986648350451ab",
            "92a223e1b2484a92af5657ddca75e6eb",
            "05b2336c37c4430599ff8548dd01cd98",
            "6a4e4e1b16334797a47a174da8202fba",
            "0a986a6a98e144f4b6997f01e4db3af7",
            "4c98edb14cf84629845c79e2c02aec72",
            "4ed78e69130b453799737d8fda5fb652",
            "a821417ca9ea44a3a80072f9142729fb",
            "bcbf77cca14544a4a532cc1f553af214",
            "46a1af972c944607907089ed8cf646d2",
            "99c6433f7ea34d709d4b0eefa8ac3bdb",
            "1ca24f9bf1fe4fbe83dec6c23fc8527f",
            "d74ae99604ea451eb0dc4f2748678130",
            "21e793036d8f4b23826c1fee6e0e20a4",
            "1e6f65ec39bb4c988b061ed18177d156",
            "546c03564bdd42ecb9001acf3623c0d1",
            "0c09106dd181483ab51d205973325e28",
            "b192957629894d87a79d12e96d9996d7",
            "0493a8fd7fb8482e986282b9958c9538",
            "90745a2eb52c425b8b1eabfb9b283fb5",
            "0325e9e4b167486fa4cfd0631cef13d9",
            "8f456708eb3b4e3a8f10b2bb30db041f",
            "a669e420a1c5489eb5e11a1927389376",
            "35ab375dcd0e4aedaf4b1590f708f19e"
          ]
        },
        "id": "UFv8DtDqxGC8",
        "outputId": "8952d438-e79c-4670-8d86-4ed43b27ca3e"
      },
      "outputs": [
        {
          "output_type": "display_data",
          "data": {
            "text/plain": [
              "tokenizer_config.json:   0%|          | 0.00/206 [00:00<?, ?B/s]"
            ],
            "application/vnd.jupyter.widget-view+json": {
              "version_major": 2,
              "version_minor": 0,
              "model_id": "c146fe1571114972a9d1254627fbf883"
            }
          },
          "metadata": {}
        },
        {
          "output_type": "display_data",
          "data": {
            "text/plain": [
              "config.json:   0%|          | 0.00/411 [00:00<?, ?B/s]"
            ],
            "application/vnd.jupyter.widget-view+json": {
              "version_major": 2,
              "version_minor": 0,
              "model_id": "bfec700477e34201bc7f39718e194052"
            }
          },
          "metadata": {}
        },
        {
          "output_type": "display_data",
          "data": {
            "text/plain": [
              "vocab.txt:   0%|          | 0.00/3.16M [00:00<?, ?B/s]"
            ],
            "application/vnd.jupyter.widget-view+json": {
              "version_major": 2,
              "version_minor": 0,
              "model_id": "7137b978b3324df0900762ed1d57f0e4"
            }
          },
          "metadata": {}
        },
        {
          "output_type": "display_data",
          "data": {
            "text/plain": [
              "special_tokens_map.json:   0%|          | 0.00/113 [00:00<?, ?B/s]"
            ],
            "application/vnd.jupyter.widget-view+json": {
              "version_major": 2,
              "version_minor": 0,
              "model_id": "05b2336c37c4430599ff8548dd01cd98"
            }
          },
          "metadata": {}
        },
        {
          "output_type": "display_data",
          "data": {
            "text/plain": [
              "pytorch_model.bin:   0%|          | 0.00/953M [00:00<?, ?B/s]"
            ],
            "application/vnd.jupyter.widget-view+json": {
              "version_major": 2,
              "version_minor": 0,
              "model_id": "21e793036d8f4b23826c1fee6e0e20a4"
            }
          },
          "metadata": {}
        },
        {
          "output_type": "stream",
          "name": "stderr",
          "text": [
            "/usr/local/lib/python3.10/dist-packages/torch/_utils.py:831: UserWarning: TypedStorage is deprecated. It will be removed in the future and UntypedStorage will be the only storage class. This should only matter to you if you are using storages directly.  To access UntypedStorage directly, use tensor.untyped_storage() instead of tensor.storage()\n",
            "  return self.fget.__get__(instance, owner)()\n",
            "Some weights of BertForSequenceClassification were not initialized from the model checkpoint at google/muril-base-cased and are newly initialized: ['classifier.bias', 'classifier.weight']\n",
            "You should probably TRAIN this model on a down-stream task to be able to use it for predictions and inference.\n"
          ]
        }
      ],
      "source": [
        "tokenizer=AutoTokenizer.from_pretrained('google/muril-base-cased')\n",
        "model=AutoModelForSequenceClassification.from_pretrained('google/muril-base-cased')"
      ]
    },
    {
      "cell_type": "code",
      "execution_count": 9,
      "metadata": {
        "id": "K36qOPQbxJ7M"
      },
      "outputs": [],
      "source": [
        "dataset_file_path='/content/drive/MyDrive/major/cleaned_data_final.xlsx'"
      ]
    },
    {
      "cell_type": "code",
      "execution_count": 10,
      "metadata": {
        "colab": {
          "base_uri": "https://localhost:8080/"
        },
        "id": "6T8DngKXxN0i",
        "outputId": "86d6e687-86f7-4eb8-c02c-9bd19be5c2d9"
      },
      "outputs": [
        {
          "output_type": "stream",
          "name": "stderr",
          "text": [
            "[nltk_data] Downloading package stopwords to /root/nltk_data...\n",
            "[nltk_data]   Unzipping corpora/stopwords.zip.\n",
            "[nltk_data] Downloading package punkt to /root/nltk_data...\n",
            "[nltk_data]   Unzipping tokenizers/punkt.zip.\n"
          ]
        },
        {
          "output_type": "execute_result",
          "data": {
            "text/plain": [
              "True"
            ]
          },
          "metadata": {},
          "execution_count": 10
        }
      ],
      "source": [
        "nltk.download('stopwords')\n",
        "nltk.download('punkt')"
      ]
    },
    {
      "cell_type": "code",
      "execution_count": 11,
      "metadata": {
        "id": "bPR_ViquxPlO"
      },
      "outputs": [],
      "source": [
        "df = pd.read_excel(dataset_file_path)"
      ]
    },
    {
      "cell_type": "code",
      "execution_count": 12,
      "metadata": {
        "colab": {
          "base_uri": "https://localhost:8080/"
        },
        "id": "2FrQV_XkxSZE",
        "outputId": "ca00a26d-0426-497f-8043-3502d9f4bd22"
      },
      "outputs": [
        {
          "output_type": "execute_result",
          "data": {
            "text/plain": [
              "array(['अर्थ सबन्धी', 'अर्थिक अनियमितता तथा भ्रष्टाचार सम्बन्धी',\n",
              "       'कर्मचारी सम्वन्धी', 'खानेपानी', 'निर्माण कार्य सम्बन्धी',\n",
              "       'पार्किङ्ग तथा मेट्रो पुलिस', 'प्राकृतिक श्रोत/साधन सम्बन्धी',\n",
              "       'फोहोरमैला व्यवस्थापन', 'लागु पदार्थ सम्बन्धी',\n",
              "       'वेबसाइट तथा अभिलेख व्यवस्थापन सम्बन्धी', 'शान्ति सुरक्षा',\n",
              "       'सूचना तथा संचार', 'सोधपुछ, सुझाव, प्रशंसा सम्बन्धी',\n",
              "       'स्वास्थ्यसँग सम्बन्धी'], dtype=object)"
            ]
          },
          "metadata": {},
          "execution_count": 12
        }
      ],
      "source": [
        "df['गुनासो वर्ग'].unique()"
      ]
    },
    {
      "cell_type": "code",
      "execution_count": 13,
      "metadata": {
        "colab": {
          "base_uri": "https://localhost:8080/",
          "height": 206
        },
        "id": "igI3DP3dxUSW",
        "outputId": "5593d34f-5716-449d-af63-5ae299de0896"
      },
      "outputs": [
        {
          "output_type": "execute_result",
          "data": {
            "text/plain": [
              "   गुनासो वर्ग                                             गुनासो\n",
              "0  अर्थ सबन्धी  मीनभवन र तिनकुनेको बीचमा रहेको एलजी शोरुम माथि...\n",
              "1  अर्थ सबन्धी                        - भ्याट बिल जारी गरिएको छैन\n",
              "2  अर्थ सबन्धी  . जानकारी - अनुरोध\\nकुनै पनि मानिसको जागिर अवध...\n",
              "3  अर्थ सबन्धी  एटीएम कार्ड हराएको लगभग २ वर्ष जति भइसकेको छ न...\n",
              "4  अर्थ सबन्धी  वास्तवमा, यो उल्लिखित समस्या स्टक एक्सचेन्जसँग..."
            ],
            "text/html": [
              "\n",
              "  <div id=\"df-46f05b11-640c-4cbe-8fee-a613bdceb85d\" class=\"colab-df-container\">\n",
              "    <div>\n",
              "<style scoped>\n",
              "    .dataframe tbody tr th:only-of-type {\n",
              "        vertical-align: middle;\n",
              "    }\n",
              "\n",
              "    .dataframe tbody tr th {\n",
              "        vertical-align: top;\n",
              "    }\n",
              "\n",
              "    .dataframe thead th {\n",
              "        text-align: right;\n",
              "    }\n",
              "</style>\n",
              "<table border=\"1\" class=\"dataframe\">\n",
              "  <thead>\n",
              "    <tr style=\"text-align: right;\">\n",
              "      <th></th>\n",
              "      <th>गुनासो वर्ग</th>\n",
              "      <th>गुनासो</th>\n",
              "    </tr>\n",
              "  </thead>\n",
              "  <tbody>\n",
              "    <tr>\n",
              "      <th>0</th>\n",
              "      <td>अर्थ सबन्धी</td>\n",
              "      <td>मीनभवन र तिनकुनेको बीचमा रहेको एलजी शोरुम माथि...</td>\n",
              "    </tr>\n",
              "    <tr>\n",
              "      <th>1</th>\n",
              "      <td>अर्थ सबन्धी</td>\n",
              "      <td>- भ्याट बिल जारी गरिएको छैन</td>\n",
              "    </tr>\n",
              "    <tr>\n",
              "      <th>2</th>\n",
              "      <td>अर्थ सबन्धी</td>\n",
              "      <td>. जानकारी - अनुरोध\\nकुनै पनि मानिसको जागिर अवध...</td>\n",
              "    </tr>\n",
              "    <tr>\n",
              "      <th>3</th>\n",
              "      <td>अर्थ सबन्धी</td>\n",
              "      <td>एटीएम कार्ड हराएको लगभग २ वर्ष जति भइसकेको छ न...</td>\n",
              "    </tr>\n",
              "    <tr>\n",
              "      <th>4</th>\n",
              "      <td>अर्थ सबन्धी</td>\n",
              "      <td>वास्तवमा, यो उल्लिखित समस्या स्टक एक्सचेन्जसँग...</td>\n",
              "    </tr>\n",
              "  </tbody>\n",
              "</table>\n",
              "</div>\n",
              "    <div class=\"colab-df-buttons\">\n",
              "\n",
              "  <div class=\"colab-df-container\">\n",
              "    <button class=\"colab-df-convert\" onclick=\"convertToInteractive('df-46f05b11-640c-4cbe-8fee-a613bdceb85d')\"\n",
              "            title=\"Convert this dataframe to an interactive table.\"\n",
              "            style=\"display:none;\">\n",
              "\n",
              "  <svg xmlns=\"http://www.w3.org/2000/svg\" height=\"24px\" viewBox=\"0 -960 960 960\">\n",
              "    <path d=\"M120-120v-720h720v720H120Zm60-500h600v-160H180v160Zm220 220h160v-160H400v160Zm0 220h160v-160H400v160ZM180-400h160v-160H180v160Zm440 0h160v-160H620v160ZM180-180h160v-160H180v160Zm440 0h160v-160H620v160Z\"/>\n",
              "  </svg>\n",
              "    </button>\n",
              "\n",
              "  <style>\n",
              "    .colab-df-container {\n",
              "      display:flex;\n",
              "      gap: 12px;\n",
              "    }\n",
              "\n",
              "    .colab-df-convert {\n",
              "      background-color: #E8F0FE;\n",
              "      border: none;\n",
              "      border-radius: 50%;\n",
              "      cursor: pointer;\n",
              "      display: none;\n",
              "      fill: #1967D2;\n",
              "      height: 32px;\n",
              "      padding: 0 0 0 0;\n",
              "      width: 32px;\n",
              "    }\n",
              "\n",
              "    .colab-df-convert:hover {\n",
              "      background-color: #E2EBFA;\n",
              "      box-shadow: 0px 1px 2px rgba(60, 64, 67, 0.3), 0px 1px 3px 1px rgba(60, 64, 67, 0.15);\n",
              "      fill: #174EA6;\n",
              "    }\n",
              "\n",
              "    .colab-df-buttons div {\n",
              "      margin-bottom: 4px;\n",
              "    }\n",
              "\n",
              "    [theme=dark] .colab-df-convert {\n",
              "      background-color: #3B4455;\n",
              "      fill: #D2E3FC;\n",
              "    }\n",
              "\n",
              "    [theme=dark] .colab-df-convert:hover {\n",
              "      background-color: #434B5C;\n",
              "      box-shadow: 0px 1px 3px 1px rgba(0, 0, 0, 0.15);\n",
              "      filter: drop-shadow(0px 1px 2px rgba(0, 0, 0, 0.3));\n",
              "      fill: #FFFFFF;\n",
              "    }\n",
              "  </style>\n",
              "\n",
              "    <script>\n",
              "      const buttonEl =\n",
              "        document.querySelector('#df-46f05b11-640c-4cbe-8fee-a613bdceb85d button.colab-df-convert');\n",
              "      buttonEl.style.display =\n",
              "        google.colab.kernel.accessAllowed ? 'block' : 'none';\n",
              "\n",
              "      async function convertToInteractive(key) {\n",
              "        const element = document.querySelector('#df-46f05b11-640c-4cbe-8fee-a613bdceb85d');\n",
              "        const dataTable =\n",
              "          await google.colab.kernel.invokeFunction('convertToInteractive',\n",
              "                                                    [key], {});\n",
              "        if (!dataTable) return;\n",
              "\n",
              "        const docLinkHtml = 'Like what you see? Visit the ' +\n",
              "          '<a target=\"_blank\" href=https://colab.research.google.com/notebooks/data_table.ipynb>data table notebook</a>'\n",
              "          + ' to learn more about interactive tables.';\n",
              "        element.innerHTML = '';\n",
              "        dataTable['output_type'] = 'display_data';\n",
              "        await google.colab.output.renderOutput(dataTable, element);\n",
              "        const docLink = document.createElement('div');\n",
              "        docLink.innerHTML = docLinkHtml;\n",
              "        element.appendChild(docLink);\n",
              "      }\n",
              "    </script>\n",
              "  </div>\n",
              "\n",
              "\n",
              "<div id=\"df-3f620ae4-f9e8-44fc-8e8f-564ceb991390\">\n",
              "  <button class=\"colab-df-quickchart\" onclick=\"quickchart('df-3f620ae4-f9e8-44fc-8e8f-564ceb991390')\"\n",
              "            title=\"Suggest charts\"\n",
              "            style=\"display:none;\">\n",
              "\n",
              "<svg xmlns=\"http://www.w3.org/2000/svg\" height=\"24px\"viewBox=\"0 0 24 24\"\n",
              "     width=\"24px\">\n",
              "    <g>\n",
              "        <path d=\"M19 3H5c-1.1 0-2 .9-2 2v14c0 1.1.9 2 2 2h14c1.1 0 2-.9 2-2V5c0-1.1-.9-2-2-2zM9 17H7v-7h2v7zm4 0h-2V7h2v10zm4 0h-2v-4h2v4z\"/>\n",
              "    </g>\n",
              "</svg>\n",
              "  </button>\n",
              "\n",
              "<style>\n",
              "  .colab-df-quickchart {\n",
              "      --bg-color: #E8F0FE;\n",
              "      --fill-color: #1967D2;\n",
              "      --hover-bg-color: #E2EBFA;\n",
              "      --hover-fill-color: #174EA6;\n",
              "      --disabled-fill-color: #AAA;\n",
              "      --disabled-bg-color: #DDD;\n",
              "  }\n",
              "\n",
              "  [theme=dark] .colab-df-quickchart {\n",
              "      --bg-color: #3B4455;\n",
              "      --fill-color: #D2E3FC;\n",
              "      --hover-bg-color: #434B5C;\n",
              "      --hover-fill-color: #FFFFFF;\n",
              "      --disabled-bg-color: #3B4455;\n",
              "      --disabled-fill-color: #666;\n",
              "  }\n",
              "\n",
              "  .colab-df-quickchart {\n",
              "    background-color: var(--bg-color);\n",
              "    border: none;\n",
              "    border-radius: 50%;\n",
              "    cursor: pointer;\n",
              "    display: none;\n",
              "    fill: var(--fill-color);\n",
              "    height: 32px;\n",
              "    padding: 0;\n",
              "    width: 32px;\n",
              "  }\n",
              "\n",
              "  .colab-df-quickchart:hover {\n",
              "    background-color: var(--hover-bg-color);\n",
              "    box-shadow: 0 1px 2px rgba(60, 64, 67, 0.3), 0 1px 3px 1px rgba(60, 64, 67, 0.15);\n",
              "    fill: var(--button-hover-fill-color);\n",
              "  }\n",
              "\n",
              "  .colab-df-quickchart-complete:disabled,\n",
              "  .colab-df-quickchart-complete:disabled:hover {\n",
              "    background-color: var(--disabled-bg-color);\n",
              "    fill: var(--disabled-fill-color);\n",
              "    box-shadow: none;\n",
              "  }\n",
              "\n",
              "  .colab-df-spinner {\n",
              "    border: 2px solid var(--fill-color);\n",
              "    border-color: transparent;\n",
              "    border-bottom-color: var(--fill-color);\n",
              "    animation:\n",
              "      spin 1s steps(1) infinite;\n",
              "  }\n",
              "\n",
              "  @keyframes spin {\n",
              "    0% {\n",
              "      border-color: transparent;\n",
              "      border-bottom-color: var(--fill-color);\n",
              "      border-left-color: var(--fill-color);\n",
              "    }\n",
              "    20% {\n",
              "      border-color: transparent;\n",
              "      border-left-color: var(--fill-color);\n",
              "      border-top-color: var(--fill-color);\n",
              "    }\n",
              "    30% {\n",
              "      border-color: transparent;\n",
              "      border-left-color: var(--fill-color);\n",
              "      border-top-color: var(--fill-color);\n",
              "      border-right-color: var(--fill-color);\n",
              "    }\n",
              "    40% {\n",
              "      border-color: transparent;\n",
              "      border-right-color: var(--fill-color);\n",
              "      border-top-color: var(--fill-color);\n",
              "    }\n",
              "    60% {\n",
              "      border-color: transparent;\n",
              "      border-right-color: var(--fill-color);\n",
              "    }\n",
              "    80% {\n",
              "      border-color: transparent;\n",
              "      border-right-color: var(--fill-color);\n",
              "      border-bottom-color: var(--fill-color);\n",
              "    }\n",
              "    90% {\n",
              "      border-color: transparent;\n",
              "      border-bottom-color: var(--fill-color);\n",
              "    }\n",
              "  }\n",
              "</style>\n",
              "\n",
              "  <script>\n",
              "    async function quickchart(key) {\n",
              "      const quickchartButtonEl =\n",
              "        document.querySelector('#' + key + ' button');\n",
              "      quickchartButtonEl.disabled = true;  // To prevent multiple clicks.\n",
              "      quickchartButtonEl.classList.add('colab-df-spinner');\n",
              "      try {\n",
              "        const charts = await google.colab.kernel.invokeFunction(\n",
              "            'suggestCharts', [key], {});\n",
              "      } catch (error) {\n",
              "        console.error('Error during call to suggestCharts:', error);\n",
              "      }\n",
              "      quickchartButtonEl.classList.remove('colab-df-spinner');\n",
              "      quickchartButtonEl.classList.add('colab-df-quickchart-complete');\n",
              "    }\n",
              "    (() => {\n",
              "      let quickchartButtonEl =\n",
              "        document.querySelector('#df-3f620ae4-f9e8-44fc-8e8f-564ceb991390 button');\n",
              "      quickchartButtonEl.style.display =\n",
              "        google.colab.kernel.accessAllowed ? 'block' : 'none';\n",
              "    })();\n",
              "  </script>\n",
              "</div>\n",
              "\n",
              "    </div>\n",
              "  </div>\n"
            ],
            "application/vnd.google.colaboratory.intrinsic+json": {
              "type": "dataframe",
              "variable_name": "df",
              "summary": "{\n  \"name\": \"df\",\n  \"rows\": 13061,\n  \"fields\": [\n    {\n      \"column\": \"\\u0917\\u0941\\u0928\\u093e\\u0938\\u094b \\u0935\\u0930\\u094d\\u0917\",\n      \"properties\": {\n        \"dtype\": \"category\",\n        \"num_unique_values\": 14,\n        \"samples\": [\n          \"\\u0935\\u0947\\u092c\\u0938\\u093e\\u0907\\u091f \\u0924\\u0925\\u093e \\u0905\\u092d\\u093f\\u0932\\u0947\\u0916 \\u0935\\u094d\\u092f\\u0935\\u0938\\u094d\\u0925\\u093e\\u092a\\u0928 \\u0938\\u092e\\u094d\\u092c\\u0928\\u094d\\u0927\\u0940\",\n          \"\\u0938\\u0942\\u091a\\u0928\\u093e \\u0924\\u0925\\u093e \\u0938\\u0902\\u091a\\u093e\\u0930\",\n          \"\\u0905\\u0930\\u094d\\u0925 \\u0938\\u092c\\u0928\\u094d\\u0927\\u0940\"\n        ],\n        \"semantic_type\": \"\",\n        \"description\": \"\"\n      }\n    },\n    {\n      \"column\": \"\\u0917\\u0941\\u0928\\u093e\\u0938\\u094b\",\n      \"properties\": {\n        \"dtype\": \"string\",\n        \"num_unique_values\": 12254,\n        \"samples\": [\n          \"\\u092e\\u0948\\u0932\\u0947 \\u092c\\u093f\\u0917\\u0924 \\u091a\\u094c\\u0927 \\u0935\\u0930\\u094d\\u0937 \\u0926\\u0947\\u0916\\u093f \\u096f\\u096e\\u096a\\u096b\\u0969\\u096b\\u096d\\u0967\\u096b\\u096a \\u0928\\u092e\\u094d\\u092c\\u0930 \\u0915\\u094b \\u0938\\u093f\\u092e \\u091a\\u0932\\u093e\\u090f\\u0915\\u094b \\u091b\\u0941 \\u0924\\u0930 \\u092e\\u0947\\u0930\\u094b \\u0928\\u093e\\u092e \\u092e\\u093e \\u0938\\u093f\\u092e \\u0926\\u0930\\u094d\\u0924\\u093e \\u0928\\u0926\\u0947\\u0916\\u093e\\u090f\\u0915\\u094b \\u0932\\u0947 \\u0928\\u093e\\u0917\\u0930\\u093f\\u0915\\u0924\\u093e \\u0938\\u0939\\u093f\\u0924 \\u092a\\u0939\\u093f\\u0932\\u094b \\u092a\\u091f\\u0915 \\u0926\\u0936\\u0948\\u0901 \\u0905\\u0917\\u093e\\u0921\\u093f \\u092c\\u0941\\u091d\\u093e\\u0909\\u0926\\u093e \\u0928\\u092d\\u090f\\u0915\\u094b \\u0932\\u0947 \\u0926\\u094b\\u0936\\u094d\\u0930\\u094b \\u092a\\u091f\\u0915 \\u0924\\u093f\\u0939\\u093e\\u0930 \\u0905\\u0917\\u093e\\u0921\\u093f \\u092b\\u0947\\u0930\\u0940 \\u092b\\u093e\\u0930\\u092e \\u0930 \\u0928\\u093e\\u0917\\u0930\\u0940\\u0915\\u0924 \\u092c\\u0941\\u091c\\u093e\\u0909\\u0926\\u093e \\u092a\\u0928\\u093f \\u0915\\u0941\\u0928\\u0948 \\u0915\\u093e\\u0930\\u0935\\u093e\\u0939\\u0940 \\u092d\\u090f\\u0928 \\u0926\\u0941\\u0908 \\u092a\\u091f\\u0915 \\u0915\\u0947\\u0935\\u093e\\u0908\\u0938\\u0940 \\u092b\\u093e\\u0930\\u092e \\u092d\\u0930\\u0924\\u092a\\u0941\\u0930 \\u091f\\u0947\\u0932\\u093f\\u0915\\u092e \\u092e\\u093e \\u092c\\u0941\\u091d\\u093e\\u0909\\u0926\\u093e \\u092a\\u0928\\u093f \\u092e\\u0947\\u0930\\u094b \\u0905\\u092a\\u0921\\u0947\\u091f \\u0917\\u0930\\u093f\\u090f\\u0928 \\u091c\\u0938\\u0932\\u0947 \\u0917\\u0930\\u094d\\u0926\\u093e \\u092e \\u0928\\u093e\\u0917\\u0930\\u093f\\u0915 \\u090f\\u092a \\u091a\\u0932\\u093e\\u0909\\u0928 \\u092c\\u093e\\u091f \\u092c\\u0928\\u094d\\u091a\\u093f\\u0924 \\u092d\\u090f\\u0915\\u094b \\u091b\\u0941 ! \\u0915\\u0924\\u093f \\u092a\\u091f\\u0915 \\u0938\\u092e\\u094d\\u092e \\u092b\\u093e\\u0930\\u092e \\u0930 \\u0928\\u093e\\u0917\\u0930\\u093f\\u0915\\u0924\\u093e \\u092c\\u0941\\u091d\\u093e\\u0909\\u0928 \\u092a\\u0930\\u094d\\u0928\\u0947 \\u0939\\u094b \\u092c\\u0941\\u091c\\u094d\\u0928 \\u0938\\u0915\\u093f\\u090f\\u0928 \\u0915\\u0943\\u092a\\u092f\\u093e \\u0938\\u092e\\u094d\\u0935\\u0928\\u094d\\u0927\\u093f\\u0924 \\u0928\\u093f\\u0915\\u093e\\u090f\\u092e\\u093e \\u092f\\u094b \\u0917\\u0941\\u0928\\u093e\\u0938\\u094b \\u092a\\u0941\\u0917\\u094d\\u0928\\u0947 \\u0930 \\u0938\\u0941\\u0928\\u0935\\u093e\\u0908 \\u0939\\u0941\\u0928\\u0947 \\u0906\\u0938\\u093e \\u0932\\u093f\\u090f\\u0915\\u094b \\u091b\\u0941\",\n          \"\\u0928\\u0947\\u092a\\u093e\\u0932 \\u092c\\u0948\\u0902\\u0915 \\u092c\\u0930\\u0939\\u0925\\u0935\\u093e \\u0938\\u0930\\u094d\\u0932\\u093e\\u0939\\u0940 \\u092e\\u093e \\u0938\\u093e\\u0924 \\u092e\\u0939\\u093f\\u0928\\u093e \\u092a\\u0939\\u093f\\u0932\\u093e \\u0932\\u094b\\u0928 \\u0915\\u094b \\u0932\\u093e\\u0917\\u093f \\u0938\\u092c\\u0948 \\u0915\\u093e\\u0917\\u091c\\u093e\\u0924 \\u092a\\u0947\\u0936 \\u0917\\u0930\\u0947\\u0915\\u094b \\u0925\\u093f\\u090f\\u0901\\u0964 \\u0915\\u0924\\u093f \\u091a\\u094b\\u091f\\u0940 \\u092c\\u0948\\u0902\\u0915 \\u092e\\u093e \\u0917\\u090f\\u0930 \\u0938\\u094b\\u0927\\u0947 \\u092e\\u0947\\u0930\\u094b \\u0932\\u094b\\u0928 \\u0915\\u0939\\u093f\\u0932\\u0947 \\u092a\\u093e\\u0938 \\u0939\\u0941\\u0928\\u094d\\u091b\\u0964 \\u092c\\u0948\\u0902\\u0915 \\u092c\\u093e\\u091f \\u091c\\u0935\\u093e\\u092b \\u0926\\u093f\\u0928\\u094d\\u091b \\u0967\\u0966 \\u0926\\u093f\\u0928 \\u092a\\u091b\\u0940 \\u0939\\u0941\\u0928\\u094d\\u091b \\u0915\\u0939\\u093f\\u0932\\u0947 \\u092d\\u0928\\u094d\\u091b \\u0968 \\u0913\\u091f\\u093e \\u092b\\u093e\\u0908\\u0932 \\u092c\\u093e\\u0901\\u0915\\u093f \\u091b \\u0924\\u0947\\u0938\\u094d\\u0930\\u094b \\u092e\\u093e \\u0924\\u092a\\u093e\\u0908 \\u0915\\u094b \\u0939\\u0941\\u0928\\u094d\\u091b\\u0964 \\u092b\\u094b\\u0928\\u092e\\u093e \\u0915\\u0941\\u0930\\u093e \\u0917\\u0930\\u094d\\u0926\\u093e \\u092d\\u0928\\u094d\\u0928\\u0941 \\u0939\\u0941\\u0928\\u094d\\u091b \\u092d\\u0928\\u094d\\u0928\\u0941 \\u0939\\u0941\\u0928\\u094d\\u091b \\u0939\\u0947\\u0930\\u0947\\u0930 \\u092e \\u0915\\u0941\\u0930\\u093e \\u0917\\u0930\\u094d\\u091b\\u0941 \\u0964\\u0924\\u094d\\u092f\\u0938 \\u092a\\u091b\\u093f \\u0915\\u0941\\u0930\\u093e \\u0939\\u0941\\u0926\\u0948\\u0928\\u0964 \\u0905\\u0930\\u094d\\u0915\\u094b \\u0926\\u093f\\u0928 \\u0915\\u0941\\u0930\\u093e \\u0917\\u0930\\u094d\\u0926\\u093e \\u092b\\u094b\\u0928 \\u0909\\u0920\\u094d\\u0926\\u0948\\u0928 \\u0909\\u0920\\u0947\\u092a\\u0928\\u093f \\u0905\\u0930\\u0941 \\u092e\\u093e\\u0928\\u094d\\u091b\\u0947 \\u0909\\u0920\\u093e\\u0909\\u0901\\u091b \\u092d\\u0928\\u094d\\u0928\\u0941 \\u0939\\u0941\\u0928\\u094d\\u091b \\u092c\\u093e\\u0939\\u093f\\u0930 \\u091c\\u093e\\u0928\\u0941 \\u092d\\u0915\\u094b\\u091b \\u0964\",\n          \"\\u0967\\u096a \\u0935\\u0921\\u093e \\u0915\\u0941\\u092e\\u093e\\u0930\\u0940 \\u0915\\u0932\\u092c \\u0905\\u0917\\u093e\\u0921\\u093f\\u0915\\u094b \\u092c\\u093e\\u091f\\u094b\\u092e\\u093e \\u0916\\u093e\\u0932\\u094d\\u0921\\u094b \\u0930\\u0939\\u0947\\u0915\\u094b \\u0939\\u0941\\u0901\\u0926\\u093e \\u092f\\u0938\\u0915\\u094b \\u0905\\u0924\\u093f\\u0936\\u093f\\u0930\\u094d\\u0918 \\u092c\\u0928\\u093e\\u0907\\u0926\\u093f\\u0928\\u0941\\u0939\\u0941\\u0928 \\u0905\\u0928\\u0941\\u0930\\u094b\\u0927 \\u091b \\u0964\"\n        ],\n        \"semantic_type\": \"\",\n        \"description\": \"\"\n      }\n    }\n  ]\n}"
            }
          },
          "metadata": {},
          "execution_count": 13
        }
      ],
      "source": [
        "df.head()"
      ]
    },
    {
      "cell_type": "code",
      "execution_count": 14,
      "metadata": {
        "colab": {
          "base_uri": "https://localhost:8080/"
        },
        "id": "Qu7TUEAlyG7i",
        "outputId": "bccdcc72-466c-4890-c0ee-322dd54d251a"
      },
      "outputs": [
        {
          "output_type": "execute_result",
          "data": {
            "text/plain": [
              "वेबसाइट तथा अभिलेख व्यवस्थापन सम्बन्धी      2849\n",
              "सोधपुछ, सुझाव, प्रशंसा सम्बन्धी             1883\n",
              "पार्किङ्ग तथा मेट्रो पुलिस                  1701\n",
              "कर्मचारी सम्वन्धी                           1337\n",
              "अर्थ सबन्धी                                  860\n",
              "खानेपानी                                     800\n",
              "स्वास्थ्यसँग सम्बन्धी                        694\n",
              "सूचना तथा संचार                              640\n",
              "शान्ति सुरक्षा                               634\n",
              "फोहोरमैला व्यवस्थापन                         630\n",
              "निर्माण कार्य सम्बन्धी                       605\n",
              "प्राकृतिक श्रोत/साधन सम्बन्धी                200\n",
              "लागु पदार्थ सम्बन्धी                         157\n",
              "अर्थिक अनियमितता तथा भ्रष्टाचार सम्बन्धी      71\n",
              "Name: गुनासो वर्ग, dtype: int64"
            ]
          },
          "metadata": {},
          "execution_count": 14
        }
      ],
      "source": [
        "df['गुनासो वर्ग'].value_counts()"
      ]
    },
    {
      "cell_type": "code",
      "execution_count": 15,
      "metadata": {
        "colab": {
          "base_uri": "https://localhost:8080/"
        },
        "id": "1fd3lww6yIVi",
        "outputId": "13f02f00-48b8-4858-cb08-1ac7d56dfda7"
      },
      "outputs": [
        {
          "output_type": "stream",
          "name": "stdout",
          "text": [
            "Collecting nlpaug\n",
            "  Downloading nlpaug-1.1.11-py3-none-any.whl (410 kB)\n",
            "\u001b[?25l     \u001b[90m━━━━━━━━━━━━━━━━━━━━━━━━━━━━━━━━━━━━━━━━\u001b[0m \u001b[32m0.0/410.5 kB\u001b[0m \u001b[31m?\u001b[0m eta \u001b[36m-:--:--\u001b[0m\r\u001b[2K     \u001b[91m━━━━━━━━━━━━━━━━━━━━━\u001b[0m\u001b[91m╸\u001b[0m\u001b[90m━━━━━━━━━━━━━━━━━━\u001b[0m \u001b[32m225.3/410.5 kB\u001b[0m \u001b[31m6.7 MB/s\u001b[0m eta \u001b[36m0:00:01\u001b[0m\r\u001b[2K     \u001b[90m━━━━━━━━━━━━━━━━━━━━━━━━━━━━━━━━━━━━━━━━\u001b[0m \u001b[32m410.5/410.5 kB\u001b[0m \u001b[31m7.2 MB/s\u001b[0m eta \u001b[36m0:00:00\u001b[0m\n",
            "\u001b[?25hRequirement already satisfied: numpy>=1.16.2 in /usr/local/lib/python3.10/dist-packages (from nlpaug) (1.25.2)\n",
            "Requirement already satisfied: pandas>=1.2.0 in /usr/local/lib/python3.10/dist-packages (from nlpaug) (1.5.3)\n",
            "Requirement already satisfied: requests>=2.22.0 in /usr/local/lib/python3.10/dist-packages (from nlpaug) (2.31.0)\n",
            "Requirement already satisfied: gdown>=4.0.0 in /usr/local/lib/python3.10/dist-packages (from nlpaug) (4.7.3)\n",
            "Requirement already satisfied: filelock in /usr/local/lib/python3.10/dist-packages (from gdown>=4.0.0->nlpaug) (3.13.1)\n",
            "Requirement already satisfied: six in /usr/local/lib/python3.10/dist-packages (from gdown>=4.0.0->nlpaug) (1.16.0)\n",
            "Requirement already satisfied: tqdm in /usr/local/lib/python3.10/dist-packages (from gdown>=4.0.0->nlpaug) (4.66.2)\n",
            "Requirement already satisfied: beautifulsoup4 in /usr/local/lib/python3.10/dist-packages (from gdown>=4.0.0->nlpaug) (4.12.3)\n",
            "Requirement already satisfied: python-dateutil>=2.8.1 in /usr/local/lib/python3.10/dist-packages (from pandas>=1.2.0->nlpaug) (2.8.2)\n",
            "Requirement already satisfied: pytz>=2020.1 in /usr/local/lib/python3.10/dist-packages (from pandas>=1.2.0->nlpaug) (2023.4)\n",
            "Requirement already satisfied: charset-normalizer<4,>=2 in /usr/local/lib/python3.10/dist-packages (from requests>=2.22.0->nlpaug) (3.3.2)\n",
            "Requirement already satisfied: idna<4,>=2.5 in /usr/local/lib/python3.10/dist-packages (from requests>=2.22.0->nlpaug) (3.6)\n",
            "Requirement already satisfied: urllib3<3,>=1.21.1 in /usr/local/lib/python3.10/dist-packages (from requests>=2.22.0->nlpaug) (2.0.7)\n",
            "Requirement already satisfied: certifi>=2017.4.17 in /usr/local/lib/python3.10/dist-packages (from requests>=2.22.0->nlpaug) (2024.2.2)\n",
            "Requirement already satisfied: soupsieve>1.2 in /usr/local/lib/python3.10/dist-packages (from beautifulsoup4->gdown>=4.0.0->nlpaug) (2.5)\n",
            "Requirement already satisfied: PySocks!=1.5.7,>=1.5.6 in /usr/local/lib/python3.10/dist-packages (from requests>=2.22.0->nlpaug) (1.7.1)\n",
            "Installing collected packages: nlpaug\n",
            "Successfully installed nlpaug-1.1.11\n"
          ]
        }
      ],
      "source": [
        "!pip install nlpaug"
      ]
    },
    {
      "cell_type": "code",
      "execution_count": 16,
      "metadata": {
        "id": "ngLs7KQVz3AJ"
      },
      "outputs": [],
      "source": [
        "import nlpaug.augmenter.char as nac\n",
        "import nlpaug.augmenter.word as naw\n",
        "import nlpaug.flow as naf\n",
        "from nlpaug.util import Action\n",
        "import random"
      ]
    },
    {
      "cell_type": "code",
      "execution_count": 17,
      "metadata": {
        "id": "P4BGNELiz_Yb",
        "colab": {
          "base_uri": "https://localhost:8080/"
        },
        "outputId": "8231e405-2857-450c-f1d6-b0bae813b75e"
      },
      "outputs": [
        {
          "output_type": "execute_result",
          "data": {
            "text/plain": [
              "2849"
            ]
          },
          "metadata": {},
          "execution_count": 17
        }
      ],
      "source": [
        "counts=df['गुनासो वर्ग'].value_counts()\n",
        "max_count= max(counts)\n",
        "max_count"
      ]
    },
    {
      "cell_type": "code",
      "execution_count": 18,
      "metadata": {
        "id": "p80auAfQ3sMk"
      },
      "outputs": [],
      "source": [
        "# # Define the simple text augmentation function again\n",
        "# def simple_augment_nepali_text(text, operation=\"insertion\", changes=1):\n",
        "#     words = text.split()\n",
        "\n",
        "#     if operation == \"insertion\":\n",
        "#         for _ in range(changes):\n",
        "#             insert_position = random.randint(0, len(words) - 1)\n",
        "#             words.insert(insert_position, \"नेपाली\")\n",
        "#     elif operation == \"deletion\":\n",
        "#         for _ in range(min(changes, len(words))):\n",
        "#             delete_position = random.randint(0, len(words) - 1)\n",
        "#             del words[delete_position]\n",
        "\n",
        "#     return ' '.join(words)"
      ]
    },
    {
      "cell_type": "code",
      "execution_count": 19,
      "metadata": {
        "id": "YAuDUNwQ7ZVL"
      },
      "outputs": [],
      "source": [
        "# import pandas as pd\n",
        "# import random\n",
        "\n",
        "# # Assuming df is the DataFrame with your data\n",
        "# # Replace 'category_column' with the actual name of your category column, e.g., 'गुनासो वर्ग'\n",
        "# category_column = 'गुनासो वर्ग'\n",
        "\n",
        "# counts = df[category_column].value_counts()\n",
        "# max_count = max(counts)\n",
        "\n",
        "# df_final = pd.DataFrame()\n",
        "\n",
        "# for category, count in counts.items():\n",
        "#     df_cat = df[df[category_column] == category]\n",
        "#     augmentation_needed = max_count - count\n",
        "\n",
        "#     # Check if augmentation is needed\n",
        "#     if augmentation_needed > 0:\n",
        "#         augmented_texts = []\n",
        "#         for _ in range(augmentation_needed):\n",
        "#             # Randomly select a text to augment\n",
        "#             text_to_augment = df_cat.sample(n=1, replace=True)['गुनासो'].iloc[0]\n",
        "#             # Apply the augmentation function\n",
        "#             augmented_text = simple_augment_nepali_text(text_to_augment, operation=\"insertion\", changes=2)\n",
        "#             augmented_texts.append({'गुनासो': augmented_text, category_column: category})\n",
        "\n",
        "#         # Create a DataFrame from the augmented texts\n",
        "#         augmented_df = pd.DataFrame(augmented_texts)\n",
        "#         # Combine the original and augmented data for this category\n",
        "#         df_cat_final = pd.concat([df_cat, augmented_df])\n",
        "#     else:\n",
        "#         df_cat_final = df_cat\n",
        "\n",
        "#     # Combine with the final DataFrame\n",
        "#     df_final = pd.concat([df_final, df_cat_final], ignore_index=True)\n",
        "\n",
        "# # Ensure the final DataFrame doesn't exceed the max_count for any category\n",
        "# # This is a safeguard and may not be necessary if the above loop works correctly\n",
        "# df_final_counts = df_final[category_column].value_counts()\n",
        "# print(df_final_counts)\n"
      ]
    },
    {
      "cell_type": "code",
      "source": [
        "df_final=pd.DataFrame()\n",
        "for category,count in counts.items():\n",
        "  df_cat=df[df['गुनासो वर्ग']==category]\n",
        "  if count < max_count:\n",
        "    df_cat_oversampled=df_cat.sample(max_count,replace=True)\n",
        "    df_cat_oversampled=df_cat_oversampled.reset_index(drop=True)\n",
        "  else:\n",
        "    df_cat_oversampled=df_cat\n",
        "\n",
        "  df_final=pd.concat([df_final,df_cat_oversampled])\n"
      ],
      "metadata": {
        "id": "p3ERq9VCHe5q"
      },
      "execution_count": 20,
      "outputs": []
    },
    {
      "cell_type": "code",
      "execution_count": 21,
      "metadata": {
        "colab": {
          "base_uri": "https://localhost:8080/"
        },
        "id": "H6QO_niU7hl2",
        "outputId": "40d45243-12ed-4702-d786-9867ef3712d4"
      },
      "outputs": [
        {
          "output_type": "execute_result",
          "data": {
            "text/plain": [
              "वेबसाइट तथा अभिलेख व्यवस्थापन सम्बन्धी      2849\n",
              "सोधपुछ, सुझाव, प्रशंसा सम्बन्धी             2849\n",
              "पार्किङ्ग तथा मेट्रो पुलिस                  2849\n",
              "कर्मचारी सम्वन्धी                           2849\n",
              "अर्थ सबन्धी                                 2849\n",
              "खानेपानी                                    2849\n",
              "स्वास्थ्यसँग सम्बन्धी                       2849\n",
              "सूचना तथा संचार                             2849\n",
              "शान्ति सुरक्षा                              2849\n",
              "फोहोरमैला व्यवस्थापन                        2849\n",
              "निर्माण कार्य सम्बन्धी                      2849\n",
              "प्राकृतिक श्रोत/साधन सम्बन्धी               2849\n",
              "लागु पदार्थ सम्बन्धी                        2849\n",
              "अर्थिक अनियमितता तथा भ्रष्टाचार सम्बन्धी    2849\n",
              "Name: गुनासो वर्ग, dtype: int64"
            ]
          },
          "metadata": {},
          "execution_count": 21
        }
      ],
      "source": [
        "df_final['गुनासो वर्ग'].value_counts()"
      ]
    },
    {
      "cell_type": "code",
      "source": [
        "df_final.sample(5)"
      ],
      "metadata": {
        "colab": {
          "base_uri": "https://localhost:8080/",
          "height": 206
        },
        "id": "lixrGgkVQ_Q_",
        "outputId": "c9d96446-76c7-4048-9cf9-aa08a41fb7f5"
      },
      "execution_count": 22,
      "outputs": [
        {
          "output_type": "execute_result",
          "data": {
            "text/plain": [
              "                                   गुनासो वर्ग  \\\n",
              "2629                                  खानेपानी   \n",
              "986              प्राकृतिक श्रोत/साधन सम्बन्धी   \n",
              "1752                         कर्मचारी सम्वन्धी   \n",
              "1700  अर्थिक अनियमितता तथा भ्रष्टाचार सम्बन्धी   \n",
              "1119           सोधपुछ, सुझाव, प्रशंसा सम्बन्धी   \n",
              "\n",
              "                                                 गुनासो  \n",
              "2629  हाम्रो घरमा पानी नआएको धेरै भयो, पानी कार्यलयल...  \n",
              "986   नेपाल सरकारले तोकेको iee मापदणड बिपरित नदि जन्...  \n",
              "1752  श्रीमान् सूचना अधिकारी ज्यू, \\r\\nहेलो सरकार\\ न...  \n",
              "1700  इलाका प्रशासन मंगलबारे मा पासपोर्ट वनाउन जादा ...  \n",
              "1119  नेपाल सरकार संग अनुरोध छ, विदेश जाने नागरिक ले...  "
            ],
            "text/html": [
              "\n",
              "  <div id=\"df-e695a7b6-50a1-4a61-8e52-58bb0531aa56\" class=\"colab-df-container\">\n",
              "    <div>\n",
              "<style scoped>\n",
              "    .dataframe tbody tr th:only-of-type {\n",
              "        vertical-align: middle;\n",
              "    }\n",
              "\n",
              "    .dataframe tbody tr th {\n",
              "        vertical-align: top;\n",
              "    }\n",
              "\n",
              "    .dataframe thead th {\n",
              "        text-align: right;\n",
              "    }\n",
              "</style>\n",
              "<table border=\"1\" class=\"dataframe\">\n",
              "  <thead>\n",
              "    <tr style=\"text-align: right;\">\n",
              "      <th></th>\n",
              "      <th>गुनासो वर्ग</th>\n",
              "      <th>गुनासो</th>\n",
              "    </tr>\n",
              "  </thead>\n",
              "  <tbody>\n",
              "    <tr>\n",
              "      <th>2629</th>\n",
              "      <td>खानेपानी</td>\n",
              "      <td>हाम्रो घरमा पानी नआएको धेरै भयो, पानी कार्यलयल...</td>\n",
              "    </tr>\n",
              "    <tr>\n",
              "      <th>986</th>\n",
              "      <td>प्राकृतिक श्रोत/साधन सम्बन्धी</td>\n",
              "      <td>नेपाल सरकारले तोकेको iee मापदणड बिपरित नदि जन्...</td>\n",
              "    </tr>\n",
              "    <tr>\n",
              "      <th>1752</th>\n",
              "      <td>कर्मचारी सम्वन्धी</td>\n",
              "      <td>श्रीमान् सूचना अधिकारी ज्यू, \\r\\nहेलो सरकार\\ न...</td>\n",
              "    </tr>\n",
              "    <tr>\n",
              "      <th>1700</th>\n",
              "      <td>अर्थिक अनियमितता तथा भ्रष्टाचार सम्बन्धी</td>\n",
              "      <td>इलाका प्रशासन मंगलबारे मा पासपोर्ट वनाउन जादा ...</td>\n",
              "    </tr>\n",
              "    <tr>\n",
              "      <th>1119</th>\n",
              "      <td>सोधपुछ, सुझाव, प्रशंसा सम्बन्धी</td>\n",
              "      <td>नेपाल सरकार संग अनुरोध छ, विदेश जाने नागरिक ले...</td>\n",
              "    </tr>\n",
              "  </tbody>\n",
              "</table>\n",
              "</div>\n",
              "    <div class=\"colab-df-buttons\">\n",
              "\n",
              "  <div class=\"colab-df-container\">\n",
              "    <button class=\"colab-df-convert\" onclick=\"convertToInteractive('df-e695a7b6-50a1-4a61-8e52-58bb0531aa56')\"\n",
              "            title=\"Convert this dataframe to an interactive table.\"\n",
              "            style=\"display:none;\">\n",
              "\n",
              "  <svg xmlns=\"http://www.w3.org/2000/svg\" height=\"24px\" viewBox=\"0 -960 960 960\">\n",
              "    <path d=\"M120-120v-720h720v720H120Zm60-500h600v-160H180v160Zm220 220h160v-160H400v160Zm0 220h160v-160H400v160ZM180-400h160v-160H180v160Zm440 0h160v-160H620v160ZM180-180h160v-160H180v160Zm440 0h160v-160H620v160Z\"/>\n",
              "  </svg>\n",
              "    </button>\n",
              "\n",
              "  <style>\n",
              "    .colab-df-container {\n",
              "      display:flex;\n",
              "      gap: 12px;\n",
              "    }\n",
              "\n",
              "    .colab-df-convert {\n",
              "      background-color: #E8F0FE;\n",
              "      border: none;\n",
              "      border-radius: 50%;\n",
              "      cursor: pointer;\n",
              "      display: none;\n",
              "      fill: #1967D2;\n",
              "      height: 32px;\n",
              "      padding: 0 0 0 0;\n",
              "      width: 32px;\n",
              "    }\n",
              "\n",
              "    .colab-df-convert:hover {\n",
              "      background-color: #E2EBFA;\n",
              "      box-shadow: 0px 1px 2px rgba(60, 64, 67, 0.3), 0px 1px 3px 1px rgba(60, 64, 67, 0.15);\n",
              "      fill: #174EA6;\n",
              "    }\n",
              "\n",
              "    .colab-df-buttons div {\n",
              "      margin-bottom: 4px;\n",
              "    }\n",
              "\n",
              "    [theme=dark] .colab-df-convert {\n",
              "      background-color: #3B4455;\n",
              "      fill: #D2E3FC;\n",
              "    }\n",
              "\n",
              "    [theme=dark] .colab-df-convert:hover {\n",
              "      background-color: #434B5C;\n",
              "      box-shadow: 0px 1px 3px 1px rgba(0, 0, 0, 0.15);\n",
              "      filter: drop-shadow(0px 1px 2px rgba(0, 0, 0, 0.3));\n",
              "      fill: #FFFFFF;\n",
              "    }\n",
              "  </style>\n",
              "\n",
              "    <script>\n",
              "      const buttonEl =\n",
              "        document.querySelector('#df-e695a7b6-50a1-4a61-8e52-58bb0531aa56 button.colab-df-convert');\n",
              "      buttonEl.style.display =\n",
              "        google.colab.kernel.accessAllowed ? 'block' : 'none';\n",
              "\n",
              "      async function convertToInteractive(key) {\n",
              "        const element = document.querySelector('#df-e695a7b6-50a1-4a61-8e52-58bb0531aa56');\n",
              "        const dataTable =\n",
              "          await google.colab.kernel.invokeFunction('convertToInteractive',\n",
              "                                                    [key], {});\n",
              "        if (!dataTable) return;\n",
              "\n",
              "        const docLinkHtml = 'Like what you see? Visit the ' +\n",
              "          '<a target=\"_blank\" href=https://colab.research.google.com/notebooks/data_table.ipynb>data table notebook</a>'\n",
              "          + ' to learn more about interactive tables.';\n",
              "        element.innerHTML = '';\n",
              "        dataTable['output_type'] = 'display_data';\n",
              "        await google.colab.output.renderOutput(dataTable, element);\n",
              "        const docLink = document.createElement('div');\n",
              "        docLink.innerHTML = docLinkHtml;\n",
              "        element.appendChild(docLink);\n",
              "      }\n",
              "    </script>\n",
              "  </div>\n",
              "\n",
              "\n",
              "<div id=\"df-b2b5c945-da10-417a-8254-cad0df8c775b\">\n",
              "  <button class=\"colab-df-quickchart\" onclick=\"quickchart('df-b2b5c945-da10-417a-8254-cad0df8c775b')\"\n",
              "            title=\"Suggest charts\"\n",
              "            style=\"display:none;\">\n",
              "\n",
              "<svg xmlns=\"http://www.w3.org/2000/svg\" height=\"24px\"viewBox=\"0 0 24 24\"\n",
              "     width=\"24px\">\n",
              "    <g>\n",
              "        <path d=\"M19 3H5c-1.1 0-2 .9-2 2v14c0 1.1.9 2 2 2h14c1.1 0 2-.9 2-2V5c0-1.1-.9-2-2-2zM9 17H7v-7h2v7zm4 0h-2V7h2v10zm4 0h-2v-4h2v4z\"/>\n",
              "    </g>\n",
              "</svg>\n",
              "  </button>\n",
              "\n",
              "<style>\n",
              "  .colab-df-quickchart {\n",
              "      --bg-color: #E8F0FE;\n",
              "      --fill-color: #1967D2;\n",
              "      --hover-bg-color: #E2EBFA;\n",
              "      --hover-fill-color: #174EA6;\n",
              "      --disabled-fill-color: #AAA;\n",
              "      --disabled-bg-color: #DDD;\n",
              "  }\n",
              "\n",
              "  [theme=dark] .colab-df-quickchart {\n",
              "      --bg-color: #3B4455;\n",
              "      --fill-color: #D2E3FC;\n",
              "      --hover-bg-color: #434B5C;\n",
              "      --hover-fill-color: #FFFFFF;\n",
              "      --disabled-bg-color: #3B4455;\n",
              "      --disabled-fill-color: #666;\n",
              "  }\n",
              "\n",
              "  .colab-df-quickchart {\n",
              "    background-color: var(--bg-color);\n",
              "    border: none;\n",
              "    border-radius: 50%;\n",
              "    cursor: pointer;\n",
              "    display: none;\n",
              "    fill: var(--fill-color);\n",
              "    height: 32px;\n",
              "    padding: 0;\n",
              "    width: 32px;\n",
              "  }\n",
              "\n",
              "  .colab-df-quickchart:hover {\n",
              "    background-color: var(--hover-bg-color);\n",
              "    box-shadow: 0 1px 2px rgba(60, 64, 67, 0.3), 0 1px 3px 1px rgba(60, 64, 67, 0.15);\n",
              "    fill: var(--button-hover-fill-color);\n",
              "  }\n",
              "\n",
              "  .colab-df-quickchart-complete:disabled,\n",
              "  .colab-df-quickchart-complete:disabled:hover {\n",
              "    background-color: var(--disabled-bg-color);\n",
              "    fill: var(--disabled-fill-color);\n",
              "    box-shadow: none;\n",
              "  }\n",
              "\n",
              "  .colab-df-spinner {\n",
              "    border: 2px solid var(--fill-color);\n",
              "    border-color: transparent;\n",
              "    border-bottom-color: var(--fill-color);\n",
              "    animation:\n",
              "      spin 1s steps(1) infinite;\n",
              "  }\n",
              "\n",
              "  @keyframes spin {\n",
              "    0% {\n",
              "      border-color: transparent;\n",
              "      border-bottom-color: var(--fill-color);\n",
              "      border-left-color: var(--fill-color);\n",
              "    }\n",
              "    20% {\n",
              "      border-color: transparent;\n",
              "      border-left-color: var(--fill-color);\n",
              "      border-top-color: var(--fill-color);\n",
              "    }\n",
              "    30% {\n",
              "      border-color: transparent;\n",
              "      border-left-color: var(--fill-color);\n",
              "      border-top-color: var(--fill-color);\n",
              "      border-right-color: var(--fill-color);\n",
              "    }\n",
              "    40% {\n",
              "      border-color: transparent;\n",
              "      border-right-color: var(--fill-color);\n",
              "      border-top-color: var(--fill-color);\n",
              "    }\n",
              "    60% {\n",
              "      border-color: transparent;\n",
              "      border-right-color: var(--fill-color);\n",
              "    }\n",
              "    80% {\n",
              "      border-color: transparent;\n",
              "      border-right-color: var(--fill-color);\n",
              "      border-bottom-color: var(--fill-color);\n",
              "    }\n",
              "    90% {\n",
              "      border-color: transparent;\n",
              "      border-bottom-color: var(--fill-color);\n",
              "    }\n",
              "  }\n",
              "</style>\n",
              "\n",
              "  <script>\n",
              "    async function quickchart(key) {\n",
              "      const quickchartButtonEl =\n",
              "        document.querySelector('#' + key + ' button');\n",
              "      quickchartButtonEl.disabled = true;  // To prevent multiple clicks.\n",
              "      quickchartButtonEl.classList.add('colab-df-spinner');\n",
              "      try {\n",
              "        const charts = await google.colab.kernel.invokeFunction(\n",
              "            'suggestCharts', [key], {});\n",
              "      } catch (error) {\n",
              "        console.error('Error during call to suggestCharts:', error);\n",
              "      }\n",
              "      quickchartButtonEl.classList.remove('colab-df-spinner');\n",
              "      quickchartButtonEl.classList.add('colab-df-quickchart-complete');\n",
              "    }\n",
              "    (() => {\n",
              "      let quickchartButtonEl =\n",
              "        document.querySelector('#df-b2b5c945-da10-417a-8254-cad0df8c775b button');\n",
              "      quickchartButtonEl.style.display =\n",
              "        google.colab.kernel.accessAllowed ? 'block' : 'none';\n",
              "    })();\n",
              "  </script>\n",
              "</div>\n",
              "\n",
              "    </div>\n",
              "  </div>\n"
            ],
            "application/vnd.google.colaboratory.intrinsic+json": {
              "type": "dataframe",
              "summary": "{\n  \"name\": \"df_final\",\n  \"rows\": 5,\n  \"fields\": [\n    {\n      \"column\": \"\\u0917\\u0941\\u0928\\u093e\\u0938\\u094b \\u0935\\u0930\\u094d\\u0917\",\n      \"properties\": {\n        \"dtype\": \"string\",\n        \"num_unique_values\": 5,\n        \"samples\": [\n          \"\\u092a\\u094d\\u0930\\u093e\\u0915\\u0943\\u0924\\u093f\\u0915 \\u0936\\u094d\\u0930\\u094b\\u0924/\\u0938\\u093e\\u0927\\u0928 \\u0938\\u092e\\u094d\\u092c\\u0928\\u094d\\u0927\\u0940\",\n          \"\\u0938\\u094b\\u0927\\u092a\\u0941\\u091b, \\u0938\\u0941\\u091d\\u093e\\u0935, \\u092a\\u094d\\u0930\\u0936\\u0902\\u0938\\u093e \\u0938\\u092e\\u094d\\u092c\\u0928\\u094d\\u0927\\u0940\",\n          \"\\u0915\\u0930\\u094d\\u092e\\u091a\\u093e\\u0930\\u0940 \\u0938\\u092e\\u094d\\u0935\\u0928\\u094d\\u0927\\u0940\"\n        ],\n        \"semantic_type\": \"\",\n        \"description\": \"\"\n      }\n    },\n    {\n      \"column\": \"\\u0917\\u0941\\u0928\\u093e\\u0938\\u094b\",\n      \"properties\": {\n        \"dtype\": \"string\",\n        \"num_unique_values\": 5,\n        \"samples\": [\n          \"\\u0928\\u0947\\u092a\\u093e\\u0932 \\u0938\\u0930\\u0915\\u093e\\u0930\\u0932\\u0947 \\u0924\\u094b\\u0915\\u0947\\u0915\\u094b iee \\u092e\\u093e\\u092a\\u0926\\u0923\\u0921 \\u092c\\u093f\\u092a\\u0930\\u093f\\u0924 \\u0928\\u0926\\u093f \\u091c\\u0928\\u094d\\u092f \\u092a\\u0926\\u0930\\u094d\\u0925 \\u0928\\u093f\\u0915\\u093e\\u0938\\u0940 \\u0924\\u0925\\u093e \\u092c\\u093f\\u0915\\u094d\\u0930\\u0940 \\u0917\\u0930\\u0947\\u0915\\u094b\\u0932\\u0947 \\u0927\\u094d\\u092f\\u093e\\u0928 \\u0906\\u0915\\u0930\\u094d\\u0937\\u0923 \\u0917\\u0930\\u094d\\u0926\\u091b\\u0941\",\n          \"\\u0928\\u0947\\u092a\\u093e\\u0932 \\u0938\\u0930\\u0915\\u093e\\u0930 \\u0938\\u0902\\u0917 \\u0905\\u0928\\u0941\\u0930\\u094b\\u0927 \\u091b, \\u0935\\u093f\\u0926\\u0947\\u0936 \\u091c\\u093e\\u0928\\u0947 \\u0928\\u093e\\u0917\\u0930\\u093f\\u0915 \\u0932\\u0947 \\u0935\\u093f\\u0926\\u0947\\u0936 \\u091c\\u093e\\u0901\\u0926\\u093e \\u092d\\u094d\\u092f\\u093e\\u0915\\u094d\\u0938\\u093f\\u0928 \\u0932\\u0917\\u093e\\u090f\\u0915\\u094b \\u0938\\u0930\\u094d\\u091f\\u093f\\u092b\\u093f\\u0915\\u0947\\u091f \\u0932\\u093f\\u090f\\u0930 \\u091c\\u093e\\u0928\\u0941 \\u092a\\u0930\\u094d\\u091b\\u0964 \\u0924\\u0930 \\u0924\\u094d\\u092f\\u0938 \\u0938\\u0930\\u094d\\u091f\\u093f\\u092b\\u093f\\u0915\\u0947\\u091f \\u092e\\u093e \\u0938\\u094d\\u0915\\u094d\\u092f\\u093e\\u0928\\u0947\\u092c\\u0941\\u0932 QR Code \\u0916\\u094b\\u091c\\u0940 \\u0930\\u093e \\u091b \\u092a\\u094d\\u0930\\u093e\\u092f\\u0903 \\u0938\\u092c\\u0948 \\u0926\\u0947\\u0936 \\u0932\\u0947, \\u0924\\u094d\\u092f\\u0938\\u0948\\u0932\\u0947 \\u0924\\u094d\\u092f\\u0938\\u0932\\u093e\\u0908 \\u0938\\u0939\\u091c\\u093f\\u0915\\u0930\\u0923 \\u0917\\u0930\\u0940 \\u0926\\u093f\\u090f \\u0935\\u093f\\u0926\\u0947\\u0936 \\u091c\\u093e\\u0928\\u0947 \\u0928\\u093e\\u0917\\u0930\\u093f\\u0915 \\u0932\\u093e\\u0908 \\u0938\\u091c\\u093f\\u0932\\u094b \\u0939\\u0941\\u0928\\u0947 \\u0925\\u093f\\u092f\\u094b\\u0964 \\u092f\\u094b \\u091c\\u093e\\u0928\\u0915\\u093e\\u0930\\u0940 \\u0938\\u0902\\u092c\\u0902\\u0927\\u093f\\u0924 \\u0928\\u093f\\u0915\\u093e\\u090f ( Ministry of Health \\u0930 \\u091f\\u0947\\u0915\\u0941 \\u0905\\u0938\\u094d\\u092a\\u0924\\u093e\\u0932 , \\u0938\\u093f\\u092d\\u093f\\u0932 \\u0939\\u0938\\u094d\\u092a\\u093f\\u091f\\u0932, \\u092a\\u093e\\u091f\\u0928 \\u0939\\u0938\\u094d\\u092a\\u093f\\u091f\\u0932) \\u0932\\u0947 \\u0939\\u0947\\u0930\\u0940 \\u0926\\u093f\\u090f \\u0938\\u091c\\u093f\\u0932\\u094b \\u0939\\u0941\\u0928\\u0947 \\u0925\\u093f\\u092f\\u094b\\u0964 \\u0906\\u0936\\u093e \\u091b \\u092f\\u094b \\u0935\\u093f\\u0937\\u092f \\u092e\\u093e \\u091a\\u093e\\u0901\\u0921\\u0948 \\u0927\\u094d\\u092f\\u093e\\u0928 \\u091c\\u093e\\u0928\\u0947\",\n          \"\\u0936\\u094d\\u0930\\u0940\\u092e\\u093e\\u0928\\u094d \\u0938\\u0942\\u091a\\u0928\\u093e \\u0905\\u0927\\u093f\\u0915\\u093e\\u0930\\u0940 \\u091c\\u094d\\u092f\\u0942, \\\\r\\\\n\\u0939\\u0947\\u0932\\u094b \\u0938\\u0930\\u0915\\u093e\\u0930\\\\ \\u0928\\u0947\\u092a\\u093e\\u0932 \\u0938\\u0930\\u0915\\u093e\\u0930, \\u092a\\u094d\\u0930\\u0927\\u093e\\u0928\\u092e\\u0928\\u094d\\u0924\\u094d\\u0930\\u093f \\u0924\\u0925\\u093e \\u092e\\u0928\\u094d\\u0924\\u094d\\u0930\\u093f\\u092a\\u0930\\u093f\\u0937\\u0926\\u094d\\u0915\\u094b \\u0915\\u093e\\u0930\\u094d\\u092f\\u093e\\u0932\\u092f, \\u0938\\u093f\\u0902\\u0939\\u0926\\u0930\\u092c\\u093e\\u0930, \\u0915\\u093e\\u0920\\u092e\\u093e\\u0921\\u094c\\u0902\\u0964 \\\\r\\\\n\\u0935\\u093f\\u0937\\u092f : \\u0915\\u0930\\u094d\\u092e\\u091a\\u093e\\u0930\\u0940 \\u0930\\u093f\\u0915\\u094d\\u0924 \\u0924\\u0925\\u093e \\u0936\\u093f\\u0915\\u094d\\u0937\\u0915\\u0932\\u0947 \\u0928\\u093f\\u092e\\u093f\\u0924\\u094d\\u0924 \\u092a\\u094d\\u0930\\u092e\\u0941\\u0916 \\u092a\\u094d\\u0930\\u0936\\u093e\\u0938\\u0915\\u093f\\u092f \\u0905\\u0927\\u093f\\u0915\\u0943\\u0924\\u0915\\u094b \\u092a\\u0926\\u092e\\u093e \\u0930\\u0939\\u0940 \\u0915\\u093e\\u092e \\u0917\\u0930\\u0947\\u0915\\u094b \\u092c\\u093e\\u0930\\u0947\\u092e\\u093e\\u0964 \\\\r\\\\n\\\\r\\\\n\\u092e\\u0939\\u094b\\u0926\\u092f, \\\\r\\\\n\\u0909\\u092a\\u0930\\u094b\\u0915\\u094d\\u0924 \\u0938\\u092e\\u094d\\u092c\\u0928\\u094d\\u0927\\u092e\\u093e \\u0924\\u094d\\u0930\\u093f\\u0935\\u0947\\u0923\\u0940 \\u0928\\u0917\\u0930\\u092a\\u093e\\u0932\\u093f\\u0915\\u093e \\u0915\\u093e\\u0930\\u094d\\u092f\\u093e\\u0932\\u092f, \\u0924\\u094b\\u0932\\u0940 \\u092c\\u093e\\u091c\\u0941\\u0930\\u093e\\u092e\\u093e \\u092a\\u094d\\u0930\\u0936\\u093e\\u0938\\u0928 \\u0938\\u0947\\u0935\\u093e\\u0915\\u093e \\u0915\\u0930\\u094d\\u092e\\u091a\\u093e\\u0930\\u0940 \\u0905\\u092d\\u093e\\u0935 \\u092d\\u090f\\u0915\\u094b \\u0930 \\u0938\\u094b \\u0938\\u0947\\u0935\\u093e\\u0915\\u093e \\u0915\\u0930\\u094d\\u092e\\u091a\\u093e\\u0930\\u0940 \\u0930\\u093f\\u0915\\u094d\\u0924 \\u0939\\u0941\\u0901\\u0926\\u093e \\u0905\\u0928\\u094d\\u092f \\u0928\\u093f\\u091c\\u093e\\u092e\\u0924\\u093f \\u0938\\u0947\\u0935\\u093e\\u0915\\u093e \\u0915\\u0930\\u094d\\u092e\\u091a\\u093e\\u0930\\u0940\\u0932\\u093e\\u0908 \\u0928\\u093f\\u092e\\u093f\\u0924\\u094d\\u0924 \\u0928\\u0926\\u093f\\u0908 \\u090f\\u0915 \\u091c\\u0928\\u093e \\u0936\\u094d\\u0930\\u0940 \\u0930\\u0924\\u094d\\u0928 \\u092e\\u093e\\u0927\\u094d\\u092f\\u092e\\u093f\\u0915 \\u0935\\u093f\\u0926\\u094d\\u092f\\u093e\\u0932\\u092f\\u0915\\u093e \\u0939\\u0947\\u0921\\u092e\\u093e\\u0938\\u094d\\u091f\\u0930 ( \\u0930\\u0924\\u0928 \\u092c\\u0939\\u093e\\u0926\\u0941\\u0930 \\u0905\\u092f\\u0921\\u0940) \\u0932\\u093e\\u0908 \\u0928\\u093f\\u092e\\u093f\\u0924\\u094d\\u0924 \\u0926\\u093f\\u0908\\u090f\\u0915\\u094b \\u091c\\u093e\\u0928\\u0915\\u093e\\u0930\\u0940 \\u0917\\u0930\\u093e\\u0909\\u0901\\u091b\\u0941 \\u091c\\u094b \\u092e\\u0947\\u092f\\u0930\\u0915\\u093e \\u0928\\u091c\\u093f\\u0915\\u0915\\u093e \\u0936\\u093f\\u0915\\u094d\\u0937\\u0915 \\u0928\\u0947\\u0924\\u093e \\u092a\\u0928\\u093f \\u0939\\u0941\\u0928\\u094d\\u0964 \\u0938\\u094b \\u0915\\u094b \\u092a\\u094d\\u0930\\u092e\\u093e\\u0923 \\u092a\\u0928\\u093f \\u092f\\u0938\\u0948 \\u0917\\u0941\\u0928\\u093e\\u0938\\u094b \\u092a\\u0924\\u094d\\u0930\\u0915\\u093e \\u0938\\u093e\\u0925 \\u0938\\u094d\\u0915\\u094d\\u0930\\u093f\\u0928\\u0936\\u091f(\\u092b\\u094b\\u091f\\u094b) \\u0917\\u0930\\u0947\\u0915\\u094b \\u091b\\u0941\\u0964 \\u0906\\u0927\\u093f\\u0915\\u093e\\u0930\\u093f\\u0915\\u0924\\u093e \\u091c\\u093e\\u0901\\u091a\\u0915\\u093e \\u0932\\u093e\\u0917\\u0940 \\u0928\\u0917\\u0930\\u092a\\u093e\\u0932\\u093f\\u0915\\u093e\\u0915\\u094b \\u0938\\u093e\\u092e\\u093e\\u091c\\u093f\\u0915 \\u0938\\u0928\\u094d\\u091c\\u093e\\u0932 \\u092b\\u0947\\u0938\\u092c\\u0942\\u0915 \\u092a\\u0947\\u091c ( \\u0924\\u094d\\u0930\\u093f\\u0935\\u0947\\u0923\\u0940 \\u0928\\u0917\\u0930\\u092a\\u093e\\u0932\\u093f\\u0915\\u093e) \\u092e\\u093e \\u092a\\u0928\\u093f \\u0939\\u0947\\u0930\\u094d\\u0928 \\u0938\\u0915\\u094d\\u0928\\u0941\\u0939\\u0941\\u0928\\u0947\\u091b\\u0964 \\\\r\\\\n\\u0928\\u093f\\u091c\\u093e\\u092e\\u0924\\u093f \\u0938\\u0947\\u0935\\u093e \\u0924\\u0930\\u094d\\u092b \\u0938\\u094d\\u0935\\u093e\\u0938\\u094d\\u0925\\u094d\\u092f \\u0938\\u0947\\u0935\\u093e\\u092e\\u093e \\u092a\\u0928\\u093f \\u0905\\u0927\\u093f\\u0915\\u0943\\u0924 \\u0938\\u094d\\u0924\\u0930\\u0915\\u093e \\u0935\\u093e \\u0938\\u0939\\u093e\\u092f\\u0915 \\u0938\\u094d\\u0924\\u0930\\u0915\\u093e \\u0915\\u0930\\u094d\\u092e\\u091a\\u093e\\u0930\\u0940 \\u0915\\u093e\\u0930\\u094d\\u092f\\u0930\\u0924 \\u0930\\u0939\\u0901\\u0926\\u093e \\u0930\\u0939\\u0901\\u0926\\u0948 \\u092a\\u0928\\u093f \\u0936\\u093f\\u0915\\u094d\\u0937\\u0915\\u0932\\u093e\\u0908 \\u091f\\u093f\\u092a\\u0947\\u0930 \\u0932\\u0917\\u0947\\u0930 \\u0928\\u093f\\u092e\\u093f\\u0924\\u094d\\u0924 \\u0926\\u093f\\u0908\\u0915\\u094b \\u092a\\u094d\\u0930\\u092e\\u093e\\u0923 \\u092b\\u0947\\u0932\\u093e \\u092a\\u0930\\u0947\\u0915\\u094b \\u091b\\u0964 \\u092f\\u0938\\u094d\\u0924\\u094b \\u0905\\u0928\\u093f\\u092f\\u092e\\u093f\\u0924\\u0924\\u093e \\u0924\\u0925\\u093e \\u092c\\u0947\\u0925\\u093f\\u0924\\u093f\\u0932\\u0947 \\u0915\\u0930\\u094d\\u092e\\u091a\\u093e\\u0930\\u0940\\u092e\\u093e\\u0925\\u093f\\u0915\\u094b \\u0935\\u093f\\u092d\\u0947\\u0926 \\u0930 \\u0905\\u0938\\u092e\\u093e\\u0928 \\u0935\\u094d\\u092f\\u0935\\u0939\\u093e\\u0930 \\u092a\\u094d\\u0930\\u0915\\u091f \\u0939\\u0941\\u0928\\u094d\\u091b\\u0964 \\u0924\\u0938\\u0930\\u094d\\u0925 \\u092f\\u0938 \\u0935\\u093f\\u0937\\u092f \\u0909\\u092a\\u0930 \\u0917\\u092e\\u094d\\u092d\\u093f\\u0930\\u0924\\u093e\\u0915\\u093e \\u0938\\u093e\\u0925 \\u0927\\u094d\\u092f\\u093e\\u0928\\u093e\\u0915\\u0930\\u094d\\u0937\\u0923 \\u0939\\u094b\\u0938\\u094d \\u092d\\u0928\\u094d\\u0926\\u0948 File Attach \\u0917\\u0930\\u0947\\u0915\\u094b \\u091b\\u0941, \\u0906\\u0935\\u0936\\u094d\\u092f\\u0915 \\u0915\\u093e\\u092e, \\u0915\\u093e\\u0930\\u094d\\u092f\\u0935\\u093e\\u0939\\u0940 \\u0939\\u094b\\u0938\\u094d, \\u0935\\u093f\\u0928\\u092e\\u094d\\u0930\\u0924\\u0924\\u093e\\u0915\\u093e \\u0938\\u093e\\u0925 \\u0905\\u0928\\u0941\\u0930\\u094b\\u0927 \\u0917\\u0930\\u094d\\u091b\\u0941\\u0964 \\u0927\\u0928\\u094d\\u092f\\u0935\\u093e\\u0926 !!!\"\n        ],\n        \"semantic_type\": \"\",\n        \"description\": \"\"\n      }\n    }\n  ]\n}"
            }
          },
          "metadata": {},
          "execution_count": 22
        }
      ]
    },
    {
      "cell_type": "code",
      "execution_count": 23,
      "metadata": {
        "id": "Xdzfl2ZO96P0"
      },
      "outputs": [],
      "source": [
        "# Data Preprocessing\n",
        "nepali_stopwords = set(stopwords.words('nepali'))\n",
        "english_stopwords = set(stopwords.words('english'))\n",
        "def preprocess_text(text):\n",
        "    text = text.lower()\n",
        "    text = re.sub('[#\\\\/।(),०-९<<?!,—–’‘:\\u200d]', '', text)\n",
        "    text = text.strip('\"')\n",
        "\n",
        "    words = word_tokenize(text)\n",
        "    filtered_words = [word for word in words if word.lower() not in nepali_stopwords and word.lower() not in english_stopwords]\n",
        "    processed_text = ' '.join(filtered_words)\n",
        "    return processed_text\n",
        "\n"
      ]
    },
    {
      "cell_type": "code",
      "execution_count": 24,
      "metadata": {
        "id": "h_MsIALA99oZ"
      },
      "outputs": [],
      "source": [
        "df_final['गुनासो'] = df_final['गुनासो'].apply(preprocess_text)"
      ]
    },
    {
      "cell_type": "code",
      "execution_count": 25,
      "metadata": {
        "colab": {
          "base_uri": "https://localhost:8080/"
        },
        "id": "24E_4GM-9_Lr",
        "outputId": "8f011ede-305b-4683-fa69-f9162fc594b8"
      },
      "outputs": [
        {
          "output_type": "execute_result",
          "data": {
            "text/plain": [
              "वेबसाइट तथा अभिलेख व्यवस्थापन सम्बन्धी      2849\n",
              "सोधपुछ, सुझाव, प्रशंसा सम्बन्धी             2849\n",
              "पार्किङ्ग तथा मेट्रो पुलिस                  2849\n",
              "कर्मचारी सम्वन्धी                           2849\n",
              "अर्थ सबन्धी                                 2849\n",
              "खानेपानी                                    2849\n",
              "स्वास्थ्यसँग सम्बन्धी                       2849\n",
              "सूचना तथा संचार                             2849\n",
              "शान्ति सुरक्षा                              2849\n",
              "फोहोरमैला व्यवस्थापन                        2849\n",
              "निर्माण कार्य सम्बन्धी                      2849\n",
              "प्राकृतिक श्रोत/साधन सम्बन्धी               2849\n",
              "लागु पदार्थ सम्बन्धी                        2849\n",
              "अर्थिक अनियमितता तथा भ्रष्टाचार सम्बन्धी    2849\n",
              "Name: गुनासो वर्ग, dtype: int64"
            ]
          },
          "metadata": {},
          "execution_count": 25
        }
      ],
      "source": [
        "\n",
        "df_final['गुनासो वर्ग'].value_counts()"
      ]
    },
    {
      "cell_type": "code",
      "execution_count": 26,
      "metadata": {
        "id": "gcHmF_CN-A9m"
      },
      "outputs": [],
      "source": [
        "label_encoder = LabelEncoder()\n",
        "df_final['encoded_labels'] = label_encoder.fit_transform(df_final['गुनासो वर्ग'])"
      ]
    },
    {
      "cell_type": "code",
      "execution_count": 27,
      "metadata": {
        "colab": {
          "base_uri": "https://localhost:8080/",
          "height": 206
        },
        "id": "MnGK_vkW-CYb",
        "outputId": "a794dab3-d2e3-4b59-a36e-cca07f5e82f2"
      },
      "outputs": [
        {
          "output_type": "execute_result",
          "data": {
            "text/plain": [
              "                                 गुनासो वर्ग  \\\n",
              "6361  वेबसाइट तथा अभिलेख व्यवस्थापन सम्बन्धी   \n",
              "6362  वेबसाइट तथा अभिलेख व्यवस्थापन सम्बन्धी   \n",
              "6363  वेबसाइट तथा अभिलेख व्यवस्थापन सम्बन्धी   \n",
              "6364  वेबसाइट तथा अभिलेख व्यवस्थापन सम्बन्धी   \n",
              "6365  वेबसाइट तथा अभिलेख व्यवस्थापन सम्बन्धी   \n",
              "\n",
              "                                                 गुनासो  encoded_labels  \n",
              "6361                            अछाम जिल्ला रेकर्ड भन्छ               9  \n",
              "6362               अझ यसमा लाईसेन्सको थप्न पाए हुन्थ्यो               9  \n",
              "6363  अपडेट नभएको सर नागरिक apps माथी उल्लेखित न.हान...               9  \n",
              "6364        अञ्चल लेख्न लेख्नी बाघ मति मात्रै आउनुपर्ने               9  \n",
              "6365  अधिकृत छैठौको भोली फम भर्ने अन्तिम मिति हिजो क...               9  "
            ],
            "text/html": [
              "\n",
              "  <div id=\"df-784d597e-0e71-46f8-abda-9f8e5f67f222\" class=\"colab-df-container\">\n",
              "    <div>\n",
              "<style scoped>\n",
              "    .dataframe tbody tr th:only-of-type {\n",
              "        vertical-align: middle;\n",
              "    }\n",
              "\n",
              "    .dataframe tbody tr th {\n",
              "        vertical-align: top;\n",
              "    }\n",
              "\n",
              "    .dataframe thead th {\n",
              "        text-align: right;\n",
              "    }\n",
              "</style>\n",
              "<table border=\"1\" class=\"dataframe\">\n",
              "  <thead>\n",
              "    <tr style=\"text-align: right;\">\n",
              "      <th></th>\n",
              "      <th>गुनासो वर्ग</th>\n",
              "      <th>गुनासो</th>\n",
              "      <th>encoded_labels</th>\n",
              "    </tr>\n",
              "  </thead>\n",
              "  <tbody>\n",
              "    <tr>\n",
              "      <th>6361</th>\n",
              "      <td>वेबसाइट तथा अभिलेख व्यवस्थापन सम्बन्धी</td>\n",
              "      <td>अछाम जिल्ला रेकर्ड भन्छ</td>\n",
              "      <td>9</td>\n",
              "    </tr>\n",
              "    <tr>\n",
              "      <th>6362</th>\n",
              "      <td>वेबसाइट तथा अभिलेख व्यवस्थापन सम्बन्धी</td>\n",
              "      <td>अझ यसमा लाईसेन्सको थप्न पाए हुन्थ्यो</td>\n",
              "      <td>9</td>\n",
              "    </tr>\n",
              "    <tr>\n",
              "      <th>6363</th>\n",
              "      <td>वेबसाइट तथा अभिलेख व्यवस्थापन सम्बन्धी</td>\n",
              "      <td>अपडेट नभएको सर नागरिक apps माथी उल्लेखित न.हान...</td>\n",
              "      <td>9</td>\n",
              "    </tr>\n",
              "    <tr>\n",
              "      <th>6364</th>\n",
              "      <td>वेबसाइट तथा अभिलेख व्यवस्थापन सम्बन्धी</td>\n",
              "      <td>अञ्चल लेख्न लेख्नी बाघ मति मात्रै आउनुपर्ने</td>\n",
              "      <td>9</td>\n",
              "    </tr>\n",
              "    <tr>\n",
              "      <th>6365</th>\n",
              "      <td>वेबसाइट तथा अभिलेख व्यवस्थापन सम्बन्धी</td>\n",
              "      <td>अधिकृत छैठौको भोली फम भर्ने अन्तिम मिति हिजो क...</td>\n",
              "      <td>9</td>\n",
              "    </tr>\n",
              "  </tbody>\n",
              "</table>\n",
              "</div>\n",
              "    <div class=\"colab-df-buttons\">\n",
              "\n",
              "  <div class=\"colab-df-container\">\n",
              "    <button class=\"colab-df-convert\" onclick=\"convertToInteractive('df-784d597e-0e71-46f8-abda-9f8e5f67f222')\"\n",
              "            title=\"Convert this dataframe to an interactive table.\"\n",
              "            style=\"display:none;\">\n",
              "\n",
              "  <svg xmlns=\"http://www.w3.org/2000/svg\" height=\"24px\" viewBox=\"0 -960 960 960\">\n",
              "    <path d=\"M120-120v-720h720v720H120Zm60-500h600v-160H180v160Zm220 220h160v-160H400v160Zm0 220h160v-160H400v160ZM180-400h160v-160H180v160Zm440 0h160v-160H620v160ZM180-180h160v-160H180v160Zm440 0h160v-160H620v160Z\"/>\n",
              "  </svg>\n",
              "    </button>\n",
              "\n",
              "  <style>\n",
              "    .colab-df-container {\n",
              "      display:flex;\n",
              "      gap: 12px;\n",
              "    }\n",
              "\n",
              "    .colab-df-convert {\n",
              "      background-color: #E8F0FE;\n",
              "      border: none;\n",
              "      border-radius: 50%;\n",
              "      cursor: pointer;\n",
              "      display: none;\n",
              "      fill: #1967D2;\n",
              "      height: 32px;\n",
              "      padding: 0 0 0 0;\n",
              "      width: 32px;\n",
              "    }\n",
              "\n",
              "    .colab-df-convert:hover {\n",
              "      background-color: #E2EBFA;\n",
              "      box-shadow: 0px 1px 2px rgba(60, 64, 67, 0.3), 0px 1px 3px 1px rgba(60, 64, 67, 0.15);\n",
              "      fill: #174EA6;\n",
              "    }\n",
              "\n",
              "    .colab-df-buttons div {\n",
              "      margin-bottom: 4px;\n",
              "    }\n",
              "\n",
              "    [theme=dark] .colab-df-convert {\n",
              "      background-color: #3B4455;\n",
              "      fill: #D2E3FC;\n",
              "    }\n",
              "\n",
              "    [theme=dark] .colab-df-convert:hover {\n",
              "      background-color: #434B5C;\n",
              "      box-shadow: 0px 1px 3px 1px rgba(0, 0, 0, 0.15);\n",
              "      filter: drop-shadow(0px 1px 2px rgba(0, 0, 0, 0.3));\n",
              "      fill: #FFFFFF;\n",
              "    }\n",
              "  </style>\n",
              "\n",
              "    <script>\n",
              "      const buttonEl =\n",
              "        document.querySelector('#df-784d597e-0e71-46f8-abda-9f8e5f67f222 button.colab-df-convert');\n",
              "      buttonEl.style.display =\n",
              "        google.colab.kernel.accessAllowed ? 'block' : 'none';\n",
              "\n",
              "      async function convertToInteractive(key) {\n",
              "        const element = document.querySelector('#df-784d597e-0e71-46f8-abda-9f8e5f67f222');\n",
              "        const dataTable =\n",
              "          await google.colab.kernel.invokeFunction('convertToInteractive',\n",
              "                                                    [key], {});\n",
              "        if (!dataTable) return;\n",
              "\n",
              "        const docLinkHtml = 'Like what you see? Visit the ' +\n",
              "          '<a target=\"_blank\" href=https://colab.research.google.com/notebooks/data_table.ipynb>data table notebook</a>'\n",
              "          + ' to learn more about interactive tables.';\n",
              "        element.innerHTML = '';\n",
              "        dataTable['output_type'] = 'display_data';\n",
              "        await google.colab.output.renderOutput(dataTable, element);\n",
              "        const docLink = document.createElement('div');\n",
              "        docLink.innerHTML = docLinkHtml;\n",
              "        element.appendChild(docLink);\n",
              "      }\n",
              "    </script>\n",
              "  </div>\n",
              "\n",
              "\n",
              "<div id=\"df-33c7376d-8ebe-4ae5-9bdb-a4011f4b1110\">\n",
              "  <button class=\"colab-df-quickchart\" onclick=\"quickchart('df-33c7376d-8ebe-4ae5-9bdb-a4011f4b1110')\"\n",
              "            title=\"Suggest charts\"\n",
              "            style=\"display:none;\">\n",
              "\n",
              "<svg xmlns=\"http://www.w3.org/2000/svg\" height=\"24px\"viewBox=\"0 0 24 24\"\n",
              "     width=\"24px\">\n",
              "    <g>\n",
              "        <path d=\"M19 3H5c-1.1 0-2 .9-2 2v14c0 1.1.9 2 2 2h14c1.1 0 2-.9 2-2V5c0-1.1-.9-2-2-2zM9 17H7v-7h2v7zm4 0h-2V7h2v10zm4 0h-2v-4h2v4z\"/>\n",
              "    </g>\n",
              "</svg>\n",
              "  </button>\n",
              "\n",
              "<style>\n",
              "  .colab-df-quickchart {\n",
              "      --bg-color: #E8F0FE;\n",
              "      --fill-color: #1967D2;\n",
              "      --hover-bg-color: #E2EBFA;\n",
              "      --hover-fill-color: #174EA6;\n",
              "      --disabled-fill-color: #AAA;\n",
              "      --disabled-bg-color: #DDD;\n",
              "  }\n",
              "\n",
              "  [theme=dark] .colab-df-quickchart {\n",
              "      --bg-color: #3B4455;\n",
              "      --fill-color: #D2E3FC;\n",
              "      --hover-bg-color: #434B5C;\n",
              "      --hover-fill-color: #FFFFFF;\n",
              "      --disabled-bg-color: #3B4455;\n",
              "      --disabled-fill-color: #666;\n",
              "  }\n",
              "\n",
              "  .colab-df-quickchart {\n",
              "    background-color: var(--bg-color);\n",
              "    border: none;\n",
              "    border-radius: 50%;\n",
              "    cursor: pointer;\n",
              "    display: none;\n",
              "    fill: var(--fill-color);\n",
              "    height: 32px;\n",
              "    padding: 0;\n",
              "    width: 32px;\n",
              "  }\n",
              "\n",
              "  .colab-df-quickchart:hover {\n",
              "    background-color: var(--hover-bg-color);\n",
              "    box-shadow: 0 1px 2px rgba(60, 64, 67, 0.3), 0 1px 3px 1px rgba(60, 64, 67, 0.15);\n",
              "    fill: var(--button-hover-fill-color);\n",
              "  }\n",
              "\n",
              "  .colab-df-quickchart-complete:disabled,\n",
              "  .colab-df-quickchart-complete:disabled:hover {\n",
              "    background-color: var(--disabled-bg-color);\n",
              "    fill: var(--disabled-fill-color);\n",
              "    box-shadow: none;\n",
              "  }\n",
              "\n",
              "  .colab-df-spinner {\n",
              "    border: 2px solid var(--fill-color);\n",
              "    border-color: transparent;\n",
              "    border-bottom-color: var(--fill-color);\n",
              "    animation:\n",
              "      spin 1s steps(1) infinite;\n",
              "  }\n",
              "\n",
              "  @keyframes spin {\n",
              "    0% {\n",
              "      border-color: transparent;\n",
              "      border-bottom-color: var(--fill-color);\n",
              "      border-left-color: var(--fill-color);\n",
              "    }\n",
              "    20% {\n",
              "      border-color: transparent;\n",
              "      border-left-color: var(--fill-color);\n",
              "      border-top-color: var(--fill-color);\n",
              "    }\n",
              "    30% {\n",
              "      border-color: transparent;\n",
              "      border-left-color: var(--fill-color);\n",
              "      border-top-color: var(--fill-color);\n",
              "      border-right-color: var(--fill-color);\n",
              "    }\n",
              "    40% {\n",
              "      border-color: transparent;\n",
              "      border-right-color: var(--fill-color);\n",
              "      border-top-color: var(--fill-color);\n",
              "    }\n",
              "    60% {\n",
              "      border-color: transparent;\n",
              "      border-right-color: var(--fill-color);\n",
              "    }\n",
              "    80% {\n",
              "      border-color: transparent;\n",
              "      border-right-color: var(--fill-color);\n",
              "      border-bottom-color: var(--fill-color);\n",
              "    }\n",
              "    90% {\n",
              "      border-color: transparent;\n",
              "      border-bottom-color: var(--fill-color);\n",
              "    }\n",
              "  }\n",
              "</style>\n",
              "\n",
              "  <script>\n",
              "    async function quickchart(key) {\n",
              "      const quickchartButtonEl =\n",
              "        document.querySelector('#' + key + ' button');\n",
              "      quickchartButtonEl.disabled = true;  // To prevent multiple clicks.\n",
              "      quickchartButtonEl.classList.add('colab-df-spinner');\n",
              "      try {\n",
              "        const charts = await google.colab.kernel.invokeFunction(\n",
              "            'suggestCharts', [key], {});\n",
              "      } catch (error) {\n",
              "        console.error('Error during call to suggestCharts:', error);\n",
              "      }\n",
              "      quickchartButtonEl.classList.remove('colab-df-spinner');\n",
              "      quickchartButtonEl.classList.add('colab-df-quickchart-complete');\n",
              "    }\n",
              "    (() => {\n",
              "      let quickchartButtonEl =\n",
              "        document.querySelector('#df-33c7376d-8ebe-4ae5-9bdb-a4011f4b1110 button');\n",
              "      quickchartButtonEl.style.display =\n",
              "        google.colab.kernel.accessAllowed ? 'block' : 'none';\n",
              "    })();\n",
              "  </script>\n",
              "</div>\n",
              "\n",
              "    </div>\n",
              "  </div>\n"
            ],
            "application/vnd.google.colaboratory.intrinsic+json": {
              "type": "dataframe",
              "variable_name": "df_final",
              "summary": "{\n  \"name\": \"df_final\",\n  \"rows\": 39886,\n  \"fields\": [\n    {\n      \"column\": \"\\u0917\\u0941\\u0928\\u093e\\u0938\\u094b \\u0935\\u0930\\u094d\\u0917\",\n      \"properties\": {\n        \"dtype\": \"category\",\n        \"num_unique_values\": 14,\n        \"samples\": [\n          \"\\u092b\\u094b\\u0939\\u094b\\u0930\\u092e\\u0948\\u0932\\u093e \\u0935\\u094d\\u092f\\u0935\\u0938\\u094d\\u0925\\u093e\\u092a\\u0928\",\n          \"\\u092a\\u094d\\u0930\\u093e\\u0915\\u0943\\u0924\\u093f\\u0915 \\u0936\\u094d\\u0930\\u094b\\u0924/\\u0938\\u093e\\u0927\\u0928 \\u0938\\u092e\\u094d\\u092c\\u0928\\u094d\\u0927\\u0940\",\n          \"\\u0935\\u0947\\u092c\\u0938\\u093e\\u0907\\u091f \\u0924\\u0925\\u093e \\u0905\\u092d\\u093f\\u0932\\u0947\\u0916 \\u0935\\u094d\\u092f\\u0935\\u0938\\u094d\\u0925\\u093e\\u092a\\u0928 \\u0938\\u092e\\u094d\\u092c\\u0928\\u094d\\u0927\\u0940\"\n        ],\n        \"semantic_type\": \"\",\n        \"description\": \"\"\n      }\n    },\n    {\n      \"column\": \"\\u0917\\u0941\\u0928\\u093e\\u0938\\u094b\",\n      \"properties\": {\n        \"dtype\": \"category\",\n        \"num_unique_values\": 11187,\n        \"samples\": [\n          \"\\u0936\\u094d\\u0930\\u0940\\u092e\\u093e\\u0928 \\\\nnagik app \\u092a\\u094d\\u0930\\u0938\\u094d\\u0924\\u0941\\u0924 \\u092e\\u0924\\u0926\\u093e\\u0924\\u093e \\u092a\\u0930\\u093f\\u091a\\u092f\\u092a\\u0924\\u094d\\u0930 \\u092e\\u093e\\\\n\\u0928\\u093e . \\u092a\\u094d\\u0930 . \\u091c\\u093f\\u0932\\u094d\\u0932\\u093e - \\u0915\\u0928\\u094d\\u091a\\u0928\\u092a\\u0941\\u0930 \\u0928\\u092d\\u0910\\u0930 \\u092c\\u0948\\u0924\\u0921\\u0940 \\u0939\\u0941\\u0928\\u0941\\u092a\\u0930\\u094d\\u0928\\u0947\\\\n\\u092c\\u093e\\u092c\\u0942\\u0906\\u092e\\u093e\\u0915\\u094b \\u0928\\u093e\\u092e - \\u091c\\u0928\\u0915 \\u0915\\u0947\\u0909\\u0930\\u093e \\u0926\\u0947\\u0935\\u0940\\\\n\\u0920\\u0947\\u0917\\u093e\\u0928\\u093e - \\u092d\\u093f\\u092e\\u094d\\u0926\\u0924\\u094d\\u0924 \\u0928\\u0917\\u0930\\u092a\\u093e\\u0932\\u093f\\u0915\\u093e -10 \\u0915\\u0928\\u094d\\u091a\\u0928\\u092a\\u0941\\u0930\\\\n\\u092e\\u0924\\u0926\\u093e\\u0924\\u093e \\u0938\\u094d\\u0925\\u0932 - \\u0938\\u093f\\u0926\\u094d\\u0927\\u0928\\u093e\\u0925 . \\u0935\\u093f \\u091c\\u093f\\u092e\\u0941\\u0935\\u093e\\\\n \\u0939\\u0941\\u0928\\u0941\\u092a\\u0930\\u094d\\u0928\\u0947 narik app \\u0905\\u0930\\u094d\\u0915\\u0948 \\u0926\\u0947\\u0916\\u093e\\u0909\\u0926\\u0948\",\n          \"\\u092e\\u093f\\u0924\\u093f \\u0905\\u0938\\u093e\\u0930 \\u0917\\u0924\\u0947 \\u092c\\u0938\\u0947\\u0915\\u094b \\u0917\\u0941\\u0923\\u0938\\u094d\\u0924\\u0930 \\u092a\\u0930\\u093f\\u0937\\u0926\\u0915\\u094b \\u092c\\u0948\\u0920\\u0915 \\u0938\\u093f\\u092e\\u0947\\u0928\\u094d\\u091f \\u0917\\u0941\\u0923\\u0938\\u094d\\u0924\\u0930 \\u0938\\u092e\\u094d\\u092c\\u0928\\u094d\\u0927\\u0940 \\u091b\\u093e\\u0928\\u092c\\u093f\\u0928 \\u0906\\u0935\\u0936\\u094d\\u092f\\u0915 \\u0915\\u093e\\u0928\\u0942\\u0928\\u0940 \\u0915\\u093e\\u0930\\u092c\\u093e\\u0939\\u0940\\u0915\\u094b \\u0932\\u093e\\u0917\\u0940 \\u0938\\u0941\\u091d\\u093e\\u092c \\u092a\\u094d\\u0930\\u093e\\u092a\\u094d\\u0924\",\n          \"\\u0917\\u0948\\u0930\\u093f\\u0927\\u093e\\u0930\\u093e \\u0938\\u0930\\u0938\\u094d\\u0935\\u0924\\u093f \\u0925\\u093e\\u0928 \\u091c\\u093e\\u0928\\u0947 \\u092c\\u093e\\u091f\\u094b \\u092c\\u093f\\u0917\\u094d\\u0930\\u093f\\u090f\\u0915\\u094b \\u092c\\u093e\\u091f\\u094b \\u092e\\u0930\\u094d\\u092e\\u0924 \\u0917\\u0930\\u093f\\u0926\\u093f\\u0928\\u0941\\u0939\\u0941\\u0928 \\u0905\\u0928\\u0941\\u0930\\u094b\\u0927\"\n        ],\n        \"semantic_type\": \"\",\n        \"description\": \"\"\n      }\n    },\n    {\n      \"column\": \"encoded_labels\",\n      \"properties\": {\n        \"dtype\": \"number\",\n        \"std\": 4,\n        \"min\": 0,\n        \"max\": 13,\n        \"num_unique_values\": 14,\n        \"samples\": [\n          7,\n          6,\n          9\n        ],\n        \"semantic_type\": \"\",\n        \"description\": \"\"\n      }\n    }\n  ]\n}"
            }
          },
          "metadata": {},
          "execution_count": 27
        }
      ],
      "source": [
        "df_final.head()"
      ]
    },
    {
      "cell_type": "code",
      "execution_count": 28,
      "metadata": {
        "colab": {
          "base_uri": "https://localhost:8080/",
          "height": 206
        },
        "id": "Zg7clHV2-EDG",
        "outputId": "d79e8b0a-2589-4e70-934f-f9146f37c70a"
      },
      "outputs": [
        {
          "output_type": "execute_result",
          "data": {
            "text/plain": [
              "                                   गुनासो वर्ग  \\\n",
              "2844  अर्थिक अनियमितता तथा भ्रष्टाचार सम्बन्धी   \n",
              "2845  अर्थिक अनियमितता तथा भ्रष्टाचार सम्बन्धी   \n",
              "2846  अर्थिक अनियमितता तथा भ्रष्टाचार सम्बन्धी   \n",
              "2847  अर्थिक अनियमितता तथा भ्रष्टाचार सम्बन्धी   \n",
              "2848  अर्थिक अनियमितता तथा भ्रष्टाचार सम्बन्धी   \n",
              "\n",
              "                                                 गुनासो  encoded_labels  \n",
              "2844  मकवानपुरका एसपी सोमेन्द्रसिंह राठौरले हवल्दार ...               1  \n",
              "2845  कर चुक्ता लिन जादा प्रती कर चुक्ता 2000 नभइ कर...               1  \n",
              "2846  कपिलवस्तु पिपरा चेकपोस्टमा ट्राफिक प्रहरी जवान...               1  \n",
              "2847  डडेल्धुरा अस्पताल डडेल्धुरामा कार्यरत हिरा कुम...               1  \n",
              "2848  पाँचथर जिल्ला अस्पतालमा कर्मचारी राख्दा अनियमि...               1  "
            ],
            "text/html": [
              "\n",
              "  <div id=\"df-ba3400b0-ec32-4495-a66d-37ec22e620eb\" class=\"colab-df-container\">\n",
              "    <div>\n",
              "<style scoped>\n",
              "    .dataframe tbody tr th:only-of-type {\n",
              "        vertical-align: middle;\n",
              "    }\n",
              "\n",
              "    .dataframe tbody tr th {\n",
              "        vertical-align: top;\n",
              "    }\n",
              "\n",
              "    .dataframe thead th {\n",
              "        text-align: right;\n",
              "    }\n",
              "</style>\n",
              "<table border=\"1\" class=\"dataframe\">\n",
              "  <thead>\n",
              "    <tr style=\"text-align: right;\">\n",
              "      <th></th>\n",
              "      <th>गुनासो वर्ग</th>\n",
              "      <th>गुनासो</th>\n",
              "      <th>encoded_labels</th>\n",
              "    </tr>\n",
              "  </thead>\n",
              "  <tbody>\n",
              "    <tr>\n",
              "      <th>2844</th>\n",
              "      <td>अर्थिक अनियमितता तथा भ्रष्टाचार सम्बन्धी</td>\n",
              "      <td>मकवानपुरका एसपी सोमेन्द्रसिंह राठौरले हवल्दार ...</td>\n",
              "      <td>1</td>\n",
              "    </tr>\n",
              "    <tr>\n",
              "      <th>2845</th>\n",
              "      <td>अर्थिक अनियमितता तथा भ्रष्टाचार सम्बन्धी</td>\n",
              "      <td>कर चुक्ता लिन जादा प्रती कर चुक्ता 2000 नभइ कर...</td>\n",
              "      <td>1</td>\n",
              "    </tr>\n",
              "    <tr>\n",
              "      <th>2846</th>\n",
              "      <td>अर्थिक अनियमितता तथा भ्रष्टाचार सम्बन्धी</td>\n",
              "      <td>कपिलवस्तु पिपरा चेकपोस्टमा ट्राफिक प्रहरी जवान...</td>\n",
              "      <td>1</td>\n",
              "    </tr>\n",
              "    <tr>\n",
              "      <th>2847</th>\n",
              "      <td>अर्थिक अनियमितता तथा भ्रष्टाचार सम्बन्धी</td>\n",
              "      <td>डडेल्धुरा अस्पताल डडेल्धुरामा कार्यरत हिरा कुम...</td>\n",
              "      <td>1</td>\n",
              "    </tr>\n",
              "    <tr>\n",
              "      <th>2848</th>\n",
              "      <td>अर्थिक अनियमितता तथा भ्रष्टाचार सम्बन्धी</td>\n",
              "      <td>पाँचथर जिल्ला अस्पतालमा कर्मचारी राख्दा अनियमि...</td>\n",
              "      <td>1</td>\n",
              "    </tr>\n",
              "  </tbody>\n",
              "</table>\n",
              "</div>\n",
              "    <div class=\"colab-df-buttons\">\n",
              "\n",
              "  <div class=\"colab-df-container\">\n",
              "    <button class=\"colab-df-convert\" onclick=\"convertToInteractive('df-ba3400b0-ec32-4495-a66d-37ec22e620eb')\"\n",
              "            title=\"Convert this dataframe to an interactive table.\"\n",
              "            style=\"display:none;\">\n",
              "\n",
              "  <svg xmlns=\"http://www.w3.org/2000/svg\" height=\"24px\" viewBox=\"0 -960 960 960\">\n",
              "    <path d=\"M120-120v-720h720v720H120Zm60-500h600v-160H180v160Zm220 220h160v-160H400v160Zm0 220h160v-160H400v160ZM180-400h160v-160H180v160Zm440 0h160v-160H620v160ZM180-180h160v-160H180v160Zm440 0h160v-160H620v160Z\"/>\n",
              "  </svg>\n",
              "    </button>\n",
              "\n",
              "  <style>\n",
              "    .colab-df-container {\n",
              "      display:flex;\n",
              "      gap: 12px;\n",
              "    }\n",
              "\n",
              "    .colab-df-convert {\n",
              "      background-color: #E8F0FE;\n",
              "      border: none;\n",
              "      border-radius: 50%;\n",
              "      cursor: pointer;\n",
              "      display: none;\n",
              "      fill: #1967D2;\n",
              "      height: 32px;\n",
              "      padding: 0 0 0 0;\n",
              "      width: 32px;\n",
              "    }\n",
              "\n",
              "    .colab-df-convert:hover {\n",
              "      background-color: #E2EBFA;\n",
              "      box-shadow: 0px 1px 2px rgba(60, 64, 67, 0.3), 0px 1px 3px 1px rgba(60, 64, 67, 0.15);\n",
              "      fill: #174EA6;\n",
              "    }\n",
              "\n",
              "    .colab-df-buttons div {\n",
              "      margin-bottom: 4px;\n",
              "    }\n",
              "\n",
              "    [theme=dark] .colab-df-convert {\n",
              "      background-color: #3B4455;\n",
              "      fill: #D2E3FC;\n",
              "    }\n",
              "\n",
              "    [theme=dark] .colab-df-convert:hover {\n",
              "      background-color: #434B5C;\n",
              "      box-shadow: 0px 1px 3px 1px rgba(0, 0, 0, 0.15);\n",
              "      filter: drop-shadow(0px 1px 2px rgba(0, 0, 0, 0.3));\n",
              "      fill: #FFFFFF;\n",
              "    }\n",
              "  </style>\n",
              "\n",
              "    <script>\n",
              "      const buttonEl =\n",
              "        document.querySelector('#df-ba3400b0-ec32-4495-a66d-37ec22e620eb button.colab-df-convert');\n",
              "      buttonEl.style.display =\n",
              "        google.colab.kernel.accessAllowed ? 'block' : 'none';\n",
              "\n",
              "      async function convertToInteractive(key) {\n",
              "        const element = document.querySelector('#df-ba3400b0-ec32-4495-a66d-37ec22e620eb');\n",
              "        const dataTable =\n",
              "          await google.colab.kernel.invokeFunction('convertToInteractive',\n",
              "                                                    [key], {});\n",
              "        if (!dataTable) return;\n",
              "\n",
              "        const docLinkHtml = 'Like what you see? Visit the ' +\n",
              "          '<a target=\"_blank\" href=https://colab.research.google.com/notebooks/data_table.ipynb>data table notebook</a>'\n",
              "          + ' to learn more about interactive tables.';\n",
              "        element.innerHTML = '';\n",
              "        dataTable['output_type'] = 'display_data';\n",
              "        await google.colab.output.renderOutput(dataTable, element);\n",
              "        const docLink = document.createElement('div');\n",
              "        docLink.innerHTML = docLinkHtml;\n",
              "        element.appendChild(docLink);\n",
              "      }\n",
              "    </script>\n",
              "  </div>\n",
              "\n",
              "\n",
              "<div id=\"df-499bfaec-4a54-420c-8e89-66ce60e31b92\">\n",
              "  <button class=\"colab-df-quickchart\" onclick=\"quickchart('df-499bfaec-4a54-420c-8e89-66ce60e31b92')\"\n",
              "            title=\"Suggest charts\"\n",
              "            style=\"display:none;\">\n",
              "\n",
              "<svg xmlns=\"http://www.w3.org/2000/svg\" height=\"24px\"viewBox=\"0 0 24 24\"\n",
              "     width=\"24px\">\n",
              "    <g>\n",
              "        <path d=\"M19 3H5c-1.1 0-2 .9-2 2v14c0 1.1.9 2 2 2h14c1.1 0 2-.9 2-2V5c0-1.1-.9-2-2-2zM9 17H7v-7h2v7zm4 0h-2V7h2v10zm4 0h-2v-4h2v4z\"/>\n",
              "    </g>\n",
              "</svg>\n",
              "  </button>\n",
              "\n",
              "<style>\n",
              "  .colab-df-quickchart {\n",
              "      --bg-color: #E8F0FE;\n",
              "      --fill-color: #1967D2;\n",
              "      --hover-bg-color: #E2EBFA;\n",
              "      --hover-fill-color: #174EA6;\n",
              "      --disabled-fill-color: #AAA;\n",
              "      --disabled-bg-color: #DDD;\n",
              "  }\n",
              "\n",
              "  [theme=dark] .colab-df-quickchart {\n",
              "      --bg-color: #3B4455;\n",
              "      --fill-color: #D2E3FC;\n",
              "      --hover-bg-color: #434B5C;\n",
              "      --hover-fill-color: #FFFFFF;\n",
              "      --disabled-bg-color: #3B4455;\n",
              "      --disabled-fill-color: #666;\n",
              "  }\n",
              "\n",
              "  .colab-df-quickchart {\n",
              "    background-color: var(--bg-color);\n",
              "    border: none;\n",
              "    border-radius: 50%;\n",
              "    cursor: pointer;\n",
              "    display: none;\n",
              "    fill: var(--fill-color);\n",
              "    height: 32px;\n",
              "    padding: 0;\n",
              "    width: 32px;\n",
              "  }\n",
              "\n",
              "  .colab-df-quickchart:hover {\n",
              "    background-color: var(--hover-bg-color);\n",
              "    box-shadow: 0 1px 2px rgba(60, 64, 67, 0.3), 0 1px 3px 1px rgba(60, 64, 67, 0.15);\n",
              "    fill: var(--button-hover-fill-color);\n",
              "  }\n",
              "\n",
              "  .colab-df-quickchart-complete:disabled,\n",
              "  .colab-df-quickchart-complete:disabled:hover {\n",
              "    background-color: var(--disabled-bg-color);\n",
              "    fill: var(--disabled-fill-color);\n",
              "    box-shadow: none;\n",
              "  }\n",
              "\n",
              "  .colab-df-spinner {\n",
              "    border: 2px solid var(--fill-color);\n",
              "    border-color: transparent;\n",
              "    border-bottom-color: var(--fill-color);\n",
              "    animation:\n",
              "      spin 1s steps(1) infinite;\n",
              "  }\n",
              "\n",
              "  @keyframes spin {\n",
              "    0% {\n",
              "      border-color: transparent;\n",
              "      border-bottom-color: var(--fill-color);\n",
              "      border-left-color: var(--fill-color);\n",
              "    }\n",
              "    20% {\n",
              "      border-color: transparent;\n",
              "      border-left-color: var(--fill-color);\n",
              "      border-top-color: var(--fill-color);\n",
              "    }\n",
              "    30% {\n",
              "      border-color: transparent;\n",
              "      border-left-color: var(--fill-color);\n",
              "      border-top-color: var(--fill-color);\n",
              "      border-right-color: var(--fill-color);\n",
              "    }\n",
              "    40% {\n",
              "      border-color: transparent;\n",
              "      border-right-color: var(--fill-color);\n",
              "      border-top-color: var(--fill-color);\n",
              "    }\n",
              "    60% {\n",
              "      border-color: transparent;\n",
              "      border-right-color: var(--fill-color);\n",
              "    }\n",
              "    80% {\n",
              "      border-color: transparent;\n",
              "      border-right-color: var(--fill-color);\n",
              "      border-bottom-color: var(--fill-color);\n",
              "    }\n",
              "    90% {\n",
              "      border-color: transparent;\n",
              "      border-bottom-color: var(--fill-color);\n",
              "    }\n",
              "  }\n",
              "</style>\n",
              "\n",
              "  <script>\n",
              "    async function quickchart(key) {\n",
              "      const quickchartButtonEl =\n",
              "        document.querySelector('#' + key + ' button');\n",
              "      quickchartButtonEl.disabled = true;  // To prevent multiple clicks.\n",
              "      quickchartButtonEl.classList.add('colab-df-spinner');\n",
              "      try {\n",
              "        const charts = await google.colab.kernel.invokeFunction(\n",
              "            'suggestCharts', [key], {});\n",
              "      } catch (error) {\n",
              "        console.error('Error during call to suggestCharts:', error);\n",
              "      }\n",
              "      quickchartButtonEl.classList.remove('colab-df-spinner');\n",
              "      quickchartButtonEl.classList.add('colab-df-quickchart-complete');\n",
              "    }\n",
              "    (() => {\n",
              "      let quickchartButtonEl =\n",
              "        document.querySelector('#df-499bfaec-4a54-420c-8e89-66ce60e31b92 button');\n",
              "      quickchartButtonEl.style.display =\n",
              "        google.colab.kernel.accessAllowed ? 'block' : 'none';\n",
              "    })();\n",
              "  </script>\n",
              "</div>\n",
              "\n",
              "    </div>\n",
              "  </div>\n"
            ],
            "application/vnd.google.colaboratory.intrinsic+json": {
              "type": "dataframe",
              "summary": "{\n  \"name\": \"df_final\",\n  \"rows\": 5,\n  \"fields\": [\n    {\n      \"column\": \"\\u0917\\u0941\\u0928\\u093e\\u0938\\u094b \\u0935\\u0930\\u094d\\u0917\",\n      \"properties\": {\n        \"dtype\": \"category\",\n        \"num_unique_values\": 1,\n        \"samples\": [\n          \"\\u0905\\u0930\\u094d\\u0925\\u093f\\u0915 \\u0905\\u0928\\u093f\\u092f\\u092e\\u093f\\u0924\\u0924\\u093e \\u0924\\u0925\\u093e \\u092d\\u094d\\u0930\\u0937\\u094d\\u091f\\u093e\\u091a\\u093e\\u0930 \\u0938\\u092e\\u094d\\u092c\\u0928\\u094d\\u0927\\u0940\"\n        ],\n        \"semantic_type\": \"\",\n        \"description\": \"\"\n      }\n    },\n    {\n      \"column\": \"\\u0917\\u0941\\u0928\\u093e\\u0938\\u094b\",\n      \"properties\": {\n        \"dtype\": \"string\",\n        \"num_unique_values\": 5,\n        \"samples\": [\n          \"\\u0915\\u0930 \\u091a\\u0941\\u0915\\u094d\\u0924\\u093e \\u0932\\u093f\\u0928 \\u091c\\u093e\\u0926\\u093e \\u092a\\u094d\\u0930\\u0924\\u0940 \\u0915\\u0930 \\u091a\\u0941\\u0915\\u094d\\u0924\\u093e 2000 \\u0928\\u092d\\u0907 \\u0915\\u0930 \\u091a\\u0941\\u0915\\u094d\\u0924\\u093e \\u092a\\u094d\\u0930\\u092e\\u093e\\u0923\\u092a\\u0924\\u094d\\u0930 \\u0928\\u0926\\u093f\\u0928\\u0947\"\n        ],\n        \"semantic_type\": \"\",\n        \"description\": \"\"\n      }\n    },\n    {\n      \"column\": \"encoded_labels\",\n      \"properties\": {\n        \"dtype\": \"number\",\n        \"std\": 0,\n        \"min\": 1,\n        \"max\": 1,\n        \"num_unique_values\": 1,\n        \"samples\": [\n          1\n        ],\n        \"semantic_type\": \"\",\n        \"description\": \"\"\n      }\n    }\n  ]\n}"
            }
          },
          "metadata": {},
          "execution_count": 28
        }
      ],
      "source": [
        "df_final.tail()"
      ]
    },
    {
      "cell_type": "code",
      "execution_count": 29,
      "metadata": {
        "id": "v3SDHKN6-FPB"
      },
      "outputs": [],
      "source": [
        "encodings = tokenizer(df_final['गुनासो'].tolist(), padding=True, truncation=True, max_length=512, return_tensors=\"pt\")"
      ]
    },
    {
      "cell_type": "code",
      "execution_count": 30,
      "metadata": {
        "id": "zYAXKhzu-Hpz"
      },
      "outputs": [],
      "source": [
        "train_indices, val_indices = train_test_split(np.arange(len(df_final)), test_size=0.1, stratify=df_final['encoded_labels'])\n"
      ]
    },
    {
      "cell_type": "code",
      "execution_count": 31,
      "metadata": {
        "id": "GIW2Easd-KUI"
      },
      "outputs": [],
      "source": [
        "# Custom dataset class\n",
        "class NepaliComplaintsDataset(Dataset):\n",
        "    def __init__(self, encodings, labels, indices):\n",
        "        self.encodings = {key: val[indices] for key, val in encodings.items()}\n",
        "        self.labels = labels[indices]\n",
        "\n",
        "    def __getitem__(self, idx):\n",
        "        item = {key: torch.tensor(val[idx]) for key, val in self.encodings.items()}\n",
        "        item['labels'] = torch.tensor(self.labels[idx], dtype=torch.long)\n",
        "        return item\n",
        "\n",
        "    def __len__(self):\n",
        "        return len(self.labels)"
      ]
    },
    {
      "cell_type": "code",
      "execution_count": 32,
      "metadata": {
        "id": "qaSH6HW_-MHh"
      },
      "outputs": [],
      "source": [
        "\n",
        "# Creating datasets\n",
        "train_dataset = NepaliComplaintsDataset(encodings, np.array(df_final['encoded_labels']), train_indices)\n",
        "val_dataset = NepaliComplaintsDataset(encodings, np.array(df_final['encoded_labels']), val_indices)"
      ]
    },
    {
      "cell_type": "code",
      "execution_count": 33,
      "metadata": {
        "id": "zWrCmweA-Nz8"
      },
      "outputs": [],
      "source": [
        "# DataLoader setup\n",
        "train_loader = DataLoader(train_dataset, batch_size=16, shuffle=True)\n",
        "val_loader = DataLoader(val_dataset, batch_size=16, shuffle=False)"
      ]
    },
    {
      "cell_type": "code",
      "execution_count": 34,
      "metadata": {
        "id": "4eU6CPHd-PL6"
      },
      "outputs": [],
      "source": [
        "num_labels = len(np.unique(df_final['encoded_labels']))\n"
      ]
    },
    {
      "cell_type": "code",
      "execution_count": 35,
      "metadata": {
        "colab": {
          "base_uri": "https://localhost:8080/"
        },
        "id": "4iOrF544-Qzz",
        "outputId": "43938883-bc5c-4d4f-ccdd-eba191307248"
      },
      "outputs": [
        {
          "output_type": "stream",
          "name": "stderr",
          "text": [
            "Some weights of BertForSequenceClassification were not initialized from the model checkpoint at google/muril-base-cased and are newly initialized: ['classifier.bias', 'classifier.weight']\n",
            "You should probably TRAIN this model on a down-stream task to be able to use it for predictions and inference.\n"
          ]
        }
      ],
      "source": [
        "model = AutoModelForSequenceClassification.from_pretrained(\"google/muril-base-cased\", num_labels=num_labels)\n"
      ]
    },
    {
      "cell_type": "code",
      "execution_count": 36,
      "metadata": {
        "id": "qIvUXoxX-SbJ"
      },
      "outputs": [],
      "source": [
        "from transformers import Trainer, TrainingArguments\n",
        "from transformers import DataCollatorWithPadding\n",
        "data_collator = DataCollatorWithPadding(tokenizer=tokenizer)\n",
        "\n"
      ]
    },
    {
      "cell_type": "code",
      "execution_count": 37,
      "metadata": {
        "colab": {
          "base_uri": "https://localhost:8080/"
        },
        "id": "rLDMrO7y-UB-",
        "outputId": "61074bbd-b0de-4148-e44d-ea342b532b01"
      },
      "outputs": [
        {
          "output_type": "stream",
          "name": "stdout",
          "text": [
            "nadika\n"
          ]
        }
      ],
      "source": [
        "!huggingface-cli whoami"
      ]
    },
    {
      "cell_type": "code",
      "source": [
        "# hub_model_id = \"nadika/nepali_complaints_classification\""
      ],
      "metadata": {
        "id": "QYIhc8Mj_4pQ"
      },
      "execution_count": 38,
      "outputs": []
    },
    {
      "cell_type": "code",
      "execution_count": 39,
      "metadata": {
        "id": "78QWkUHh-VZN"
      },
      "outputs": [],
      "source": [
        "training_args = TrainingArguments(\n",
        "    output_dir='nepali_complaints_classification_muril',          # Directory for saving model and outputs\n",
        "    num_train_epochs=4,              # Number of training epochs\n",
        "    per_device_train_batch_size=16,  # Batch size for training\n",
        "    per_device_eval_batch_size=16,   # Batch size for evaluation\n",
        "    warmup_steps=1000,                # Number of warmup steps\n",
        "    weight_decay=0.05,               # Weight decay rate #l2 regularization AdamW\n",
        "    logging_dir='./logs',            # Directory for logging\n",
        "    logging_steps=10,                # Log every X updates steps\n",
        "    evaluation_strategy=\"epoch\",     # Evaluate at the end of every epoch\n",
        "    save_strategy=\"epoch\",           # Save model at the end of every epoch\n",
        "    learning_rate=2e-5,\n",
        "    load_best_model_at_end=True,     # Load the best model at the end of training\n",
        "    metric_for_best_model=\"eval_loss\",  # Metric to optimize over\n",
        "    push_to_hub=True,\n",
        "    # hub_model_id=hub_model_id,\n",
        ")"
      ]
    },
    {
      "cell_type": "code",
      "source": [
        "# from sklearn.metrics import accuracy_score, precision_recall_fscore_support\n",
        "# def compute_metrics(pred):\n",
        "#     labels = pred.label_ids\n",
        "#     preds = pred.predictions.argmax(-1)\n",
        "#     precision, recall, f1, _ = precision_recall_fscore_support(labels, preds, average='weighted')\n",
        "#     acc = accuracy_score(labels, preds)\n",
        "#     return {\n",
        "#         'accuracy': acc,\n",
        "#         'f1': f1,\n",
        "#         'precision': precision,\n",
        "#         'recall': recall\n",
        "#     }\n"
      ],
      "metadata": {
        "id": "N7cXf7rYwY4j"
      },
      "execution_count": 40,
      "outputs": []
    },
    {
      "cell_type": "code",
      "execution_count": 41,
      "metadata": {
        "id": "MHhVYF0d-Wz2"
      },
      "outputs": [],
      "source": [
        "trainer = Trainer(\n",
        "    model=model,\n",
        "    args=training_args,\n",
        "    train_dataset=train_dataset,\n",
        "    eval_dataset=val_dataset,\n",
        "    data_collator=data_collator,\n",
        "    # compute_metrics=compute_metrics\n",
        ")"
      ]
    },
    {
      "cell_type": "code",
      "execution_count": 42,
      "metadata": {
        "id": "3B2HSe4u-YiU",
        "colab": {
          "base_uri": "https://localhost:8080/",
          "height": 412
        },
        "outputId": "4275cd3e-f2f0-4d64-e734-e4cca6677682"
      },
      "outputs": [
        {
          "output_type": "stream",
          "name": "stderr",
          "text": [
            "<ipython-input-31-1529dc6678a3>:8: UserWarning: To copy construct from a tensor, it is recommended to use sourceTensor.clone().detach() or sourceTensor.clone().detach().requires_grad_(True), rather than torch.tensor(sourceTensor).\n",
            "  item = {key: torch.tensor(val[idx]) for key, val in self.encodings.items()}\n"
          ]
        },
        {
          "output_type": "display_data",
          "data": {
            "text/plain": [
              "<IPython.core.display.HTML object>"
            ],
            "text/html": [
              "\n",
              "    <div>\n",
              "      \n",
              "      <progress value='8976' max='8976' style='width:300px; height:20px; vertical-align: middle;'></progress>\n",
              "      [8976/8976 1:13:30, Epoch 4/4]\n",
              "    </div>\n",
              "    <table border=\"1\" class=\"dataframe\">\n",
              "  <thead>\n",
              " <tr style=\"text-align: left;\">\n",
              "      <th>Epoch</th>\n",
              "      <th>Training Loss</th>\n",
              "      <th>Validation Loss</th>\n",
              "    </tr>\n",
              "  </thead>\n",
              "  <tbody>\n",
              "    <tr>\n",
              "      <td>1</td>\n",
              "      <td>0.916000</td>\n",
              "      <td>0.710256</td>\n",
              "    </tr>\n",
              "    <tr>\n",
              "      <td>2</td>\n",
              "      <td>0.272500</td>\n",
              "      <td>0.320635</td>\n",
              "    </tr>\n",
              "    <tr>\n",
              "      <td>3</td>\n",
              "      <td>0.167800</td>\n",
              "      <td>0.268524</td>\n",
              "    </tr>\n",
              "    <tr>\n",
              "      <td>4</td>\n",
              "      <td>0.204000</td>\n",
              "      <td>0.242388</td>\n",
              "    </tr>\n",
              "  </tbody>\n",
              "</table><p>"
            ]
          },
          "metadata": {}
        },
        {
          "output_type": "stream",
          "name": "stderr",
          "text": [
            "<ipython-input-31-1529dc6678a3>:8: UserWarning: To copy construct from a tensor, it is recommended to use sourceTensor.clone().detach() or sourceTensor.clone().detach().requires_grad_(True), rather than torch.tensor(sourceTensor).\n",
            "  item = {key: torch.tensor(val[idx]) for key, val in self.encodings.items()}\n",
            "<ipython-input-31-1529dc6678a3>:8: UserWarning: To copy construct from a tensor, it is recommended to use sourceTensor.clone().detach() or sourceTensor.clone().detach().requires_grad_(True), rather than torch.tensor(sourceTensor).\n",
            "  item = {key: torch.tensor(val[idx]) for key, val in self.encodings.items()}\n",
            "<ipython-input-31-1529dc6678a3>:8: UserWarning: To copy construct from a tensor, it is recommended to use sourceTensor.clone().detach() or sourceTensor.clone().detach().requires_grad_(True), rather than torch.tensor(sourceTensor).\n",
            "  item = {key: torch.tensor(val[idx]) for key, val in self.encodings.items()}\n"
          ]
        },
        {
          "output_type": "execute_result",
          "data": {
            "text/plain": [
              "TrainOutput(global_step=8976, training_loss=0.6452044372259242, metrics={'train_runtime': 4413.1078, 'train_samples_per_second': 32.537, 'train_steps_per_second': 2.034, 'total_flos': 3.778366070938829e+16, 'train_loss': 0.6452044372259242, 'epoch': 4.0})"
            ]
          },
          "metadata": {},
          "execution_count": 42
        }
      ],
      "source": [
        "trainer.train()"
      ]
    },
    {
      "cell_type": "code",
      "execution_count": 43,
      "metadata": {
        "id": "e4L9Hyqi-aNw",
        "colab": {
          "base_uri": "https://localhost:8080/",
          "height": 89
        },
        "outputId": "e315e62d-9ae0-4877-bca6-6d53cd884a96"
      },
      "outputs": [
        {
          "output_type": "execute_result",
          "data": {
            "text/plain": [
              "CommitInfo(commit_url='https://huggingface.co/Ashwini1412/nepali_complaints_classification_muril/commit/f7630e6ffb145498e24bb313b71bf14470acede8', commit_message='End of training', commit_description='', oid='f7630e6ffb145498e24bb313b71bf14470acede8', pr_url=None, pr_revision=None, pr_num=None)"
            ],
            "application/vnd.google.colaboratory.intrinsic+json": {
              "type": "string"
            }
          },
          "metadata": {},
          "execution_count": 43
        }
      ],
      "source": [
        "trainer.push_to_hub()"
      ]
    },
    {
      "cell_type": "code",
      "execution_count": 44,
      "metadata": {
        "colab": {
          "base_uri": "https://localhost:8080/",
          "height": 179
        },
        "id": "83uJ8PSb-cDb",
        "outputId": "6a2a1bac-e309-4120-ea45-f9954b5bdcc3"
      },
      "outputs": [
        {
          "output_type": "stream",
          "name": "stderr",
          "text": [
            "<ipython-input-31-1529dc6678a3>:8: UserWarning: To copy construct from a tensor, it is recommended to use sourceTensor.clone().detach() or sourceTensor.clone().detach().requires_grad_(True), rather than torch.tensor(sourceTensor).\n",
            "  item = {key: torch.tensor(val[idx]) for key, val in self.encodings.items()}\n"
          ]
        },
        {
          "output_type": "display_data",
          "data": {
            "text/plain": [
              "<IPython.core.display.HTML object>"
            ],
            "text/html": [
              "\n",
              "    <div>\n",
              "      \n",
              "      <progress value='250' max='250' style='width:300px; height:20px; vertical-align: middle;'></progress>\n",
              "      [250/250 00:37]\n",
              "    </div>\n",
              "    "
            ]
          },
          "metadata": {}
        },
        {
          "output_type": "execute_result",
          "data": {
            "text/plain": [
              "{'eval_loss': 0.24238833785057068,\n",
              " 'eval_runtime': 37.5769,\n",
              " 'eval_samples_per_second': 106.156,\n",
              " 'eval_steps_per_second': 6.653,\n",
              " 'epoch': 4.0}"
            ]
          },
          "metadata": {},
          "execution_count": 44
        }
      ],
      "source": [
        "trainer.evaluate()"
      ]
    },
    {
      "cell_type": "code",
      "execution_count": 67,
      "metadata": {
        "colab": {
          "base_uri": "https://localhost:8080/",
          "height": 121,
          "referenced_widgets": [
            "bbb79e434e024f148690bd02133d1439",
            "c7f6c0b1246242528529a987b116e0b8",
            "23d2e52db76d42b1ad6b6353e94c2203",
            "39318621ffe649819e84c5411abb2e43",
            "7ce3d4eed8734d2b8a096cffd41c63d6",
            "3260d198fb8d41739e2c73bc2af3e862",
            "859f7bc3c56d4c148bff7022947eff76",
            "b5d4735e060e4414b684ecb23d396554",
            "60a26924e1a748cf957f4358c517e2bf",
            "5f7d309708a44ca1b4e9b3fee5e04b2d",
            "7866518989d845be878d21a5066c68e3"
          ]
        },
        "id": "f3Yk9WCN-dhe",
        "outputId": "ad69baeb-0a54-44f8-a6cb-49426a1cdee7"
      },
      "outputs": [
        {
          "output_type": "display_data",
          "data": {
            "text/plain": [
              "README.md:   0%|          | 0.00/1.53k [00:00<?, ?B/s]"
            ],
            "application/vnd.jupyter.widget-view+json": {
              "version_major": 2,
              "version_minor": 0,
              "model_id": "bbb79e434e024f148690bd02133d1439"
            }
          },
          "metadata": {}
        },
        {
          "output_type": "execute_result",
          "data": {
            "text/plain": [
              "CommitInfo(commit_url='https://huggingface.co/Ashwini1412/nepali_complaints_classification_muril/commit/e40d2d13436e75031d1cbab15fa368d7df2ea4e3', commit_message='Upload tokenizer', commit_description='', oid='e40d2d13436e75031d1cbab15fa368d7df2ea4e3', pr_url=None, pr_revision=None, pr_num=None)"
            ],
            "application/vnd.google.colaboratory.intrinsic+json": {
              "type": "string"
            }
          },
          "metadata": {},
          "execution_count": 67
        }
      ],
      "source": [
        "tokenizer.push_to_hub(\"nadika/nepali_complaints_classification_muril\")"
      ]
    },
    {
      "cell_type": "code",
      "execution_count": 46,
      "metadata": {
        "colab": {
          "base_uri": "https://localhost:8080/"
        },
        "id": "MpiV4FGb-e8g",
        "outputId": "40904b0c-cf3e-48ef-bd50-b75dbd68d1ee"
      },
      "outputs": [
        {
          "output_type": "execute_result",
          "data": {
            "text/plain": [
              "{0: 'अर्थ सबन्धी',\n",
              " 1: 'अर्थिक अनियमितता तथा भ्रष्टाचार सम्बन्धी',\n",
              " 2: 'कर्मचारी सम्वन्धी',\n",
              " 3: 'खानेपानी',\n",
              " 4: 'निर्माण कार्य सम्बन्धी',\n",
              " 5: 'पार्किङ्ग तथा मेट्रो पुलिस',\n",
              " 6: 'प्राकृतिक श्रोत/साधन सम्बन्धी',\n",
              " 7: 'फोहोरमैला व्यवस्थापन',\n",
              " 8: 'लागु पदार्थ सम्बन्धी',\n",
              " 9: 'वेबसाइट तथा अभिलेख व्यवस्थापन सम्बन्धी',\n",
              " 10: 'शान्ति सुरक्षा',\n",
              " 11: 'सूचना तथा संचार',\n",
              " 12: 'सोधपुछ, सुझाव, प्रशंसा सम्बन्धी',\n",
              " 13: 'स्वास्थ्यसँग सम्बन्धी'}"
            ]
          },
          "metadata": {},
          "execution_count": 46
        }
      ],
      "source": [
        "labels = label_encoder.classes_  # This gets the ordered list of class names\n",
        "id2label = dict(enumerate(labels))\n",
        "id2label"
      ]
    },
    {
      "cell_type": "code",
      "execution_count": 47,
      "metadata": {
        "colab": {
          "base_uri": "https://localhost:8080/"
        },
        "id": "JplGUkPP-iFz",
        "outputId": "b3a8688f-eb3f-4817-d8fc-61c467fd3cb8"
      },
      "outputs": [
        {
          "output_type": "execute_result",
          "data": {
            "text/plain": [
              "{'अर्थ सबन्धी': 0,\n",
              " 'अर्थिक अनियमितता तथा भ्रष्टाचार सम्बन्धी': 1,\n",
              " 'कर्मचारी सम्वन्धी': 2,\n",
              " 'खानेपानी': 3,\n",
              " 'निर्माण कार्य सम्बन्धी': 4,\n",
              " 'पार्किङ्ग तथा मेट्रो पुलिस': 5,\n",
              " 'प्राकृतिक श्रोत/साधन सम्बन्धी': 6,\n",
              " 'फोहोरमैला व्यवस्थापन': 7,\n",
              " 'लागु पदार्थ सम्बन्धी': 8,\n",
              " 'वेबसाइट तथा अभिलेख व्यवस्थापन सम्बन्धी': 9,\n",
              " 'शान्ति सुरक्षा': 10,\n",
              " 'सूचना तथा संचार': 11,\n",
              " 'सोधपुछ, सुझाव, प्रशंसा सम्बन्धी': 12,\n",
              " 'स्वास्थ्यसँग सम्बन्धी': 13}"
            ]
          },
          "metadata": {},
          "execution_count": 47
        }
      ],
      "source": [
        "label2id = {label: id for id, label in id2label.items()}\n",
        "label2id"
      ]
    },
    {
      "cell_type": "code",
      "execution_count": 45,
      "metadata": {
        "colab": {
          "base_uri": "https://localhost:8080/"
        },
        "id": "XuAYu8UD-lE-",
        "outputId": "43fc4809-1934-43af-dbd3-a71e165f9dcd"
      },
      "outputs": [
        {
          "output_type": "execute_result",
          "data": {
            "text/plain": [
              "('./my_muril_model/tokenizer_config.json',\n",
              " './my_muril_model/special_tokens_map.json',\n",
              " './my_muril_model/vocab.txt',\n",
              " './my_muril_model/added_tokens.json',\n",
              " './my_muril_model/tokenizer.json')"
            ]
          },
          "metadata": {},
          "execution_count": 45
        }
      ],
      "source": [
        "model.save_pretrained('./my_muril_model')\n",
        "tokenizer.save_pretrained('./my_muril_model')"
      ]
    },
    {
      "cell_type": "code",
      "execution_count": 68,
      "metadata": {
        "id": "90ZFhgb6-nmP"
      },
      "outputs": [],
      "source": [
        "model_name=\"./my_muril_model\""
      ]
    },
    {
      "cell_type": "code",
      "execution_count": 69,
      "metadata": {
        "id": "iCZGZ-so-xIA"
      },
      "outputs": [],
      "source": [
        "from transformers import AutoConfig\n",
        "config = AutoConfig.from_pretrained(model_name)\n"
      ]
    },
    {
      "cell_type": "code",
      "execution_count": 70,
      "metadata": {
        "id": "GVW_ai3Q-y8g"
      },
      "outputs": [],
      "source": [
        "config.id2label = id2label\n",
        "config.label2id = label2id"
      ]
    },
    {
      "cell_type": "code",
      "execution_count": 71,
      "metadata": {
        "id": "3PExREyM-0gE"
      },
      "outputs": [],
      "source": [
        "model=AutoModelForSequenceClassification.from_pretrained(model_name)\n",
        "tokenizer=AutoTokenizer.from_pretrained(model_name)"
      ]
    },
    {
      "cell_type": "code",
      "execution_count": 72,
      "metadata": {
        "id": "TH6lBozw-2-n"
      },
      "outputs": [],
      "source": [
        "config.save_pretrained(model_name)"
      ]
    },
    {
      "cell_type": "code",
      "source": [
        "model_name=\"./my_muril_model\"\n",
        "model=AutoModelForSequenceClassification.from_pretrained(model_name)\n",
        "tokenizer=AutoTokenizer.from_pretrained(model_name)"
      ],
      "metadata": {
        "id": "HD6DhX0QllWK"
      },
      "execution_count": 73,
      "outputs": []
    },
    {
      "cell_type": "code",
      "execution_count": 74,
      "metadata": {
        "id": "MkPgOuwU-5tj"
      },
      "outputs": [],
      "source": [
        "repo_name=\"Ashwini1412/nepali_complaints_classification_muril\""
      ]
    },
    {
      "cell_type": "code",
      "execution_count": 75,
      "metadata": {
        "id": "k6TsjhWS-7ru",
        "colab": {
          "base_uri": "https://localhost:8080/",
          "height": 121,
          "referenced_widgets": [
            "c315d078dade4c89be51632269a9ce9f",
            "f4ebf300b5644a52a85299c15c112cb6",
            "5e4c150558af4956a9db48043ecad490",
            "33e6c339d4e74d338a20fa507dfe5dea",
            "5bb455cbba144dd7acfa42e869904520",
            "9cd029e6da9042cca258b99d7abe6809",
            "e5f91aea2fcf47ecb85b14031ba7d893",
            "ae30072a986e4e9d9a6cb9e0d6cf6ca6",
            "1a487a69763440d7acfaab589bcf29f1",
            "001528184d0c46fa9547ed2f4ab294fd",
            "cd1da6ae046b407e961bc8ce8b20ed18"
          ]
        },
        "outputId": "49d3ddef-5a4a-498d-98bc-63fe0a523d20"
      },
      "outputs": [
        {
          "output_type": "display_data",
          "data": {
            "text/plain": [
              "README.md:   0%|          | 0.00/1.53k [00:00<?, ?B/s]"
            ],
            "application/vnd.jupyter.widget-view+json": {
              "version_major": 2,
              "version_minor": 0,
              "model_id": "c315d078dade4c89be51632269a9ce9f"
            }
          },
          "metadata": {}
        },
        {
          "output_type": "execute_result",
          "data": {
            "text/plain": [
              "CommitInfo(commit_url='https://huggingface.co/Ashwini1412/nepali_complaints_classification_muril/commit/15fa958f27c1c82e368496d0162f2b09b4491fba', commit_message='Upload tokenizer', commit_description='', oid='15fa958f27c1c82e368496d0162f2b09b4491fba', pr_url=None, pr_revision=None, pr_num=None)"
            ],
            "application/vnd.google.colaboratory.intrinsic+json": {
              "type": "string"
            }
          },
          "metadata": {},
          "execution_count": 75
        }
      ],
      "source": [
        "model.push_to_hub(repo_name)\n",
        "tokenizer.push_to_hub(repo_name)"
      ]
    },
    {
      "cell_type": "code",
      "source": [
        "# model_id = \"nadika/nepali_complaints_classification\"  # replace with your model's repository name\n",
        "# tokenizer = AutoTokenizer.from_pretrained(model_id)\n",
        "# model = AutoModelForSequenceClassification.from_pretrained(model_id)"
      ],
      "metadata": {
        "id": "7xMeVV1GOPBa"
      },
      "execution_count": null,
      "outputs": []
    },
    {
      "cell_type": "code",
      "execution_count": 55,
      "metadata": {
        "id": "Y0QR-aPT-9Bt"
      },
      "outputs": [],
      "source": [
        "\n",
        "\n",
        "def preprocess_and_tokenize(text):\n",
        "    # Assuming the `preprocess_text` is your text cleaning and preprocessing function\n",
        "    # Make sure to include the preprocess_text function or adjust this part accordingly\n",
        "    processed_text = preprocess_text(text)  # Use your preprocessing here\n",
        "    encoded_input = tokenizer(processed_text, padding=True, truncation=True, max_length=512, return_tensors=\"pt\")\n",
        "    return encoded_input\n",
        "\n",
        "def predict(text):\n",
        "    # Preprocess and tokenize the text\n",
        "    encoded_input = preprocess_and_tokenize(text)\n",
        "\n",
        "    # Generate predictions\n",
        "    with torch.no_grad():\n",
        "        output = model(**encoded_input)\n",
        "\n",
        "    # The output is logits; apply softmax to get probabilities\n",
        "    probabilities = torch.nn.functional.softmax(output.logits, dim=-1)\n",
        "\n",
        "    # Convert probabilities to numpy for easier handling\n",
        "    probabilities = probabilities.detach().cpu().numpy()\n",
        "\n",
        "    # Get the most likely class index\n",
        "    predicted_class_idx = probabilities.argmax()\n",
        "\n",
        "    # Decode the predicted class index to the class name using the model's config\n",
        "    predicted_class = model.config.id2label[predicted_class_idx]\n",
        "    return predicted_class, probabilities[0][predicted_class_idx]\n",
        "\n",
        "\n"
      ]
    },
    {
      "cell_type": "code",
      "execution_count": 56,
      "metadata": {
        "colab": {
          "base_uri": "https://localhost:8080/"
        },
        "id": "RrZsbTi2_EFt",
        "outputId": "1c405932-c8a4-466b-a902-a860317d159a"
      },
      "outputs": [
        {
          "output_type": "stream",
          "name": "stdout",
          "text": [
            "Predicted Class: सोधपुछ, सुझाव, प्रशंसा सम्बन्धी, Probability: 0.709530770778656\n"
          ]
        }
      ],
      "source": [
        "# Example text for prediction\n",
        "new_text = \"यस महानगरपालिकाको सुनाकोठी नखिपोट नख्खुडोल गोकुल आवास कान्तिपुर कोलोनीका वासिन्दाले दिनरात यो धुंवाको सास कहिलेसम्म फेर्नुपर्ने हो हजुर?\"\n",
        "predicted_class, probability = predict(new_text)\n",
        "print(f\"Predicted Class: {predicted_class}, Probability: {probability}\")"
      ]
    },
    {
      "cell_type": "code",
      "source": [
        "# Example text for prediction\n",
        "new_text = \"सुनसरी जिल्ला इटहरी उप महानगर भित्र अवस्थित धरान पुग्ने यो बाटो । कुन ठेकेदारले यो काम गर्दा कति पैसा कुम्ल्याउन पाइने हो र आफ्नो निर्वाचन ताका खर्च भएको करोड उठाउन पाइन्छ भनेर त हैन ?\"\n",
        "predicted_class, probability = predict(new_text)\n",
        "print(f\"Predicted Class: {predicted_class}, Probability: {probability}\")"
      ],
      "metadata": {
        "colab": {
          "base_uri": "https://localhost:8080/"
        },
        "id": "Uo19dBzsQbu7",
        "outputId": "5115e8a9-46a9-4e9b-9597-93ca3aafa0f4"
      },
      "execution_count": 57,
      "outputs": [
        {
          "output_type": "stream",
          "name": "stdout",
          "text": [
            "Predicted Class: सोधपुछ, सुझाव, प्रशंसा सम्बन्धी, Probability: 0.9265208840370178\n"
          ]
        }
      ]
    },
    {
      "cell_type": "code",
      "source": [
        "# Example text for prediction\n",
        "new_text = \"इटहरीदेखि पूर्वाञ्चल विश्वविद्यालय, माेरङ हुँदै पूर्व जाने बाटाे जुन लालभित्तीमा गएर टुङ्गिन्छ, पिच गर्नुपर्‍याे। बीचमा दुइटा ठूला खाेला छन्, त्यसमा पुल हाल्नुपर्‍याे। याे बाटाेलाई वैकल्पिक राजमार्गकाे रुपमा विकास गर्नुप्रयो।\"\n",
        "predicted_class, probability = predict(new_text)\n",
        "print(f\"Predicted Class: {predicted_class}, Probability: {probability}\")"
      ],
      "metadata": {
        "colab": {
          "base_uri": "https://localhost:8080/"
        },
        "id": "8pV8bMEFQkR0",
        "outputId": "8f0ee8f5-a91e-46ff-9cc1-0a060bde3b9e"
      },
      "execution_count": 58,
      "outputs": [
        {
          "output_type": "stream",
          "name": "stdout",
          "text": [
            "Predicted Class: निर्माण कार्य सम्बन्धी, Probability: 0.9899699091911316\n"
          ]
        }
      ]
    },
    {
      "cell_type": "code",
      "source": [
        "# Example text for prediction\n",
        "new_text = \"मेयरले उपभोक्ता समितिसँग ३० प्रतिशत कमिसन लिएपछि विकासको काम गुणस्तरहीन, दबाब झेल्न नसकेर प्रशासकीय अधिकृतको भागाभाग। बाह्रबिसेका मेयरको मनोमानी- दोहोरीमा रमाइलो गरेको बिलसमेत नगरपालिकाबाटै भुक्तानी गर्न दबाब मेयरले उपभोक्ता समितिसँग ३० प्रतिशत कमिसन लिएपछि विकासको काम गुणस्तरहीन, दबाब झेल्न नसकेर प्रशासकीय अधिकृतको भागाभाग।\"\n",
        "predicted_class, probability = predict(new_text)\n",
        "print(f\"Predicted Class: {predicted_class}, Probability: {probability}\")"
      ],
      "metadata": {
        "colab": {
          "base_uri": "https://localhost:8080/"
        },
        "id": "ZDbepVdjQra1",
        "outputId": "58ec3ca4-f626-48db-9f5a-d6398fcb25c7"
      },
      "execution_count": 59,
      "outputs": [
        {
          "output_type": "stream",
          "name": "stdout",
          "text": [
            "Predicted Class: कर्मचारी सम्वन्धी, Probability: 0.7910566329956055\n"
          ]
        }
      ]
    },
    {
      "cell_type": "code",
      "execution_count": 60,
      "metadata": {
        "id": "8SQle7iu_Gdz"
      },
      "outputs": [],
      "source": [
        "val_loader = DataLoader(val_dataset, batch_size=16, shuffle=False)\n"
      ]
    },
    {
      "cell_type": "code",
      "source": [
        "device = torch.device(\"cuda\" if torch.cuda.is_available() else \"cpu\")\n",
        "print(f\"Using device: {device}\")"
      ],
      "metadata": {
        "colab": {
          "base_uri": "https://localhost:8080/"
        },
        "id": "UiIeig1EOT0u",
        "outputId": "0ca3d08a-16d3-4ee2-a30f-3c7a29b648f0"
      },
      "execution_count": 61,
      "outputs": [
        {
          "output_type": "stream",
          "name": "stdout",
          "text": [
            "Using device: cuda\n"
          ]
        }
      ]
    },
    {
      "cell_type": "code",
      "source": [
        "predictions = []\n",
        "labels = []\n",
        "\n",
        "with torch.no_grad():\n",
        "    for batch in val_loader:\n",
        "        inputs = batch['input_ids'].to(device)\n",
        "        attention_mask = batch['attention_mask'].to(device)\n",
        "        model.to(device)\n",
        "        output = model(inputs, attention_mask=attention_mask)\n",
        "        logits = output.logits.to(device)\n",
        "        preds = torch.argmax(logits, dim=-1).cpu().numpy()\n",
        "        predictions.extend(preds)\n",
        "        labels.extend(batch['labels'].cpu().numpy())"
      ],
      "metadata": {
        "colab": {
          "base_uri": "https://localhost:8080/"
        },
        "id": "UFjMxeh4OW5s",
        "outputId": "dc9b70d5-38a3-4b8b-994d-e9bc95310eaa"
      },
      "execution_count": 62,
      "outputs": [
        {
          "output_type": "stream",
          "name": "stderr",
          "text": [
            "<ipython-input-31-1529dc6678a3>:8: UserWarning: To copy construct from a tensor, it is recommended to use sourceTensor.clone().detach() or sourceTensor.clone().detach().requires_grad_(True), rather than torch.tensor(sourceTensor).\n",
            "  item = {key: torch.tensor(val[idx]) for key, val in self.encodings.items()}\n"
          ]
        }
      ]
    },
    {
      "cell_type": "code",
      "source": [
        "from sklearn.metrics import accuracy_score, precision_recall_fscore_support\n",
        "\n",
        "# Calculate accuracy\n",
        "accuracy = accuracy_score(labels, predictions)\n",
        "print(f\"Accuracy: {accuracy}\")\n",
        "\n",
        "# Calculate precision, recall, and F1 score\n",
        "precision, recall, f1, _ = precision_recall_fscore_support(labels, predictions, average='weighted')\n",
        "print(f\"Precision: {precision}\\nRecall: {recall}\\nF1 Score: {f1}\")\n"
      ],
      "metadata": {
        "colab": {
          "base_uri": "https://localhost:8080/"
        },
        "id": "y8nr3O9OOYvz",
        "outputId": "064c1220-4b3a-4b5e-8432-d4981b93b163"
      },
      "execution_count": 63,
      "outputs": [
        {
          "output_type": "stream",
          "name": "stdout",
          "text": [
            "Accuracy: 0.9450990223113562\n",
            "Precision: 0.9453147910161994\n",
            "Recall: 0.9450990223113562\n",
            "F1 Score: 0.9450354734260795\n"
          ]
        }
      ]
    },
    {
      "cell_type": "code",
      "source": [
        "import shutil\n",
        "from google.colab import files\n",
        "\n",
        "# Directory containing the saved model and tokenizer\n",
        "directory_path = './my_muril_model'\n",
        "\n",
        "# Zip the directory\n",
        "shutil.make_archive('my_muril_model', 'zip', directory_path)\n",
        "\n",
        "# Download the zip file\n",
        "files.download('my_muril_model.zip')"
      ],
      "metadata": {
        "id": "eXv-iOxzO7V9",
        "colab": {
          "base_uri": "https://localhost:8080/",
          "height": 34
        },
        "outputId": "a2d4c3c2-4f82-4336-8545-62c77750d36c"
      },
      "execution_count": 66,
      "outputs": [
        {
          "output_type": "display_data",
          "data": {
            "text/plain": [
              "<IPython.core.display.Javascript object>"
            ],
            "application/javascript": [
              "\n",
              "    async function download(id, filename, size) {\n",
              "      if (!google.colab.kernel.accessAllowed) {\n",
              "        return;\n",
              "      }\n",
              "      const div = document.createElement('div');\n",
              "      const label = document.createElement('label');\n",
              "      label.textContent = `Downloading \"${filename}\": `;\n",
              "      div.appendChild(label);\n",
              "      const progress = document.createElement('progress');\n",
              "      progress.max = size;\n",
              "      div.appendChild(progress);\n",
              "      document.body.appendChild(div);\n",
              "\n",
              "      const buffers = [];\n",
              "      let downloaded = 0;\n",
              "\n",
              "      const channel = await google.colab.kernel.comms.open(id);\n",
              "      // Send a message to notify the kernel that we're ready.\n",
              "      channel.send({})\n",
              "\n",
              "      for await (const message of channel.messages) {\n",
              "        // Send a message to notify the kernel that we're ready.\n",
              "        channel.send({})\n",
              "        if (message.buffers) {\n",
              "          for (const buffer of message.buffers) {\n",
              "            buffers.push(buffer);\n",
              "            downloaded += buffer.byteLength;\n",
              "            progress.value = downloaded;\n",
              "          }\n",
              "        }\n",
              "      }\n",
              "      const blob = new Blob(buffers, {type: 'application/binary'});\n",
              "      const a = document.createElement('a');\n",
              "      a.href = window.URL.createObjectURL(blob);\n",
              "      a.download = filename;\n",
              "      div.appendChild(a);\n",
              "      a.click();\n",
              "      div.remove();\n",
              "    }\n",
              "  "
            ]
          },
          "metadata": {}
        },
        {
          "output_type": "display_data",
          "data": {
            "text/plain": [
              "<IPython.core.display.Javascript object>"
            ],
            "application/javascript": [
              "download(\"download_902cb3cf-e943-4ae0-ad60-704bc2fa98f0\", \"my_muril_model.zip\", 885391802)"
            ]
          },
          "metadata": {}
        }
      ]
    },
    {
      "cell_type": "code",
      "source": [],
      "metadata": {
        "id": "ziLD2sLems2E"
      },
      "execution_count": null,
      "outputs": []
    }
  ],
  "metadata": {
    "colab": {
      "provenance": [],
      "machine_shape": "hm",
      "gpuType": "V100"
    },
    "kernelspec": {
      "display_name": "Python 3",
      "name": "python3"
    },
    "language_info": {
      "name": "python"
    },
    "widgets": {
      "application/vnd.jupyter.widget-state+json": {
        "9f20e5e349a543819da75bcf840b2831": {
          "model_module": "@jupyter-widgets/controls",
          "model_name": "VBoxModel",
          "model_module_version": "1.5.0",
          "state": {
            "_dom_classes": [],
            "_model_module": "@jupyter-widgets/controls",
            "_model_module_version": "1.5.0",
            "_model_name": "VBoxModel",
            "_view_count": null,
            "_view_module": "@jupyter-widgets/controls",
            "_view_module_version": "1.5.0",
            "_view_name": "VBoxView",
            "box_style": "",
            "children": [
              "IPY_MODEL_eecc6000e60e4a31a91b29a3c73a80a8",
              "IPY_MODEL_c1ae4676444e4d719cd6b639d2ccd78d",
              "IPY_MODEL_74933a70d0824e8e81aa6b02b983dd51",
              "IPY_MODEL_18ac5ab026324b458bdcdc7e5a710513"
            ],
            "layout": "IPY_MODEL_f33b7825142b46039e20cc9d18f9d208"
          }
        },
        "34fe0f2db532441f929d7bf494f38e8e": {
          "model_module": "@jupyter-widgets/controls",
          "model_name": "HTMLModel",
          "model_module_version": "1.5.0",
          "state": {
            "_dom_classes": [],
            "_model_module": "@jupyter-widgets/controls",
            "_model_module_version": "1.5.0",
            "_model_name": "HTMLModel",
            "_view_count": null,
            "_view_module": "@jupyter-widgets/controls",
            "_view_module_version": "1.5.0",
            "_view_name": "HTMLView",
            "description": "",
            "description_tooltip": null,
            "layout": "IPY_MODEL_826a9df9ddf04ba9bc8d3e2099ffa4bc",
            "placeholder": "​",
            "style": "IPY_MODEL_a2e8a919cdcc4528855d119017827317",
            "value": "<center> <img\nsrc=https://huggingface.co/front/assets/huggingface_logo-noborder.svg\nalt='Hugging Face'> <br> Copy a token from <a\nhref=\"https://huggingface.co/settings/tokens\" target=\"_blank\">your Hugging Face\ntokens page</a> and paste it below. <br> Immediately click login after copying\nyour token or it might be stored in plain text in this notebook file. </center>"
          }
        },
        "a5d04a07993d4efe987d877a5a91e831": {
          "model_module": "@jupyter-widgets/controls",
          "model_name": "PasswordModel",
          "model_module_version": "1.5.0",
          "state": {
            "_dom_classes": [],
            "_model_module": "@jupyter-widgets/controls",
            "_model_module_version": "1.5.0",
            "_model_name": "PasswordModel",
            "_view_count": null,
            "_view_module": "@jupyter-widgets/controls",
            "_view_module_version": "1.5.0",
            "_view_name": "PasswordView",
            "continuous_update": true,
            "description": "Token:",
            "description_tooltip": null,
            "disabled": false,
            "layout": "IPY_MODEL_2521f99718854184953d65df950b8741",
            "placeholder": "​",
            "style": "IPY_MODEL_5c26f7faa4a34dd9aaf44fdb1fdaaff5",
            "value": ""
          }
        },
        "9559e702704a4d28a79cb20b8ca3f954": {
          "model_module": "@jupyter-widgets/controls",
          "model_name": "CheckboxModel",
          "model_module_version": "1.5.0",
          "state": {
            "_dom_classes": [],
            "_model_module": "@jupyter-widgets/controls",
            "_model_module_version": "1.5.0",
            "_model_name": "CheckboxModel",
            "_view_count": null,
            "_view_module": "@jupyter-widgets/controls",
            "_view_module_version": "1.5.0",
            "_view_name": "CheckboxView",
            "description": "Add token as git credential?",
            "description_tooltip": null,
            "disabled": false,
            "indent": true,
            "layout": "IPY_MODEL_f7ace2412db0401391d5e7a1f4072624",
            "style": "IPY_MODEL_d5036546bcde4fd887c3cc21b71682e2",
            "value": true
          }
        },
        "b13f8ddcf6a343e983b3f974ce916725": {
          "model_module": "@jupyter-widgets/controls",
          "model_name": "ButtonModel",
          "model_module_version": "1.5.0",
          "state": {
            "_dom_classes": [],
            "_model_module": "@jupyter-widgets/controls",
            "_model_module_version": "1.5.0",
            "_model_name": "ButtonModel",
            "_view_count": null,
            "_view_module": "@jupyter-widgets/controls",
            "_view_module_version": "1.5.0",
            "_view_name": "ButtonView",
            "button_style": "",
            "description": "Login",
            "disabled": false,
            "icon": "",
            "layout": "IPY_MODEL_28d8e0802a7d4966986bb3af6faad2f9",
            "style": "IPY_MODEL_ad70a1afc83e4b5ca7e76633841be195",
            "tooltip": ""
          }
        },
        "fa58ce1e1b35404dae57e36798a1a8b3": {
          "model_module": "@jupyter-widgets/controls",
          "model_name": "HTMLModel",
          "model_module_version": "1.5.0",
          "state": {
            "_dom_classes": [],
            "_model_module": "@jupyter-widgets/controls",
            "_model_module_version": "1.5.0",
            "_model_name": "HTMLModel",
            "_view_count": null,
            "_view_module": "@jupyter-widgets/controls",
            "_view_module_version": "1.5.0",
            "_view_name": "HTMLView",
            "description": "",
            "description_tooltip": null,
            "layout": "IPY_MODEL_175d94c4916249f4a35d3723ba67e1a0",
            "placeholder": "​",
            "style": "IPY_MODEL_be321c06b97b458e832d049394b58613",
            "value": "\n<b>Pro Tip:</b> If you don't already have one, you can create a dedicated\n'notebooks' token with 'write' access, that you can then easily reuse for all\nnotebooks. </center>"
          }
        },
        "f33b7825142b46039e20cc9d18f9d208": {
          "model_module": "@jupyter-widgets/base",
          "model_name": "LayoutModel",
          "model_module_version": "1.2.0",
          "state": {
            "_model_module": "@jupyter-widgets/base",
            "_model_module_version": "1.2.0",
            "_model_name": "LayoutModel",
            "_view_count": null,
            "_view_module": "@jupyter-widgets/base",
            "_view_module_version": "1.2.0",
            "_view_name": "LayoutView",
            "align_content": null,
            "align_items": "center",
            "align_self": null,
            "border": null,
            "bottom": null,
            "display": "flex",
            "flex": null,
            "flex_flow": "column",
            "grid_area": null,
            "grid_auto_columns": null,
            "grid_auto_flow": null,
            "grid_auto_rows": null,
            "grid_column": null,
            "grid_gap": null,
            "grid_row": null,
            "grid_template_areas": null,
            "grid_template_columns": null,
            "grid_template_rows": null,
            "height": null,
            "justify_content": null,
            "justify_items": null,
            "left": null,
            "margin": null,
            "max_height": null,
            "max_width": null,
            "min_height": null,
            "min_width": null,
            "object_fit": null,
            "object_position": null,
            "order": null,
            "overflow": null,
            "overflow_x": null,
            "overflow_y": null,
            "padding": null,
            "right": null,
            "top": null,
            "visibility": null,
            "width": "50%"
          }
        },
        "826a9df9ddf04ba9bc8d3e2099ffa4bc": {
          "model_module": "@jupyter-widgets/base",
          "model_name": "LayoutModel",
          "model_module_version": "1.2.0",
          "state": {
            "_model_module": "@jupyter-widgets/base",
            "_model_module_version": "1.2.0",
            "_model_name": "LayoutModel",
            "_view_count": null,
            "_view_module": "@jupyter-widgets/base",
            "_view_module_version": "1.2.0",
            "_view_name": "LayoutView",
            "align_content": null,
            "align_items": null,
            "align_self": null,
            "border": null,
            "bottom": null,
            "display": null,
            "flex": null,
            "flex_flow": null,
            "grid_area": null,
            "grid_auto_columns": null,
            "grid_auto_flow": null,
            "grid_auto_rows": null,
            "grid_column": null,
            "grid_gap": null,
            "grid_row": null,
            "grid_template_areas": null,
            "grid_template_columns": null,
            "grid_template_rows": null,
            "height": null,
            "justify_content": null,
            "justify_items": null,
            "left": null,
            "margin": null,
            "max_height": null,
            "max_width": null,
            "min_height": null,
            "min_width": null,
            "object_fit": null,
            "object_position": null,
            "order": null,
            "overflow": null,
            "overflow_x": null,
            "overflow_y": null,
            "padding": null,
            "right": null,
            "top": null,
            "visibility": null,
            "width": null
          }
        },
        "a2e8a919cdcc4528855d119017827317": {
          "model_module": "@jupyter-widgets/controls",
          "model_name": "DescriptionStyleModel",
          "model_module_version": "1.5.0",
          "state": {
            "_model_module": "@jupyter-widgets/controls",
            "_model_module_version": "1.5.0",
            "_model_name": "DescriptionStyleModel",
            "_view_count": null,
            "_view_module": "@jupyter-widgets/base",
            "_view_module_version": "1.2.0",
            "_view_name": "StyleView",
            "description_width": ""
          }
        },
        "2521f99718854184953d65df950b8741": {
          "model_module": "@jupyter-widgets/base",
          "model_name": "LayoutModel",
          "model_module_version": "1.2.0",
          "state": {
            "_model_module": "@jupyter-widgets/base",
            "_model_module_version": "1.2.0",
            "_model_name": "LayoutModel",
            "_view_count": null,
            "_view_module": "@jupyter-widgets/base",
            "_view_module_version": "1.2.0",
            "_view_name": "LayoutView",
            "align_content": null,
            "align_items": null,
            "align_self": null,
            "border": null,
            "bottom": null,
            "display": null,
            "flex": null,
            "flex_flow": null,
            "grid_area": null,
            "grid_auto_columns": null,
            "grid_auto_flow": null,
            "grid_auto_rows": null,
            "grid_column": null,
            "grid_gap": null,
            "grid_row": null,
            "grid_template_areas": null,
            "grid_template_columns": null,
            "grid_template_rows": null,
            "height": null,
            "justify_content": null,
            "justify_items": null,
            "left": null,
            "margin": null,
            "max_height": null,
            "max_width": null,
            "min_height": null,
            "min_width": null,
            "object_fit": null,
            "object_position": null,
            "order": null,
            "overflow": null,
            "overflow_x": null,
            "overflow_y": null,
            "padding": null,
            "right": null,
            "top": null,
            "visibility": null,
            "width": null
          }
        },
        "5c26f7faa4a34dd9aaf44fdb1fdaaff5": {
          "model_module": "@jupyter-widgets/controls",
          "model_name": "DescriptionStyleModel",
          "model_module_version": "1.5.0",
          "state": {
            "_model_module": "@jupyter-widgets/controls",
            "_model_module_version": "1.5.0",
            "_model_name": "DescriptionStyleModel",
            "_view_count": null,
            "_view_module": "@jupyter-widgets/base",
            "_view_module_version": "1.2.0",
            "_view_name": "StyleView",
            "description_width": ""
          }
        },
        "f7ace2412db0401391d5e7a1f4072624": {
          "model_module": "@jupyter-widgets/base",
          "model_name": "LayoutModel",
          "model_module_version": "1.2.0",
          "state": {
            "_model_module": "@jupyter-widgets/base",
            "_model_module_version": "1.2.0",
            "_model_name": "LayoutModel",
            "_view_count": null,
            "_view_module": "@jupyter-widgets/base",
            "_view_module_version": "1.2.0",
            "_view_name": "LayoutView",
            "align_content": null,
            "align_items": null,
            "align_self": null,
            "border": null,
            "bottom": null,
            "display": null,
            "flex": null,
            "flex_flow": null,
            "grid_area": null,
            "grid_auto_columns": null,
            "grid_auto_flow": null,
            "grid_auto_rows": null,
            "grid_column": null,
            "grid_gap": null,
            "grid_row": null,
            "grid_template_areas": null,
            "grid_template_columns": null,
            "grid_template_rows": null,
            "height": null,
            "justify_content": null,
            "justify_items": null,
            "left": null,
            "margin": null,
            "max_height": null,
            "max_width": null,
            "min_height": null,
            "min_width": null,
            "object_fit": null,
            "object_position": null,
            "order": null,
            "overflow": null,
            "overflow_x": null,
            "overflow_y": null,
            "padding": null,
            "right": null,
            "top": null,
            "visibility": null,
            "width": null
          }
        },
        "d5036546bcde4fd887c3cc21b71682e2": {
          "model_module": "@jupyter-widgets/controls",
          "model_name": "DescriptionStyleModel",
          "model_module_version": "1.5.0",
          "state": {
            "_model_module": "@jupyter-widgets/controls",
            "_model_module_version": "1.5.0",
            "_model_name": "DescriptionStyleModel",
            "_view_count": null,
            "_view_module": "@jupyter-widgets/base",
            "_view_module_version": "1.2.0",
            "_view_name": "StyleView",
            "description_width": ""
          }
        },
        "28d8e0802a7d4966986bb3af6faad2f9": {
          "model_module": "@jupyter-widgets/base",
          "model_name": "LayoutModel",
          "model_module_version": "1.2.0",
          "state": {
            "_model_module": "@jupyter-widgets/base",
            "_model_module_version": "1.2.0",
            "_model_name": "LayoutModel",
            "_view_count": null,
            "_view_module": "@jupyter-widgets/base",
            "_view_module_version": "1.2.0",
            "_view_name": "LayoutView",
            "align_content": null,
            "align_items": null,
            "align_self": null,
            "border": null,
            "bottom": null,
            "display": null,
            "flex": null,
            "flex_flow": null,
            "grid_area": null,
            "grid_auto_columns": null,
            "grid_auto_flow": null,
            "grid_auto_rows": null,
            "grid_column": null,
            "grid_gap": null,
            "grid_row": null,
            "grid_template_areas": null,
            "grid_template_columns": null,
            "grid_template_rows": null,
            "height": null,
            "justify_content": null,
            "justify_items": null,
            "left": null,
            "margin": null,
            "max_height": null,
            "max_width": null,
            "min_height": null,
            "min_width": null,
            "object_fit": null,
            "object_position": null,
            "order": null,
            "overflow": null,
            "overflow_x": null,
            "overflow_y": null,
            "padding": null,
            "right": null,
            "top": null,
            "visibility": null,
            "width": null
          }
        },
        "ad70a1afc83e4b5ca7e76633841be195": {
          "model_module": "@jupyter-widgets/controls",
          "model_name": "ButtonStyleModel",
          "model_module_version": "1.5.0",
          "state": {
            "_model_module": "@jupyter-widgets/controls",
            "_model_module_version": "1.5.0",
            "_model_name": "ButtonStyleModel",
            "_view_count": null,
            "_view_module": "@jupyter-widgets/base",
            "_view_module_version": "1.2.0",
            "_view_name": "StyleView",
            "button_color": null,
            "font_weight": ""
          }
        },
        "175d94c4916249f4a35d3723ba67e1a0": {
          "model_module": "@jupyter-widgets/base",
          "model_name": "LayoutModel",
          "model_module_version": "1.2.0",
          "state": {
            "_model_module": "@jupyter-widgets/base",
            "_model_module_version": "1.2.0",
            "_model_name": "LayoutModel",
            "_view_count": null,
            "_view_module": "@jupyter-widgets/base",
            "_view_module_version": "1.2.0",
            "_view_name": "LayoutView",
            "align_content": null,
            "align_items": null,
            "align_self": null,
            "border": null,
            "bottom": null,
            "display": null,
            "flex": null,
            "flex_flow": null,
            "grid_area": null,
            "grid_auto_columns": null,
            "grid_auto_flow": null,
            "grid_auto_rows": null,
            "grid_column": null,
            "grid_gap": null,
            "grid_row": null,
            "grid_template_areas": null,
            "grid_template_columns": null,
            "grid_template_rows": null,
            "height": null,
            "justify_content": null,
            "justify_items": null,
            "left": null,
            "margin": null,
            "max_height": null,
            "max_width": null,
            "min_height": null,
            "min_width": null,
            "object_fit": null,
            "object_position": null,
            "order": null,
            "overflow": null,
            "overflow_x": null,
            "overflow_y": null,
            "padding": null,
            "right": null,
            "top": null,
            "visibility": null,
            "width": null
          }
        },
        "be321c06b97b458e832d049394b58613": {
          "model_module": "@jupyter-widgets/controls",
          "model_name": "DescriptionStyleModel",
          "model_module_version": "1.5.0",
          "state": {
            "_model_module": "@jupyter-widgets/controls",
            "_model_module_version": "1.5.0",
            "_model_name": "DescriptionStyleModel",
            "_view_count": null,
            "_view_module": "@jupyter-widgets/base",
            "_view_module_version": "1.2.0",
            "_view_name": "StyleView",
            "description_width": ""
          }
        },
        "a85f59d21f514b80be2fefa5d785d8cc": {
          "model_module": "@jupyter-widgets/controls",
          "model_name": "LabelModel",
          "model_module_version": "1.5.0",
          "state": {
            "_dom_classes": [],
            "_model_module": "@jupyter-widgets/controls",
            "_model_module_version": "1.5.0",
            "_model_name": "LabelModel",
            "_view_count": null,
            "_view_module": "@jupyter-widgets/controls",
            "_view_module_version": "1.5.0",
            "_view_name": "LabelView",
            "description": "",
            "description_tooltip": null,
            "layout": "IPY_MODEL_c5be0acb41834fb69c3bfc8864b0d807",
            "placeholder": "​",
            "style": "IPY_MODEL_71a84ed7c5b646c68e09d2e1831b24ba",
            "value": "Connecting..."
          }
        },
        "c5be0acb41834fb69c3bfc8864b0d807": {
          "model_module": "@jupyter-widgets/base",
          "model_name": "LayoutModel",
          "model_module_version": "1.2.0",
          "state": {
            "_model_module": "@jupyter-widgets/base",
            "_model_module_version": "1.2.0",
            "_model_name": "LayoutModel",
            "_view_count": null,
            "_view_module": "@jupyter-widgets/base",
            "_view_module_version": "1.2.0",
            "_view_name": "LayoutView",
            "align_content": null,
            "align_items": null,
            "align_self": null,
            "border": null,
            "bottom": null,
            "display": null,
            "flex": null,
            "flex_flow": null,
            "grid_area": null,
            "grid_auto_columns": null,
            "grid_auto_flow": null,
            "grid_auto_rows": null,
            "grid_column": null,
            "grid_gap": null,
            "grid_row": null,
            "grid_template_areas": null,
            "grid_template_columns": null,
            "grid_template_rows": null,
            "height": null,
            "justify_content": null,
            "justify_items": null,
            "left": null,
            "margin": null,
            "max_height": null,
            "max_width": null,
            "min_height": null,
            "min_width": null,
            "object_fit": null,
            "object_position": null,
            "order": null,
            "overflow": null,
            "overflow_x": null,
            "overflow_y": null,
            "padding": null,
            "right": null,
            "top": null,
            "visibility": null,
            "width": null
          }
        },
        "71a84ed7c5b646c68e09d2e1831b24ba": {
          "model_module": "@jupyter-widgets/controls",
          "model_name": "DescriptionStyleModel",
          "model_module_version": "1.5.0",
          "state": {
            "_model_module": "@jupyter-widgets/controls",
            "_model_module_version": "1.5.0",
            "_model_name": "DescriptionStyleModel",
            "_view_count": null,
            "_view_module": "@jupyter-widgets/base",
            "_view_module_version": "1.2.0",
            "_view_name": "StyleView",
            "description_width": ""
          }
        },
        "eecc6000e60e4a31a91b29a3c73a80a8": {
          "model_module": "@jupyter-widgets/controls",
          "model_name": "LabelModel",
          "model_module_version": "1.5.0",
          "state": {
            "_dom_classes": [],
            "_model_module": "@jupyter-widgets/controls",
            "_model_module_version": "1.5.0",
            "_model_name": "LabelModel",
            "_view_count": null,
            "_view_module": "@jupyter-widgets/controls",
            "_view_module_version": "1.5.0",
            "_view_name": "LabelView",
            "description": "",
            "description_tooltip": null,
            "layout": "IPY_MODEL_2fec7e1360b54893a08a734032d9dc41",
            "placeholder": "​",
            "style": "IPY_MODEL_40a3103205ef408c9d5c3350a9e1a10b",
            "value": "Token is valid (permission: write)."
          }
        },
        "c1ae4676444e4d719cd6b639d2ccd78d": {
          "model_module": "@jupyter-widgets/controls",
          "model_name": "LabelModel",
          "model_module_version": "1.5.0",
          "state": {
            "_dom_classes": [],
            "_model_module": "@jupyter-widgets/controls",
            "_model_module_version": "1.5.0",
            "_model_name": "LabelModel",
            "_view_count": null,
            "_view_module": "@jupyter-widgets/controls",
            "_view_module_version": "1.5.0",
            "_view_name": "LabelView",
            "description": "",
            "description_tooltip": null,
            "layout": "IPY_MODEL_ead0e245cdb44c35b6c8311d0a504489",
            "placeholder": "​",
            "style": "IPY_MODEL_663f5b79e677456c89baef98e2f71228",
            "value": "Your token has been saved in your configured git credential helpers (store)."
          }
        },
        "74933a70d0824e8e81aa6b02b983dd51": {
          "model_module": "@jupyter-widgets/controls",
          "model_name": "LabelModel",
          "model_module_version": "1.5.0",
          "state": {
            "_dom_classes": [],
            "_model_module": "@jupyter-widgets/controls",
            "_model_module_version": "1.5.0",
            "_model_name": "LabelModel",
            "_view_count": null,
            "_view_module": "@jupyter-widgets/controls",
            "_view_module_version": "1.5.0",
            "_view_name": "LabelView",
            "description": "",
            "description_tooltip": null,
            "layout": "IPY_MODEL_54b09c2ca2954f0ea34b3cfd2b566e95",
            "placeholder": "​",
            "style": "IPY_MODEL_798d9bb5df3d4f5687baf9f21c78ea91",
            "value": "Your token has been saved to /root/.cache/huggingface/token"
          }
        },
        "18ac5ab026324b458bdcdc7e5a710513": {
          "model_module": "@jupyter-widgets/controls",
          "model_name": "LabelModel",
          "model_module_version": "1.5.0",
          "state": {
            "_dom_classes": [],
            "_model_module": "@jupyter-widgets/controls",
            "_model_module_version": "1.5.0",
            "_model_name": "LabelModel",
            "_view_count": null,
            "_view_module": "@jupyter-widgets/controls",
            "_view_module_version": "1.5.0",
            "_view_name": "LabelView",
            "description": "",
            "description_tooltip": null,
            "layout": "IPY_MODEL_15075668c9a044d1a57993bfa3378a85",
            "placeholder": "​",
            "style": "IPY_MODEL_f4a0dc091c094de087be79eec1579928",
            "value": "Login successful"
          }
        },
        "2fec7e1360b54893a08a734032d9dc41": {
          "model_module": "@jupyter-widgets/base",
          "model_name": "LayoutModel",
          "model_module_version": "1.2.0",
          "state": {
            "_model_module": "@jupyter-widgets/base",
            "_model_module_version": "1.2.0",
            "_model_name": "LayoutModel",
            "_view_count": null,
            "_view_module": "@jupyter-widgets/base",
            "_view_module_version": "1.2.0",
            "_view_name": "LayoutView",
            "align_content": null,
            "align_items": null,
            "align_self": null,
            "border": null,
            "bottom": null,
            "display": null,
            "flex": null,
            "flex_flow": null,
            "grid_area": null,
            "grid_auto_columns": null,
            "grid_auto_flow": null,
            "grid_auto_rows": null,
            "grid_column": null,
            "grid_gap": null,
            "grid_row": null,
            "grid_template_areas": null,
            "grid_template_columns": null,
            "grid_template_rows": null,
            "height": null,
            "justify_content": null,
            "justify_items": null,
            "left": null,
            "margin": null,
            "max_height": null,
            "max_width": null,
            "min_height": null,
            "min_width": null,
            "object_fit": null,
            "object_position": null,
            "order": null,
            "overflow": null,
            "overflow_x": null,
            "overflow_y": null,
            "padding": null,
            "right": null,
            "top": null,
            "visibility": null,
            "width": null
          }
        },
        "40a3103205ef408c9d5c3350a9e1a10b": {
          "model_module": "@jupyter-widgets/controls",
          "model_name": "DescriptionStyleModel",
          "model_module_version": "1.5.0",
          "state": {
            "_model_module": "@jupyter-widgets/controls",
            "_model_module_version": "1.5.0",
            "_model_name": "DescriptionStyleModel",
            "_view_count": null,
            "_view_module": "@jupyter-widgets/base",
            "_view_module_version": "1.2.0",
            "_view_name": "StyleView",
            "description_width": ""
          }
        },
        "ead0e245cdb44c35b6c8311d0a504489": {
          "model_module": "@jupyter-widgets/base",
          "model_name": "LayoutModel",
          "model_module_version": "1.2.0",
          "state": {
            "_model_module": "@jupyter-widgets/base",
            "_model_module_version": "1.2.0",
            "_model_name": "LayoutModel",
            "_view_count": null,
            "_view_module": "@jupyter-widgets/base",
            "_view_module_version": "1.2.0",
            "_view_name": "LayoutView",
            "align_content": null,
            "align_items": null,
            "align_self": null,
            "border": null,
            "bottom": null,
            "display": null,
            "flex": null,
            "flex_flow": null,
            "grid_area": null,
            "grid_auto_columns": null,
            "grid_auto_flow": null,
            "grid_auto_rows": null,
            "grid_column": null,
            "grid_gap": null,
            "grid_row": null,
            "grid_template_areas": null,
            "grid_template_columns": null,
            "grid_template_rows": null,
            "height": null,
            "justify_content": null,
            "justify_items": null,
            "left": null,
            "margin": null,
            "max_height": null,
            "max_width": null,
            "min_height": null,
            "min_width": null,
            "object_fit": null,
            "object_position": null,
            "order": null,
            "overflow": null,
            "overflow_x": null,
            "overflow_y": null,
            "padding": null,
            "right": null,
            "top": null,
            "visibility": null,
            "width": null
          }
        },
        "663f5b79e677456c89baef98e2f71228": {
          "model_module": "@jupyter-widgets/controls",
          "model_name": "DescriptionStyleModel",
          "model_module_version": "1.5.0",
          "state": {
            "_model_module": "@jupyter-widgets/controls",
            "_model_module_version": "1.5.0",
            "_model_name": "DescriptionStyleModel",
            "_view_count": null,
            "_view_module": "@jupyter-widgets/base",
            "_view_module_version": "1.2.0",
            "_view_name": "StyleView",
            "description_width": ""
          }
        },
        "54b09c2ca2954f0ea34b3cfd2b566e95": {
          "model_module": "@jupyter-widgets/base",
          "model_name": "LayoutModel",
          "model_module_version": "1.2.0",
          "state": {
            "_model_module": "@jupyter-widgets/base",
            "_model_module_version": "1.2.0",
            "_model_name": "LayoutModel",
            "_view_count": null,
            "_view_module": "@jupyter-widgets/base",
            "_view_module_version": "1.2.0",
            "_view_name": "LayoutView",
            "align_content": null,
            "align_items": null,
            "align_self": null,
            "border": null,
            "bottom": null,
            "display": null,
            "flex": null,
            "flex_flow": null,
            "grid_area": null,
            "grid_auto_columns": null,
            "grid_auto_flow": null,
            "grid_auto_rows": null,
            "grid_column": null,
            "grid_gap": null,
            "grid_row": null,
            "grid_template_areas": null,
            "grid_template_columns": null,
            "grid_template_rows": null,
            "height": null,
            "justify_content": null,
            "justify_items": null,
            "left": null,
            "margin": null,
            "max_height": null,
            "max_width": null,
            "min_height": null,
            "min_width": null,
            "object_fit": null,
            "object_position": null,
            "order": null,
            "overflow": null,
            "overflow_x": null,
            "overflow_y": null,
            "padding": null,
            "right": null,
            "top": null,
            "visibility": null,
            "width": null
          }
        },
        "798d9bb5df3d4f5687baf9f21c78ea91": {
          "model_module": "@jupyter-widgets/controls",
          "model_name": "DescriptionStyleModel",
          "model_module_version": "1.5.0",
          "state": {
            "_model_module": "@jupyter-widgets/controls",
            "_model_module_version": "1.5.0",
            "_model_name": "DescriptionStyleModel",
            "_view_count": null,
            "_view_module": "@jupyter-widgets/base",
            "_view_module_version": "1.2.0",
            "_view_name": "StyleView",
            "description_width": ""
          }
        },
        "15075668c9a044d1a57993bfa3378a85": {
          "model_module": "@jupyter-widgets/base",
          "model_name": "LayoutModel",
          "model_module_version": "1.2.0",
          "state": {
            "_model_module": "@jupyter-widgets/base",
            "_model_module_version": "1.2.0",
            "_model_name": "LayoutModel",
            "_view_count": null,
            "_view_module": "@jupyter-widgets/base",
            "_view_module_version": "1.2.0",
            "_view_name": "LayoutView",
            "align_content": null,
            "align_items": null,
            "align_self": null,
            "border": null,
            "bottom": null,
            "display": null,
            "flex": null,
            "flex_flow": null,
            "grid_area": null,
            "grid_auto_columns": null,
            "grid_auto_flow": null,
            "grid_auto_rows": null,
            "grid_column": null,
            "grid_gap": null,
            "grid_row": null,
            "grid_template_areas": null,
            "grid_template_columns": null,
            "grid_template_rows": null,
            "height": null,
            "justify_content": null,
            "justify_items": null,
            "left": null,
            "margin": null,
            "max_height": null,
            "max_width": null,
            "min_height": null,
            "min_width": null,
            "object_fit": null,
            "object_position": null,
            "order": null,
            "overflow": null,
            "overflow_x": null,
            "overflow_y": null,
            "padding": null,
            "right": null,
            "top": null,
            "visibility": null,
            "width": null
          }
        },
        "f4a0dc091c094de087be79eec1579928": {
          "model_module": "@jupyter-widgets/controls",
          "model_name": "DescriptionStyleModel",
          "model_module_version": "1.5.0",
          "state": {
            "_model_module": "@jupyter-widgets/controls",
            "_model_module_version": "1.5.0",
            "_model_name": "DescriptionStyleModel",
            "_view_count": null,
            "_view_module": "@jupyter-widgets/base",
            "_view_module_version": "1.2.0",
            "_view_name": "StyleView",
            "description_width": ""
          }
        },
        "c146fe1571114972a9d1254627fbf883": {
          "model_module": "@jupyter-widgets/controls",
          "model_name": "HBoxModel",
          "model_module_version": "1.5.0",
          "state": {
            "_dom_classes": [],
            "_model_module": "@jupyter-widgets/controls",
            "_model_module_version": "1.5.0",
            "_model_name": "HBoxModel",
            "_view_count": null,
            "_view_module": "@jupyter-widgets/controls",
            "_view_module_version": "1.5.0",
            "_view_name": "HBoxView",
            "box_style": "",
            "children": [
              "IPY_MODEL_9e5048c9c9964732b5630d5c9af7eda0",
              "IPY_MODEL_c551be63a5f84fb6b0fd682540adee3d",
              "IPY_MODEL_dfd34d1e48bd4f1fb8837678783a96dc"
            ],
            "layout": "IPY_MODEL_f4413e9b40f24120992773b1202e2701"
          }
        },
        "9e5048c9c9964732b5630d5c9af7eda0": {
          "model_module": "@jupyter-widgets/controls",
          "model_name": "HTMLModel",
          "model_module_version": "1.5.0",
          "state": {
            "_dom_classes": [],
            "_model_module": "@jupyter-widgets/controls",
            "_model_module_version": "1.5.0",
            "_model_name": "HTMLModel",
            "_view_count": null,
            "_view_module": "@jupyter-widgets/controls",
            "_view_module_version": "1.5.0",
            "_view_name": "HTMLView",
            "description": "",
            "description_tooltip": null,
            "layout": "IPY_MODEL_6aeef39eeee0497e8fbf34d00f407557",
            "placeholder": "​",
            "style": "IPY_MODEL_1da50f355f4a4e63bbcbde72d124decc",
            "value": "tokenizer_config.json: 100%"
          }
        },
        "c551be63a5f84fb6b0fd682540adee3d": {
          "model_module": "@jupyter-widgets/controls",
          "model_name": "FloatProgressModel",
          "model_module_version": "1.5.0",
          "state": {
            "_dom_classes": [],
            "_model_module": "@jupyter-widgets/controls",
            "_model_module_version": "1.5.0",
            "_model_name": "FloatProgressModel",
            "_view_count": null,
            "_view_module": "@jupyter-widgets/controls",
            "_view_module_version": "1.5.0",
            "_view_name": "ProgressView",
            "bar_style": "success",
            "description": "",
            "description_tooltip": null,
            "layout": "IPY_MODEL_8339fb2bb74c45cca2f95aa44920e503",
            "max": 206,
            "min": 0,
            "orientation": "horizontal",
            "style": "IPY_MODEL_d4fc6eca52d843d3a3f8e6c502a6406e",
            "value": 206
          }
        },
        "dfd34d1e48bd4f1fb8837678783a96dc": {
          "model_module": "@jupyter-widgets/controls",
          "model_name": "HTMLModel",
          "model_module_version": "1.5.0",
          "state": {
            "_dom_classes": [],
            "_model_module": "@jupyter-widgets/controls",
            "_model_module_version": "1.5.0",
            "_model_name": "HTMLModel",
            "_view_count": null,
            "_view_module": "@jupyter-widgets/controls",
            "_view_module_version": "1.5.0",
            "_view_name": "HTMLView",
            "description": "",
            "description_tooltip": null,
            "layout": "IPY_MODEL_4b2ae108071e494591e098ff6eaed5d3",
            "placeholder": "​",
            "style": "IPY_MODEL_9e39e6b6ed544c66828db6774d2f58b1",
            "value": " 206/206 [00:00&lt;00:00, 13.7kB/s]"
          }
        },
        "f4413e9b40f24120992773b1202e2701": {
          "model_module": "@jupyter-widgets/base",
          "model_name": "LayoutModel",
          "model_module_version": "1.2.0",
          "state": {
            "_model_module": "@jupyter-widgets/base",
            "_model_module_version": "1.2.0",
            "_model_name": "LayoutModel",
            "_view_count": null,
            "_view_module": "@jupyter-widgets/base",
            "_view_module_version": "1.2.0",
            "_view_name": "LayoutView",
            "align_content": null,
            "align_items": null,
            "align_self": null,
            "border": null,
            "bottom": null,
            "display": null,
            "flex": null,
            "flex_flow": null,
            "grid_area": null,
            "grid_auto_columns": null,
            "grid_auto_flow": null,
            "grid_auto_rows": null,
            "grid_column": null,
            "grid_gap": null,
            "grid_row": null,
            "grid_template_areas": null,
            "grid_template_columns": null,
            "grid_template_rows": null,
            "height": null,
            "justify_content": null,
            "justify_items": null,
            "left": null,
            "margin": null,
            "max_height": null,
            "max_width": null,
            "min_height": null,
            "min_width": null,
            "object_fit": null,
            "object_position": null,
            "order": null,
            "overflow": null,
            "overflow_x": null,
            "overflow_y": null,
            "padding": null,
            "right": null,
            "top": null,
            "visibility": null,
            "width": null
          }
        },
        "6aeef39eeee0497e8fbf34d00f407557": {
          "model_module": "@jupyter-widgets/base",
          "model_name": "LayoutModel",
          "model_module_version": "1.2.0",
          "state": {
            "_model_module": "@jupyter-widgets/base",
            "_model_module_version": "1.2.0",
            "_model_name": "LayoutModel",
            "_view_count": null,
            "_view_module": "@jupyter-widgets/base",
            "_view_module_version": "1.2.0",
            "_view_name": "LayoutView",
            "align_content": null,
            "align_items": null,
            "align_self": null,
            "border": null,
            "bottom": null,
            "display": null,
            "flex": null,
            "flex_flow": null,
            "grid_area": null,
            "grid_auto_columns": null,
            "grid_auto_flow": null,
            "grid_auto_rows": null,
            "grid_column": null,
            "grid_gap": null,
            "grid_row": null,
            "grid_template_areas": null,
            "grid_template_columns": null,
            "grid_template_rows": null,
            "height": null,
            "justify_content": null,
            "justify_items": null,
            "left": null,
            "margin": null,
            "max_height": null,
            "max_width": null,
            "min_height": null,
            "min_width": null,
            "object_fit": null,
            "object_position": null,
            "order": null,
            "overflow": null,
            "overflow_x": null,
            "overflow_y": null,
            "padding": null,
            "right": null,
            "top": null,
            "visibility": null,
            "width": null
          }
        },
        "1da50f355f4a4e63bbcbde72d124decc": {
          "model_module": "@jupyter-widgets/controls",
          "model_name": "DescriptionStyleModel",
          "model_module_version": "1.5.0",
          "state": {
            "_model_module": "@jupyter-widgets/controls",
            "_model_module_version": "1.5.0",
            "_model_name": "DescriptionStyleModel",
            "_view_count": null,
            "_view_module": "@jupyter-widgets/base",
            "_view_module_version": "1.2.0",
            "_view_name": "StyleView",
            "description_width": ""
          }
        },
        "8339fb2bb74c45cca2f95aa44920e503": {
          "model_module": "@jupyter-widgets/base",
          "model_name": "LayoutModel",
          "model_module_version": "1.2.0",
          "state": {
            "_model_module": "@jupyter-widgets/base",
            "_model_module_version": "1.2.0",
            "_model_name": "LayoutModel",
            "_view_count": null,
            "_view_module": "@jupyter-widgets/base",
            "_view_module_version": "1.2.0",
            "_view_name": "LayoutView",
            "align_content": null,
            "align_items": null,
            "align_self": null,
            "border": null,
            "bottom": null,
            "display": null,
            "flex": null,
            "flex_flow": null,
            "grid_area": null,
            "grid_auto_columns": null,
            "grid_auto_flow": null,
            "grid_auto_rows": null,
            "grid_column": null,
            "grid_gap": null,
            "grid_row": null,
            "grid_template_areas": null,
            "grid_template_columns": null,
            "grid_template_rows": null,
            "height": null,
            "justify_content": null,
            "justify_items": null,
            "left": null,
            "margin": null,
            "max_height": null,
            "max_width": null,
            "min_height": null,
            "min_width": null,
            "object_fit": null,
            "object_position": null,
            "order": null,
            "overflow": null,
            "overflow_x": null,
            "overflow_y": null,
            "padding": null,
            "right": null,
            "top": null,
            "visibility": null,
            "width": null
          }
        },
        "d4fc6eca52d843d3a3f8e6c502a6406e": {
          "model_module": "@jupyter-widgets/controls",
          "model_name": "ProgressStyleModel",
          "model_module_version": "1.5.0",
          "state": {
            "_model_module": "@jupyter-widgets/controls",
            "_model_module_version": "1.5.0",
            "_model_name": "ProgressStyleModel",
            "_view_count": null,
            "_view_module": "@jupyter-widgets/base",
            "_view_module_version": "1.2.0",
            "_view_name": "StyleView",
            "bar_color": null,
            "description_width": ""
          }
        },
        "4b2ae108071e494591e098ff6eaed5d3": {
          "model_module": "@jupyter-widgets/base",
          "model_name": "LayoutModel",
          "model_module_version": "1.2.0",
          "state": {
            "_model_module": "@jupyter-widgets/base",
            "_model_module_version": "1.2.0",
            "_model_name": "LayoutModel",
            "_view_count": null,
            "_view_module": "@jupyter-widgets/base",
            "_view_module_version": "1.2.0",
            "_view_name": "LayoutView",
            "align_content": null,
            "align_items": null,
            "align_self": null,
            "border": null,
            "bottom": null,
            "display": null,
            "flex": null,
            "flex_flow": null,
            "grid_area": null,
            "grid_auto_columns": null,
            "grid_auto_flow": null,
            "grid_auto_rows": null,
            "grid_column": null,
            "grid_gap": null,
            "grid_row": null,
            "grid_template_areas": null,
            "grid_template_columns": null,
            "grid_template_rows": null,
            "height": null,
            "justify_content": null,
            "justify_items": null,
            "left": null,
            "margin": null,
            "max_height": null,
            "max_width": null,
            "min_height": null,
            "min_width": null,
            "object_fit": null,
            "object_position": null,
            "order": null,
            "overflow": null,
            "overflow_x": null,
            "overflow_y": null,
            "padding": null,
            "right": null,
            "top": null,
            "visibility": null,
            "width": null
          }
        },
        "9e39e6b6ed544c66828db6774d2f58b1": {
          "model_module": "@jupyter-widgets/controls",
          "model_name": "DescriptionStyleModel",
          "model_module_version": "1.5.0",
          "state": {
            "_model_module": "@jupyter-widgets/controls",
            "_model_module_version": "1.5.0",
            "_model_name": "DescriptionStyleModel",
            "_view_count": null,
            "_view_module": "@jupyter-widgets/base",
            "_view_module_version": "1.2.0",
            "_view_name": "StyleView",
            "description_width": ""
          }
        },
        "bfec700477e34201bc7f39718e194052": {
          "model_module": "@jupyter-widgets/controls",
          "model_name": "HBoxModel",
          "model_module_version": "1.5.0",
          "state": {
            "_dom_classes": [],
            "_model_module": "@jupyter-widgets/controls",
            "_model_module_version": "1.5.0",
            "_model_name": "HBoxModel",
            "_view_count": null,
            "_view_module": "@jupyter-widgets/controls",
            "_view_module_version": "1.5.0",
            "_view_name": "HBoxView",
            "box_style": "",
            "children": [
              "IPY_MODEL_5e3e48648a874566a5165716f947a007",
              "IPY_MODEL_52a025eab8914f569b700b8e9fda5f18",
              "IPY_MODEL_e3663606695f42d3a4e8000f97e7d182"
            ],
            "layout": "IPY_MODEL_5f1cf0c650b54d93a416c7416b6e4c62"
          }
        },
        "5e3e48648a874566a5165716f947a007": {
          "model_module": "@jupyter-widgets/controls",
          "model_name": "HTMLModel",
          "model_module_version": "1.5.0",
          "state": {
            "_dom_classes": [],
            "_model_module": "@jupyter-widgets/controls",
            "_model_module_version": "1.5.0",
            "_model_name": "HTMLModel",
            "_view_count": null,
            "_view_module": "@jupyter-widgets/controls",
            "_view_module_version": "1.5.0",
            "_view_name": "HTMLView",
            "description": "",
            "description_tooltip": null,
            "layout": "IPY_MODEL_3821259a525043aeb80715e28d6f0929",
            "placeholder": "​",
            "style": "IPY_MODEL_d31db1d5e20546fbbd67c74ed2c2f805",
            "value": "config.json: 100%"
          }
        },
        "52a025eab8914f569b700b8e9fda5f18": {
          "model_module": "@jupyter-widgets/controls",
          "model_name": "FloatProgressModel",
          "model_module_version": "1.5.0",
          "state": {
            "_dom_classes": [],
            "_model_module": "@jupyter-widgets/controls",
            "_model_module_version": "1.5.0",
            "_model_name": "FloatProgressModel",
            "_view_count": null,
            "_view_module": "@jupyter-widgets/controls",
            "_view_module_version": "1.5.0",
            "_view_name": "ProgressView",
            "bar_style": "success",
            "description": "",
            "description_tooltip": null,
            "layout": "IPY_MODEL_21fac556310c4364a9d1b395fff6f441",
            "max": 411,
            "min": 0,
            "orientation": "horizontal",
            "style": "IPY_MODEL_ba8836ae20824f57b3d06b14c2215ab2",
            "value": 411
          }
        },
        "e3663606695f42d3a4e8000f97e7d182": {
          "model_module": "@jupyter-widgets/controls",
          "model_name": "HTMLModel",
          "model_module_version": "1.5.0",
          "state": {
            "_dom_classes": [],
            "_model_module": "@jupyter-widgets/controls",
            "_model_module_version": "1.5.0",
            "_model_name": "HTMLModel",
            "_view_count": null,
            "_view_module": "@jupyter-widgets/controls",
            "_view_module_version": "1.5.0",
            "_view_name": "HTMLView",
            "description": "",
            "description_tooltip": null,
            "layout": "IPY_MODEL_7a37bd019484492c87a43d0b6181479b",
            "placeholder": "​",
            "style": "IPY_MODEL_14f692fc6ac04a03a060c455317086bf",
            "value": " 411/411 [00:00&lt;00:00, 30.2kB/s]"
          }
        },
        "5f1cf0c650b54d93a416c7416b6e4c62": {
          "model_module": "@jupyter-widgets/base",
          "model_name": "LayoutModel",
          "model_module_version": "1.2.0",
          "state": {
            "_model_module": "@jupyter-widgets/base",
            "_model_module_version": "1.2.0",
            "_model_name": "LayoutModel",
            "_view_count": null,
            "_view_module": "@jupyter-widgets/base",
            "_view_module_version": "1.2.0",
            "_view_name": "LayoutView",
            "align_content": null,
            "align_items": null,
            "align_self": null,
            "border": null,
            "bottom": null,
            "display": null,
            "flex": null,
            "flex_flow": null,
            "grid_area": null,
            "grid_auto_columns": null,
            "grid_auto_flow": null,
            "grid_auto_rows": null,
            "grid_column": null,
            "grid_gap": null,
            "grid_row": null,
            "grid_template_areas": null,
            "grid_template_columns": null,
            "grid_template_rows": null,
            "height": null,
            "justify_content": null,
            "justify_items": null,
            "left": null,
            "margin": null,
            "max_height": null,
            "max_width": null,
            "min_height": null,
            "min_width": null,
            "object_fit": null,
            "object_position": null,
            "order": null,
            "overflow": null,
            "overflow_x": null,
            "overflow_y": null,
            "padding": null,
            "right": null,
            "top": null,
            "visibility": null,
            "width": null
          }
        },
        "3821259a525043aeb80715e28d6f0929": {
          "model_module": "@jupyter-widgets/base",
          "model_name": "LayoutModel",
          "model_module_version": "1.2.0",
          "state": {
            "_model_module": "@jupyter-widgets/base",
            "_model_module_version": "1.2.0",
            "_model_name": "LayoutModel",
            "_view_count": null,
            "_view_module": "@jupyter-widgets/base",
            "_view_module_version": "1.2.0",
            "_view_name": "LayoutView",
            "align_content": null,
            "align_items": null,
            "align_self": null,
            "border": null,
            "bottom": null,
            "display": null,
            "flex": null,
            "flex_flow": null,
            "grid_area": null,
            "grid_auto_columns": null,
            "grid_auto_flow": null,
            "grid_auto_rows": null,
            "grid_column": null,
            "grid_gap": null,
            "grid_row": null,
            "grid_template_areas": null,
            "grid_template_columns": null,
            "grid_template_rows": null,
            "height": null,
            "justify_content": null,
            "justify_items": null,
            "left": null,
            "margin": null,
            "max_height": null,
            "max_width": null,
            "min_height": null,
            "min_width": null,
            "object_fit": null,
            "object_position": null,
            "order": null,
            "overflow": null,
            "overflow_x": null,
            "overflow_y": null,
            "padding": null,
            "right": null,
            "top": null,
            "visibility": null,
            "width": null
          }
        },
        "d31db1d5e20546fbbd67c74ed2c2f805": {
          "model_module": "@jupyter-widgets/controls",
          "model_name": "DescriptionStyleModel",
          "model_module_version": "1.5.0",
          "state": {
            "_model_module": "@jupyter-widgets/controls",
            "_model_module_version": "1.5.0",
            "_model_name": "DescriptionStyleModel",
            "_view_count": null,
            "_view_module": "@jupyter-widgets/base",
            "_view_module_version": "1.2.0",
            "_view_name": "StyleView",
            "description_width": ""
          }
        },
        "21fac556310c4364a9d1b395fff6f441": {
          "model_module": "@jupyter-widgets/base",
          "model_name": "LayoutModel",
          "model_module_version": "1.2.0",
          "state": {
            "_model_module": "@jupyter-widgets/base",
            "_model_module_version": "1.2.0",
            "_model_name": "LayoutModel",
            "_view_count": null,
            "_view_module": "@jupyter-widgets/base",
            "_view_module_version": "1.2.0",
            "_view_name": "LayoutView",
            "align_content": null,
            "align_items": null,
            "align_self": null,
            "border": null,
            "bottom": null,
            "display": null,
            "flex": null,
            "flex_flow": null,
            "grid_area": null,
            "grid_auto_columns": null,
            "grid_auto_flow": null,
            "grid_auto_rows": null,
            "grid_column": null,
            "grid_gap": null,
            "grid_row": null,
            "grid_template_areas": null,
            "grid_template_columns": null,
            "grid_template_rows": null,
            "height": null,
            "justify_content": null,
            "justify_items": null,
            "left": null,
            "margin": null,
            "max_height": null,
            "max_width": null,
            "min_height": null,
            "min_width": null,
            "object_fit": null,
            "object_position": null,
            "order": null,
            "overflow": null,
            "overflow_x": null,
            "overflow_y": null,
            "padding": null,
            "right": null,
            "top": null,
            "visibility": null,
            "width": null
          }
        },
        "ba8836ae20824f57b3d06b14c2215ab2": {
          "model_module": "@jupyter-widgets/controls",
          "model_name": "ProgressStyleModel",
          "model_module_version": "1.5.0",
          "state": {
            "_model_module": "@jupyter-widgets/controls",
            "_model_module_version": "1.5.0",
            "_model_name": "ProgressStyleModel",
            "_view_count": null,
            "_view_module": "@jupyter-widgets/base",
            "_view_module_version": "1.2.0",
            "_view_name": "StyleView",
            "bar_color": null,
            "description_width": ""
          }
        },
        "7a37bd019484492c87a43d0b6181479b": {
          "model_module": "@jupyter-widgets/base",
          "model_name": "LayoutModel",
          "model_module_version": "1.2.0",
          "state": {
            "_model_module": "@jupyter-widgets/base",
            "_model_module_version": "1.2.0",
            "_model_name": "LayoutModel",
            "_view_count": null,
            "_view_module": "@jupyter-widgets/base",
            "_view_module_version": "1.2.0",
            "_view_name": "LayoutView",
            "align_content": null,
            "align_items": null,
            "align_self": null,
            "border": null,
            "bottom": null,
            "display": null,
            "flex": null,
            "flex_flow": null,
            "grid_area": null,
            "grid_auto_columns": null,
            "grid_auto_flow": null,
            "grid_auto_rows": null,
            "grid_column": null,
            "grid_gap": null,
            "grid_row": null,
            "grid_template_areas": null,
            "grid_template_columns": null,
            "grid_template_rows": null,
            "height": null,
            "justify_content": null,
            "justify_items": null,
            "left": null,
            "margin": null,
            "max_height": null,
            "max_width": null,
            "min_height": null,
            "min_width": null,
            "object_fit": null,
            "object_position": null,
            "order": null,
            "overflow": null,
            "overflow_x": null,
            "overflow_y": null,
            "padding": null,
            "right": null,
            "top": null,
            "visibility": null,
            "width": null
          }
        },
        "14f692fc6ac04a03a060c455317086bf": {
          "model_module": "@jupyter-widgets/controls",
          "model_name": "DescriptionStyleModel",
          "model_module_version": "1.5.0",
          "state": {
            "_model_module": "@jupyter-widgets/controls",
            "_model_module_version": "1.5.0",
            "_model_name": "DescriptionStyleModel",
            "_view_count": null,
            "_view_module": "@jupyter-widgets/base",
            "_view_module_version": "1.2.0",
            "_view_name": "StyleView",
            "description_width": ""
          }
        },
        "7137b978b3324df0900762ed1d57f0e4": {
          "model_module": "@jupyter-widgets/controls",
          "model_name": "HBoxModel",
          "model_module_version": "1.5.0",
          "state": {
            "_dom_classes": [],
            "_model_module": "@jupyter-widgets/controls",
            "_model_module_version": "1.5.0",
            "_model_name": "HBoxModel",
            "_view_count": null,
            "_view_module": "@jupyter-widgets/controls",
            "_view_module_version": "1.5.0",
            "_view_name": "HBoxView",
            "box_style": "",
            "children": [
              "IPY_MODEL_cd86016bb851448ba84236359039afc9",
              "IPY_MODEL_f6277573cf774775838956077e2b9418",
              "IPY_MODEL_e68335feb8024e2491eba0e3434d8add"
            ],
            "layout": "IPY_MODEL_6c47bad4fbbf48e09c93b70fce3b77d7"
          }
        },
        "cd86016bb851448ba84236359039afc9": {
          "model_module": "@jupyter-widgets/controls",
          "model_name": "HTMLModel",
          "model_module_version": "1.5.0",
          "state": {
            "_dom_classes": [],
            "_model_module": "@jupyter-widgets/controls",
            "_model_module_version": "1.5.0",
            "_model_name": "HTMLModel",
            "_view_count": null,
            "_view_module": "@jupyter-widgets/controls",
            "_view_module_version": "1.5.0",
            "_view_name": "HTMLView",
            "description": "",
            "description_tooltip": null,
            "layout": "IPY_MODEL_8ce737992af844798b7a6eefc8ad1ef7",
            "placeholder": "​",
            "style": "IPY_MODEL_b7e0f93b8cd44c6bab1eb9e0924c2ea9",
            "value": "vocab.txt: 100%"
          }
        },
        "f6277573cf774775838956077e2b9418": {
          "model_module": "@jupyter-widgets/controls",
          "model_name": "FloatProgressModel",
          "model_module_version": "1.5.0",
          "state": {
            "_dom_classes": [],
            "_model_module": "@jupyter-widgets/controls",
            "_model_module_version": "1.5.0",
            "_model_name": "FloatProgressModel",
            "_view_count": null,
            "_view_module": "@jupyter-widgets/controls",
            "_view_module_version": "1.5.0",
            "_view_name": "ProgressView",
            "bar_style": "success",
            "description": "",
            "description_tooltip": null,
            "layout": "IPY_MODEL_9a629bb60b9d41598098a3eff25bac7b",
            "max": 3162999,
            "min": 0,
            "orientation": "horizontal",
            "style": "IPY_MODEL_d63deb9a03b94a4788c977d10be3916f",
            "value": 3162999
          }
        },
        "e68335feb8024e2491eba0e3434d8add": {
          "model_module": "@jupyter-widgets/controls",
          "model_name": "HTMLModel",
          "model_module_version": "1.5.0",
          "state": {
            "_dom_classes": [],
            "_model_module": "@jupyter-widgets/controls",
            "_model_module_version": "1.5.0",
            "_model_name": "HTMLModel",
            "_view_count": null,
            "_view_module": "@jupyter-widgets/controls",
            "_view_module_version": "1.5.0",
            "_view_name": "HTMLView",
            "description": "",
            "description_tooltip": null,
            "layout": "IPY_MODEL_f2b6e7c1cbf547c19a986648350451ab",
            "placeholder": "​",
            "style": "IPY_MODEL_92a223e1b2484a92af5657ddca75e6eb",
            "value": " 3.16M/3.16M [00:00&lt;00:00, 8.41MB/s]"
          }
        },
        "6c47bad4fbbf48e09c93b70fce3b77d7": {
          "model_module": "@jupyter-widgets/base",
          "model_name": "LayoutModel",
          "model_module_version": "1.2.0",
          "state": {
            "_model_module": "@jupyter-widgets/base",
            "_model_module_version": "1.2.0",
            "_model_name": "LayoutModel",
            "_view_count": null,
            "_view_module": "@jupyter-widgets/base",
            "_view_module_version": "1.2.0",
            "_view_name": "LayoutView",
            "align_content": null,
            "align_items": null,
            "align_self": null,
            "border": null,
            "bottom": null,
            "display": null,
            "flex": null,
            "flex_flow": null,
            "grid_area": null,
            "grid_auto_columns": null,
            "grid_auto_flow": null,
            "grid_auto_rows": null,
            "grid_column": null,
            "grid_gap": null,
            "grid_row": null,
            "grid_template_areas": null,
            "grid_template_columns": null,
            "grid_template_rows": null,
            "height": null,
            "justify_content": null,
            "justify_items": null,
            "left": null,
            "margin": null,
            "max_height": null,
            "max_width": null,
            "min_height": null,
            "min_width": null,
            "object_fit": null,
            "object_position": null,
            "order": null,
            "overflow": null,
            "overflow_x": null,
            "overflow_y": null,
            "padding": null,
            "right": null,
            "top": null,
            "visibility": null,
            "width": null
          }
        },
        "8ce737992af844798b7a6eefc8ad1ef7": {
          "model_module": "@jupyter-widgets/base",
          "model_name": "LayoutModel",
          "model_module_version": "1.2.0",
          "state": {
            "_model_module": "@jupyter-widgets/base",
            "_model_module_version": "1.2.0",
            "_model_name": "LayoutModel",
            "_view_count": null,
            "_view_module": "@jupyter-widgets/base",
            "_view_module_version": "1.2.0",
            "_view_name": "LayoutView",
            "align_content": null,
            "align_items": null,
            "align_self": null,
            "border": null,
            "bottom": null,
            "display": null,
            "flex": null,
            "flex_flow": null,
            "grid_area": null,
            "grid_auto_columns": null,
            "grid_auto_flow": null,
            "grid_auto_rows": null,
            "grid_column": null,
            "grid_gap": null,
            "grid_row": null,
            "grid_template_areas": null,
            "grid_template_columns": null,
            "grid_template_rows": null,
            "height": null,
            "justify_content": null,
            "justify_items": null,
            "left": null,
            "margin": null,
            "max_height": null,
            "max_width": null,
            "min_height": null,
            "min_width": null,
            "object_fit": null,
            "object_position": null,
            "order": null,
            "overflow": null,
            "overflow_x": null,
            "overflow_y": null,
            "padding": null,
            "right": null,
            "top": null,
            "visibility": null,
            "width": null
          }
        },
        "b7e0f93b8cd44c6bab1eb9e0924c2ea9": {
          "model_module": "@jupyter-widgets/controls",
          "model_name": "DescriptionStyleModel",
          "model_module_version": "1.5.0",
          "state": {
            "_model_module": "@jupyter-widgets/controls",
            "_model_module_version": "1.5.0",
            "_model_name": "DescriptionStyleModel",
            "_view_count": null,
            "_view_module": "@jupyter-widgets/base",
            "_view_module_version": "1.2.0",
            "_view_name": "StyleView",
            "description_width": ""
          }
        },
        "9a629bb60b9d41598098a3eff25bac7b": {
          "model_module": "@jupyter-widgets/base",
          "model_name": "LayoutModel",
          "model_module_version": "1.2.0",
          "state": {
            "_model_module": "@jupyter-widgets/base",
            "_model_module_version": "1.2.0",
            "_model_name": "LayoutModel",
            "_view_count": null,
            "_view_module": "@jupyter-widgets/base",
            "_view_module_version": "1.2.0",
            "_view_name": "LayoutView",
            "align_content": null,
            "align_items": null,
            "align_self": null,
            "border": null,
            "bottom": null,
            "display": null,
            "flex": null,
            "flex_flow": null,
            "grid_area": null,
            "grid_auto_columns": null,
            "grid_auto_flow": null,
            "grid_auto_rows": null,
            "grid_column": null,
            "grid_gap": null,
            "grid_row": null,
            "grid_template_areas": null,
            "grid_template_columns": null,
            "grid_template_rows": null,
            "height": null,
            "justify_content": null,
            "justify_items": null,
            "left": null,
            "margin": null,
            "max_height": null,
            "max_width": null,
            "min_height": null,
            "min_width": null,
            "object_fit": null,
            "object_position": null,
            "order": null,
            "overflow": null,
            "overflow_x": null,
            "overflow_y": null,
            "padding": null,
            "right": null,
            "top": null,
            "visibility": null,
            "width": null
          }
        },
        "d63deb9a03b94a4788c977d10be3916f": {
          "model_module": "@jupyter-widgets/controls",
          "model_name": "ProgressStyleModel",
          "model_module_version": "1.5.0",
          "state": {
            "_model_module": "@jupyter-widgets/controls",
            "_model_module_version": "1.5.0",
            "_model_name": "ProgressStyleModel",
            "_view_count": null,
            "_view_module": "@jupyter-widgets/base",
            "_view_module_version": "1.2.0",
            "_view_name": "StyleView",
            "bar_color": null,
            "description_width": ""
          }
        },
        "f2b6e7c1cbf547c19a986648350451ab": {
          "model_module": "@jupyter-widgets/base",
          "model_name": "LayoutModel",
          "model_module_version": "1.2.0",
          "state": {
            "_model_module": "@jupyter-widgets/base",
            "_model_module_version": "1.2.0",
            "_model_name": "LayoutModel",
            "_view_count": null,
            "_view_module": "@jupyter-widgets/base",
            "_view_module_version": "1.2.0",
            "_view_name": "LayoutView",
            "align_content": null,
            "align_items": null,
            "align_self": null,
            "border": null,
            "bottom": null,
            "display": null,
            "flex": null,
            "flex_flow": null,
            "grid_area": null,
            "grid_auto_columns": null,
            "grid_auto_flow": null,
            "grid_auto_rows": null,
            "grid_column": null,
            "grid_gap": null,
            "grid_row": null,
            "grid_template_areas": null,
            "grid_template_columns": null,
            "grid_template_rows": null,
            "height": null,
            "justify_content": null,
            "justify_items": null,
            "left": null,
            "margin": null,
            "max_height": null,
            "max_width": null,
            "min_height": null,
            "min_width": null,
            "object_fit": null,
            "object_position": null,
            "order": null,
            "overflow": null,
            "overflow_x": null,
            "overflow_y": null,
            "padding": null,
            "right": null,
            "top": null,
            "visibility": null,
            "width": null
          }
        },
        "92a223e1b2484a92af5657ddca75e6eb": {
          "model_module": "@jupyter-widgets/controls",
          "model_name": "DescriptionStyleModel",
          "model_module_version": "1.5.0",
          "state": {
            "_model_module": "@jupyter-widgets/controls",
            "_model_module_version": "1.5.0",
            "_model_name": "DescriptionStyleModel",
            "_view_count": null,
            "_view_module": "@jupyter-widgets/base",
            "_view_module_version": "1.2.0",
            "_view_name": "StyleView",
            "description_width": ""
          }
        },
        "05b2336c37c4430599ff8548dd01cd98": {
          "model_module": "@jupyter-widgets/controls",
          "model_name": "HBoxModel",
          "model_module_version": "1.5.0",
          "state": {
            "_dom_classes": [],
            "_model_module": "@jupyter-widgets/controls",
            "_model_module_version": "1.5.0",
            "_model_name": "HBoxModel",
            "_view_count": null,
            "_view_module": "@jupyter-widgets/controls",
            "_view_module_version": "1.5.0",
            "_view_name": "HBoxView",
            "box_style": "",
            "children": [
              "IPY_MODEL_6a4e4e1b16334797a47a174da8202fba",
              "IPY_MODEL_0a986a6a98e144f4b6997f01e4db3af7",
              "IPY_MODEL_4c98edb14cf84629845c79e2c02aec72"
            ],
            "layout": "IPY_MODEL_4ed78e69130b453799737d8fda5fb652"
          }
        },
        "6a4e4e1b16334797a47a174da8202fba": {
          "model_module": "@jupyter-widgets/controls",
          "model_name": "HTMLModel",
          "model_module_version": "1.5.0",
          "state": {
            "_dom_classes": [],
            "_model_module": "@jupyter-widgets/controls",
            "_model_module_version": "1.5.0",
            "_model_name": "HTMLModel",
            "_view_count": null,
            "_view_module": "@jupyter-widgets/controls",
            "_view_module_version": "1.5.0",
            "_view_name": "HTMLView",
            "description": "",
            "description_tooltip": null,
            "layout": "IPY_MODEL_a821417ca9ea44a3a80072f9142729fb",
            "placeholder": "​",
            "style": "IPY_MODEL_bcbf77cca14544a4a532cc1f553af214",
            "value": "special_tokens_map.json: 100%"
          }
        },
        "0a986a6a98e144f4b6997f01e4db3af7": {
          "model_module": "@jupyter-widgets/controls",
          "model_name": "FloatProgressModel",
          "model_module_version": "1.5.0",
          "state": {
            "_dom_classes": [],
            "_model_module": "@jupyter-widgets/controls",
            "_model_module_version": "1.5.0",
            "_model_name": "FloatProgressModel",
            "_view_count": null,
            "_view_module": "@jupyter-widgets/controls",
            "_view_module_version": "1.5.0",
            "_view_name": "ProgressView",
            "bar_style": "success",
            "description": "",
            "description_tooltip": null,
            "layout": "IPY_MODEL_46a1af972c944607907089ed8cf646d2",
            "max": 113,
            "min": 0,
            "orientation": "horizontal",
            "style": "IPY_MODEL_99c6433f7ea34d709d4b0eefa8ac3bdb",
            "value": 113
          }
        },
        "4c98edb14cf84629845c79e2c02aec72": {
          "model_module": "@jupyter-widgets/controls",
          "model_name": "HTMLModel",
          "model_module_version": "1.5.0",
          "state": {
            "_dom_classes": [],
            "_model_module": "@jupyter-widgets/controls",
            "_model_module_version": "1.5.0",
            "_model_name": "HTMLModel",
            "_view_count": null,
            "_view_module": "@jupyter-widgets/controls",
            "_view_module_version": "1.5.0",
            "_view_name": "HTMLView",
            "description": "",
            "description_tooltip": null,
            "layout": "IPY_MODEL_1ca24f9bf1fe4fbe83dec6c23fc8527f",
            "placeholder": "​",
            "style": "IPY_MODEL_d74ae99604ea451eb0dc4f2748678130",
            "value": " 113/113 [00:00&lt;00:00, 8.41kB/s]"
          }
        },
        "4ed78e69130b453799737d8fda5fb652": {
          "model_module": "@jupyter-widgets/base",
          "model_name": "LayoutModel",
          "model_module_version": "1.2.0",
          "state": {
            "_model_module": "@jupyter-widgets/base",
            "_model_module_version": "1.2.0",
            "_model_name": "LayoutModel",
            "_view_count": null,
            "_view_module": "@jupyter-widgets/base",
            "_view_module_version": "1.2.0",
            "_view_name": "LayoutView",
            "align_content": null,
            "align_items": null,
            "align_self": null,
            "border": null,
            "bottom": null,
            "display": null,
            "flex": null,
            "flex_flow": null,
            "grid_area": null,
            "grid_auto_columns": null,
            "grid_auto_flow": null,
            "grid_auto_rows": null,
            "grid_column": null,
            "grid_gap": null,
            "grid_row": null,
            "grid_template_areas": null,
            "grid_template_columns": null,
            "grid_template_rows": null,
            "height": null,
            "justify_content": null,
            "justify_items": null,
            "left": null,
            "margin": null,
            "max_height": null,
            "max_width": null,
            "min_height": null,
            "min_width": null,
            "object_fit": null,
            "object_position": null,
            "order": null,
            "overflow": null,
            "overflow_x": null,
            "overflow_y": null,
            "padding": null,
            "right": null,
            "top": null,
            "visibility": null,
            "width": null
          }
        },
        "a821417ca9ea44a3a80072f9142729fb": {
          "model_module": "@jupyter-widgets/base",
          "model_name": "LayoutModel",
          "model_module_version": "1.2.0",
          "state": {
            "_model_module": "@jupyter-widgets/base",
            "_model_module_version": "1.2.0",
            "_model_name": "LayoutModel",
            "_view_count": null,
            "_view_module": "@jupyter-widgets/base",
            "_view_module_version": "1.2.0",
            "_view_name": "LayoutView",
            "align_content": null,
            "align_items": null,
            "align_self": null,
            "border": null,
            "bottom": null,
            "display": null,
            "flex": null,
            "flex_flow": null,
            "grid_area": null,
            "grid_auto_columns": null,
            "grid_auto_flow": null,
            "grid_auto_rows": null,
            "grid_column": null,
            "grid_gap": null,
            "grid_row": null,
            "grid_template_areas": null,
            "grid_template_columns": null,
            "grid_template_rows": null,
            "height": null,
            "justify_content": null,
            "justify_items": null,
            "left": null,
            "margin": null,
            "max_height": null,
            "max_width": null,
            "min_height": null,
            "min_width": null,
            "object_fit": null,
            "object_position": null,
            "order": null,
            "overflow": null,
            "overflow_x": null,
            "overflow_y": null,
            "padding": null,
            "right": null,
            "top": null,
            "visibility": null,
            "width": null
          }
        },
        "bcbf77cca14544a4a532cc1f553af214": {
          "model_module": "@jupyter-widgets/controls",
          "model_name": "DescriptionStyleModel",
          "model_module_version": "1.5.0",
          "state": {
            "_model_module": "@jupyter-widgets/controls",
            "_model_module_version": "1.5.0",
            "_model_name": "DescriptionStyleModel",
            "_view_count": null,
            "_view_module": "@jupyter-widgets/base",
            "_view_module_version": "1.2.0",
            "_view_name": "StyleView",
            "description_width": ""
          }
        },
        "46a1af972c944607907089ed8cf646d2": {
          "model_module": "@jupyter-widgets/base",
          "model_name": "LayoutModel",
          "model_module_version": "1.2.0",
          "state": {
            "_model_module": "@jupyter-widgets/base",
            "_model_module_version": "1.2.0",
            "_model_name": "LayoutModel",
            "_view_count": null,
            "_view_module": "@jupyter-widgets/base",
            "_view_module_version": "1.2.0",
            "_view_name": "LayoutView",
            "align_content": null,
            "align_items": null,
            "align_self": null,
            "border": null,
            "bottom": null,
            "display": null,
            "flex": null,
            "flex_flow": null,
            "grid_area": null,
            "grid_auto_columns": null,
            "grid_auto_flow": null,
            "grid_auto_rows": null,
            "grid_column": null,
            "grid_gap": null,
            "grid_row": null,
            "grid_template_areas": null,
            "grid_template_columns": null,
            "grid_template_rows": null,
            "height": null,
            "justify_content": null,
            "justify_items": null,
            "left": null,
            "margin": null,
            "max_height": null,
            "max_width": null,
            "min_height": null,
            "min_width": null,
            "object_fit": null,
            "object_position": null,
            "order": null,
            "overflow": null,
            "overflow_x": null,
            "overflow_y": null,
            "padding": null,
            "right": null,
            "top": null,
            "visibility": null,
            "width": null
          }
        },
        "99c6433f7ea34d709d4b0eefa8ac3bdb": {
          "model_module": "@jupyter-widgets/controls",
          "model_name": "ProgressStyleModel",
          "model_module_version": "1.5.0",
          "state": {
            "_model_module": "@jupyter-widgets/controls",
            "_model_module_version": "1.5.0",
            "_model_name": "ProgressStyleModel",
            "_view_count": null,
            "_view_module": "@jupyter-widgets/base",
            "_view_module_version": "1.2.0",
            "_view_name": "StyleView",
            "bar_color": null,
            "description_width": ""
          }
        },
        "1ca24f9bf1fe4fbe83dec6c23fc8527f": {
          "model_module": "@jupyter-widgets/base",
          "model_name": "LayoutModel",
          "model_module_version": "1.2.0",
          "state": {
            "_model_module": "@jupyter-widgets/base",
            "_model_module_version": "1.2.0",
            "_model_name": "LayoutModel",
            "_view_count": null,
            "_view_module": "@jupyter-widgets/base",
            "_view_module_version": "1.2.0",
            "_view_name": "LayoutView",
            "align_content": null,
            "align_items": null,
            "align_self": null,
            "border": null,
            "bottom": null,
            "display": null,
            "flex": null,
            "flex_flow": null,
            "grid_area": null,
            "grid_auto_columns": null,
            "grid_auto_flow": null,
            "grid_auto_rows": null,
            "grid_column": null,
            "grid_gap": null,
            "grid_row": null,
            "grid_template_areas": null,
            "grid_template_columns": null,
            "grid_template_rows": null,
            "height": null,
            "justify_content": null,
            "justify_items": null,
            "left": null,
            "margin": null,
            "max_height": null,
            "max_width": null,
            "min_height": null,
            "min_width": null,
            "object_fit": null,
            "object_position": null,
            "order": null,
            "overflow": null,
            "overflow_x": null,
            "overflow_y": null,
            "padding": null,
            "right": null,
            "top": null,
            "visibility": null,
            "width": null
          }
        },
        "d74ae99604ea451eb0dc4f2748678130": {
          "model_module": "@jupyter-widgets/controls",
          "model_name": "DescriptionStyleModel",
          "model_module_version": "1.5.0",
          "state": {
            "_model_module": "@jupyter-widgets/controls",
            "_model_module_version": "1.5.0",
            "_model_name": "DescriptionStyleModel",
            "_view_count": null,
            "_view_module": "@jupyter-widgets/base",
            "_view_module_version": "1.2.0",
            "_view_name": "StyleView",
            "description_width": ""
          }
        },
        "21e793036d8f4b23826c1fee6e0e20a4": {
          "model_module": "@jupyter-widgets/controls",
          "model_name": "HBoxModel",
          "model_module_version": "1.5.0",
          "state": {
            "_dom_classes": [],
            "_model_module": "@jupyter-widgets/controls",
            "_model_module_version": "1.5.0",
            "_model_name": "HBoxModel",
            "_view_count": null,
            "_view_module": "@jupyter-widgets/controls",
            "_view_module_version": "1.5.0",
            "_view_name": "HBoxView",
            "box_style": "",
            "children": [
              "IPY_MODEL_1e6f65ec39bb4c988b061ed18177d156",
              "IPY_MODEL_546c03564bdd42ecb9001acf3623c0d1",
              "IPY_MODEL_0c09106dd181483ab51d205973325e28"
            ],
            "layout": "IPY_MODEL_b192957629894d87a79d12e96d9996d7"
          }
        },
        "1e6f65ec39bb4c988b061ed18177d156": {
          "model_module": "@jupyter-widgets/controls",
          "model_name": "HTMLModel",
          "model_module_version": "1.5.0",
          "state": {
            "_dom_classes": [],
            "_model_module": "@jupyter-widgets/controls",
            "_model_module_version": "1.5.0",
            "_model_name": "HTMLModel",
            "_view_count": null,
            "_view_module": "@jupyter-widgets/controls",
            "_view_module_version": "1.5.0",
            "_view_name": "HTMLView",
            "description": "",
            "description_tooltip": null,
            "layout": "IPY_MODEL_0493a8fd7fb8482e986282b9958c9538",
            "placeholder": "​",
            "style": "IPY_MODEL_90745a2eb52c425b8b1eabfb9b283fb5",
            "value": "pytorch_model.bin: 100%"
          }
        },
        "546c03564bdd42ecb9001acf3623c0d1": {
          "model_module": "@jupyter-widgets/controls",
          "model_name": "FloatProgressModel",
          "model_module_version": "1.5.0",
          "state": {
            "_dom_classes": [],
            "_model_module": "@jupyter-widgets/controls",
            "_model_module_version": "1.5.0",
            "_model_name": "FloatProgressModel",
            "_view_count": null,
            "_view_module": "@jupyter-widgets/controls",
            "_view_module_version": "1.5.0",
            "_view_name": "ProgressView",
            "bar_style": "success",
            "description": "",
            "description_tooltip": null,
            "layout": "IPY_MODEL_0325e9e4b167486fa4cfd0631cef13d9",
            "max": 953477430,
            "min": 0,
            "orientation": "horizontal",
            "style": "IPY_MODEL_8f456708eb3b4e3a8f10b2bb30db041f",
            "value": 953477430
          }
        },
        "0c09106dd181483ab51d205973325e28": {
          "model_module": "@jupyter-widgets/controls",
          "model_name": "HTMLModel",
          "model_module_version": "1.5.0",
          "state": {
            "_dom_classes": [],
            "_model_module": "@jupyter-widgets/controls",
            "_model_module_version": "1.5.0",
            "_model_name": "HTMLModel",
            "_view_count": null,
            "_view_module": "@jupyter-widgets/controls",
            "_view_module_version": "1.5.0",
            "_view_name": "HTMLView",
            "description": "",
            "description_tooltip": null,
            "layout": "IPY_MODEL_a669e420a1c5489eb5e11a1927389376",
            "placeholder": "​",
            "style": "IPY_MODEL_35ab375dcd0e4aedaf4b1590f708f19e",
            "value": " 953M/953M [00:03&lt;00:00, 270MB/s]"
          }
        },
        "b192957629894d87a79d12e96d9996d7": {
          "model_module": "@jupyter-widgets/base",
          "model_name": "LayoutModel",
          "model_module_version": "1.2.0",
          "state": {
            "_model_module": "@jupyter-widgets/base",
            "_model_module_version": "1.2.0",
            "_model_name": "LayoutModel",
            "_view_count": null,
            "_view_module": "@jupyter-widgets/base",
            "_view_module_version": "1.2.0",
            "_view_name": "LayoutView",
            "align_content": null,
            "align_items": null,
            "align_self": null,
            "border": null,
            "bottom": null,
            "display": null,
            "flex": null,
            "flex_flow": null,
            "grid_area": null,
            "grid_auto_columns": null,
            "grid_auto_flow": null,
            "grid_auto_rows": null,
            "grid_column": null,
            "grid_gap": null,
            "grid_row": null,
            "grid_template_areas": null,
            "grid_template_columns": null,
            "grid_template_rows": null,
            "height": null,
            "justify_content": null,
            "justify_items": null,
            "left": null,
            "margin": null,
            "max_height": null,
            "max_width": null,
            "min_height": null,
            "min_width": null,
            "object_fit": null,
            "object_position": null,
            "order": null,
            "overflow": null,
            "overflow_x": null,
            "overflow_y": null,
            "padding": null,
            "right": null,
            "top": null,
            "visibility": null,
            "width": null
          }
        },
        "0493a8fd7fb8482e986282b9958c9538": {
          "model_module": "@jupyter-widgets/base",
          "model_name": "LayoutModel",
          "model_module_version": "1.2.0",
          "state": {
            "_model_module": "@jupyter-widgets/base",
            "_model_module_version": "1.2.0",
            "_model_name": "LayoutModel",
            "_view_count": null,
            "_view_module": "@jupyter-widgets/base",
            "_view_module_version": "1.2.0",
            "_view_name": "LayoutView",
            "align_content": null,
            "align_items": null,
            "align_self": null,
            "border": null,
            "bottom": null,
            "display": null,
            "flex": null,
            "flex_flow": null,
            "grid_area": null,
            "grid_auto_columns": null,
            "grid_auto_flow": null,
            "grid_auto_rows": null,
            "grid_column": null,
            "grid_gap": null,
            "grid_row": null,
            "grid_template_areas": null,
            "grid_template_columns": null,
            "grid_template_rows": null,
            "height": null,
            "justify_content": null,
            "justify_items": null,
            "left": null,
            "margin": null,
            "max_height": null,
            "max_width": null,
            "min_height": null,
            "min_width": null,
            "object_fit": null,
            "object_position": null,
            "order": null,
            "overflow": null,
            "overflow_x": null,
            "overflow_y": null,
            "padding": null,
            "right": null,
            "top": null,
            "visibility": null,
            "width": null
          }
        },
        "90745a2eb52c425b8b1eabfb9b283fb5": {
          "model_module": "@jupyter-widgets/controls",
          "model_name": "DescriptionStyleModel",
          "model_module_version": "1.5.0",
          "state": {
            "_model_module": "@jupyter-widgets/controls",
            "_model_module_version": "1.5.0",
            "_model_name": "DescriptionStyleModel",
            "_view_count": null,
            "_view_module": "@jupyter-widgets/base",
            "_view_module_version": "1.2.0",
            "_view_name": "StyleView",
            "description_width": ""
          }
        },
        "0325e9e4b167486fa4cfd0631cef13d9": {
          "model_module": "@jupyter-widgets/base",
          "model_name": "LayoutModel",
          "model_module_version": "1.2.0",
          "state": {
            "_model_module": "@jupyter-widgets/base",
            "_model_module_version": "1.2.0",
            "_model_name": "LayoutModel",
            "_view_count": null,
            "_view_module": "@jupyter-widgets/base",
            "_view_module_version": "1.2.0",
            "_view_name": "LayoutView",
            "align_content": null,
            "align_items": null,
            "align_self": null,
            "border": null,
            "bottom": null,
            "display": null,
            "flex": null,
            "flex_flow": null,
            "grid_area": null,
            "grid_auto_columns": null,
            "grid_auto_flow": null,
            "grid_auto_rows": null,
            "grid_column": null,
            "grid_gap": null,
            "grid_row": null,
            "grid_template_areas": null,
            "grid_template_columns": null,
            "grid_template_rows": null,
            "height": null,
            "justify_content": null,
            "justify_items": null,
            "left": null,
            "margin": null,
            "max_height": null,
            "max_width": null,
            "min_height": null,
            "min_width": null,
            "object_fit": null,
            "object_position": null,
            "order": null,
            "overflow": null,
            "overflow_x": null,
            "overflow_y": null,
            "padding": null,
            "right": null,
            "top": null,
            "visibility": null,
            "width": null
          }
        },
        "8f456708eb3b4e3a8f10b2bb30db041f": {
          "model_module": "@jupyter-widgets/controls",
          "model_name": "ProgressStyleModel",
          "model_module_version": "1.5.0",
          "state": {
            "_model_module": "@jupyter-widgets/controls",
            "_model_module_version": "1.5.0",
            "_model_name": "ProgressStyleModel",
            "_view_count": null,
            "_view_module": "@jupyter-widgets/base",
            "_view_module_version": "1.2.0",
            "_view_name": "StyleView",
            "bar_color": null,
            "description_width": ""
          }
        },
        "a669e420a1c5489eb5e11a1927389376": {
          "model_module": "@jupyter-widgets/base",
          "model_name": "LayoutModel",
          "model_module_version": "1.2.0",
          "state": {
            "_model_module": "@jupyter-widgets/base",
            "_model_module_version": "1.2.0",
            "_model_name": "LayoutModel",
            "_view_count": null,
            "_view_module": "@jupyter-widgets/base",
            "_view_module_version": "1.2.0",
            "_view_name": "LayoutView",
            "align_content": null,
            "align_items": null,
            "align_self": null,
            "border": null,
            "bottom": null,
            "display": null,
            "flex": null,
            "flex_flow": null,
            "grid_area": null,
            "grid_auto_columns": null,
            "grid_auto_flow": null,
            "grid_auto_rows": null,
            "grid_column": null,
            "grid_gap": null,
            "grid_row": null,
            "grid_template_areas": null,
            "grid_template_columns": null,
            "grid_template_rows": null,
            "height": null,
            "justify_content": null,
            "justify_items": null,
            "left": null,
            "margin": null,
            "max_height": null,
            "max_width": null,
            "min_height": null,
            "min_width": null,
            "object_fit": null,
            "object_position": null,
            "order": null,
            "overflow": null,
            "overflow_x": null,
            "overflow_y": null,
            "padding": null,
            "right": null,
            "top": null,
            "visibility": null,
            "width": null
          }
        },
        "35ab375dcd0e4aedaf4b1590f708f19e": {
          "model_module": "@jupyter-widgets/controls",
          "model_name": "DescriptionStyleModel",
          "model_module_version": "1.5.0",
          "state": {
            "_model_module": "@jupyter-widgets/controls",
            "_model_module_version": "1.5.0",
            "_model_name": "DescriptionStyleModel",
            "_view_count": null,
            "_view_module": "@jupyter-widgets/base",
            "_view_module_version": "1.2.0",
            "_view_name": "StyleView",
            "description_width": ""
          }
        },
        "bbb79e434e024f148690bd02133d1439": {
          "model_module": "@jupyter-widgets/controls",
          "model_name": "HBoxModel",
          "model_module_version": "1.5.0",
          "state": {
            "_dom_classes": [],
            "_model_module": "@jupyter-widgets/controls",
            "_model_module_version": "1.5.0",
            "_model_name": "HBoxModel",
            "_view_count": null,
            "_view_module": "@jupyter-widgets/controls",
            "_view_module_version": "1.5.0",
            "_view_name": "HBoxView",
            "box_style": "",
            "children": [
              "IPY_MODEL_c7f6c0b1246242528529a987b116e0b8",
              "IPY_MODEL_23d2e52db76d42b1ad6b6353e94c2203",
              "IPY_MODEL_39318621ffe649819e84c5411abb2e43"
            ],
            "layout": "IPY_MODEL_7ce3d4eed8734d2b8a096cffd41c63d6"
          }
        },
        "c7f6c0b1246242528529a987b116e0b8": {
          "model_module": "@jupyter-widgets/controls",
          "model_name": "HTMLModel",
          "model_module_version": "1.5.0",
          "state": {
            "_dom_classes": [],
            "_model_module": "@jupyter-widgets/controls",
            "_model_module_version": "1.5.0",
            "_model_name": "HTMLModel",
            "_view_count": null,
            "_view_module": "@jupyter-widgets/controls",
            "_view_module_version": "1.5.0",
            "_view_name": "HTMLView",
            "description": "",
            "description_tooltip": null,
            "layout": "IPY_MODEL_3260d198fb8d41739e2c73bc2af3e862",
            "placeholder": "​",
            "style": "IPY_MODEL_859f7bc3c56d4c148bff7022947eff76",
            "value": "README.md: 100%"
          }
        },
        "23d2e52db76d42b1ad6b6353e94c2203": {
          "model_module": "@jupyter-widgets/controls",
          "model_name": "FloatProgressModel",
          "model_module_version": "1.5.0",
          "state": {
            "_dom_classes": [],
            "_model_module": "@jupyter-widgets/controls",
            "_model_module_version": "1.5.0",
            "_model_name": "FloatProgressModel",
            "_view_count": null,
            "_view_module": "@jupyter-widgets/controls",
            "_view_module_version": "1.5.0",
            "_view_name": "ProgressView",
            "bar_style": "success",
            "description": "",
            "description_tooltip": null,
            "layout": "IPY_MODEL_b5d4735e060e4414b684ecb23d396554",
            "max": 1533,
            "min": 0,
            "orientation": "horizontal",
            "style": "IPY_MODEL_60a26924e1a748cf957f4358c517e2bf",
            "value": 1533
          }
        },
        "39318621ffe649819e84c5411abb2e43": {
          "model_module": "@jupyter-widgets/controls",
          "model_name": "HTMLModel",
          "model_module_version": "1.5.0",
          "state": {
            "_dom_classes": [],
            "_model_module": "@jupyter-widgets/controls",
            "_model_module_version": "1.5.0",
            "_model_name": "HTMLModel",
            "_view_count": null,
            "_view_module": "@jupyter-widgets/controls",
            "_view_module_version": "1.5.0",
            "_view_name": "HTMLView",
            "description": "",
            "description_tooltip": null,
            "layout": "IPY_MODEL_5f7d309708a44ca1b4e9b3fee5e04b2d",
            "placeholder": "​",
            "style": "IPY_MODEL_7866518989d845be878d21a5066c68e3",
            "value": " 1.53k/1.53k [00:00&lt;00:00, 135kB/s]"
          }
        },
        "7ce3d4eed8734d2b8a096cffd41c63d6": {
          "model_module": "@jupyter-widgets/base",
          "model_name": "LayoutModel",
          "model_module_version": "1.2.0",
          "state": {
            "_model_module": "@jupyter-widgets/base",
            "_model_module_version": "1.2.0",
            "_model_name": "LayoutModel",
            "_view_count": null,
            "_view_module": "@jupyter-widgets/base",
            "_view_module_version": "1.2.0",
            "_view_name": "LayoutView",
            "align_content": null,
            "align_items": null,
            "align_self": null,
            "border": null,
            "bottom": null,
            "display": null,
            "flex": null,
            "flex_flow": null,
            "grid_area": null,
            "grid_auto_columns": null,
            "grid_auto_flow": null,
            "grid_auto_rows": null,
            "grid_column": null,
            "grid_gap": null,
            "grid_row": null,
            "grid_template_areas": null,
            "grid_template_columns": null,
            "grid_template_rows": null,
            "height": null,
            "justify_content": null,
            "justify_items": null,
            "left": null,
            "margin": null,
            "max_height": null,
            "max_width": null,
            "min_height": null,
            "min_width": null,
            "object_fit": null,
            "object_position": null,
            "order": null,
            "overflow": null,
            "overflow_x": null,
            "overflow_y": null,
            "padding": null,
            "right": null,
            "top": null,
            "visibility": null,
            "width": null
          }
        },
        "3260d198fb8d41739e2c73bc2af3e862": {
          "model_module": "@jupyter-widgets/base",
          "model_name": "LayoutModel",
          "model_module_version": "1.2.0",
          "state": {
            "_model_module": "@jupyter-widgets/base",
            "_model_module_version": "1.2.0",
            "_model_name": "LayoutModel",
            "_view_count": null,
            "_view_module": "@jupyter-widgets/base",
            "_view_module_version": "1.2.0",
            "_view_name": "LayoutView",
            "align_content": null,
            "align_items": null,
            "align_self": null,
            "border": null,
            "bottom": null,
            "display": null,
            "flex": null,
            "flex_flow": null,
            "grid_area": null,
            "grid_auto_columns": null,
            "grid_auto_flow": null,
            "grid_auto_rows": null,
            "grid_column": null,
            "grid_gap": null,
            "grid_row": null,
            "grid_template_areas": null,
            "grid_template_columns": null,
            "grid_template_rows": null,
            "height": null,
            "justify_content": null,
            "justify_items": null,
            "left": null,
            "margin": null,
            "max_height": null,
            "max_width": null,
            "min_height": null,
            "min_width": null,
            "object_fit": null,
            "object_position": null,
            "order": null,
            "overflow": null,
            "overflow_x": null,
            "overflow_y": null,
            "padding": null,
            "right": null,
            "top": null,
            "visibility": null,
            "width": null
          }
        },
        "859f7bc3c56d4c148bff7022947eff76": {
          "model_module": "@jupyter-widgets/controls",
          "model_name": "DescriptionStyleModel",
          "model_module_version": "1.5.0",
          "state": {
            "_model_module": "@jupyter-widgets/controls",
            "_model_module_version": "1.5.0",
            "_model_name": "DescriptionStyleModel",
            "_view_count": null,
            "_view_module": "@jupyter-widgets/base",
            "_view_module_version": "1.2.0",
            "_view_name": "StyleView",
            "description_width": ""
          }
        },
        "b5d4735e060e4414b684ecb23d396554": {
          "model_module": "@jupyter-widgets/base",
          "model_name": "LayoutModel",
          "model_module_version": "1.2.0",
          "state": {
            "_model_module": "@jupyter-widgets/base",
            "_model_module_version": "1.2.0",
            "_model_name": "LayoutModel",
            "_view_count": null,
            "_view_module": "@jupyter-widgets/base",
            "_view_module_version": "1.2.0",
            "_view_name": "LayoutView",
            "align_content": null,
            "align_items": null,
            "align_self": null,
            "border": null,
            "bottom": null,
            "display": null,
            "flex": null,
            "flex_flow": null,
            "grid_area": null,
            "grid_auto_columns": null,
            "grid_auto_flow": null,
            "grid_auto_rows": null,
            "grid_column": null,
            "grid_gap": null,
            "grid_row": null,
            "grid_template_areas": null,
            "grid_template_columns": null,
            "grid_template_rows": null,
            "height": null,
            "justify_content": null,
            "justify_items": null,
            "left": null,
            "margin": null,
            "max_height": null,
            "max_width": null,
            "min_height": null,
            "min_width": null,
            "object_fit": null,
            "object_position": null,
            "order": null,
            "overflow": null,
            "overflow_x": null,
            "overflow_y": null,
            "padding": null,
            "right": null,
            "top": null,
            "visibility": null,
            "width": null
          }
        },
        "60a26924e1a748cf957f4358c517e2bf": {
          "model_module": "@jupyter-widgets/controls",
          "model_name": "ProgressStyleModel",
          "model_module_version": "1.5.0",
          "state": {
            "_model_module": "@jupyter-widgets/controls",
            "_model_module_version": "1.5.0",
            "_model_name": "ProgressStyleModel",
            "_view_count": null,
            "_view_module": "@jupyter-widgets/base",
            "_view_module_version": "1.2.0",
            "_view_name": "StyleView",
            "bar_color": null,
            "description_width": ""
          }
        },
        "5f7d309708a44ca1b4e9b3fee5e04b2d": {
          "model_module": "@jupyter-widgets/base",
          "model_name": "LayoutModel",
          "model_module_version": "1.2.0",
          "state": {
            "_model_module": "@jupyter-widgets/base",
            "_model_module_version": "1.2.0",
            "_model_name": "LayoutModel",
            "_view_count": null,
            "_view_module": "@jupyter-widgets/base",
            "_view_module_version": "1.2.0",
            "_view_name": "LayoutView",
            "align_content": null,
            "align_items": null,
            "align_self": null,
            "border": null,
            "bottom": null,
            "display": null,
            "flex": null,
            "flex_flow": null,
            "grid_area": null,
            "grid_auto_columns": null,
            "grid_auto_flow": null,
            "grid_auto_rows": null,
            "grid_column": null,
            "grid_gap": null,
            "grid_row": null,
            "grid_template_areas": null,
            "grid_template_columns": null,
            "grid_template_rows": null,
            "height": null,
            "justify_content": null,
            "justify_items": null,
            "left": null,
            "margin": null,
            "max_height": null,
            "max_width": null,
            "min_height": null,
            "min_width": null,
            "object_fit": null,
            "object_position": null,
            "order": null,
            "overflow": null,
            "overflow_x": null,
            "overflow_y": null,
            "padding": null,
            "right": null,
            "top": null,
            "visibility": null,
            "width": null
          }
        },
        "7866518989d845be878d21a5066c68e3": {
          "model_module": "@jupyter-widgets/controls",
          "model_name": "DescriptionStyleModel",
          "model_module_version": "1.5.0",
          "state": {
            "_model_module": "@jupyter-widgets/controls",
            "_model_module_version": "1.5.0",
            "_model_name": "DescriptionStyleModel",
            "_view_count": null,
            "_view_module": "@jupyter-widgets/base",
            "_view_module_version": "1.2.0",
            "_view_name": "StyleView",
            "description_width": ""
          }
        },
        "c315d078dade4c89be51632269a9ce9f": {
          "model_module": "@jupyter-widgets/controls",
          "model_name": "HBoxModel",
          "model_module_version": "1.5.0",
          "state": {
            "_dom_classes": [],
            "_model_module": "@jupyter-widgets/controls",
            "_model_module_version": "1.5.0",
            "_model_name": "HBoxModel",
            "_view_count": null,
            "_view_module": "@jupyter-widgets/controls",
            "_view_module_version": "1.5.0",
            "_view_name": "HBoxView",
            "box_style": "",
            "children": [
              "IPY_MODEL_f4ebf300b5644a52a85299c15c112cb6",
              "IPY_MODEL_5e4c150558af4956a9db48043ecad490",
              "IPY_MODEL_33e6c339d4e74d338a20fa507dfe5dea"
            ],
            "layout": "IPY_MODEL_5bb455cbba144dd7acfa42e869904520"
          }
        },
        "f4ebf300b5644a52a85299c15c112cb6": {
          "model_module": "@jupyter-widgets/controls",
          "model_name": "HTMLModel",
          "model_module_version": "1.5.0",
          "state": {
            "_dom_classes": [],
            "_model_module": "@jupyter-widgets/controls",
            "_model_module_version": "1.5.0",
            "_model_name": "HTMLModel",
            "_view_count": null,
            "_view_module": "@jupyter-widgets/controls",
            "_view_module_version": "1.5.0",
            "_view_name": "HTMLView",
            "description": "",
            "description_tooltip": null,
            "layout": "IPY_MODEL_9cd029e6da9042cca258b99d7abe6809",
            "placeholder": "​",
            "style": "IPY_MODEL_e5f91aea2fcf47ecb85b14031ba7d893",
            "value": "README.md: 100%"
          }
        },
        "5e4c150558af4956a9db48043ecad490": {
          "model_module": "@jupyter-widgets/controls",
          "model_name": "FloatProgressModel",
          "model_module_version": "1.5.0",
          "state": {
            "_dom_classes": [],
            "_model_module": "@jupyter-widgets/controls",
            "_model_module_version": "1.5.0",
            "_model_name": "FloatProgressModel",
            "_view_count": null,
            "_view_module": "@jupyter-widgets/controls",
            "_view_module_version": "1.5.0",
            "_view_name": "ProgressView",
            "bar_style": "success",
            "description": "",
            "description_tooltip": null,
            "layout": "IPY_MODEL_ae30072a986e4e9d9a6cb9e0d6cf6ca6",
            "max": 1533,
            "min": 0,
            "orientation": "horizontal",
            "style": "IPY_MODEL_1a487a69763440d7acfaab589bcf29f1",
            "value": 1533
          }
        },
        "33e6c339d4e74d338a20fa507dfe5dea": {
          "model_module": "@jupyter-widgets/controls",
          "model_name": "HTMLModel",
          "model_module_version": "1.5.0",
          "state": {
            "_dom_classes": [],
            "_model_module": "@jupyter-widgets/controls",
            "_model_module_version": "1.5.0",
            "_model_name": "HTMLModel",
            "_view_count": null,
            "_view_module": "@jupyter-widgets/controls",
            "_view_module_version": "1.5.0",
            "_view_name": "HTMLView",
            "description": "",
            "description_tooltip": null,
            "layout": "IPY_MODEL_001528184d0c46fa9547ed2f4ab294fd",
            "placeholder": "​",
            "style": "IPY_MODEL_cd1da6ae046b407e961bc8ce8b20ed18",
            "value": " 1.53k/1.53k [00:00&lt;00:00, 125kB/s]"
          }
        },
        "5bb455cbba144dd7acfa42e869904520": {
          "model_module": "@jupyter-widgets/base",
          "model_name": "LayoutModel",
          "model_module_version": "1.2.0",
          "state": {
            "_model_module": "@jupyter-widgets/base",
            "_model_module_version": "1.2.0",
            "_model_name": "LayoutModel",
            "_view_count": null,
            "_view_module": "@jupyter-widgets/base",
            "_view_module_version": "1.2.0",
            "_view_name": "LayoutView",
            "align_content": null,
            "align_items": null,
            "align_self": null,
            "border": null,
            "bottom": null,
            "display": null,
            "flex": null,
            "flex_flow": null,
            "grid_area": null,
            "grid_auto_columns": null,
            "grid_auto_flow": null,
            "grid_auto_rows": null,
            "grid_column": null,
            "grid_gap": null,
            "grid_row": null,
            "grid_template_areas": null,
            "grid_template_columns": null,
            "grid_template_rows": null,
            "height": null,
            "justify_content": null,
            "justify_items": null,
            "left": null,
            "margin": null,
            "max_height": null,
            "max_width": null,
            "min_height": null,
            "min_width": null,
            "object_fit": null,
            "object_position": null,
            "order": null,
            "overflow": null,
            "overflow_x": null,
            "overflow_y": null,
            "padding": null,
            "right": null,
            "top": null,
            "visibility": null,
            "width": null
          }
        },
        "9cd029e6da9042cca258b99d7abe6809": {
          "model_module": "@jupyter-widgets/base",
          "model_name": "LayoutModel",
          "model_module_version": "1.2.0",
          "state": {
            "_model_module": "@jupyter-widgets/base",
            "_model_module_version": "1.2.0",
            "_model_name": "LayoutModel",
            "_view_count": null,
            "_view_module": "@jupyter-widgets/base",
            "_view_module_version": "1.2.0",
            "_view_name": "LayoutView",
            "align_content": null,
            "align_items": null,
            "align_self": null,
            "border": null,
            "bottom": null,
            "display": null,
            "flex": null,
            "flex_flow": null,
            "grid_area": null,
            "grid_auto_columns": null,
            "grid_auto_flow": null,
            "grid_auto_rows": null,
            "grid_column": null,
            "grid_gap": null,
            "grid_row": null,
            "grid_template_areas": null,
            "grid_template_columns": null,
            "grid_template_rows": null,
            "height": null,
            "justify_content": null,
            "justify_items": null,
            "left": null,
            "margin": null,
            "max_height": null,
            "max_width": null,
            "min_height": null,
            "min_width": null,
            "object_fit": null,
            "object_position": null,
            "order": null,
            "overflow": null,
            "overflow_x": null,
            "overflow_y": null,
            "padding": null,
            "right": null,
            "top": null,
            "visibility": null,
            "width": null
          }
        },
        "e5f91aea2fcf47ecb85b14031ba7d893": {
          "model_module": "@jupyter-widgets/controls",
          "model_name": "DescriptionStyleModel",
          "model_module_version": "1.5.0",
          "state": {
            "_model_module": "@jupyter-widgets/controls",
            "_model_module_version": "1.5.0",
            "_model_name": "DescriptionStyleModel",
            "_view_count": null,
            "_view_module": "@jupyter-widgets/base",
            "_view_module_version": "1.2.0",
            "_view_name": "StyleView",
            "description_width": ""
          }
        },
        "ae30072a986e4e9d9a6cb9e0d6cf6ca6": {
          "model_module": "@jupyter-widgets/base",
          "model_name": "LayoutModel",
          "model_module_version": "1.2.0",
          "state": {
            "_model_module": "@jupyter-widgets/base",
            "_model_module_version": "1.2.0",
            "_model_name": "LayoutModel",
            "_view_count": null,
            "_view_module": "@jupyter-widgets/base",
            "_view_module_version": "1.2.0",
            "_view_name": "LayoutView",
            "align_content": null,
            "align_items": null,
            "align_self": null,
            "border": null,
            "bottom": null,
            "display": null,
            "flex": null,
            "flex_flow": null,
            "grid_area": null,
            "grid_auto_columns": null,
            "grid_auto_flow": null,
            "grid_auto_rows": null,
            "grid_column": null,
            "grid_gap": null,
            "grid_row": null,
            "grid_template_areas": null,
            "grid_template_columns": null,
            "grid_template_rows": null,
            "height": null,
            "justify_content": null,
            "justify_items": null,
            "left": null,
            "margin": null,
            "max_height": null,
            "max_width": null,
            "min_height": null,
            "min_width": null,
            "object_fit": null,
            "object_position": null,
            "order": null,
            "overflow": null,
            "overflow_x": null,
            "overflow_y": null,
            "padding": null,
            "right": null,
            "top": null,
            "visibility": null,
            "width": null
          }
        },
        "1a487a69763440d7acfaab589bcf29f1": {
          "model_module": "@jupyter-widgets/controls",
          "model_name": "ProgressStyleModel",
          "model_module_version": "1.5.0",
          "state": {
            "_model_module": "@jupyter-widgets/controls",
            "_model_module_version": "1.5.0",
            "_model_name": "ProgressStyleModel",
            "_view_count": null,
            "_view_module": "@jupyter-widgets/base",
            "_view_module_version": "1.2.0",
            "_view_name": "StyleView",
            "bar_color": null,
            "description_width": ""
          }
        },
        "001528184d0c46fa9547ed2f4ab294fd": {
          "model_module": "@jupyter-widgets/base",
          "model_name": "LayoutModel",
          "model_module_version": "1.2.0",
          "state": {
            "_model_module": "@jupyter-widgets/base",
            "_model_module_version": "1.2.0",
            "_model_name": "LayoutModel",
            "_view_count": null,
            "_view_module": "@jupyter-widgets/base",
            "_view_module_version": "1.2.0",
            "_view_name": "LayoutView",
            "align_content": null,
            "align_items": null,
            "align_self": null,
            "border": null,
            "bottom": null,
            "display": null,
            "flex": null,
            "flex_flow": null,
            "grid_area": null,
            "grid_auto_columns": null,
            "grid_auto_flow": null,
            "grid_auto_rows": null,
            "grid_column": null,
            "grid_gap": null,
            "grid_row": null,
            "grid_template_areas": null,
            "grid_template_columns": null,
            "grid_template_rows": null,
            "height": null,
            "justify_content": null,
            "justify_items": null,
            "left": null,
            "margin": null,
            "max_height": null,
            "max_width": null,
            "min_height": null,
            "min_width": null,
            "object_fit": null,
            "object_position": null,
            "order": null,
            "overflow": null,
            "overflow_x": null,
            "overflow_y": null,
            "padding": null,
            "right": null,
            "top": null,
            "visibility": null,
            "width": null
          }
        },
        "cd1da6ae046b407e961bc8ce8b20ed18": {
          "model_module": "@jupyter-widgets/controls",
          "model_name": "DescriptionStyleModel",
          "model_module_version": "1.5.0",
          "state": {
            "_model_module": "@jupyter-widgets/controls",
            "_model_module_version": "1.5.0",
            "_model_name": "DescriptionStyleModel",
            "_view_count": null,
            "_view_module": "@jupyter-widgets/base",
            "_view_module_version": "1.2.0",
            "_view_name": "StyleView",
            "description_width": ""
          }
        }
      }
    },
    "accelerator": "GPU"
  },
  "nbformat": 4,
  "nbformat_minor": 0
}