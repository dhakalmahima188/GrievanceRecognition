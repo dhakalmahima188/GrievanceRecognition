{
 "cells": [
  {
   "cell_type": "code",
   "execution_count": 36,
   "metadata": {},
   "outputs": [],
   "source": [
    "import pandas as pd\n",
    "import numpy as np\n"
   ]
  },
  {
   "cell_type": "code",
   "execution_count": 37,
   "metadata": {},
   "outputs": [],
   "source": [
    "pd.set_option('display.max_colwidth',None)  "
   ]
  },
  {
   "cell_type": "code",
   "execution_count": 38,
   "metadata": {},
   "outputs": [],
   "source": [
    "df=pd.read_excel(\"Grievance_Report (70).xlsx\")"
   ]
  },
  {
   "cell_type": "code",
   "execution_count": 39,
   "metadata": {},
   "outputs": [
    {
     "data": {
      "text/plain": [
       "Index(['S.N', 'Ward No.', 'Case No.', 'Brief Description of the grievance',\n",
       "       'Grievance by', 'Phone No.', 'Grievance addressed to',\n",
       "       'Date of Grievance', 'Department', 'Status'],\n",
       "      dtype='object')"
      ]
     },
     "execution_count": 39,
     "metadata": {},
     "output_type": "execute_result"
    }
   ],
   "source": [
    "df.columns"
   ]
  },
  {
   "cell_type": "code",
   "execution_count": 40,
   "metadata": {},
   "outputs": [],
   "source": [
    "df['Department']=\"निर्माण कार्य सम्बन्धी\""
   ]
  },
  {
   "cell_type": "code",
   "execution_count": 33,
   "metadata": {},
   "outputs": [
    {
     "data": {
      "text/html": [
       "<div>\n",
       "<style scoped>\n",
       "    .dataframe tbody tr th:only-of-type {\n",
       "        vertical-align: middle;\n",
       "    }\n",
       "\n",
       "    .dataframe tbody tr th {\n",
       "        vertical-align: top;\n",
       "    }\n",
       "\n",
       "    .dataframe thead th {\n",
       "        text-align: right;\n",
       "    }\n",
       "</style>\n",
       "<table border=\"1\" class=\"dataframe\">\n",
       "  <thead>\n",
       "    <tr style=\"text-align: right;\">\n",
       "      <th></th>\n",
       "      <th>S.N</th>\n",
       "      <th>Ward No.</th>\n",
       "      <th>Case No.</th>\n",
       "      <th>Brief Description of the grievance</th>\n",
       "      <th>Grievance by</th>\n",
       "      <th>Phone No.</th>\n",
       "      <th>Grievance addressed to</th>\n",
       "      <th>Date of Grievance</th>\n",
       "      <th>Department</th>\n",
       "      <th>Status</th>\n",
       "    </tr>\n",
       "  </thead>\n",
       "  <tbody>\n",
       "    <tr>\n",
       "      <th>374</th>\n",
       "      <td>375</td>\n",
       "      <td>Ward 16</td>\n",
       "      <td>2700</td>\n",
       "      <td>१६ वडा स्थित कुमारीथान तरुण स्कुल अगाडी ढलको म‌गालको विर्को चोरी भएर खाल्डोमा धेरै एक्सीडेन्ट भयो हालीदीनु पर्‍यो ।</td>\n",
       "      <td>Subodh Ghimire</td>\n",
       "      <td>9869624059</td>\n",
       "      <td>Hari Bahadur Buda</td>\n",
       "      <td>10/31/2022</td>\n",
       "      <td>निर्माण कार्य सम्बन्धी</td>\n",
       "      <td>open</td>\n",
       "    </tr>\n",
       "  </tbody>\n",
       "</table>\n",
       "</div>"
      ],
      "text/plain": [
       "     S.N Ward No.  Case No.  \\\n",
       "374  375  Ward 16      2700   \n",
       "\n",
       "                                                                                      Brief Description of the grievance  \\\n",
       "374  १६ वडा स्थित कुमारीथान तरुण स्कुल अगाडी ढलको म‌गालको विर्को चोरी भएर खाल्डोमा धेरै एक्सीडेन्ट भयो हालीदीनु पर्‍यो ।   \n",
       "\n",
       "       Grievance by   Phone No. Grievance addressed to Date of Grievance  \\\n",
       "374  Subodh Ghimire  9869624059      Hari Bahadur Buda        10/31/2022   \n",
       "\n",
       "                 Department Status  \n",
       "374  निर्माण कार्य सम्बन्धी   open  "
      ]
     },
     "execution_count": 33,
     "metadata": {},
     "output_type": "execute_result"
    }
   ],
   "source": [
    "df.sample()"
   ]
  },
  {
   "cell_type": "code",
   "execution_count": 41,
   "metadata": {},
   "outputs": [],
   "source": [
    "df.drop(['S.N', 'Ward No.', 'Case No.',\n",
    "       'Grievance by', 'Phone No.', 'Grievance addressed to',\n",
    "       'Date of Grievance','Status'],axis='columns',inplace=True)"
   ]
  },
  {
   "cell_type": "code",
   "execution_count": 42,
   "metadata": {},
   "outputs": [],
   "source": [
    "df.rename(columns={\"Department\":\"गुनासो वर्ग\",\"Brief Description of the grievance\":\"गुनासो\"},inplace=True)"
   ]
  },
  {
   "cell_type": "code",
   "execution_count": 29,
   "metadata": {},
   "outputs": [],
   "source": [
    "df.to_excel(\"cleaned_data/nirman.xlsx\",index=False)"
   ]
  },
  {
   "cell_type": "code",
   "execution_count": null,
   "metadata": {},
   "outputs": [],
   "source": []
  }
 ],
 "metadata": {
  "kernelspec": {
   "display_name": "venv",
   "language": "python",
   "name": "python3"
  },
  "language_info": {
   "codemirror_mode": {
    "name": "ipython",
    "version": 3
   },
   "file_extension": ".py",
   "mimetype": "text/x-python",
   "name": "python",
   "nbconvert_exporter": "python",
   "pygments_lexer": "ipython3",
   "version": "3.10.12"
  }
 },
 "nbformat": 4,
 "nbformat_minor": 2
}
