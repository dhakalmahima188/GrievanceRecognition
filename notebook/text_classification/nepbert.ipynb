{
  "cells": [
    {
      "cell_type": "code",
      "execution_count": null,
      "metadata": {
        "colab": {
          "base_uri": "https://localhost:8080/"
        },
        "id": "ucT_sW0OW8kc",
        "outputId": "bd0eefcb-36ca-4f1c-84df-7ab72e055537"
      },
      "outputs": [
        {
          "output_type": "stream",
          "name": "stdout",
          "text": [
            "\u001b[2K     \u001b[90m━━━━━━━━━━━━━━━━━━━━━━━━━━━━━━━━━━━━━━━━\u001b[0m \u001b[32m510.5/510.5 kB\u001b[0m \u001b[31m6.8 MB/s\u001b[0m eta \u001b[36m0:00:00\u001b[0m\n",
            "\u001b[2K     \u001b[90m━━━━━━━━━━━━━━━━━━━━━━━━━━━━━━━━━━━━━━━━\u001b[0m \u001b[32m2.2/2.2 MB\u001b[0m \u001b[31m13.8 MB/s\u001b[0m eta \u001b[36m0:00:00\u001b[0m\n",
            "\u001b[2K     \u001b[90m━━━━━━━━━━━━━━━━━━━━━━━━━━━━━━━━━━━━━━━━\u001b[0m \u001b[32m116.3/116.3 kB\u001b[0m \u001b[31m13.8 MB/s\u001b[0m eta \u001b[36m0:00:00\u001b[0m\n",
            "\u001b[2K     \u001b[90m━━━━━━━━━━━━━━━━━━━━━━━━━━━━━━━━━━━━━━━━\u001b[0m \u001b[32m134.8/134.8 kB\u001b[0m \u001b[31m14.8 MB/s\u001b[0m eta \u001b[36m0:00:00\u001b[0m\n",
            "\u001b[2K     \u001b[90m━━━━━━━━━━━━━━━━━━━━━━━━━━━━━━━━━━━━━━━━\u001b[0m \u001b[32m195.4/195.4 kB\u001b[0m \u001b[31m16.2 MB/s\u001b[0m eta \u001b[36m0:00:00\u001b[0m\n",
            "\u001b[2K     \u001b[90m━━━━━━━━━━━━━━━━━━━━━━━━━━━━━━━━━━━━━━━━\u001b[0m \u001b[32m258.8/258.8 kB\u001b[0m \u001b[31m17.6 MB/s\u001b[0m eta \u001b[36m0:00:00\u001b[0m\n",
            "\u001b[2K     \u001b[90m━━━━━━━━━━━━━━━━━━━━━━━━━━━━━━━━━━━━━━━━\u001b[0m \u001b[32m62.7/62.7 kB\u001b[0m \u001b[31m7.8 MB/s\u001b[0m eta \u001b[36m0:00:00\u001b[0m\n",
            "\u001b[?25h"
          ]
        }
      ],
      "source": [
        "!pip install -q torch transformers huggingface_hub datasets wandb"
      ]
    },
    {
      "cell_type": "code",
      "execution_count": null,
      "metadata": {
        "colab": {
          "base_uri": "https://localhost:8080/"
        },
        "id": "UWS5SxC6iJfD",
        "outputId": "73382b14-8fd9-4bde-c56a-68119f911c9d"
      },
      "outputs": [
        {
          "output_type": "stream",
          "name": "stdout",
          "text": [
            "Requirement already satisfied: transformers[torch] in /usr/local/lib/python3.10/dist-packages (4.38.2)\n",
            "Requirement already satisfied: filelock in /usr/local/lib/python3.10/dist-packages (from transformers[torch]) (3.13.1)\n",
            "Requirement already satisfied: huggingface-hub<1.0,>=0.19.3 in /usr/local/lib/python3.10/dist-packages (from transformers[torch]) (0.20.3)\n",
            "Requirement already satisfied: numpy>=1.17 in /usr/local/lib/python3.10/dist-packages (from transformers[torch]) (1.25.2)\n",
            "Requirement already satisfied: packaging>=20.0 in /usr/local/lib/python3.10/dist-packages (from transformers[torch]) (23.2)\n",
            "Requirement already satisfied: pyyaml>=5.1 in /usr/local/lib/python3.10/dist-packages (from transformers[torch]) (6.0.1)\n",
            "Requirement already satisfied: regex!=2019.12.17 in /usr/local/lib/python3.10/dist-packages (from transformers[torch]) (2023.12.25)\n",
            "Requirement already satisfied: requests in /usr/local/lib/python3.10/dist-packages (from transformers[torch]) (2.31.0)\n",
            "Requirement already satisfied: tokenizers<0.19,>=0.14 in /usr/local/lib/python3.10/dist-packages (from transformers[torch]) (0.15.2)\n",
            "Requirement already satisfied: safetensors>=0.4.1 in /usr/local/lib/python3.10/dist-packages (from transformers[torch]) (0.4.2)\n",
            "Requirement already satisfied: tqdm>=4.27 in /usr/local/lib/python3.10/dist-packages (from transformers[torch]) (4.66.2)\n",
            "Requirement already satisfied: torch in /usr/local/lib/python3.10/dist-packages (from transformers[torch]) (2.1.0+cu121)\n",
            "Collecting accelerate>=0.21.0 (from transformers[torch])\n",
            "  Downloading accelerate-0.27.2-py3-none-any.whl (279 kB)\n",
            "\u001b[2K     \u001b[90m━━━━━━━━━━━━━━━━━━━━━━━━━━━━━━━━━━━━━━━━\u001b[0m \u001b[32m280.0/280.0 kB\u001b[0m \u001b[31m5.6 MB/s\u001b[0m eta \u001b[36m0:00:00\u001b[0m\n",
            "\u001b[?25hRequirement already satisfied: psutil in /usr/local/lib/python3.10/dist-packages (from accelerate>=0.21.0->transformers[torch]) (5.9.5)\n",
            "Requirement already satisfied: fsspec>=2023.5.0 in /usr/local/lib/python3.10/dist-packages (from huggingface-hub<1.0,>=0.19.3->transformers[torch]) (2023.6.0)\n",
            "Requirement already satisfied: typing-extensions>=3.7.4.3 in /usr/local/lib/python3.10/dist-packages (from huggingface-hub<1.0,>=0.19.3->transformers[torch]) (4.10.0)\n",
            "Requirement already satisfied: sympy in /usr/local/lib/python3.10/dist-packages (from torch->transformers[torch]) (1.12)\n",
            "Requirement already satisfied: networkx in /usr/local/lib/python3.10/dist-packages (from torch->transformers[torch]) (3.2.1)\n",
            "Requirement already satisfied: jinja2 in /usr/local/lib/python3.10/dist-packages (from torch->transformers[torch]) (3.1.3)\n",
            "Requirement already satisfied: triton==2.1.0 in /usr/local/lib/python3.10/dist-packages (from torch->transformers[torch]) (2.1.0)\n",
            "Requirement already satisfied: charset-normalizer<4,>=2 in /usr/local/lib/python3.10/dist-packages (from requests->transformers[torch]) (3.3.2)\n",
            "Requirement already satisfied: idna<4,>=2.5 in /usr/local/lib/python3.10/dist-packages (from requests->transformers[torch]) (3.6)\n",
            "Requirement already satisfied: urllib3<3,>=1.21.1 in /usr/local/lib/python3.10/dist-packages (from requests->transformers[torch]) (2.0.7)\n",
            "Requirement already satisfied: certifi>=2017.4.17 in /usr/local/lib/python3.10/dist-packages (from requests->transformers[torch]) (2024.2.2)\n",
            "Requirement already satisfied: MarkupSafe>=2.0 in /usr/local/lib/python3.10/dist-packages (from jinja2->torch->transformers[torch]) (2.1.5)\n",
            "Requirement already satisfied: mpmath>=0.19 in /usr/local/lib/python3.10/dist-packages (from sympy->torch->transformers[torch]) (1.3.0)\n",
            "Installing collected packages: accelerate\n",
            "Successfully installed accelerate-0.27.2\n"
          ]
        }
      ],
      "source": [
        "!pip install transformers[torch]"
      ]
    },
    {
      "cell_type": "code",
      "execution_count": null,
      "metadata": {
        "id": "NJQSusBywP3a",
        "colab": {
          "base_uri": "https://localhost:8080/"
        },
        "outputId": "73d8f820-ac66-4dcf-ae27-f1b4da48042f"
      },
      "outputs": [
        {
          "output_type": "stream",
          "name": "stdout",
          "text": [
            "Mounted at /content/drive\n"
          ]
        }
      ],
      "source": [
        "from google.colab import drive\n",
        "drive.mount('/content/drive')"
      ]
    },
    {
      "cell_type": "code",
      "source": [
        "from getpass import getpass\n",
        "api_token = getpass(\"Enter your Wandb api key: \")\n"
      ],
      "metadata": {
        "id": "_dHpB17eiD9f",
        "colab": {
          "base_uri": "https://localhost:8080/"
        },
        "outputId": "cce5dafc-6d00-4aa1-c25f-00e77c7de412"
      },
      "execution_count": null,
      "outputs": [
        {
          "name": "stdout",
          "output_type": "stream",
          "text": [
            "Enter your Wandb api key: ··········\n"
          ]
        }
      ]
    },
    {
      "cell_type": "code",
      "source": [
        "import wandb\n"
      ],
      "metadata": {
        "id": "ZYKnFtVciELs"
      },
      "execution_count": null,
      "outputs": []
    },
    {
      "cell_type": "code",
      "source": [
        "wandb.login(key=api_token)\n",
        "wandb.init(project='nepbert_finetuning3')\n"
      ],
      "metadata": {
        "id": "4sqJ9yuhiLS3",
        "colab": {
          "base_uri": "https://localhost:8080/",
          "height": 296,
          "referenced_widgets": [
            "a581459b3839411cbd4d3b537509c3ee",
            "3b6a8dab09d94ebc94b8bd3a7347239f",
            "8fd02aab2a0f4f6ea011350caa1e417d",
            "778a07c312184b5187357fe906956668",
            "7ff68aa99bc94594bc312a122f8774b0",
            "1701010790e44f499ae988e1da6d9e59",
            "6dd0f4d6fcc040bab7088226e93cc376",
            "2b9d1d6a7c0745d0a325164af7644314"
          ]
        },
        "outputId": "6b8719ff-9aea-4750-c004-e227ea6ee49c"
      },
      "execution_count": null,
      "outputs": [
        {
          "output_type": "stream",
          "name": "stderr",
          "text": [
            "\u001b[34m\u001b[1mwandb\u001b[0m: W&B API key is configured. Use \u001b[1m`wandb login --relogin`\u001b[0m to force relogin\n",
            "\u001b[34m\u001b[1mwandb\u001b[0m: \u001b[33mWARNING\u001b[0m If you're specifying your api key in code, ensure this code is not shared publicly.\n",
            "\u001b[34m\u001b[1mwandb\u001b[0m: \u001b[33mWARNING\u001b[0m Consider setting the WANDB_API_KEY environment variable, or running `wandb login` from the command line.\n",
            "\u001b[34m\u001b[1mwandb\u001b[0m: Appending key for api.wandb.ai to your netrc file: /root/.netrc\n",
            "\u001b[34m\u001b[1mwandb\u001b[0m: Currently logged in as: \u001b[33mnadikapoudel16\u001b[0m. Use \u001b[1m`wandb login --relogin`\u001b[0m to force relogin\n"
          ]
        },
        {
          "output_type": "display_data",
          "data": {
            "text/plain": [
              "VBox(children=(Label(value='Waiting for wandb.init()...\\r'), FloatProgress(value=0.011113819877778042, max=1.0…"
            ],
            "application/vnd.jupyter.widget-view+json": {
              "version_major": 2,
              "version_minor": 0,
              "model_id": "a581459b3839411cbd4d3b537509c3ee"
            }
          },
          "metadata": {}
        },
        {
          "output_type": "display_data",
          "data": {
            "text/plain": [
              "<IPython.core.display.HTML object>"
            ],
            "text/html": [
              "Tracking run with wandb version 0.16.4"
            ]
          },
          "metadata": {}
        },
        {
          "output_type": "display_data",
          "data": {
            "text/plain": [
              "<IPython.core.display.HTML object>"
            ],
            "text/html": [
              "Run data is saved locally in <code>/content/wandb/run-20240311_033631-zzu9jxxa</code>"
            ]
          },
          "metadata": {}
        },
        {
          "output_type": "display_data",
          "data": {
            "text/plain": [
              "<IPython.core.display.HTML object>"
            ],
            "text/html": [
              "Syncing run <strong><a href='https://wandb.ai/nadikapoudel16/nepbert_finetuning3/runs/zzu9jxxa' target=\"_blank\">drawn-pyramid-1</a></strong> to <a href='https://wandb.ai/nadikapoudel16/nepbert_finetuning3' target=\"_blank\">Weights & Biases</a> (<a href='https://wandb.me/run' target=\"_blank\">docs</a>)<br/>"
            ]
          },
          "metadata": {}
        },
        {
          "output_type": "display_data",
          "data": {
            "text/plain": [
              "<IPython.core.display.HTML object>"
            ],
            "text/html": [
              " View project at <a href='https://wandb.ai/nadikapoudel16/nepbert_finetuning3' target=\"_blank\">https://wandb.ai/nadikapoudel16/nepbert_finetuning3</a>"
            ]
          },
          "metadata": {}
        },
        {
          "output_type": "display_data",
          "data": {
            "text/plain": [
              "<IPython.core.display.HTML object>"
            ],
            "text/html": [
              " View run at <a href='https://wandb.ai/nadikapoudel16/nepbert_finetuning3/runs/zzu9jxxa' target=\"_blank\">https://wandb.ai/nadikapoudel16/nepbert_finetuning3/runs/zzu9jxxa</a>"
            ]
          },
          "metadata": {}
        },
        {
          "output_type": "execute_result",
          "data": {
            "text/html": [
              "<button onClick=\"this.nextSibling.style.display='block';this.style.display='none';\">Display W&B run</button><iframe src='https://wandb.ai/nadikapoudel16/nepbert_finetuning3/runs/zzu9jxxa?jupyter=true' style='border:none;width:100%;height:420px;display:none;'></iframe>"
            ],
            "text/plain": [
              "<wandb.sdk.wandb_run.Run at 0x7c7f72b6dc30>"
            ]
          },
          "metadata": {},
          "execution_count": 6
        }
      ]
    },
    {
      "cell_type": "code",
      "execution_count": null,
      "metadata": {
        "colab": {
          "base_uri": "https://localhost:8080/",
          "height": 160,
          "referenced_widgets": [
            "0e8f4ccf21944aefa474a5266fdb04d9",
            "56d8af4b1fee4b14b884c96264330419",
            "d6f304d5b28c4b29a27bfbc84a8c62fb",
            "37f4b210415b4713868a2c27fc44ddcb",
            "0f04087257c049f7ae215dd5aca87422",
            "71cbaa0438e542218abe711adad20cf1",
            "32ea1419034d49c29c4d606150af7564",
            "f2bab1770ac941c1b4231bb3bf272132",
            "cdfc791041784e8aa1606862beb335ba",
            "e262038680ff43b2a9bdcbd674d5eec7",
            "7d0baef7cc47403f85eeceddc2ecf285",
            "10fe79462e9e45378a72f29b7263d07d",
            "50128f69ed4744ee925d1e37203379a2",
            "64ba3799612542ba8cd813a2dec52660",
            "9d8c0a0746d847fdb508e93518e070a8",
            "74b7e16dc40a4d3180a53af62ffb6915",
            "503dadde5ff04b80979c4dcd04f58d47",
            "7659f0ddf0ca45dd9d73bdfe0dcbb3b3",
            "7577d454377c49c48444d1a9dcc50b3c",
            "0ab625d3a36148fbbfa367f415c66b3d",
            "96bba5237a0041d487408e6f37b2106b",
            "64067a370edf4dd7b49733a1b333646f",
            "63ebcfa460e046e2a8a32849eeaf4ba7",
            "6d2c002b930a475fbf565314505f544a",
            "3d6f2bc255044dfe835666239d477cea",
            "ac365dfcb1aa45d8bea610b794013c65",
            "a10ae4b968904e0d9e3a4c9102b15736",
            "6ea9e460ea1d4849928f7ea0ae65a5ed",
            "be0d7ac56b6a4f09b00c755ff6c1deb1",
            "2ca3330b147540bebb0938282828c2ff",
            "5057e49620b2400aab6b8cae6b4b1f08",
            "d778eae494c34d2fac9ed8a8752dc576"
          ]
        },
        "id": "H_MWS0YpwnlM",
        "outputId": "889486b0-eb83-4b45-c12f-3e3927f6fd71"
      },
      "outputs": [
        {
          "output_type": "display_data",
          "data": {
            "text/plain": [
              "VBox(children=(HTML(value='<center> <img\\nsrc=https://huggingface.co/front/assets/huggingface_logo-noborder.sv…"
            ],
            "application/vnd.jupyter.widget-view+json": {
              "version_major": 2,
              "version_minor": 0,
              "model_id": "0e8f4ccf21944aefa474a5266fdb04d9"
            }
          },
          "metadata": {}
        }
      ],
      "source": [
        "from huggingface_hub import notebook_login\n",
        "\n",
        "notebook_login()"
      ]
    },
    {
      "cell_type": "code",
      "execution_count": null,
      "metadata": {
        "id": "PzhwmQKWw6Mk"
      },
      "outputs": [],
      "source": [
        "from transformers import AutoModelForSequenceClassification, AutoTokenizer,TrainingArguments,Trainer"
      ]
    },
    {
      "cell_type": "code",
      "execution_count": null,
      "metadata": {
        "id": "Go9kgqcixDEN"
      },
      "outputs": [],
      "source": [
        "import torch\n",
        "from torch.utils.data import Dataset,DataLoader\n",
        "from sklearn.model_selection import train_test_split\n",
        "import pandas as pd\n",
        "import nltk\n",
        "from nltk.corpus import stopwords\n",
        "from nltk.tokenize import word_tokenize\n",
        "import re\n",
        "from sklearn.preprocessing import LabelEncoder\n",
        "import numpy as np\n",
        "from datasets import load_dataset,DatasetDict\n",
        "from huggingface_hub import Repository"
      ]
    },
    {
      "cell_type": "code",
      "execution_count": null,
      "metadata": {
        "colab": {
          "base_uri": "https://localhost:8080/",
          "height": 202,
          "referenced_widgets": [
            "5b19f6b008554a378bd8a8fd81dab34c",
            "6c432c83628946fb9d9a71e3f00f5ed7",
            "07fb9ecbea4a4395a296991cece047b0",
            "0fda60fe0d254e97922dc5f5e8f8c135",
            "9de4de87c15d4a3e80e747b2e236a6d8",
            "88479e938cb84c76aee05e60b1815012",
            "f28acdfafefb415abda5bde0f054b863",
            "05d7a16a34a84866a3cee00d1a5cb14d",
            "a7fb2cf34f3c4f23b7aea8d6422a5cfc",
            "c8d0497de8714c3a8f80d24d28ba90b1",
            "a4eb618747db40e3bb04af4a71e1470a",
            "ff4526e4cf45461f8a0d1737fe9820ca",
            "951bdaa765964565aa368d860e58bcf6",
            "11ff9ec02f61438d85c2cd7265f76005",
            "edfd2a2b62024c97a167342b1c37cb55",
            "3b969eb188414ae68d4a8ed7d1273373",
            "3fc87f86ae8c4fcb8c80158162bdf1fb",
            "f865fd523286415a8bd8a1081d676202",
            "af99761a6947438690b09237dbacbd84",
            "c70305a1512a425a88a0990b9c821893",
            "d91edb6baf8e4364a87fd276e554759c",
            "2bc6a512a5384fc787e1c6887ef80c1a",
            "fcdf872130844c55a26f52482b44df08",
            "8bac78ffa8d743c1a38da9fddc8583dd",
            "42268a9426bc4981bbb762e50484c4be",
            "d4e98650f95d4df6ba5451e8666192f3",
            "ce057b2ad7f24bd3af932d882703910a",
            "83af37ead3274a2b8c77b1d605123dd4",
            "9ffe6f573db940cbbd11118d1ea42f70",
            "5770470c03774973a6106d3e0f7d8f46",
            "d1b9d0db771740c2961d0df4db710736",
            "593c6c3347334ded96468c3339eac178",
            "fc0b0b499a9b468fa0355a37bd14f914"
          ]
        },
        "id": "UFv8DtDqxGC8",
        "outputId": "6626c6ef-1e3b-4a9e-b956-a10e8105ff93"
      },
      "outputs": [
        {
          "output_type": "display_data",
          "data": {
            "text/plain": [
              "config.json:   0%|          | 0.00/569 [00:00<?, ?B/s]"
            ],
            "application/vnd.jupyter.widget-view+json": {
              "version_major": 2,
              "version_minor": 0,
              "model_id": "5b19f6b008554a378bd8a8fd81dab34c"
            }
          },
          "metadata": {}
        },
        {
          "output_type": "display_data",
          "data": {
            "text/plain": [
              "vocab.txt:   0%|          | 0.00/987k [00:00<?, ?B/s]"
            ],
            "application/vnd.jupyter.widget-view+json": {
              "version_major": 2,
              "version_minor": 0,
              "model_id": "ff4526e4cf45461f8a0d1737fe9820ca"
            }
          },
          "metadata": {}
        },
        {
          "output_type": "display_data",
          "data": {
            "text/plain": [
              "pytorch_model.bin:   0%|          | 0.00/328M [00:00<?, ?B/s]"
            ],
            "application/vnd.jupyter.widget-view+json": {
              "version_major": 2,
              "version_minor": 0,
              "model_id": "fcdf872130844c55a26f52482b44df08"
            }
          },
          "metadata": {}
        },
        {
          "output_type": "stream",
          "name": "stderr",
          "text": [
            "/usr/local/lib/python3.10/dist-packages/torch/_utils.py:831: UserWarning: TypedStorage is deprecated. It will be removed in the future and UntypedStorage will be the only storage class. This should only matter to you if you are using storages directly.  To access UntypedStorage directly, use tensor.untyped_storage() instead of tensor.storage()\n",
            "  return self.fget.__get__(instance, owner)()\n",
            "Some weights of BertForSequenceClassification were not initialized from the model checkpoint at Rajan/NepaliBERT and are newly initialized: ['bert.pooler.dense.bias', 'bert.pooler.dense.weight', 'classifier.bias', 'classifier.weight']\n",
            "You should probably TRAIN this model on a down-stream task to be able to use it for predictions and inference.\n"
          ]
        }
      ],
      "source": [
        "tokenizer=AutoTokenizer.from_pretrained('Rajan/NepaliBERT')\n",
        "model=AutoModelForSequenceClassification.from_pretrained('Rajan/NepaliBERT')"
      ]
    },
    {
      "cell_type": "code",
      "execution_count": null,
      "metadata": {
        "id": "K36qOPQbxJ7M"
      },
      "outputs": [],
      "source": [
        "dataset_file_path='/content/drive/MyDrive/major/cleaned_data_final.xlsx'"
      ]
    },
    {
      "cell_type": "code",
      "execution_count": null,
      "metadata": {
        "colab": {
          "base_uri": "https://localhost:8080/"
        },
        "id": "6T8DngKXxN0i",
        "outputId": "415262ef-16a9-4b7b-9d72-b96ade59ded7"
      },
      "outputs": [
        {
          "output_type": "stream",
          "name": "stderr",
          "text": [
            "[nltk_data] Downloading package stopwords to /root/nltk_data...\n",
            "[nltk_data]   Unzipping corpora/stopwords.zip.\n",
            "[nltk_data] Downloading package punkt to /root/nltk_data...\n",
            "[nltk_data]   Unzipping tokenizers/punkt.zip.\n"
          ]
        },
        {
          "output_type": "execute_result",
          "data": {
            "text/plain": [
              "True"
            ]
          },
          "metadata": {},
          "execution_count": 12
        }
      ],
      "source": [
        "nltk.download('stopwords')\n",
        "nltk.download('punkt')"
      ]
    },
    {
      "cell_type": "code",
      "execution_count": null,
      "metadata": {
        "id": "bPR_ViquxPlO"
      },
      "outputs": [],
      "source": [
        "df = pd.read_excel(dataset_file_path)"
      ]
    },
    {
      "cell_type": "code",
      "execution_count": null,
      "metadata": {
        "colab": {
          "base_uri": "https://localhost:8080/"
        },
        "id": "2FrQV_XkxSZE",
        "outputId": "ebd69ee4-83d9-4595-c2ea-990f0208186f"
      },
      "outputs": [
        {
          "output_type": "execute_result",
          "data": {
            "text/plain": [
              "array(['अर्थ सबन्धी', 'अर्थिक अनियमितता तथा भ्रष्टाचार सम्बन्धी',\n",
              "       'कर्मचारी सम्वन्धी', 'खानेपानी', 'निर्माण कार्य सम्बन्धी',\n",
              "       'पार्किङ्ग तथा मेट्रो पुलिस', 'प्राकृतिक श्रोत/साधन सम्बन्धी',\n",
              "       'फोहोरमैला व्यवस्थापन', 'लागु पदार्थ सम्बन्धी',\n",
              "       'वेबसाइट तथा अभिलेख व्यवस्थापन सम्बन्धी', 'शान्ति सुरक्षा',\n",
              "       'सूचना तथा संचार', 'सोधपुछ, सुझाव, प्रशंसा सम्बन्धी',\n",
              "       'स्वास्थ्यसँग सम्बन्धी'], dtype=object)"
            ]
          },
          "metadata": {},
          "execution_count": 14
        }
      ],
      "source": [
        "df['गुनासो वर्ग'].unique()"
      ]
    },
    {
      "cell_type": "code",
      "execution_count": null,
      "metadata": {
        "colab": {
          "base_uri": "https://localhost:8080/",
          "height": 206
        },
        "id": "igI3DP3dxUSW",
        "outputId": "30e35617-6cce-4ce5-f8a6-8852fd44e22e"
      },
      "outputs": [
        {
          "output_type": "execute_result",
          "data": {
            "text/plain": [
              "   गुनासो वर्ग                                             गुनासो\n",
              "0  अर्थ सबन्धी  मीनभवन र तिनकुनेको बीचमा रहेको एलजी शोरुम माथि...\n",
              "1  अर्थ सबन्धी                        - भ्याट बिल जारी गरिएको छैन\n",
              "2  अर्थ सबन्धी  . जानकारी - अनुरोध\\nकुनै पनि मानिसको जागिर अवध...\n",
              "3  अर्थ सबन्धी  एटीएम कार्ड हराएको लगभग २ वर्ष जति भइसकेको छ न...\n",
              "4  अर्थ सबन्धी  वास्तवमा, यो उल्लिखित समस्या स्टक एक्सचेन्जसँग..."
            ],
            "text/html": [
              "\n",
              "  <div id=\"df-3f7e9b2a-139a-4d38-9eac-3c05196c6815\" class=\"colab-df-container\">\n",
              "    <div>\n",
              "<style scoped>\n",
              "    .dataframe tbody tr th:only-of-type {\n",
              "        vertical-align: middle;\n",
              "    }\n",
              "\n",
              "    .dataframe tbody tr th {\n",
              "        vertical-align: top;\n",
              "    }\n",
              "\n",
              "    .dataframe thead th {\n",
              "        text-align: right;\n",
              "    }\n",
              "</style>\n",
              "<table border=\"1\" class=\"dataframe\">\n",
              "  <thead>\n",
              "    <tr style=\"text-align: right;\">\n",
              "      <th></th>\n",
              "      <th>गुनासो वर्ग</th>\n",
              "      <th>गुनासो</th>\n",
              "    </tr>\n",
              "  </thead>\n",
              "  <tbody>\n",
              "    <tr>\n",
              "      <th>0</th>\n",
              "      <td>अर्थ सबन्धी</td>\n",
              "      <td>मीनभवन र तिनकुनेको बीचमा रहेको एलजी शोरुम माथि...</td>\n",
              "    </tr>\n",
              "    <tr>\n",
              "      <th>1</th>\n",
              "      <td>अर्थ सबन्धी</td>\n",
              "      <td>- भ्याट बिल जारी गरिएको छैन</td>\n",
              "    </tr>\n",
              "    <tr>\n",
              "      <th>2</th>\n",
              "      <td>अर्थ सबन्धी</td>\n",
              "      <td>. जानकारी - अनुरोध\\nकुनै पनि मानिसको जागिर अवध...</td>\n",
              "    </tr>\n",
              "    <tr>\n",
              "      <th>3</th>\n",
              "      <td>अर्थ सबन्धी</td>\n",
              "      <td>एटीएम कार्ड हराएको लगभग २ वर्ष जति भइसकेको छ न...</td>\n",
              "    </tr>\n",
              "    <tr>\n",
              "      <th>4</th>\n",
              "      <td>अर्थ सबन्धी</td>\n",
              "      <td>वास्तवमा, यो उल्लिखित समस्या स्टक एक्सचेन्जसँग...</td>\n",
              "    </tr>\n",
              "  </tbody>\n",
              "</table>\n",
              "</div>\n",
              "    <div class=\"colab-df-buttons\">\n",
              "\n",
              "  <div class=\"colab-df-container\">\n",
              "    <button class=\"colab-df-convert\" onclick=\"convertToInteractive('df-3f7e9b2a-139a-4d38-9eac-3c05196c6815')\"\n",
              "            title=\"Convert this dataframe to an interactive table.\"\n",
              "            style=\"display:none;\">\n",
              "\n",
              "  <svg xmlns=\"http://www.w3.org/2000/svg\" height=\"24px\" viewBox=\"0 -960 960 960\">\n",
              "    <path d=\"M120-120v-720h720v720H120Zm60-500h600v-160H180v160Zm220 220h160v-160H400v160Zm0 220h160v-160H400v160ZM180-400h160v-160H180v160Zm440 0h160v-160H620v160ZM180-180h160v-160H180v160Zm440 0h160v-160H620v160Z\"/>\n",
              "  </svg>\n",
              "    </button>\n",
              "\n",
              "  <style>\n",
              "    .colab-df-container {\n",
              "      display:flex;\n",
              "      gap: 12px;\n",
              "    }\n",
              "\n",
              "    .colab-df-convert {\n",
              "      background-color: #E8F0FE;\n",
              "      border: none;\n",
              "      border-radius: 50%;\n",
              "      cursor: pointer;\n",
              "      display: none;\n",
              "      fill: #1967D2;\n",
              "      height: 32px;\n",
              "      padding: 0 0 0 0;\n",
              "      width: 32px;\n",
              "    }\n",
              "\n",
              "    .colab-df-convert:hover {\n",
              "      background-color: #E2EBFA;\n",
              "      box-shadow: 0px 1px 2px rgba(60, 64, 67, 0.3), 0px 1px 3px 1px rgba(60, 64, 67, 0.15);\n",
              "      fill: #174EA6;\n",
              "    }\n",
              "\n",
              "    .colab-df-buttons div {\n",
              "      margin-bottom: 4px;\n",
              "    }\n",
              "\n",
              "    [theme=dark] .colab-df-convert {\n",
              "      background-color: #3B4455;\n",
              "      fill: #D2E3FC;\n",
              "    }\n",
              "\n",
              "    [theme=dark] .colab-df-convert:hover {\n",
              "      background-color: #434B5C;\n",
              "      box-shadow: 0px 1px 3px 1px rgba(0, 0, 0, 0.15);\n",
              "      filter: drop-shadow(0px 1px 2px rgba(0, 0, 0, 0.3));\n",
              "      fill: #FFFFFF;\n",
              "    }\n",
              "  </style>\n",
              "\n",
              "    <script>\n",
              "      const buttonEl =\n",
              "        document.querySelector('#df-3f7e9b2a-139a-4d38-9eac-3c05196c6815 button.colab-df-convert');\n",
              "      buttonEl.style.display =\n",
              "        google.colab.kernel.accessAllowed ? 'block' : 'none';\n",
              "\n",
              "      async function convertToInteractive(key) {\n",
              "        const element = document.querySelector('#df-3f7e9b2a-139a-4d38-9eac-3c05196c6815');\n",
              "        const dataTable =\n",
              "          await google.colab.kernel.invokeFunction('convertToInteractive',\n",
              "                                                    [key], {});\n",
              "        if (!dataTable) return;\n",
              "\n",
              "        const docLinkHtml = 'Like what you see? Visit the ' +\n",
              "          '<a target=\"_blank\" href=https://colab.research.google.com/notebooks/data_table.ipynb>data table notebook</a>'\n",
              "          + ' to learn more about interactive tables.';\n",
              "        element.innerHTML = '';\n",
              "        dataTable['output_type'] = 'display_data';\n",
              "        await google.colab.output.renderOutput(dataTable, element);\n",
              "        const docLink = document.createElement('div');\n",
              "        docLink.innerHTML = docLinkHtml;\n",
              "        element.appendChild(docLink);\n",
              "      }\n",
              "    </script>\n",
              "  </div>\n",
              "\n",
              "\n",
              "<div id=\"df-7cfed715-2288-42f6-8722-739e4ad76f16\">\n",
              "  <button class=\"colab-df-quickchart\" onclick=\"quickchart('df-7cfed715-2288-42f6-8722-739e4ad76f16')\"\n",
              "            title=\"Suggest charts\"\n",
              "            style=\"display:none;\">\n",
              "\n",
              "<svg xmlns=\"http://www.w3.org/2000/svg\" height=\"24px\"viewBox=\"0 0 24 24\"\n",
              "     width=\"24px\">\n",
              "    <g>\n",
              "        <path d=\"M19 3H5c-1.1 0-2 .9-2 2v14c0 1.1.9 2 2 2h14c1.1 0 2-.9 2-2V5c0-1.1-.9-2-2-2zM9 17H7v-7h2v7zm4 0h-2V7h2v10zm4 0h-2v-4h2v4z\"/>\n",
              "    </g>\n",
              "</svg>\n",
              "  </button>\n",
              "\n",
              "<style>\n",
              "  .colab-df-quickchart {\n",
              "      --bg-color: #E8F0FE;\n",
              "      --fill-color: #1967D2;\n",
              "      --hover-bg-color: #E2EBFA;\n",
              "      --hover-fill-color: #174EA6;\n",
              "      --disabled-fill-color: #AAA;\n",
              "      --disabled-bg-color: #DDD;\n",
              "  }\n",
              "\n",
              "  [theme=dark] .colab-df-quickchart {\n",
              "      --bg-color: #3B4455;\n",
              "      --fill-color: #D2E3FC;\n",
              "      --hover-bg-color: #434B5C;\n",
              "      --hover-fill-color: #FFFFFF;\n",
              "      --disabled-bg-color: #3B4455;\n",
              "      --disabled-fill-color: #666;\n",
              "  }\n",
              "\n",
              "  .colab-df-quickchart {\n",
              "    background-color: var(--bg-color);\n",
              "    border: none;\n",
              "    border-radius: 50%;\n",
              "    cursor: pointer;\n",
              "    display: none;\n",
              "    fill: var(--fill-color);\n",
              "    height: 32px;\n",
              "    padding: 0;\n",
              "    width: 32px;\n",
              "  }\n",
              "\n",
              "  .colab-df-quickchart:hover {\n",
              "    background-color: var(--hover-bg-color);\n",
              "    box-shadow: 0 1px 2px rgba(60, 64, 67, 0.3), 0 1px 3px 1px rgba(60, 64, 67, 0.15);\n",
              "    fill: var(--button-hover-fill-color);\n",
              "  }\n",
              "\n",
              "  .colab-df-quickchart-complete:disabled,\n",
              "  .colab-df-quickchart-complete:disabled:hover {\n",
              "    background-color: var(--disabled-bg-color);\n",
              "    fill: var(--disabled-fill-color);\n",
              "    box-shadow: none;\n",
              "  }\n",
              "\n",
              "  .colab-df-spinner {\n",
              "    border: 2px solid var(--fill-color);\n",
              "    border-color: transparent;\n",
              "    border-bottom-color: var(--fill-color);\n",
              "    animation:\n",
              "      spin 1s steps(1) infinite;\n",
              "  }\n",
              "\n",
              "  @keyframes spin {\n",
              "    0% {\n",
              "      border-color: transparent;\n",
              "      border-bottom-color: var(--fill-color);\n",
              "      border-left-color: var(--fill-color);\n",
              "    }\n",
              "    20% {\n",
              "      border-color: transparent;\n",
              "      border-left-color: var(--fill-color);\n",
              "      border-top-color: var(--fill-color);\n",
              "    }\n",
              "    30% {\n",
              "      border-color: transparent;\n",
              "      border-left-color: var(--fill-color);\n",
              "      border-top-color: var(--fill-color);\n",
              "      border-right-color: var(--fill-color);\n",
              "    }\n",
              "    40% {\n",
              "      border-color: transparent;\n",
              "      border-right-color: var(--fill-color);\n",
              "      border-top-color: var(--fill-color);\n",
              "    }\n",
              "    60% {\n",
              "      border-color: transparent;\n",
              "      border-right-color: var(--fill-color);\n",
              "    }\n",
              "    80% {\n",
              "      border-color: transparent;\n",
              "      border-right-color: var(--fill-color);\n",
              "      border-bottom-color: var(--fill-color);\n",
              "    }\n",
              "    90% {\n",
              "      border-color: transparent;\n",
              "      border-bottom-color: var(--fill-color);\n",
              "    }\n",
              "  }\n",
              "</style>\n",
              "\n",
              "  <script>\n",
              "    async function quickchart(key) {\n",
              "      const quickchartButtonEl =\n",
              "        document.querySelector('#' + key + ' button');\n",
              "      quickchartButtonEl.disabled = true;  // To prevent multiple clicks.\n",
              "      quickchartButtonEl.classList.add('colab-df-spinner');\n",
              "      try {\n",
              "        const charts = await google.colab.kernel.invokeFunction(\n",
              "            'suggestCharts', [key], {});\n",
              "      } catch (error) {\n",
              "        console.error('Error during call to suggestCharts:', error);\n",
              "      }\n",
              "      quickchartButtonEl.classList.remove('colab-df-spinner');\n",
              "      quickchartButtonEl.classList.add('colab-df-quickchart-complete');\n",
              "    }\n",
              "    (() => {\n",
              "      let quickchartButtonEl =\n",
              "        document.querySelector('#df-7cfed715-2288-42f6-8722-739e4ad76f16 button');\n",
              "      quickchartButtonEl.style.display =\n",
              "        google.colab.kernel.accessAllowed ? 'block' : 'none';\n",
              "    })();\n",
              "  </script>\n",
              "</div>\n",
              "\n",
              "    </div>\n",
              "  </div>\n"
            ],
            "application/vnd.google.colaboratory.intrinsic+json": {
              "type": "dataframe",
              "variable_name": "df",
              "summary": "{\n  \"name\": \"df\",\n  \"rows\": 13061,\n  \"fields\": [\n    {\n      \"column\": \"\\u0917\\u0941\\u0928\\u093e\\u0938\\u094b \\u0935\\u0930\\u094d\\u0917\",\n      \"properties\": {\n        \"dtype\": \"category\",\n        \"num_unique_values\": 14,\n        \"samples\": [\n          \"\\u0935\\u0947\\u092c\\u0938\\u093e\\u0907\\u091f \\u0924\\u0925\\u093e \\u0905\\u092d\\u093f\\u0932\\u0947\\u0916 \\u0935\\u094d\\u092f\\u0935\\u0938\\u094d\\u0925\\u093e\\u092a\\u0928 \\u0938\\u092e\\u094d\\u092c\\u0928\\u094d\\u0927\\u0940\",\n          \"\\u0938\\u0942\\u091a\\u0928\\u093e \\u0924\\u0925\\u093e \\u0938\\u0902\\u091a\\u093e\\u0930\",\n          \"\\u0905\\u0930\\u094d\\u0925 \\u0938\\u092c\\u0928\\u094d\\u0927\\u0940\"\n        ],\n        \"semantic_type\": \"\",\n        \"description\": \"\"\n      }\n    },\n    {\n      \"column\": \"\\u0917\\u0941\\u0928\\u093e\\u0938\\u094b\",\n      \"properties\": {\n        \"dtype\": \"string\",\n        \"num_unique_values\": 12254,\n        \"samples\": [\n          \"\\u092e\\u0948\\u0932\\u0947 \\u092c\\u093f\\u0917\\u0924 \\u091a\\u094c\\u0927 \\u0935\\u0930\\u094d\\u0937 \\u0926\\u0947\\u0916\\u093f \\u096f\\u096e\\u096a\\u096b\\u0969\\u096b\\u096d\\u0967\\u096b\\u096a \\u0928\\u092e\\u094d\\u092c\\u0930 \\u0915\\u094b \\u0938\\u093f\\u092e \\u091a\\u0932\\u093e\\u090f\\u0915\\u094b \\u091b\\u0941 \\u0924\\u0930 \\u092e\\u0947\\u0930\\u094b \\u0928\\u093e\\u092e \\u092e\\u093e \\u0938\\u093f\\u092e \\u0926\\u0930\\u094d\\u0924\\u093e \\u0928\\u0926\\u0947\\u0916\\u093e\\u090f\\u0915\\u094b \\u0932\\u0947 \\u0928\\u093e\\u0917\\u0930\\u093f\\u0915\\u0924\\u093e \\u0938\\u0939\\u093f\\u0924 \\u092a\\u0939\\u093f\\u0932\\u094b \\u092a\\u091f\\u0915 \\u0926\\u0936\\u0948\\u0901 \\u0905\\u0917\\u093e\\u0921\\u093f \\u092c\\u0941\\u091d\\u093e\\u0909\\u0926\\u093e \\u0928\\u092d\\u090f\\u0915\\u094b \\u0932\\u0947 \\u0926\\u094b\\u0936\\u094d\\u0930\\u094b \\u092a\\u091f\\u0915 \\u0924\\u093f\\u0939\\u093e\\u0930 \\u0905\\u0917\\u093e\\u0921\\u093f \\u092b\\u0947\\u0930\\u0940 \\u092b\\u093e\\u0930\\u092e \\u0930 \\u0928\\u093e\\u0917\\u0930\\u0940\\u0915\\u0924 \\u092c\\u0941\\u091c\\u093e\\u0909\\u0926\\u093e \\u092a\\u0928\\u093f \\u0915\\u0941\\u0928\\u0948 \\u0915\\u093e\\u0930\\u0935\\u093e\\u0939\\u0940 \\u092d\\u090f\\u0928 \\u0926\\u0941\\u0908 \\u092a\\u091f\\u0915 \\u0915\\u0947\\u0935\\u093e\\u0908\\u0938\\u0940 \\u092b\\u093e\\u0930\\u092e \\u092d\\u0930\\u0924\\u092a\\u0941\\u0930 \\u091f\\u0947\\u0932\\u093f\\u0915\\u092e \\u092e\\u093e \\u092c\\u0941\\u091d\\u093e\\u0909\\u0926\\u093e \\u092a\\u0928\\u093f \\u092e\\u0947\\u0930\\u094b \\u0905\\u092a\\u0921\\u0947\\u091f \\u0917\\u0930\\u093f\\u090f\\u0928 \\u091c\\u0938\\u0932\\u0947 \\u0917\\u0930\\u094d\\u0926\\u093e \\u092e \\u0928\\u093e\\u0917\\u0930\\u093f\\u0915 \\u090f\\u092a \\u091a\\u0932\\u093e\\u0909\\u0928 \\u092c\\u093e\\u091f \\u092c\\u0928\\u094d\\u091a\\u093f\\u0924 \\u092d\\u090f\\u0915\\u094b \\u091b\\u0941 ! \\u0915\\u0924\\u093f \\u092a\\u091f\\u0915 \\u0938\\u092e\\u094d\\u092e \\u092b\\u093e\\u0930\\u092e \\u0930 \\u0928\\u093e\\u0917\\u0930\\u093f\\u0915\\u0924\\u093e \\u092c\\u0941\\u091d\\u093e\\u0909\\u0928 \\u092a\\u0930\\u094d\\u0928\\u0947 \\u0939\\u094b \\u092c\\u0941\\u091c\\u094d\\u0928 \\u0938\\u0915\\u093f\\u090f\\u0928 \\u0915\\u0943\\u092a\\u092f\\u093e \\u0938\\u092e\\u094d\\u0935\\u0928\\u094d\\u0927\\u093f\\u0924 \\u0928\\u093f\\u0915\\u093e\\u090f\\u092e\\u093e \\u092f\\u094b \\u0917\\u0941\\u0928\\u093e\\u0938\\u094b \\u092a\\u0941\\u0917\\u094d\\u0928\\u0947 \\u0930 \\u0938\\u0941\\u0928\\u0935\\u093e\\u0908 \\u0939\\u0941\\u0928\\u0947 \\u0906\\u0938\\u093e \\u0932\\u093f\\u090f\\u0915\\u094b \\u091b\\u0941\",\n          \"\\u0928\\u0947\\u092a\\u093e\\u0932 \\u092c\\u0948\\u0902\\u0915 \\u092c\\u0930\\u0939\\u0925\\u0935\\u093e \\u0938\\u0930\\u094d\\u0932\\u093e\\u0939\\u0940 \\u092e\\u093e \\u0938\\u093e\\u0924 \\u092e\\u0939\\u093f\\u0928\\u093e \\u092a\\u0939\\u093f\\u0932\\u093e \\u0932\\u094b\\u0928 \\u0915\\u094b \\u0932\\u093e\\u0917\\u093f \\u0938\\u092c\\u0948 \\u0915\\u093e\\u0917\\u091c\\u093e\\u0924 \\u092a\\u0947\\u0936 \\u0917\\u0930\\u0947\\u0915\\u094b \\u0925\\u093f\\u090f\\u0901\\u0964 \\u0915\\u0924\\u093f \\u091a\\u094b\\u091f\\u0940 \\u092c\\u0948\\u0902\\u0915 \\u092e\\u093e \\u0917\\u090f\\u0930 \\u0938\\u094b\\u0927\\u0947 \\u092e\\u0947\\u0930\\u094b \\u0932\\u094b\\u0928 \\u0915\\u0939\\u093f\\u0932\\u0947 \\u092a\\u093e\\u0938 \\u0939\\u0941\\u0928\\u094d\\u091b\\u0964 \\u092c\\u0948\\u0902\\u0915 \\u092c\\u093e\\u091f \\u091c\\u0935\\u093e\\u092b \\u0926\\u093f\\u0928\\u094d\\u091b \\u0967\\u0966 \\u0926\\u093f\\u0928 \\u092a\\u091b\\u0940 \\u0939\\u0941\\u0928\\u094d\\u091b \\u0915\\u0939\\u093f\\u0932\\u0947 \\u092d\\u0928\\u094d\\u091b \\u0968 \\u0913\\u091f\\u093e \\u092b\\u093e\\u0908\\u0932 \\u092c\\u093e\\u0901\\u0915\\u093f \\u091b \\u0924\\u0947\\u0938\\u094d\\u0930\\u094b \\u092e\\u093e \\u0924\\u092a\\u093e\\u0908 \\u0915\\u094b \\u0939\\u0941\\u0928\\u094d\\u091b\\u0964 \\u092b\\u094b\\u0928\\u092e\\u093e \\u0915\\u0941\\u0930\\u093e \\u0917\\u0930\\u094d\\u0926\\u093e \\u092d\\u0928\\u094d\\u0928\\u0941 \\u0939\\u0941\\u0928\\u094d\\u091b \\u092d\\u0928\\u094d\\u0928\\u0941 \\u0939\\u0941\\u0928\\u094d\\u091b \\u0939\\u0947\\u0930\\u0947\\u0930 \\u092e \\u0915\\u0941\\u0930\\u093e \\u0917\\u0930\\u094d\\u091b\\u0941 \\u0964\\u0924\\u094d\\u092f\\u0938 \\u092a\\u091b\\u093f \\u0915\\u0941\\u0930\\u093e \\u0939\\u0941\\u0926\\u0948\\u0928\\u0964 \\u0905\\u0930\\u094d\\u0915\\u094b \\u0926\\u093f\\u0928 \\u0915\\u0941\\u0930\\u093e \\u0917\\u0930\\u094d\\u0926\\u093e \\u092b\\u094b\\u0928 \\u0909\\u0920\\u094d\\u0926\\u0948\\u0928 \\u0909\\u0920\\u0947\\u092a\\u0928\\u093f \\u0905\\u0930\\u0941 \\u092e\\u093e\\u0928\\u094d\\u091b\\u0947 \\u0909\\u0920\\u093e\\u0909\\u0901\\u091b \\u092d\\u0928\\u094d\\u0928\\u0941 \\u0939\\u0941\\u0928\\u094d\\u091b \\u092c\\u093e\\u0939\\u093f\\u0930 \\u091c\\u093e\\u0928\\u0941 \\u092d\\u0915\\u094b\\u091b \\u0964\",\n          \"\\u0967\\u096a \\u0935\\u0921\\u093e \\u0915\\u0941\\u092e\\u093e\\u0930\\u0940 \\u0915\\u0932\\u092c \\u0905\\u0917\\u093e\\u0921\\u093f\\u0915\\u094b \\u092c\\u093e\\u091f\\u094b\\u092e\\u093e \\u0916\\u093e\\u0932\\u094d\\u0921\\u094b \\u0930\\u0939\\u0947\\u0915\\u094b \\u0939\\u0941\\u0901\\u0926\\u093e \\u092f\\u0938\\u0915\\u094b \\u0905\\u0924\\u093f\\u0936\\u093f\\u0930\\u094d\\u0918 \\u092c\\u0928\\u093e\\u0907\\u0926\\u093f\\u0928\\u0941\\u0939\\u0941\\u0928 \\u0905\\u0928\\u0941\\u0930\\u094b\\u0927 \\u091b \\u0964\"\n        ],\n        \"semantic_type\": \"\",\n        \"description\": \"\"\n      }\n    }\n  ]\n}"
            }
          },
          "metadata": {},
          "execution_count": 15
        }
      ],
      "source": [
        "df.head()"
      ]
    },
    {
      "cell_type": "code",
      "execution_count": null,
      "metadata": {
        "colab": {
          "base_uri": "https://localhost:8080/"
        },
        "id": "Qu7TUEAlyG7i",
        "outputId": "75b56631-1fef-4991-866f-e28d14cb17b4"
      },
      "outputs": [
        {
          "output_type": "execute_result",
          "data": {
            "text/plain": [
              "वेबसाइट तथा अभिलेख व्यवस्थापन सम्बन्धी      2849\n",
              "सोधपुछ, सुझाव, प्रशंसा सम्बन्धी             1883\n",
              "पार्किङ्ग तथा मेट्रो पुलिस                  1701\n",
              "कर्मचारी सम्वन्धी                           1337\n",
              "अर्थ सबन्धी                                  860\n",
              "खानेपानी                                     800\n",
              "स्वास्थ्यसँग सम्बन्धी                        694\n",
              "सूचना तथा संचार                              640\n",
              "शान्ति सुरक्षा                               634\n",
              "फोहोरमैला व्यवस्थापन                         630\n",
              "निर्माण कार्य सम्बन्धी                       605\n",
              "प्राकृतिक श्रोत/साधन सम्बन्धी                200\n",
              "लागु पदार्थ सम्बन्धी                         157\n",
              "अर्थिक अनियमितता तथा भ्रष्टाचार सम्बन्धी      71\n",
              "Name: गुनासो वर्ग, dtype: int64"
            ]
          },
          "metadata": {},
          "execution_count": 16
        }
      ],
      "source": [
        "df['गुनासो वर्ग'].value_counts()"
      ]
    },
    {
      "cell_type": "code",
      "execution_count": null,
      "metadata": {
        "colab": {
          "base_uri": "https://localhost:8080/"
        },
        "id": "P4BGNELiz_Yb",
        "outputId": "b7446328-f545-4248-9237-cecd8eb9fa84"
      },
      "outputs": [
        {
          "output_type": "execute_result",
          "data": {
            "text/plain": [
              "2849"
            ]
          },
          "metadata": {},
          "execution_count": 17
        }
      ],
      "source": [
        "counts=df['गुनासो वर्ग'].value_counts()\n",
        "max_count= max(counts)\n",
        "max_count"
      ]
    },
    {
      "cell_type": "code",
      "execution_count": null,
      "metadata": {
        "id": "p3ERq9VCHe5q"
      },
      "outputs": [],
      "source": [
        "df_final=pd.DataFrame()\n",
        "for category,count in counts.items():\n",
        "  df_cat=df[df['गुनासो वर्ग']==category]\n",
        "  if count < max_count:\n",
        "    df_cat_oversampled=df_cat.sample(max_count,replace=True)\n",
        "    df_cat_oversampled=df_cat_oversampled.reset_index(drop=True)\n",
        "  else:\n",
        "    df_cat_oversampled=df_cat\n",
        "\n",
        "  df_final=pd.concat([df_final,df_cat_oversampled])\n"
      ]
    },
    {
      "cell_type": "code",
      "execution_count": null,
      "metadata": {
        "colab": {
          "base_uri": "https://localhost:8080/"
        },
        "id": "H6QO_niU7hl2",
        "outputId": "2d7087ab-9084-4703-d240-bc0a26f70d7b"
      },
      "outputs": [
        {
          "output_type": "execute_result",
          "data": {
            "text/plain": [
              "वेबसाइट तथा अभिलेख व्यवस्थापन सम्बन्धी      2849\n",
              "सोधपुछ, सुझाव, प्रशंसा सम्बन्धी             2849\n",
              "पार्किङ्ग तथा मेट्रो पुलिस                  2849\n",
              "कर्मचारी सम्वन्धी                           2849\n",
              "अर्थ सबन्धी                                 2849\n",
              "खानेपानी                                    2849\n",
              "स्वास्थ्यसँग सम्बन्धी                       2849\n",
              "सूचना तथा संचार                             2849\n",
              "शान्ति सुरक्षा                              2849\n",
              "फोहोरमैला व्यवस्थापन                        2849\n",
              "निर्माण कार्य सम्बन्धी                      2849\n",
              "प्राकृतिक श्रोत/साधन सम्बन्धी               2849\n",
              "लागु पदार्थ सम्बन्धी                        2849\n",
              "अर्थिक अनियमितता तथा भ्रष्टाचार सम्बन्धी    2849\n",
              "Name: गुनासो वर्ग, dtype: int64"
            ]
          },
          "metadata": {},
          "execution_count": 19
        }
      ],
      "source": [
        "df_final['गुनासो वर्ग'].value_counts()"
      ]
    },
    {
      "cell_type": "code",
      "execution_count": null,
      "metadata": {
        "colab": {
          "base_uri": "https://localhost:8080/",
          "height": 206
        },
        "id": "lixrGgkVQ_Q_",
        "outputId": "34d73e09-7bce-453c-ba8b-02e8ba3810c9"
      },
      "outputs": [
        {
          "output_type": "execute_result",
          "data": {
            "text/plain": [
              "                                 गुनासो वर्ग  \\\n",
              "1305           प्राकृतिक श्रोत/साधन सम्बन्धी   \n",
              "7797  वेबसाइट तथा अभिलेख व्यवस्थापन सम्बन्धी   \n",
              "678          सोधपुछ, सुझाव, प्रशंसा सम्बन्धी   \n",
              "1054           प्राकृतिक श्रोत/साधन सम्बन्धी   \n",
              "2611                   स्वास्थ्यसँग सम्बन्धी   \n",
              "\n",
              "                                                 गुनासो  \n",
              "1305  राजस्व चुहावट डुबान कटान मानबिय क्षति समेत हुन...  \n",
              "7797  सर नमस्ते मैले बिगत ३ हप्ता देखी हामी दुई बूढ़...  \n",
              "678   मेरो pan no 113902204 हो तर आन्तरिक राजस्व बिभ...  \n",
              "1054  शिबपुरी राष्ट्रिय निकुन्जको तटिय क्षेत्र भित्र...  \n",
              "2611  १० वडा वानेश्वरमा १०/१५ कुकुरहरुले भुकेर राती ...  "
            ],
            "text/html": [
              "\n",
              "  <div id=\"df-4efaf455-e0ea-4878-9757-fcf3f27a5757\" class=\"colab-df-container\">\n",
              "    <div>\n",
              "<style scoped>\n",
              "    .dataframe tbody tr th:only-of-type {\n",
              "        vertical-align: middle;\n",
              "    }\n",
              "\n",
              "    .dataframe tbody tr th {\n",
              "        vertical-align: top;\n",
              "    }\n",
              "\n",
              "    .dataframe thead th {\n",
              "        text-align: right;\n",
              "    }\n",
              "</style>\n",
              "<table border=\"1\" class=\"dataframe\">\n",
              "  <thead>\n",
              "    <tr style=\"text-align: right;\">\n",
              "      <th></th>\n",
              "      <th>गुनासो वर्ग</th>\n",
              "      <th>गुनासो</th>\n",
              "    </tr>\n",
              "  </thead>\n",
              "  <tbody>\n",
              "    <tr>\n",
              "      <th>1305</th>\n",
              "      <td>प्राकृतिक श्रोत/साधन सम्बन्धी</td>\n",
              "      <td>राजस्व चुहावट डुबान कटान मानबिय क्षति समेत हुन...</td>\n",
              "    </tr>\n",
              "    <tr>\n",
              "      <th>7797</th>\n",
              "      <td>वेबसाइट तथा अभिलेख व्यवस्थापन सम्बन्धी</td>\n",
              "      <td>सर नमस्ते मैले बिगत ३ हप्ता देखी हामी दुई बूढ़...</td>\n",
              "    </tr>\n",
              "    <tr>\n",
              "      <th>678</th>\n",
              "      <td>सोधपुछ, सुझाव, प्रशंसा सम्बन्धी</td>\n",
              "      <td>मेरो pan no 113902204 हो तर आन्तरिक राजस्व बिभ...</td>\n",
              "    </tr>\n",
              "    <tr>\n",
              "      <th>1054</th>\n",
              "      <td>प्राकृतिक श्रोत/साधन सम्बन्धी</td>\n",
              "      <td>शिबपुरी राष्ट्रिय निकुन्जको तटिय क्षेत्र भित्र...</td>\n",
              "    </tr>\n",
              "    <tr>\n",
              "      <th>2611</th>\n",
              "      <td>स्वास्थ्यसँग सम्बन्धी</td>\n",
              "      <td>१० वडा वानेश्वरमा १०/१५ कुकुरहरुले भुकेर राती ...</td>\n",
              "    </tr>\n",
              "  </tbody>\n",
              "</table>\n",
              "</div>\n",
              "    <div class=\"colab-df-buttons\">\n",
              "\n",
              "  <div class=\"colab-df-container\">\n",
              "    <button class=\"colab-df-convert\" onclick=\"convertToInteractive('df-4efaf455-e0ea-4878-9757-fcf3f27a5757')\"\n",
              "            title=\"Convert this dataframe to an interactive table.\"\n",
              "            style=\"display:none;\">\n",
              "\n",
              "  <svg xmlns=\"http://www.w3.org/2000/svg\" height=\"24px\" viewBox=\"0 -960 960 960\">\n",
              "    <path d=\"M120-120v-720h720v720H120Zm60-500h600v-160H180v160Zm220 220h160v-160H400v160Zm0 220h160v-160H400v160ZM180-400h160v-160H180v160Zm440 0h160v-160H620v160ZM180-180h160v-160H180v160Zm440 0h160v-160H620v160Z\"/>\n",
              "  </svg>\n",
              "    </button>\n",
              "\n",
              "  <style>\n",
              "    .colab-df-container {\n",
              "      display:flex;\n",
              "      gap: 12px;\n",
              "    }\n",
              "\n",
              "    .colab-df-convert {\n",
              "      background-color: #E8F0FE;\n",
              "      border: none;\n",
              "      border-radius: 50%;\n",
              "      cursor: pointer;\n",
              "      display: none;\n",
              "      fill: #1967D2;\n",
              "      height: 32px;\n",
              "      padding: 0 0 0 0;\n",
              "      width: 32px;\n",
              "    }\n",
              "\n",
              "    .colab-df-convert:hover {\n",
              "      background-color: #E2EBFA;\n",
              "      box-shadow: 0px 1px 2px rgba(60, 64, 67, 0.3), 0px 1px 3px 1px rgba(60, 64, 67, 0.15);\n",
              "      fill: #174EA6;\n",
              "    }\n",
              "\n",
              "    .colab-df-buttons div {\n",
              "      margin-bottom: 4px;\n",
              "    }\n",
              "\n",
              "    [theme=dark] .colab-df-convert {\n",
              "      background-color: #3B4455;\n",
              "      fill: #D2E3FC;\n",
              "    }\n",
              "\n",
              "    [theme=dark] .colab-df-convert:hover {\n",
              "      background-color: #434B5C;\n",
              "      box-shadow: 0px 1px 3px 1px rgba(0, 0, 0, 0.15);\n",
              "      filter: drop-shadow(0px 1px 2px rgba(0, 0, 0, 0.3));\n",
              "      fill: #FFFFFF;\n",
              "    }\n",
              "  </style>\n",
              "\n",
              "    <script>\n",
              "      const buttonEl =\n",
              "        document.querySelector('#df-4efaf455-e0ea-4878-9757-fcf3f27a5757 button.colab-df-convert');\n",
              "      buttonEl.style.display =\n",
              "        google.colab.kernel.accessAllowed ? 'block' : 'none';\n",
              "\n",
              "      async function convertToInteractive(key) {\n",
              "        const element = document.querySelector('#df-4efaf455-e0ea-4878-9757-fcf3f27a5757');\n",
              "        const dataTable =\n",
              "          await google.colab.kernel.invokeFunction('convertToInteractive',\n",
              "                                                    [key], {});\n",
              "        if (!dataTable) return;\n",
              "\n",
              "        const docLinkHtml = 'Like what you see? Visit the ' +\n",
              "          '<a target=\"_blank\" href=https://colab.research.google.com/notebooks/data_table.ipynb>data table notebook</a>'\n",
              "          + ' to learn more about interactive tables.';\n",
              "        element.innerHTML = '';\n",
              "        dataTable['output_type'] = 'display_data';\n",
              "        await google.colab.output.renderOutput(dataTable, element);\n",
              "        const docLink = document.createElement('div');\n",
              "        docLink.innerHTML = docLinkHtml;\n",
              "        element.appendChild(docLink);\n",
              "      }\n",
              "    </script>\n",
              "  </div>\n",
              "\n",
              "\n",
              "<div id=\"df-effb0f68-2935-4edd-9ad8-3a2ffd4e2faf\">\n",
              "  <button class=\"colab-df-quickchart\" onclick=\"quickchart('df-effb0f68-2935-4edd-9ad8-3a2ffd4e2faf')\"\n",
              "            title=\"Suggest charts\"\n",
              "            style=\"display:none;\">\n",
              "\n",
              "<svg xmlns=\"http://www.w3.org/2000/svg\" height=\"24px\"viewBox=\"0 0 24 24\"\n",
              "     width=\"24px\">\n",
              "    <g>\n",
              "        <path d=\"M19 3H5c-1.1 0-2 .9-2 2v14c0 1.1.9 2 2 2h14c1.1 0 2-.9 2-2V5c0-1.1-.9-2-2-2zM9 17H7v-7h2v7zm4 0h-2V7h2v10zm4 0h-2v-4h2v4z\"/>\n",
              "    </g>\n",
              "</svg>\n",
              "  </button>\n",
              "\n",
              "<style>\n",
              "  .colab-df-quickchart {\n",
              "      --bg-color: #E8F0FE;\n",
              "      --fill-color: #1967D2;\n",
              "      --hover-bg-color: #E2EBFA;\n",
              "      --hover-fill-color: #174EA6;\n",
              "      --disabled-fill-color: #AAA;\n",
              "      --disabled-bg-color: #DDD;\n",
              "  }\n",
              "\n",
              "  [theme=dark] .colab-df-quickchart {\n",
              "      --bg-color: #3B4455;\n",
              "      --fill-color: #D2E3FC;\n",
              "      --hover-bg-color: #434B5C;\n",
              "      --hover-fill-color: #FFFFFF;\n",
              "      --disabled-bg-color: #3B4455;\n",
              "      --disabled-fill-color: #666;\n",
              "  }\n",
              "\n",
              "  .colab-df-quickchart {\n",
              "    background-color: var(--bg-color);\n",
              "    border: none;\n",
              "    border-radius: 50%;\n",
              "    cursor: pointer;\n",
              "    display: none;\n",
              "    fill: var(--fill-color);\n",
              "    height: 32px;\n",
              "    padding: 0;\n",
              "    width: 32px;\n",
              "  }\n",
              "\n",
              "  .colab-df-quickchart:hover {\n",
              "    background-color: var(--hover-bg-color);\n",
              "    box-shadow: 0 1px 2px rgba(60, 64, 67, 0.3), 0 1px 3px 1px rgba(60, 64, 67, 0.15);\n",
              "    fill: var(--button-hover-fill-color);\n",
              "  }\n",
              "\n",
              "  .colab-df-quickchart-complete:disabled,\n",
              "  .colab-df-quickchart-complete:disabled:hover {\n",
              "    background-color: var(--disabled-bg-color);\n",
              "    fill: var(--disabled-fill-color);\n",
              "    box-shadow: none;\n",
              "  }\n",
              "\n",
              "  .colab-df-spinner {\n",
              "    border: 2px solid var(--fill-color);\n",
              "    border-color: transparent;\n",
              "    border-bottom-color: var(--fill-color);\n",
              "    animation:\n",
              "      spin 1s steps(1) infinite;\n",
              "  }\n",
              "\n",
              "  @keyframes spin {\n",
              "    0% {\n",
              "      border-color: transparent;\n",
              "      border-bottom-color: var(--fill-color);\n",
              "      border-left-color: var(--fill-color);\n",
              "    }\n",
              "    20% {\n",
              "      border-color: transparent;\n",
              "      border-left-color: var(--fill-color);\n",
              "      border-top-color: var(--fill-color);\n",
              "    }\n",
              "    30% {\n",
              "      border-color: transparent;\n",
              "      border-left-color: var(--fill-color);\n",
              "      border-top-color: var(--fill-color);\n",
              "      border-right-color: var(--fill-color);\n",
              "    }\n",
              "    40% {\n",
              "      border-color: transparent;\n",
              "      border-right-color: var(--fill-color);\n",
              "      border-top-color: var(--fill-color);\n",
              "    }\n",
              "    60% {\n",
              "      border-color: transparent;\n",
              "      border-right-color: var(--fill-color);\n",
              "    }\n",
              "    80% {\n",
              "      border-color: transparent;\n",
              "      border-right-color: var(--fill-color);\n",
              "      border-bottom-color: var(--fill-color);\n",
              "    }\n",
              "    90% {\n",
              "      border-color: transparent;\n",
              "      border-bottom-color: var(--fill-color);\n",
              "    }\n",
              "  }\n",
              "</style>\n",
              "\n",
              "  <script>\n",
              "    async function quickchart(key) {\n",
              "      const quickchartButtonEl =\n",
              "        document.querySelector('#' + key + ' button');\n",
              "      quickchartButtonEl.disabled = true;  // To prevent multiple clicks.\n",
              "      quickchartButtonEl.classList.add('colab-df-spinner');\n",
              "      try {\n",
              "        const charts = await google.colab.kernel.invokeFunction(\n",
              "            'suggestCharts', [key], {});\n",
              "      } catch (error) {\n",
              "        console.error('Error during call to suggestCharts:', error);\n",
              "      }\n",
              "      quickchartButtonEl.classList.remove('colab-df-spinner');\n",
              "      quickchartButtonEl.classList.add('colab-df-quickchart-complete');\n",
              "    }\n",
              "    (() => {\n",
              "      let quickchartButtonEl =\n",
              "        document.querySelector('#df-effb0f68-2935-4edd-9ad8-3a2ffd4e2faf button');\n",
              "      quickchartButtonEl.style.display =\n",
              "        google.colab.kernel.accessAllowed ? 'block' : 'none';\n",
              "    })();\n",
              "  </script>\n",
              "</div>\n",
              "\n",
              "    </div>\n",
              "  </div>\n"
            ],
            "application/vnd.google.colaboratory.intrinsic+json": {
              "type": "dataframe",
              "summary": "{\n  \"name\": \"df_final\",\n  \"rows\": 5,\n  \"fields\": [\n    {\n      \"column\": \"\\u0917\\u0941\\u0928\\u093e\\u0938\\u094b \\u0935\\u0930\\u094d\\u0917\",\n      \"properties\": {\n        \"dtype\": \"string\",\n        \"num_unique_values\": 4,\n        \"samples\": [\n          \"\\u0935\\u0947\\u092c\\u0938\\u093e\\u0907\\u091f \\u0924\\u0925\\u093e \\u0905\\u092d\\u093f\\u0932\\u0947\\u0916 \\u0935\\u094d\\u092f\\u0935\\u0938\\u094d\\u0925\\u093e\\u092a\\u0928 \\u0938\\u092e\\u094d\\u092c\\u0928\\u094d\\u0927\\u0940\",\n          \"\\u0938\\u094d\\u0935\\u093e\\u0938\\u094d\\u0925\\u094d\\u092f\\u0938\\u0901\\u0917 \\u0938\\u092e\\u094d\\u092c\\u0928\\u094d\\u0927\\u0940\",\n          \"\\u092a\\u094d\\u0930\\u093e\\u0915\\u0943\\u0924\\u093f\\u0915 \\u0936\\u094d\\u0930\\u094b\\u0924/\\u0938\\u093e\\u0927\\u0928 \\u0938\\u092e\\u094d\\u092c\\u0928\\u094d\\u0927\\u0940\"\n        ],\n        \"semantic_type\": \"\",\n        \"description\": \"\"\n      }\n    },\n    {\n      \"column\": \"\\u0917\\u0941\\u0928\\u093e\\u0938\\u094b\",\n      \"properties\": {\n        \"dtype\": \"string\",\n        \"num_unique_values\": 5,\n        \"samples\": [\n          \"\\u0938\\u0930 \\u0928\\u092e\\u0938\\u094d\\u0924\\u0947 \\u092e\\u0948\\u0932\\u0947 \\u092c\\u093f\\u0917\\u0924 \\u0969 \\u0939\\u092a\\u094d\\u0924\\u093e \\u0926\\u0947\\u0916\\u0940 \\u0939\\u093e\\u092e\\u0940 \\u0926\\u0941\\u0908 \\u092c\\u0942\\u0922\\u093c\\u093e\\u092c\\u0942\\u0922\\u093c\\u0940\\u0915\\u094b \\u0930\\u093e\\u0939\\u093e\\u0926\\u093e\\u0928\\u0940\\u0915\\u094b \\u0932\\u093e\\u0917\\u0940 \\u0936\\u094d\\u092f\\u093e\\u0902\\u0917\\u094d\\u091c\\u093c\\u093e\\u092c\\u093e\\u091f \\u0911\\u0928\\u0932\\u093e\\u0907\\u0928 applie \\u0917\\u0930\\u094d\\u0928 \\u0916\\u094b\\u091c\\u0947\\u0915\\u094b \\u0939\\u0941\\u0926\\u0948\\u0928 , \\u0915\\u0939\\u093e \\u0915\\u0938\\u0930\\u0940 \\u0917\\u0930\\u094d\\u0928 \\u0938\\u0915\\u0940\\u0902\\u091b \\u0939\\u094b\\u0932\\u093e ? \\u0915\\u0938\\u0930\\u0940 \\u092a\\u093e\\u0938\\u092a\\u094b\\u0930\\u094d\\u091f \\u0932\\u093f\\u0928\\u0947 ? \\u0969 \\u0939\\u092a\\u094d\\u0924\\u093e \\u092d\\u092f\\u094b\\u0902 \\u0910\\u092a\\u094d\\u0932\\u093f\\u0915\\u0947\\u0936\\u0928 \\u0928\\u0948 \\u0938\\u092e\\u093f\\u091f \\u091b\\u0948\\u0928 ! \\u096f\\u096e\\u096b\\u096c\\u0966\\u0968\\u096a\\u096f\\u096f\\u096f\",\n          \"\\u0967\\u0966 \\u0935\\u0921\\u093e \\u0935\\u093e\\u0928\\u0947\\u0936\\u094d\\u0935\\u0930\\u092e\\u093e \\u0967\\u0966/\\u0967\\u096b \\u0915\\u0941\\u0915\\u0941\\u0930\\u0939\\u0930\\u0941\\u0932\\u0947 \\u092d\\u0941\\u0915\\u0947\\u0930 \\u0930\\u093e\\u0924\\u0940 \\u0938\\u0941\\u0924\\u094d\\u0928\\u0948 \\u0926\\u093f\\u090f\\u0915\\u094b \\u091b\\u0948\\u0928 \\u092c\\u091a\\u094d\\u091a\\u093e\\u0939\\u0930\\u0941\\u0915\\u094b \\u092a\\u0922\\u093e\\u0907 \\u0935\\u093f\\u0917\\u094d\\u0930\\u093f\\u092f\\u094b \\u092f\\u0938\\u0915\\u094b \\u0909\\u091a\\u093f\\u0924 \\u0935\\u094d\\u092f\\u0935\\u0938\\u094d\\u0925\\u093e\\u092a\\u0928 \\u0917\\u0930\\u093f\\u0926\\u093f\\u0928\\u0941 \\u092a\\u0930\\u094d\\u200d\\u092f\\u094b \\u0964\",\n          \"\\u092e\\u0947\\u0930\\u094b pan no 113902204 \\u0939\\u094b \\u0924\\u0930 \\u0906\\u0928\\u094d\\u0924\\u0930\\u093f\\u0915 \\u0930\\u093e\\u091c\\u0938\\u094d\\u0935 \\u092c\\u093f\\u092d\\u093e\\u0917 \\u0915\\u094b \\u0930\\u0947\\u0915\\u0930\\u094d\\u0921 \\u0905\\u0928\\u0941\\u0938\\u093e\\u0930 \\u092e\\u093f\\u0932\\u0947\\u0928 \\u0915\\u093f\\u0928 ? \\\\n\\u092e\\u0947\\u0930\\u094b certificate nagarik app \\u092e\\u093e \\u0915\\u093f\\u0928 save \\u092d\\u090f\\u0928?\\\\n\\u092e\\u0947\\u0930\\u094b \\u0938\\u094d\\u0935\\u093e\\u0938\\u094d\\u0925\\u094d\\u092f \\u092c\\u093f\\u092e\\u093e \\u0928\\u092e\\u094d\\u092c\\u0930 067502083 \\u0939\\u094b \\u0924\\u0930 \\u092f\\u094b \\u092a\\u0928\\u093f \\u0915\\u093f\\u0928 \\u092e\\u093f\\u0932\\u0947\\u0928 \\u091b\\u093f\\u091f\\u094b \\u091c\\u0935\\u093e\\u092b \\u092a\\u093e\\u0909\"\n        ],\n        \"semantic_type\": \"\",\n        \"description\": \"\"\n      }\n    }\n  ]\n}"
            }
          },
          "metadata": {},
          "execution_count": 20
        }
      ],
      "source": [
        "df_final.sample(5)"
      ]
    },
    {
      "cell_type": "code",
      "execution_count": null,
      "metadata": {
        "id": "Xdzfl2ZO96P0"
      },
      "outputs": [],
      "source": [
        "# Data Preprocessing\n",
        "nepali_stopwords = set(stopwords.words('nepali'))\n",
        "english_stopwords = set(stopwords.words('english'))\n",
        "def preprocess_text(text):\n",
        "    text = text.lower()\n",
        "    text = re.sub('[#\\\\/।(),०-९<<?!,—–’‘:\\u200d]', '', text)\n",
        "    text = text.strip('\"')\n",
        "\n",
        "    words = word_tokenize(text)\n",
        "    filtered_words = [word for word in words if word.lower() not in nepali_stopwords and word.lower() not in english_stopwords]\n",
        "    processed_text = ' '.join(filtered_words)\n",
        "    return processed_text\n",
        "\n"
      ]
    },
    {
      "cell_type": "code",
      "execution_count": null,
      "metadata": {
        "id": "h_MsIALA99oZ"
      },
      "outputs": [],
      "source": [
        "df_final['गुनासो'] = df_final['गुनासो'].apply(preprocess_text)"
      ]
    },
    {
      "cell_type": "code",
      "execution_count": null,
      "metadata": {
        "colab": {
          "base_uri": "https://localhost:8080/"
        },
        "id": "24E_4GM-9_Lr",
        "outputId": "3fa9f3c3-bfdf-4541-b1d9-0a5bf8101252"
      },
      "outputs": [
        {
          "output_type": "execute_result",
          "data": {
            "text/plain": [
              "वेबसाइट तथा अभिलेख व्यवस्थापन सम्बन्धी      2849\n",
              "सोधपुछ, सुझाव, प्रशंसा सम्बन्धी             2849\n",
              "पार्किङ्ग तथा मेट्रो पुलिस                  2849\n",
              "कर्मचारी सम्वन्धी                           2849\n",
              "अर्थ सबन्धी                                 2849\n",
              "खानेपानी                                    2849\n",
              "स्वास्थ्यसँग सम्बन्धी                       2849\n",
              "सूचना तथा संचार                             2849\n",
              "शान्ति सुरक्षा                              2849\n",
              "फोहोरमैला व्यवस्थापन                        2849\n",
              "निर्माण कार्य सम्बन्धी                      2849\n",
              "प्राकृतिक श्रोत/साधन सम्बन्धी               2849\n",
              "लागु पदार्थ सम्बन्धी                        2849\n",
              "अर्थिक अनियमितता तथा भ्रष्टाचार सम्बन्धी    2849\n",
              "Name: गुनासो वर्ग, dtype: int64"
            ]
          },
          "metadata": {},
          "execution_count": 23
        }
      ],
      "source": [
        "\n",
        "df_final['गुनासो वर्ग'].value_counts()"
      ]
    },
    {
      "cell_type": "code",
      "execution_count": null,
      "metadata": {
        "id": "gcHmF_CN-A9m"
      },
      "outputs": [],
      "source": [
        "label_encoder = LabelEncoder()\n",
        "df_final['encoded_labels'] = label_encoder.fit_transform(df_final['गुनासो वर्ग'])"
      ]
    },
    {
      "cell_type": "code",
      "execution_count": null,
      "metadata": {
        "colab": {
          "base_uri": "https://localhost:8080/",
          "height": 206
        },
        "id": "MnGK_vkW-CYb",
        "outputId": "a4b94d26-758d-45d4-b579-bc5037ceb308"
      },
      "outputs": [
        {
          "output_type": "execute_result",
          "data": {
            "text/plain": [
              "                                 गुनासो वर्ग  \\\n",
              "6361  वेबसाइट तथा अभिलेख व्यवस्थापन सम्बन्धी   \n",
              "6362  वेबसाइट तथा अभिलेख व्यवस्थापन सम्बन्धी   \n",
              "6363  वेबसाइट तथा अभिलेख व्यवस्थापन सम्बन्धी   \n",
              "6364  वेबसाइट तथा अभिलेख व्यवस्थापन सम्बन्धी   \n",
              "6365  वेबसाइट तथा अभिलेख व्यवस्थापन सम्बन्धी   \n",
              "\n",
              "                                                 गुनासो  encoded_labels  \n",
              "6361                            अछाम जिल्ला रेकर्ड भन्छ               9  \n",
              "6362               अझ यसमा लाईसेन्सको थप्न पाए हुन्थ्यो               9  \n",
              "6363  अपडेट नभएको सर नागरिक apps माथी उल्लेखित न.हान...               9  \n",
              "6364        अञ्चल लेख्न लेख्नी बाघ मति मात्रै आउनुपर्ने               9  \n",
              "6365  अधिकृत छैठौको भोली फम भर्ने अन्तिम मिति हिजो क...               9  "
            ],
            "text/html": [
              "\n",
              "  <div id=\"df-4b8b2046-a8af-49ca-9da5-116dd0b9d07a\" class=\"colab-df-container\">\n",
              "    <div>\n",
              "<style scoped>\n",
              "    .dataframe tbody tr th:only-of-type {\n",
              "        vertical-align: middle;\n",
              "    }\n",
              "\n",
              "    .dataframe tbody tr th {\n",
              "        vertical-align: top;\n",
              "    }\n",
              "\n",
              "    .dataframe thead th {\n",
              "        text-align: right;\n",
              "    }\n",
              "</style>\n",
              "<table border=\"1\" class=\"dataframe\">\n",
              "  <thead>\n",
              "    <tr style=\"text-align: right;\">\n",
              "      <th></th>\n",
              "      <th>गुनासो वर्ग</th>\n",
              "      <th>गुनासो</th>\n",
              "      <th>encoded_labels</th>\n",
              "    </tr>\n",
              "  </thead>\n",
              "  <tbody>\n",
              "    <tr>\n",
              "      <th>6361</th>\n",
              "      <td>वेबसाइट तथा अभिलेख व्यवस्थापन सम्बन्धी</td>\n",
              "      <td>अछाम जिल्ला रेकर्ड भन्छ</td>\n",
              "      <td>9</td>\n",
              "    </tr>\n",
              "    <tr>\n",
              "      <th>6362</th>\n",
              "      <td>वेबसाइट तथा अभिलेख व्यवस्थापन सम्बन्धी</td>\n",
              "      <td>अझ यसमा लाईसेन्सको थप्न पाए हुन्थ्यो</td>\n",
              "      <td>9</td>\n",
              "    </tr>\n",
              "    <tr>\n",
              "      <th>6363</th>\n",
              "      <td>वेबसाइट तथा अभिलेख व्यवस्थापन सम्बन्धी</td>\n",
              "      <td>अपडेट नभएको सर नागरिक apps माथी उल्लेखित न.हान...</td>\n",
              "      <td>9</td>\n",
              "    </tr>\n",
              "    <tr>\n",
              "      <th>6364</th>\n",
              "      <td>वेबसाइट तथा अभिलेख व्यवस्थापन सम्बन्धी</td>\n",
              "      <td>अञ्चल लेख्न लेख्नी बाघ मति मात्रै आउनुपर्ने</td>\n",
              "      <td>9</td>\n",
              "    </tr>\n",
              "    <tr>\n",
              "      <th>6365</th>\n",
              "      <td>वेबसाइट तथा अभिलेख व्यवस्थापन सम्बन्धी</td>\n",
              "      <td>अधिकृत छैठौको भोली फम भर्ने अन्तिम मिति हिजो क...</td>\n",
              "      <td>9</td>\n",
              "    </tr>\n",
              "  </tbody>\n",
              "</table>\n",
              "</div>\n",
              "    <div class=\"colab-df-buttons\">\n",
              "\n",
              "  <div class=\"colab-df-container\">\n",
              "    <button class=\"colab-df-convert\" onclick=\"convertToInteractive('df-4b8b2046-a8af-49ca-9da5-116dd0b9d07a')\"\n",
              "            title=\"Convert this dataframe to an interactive table.\"\n",
              "            style=\"display:none;\">\n",
              "\n",
              "  <svg xmlns=\"http://www.w3.org/2000/svg\" height=\"24px\" viewBox=\"0 -960 960 960\">\n",
              "    <path d=\"M120-120v-720h720v720H120Zm60-500h600v-160H180v160Zm220 220h160v-160H400v160Zm0 220h160v-160H400v160ZM180-400h160v-160H180v160Zm440 0h160v-160H620v160ZM180-180h160v-160H180v160Zm440 0h160v-160H620v160Z\"/>\n",
              "  </svg>\n",
              "    </button>\n",
              "\n",
              "  <style>\n",
              "    .colab-df-container {\n",
              "      display:flex;\n",
              "      gap: 12px;\n",
              "    }\n",
              "\n",
              "    .colab-df-convert {\n",
              "      background-color: #E8F0FE;\n",
              "      border: none;\n",
              "      border-radius: 50%;\n",
              "      cursor: pointer;\n",
              "      display: none;\n",
              "      fill: #1967D2;\n",
              "      height: 32px;\n",
              "      padding: 0 0 0 0;\n",
              "      width: 32px;\n",
              "    }\n",
              "\n",
              "    .colab-df-convert:hover {\n",
              "      background-color: #E2EBFA;\n",
              "      box-shadow: 0px 1px 2px rgba(60, 64, 67, 0.3), 0px 1px 3px 1px rgba(60, 64, 67, 0.15);\n",
              "      fill: #174EA6;\n",
              "    }\n",
              "\n",
              "    .colab-df-buttons div {\n",
              "      margin-bottom: 4px;\n",
              "    }\n",
              "\n",
              "    [theme=dark] .colab-df-convert {\n",
              "      background-color: #3B4455;\n",
              "      fill: #D2E3FC;\n",
              "    }\n",
              "\n",
              "    [theme=dark] .colab-df-convert:hover {\n",
              "      background-color: #434B5C;\n",
              "      box-shadow: 0px 1px 3px 1px rgba(0, 0, 0, 0.15);\n",
              "      filter: drop-shadow(0px 1px 2px rgba(0, 0, 0, 0.3));\n",
              "      fill: #FFFFFF;\n",
              "    }\n",
              "  </style>\n",
              "\n",
              "    <script>\n",
              "      const buttonEl =\n",
              "        document.querySelector('#df-4b8b2046-a8af-49ca-9da5-116dd0b9d07a button.colab-df-convert');\n",
              "      buttonEl.style.display =\n",
              "        google.colab.kernel.accessAllowed ? 'block' : 'none';\n",
              "\n",
              "      async function convertToInteractive(key) {\n",
              "        const element = document.querySelector('#df-4b8b2046-a8af-49ca-9da5-116dd0b9d07a');\n",
              "        const dataTable =\n",
              "          await google.colab.kernel.invokeFunction('convertToInteractive',\n",
              "                                                    [key], {});\n",
              "        if (!dataTable) return;\n",
              "\n",
              "        const docLinkHtml = 'Like what you see? Visit the ' +\n",
              "          '<a target=\"_blank\" href=https://colab.research.google.com/notebooks/data_table.ipynb>data table notebook</a>'\n",
              "          + ' to learn more about interactive tables.';\n",
              "        element.innerHTML = '';\n",
              "        dataTable['output_type'] = 'display_data';\n",
              "        await google.colab.output.renderOutput(dataTable, element);\n",
              "        const docLink = document.createElement('div');\n",
              "        docLink.innerHTML = docLinkHtml;\n",
              "        element.appendChild(docLink);\n",
              "      }\n",
              "    </script>\n",
              "  </div>\n",
              "\n",
              "\n",
              "<div id=\"df-d571022f-f4ca-4edb-9ed2-aae1fa5f22b1\">\n",
              "  <button class=\"colab-df-quickchart\" onclick=\"quickchart('df-d571022f-f4ca-4edb-9ed2-aae1fa5f22b1')\"\n",
              "            title=\"Suggest charts\"\n",
              "            style=\"display:none;\">\n",
              "\n",
              "<svg xmlns=\"http://www.w3.org/2000/svg\" height=\"24px\"viewBox=\"0 0 24 24\"\n",
              "     width=\"24px\">\n",
              "    <g>\n",
              "        <path d=\"M19 3H5c-1.1 0-2 .9-2 2v14c0 1.1.9 2 2 2h14c1.1 0 2-.9 2-2V5c0-1.1-.9-2-2-2zM9 17H7v-7h2v7zm4 0h-2V7h2v10zm4 0h-2v-4h2v4z\"/>\n",
              "    </g>\n",
              "</svg>\n",
              "  </button>\n",
              "\n",
              "<style>\n",
              "  .colab-df-quickchart {\n",
              "      --bg-color: #E8F0FE;\n",
              "      --fill-color: #1967D2;\n",
              "      --hover-bg-color: #E2EBFA;\n",
              "      --hover-fill-color: #174EA6;\n",
              "      --disabled-fill-color: #AAA;\n",
              "      --disabled-bg-color: #DDD;\n",
              "  }\n",
              "\n",
              "  [theme=dark] .colab-df-quickchart {\n",
              "      --bg-color: #3B4455;\n",
              "      --fill-color: #D2E3FC;\n",
              "      --hover-bg-color: #434B5C;\n",
              "      --hover-fill-color: #FFFFFF;\n",
              "      --disabled-bg-color: #3B4455;\n",
              "      --disabled-fill-color: #666;\n",
              "  }\n",
              "\n",
              "  .colab-df-quickchart {\n",
              "    background-color: var(--bg-color);\n",
              "    border: none;\n",
              "    border-radius: 50%;\n",
              "    cursor: pointer;\n",
              "    display: none;\n",
              "    fill: var(--fill-color);\n",
              "    height: 32px;\n",
              "    padding: 0;\n",
              "    width: 32px;\n",
              "  }\n",
              "\n",
              "  .colab-df-quickchart:hover {\n",
              "    background-color: var(--hover-bg-color);\n",
              "    box-shadow: 0 1px 2px rgba(60, 64, 67, 0.3), 0 1px 3px 1px rgba(60, 64, 67, 0.15);\n",
              "    fill: var(--button-hover-fill-color);\n",
              "  }\n",
              "\n",
              "  .colab-df-quickchart-complete:disabled,\n",
              "  .colab-df-quickchart-complete:disabled:hover {\n",
              "    background-color: var(--disabled-bg-color);\n",
              "    fill: var(--disabled-fill-color);\n",
              "    box-shadow: none;\n",
              "  }\n",
              "\n",
              "  .colab-df-spinner {\n",
              "    border: 2px solid var(--fill-color);\n",
              "    border-color: transparent;\n",
              "    border-bottom-color: var(--fill-color);\n",
              "    animation:\n",
              "      spin 1s steps(1) infinite;\n",
              "  }\n",
              "\n",
              "  @keyframes spin {\n",
              "    0% {\n",
              "      border-color: transparent;\n",
              "      border-bottom-color: var(--fill-color);\n",
              "      border-left-color: var(--fill-color);\n",
              "    }\n",
              "    20% {\n",
              "      border-color: transparent;\n",
              "      border-left-color: var(--fill-color);\n",
              "      border-top-color: var(--fill-color);\n",
              "    }\n",
              "    30% {\n",
              "      border-color: transparent;\n",
              "      border-left-color: var(--fill-color);\n",
              "      border-top-color: var(--fill-color);\n",
              "      border-right-color: var(--fill-color);\n",
              "    }\n",
              "    40% {\n",
              "      border-color: transparent;\n",
              "      border-right-color: var(--fill-color);\n",
              "      border-top-color: var(--fill-color);\n",
              "    }\n",
              "    60% {\n",
              "      border-color: transparent;\n",
              "      border-right-color: var(--fill-color);\n",
              "    }\n",
              "    80% {\n",
              "      border-color: transparent;\n",
              "      border-right-color: var(--fill-color);\n",
              "      border-bottom-color: var(--fill-color);\n",
              "    }\n",
              "    90% {\n",
              "      border-color: transparent;\n",
              "      border-bottom-color: var(--fill-color);\n",
              "    }\n",
              "  }\n",
              "</style>\n",
              "\n",
              "  <script>\n",
              "    async function quickchart(key) {\n",
              "      const quickchartButtonEl =\n",
              "        document.querySelector('#' + key + ' button');\n",
              "      quickchartButtonEl.disabled = true;  // To prevent multiple clicks.\n",
              "      quickchartButtonEl.classList.add('colab-df-spinner');\n",
              "      try {\n",
              "        const charts = await google.colab.kernel.invokeFunction(\n",
              "            'suggestCharts', [key], {});\n",
              "      } catch (error) {\n",
              "        console.error('Error during call to suggestCharts:', error);\n",
              "      }\n",
              "      quickchartButtonEl.classList.remove('colab-df-spinner');\n",
              "      quickchartButtonEl.classList.add('colab-df-quickchart-complete');\n",
              "    }\n",
              "    (() => {\n",
              "      let quickchartButtonEl =\n",
              "        document.querySelector('#df-d571022f-f4ca-4edb-9ed2-aae1fa5f22b1 button');\n",
              "      quickchartButtonEl.style.display =\n",
              "        google.colab.kernel.accessAllowed ? 'block' : 'none';\n",
              "    })();\n",
              "  </script>\n",
              "</div>\n",
              "\n",
              "    </div>\n",
              "  </div>\n"
            ],
            "application/vnd.google.colaboratory.intrinsic+json": {
              "type": "dataframe",
              "variable_name": "df_final",
              "summary": "{\n  \"name\": \"df_final\",\n  \"rows\": 39886,\n  \"fields\": [\n    {\n      \"column\": \"\\u0917\\u0941\\u0928\\u093e\\u0938\\u094b \\u0935\\u0930\\u094d\\u0917\",\n      \"properties\": {\n        \"dtype\": \"category\",\n        \"num_unique_values\": 14,\n        \"samples\": [\n          \"\\u092b\\u094b\\u0939\\u094b\\u0930\\u092e\\u0948\\u0932\\u093e \\u0935\\u094d\\u092f\\u0935\\u0938\\u094d\\u0925\\u093e\\u092a\\u0928\",\n          \"\\u092a\\u094d\\u0930\\u093e\\u0915\\u0943\\u0924\\u093f\\u0915 \\u0936\\u094d\\u0930\\u094b\\u0924/\\u0938\\u093e\\u0927\\u0928 \\u0938\\u092e\\u094d\\u092c\\u0928\\u094d\\u0927\\u0940\",\n          \"\\u0935\\u0947\\u092c\\u0938\\u093e\\u0907\\u091f \\u0924\\u0925\\u093e \\u0905\\u092d\\u093f\\u0932\\u0947\\u0916 \\u0935\\u094d\\u092f\\u0935\\u0938\\u094d\\u0925\\u093e\\u092a\\u0928 \\u0938\\u092e\\u094d\\u092c\\u0928\\u094d\\u0927\\u0940\"\n        ],\n        \"semantic_type\": \"\",\n        \"description\": \"\"\n      }\n    },\n    {\n      \"column\": \"\\u0917\\u0941\\u0928\\u093e\\u0938\\u094b\",\n      \"properties\": {\n        \"dtype\": \"category\",\n        \"num_unique_values\": 11218,\n        \"samples\": [\n          \"\\u0936\\u093e\\u0928\\u094d\\u0924\\u093f\\u092a\\u0941\\u0930\\u094d\\u0923 \\u0906\\u0928\\u094d\\u0926\\u093e\\u0947\\u0932\\u0928 \\u0917\\u0930\\u093f\\u0930\\u0939\\u0947\\u0915\\u0940 \\u092e\\u0939\\u093f\\u0932\\u093e \\u0905\\u092d\\u093f\\u092f\\u0928\\u094d\\u0924\\u093e \\u0928\\u0947\\u092a\\u093e\\u0932 \\u092a\\u094d\\u0930\\u0939\\u0930\\u0940\\u0915\\u093e \\u092a\\u0941\\u0930\\u0941\\u0937 \\u092a\\u094d\\u0930\\u0939\\u0930\\u0940\\u0932\\u0947 \\u0905\\u0928\\u093e\\u0935\\u0936\\u094d\\u092f\\u0915 \\u0930\\u0941\\u092a\\u092e\\u093e \\u0916\\u0941\\u091f\\u094d\\u091f\\u093e \\u0924\\u093e\\u0928\\u094d\\u0926\\u0948 \\u0915\\u0941\\u091f\\u092a\\u093f\\u091f \\u0917\\u0930\\u0947\\u0915\\u093e\\u0947 \\u092d\\u0928\\u094d\\u0926\\u0948 \\u0906\\u0935\\u0936\\u094d\\u092f\\u0915 \\u0915\\u093e\\u0930\\u0935\\u093e\\u0939\\u0940\\u0915\\u093e\\u0947 \\u092e\\u093e\\u0917 \\u092d\\u090f\\u0915\\u093e\\u0947 \\u0935\\u094d\\u092f\\u0939\\u093e\\u0947\\u0930\\u093e\\u0915\\u093e\\u0947 \\u0917\\u0941\\u0928\\u093e\\u0938\\u093e\\u0947 \\u092a\\u094d\\u0930\\u093e\\u092a\\u094d\\u0924 \\u092d\\u090f\\u0915\\u093e\\u0947\",\n          \"\\u091c\\u0928\\u0915\\u0932\\u093e\\u0932 \\u092a\\u0939\\u093e\\u0921\\u0940 \\u0928\\u0947\\u092a\\u093e\\u0932\\u0940\\u092e\\u093e \\u091c\\u0928\\u0915\\u0932\\u093e\\u0932 \\u092a\\u0939\\u093e\\u0921\\u0940 \\u0939\\u0941\\u0928\\u0941 \\u092a\\u0930\\u094d\\u0926\\u091b \\u0938\\u094d\\u0925\\u093e\\u092f\\u0940 \\u0932\\u0947\\u0916\\u093e \\u0928\\u0902 \\u0928\\u0947\\u092a\\u093e\\u0932\\u0940 \\u0928\\u093e\\u092e \\u0938\\u0924\\u094d\\u092f\\u093e\\u0907 \\u0926\\u093f\\u0928\\u0941 \\u0905\\u0928\\u0941\\u0930\\u094b\\u0927 \\u0917\\u0930\\u094d\\u0926\\u091b\\u0941\",\n          \"\\u092c\\u093e\\u0928\\u0947\\u0936\\u094d\\u0935\\u0930\\u092c\\u093e\\u091f \\u0917\\u094d\\u0932\\u094b\\u092c\\u0932 \\u0906\\u092f\\u093e\\u092e\\u093f \\u092c\\u0948\\u0915\\u0939\\u0941\\u0926\\u0948 \\u0932\\u093f\\u092d\\u0930\\u092a\\u0941\\u0932 \\u091c\\u093e\\u0928\\u0947 \\u0917\\u0932\\u094d\\u0932\\u093f\\u092e\\u093e \\u092c\\u093e\\u091f\\u094b\\u0915\\u094b \\u0938\\u093e\\u0907\\u0921 \\u092c\\u093e\\u0907\\u0915 \\u092a\\u093e\\u0930\\u094d\\u0915\\u093f\\u0919\\u094d\\u0917 \\u092c\\u093e\\u091f\\u094b \\u092a\\u0941\\u0930\\u0948 \\u091c\\u093e\\u092e \\u092a\\u093e\\u0930\\u094d\\u0915\\u093f\\u0919\\u094d\\u0917 \\u0939\\u091f\\u093e\\u0907\\u0926\\u093f\\u0928\\u0941\\u0939\\u0941\\u0928 \\u0905\\u0928\\u0941\\u0930\\u094b\\u0927\"\n        ],\n        \"semantic_type\": \"\",\n        \"description\": \"\"\n      }\n    },\n    {\n      \"column\": \"encoded_labels\",\n      \"properties\": {\n        \"dtype\": \"number\",\n        \"std\": 4,\n        \"min\": 0,\n        \"max\": 13,\n        \"num_unique_values\": 14,\n        \"samples\": [\n          7,\n          6,\n          9\n        ],\n        \"semantic_type\": \"\",\n        \"description\": \"\"\n      }\n    }\n  ]\n}"
            }
          },
          "metadata": {},
          "execution_count": 25
        }
      ],
      "source": [
        "df_final.head()"
      ]
    },
    {
      "cell_type": "code",
      "execution_count": null,
      "metadata": {
        "colab": {
          "base_uri": "https://localhost:8080/",
          "height": 206
        },
        "id": "Zg7clHV2-EDG",
        "outputId": "27b6bdcb-c9fc-46be-bfd5-b2d03c87a261"
      },
      "outputs": [
        {
          "output_type": "execute_result",
          "data": {
            "text/plain": [
              "                                   गुनासो वर्ग  \\\n",
              "2844  अर्थिक अनियमितता तथा भ्रष्टाचार सम्बन्धी   \n",
              "2845  अर्थिक अनियमितता तथा भ्रष्टाचार सम्बन्धी   \n",
              "2846  अर्थिक अनियमितता तथा भ्रष्टाचार सम्बन्धी   \n",
              "2847  अर्थिक अनियमितता तथा भ्रष्टाचार सम्बन्धी   \n",
              "2848  अर्थिक अनियमितता तथा भ्रष्टाचार सम्बन्धी   \n",
              "\n",
              "                                                 गुनासो  encoded_labels  \n",
              "2844  मैले पहिलाको श्रीमतिलाई कानुन मालपोतबाट अन्स ब...               1  \n",
              "2845  अशन कमलाक्षिमा फुटपाथ पसलेबाट नगर प्रहरीहरुले ...               1  \n",
              "2846  बिद्युत विकास बिभाग बाताबरण शाखा निजि क्षेत्र ...               1  \n",
              "2847  प्रहरी चौकी कुशेश्वर दुम्जाको प्रहरी हरुले बिप...               1  \n",
              "2848  नेपाल भारत सीमावर्ती क्षेत्रमा खुलेआम रूपमा रक...               1  "
            ],
            "text/html": [
              "\n",
              "  <div id=\"df-895bbb98-f5eb-4c94-b8a4-c6d010a4c0fe\" class=\"colab-df-container\">\n",
              "    <div>\n",
              "<style scoped>\n",
              "    .dataframe tbody tr th:only-of-type {\n",
              "        vertical-align: middle;\n",
              "    }\n",
              "\n",
              "    .dataframe tbody tr th {\n",
              "        vertical-align: top;\n",
              "    }\n",
              "\n",
              "    .dataframe thead th {\n",
              "        text-align: right;\n",
              "    }\n",
              "</style>\n",
              "<table border=\"1\" class=\"dataframe\">\n",
              "  <thead>\n",
              "    <tr style=\"text-align: right;\">\n",
              "      <th></th>\n",
              "      <th>गुनासो वर्ग</th>\n",
              "      <th>गुनासो</th>\n",
              "      <th>encoded_labels</th>\n",
              "    </tr>\n",
              "  </thead>\n",
              "  <tbody>\n",
              "    <tr>\n",
              "      <th>2844</th>\n",
              "      <td>अर्थिक अनियमितता तथा भ्रष्टाचार सम्बन्धी</td>\n",
              "      <td>मैले पहिलाको श्रीमतिलाई कानुन मालपोतबाट अन्स ब...</td>\n",
              "      <td>1</td>\n",
              "    </tr>\n",
              "    <tr>\n",
              "      <th>2845</th>\n",
              "      <td>अर्थिक अनियमितता तथा भ्रष्टाचार सम्बन्धी</td>\n",
              "      <td>अशन कमलाक्षिमा फुटपाथ पसलेबाट नगर प्रहरीहरुले ...</td>\n",
              "      <td>1</td>\n",
              "    </tr>\n",
              "    <tr>\n",
              "      <th>2846</th>\n",
              "      <td>अर्थिक अनियमितता तथा भ्रष्टाचार सम्बन्धी</td>\n",
              "      <td>बिद्युत विकास बिभाग बाताबरण शाखा निजि क्षेत्र ...</td>\n",
              "      <td>1</td>\n",
              "    </tr>\n",
              "    <tr>\n",
              "      <th>2847</th>\n",
              "      <td>अर्थिक अनियमितता तथा भ्रष्टाचार सम्बन्धी</td>\n",
              "      <td>प्रहरी चौकी कुशेश्वर दुम्जाको प्रहरी हरुले बिप...</td>\n",
              "      <td>1</td>\n",
              "    </tr>\n",
              "    <tr>\n",
              "      <th>2848</th>\n",
              "      <td>अर्थिक अनियमितता तथा भ्रष्टाचार सम्बन्धी</td>\n",
              "      <td>नेपाल भारत सीमावर्ती क्षेत्रमा खुलेआम रूपमा रक...</td>\n",
              "      <td>1</td>\n",
              "    </tr>\n",
              "  </tbody>\n",
              "</table>\n",
              "</div>\n",
              "    <div class=\"colab-df-buttons\">\n",
              "\n",
              "  <div class=\"colab-df-container\">\n",
              "    <button class=\"colab-df-convert\" onclick=\"convertToInteractive('df-895bbb98-f5eb-4c94-b8a4-c6d010a4c0fe')\"\n",
              "            title=\"Convert this dataframe to an interactive table.\"\n",
              "            style=\"display:none;\">\n",
              "\n",
              "  <svg xmlns=\"http://www.w3.org/2000/svg\" height=\"24px\" viewBox=\"0 -960 960 960\">\n",
              "    <path d=\"M120-120v-720h720v720H120Zm60-500h600v-160H180v160Zm220 220h160v-160H400v160Zm0 220h160v-160H400v160ZM180-400h160v-160H180v160Zm440 0h160v-160H620v160ZM180-180h160v-160H180v160Zm440 0h160v-160H620v160Z\"/>\n",
              "  </svg>\n",
              "    </button>\n",
              "\n",
              "  <style>\n",
              "    .colab-df-container {\n",
              "      display:flex;\n",
              "      gap: 12px;\n",
              "    }\n",
              "\n",
              "    .colab-df-convert {\n",
              "      background-color: #E8F0FE;\n",
              "      border: none;\n",
              "      border-radius: 50%;\n",
              "      cursor: pointer;\n",
              "      display: none;\n",
              "      fill: #1967D2;\n",
              "      height: 32px;\n",
              "      padding: 0 0 0 0;\n",
              "      width: 32px;\n",
              "    }\n",
              "\n",
              "    .colab-df-convert:hover {\n",
              "      background-color: #E2EBFA;\n",
              "      box-shadow: 0px 1px 2px rgba(60, 64, 67, 0.3), 0px 1px 3px 1px rgba(60, 64, 67, 0.15);\n",
              "      fill: #174EA6;\n",
              "    }\n",
              "\n",
              "    .colab-df-buttons div {\n",
              "      margin-bottom: 4px;\n",
              "    }\n",
              "\n",
              "    [theme=dark] .colab-df-convert {\n",
              "      background-color: #3B4455;\n",
              "      fill: #D2E3FC;\n",
              "    }\n",
              "\n",
              "    [theme=dark] .colab-df-convert:hover {\n",
              "      background-color: #434B5C;\n",
              "      box-shadow: 0px 1px 3px 1px rgba(0, 0, 0, 0.15);\n",
              "      filter: drop-shadow(0px 1px 2px rgba(0, 0, 0, 0.3));\n",
              "      fill: #FFFFFF;\n",
              "    }\n",
              "  </style>\n",
              "\n",
              "    <script>\n",
              "      const buttonEl =\n",
              "        document.querySelector('#df-895bbb98-f5eb-4c94-b8a4-c6d010a4c0fe button.colab-df-convert');\n",
              "      buttonEl.style.display =\n",
              "        google.colab.kernel.accessAllowed ? 'block' : 'none';\n",
              "\n",
              "      async function convertToInteractive(key) {\n",
              "        const element = document.querySelector('#df-895bbb98-f5eb-4c94-b8a4-c6d010a4c0fe');\n",
              "        const dataTable =\n",
              "          await google.colab.kernel.invokeFunction('convertToInteractive',\n",
              "                                                    [key], {});\n",
              "        if (!dataTable) return;\n",
              "\n",
              "        const docLinkHtml = 'Like what you see? Visit the ' +\n",
              "          '<a target=\"_blank\" href=https://colab.research.google.com/notebooks/data_table.ipynb>data table notebook</a>'\n",
              "          + ' to learn more about interactive tables.';\n",
              "        element.innerHTML = '';\n",
              "        dataTable['output_type'] = 'display_data';\n",
              "        await google.colab.output.renderOutput(dataTable, element);\n",
              "        const docLink = document.createElement('div');\n",
              "        docLink.innerHTML = docLinkHtml;\n",
              "        element.appendChild(docLink);\n",
              "      }\n",
              "    </script>\n",
              "  </div>\n",
              "\n",
              "\n",
              "<div id=\"df-c5da5762-e01c-4522-877e-d9dc75a56f06\">\n",
              "  <button class=\"colab-df-quickchart\" onclick=\"quickchart('df-c5da5762-e01c-4522-877e-d9dc75a56f06')\"\n",
              "            title=\"Suggest charts\"\n",
              "            style=\"display:none;\">\n",
              "\n",
              "<svg xmlns=\"http://www.w3.org/2000/svg\" height=\"24px\"viewBox=\"0 0 24 24\"\n",
              "     width=\"24px\">\n",
              "    <g>\n",
              "        <path d=\"M19 3H5c-1.1 0-2 .9-2 2v14c0 1.1.9 2 2 2h14c1.1 0 2-.9 2-2V5c0-1.1-.9-2-2-2zM9 17H7v-7h2v7zm4 0h-2V7h2v10zm4 0h-2v-4h2v4z\"/>\n",
              "    </g>\n",
              "</svg>\n",
              "  </button>\n",
              "\n",
              "<style>\n",
              "  .colab-df-quickchart {\n",
              "      --bg-color: #E8F0FE;\n",
              "      --fill-color: #1967D2;\n",
              "      --hover-bg-color: #E2EBFA;\n",
              "      --hover-fill-color: #174EA6;\n",
              "      --disabled-fill-color: #AAA;\n",
              "      --disabled-bg-color: #DDD;\n",
              "  }\n",
              "\n",
              "  [theme=dark] .colab-df-quickchart {\n",
              "      --bg-color: #3B4455;\n",
              "      --fill-color: #D2E3FC;\n",
              "      --hover-bg-color: #434B5C;\n",
              "      --hover-fill-color: #FFFFFF;\n",
              "      --disabled-bg-color: #3B4455;\n",
              "      --disabled-fill-color: #666;\n",
              "  }\n",
              "\n",
              "  .colab-df-quickchart {\n",
              "    background-color: var(--bg-color);\n",
              "    border: none;\n",
              "    border-radius: 50%;\n",
              "    cursor: pointer;\n",
              "    display: none;\n",
              "    fill: var(--fill-color);\n",
              "    height: 32px;\n",
              "    padding: 0;\n",
              "    width: 32px;\n",
              "  }\n",
              "\n",
              "  .colab-df-quickchart:hover {\n",
              "    background-color: var(--hover-bg-color);\n",
              "    box-shadow: 0 1px 2px rgba(60, 64, 67, 0.3), 0 1px 3px 1px rgba(60, 64, 67, 0.15);\n",
              "    fill: var(--button-hover-fill-color);\n",
              "  }\n",
              "\n",
              "  .colab-df-quickchart-complete:disabled,\n",
              "  .colab-df-quickchart-complete:disabled:hover {\n",
              "    background-color: var(--disabled-bg-color);\n",
              "    fill: var(--disabled-fill-color);\n",
              "    box-shadow: none;\n",
              "  }\n",
              "\n",
              "  .colab-df-spinner {\n",
              "    border: 2px solid var(--fill-color);\n",
              "    border-color: transparent;\n",
              "    border-bottom-color: var(--fill-color);\n",
              "    animation:\n",
              "      spin 1s steps(1) infinite;\n",
              "  }\n",
              "\n",
              "  @keyframes spin {\n",
              "    0% {\n",
              "      border-color: transparent;\n",
              "      border-bottom-color: var(--fill-color);\n",
              "      border-left-color: var(--fill-color);\n",
              "    }\n",
              "    20% {\n",
              "      border-color: transparent;\n",
              "      border-left-color: var(--fill-color);\n",
              "      border-top-color: var(--fill-color);\n",
              "    }\n",
              "    30% {\n",
              "      border-color: transparent;\n",
              "      border-left-color: var(--fill-color);\n",
              "      border-top-color: var(--fill-color);\n",
              "      border-right-color: var(--fill-color);\n",
              "    }\n",
              "    40% {\n",
              "      border-color: transparent;\n",
              "      border-right-color: var(--fill-color);\n",
              "      border-top-color: var(--fill-color);\n",
              "    }\n",
              "    60% {\n",
              "      border-color: transparent;\n",
              "      border-right-color: var(--fill-color);\n",
              "    }\n",
              "    80% {\n",
              "      border-color: transparent;\n",
              "      border-right-color: var(--fill-color);\n",
              "      border-bottom-color: var(--fill-color);\n",
              "    }\n",
              "    90% {\n",
              "      border-color: transparent;\n",
              "      border-bottom-color: var(--fill-color);\n",
              "    }\n",
              "  }\n",
              "</style>\n",
              "\n",
              "  <script>\n",
              "    async function quickchart(key) {\n",
              "      const quickchartButtonEl =\n",
              "        document.querySelector('#' + key + ' button');\n",
              "      quickchartButtonEl.disabled = true;  // To prevent multiple clicks.\n",
              "      quickchartButtonEl.classList.add('colab-df-spinner');\n",
              "      try {\n",
              "        const charts = await google.colab.kernel.invokeFunction(\n",
              "            'suggestCharts', [key], {});\n",
              "      } catch (error) {\n",
              "        console.error('Error during call to suggestCharts:', error);\n",
              "      }\n",
              "      quickchartButtonEl.classList.remove('colab-df-spinner');\n",
              "      quickchartButtonEl.classList.add('colab-df-quickchart-complete');\n",
              "    }\n",
              "    (() => {\n",
              "      let quickchartButtonEl =\n",
              "        document.querySelector('#df-c5da5762-e01c-4522-877e-d9dc75a56f06 button');\n",
              "      quickchartButtonEl.style.display =\n",
              "        google.colab.kernel.accessAllowed ? 'block' : 'none';\n",
              "    })();\n",
              "  </script>\n",
              "</div>\n",
              "\n",
              "    </div>\n",
              "  </div>\n"
            ],
            "application/vnd.google.colaboratory.intrinsic+json": {
              "type": "dataframe",
              "summary": "{\n  \"name\": \"df_final\",\n  \"rows\": 5,\n  \"fields\": [\n    {\n      \"column\": \"\\u0917\\u0941\\u0928\\u093e\\u0938\\u094b \\u0935\\u0930\\u094d\\u0917\",\n      \"properties\": {\n        \"dtype\": \"category\",\n        \"num_unique_values\": 1,\n        \"samples\": [\n          \"\\u0905\\u0930\\u094d\\u0925\\u093f\\u0915 \\u0905\\u0928\\u093f\\u092f\\u092e\\u093f\\u0924\\u0924\\u093e \\u0924\\u0925\\u093e \\u092d\\u094d\\u0930\\u0937\\u094d\\u091f\\u093e\\u091a\\u093e\\u0930 \\u0938\\u092e\\u094d\\u092c\\u0928\\u094d\\u0927\\u0940\"\n        ],\n        \"semantic_type\": \"\",\n        \"description\": \"\"\n      }\n    },\n    {\n      \"column\": \"\\u0917\\u0941\\u0928\\u093e\\u0938\\u094b\",\n      \"properties\": {\n        \"dtype\": \"string\",\n        \"num_unique_values\": 5,\n        \"samples\": [\n          \"\\u0905\\u0936\\u0928 \\u0915\\u092e\\u0932\\u093e\\u0915\\u094d\\u0937\\u093f\\u092e\\u093e \\u092b\\u0941\\u091f\\u092a\\u093e\\u0925 \\u092a\\u0938\\u0932\\u0947\\u092c\\u093e\\u091f \\u0928\\u0917\\u0930 \\u092a\\u094d\\u0930\\u0939\\u0930\\u0940\\u0939\\u0930\\u0941\\u0932\\u0947 \\u092a\\u0948\\u0938\\u093e \\u0932\\u0917\\u093f \\u092b\\u0941\\u091f\\u092a\\u093e\\u0925 \\u092a\\u0938\\u0932 \\u0939\\u091f\\u093e\\u0909\\u0928 \\u092a\\u094d\\u0930\\u092d\\u093e\\u0935\\u0915\\u093e\\u0930\\u0940 \\u0915\\u093e\\u092e \\u092d\\u0928\\u093f \\u0917\\u0941\\u0928\\u093e\\u0938\\u094b \\u0906\\u090f\\u0915\\u094b \\u0939\\u0941\\u0926\\u093e \\u0906\\u0935\\u0936\\u094d\\u092f\\u0915 \\u0905\\u0928\\u0941\\u0917\\u092e\\u0928 \\u0938\\u092e\\u094d\\u092c\\u0928\\u094d\\u0927\\u092e\\u093e \\u0906\\u0935\\u0936\\u094d\\u092f\\u0915 \\u0915\\u093e\\u0930\\u092c\\u093e\\u0939\\u093f \\u0917\\u0930\\u094d\\u0928\\u0939\\u0941\\u0928 \\u0905\\u0928\\u0941\\u0930\\u094b\\u0927\"\n        ],\n        \"semantic_type\": \"\",\n        \"description\": \"\"\n      }\n    },\n    {\n      \"column\": \"encoded_labels\",\n      \"properties\": {\n        \"dtype\": \"number\",\n        \"std\": 0,\n        \"min\": 1,\n        \"max\": 1,\n        \"num_unique_values\": 1,\n        \"samples\": [\n          1\n        ],\n        \"semantic_type\": \"\",\n        \"description\": \"\"\n      }\n    }\n  ]\n}"
            }
          },
          "metadata": {},
          "execution_count": 26
        }
      ],
      "source": [
        "df_final.tail()"
      ]
    },
    {
      "cell_type": "code",
      "execution_count": null,
      "metadata": {
        "id": "v3SDHKN6-FPB"
      },
      "outputs": [],
      "source": [
        "encodings = tokenizer(df_final['गुनासो'].tolist(), padding=True, truncation=True, max_length=512, return_tensors=\"pt\")"
      ]
    },
    {
      "cell_type": "code",
      "execution_count": null,
      "metadata": {
        "id": "zYAXKhzu-Hpz"
      },
      "outputs": [],
      "source": [
        "train_indices, val_indices = train_test_split(np.arange(len(df_final)), test_size=0.2, stratify=df_final['encoded_labels'])\n"
      ]
    },
    {
      "cell_type": "code",
      "execution_count": null,
      "metadata": {
        "id": "GIW2Easd-KUI"
      },
      "outputs": [],
      "source": [
        "# Custom dataset class\n",
        "class NepaliComplaintsDataset(Dataset):\n",
        "    def __init__(self, encodings, labels, indices):\n",
        "        self.encodings = {key: val[indices] for key, val in encodings.items()}\n",
        "        self.labels = labels[indices]\n",
        "\n",
        "    def __getitem__(self, idx):\n",
        "        item = {key: torch.tensor(val[idx]) for key, val in self.encodings.items()}\n",
        "        item['labels'] = torch.tensor(self.labels[idx], dtype=torch.long)\n",
        "        return item\n",
        "\n",
        "    def __len__(self):\n",
        "        return len(self.labels)"
      ]
    },
    {
      "cell_type": "code",
      "execution_count": null,
      "metadata": {
        "id": "qaSH6HW_-MHh"
      },
      "outputs": [],
      "source": [
        "# Creating datasets\n",
        "train_dataset = NepaliComplaintsDataset(encodings, np.array(df_final['encoded_labels']), train_indices)\n",
        "val_dataset = NepaliComplaintsDataset(encodings, np.array(df_final['encoded_labels']), val_indices)"
      ]
    },
    {
      "cell_type": "code",
      "execution_count": null,
      "metadata": {
        "id": "zWrCmweA-Nz8"
      },
      "outputs": [],
      "source": [
        "# DataLoader setup\n",
        "train_loader = DataLoader(train_dataset, batch_size=16, shuffle=True)\n",
        "val_loader = DataLoader(val_dataset, batch_size=16, shuffle=False)"
      ]
    },
    {
      "cell_type": "code",
      "execution_count": null,
      "metadata": {
        "id": "4eU6CPHd-PL6"
      },
      "outputs": [],
      "source": [
        "num_labels = len(np.unique(df_final['encoded_labels']))\n"
      ]
    },
    {
      "cell_type": "code",
      "execution_count": null,
      "metadata": {
        "colab": {
          "base_uri": "https://localhost:8080/"
        },
        "id": "4iOrF544-Qzz",
        "outputId": "f1cfabc0-aac6-4ec3-f2ec-d4d4717b58e7"
      },
      "outputs": [
        {
          "output_type": "stream",
          "name": "stderr",
          "text": [
            "Some weights of BertForSequenceClassification were not initialized from the model checkpoint at Rajan/NepaliBERT and are newly initialized: ['bert.pooler.dense.bias', 'bert.pooler.dense.weight', 'classifier.bias', 'classifier.weight']\n",
            "You should probably TRAIN this model on a down-stream task to be able to use it for predictions and inference.\n"
          ]
        }
      ],
      "source": [
        "model = AutoModelForSequenceClassification.from_pretrained(\"Rajan/NepaliBERT\", num_labels=num_labels)\n"
      ]
    },
    {
      "cell_type": "code",
      "execution_count": null,
      "metadata": {
        "id": "qIvUXoxX-SbJ"
      },
      "outputs": [],
      "source": [
        "from transformers import Trainer, TrainingArguments\n",
        "from transformers import DataCollatorWithPadding\n",
        "data_collator = DataCollatorWithPadding(tokenizer=tokenizer)\n",
        "\n"
      ]
    },
    {
      "cell_type": "code",
      "execution_count": null,
      "metadata": {
        "colab": {
          "base_uri": "https://localhost:8080/"
        },
        "id": "rLDMrO7y-UB-",
        "outputId": "588fa973-4537-4e9b-f292-753c79cb1335"
      },
      "outputs": [
        {
          "output_type": "stream",
          "name": "stdout",
          "text": [
            "nadika\n"
          ]
        }
      ],
      "source": [
        "\n",
        "\n",
        "!huggingface-cli whoami"
      ]
    },
    {
      "cell_type": "code",
      "execution_count": null,
      "metadata": {
        "id": "78QWkUHh-VZN"
      },
      "outputs": [],
      "source": [
        "training_args = TrainingArguments(\n",
        "    output_dir='nepali_complaints_classification_nepbert3',          # Directory for saving model and outputs\n",
        "    num_train_epochs=5,              # Number of training epochs\n",
        "    per_device_train_batch_size=16,  # Batch size for training\n",
        "    per_device_eval_batch_size=16,   # Batch size for evaluation\n",
        "    warmup_steps=50,                # Number of warmup steps\n",
        "    weight_decay=0.01,               # Weight decay rate #l2 regularization AdamW\n",
        "    report_to = \"wandb\",\n",
        "    logging_dir='./logs',            # Directory for logging\n",
        "    evaluation_strategy=\"steps\",     # Evaluate at the end of every epoch\n",
        "    save_steps = 500,\n",
        "    eval_steps=500,\n",
        "    logging_steps=500,          # Save model at the end of every epoch\n",
        "    learning_rate=2e-5,\n",
        "    load_best_model_at_end=True,     # Load the best model at the end of training\n",
        "    metric_for_best_model=\"eval_loss\",  # Metric to optimize over\n",
        "    save_total_limit=5,              # Limit the total number of checkpoints to save (useful for saving disk space)\n",
        "    push_to_hub=True,\n",
        "    # hub_model_id=hub_model_id,\n",
        ")"
      ]
    },
    {
      "cell_type": "code",
      "execution_count": null,
      "metadata": {
        "id": "N7cXf7rYwY4j"
      },
      "outputs": [],
      "source": [
        "from sklearn.metrics import accuracy_score, f1_score\n",
        "\n",
        "def compute_metrics(p):\n",
        "    predictions = p.predictions.argmax(axis=1)\n",
        "    label_ids = p.label_ids\n",
        "    accuracy = accuracy_score(label_ids, predictions)\n",
        "    f1 = f1_score(label_ids, predictions, average='weighted')\n",
        "\n",
        "    return {\"accuracy\": accuracy, \"f1-score\": f1}\n",
        "\n"
      ]
    },
    {
      "cell_type": "code",
      "execution_count": null,
      "metadata": {
        "id": "MHhVYF0d-Wz2"
      },
      "outputs": [],
      "source": [
        "trainer = Trainer(\n",
        "    model=model,\n",
        "    args=training_args,\n",
        "    train_dataset=train_dataset,\n",
        "    eval_dataset=val_dataset,\n",
        "    data_collator=data_collator,\n",
        "    compute_metrics=compute_metrics\n",
        ")"
      ]
    },
    {
      "cell_type": "code",
      "execution_count": null,
      "metadata": {
        "id": "3B2HSe4u-YiU",
        "colab": {
          "base_uri": "https://localhost:8080/",
          "height": 1000
        },
        "outputId": "f6a98391-6774-4b3c-ba56-747c4b5fb001"
      },
      "outputs": [
        {
          "output_type": "stream",
          "name": "stderr",
          "text": [
            "<ipython-input-29-1529dc6678a3>:8: UserWarning: To copy construct from a tensor, it is recommended to use sourceTensor.clone().detach() or sourceTensor.clone().detach().requires_grad_(True), rather than torch.tensor(sourceTensor).\n",
            "  item = {key: torch.tensor(val[idx]) for key, val in self.encodings.items()}\n"
          ]
        },
        {
          "output_type": "display_data",
          "data": {
            "text/plain": [
              "<IPython.core.display.HTML object>"
            ],
            "text/html": [
              "\n",
              "    <div>\n",
              "      \n",
              "      <progress value='11220' max='11220' style='width:300px; height:20px; vertical-align: middle;'></progress>\n",
              "      [11220/11220 52:59, Epoch 5/5]\n",
              "    </div>\n",
              "    <table border=\"1\" class=\"dataframe\">\n",
              "  <thead>\n",
              " <tr style=\"text-align: left;\">\n",
              "      <th>Step</th>\n",
              "      <th>Training Loss</th>\n",
              "      <th>Validation Loss</th>\n",
              "      <th>Accuracy</th>\n",
              "      <th>F1-score</th>\n",
              "    </tr>\n",
              "  </thead>\n",
              "  <tbody>\n",
              "    <tr>\n",
              "      <td>500</td>\n",
              "      <td>1.492100</td>\n",
              "      <td>0.864195</td>\n",
              "      <td>0.723490</td>\n",
              "      <td>0.714339</td>\n",
              "    </tr>\n",
              "    <tr>\n",
              "      <td>1000</td>\n",
              "      <td>0.778100</td>\n",
              "      <td>0.624062</td>\n",
              "      <td>0.797443</td>\n",
              "      <td>0.792301</td>\n",
              "    </tr>\n",
              "    <tr>\n",
              "      <td>1500</td>\n",
              "      <td>0.586500</td>\n",
              "      <td>0.534205</td>\n",
              "      <td>0.824267</td>\n",
              "      <td>0.812536</td>\n",
              "    </tr>\n",
              "    <tr>\n",
              "      <td>2000</td>\n",
              "      <td>0.462500</td>\n",
              "      <td>0.425015</td>\n",
              "      <td>0.857608</td>\n",
              "      <td>0.855304</td>\n",
              "    </tr>\n",
              "    <tr>\n",
              "      <td>2500</td>\n",
              "      <td>0.364800</td>\n",
              "      <td>0.385573</td>\n",
              "      <td>0.875909</td>\n",
              "      <td>0.872476</td>\n",
              "    </tr>\n",
              "    <tr>\n",
              "      <td>3000</td>\n",
              "      <td>0.300100</td>\n",
              "      <td>0.342368</td>\n",
              "      <td>0.889947</td>\n",
              "      <td>0.889120</td>\n",
              "    </tr>\n",
              "    <tr>\n",
              "      <td>3500</td>\n",
              "      <td>0.272300</td>\n",
              "      <td>0.319915</td>\n",
              "      <td>0.900727</td>\n",
              "      <td>0.898120</td>\n",
              "    </tr>\n",
              "    <tr>\n",
              "      <td>4000</td>\n",
              "      <td>0.253800</td>\n",
              "      <td>0.289768</td>\n",
              "      <td>0.908498</td>\n",
              "      <td>0.906638</td>\n",
              "    </tr>\n",
              "    <tr>\n",
              "      <td>4500</td>\n",
              "      <td>0.231000</td>\n",
              "      <td>0.267575</td>\n",
              "      <td>0.920281</td>\n",
              "      <td>0.918922</td>\n",
              "    </tr>\n",
              "    <tr>\n",
              "      <td>5000</td>\n",
              "      <td>0.147800</td>\n",
              "      <td>0.302940</td>\n",
              "      <td>0.921033</td>\n",
              "      <td>0.918669</td>\n",
              "    </tr>\n",
              "    <tr>\n",
              "      <td>5500</td>\n",
              "      <td>0.166600</td>\n",
              "      <td>0.257960</td>\n",
              "      <td>0.928303</td>\n",
              "      <td>0.927070</td>\n",
              "    </tr>\n",
              "    <tr>\n",
              "      <td>6000</td>\n",
              "      <td>0.151900</td>\n",
              "      <td>0.257271</td>\n",
              "      <td>0.930810</td>\n",
              "      <td>0.929191</td>\n",
              "    </tr>\n",
              "    <tr>\n",
              "      <td>6500</td>\n",
              "      <td>0.149800</td>\n",
              "      <td>0.274630</td>\n",
              "      <td>0.932815</td>\n",
              "      <td>0.930573</td>\n",
              "    </tr>\n",
              "    <tr>\n",
              "      <td>7000</td>\n",
              "      <td>0.111200</td>\n",
              "      <td>0.256367</td>\n",
              "      <td>0.939835</td>\n",
              "      <td>0.938912</td>\n",
              "    </tr>\n",
              "    <tr>\n",
              "      <td>7500</td>\n",
              "      <td>0.090300</td>\n",
              "      <td>0.272616</td>\n",
              "      <td>0.940336</td>\n",
              "      <td>0.939275</td>\n",
              "    </tr>\n",
              "    <tr>\n",
              "      <td>8000</td>\n",
              "      <td>0.103600</td>\n",
              "      <td>0.266395</td>\n",
              "      <td>0.939835</td>\n",
              "      <td>0.938509</td>\n",
              "    </tr>\n",
              "    <tr>\n",
              "      <td>8500</td>\n",
              "      <td>0.104300</td>\n",
              "      <td>0.261355</td>\n",
              "      <td>0.945851</td>\n",
              "      <td>0.944745</td>\n",
              "    </tr>\n",
              "    <tr>\n",
              "      <td>9000</td>\n",
              "      <td>0.097200</td>\n",
              "      <td>0.249901</td>\n",
              "      <td>0.945350</td>\n",
              "      <td>0.944329</td>\n",
              "    </tr>\n",
              "    <tr>\n",
              "      <td>9500</td>\n",
              "      <td>0.066300</td>\n",
              "      <td>0.264304</td>\n",
              "      <td>0.946854</td>\n",
              "      <td>0.945778</td>\n",
              "    </tr>\n",
              "    <tr>\n",
              "      <td>10000</td>\n",
              "      <td>0.068300</td>\n",
              "      <td>0.268835</td>\n",
              "      <td>0.947355</td>\n",
              "      <td>0.946155</td>\n",
              "    </tr>\n",
              "    <tr>\n",
              "      <td>10500</td>\n",
              "      <td>0.067100</td>\n",
              "      <td>0.265670</td>\n",
              "      <td>0.949110</td>\n",
              "      <td>0.948146</td>\n",
              "    </tr>\n",
              "    <tr>\n",
              "      <td>11000</td>\n",
              "      <td>0.060500</td>\n",
              "      <td>0.268728</td>\n",
              "      <td>0.949361</td>\n",
              "      <td>0.948255</td>\n",
              "    </tr>\n",
              "  </tbody>\n",
              "</table><p>"
            ]
          },
          "metadata": {}
        },
        {
          "output_type": "stream",
          "name": "stderr",
          "text": [
            "<ipython-input-29-1529dc6678a3>:8: UserWarning: To copy construct from a tensor, it is recommended to use sourceTensor.clone().detach() or sourceTensor.clone().detach().requires_grad_(True), rather than torch.tensor(sourceTensor).\n",
            "  item = {key: torch.tensor(val[idx]) for key, val in self.encodings.items()}\n",
            "<ipython-input-29-1529dc6678a3>:8: UserWarning: To copy construct from a tensor, it is recommended to use sourceTensor.clone().detach() or sourceTensor.clone().detach().requires_grad_(True), rather than torch.tensor(sourceTensor).\n",
            "  item = {key: torch.tensor(val[idx]) for key, val in self.encodings.items()}\n",
            "<ipython-input-29-1529dc6678a3>:8: UserWarning: To copy construct from a tensor, it is recommended to use sourceTensor.clone().detach() or sourceTensor.clone().detach().requires_grad_(True), rather than torch.tensor(sourceTensor).\n",
            "  item = {key: torch.tensor(val[idx]) for key, val in self.encodings.items()}\n",
            "<ipython-input-29-1529dc6678a3>:8: UserWarning: To copy construct from a tensor, it is recommended to use sourceTensor.clone().detach() or sourceTensor.clone().detach().requires_grad_(True), rather than torch.tensor(sourceTensor).\n",
            "  item = {key: torch.tensor(val[idx]) for key, val in self.encodings.items()}\n",
            "<ipython-input-29-1529dc6678a3>:8: UserWarning: To copy construct from a tensor, it is recommended to use sourceTensor.clone().detach() or sourceTensor.clone().detach().requires_grad_(True), rather than torch.tensor(sourceTensor).\n",
            "  item = {key: torch.tensor(val[idx]) for key, val in self.encodings.items()}\n",
            "<ipython-input-29-1529dc6678a3>:8: UserWarning: To copy construct from a tensor, it is recommended to use sourceTensor.clone().detach() or sourceTensor.clone().detach().requires_grad_(True), rather than torch.tensor(sourceTensor).\n",
            "  item = {key: torch.tensor(val[idx]) for key, val in self.encodings.items()}\n",
            "<ipython-input-29-1529dc6678a3>:8: UserWarning: To copy construct from a tensor, it is recommended to use sourceTensor.clone().detach() or sourceTensor.clone().detach().requires_grad_(True), rather than torch.tensor(sourceTensor).\n",
            "  item = {key: torch.tensor(val[idx]) for key, val in self.encodings.items()}\n",
            "<ipython-input-29-1529dc6678a3>:8: UserWarning: To copy construct from a tensor, it is recommended to use sourceTensor.clone().detach() or sourceTensor.clone().detach().requires_grad_(True), rather than torch.tensor(sourceTensor).\n",
            "  item = {key: torch.tensor(val[idx]) for key, val in self.encodings.items()}\n",
            "<ipython-input-29-1529dc6678a3>:8: UserWarning: To copy construct from a tensor, it is recommended to use sourceTensor.clone().detach() or sourceTensor.clone().detach().requires_grad_(True), rather than torch.tensor(sourceTensor).\n",
            "  item = {key: torch.tensor(val[idx]) for key, val in self.encodings.items()}\n",
            "<ipython-input-29-1529dc6678a3>:8: UserWarning: To copy construct from a tensor, it is recommended to use sourceTensor.clone().detach() or sourceTensor.clone().detach().requires_grad_(True), rather than torch.tensor(sourceTensor).\n",
            "  item = {key: torch.tensor(val[idx]) for key, val in self.encodings.items()}\n",
            "<ipython-input-29-1529dc6678a3>:8: UserWarning: To copy construct from a tensor, it is recommended to use sourceTensor.clone().detach() or sourceTensor.clone().detach().requires_grad_(True), rather than torch.tensor(sourceTensor).\n",
            "  item = {key: torch.tensor(val[idx]) for key, val in self.encodings.items()}\n",
            "<ipython-input-29-1529dc6678a3>:8: UserWarning: To copy construct from a tensor, it is recommended to use sourceTensor.clone().detach() or sourceTensor.clone().detach().requires_grad_(True), rather than torch.tensor(sourceTensor).\n",
            "  item = {key: torch.tensor(val[idx]) for key, val in self.encodings.items()}\n",
            "<ipython-input-29-1529dc6678a3>:8: UserWarning: To copy construct from a tensor, it is recommended to use sourceTensor.clone().detach() or sourceTensor.clone().detach().requires_grad_(True), rather than torch.tensor(sourceTensor).\n",
            "  item = {key: torch.tensor(val[idx]) for key, val in self.encodings.items()}\n",
            "<ipython-input-29-1529dc6678a3>:8: UserWarning: To copy construct from a tensor, it is recommended to use sourceTensor.clone().detach() or sourceTensor.clone().detach().requires_grad_(True), rather than torch.tensor(sourceTensor).\n",
            "  item = {key: torch.tensor(val[idx]) for key, val in self.encodings.items()}\n",
            "<ipython-input-29-1529dc6678a3>:8: UserWarning: To copy construct from a tensor, it is recommended to use sourceTensor.clone().detach() or sourceTensor.clone().detach().requires_grad_(True), rather than torch.tensor(sourceTensor).\n",
            "  item = {key: torch.tensor(val[idx]) for key, val in self.encodings.items()}\n",
            "<ipython-input-29-1529dc6678a3>:8: UserWarning: To copy construct from a tensor, it is recommended to use sourceTensor.clone().detach() or sourceTensor.clone().detach().requires_grad_(True), rather than torch.tensor(sourceTensor).\n",
            "  item = {key: torch.tensor(val[idx]) for key, val in self.encodings.items()}\n",
            "<ipython-input-29-1529dc6678a3>:8: UserWarning: To copy construct from a tensor, it is recommended to use sourceTensor.clone().detach() or sourceTensor.clone().detach().requires_grad_(True), rather than torch.tensor(sourceTensor).\n",
            "  item = {key: torch.tensor(val[idx]) for key, val in self.encodings.items()}\n",
            "<ipython-input-29-1529dc6678a3>:8: UserWarning: To copy construct from a tensor, it is recommended to use sourceTensor.clone().detach() or sourceTensor.clone().detach().requires_grad_(True), rather than torch.tensor(sourceTensor).\n",
            "  item = {key: torch.tensor(val[idx]) for key, val in self.encodings.items()}\n",
            "<ipython-input-29-1529dc6678a3>:8: UserWarning: To copy construct from a tensor, it is recommended to use sourceTensor.clone().detach() or sourceTensor.clone().detach().requires_grad_(True), rather than torch.tensor(sourceTensor).\n",
            "  item = {key: torch.tensor(val[idx]) for key, val in self.encodings.items()}\n",
            "<ipython-input-29-1529dc6678a3>:8: UserWarning: To copy construct from a tensor, it is recommended to use sourceTensor.clone().detach() or sourceTensor.clone().detach().requires_grad_(True), rather than torch.tensor(sourceTensor).\n",
            "  item = {key: torch.tensor(val[idx]) for key, val in self.encodings.items()}\n",
            "<ipython-input-29-1529dc6678a3>:8: UserWarning: To copy construct from a tensor, it is recommended to use sourceTensor.clone().detach() or sourceTensor.clone().detach().requires_grad_(True), rather than torch.tensor(sourceTensor).\n",
            "  item = {key: torch.tensor(val[idx]) for key, val in self.encodings.items()}\n",
            "<ipython-input-29-1529dc6678a3>:8: UserWarning: To copy construct from a tensor, it is recommended to use sourceTensor.clone().detach() or sourceTensor.clone().detach().requires_grad_(True), rather than torch.tensor(sourceTensor).\n",
            "  item = {key: torch.tensor(val[idx]) for key, val in self.encodings.items()}\n"
          ]
        },
        {
          "output_type": "execute_result",
          "data": {
            "text/plain": [
              "TrainOutput(global_step=11220, training_loss=0.27445745570136904, metrics={'train_runtime': 3181.5466, 'train_samples_per_second': 56.414, 'train_steps_per_second': 3.527, 'total_flos': 2.378099916321792e+16, 'train_loss': 0.27445745570136904, 'epoch': 5.0})"
            ]
          },
          "metadata": {},
          "execution_count": 39
        }
      ],
      "source": [
        "trainer.train()"
      ]
    },
    {
      "cell_type": "code",
      "execution_count": null,
      "metadata": {
        "colab": {
          "base_uri": "https://localhost:8080/",
          "height": 89
        },
        "id": "e4L9Hyqi-aNw",
        "outputId": "9470e194-de9e-4f6b-b6f1-f5c4de4c6a58"
      },
      "outputs": [
        {
          "output_type": "execute_result",
          "data": {
            "text/plain": [
              "CommitInfo(commit_url='https://huggingface.co/nadika/nepali_complaints_classification_nepbert3/commit/c9f3b6192751773dadd95a6218b3a54012a27a52', commit_message='End of training', commit_description='', oid='c9f3b6192751773dadd95a6218b3a54012a27a52', pr_url=None, pr_revision=None, pr_num=None)"
            ],
            "application/vnd.google.colaboratory.intrinsic+json": {
              "type": "string"
            }
          },
          "metadata": {},
          "execution_count": 40
        }
      ],
      "source": [
        "trainer.push_to_hub()"
      ]
    },
    {
      "cell_type": "code",
      "execution_count": null,
      "metadata": {
        "colab": {
          "base_uri": "https://localhost:8080/",
          "height": 213
        },
        "id": "83uJ8PSb-cDb",
        "outputId": "a102a669-cfb5-4645-d8de-e9f1d4c22c79"
      },
      "outputs": [
        {
          "output_type": "stream",
          "name": "stderr",
          "text": [
            "<ipython-input-29-1529dc6678a3>:8: UserWarning: To copy construct from a tensor, it is recommended to use sourceTensor.clone().detach() or sourceTensor.clone().detach().requires_grad_(True), rather than torch.tensor(sourceTensor).\n",
            "  item = {key: torch.tensor(val[idx]) for key, val in self.encodings.items()}\n"
          ]
        },
        {
          "output_type": "display_data",
          "data": {
            "text/plain": [
              "<IPython.core.display.HTML object>"
            ],
            "text/html": [
              "\n",
              "    <div>\n",
              "      \n",
              "      <progress value='250' max='250' style='width:300px; height:20px; vertical-align: middle;'></progress>\n",
              "      [250/250 00:19]\n",
              "    </div>\n",
              "    "
            ]
          },
          "metadata": {}
        },
        {
          "output_type": "execute_result",
          "data": {
            "text/plain": [
              "{'eval_loss': 0.24990147352218628,\n",
              " 'eval_accuracy': 0.9453497117071948,\n",
              " 'eval_f1-score': 0.944329069963225,\n",
              " 'eval_runtime': 20.0555,\n",
              " 'eval_samples_per_second': 198.898,\n",
              " 'eval_steps_per_second': 12.465,\n",
              " 'epoch': 5.0}"
            ]
          },
          "metadata": {},
          "execution_count": 41
        }
      ],
      "source": [
        "trainer.evaluate()"
      ]
    },
    {
      "cell_type": "code",
      "execution_count": null,
      "metadata": {
        "colab": {
          "base_uri": "https://localhost:8080/",
          "height": 121,
          "referenced_widgets": [
            "7dd854f3191f4f66b08ddeee716d7e97",
            "c19ec5e0938a43f0be79e096c850fdd4",
            "e81b5fb2f2984d72be0180eeb7395065",
            "f8a708a864c94818b46f81239cf4e692",
            "1195277cb5bc463a8d92dd156cb7e2dc",
            "7f1e81e26e204525a2b3d483772ee5d0",
            "12c1f521011f4228baf971eb619f04bb",
            "08557c08bd044e96b6200c8ee1216f59",
            "03f4749725ab4dde97492d433979bd98",
            "6371f212d4424a7ea9a51a2a37d5d51c",
            "e8bf624d9fa043e5b292ddd6de8927d4"
          ]
        },
        "id": "f3Yk9WCN-dhe",
        "outputId": "876994dd-bc79-488b-87c5-b14201188cc3"
      },
      "outputs": [
        {
          "output_type": "display_data",
          "data": {
            "text/plain": [
              "README.md:   0%|          | 0.00/3.02k [00:00<?, ?B/s]"
            ],
            "application/vnd.jupyter.widget-view+json": {
              "version_major": 2,
              "version_minor": 0,
              "model_id": "7dd854f3191f4f66b08ddeee716d7e97"
            }
          },
          "metadata": {}
        },
        {
          "output_type": "execute_result",
          "data": {
            "text/plain": [
              "CommitInfo(commit_url='https://huggingface.co/nadika/nepali_complaints_classification_nepbert3/commit/45e36a2d88af6c06fa0639fc7821ce2c288baa29', commit_message='Upload tokenizer', commit_description='', oid='45e36a2d88af6c06fa0639fc7821ce2c288baa29', pr_url=None, pr_revision=None, pr_num=None)"
            ],
            "application/vnd.google.colaboratory.intrinsic+json": {
              "type": "string"
            }
          },
          "metadata": {},
          "execution_count": 42
        }
      ],
      "source": [
        "tokenizer.push_to_hub(\"nadika/nepali_complaints_classification_nepbert3\")\n"
      ]
    },
    {
      "cell_type": "code",
      "execution_count": null,
      "metadata": {
        "colab": {
          "base_uri": "https://localhost:8080/"
        },
        "id": "MpiV4FGb-e8g",
        "outputId": "e23b7c3a-6f99-4986-896c-00c5b0ca2f47"
      },
      "outputs": [
        {
          "output_type": "execute_result",
          "data": {
            "text/plain": [
              "{0: 'अर्थ सबन्धी',\n",
              " 1: 'अर्थिक अनियमितता तथा भ्रष्टाचार सम्बन्धी',\n",
              " 2: 'कर्मचारी सम्वन्धी',\n",
              " 3: 'खानेपानी',\n",
              " 4: 'निर्माण कार्य सम्बन्धी',\n",
              " 5: 'पार्किङ्ग तथा मेट्रो पुलिस',\n",
              " 6: 'प्राकृतिक श्रोत/साधन सम्बन्धी',\n",
              " 7: 'फोहोरमैला व्यवस्थापन',\n",
              " 8: 'लागु पदार्थ सम्बन्धी',\n",
              " 9: 'वेबसाइट तथा अभिलेख व्यवस्थापन सम्बन्धी',\n",
              " 10: 'शान्ति सुरक्षा',\n",
              " 11: 'सूचना तथा संचार',\n",
              " 12: 'सोधपुछ, सुझाव, प्रशंसा सम्बन्धी',\n",
              " 13: 'स्वास्थ्यसँग सम्बन्धी'}"
            ]
          },
          "metadata": {},
          "execution_count": 76
        }
      ],
      "source": [
        "labels = label_encoder.classes_  # This gets the ordered list of class names\n",
        "id2label = dict(enumerate(labels))\n",
        "id2label"
      ]
    },
    {
      "cell_type": "code",
      "execution_count": null,
      "metadata": {
        "colab": {
          "base_uri": "https://localhost:8080/"
        },
        "id": "JplGUkPP-iFz",
        "outputId": "74d00433-a356-44f9-c27f-448e894b2f67"
      },
      "outputs": [
        {
          "output_type": "execute_result",
          "data": {
            "text/plain": [
              "{'अर्थ सबन्धी': 0,\n",
              " 'अर्थिक अनियमितता तथा भ्रष्टाचार सम्बन्धी': 1,\n",
              " 'कर्मचारी सम्वन्धी': 2,\n",
              " 'खानेपानी': 3,\n",
              " 'निर्माण कार्य सम्बन्धी': 4,\n",
              " 'पार्किङ्ग तथा मेट्रो पुलिस': 5,\n",
              " 'प्राकृतिक श्रोत/साधन सम्बन्धी': 6,\n",
              " 'फोहोरमैला व्यवस्थापन': 7,\n",
              " 'लागु पदार्थ सम्बन्धी': 8,\n",
              " 'वेबसाइट तथा अभिलेख व्यवस्थापन सम्बन्धी': 9,\n",
              " 'शान्ति सुरक्षा': 10,\n",
              " 'सूचना तथा संचार': 11,\n",
              " 'सोधपुछ, सुझाव, प्रशंसा सम्बन्धी': 12,\n",
              " 'स्वास्थ्यसँग सम्बन्धी': 13}"
            ]
          },
          "metadata": {},
          "execution_count": 77
        }
      ],
      "source": [
        "label2id = {label: id for id, label in id2label.items()}\n",
        "label2id"
      ]
    },
    {
      "cell_type": "code",
      "execution_count": null,
      "metadata": {
        "colab": {
          "base_uri": "https://localhost:8080/"
        },
        "id": "XuAYu8UD-lE-",
        "outputId": "68a1dc60-63de-4987-fe70-4922dfcba99d"
      },
      "outputs": [
        {
          "output_type": "execute_result",
          "data": {
            "text/plain": [
              "('./my_nepalibert_model/tokenizer_config.json',\n",
              " './my_nepalibert_model/special_tokens_map.json',\n",
              " './my_nepalibert_model/vocab.txt',\n",
              " './my_nepalibert_model/added_tokens.json',\n",
              " './my_nepalibert_model/tokenizer.json')"
            ]
          },
          "metadata": {},
          "execution_count": 65
        }
      ],
      "source": [
        "model.save_pretrained('./my_nepalibert_model')\n",
        "tokenizer.save_pretrained('./my_nepalibert_model')"
      ]
    },
    {
      "cell_type": "code",
      "execution_count": null,
      "metadata": {
        "id": "90ZFhgb6-nmP"
      },
      "outputs": [],
      "source": [
        "model_name=\"./my_nepalibert_model\""
      ]
    },
    {
      "cell_type": "code",
      "execution_count": null,
      "metadata": {
        "id": "iCZGZ-so-xIA"
      },
      "outputs": [],
      "source": [
        "from transformers import AutoConfig\n",
        "config = AutoConfig.from_pretrained(model_name)\n"
      ]
    },
    {
      "cell_type": "code",
      "execution_count": null,
      "metadata": {
        "id": "GVW_ai3Q-y8g"
      },
      "outputs": [],
      "source": [
        "config.id2label = id2label\n",
        "config.label2id = label2id"
      ]
    },
    {
      "cell_type": "code",
      "execution_count": null,
      "metadata": {
        "id": "3PExREyM-0gE"
      },
      "outputs": [],
      "source": [
        "model=AutoModelForSequenceClassification.from_pretrained(model_name)\n",
        "tokenizer=AutoTokenizer.from_pretrained(model_name)"
      ]
    },
    {
      "cell_type": "code",
      "execution_count": null,
      "metadata": {
        "id": "TH6lBozw-2-n"
      },
      "outputs": [],
      "source": [
        "config.save_pretrained(model_name)"
      ]
    },
    {
      "cell_type": "code",
      "execution_count": null,
      "metadata": {
        "id": "MkPgOuwU-5tj"
      },
      "outputs": [],
      "source": [
        "repo_name=\"nadika/nepali_complaints_classification_nepbert3\""
      ]
    },
    {
      "cell_type": "code",
      "execution_count": null,
      "metadata": {
        "id": "k6TsjhWS-7ru",
        "colab": {
          "base_uri": "https://localhost:8080/",
          "height": 89
        },
        "outputId": "e2a14fa3-f5e9-4df0-c90d-780689988a1b"
      },
      "outputs": [
        {
          "output_type": "execute_result",
          "data": {
            "text/plain": [
              "CommitInfo(commit_url='https://huggingface.co/nadika/nepali_complaints_classification_nepbert3/commit/ca17a165b5654d59d37e5035ab4589f827d95a1b', commit_message='Upload tokenizer', commit_description='', oid='ca17a165b5654d59d37e5035ab4589f827d95a1b', pr_url=None, pr_revision=None, pr_num=None)"
            ],
            "application/vnd.google.colaboratory.intrinsic+json": {
              "type": "string"
            }
          },
          "metadata": {},
          "execution_count": 72
        }
      ],
      "source": [
        "model.push_to_hub(repo_name)\n",
        "tokenizer.push_to_hub(repo_name)"
      ]
    },
    {
      "cell_type": "code",
      "execution_count": null,
      "metadata": {
        "id": "7xMeVV1GOPBa"
      },
      "outputs": [],
      "source": [
        "model_id = \"nadika/nepali_complaints_classification_nepbert3\"  # replace with your model's repository name\n",
        "tokenizer = AutoTokenizer.from_pretrained(model_id)\n",
        "model = AutoModelForSequenceClassification.from_pretrained(model_id)"
      ]
    },
    {
      "cell_type": "code",
      "execution_count": null,
      "metadata": {
        "id": "Y0QR-aPT-9Bt"
      },
      "outputs": [],
      "source": [
        "\n",
        "\n",
        "def preprocess_and_tokenize(text):\n",
        "    processed_text = preprocess_text(text)  # Use your preprocessing here\n",
        "    encoded_input = tokenizer(processed_text, padding=True, truncation=True, max_length=512, return_tensors=\"pt\")\n",
        "    return encoded_input\n",
        "\n",
        "def predict(text):\n",
        "    # Preprocess and tokenize the text\n",
        "    encoded_input = preprocess_and_tokenize(text)\n",
        "\n",
        "    # Generate predictions\n",
        "    with torch.no_grad():\n",
        "        output = model(**encoded_input)\n",
        "\n",
        "    # The output is logits; apply softmax to get probabilities\n",
        "    probabilities = torch.nn.functional.softmax(output.logits, dim=-1)\n",
        "\n",
        "    # Convert probabilities to numpy for easier handling\n",
        "    probabilities = probabilities.detach().cpu().numpy()\n",
        "\n",
        "    # Get the most likely class index\n",
        "    predicted_class_idx = probabilities.argmax()\n",
        "\n",
        "    # Decode the predicted class index to the class name using the model's config\n",
        "    predicted_class = model.config.id2label[predicted_class_idx]\n",
        "    return predicted_class, probabilities[0][predicted_class_idx]\n",
        "\n",
        "\n"
      ]
    },
    {
      "cell_type": "code",
      "execution_count": null,
      "metadata": {
        "colab": {
          "base_uri": "https://localhost:8080/"
        },
        "id": "RrZsbTi2_EFt",
        "outputId": "cdc1a26a-edb5-4bf9-ee06-346b9980eb6a"
      },
      "outputs": [
        {
          "output_type": "stream",
          "name": "stdout",
          "text": [
            "Predicted Class: वेबसाइट तथा अभिलेख व्यवस्थापन सम्बन्धी, Probability: 0.7418889999389648\n"
          ]
        }
      ],
      "source": [
        "# Example text for prediction\n",
        "new_text = \"यस महानगरपालिकाको सुनाकोठी नखिपोट नख्खुडोल गोकुल आवास कान्तिपुर कोलोनीका वासिन्दाले दिनरात यो धुंवाको सास कहिलेसम्म फेर्नुपर्ने हो हजुर?\"\n",
        "predicted_class, probability = predict(new_text)\n",
        "print(f\"Predicted Class: {predicted_class}, Probability: {probability}\")"
      ]
    },
    {
      "cell_type": "code",
      "execution_count": null,
      "metadata": {
        "colab": {
          "base_uri": "https://localhost:8080/"
        },
        "id": "Uo19dBzsQbu7",
        "outputId": "813eefdc-361f-476b-93bf-b5f19637f238"
      },
      "outputs": [
        {
          "output_type": "stream",
          "name": "stdout",
          "text": [
            "Predicted Class: सोधपुछ, सुझाव, प्रशंसा सम्बन्धी, Probability: 0.9648656845092773\n"
          ]
        }
      ],
      "source": [
        "# Example text for prediction\n",
        "new_text = \"सुनसरी जिल्ला इटहरी उप महानगर भित्र अवस्थित धरान पुग्ने यो बाटो । कुन ठेकेदारले यो काम गर्दा कति पैसा कुम्ल्याउन पाइने हो र आफ्नो निर्वाचन ताका खर्च भएको करोड उठाउन पाइन्छ भनेर त हैन ?\"\n",
        "predicted_class, probability = predict(new_text)\n",
        "print(f\"Predicted Class: {predicted_class}, Probability: {probability}\")"
      ]
    },
    {
      "cell_type": "code",
      "execution_count": null,
      "metadata": {
        "colab": {
          "base_uri": "https://localhost:8080/"
        },
        "id": "8pV8bMEFQkR0",
        "outputId": "0697aee6-a0e8-45a2-abb8-3c97f85dd5a9"
      },
      "outputs": [
        {
          "output_type": "stream",
          "name": "stdout",
          "text": [
            "Predicted Class: सोधपुछ, सुझाव, प्रशंसा सम्बन्धी, Probability: 0.7649959921836853\n"
          ]
        }
      ],
      "source": [
        "# Example text for prediction\n",
        "new_text = \"इटहरीदेखि पूर्वाञ्चल विश्वविद्यालय, माेरङ हुँदै पूर्व जाने बाटाे जुन लालभित्तीमा गएर टुङ्गिन्छ, पिच गर्नुपर्‍याे। बीचमा दुइटा ठूला खाेला छन्, त्यसमा पुल हाल्नुपर्‍याे। याे बाटाेलाई वैकल्पिक राजमार्गकाे रुपमा विकास गर्नुप्रयो।\"\n",
        "predicted_class, probability = predict(new_text)\n",
        "print(f\"Predicted Class: {predicted_class}, Probability: {probability}\")"
      ]
    },
    {
      "cell_type": "code",
      "execution_count": null,
      "metadata": {
        "colab": {
          "base_uri": "https://localhost:8080/"
        },
        "id": "ZDbepVdjQra1",
        "outputId": "eb30b5b7-705a-44dd-b0d9-bc351fde08b4"
      },
      "outputs": [
        {
          "output_type": "stream",
          "name": "stdout",
          "text": [
            "Predicted Class: अर्थ सबन्धी, Probability: 0.6409968733787537\n"
          ]
        }
      ],
      "source": [
        "# Example text for prediction\n",
        "new_text = \"मेयरले उपभोक्ता समितिसँग ३० प्रतिशत कमिसन लिएपछि विकासको काम गुणस्तरहीन, दबाब झेल्न नसकेर प्रशासकीय अधिकृतको भागाभाग। बाह्रबिसेका मेयरको मनोमानी- दोहोरीमा रमाइलो गरेको बिलसमेत नगरपालिकाबाटै भुक्तानी गर्न दबाब मेयरले उपभोक्ता समितिसँग ३० प्रतिशत कमिसन लिएपछि विकासको काम गुणस्तरहीन, दबाब झेल्न नसकेर प्रशासकीय अधिकृतको भागाभाग।\"\n",
        "predicted_class, probability = predict(new_text)\n",
        "print(f\"Predicted Class: {predicted_class}, Probability: {probability}\")"
      ]
    },
    {
      "cell_type": "code",
      "execution_count": null,
      "metadata": {
        "id": "8SQle7iu_Gdz"
      },
      "outputs": [],
      "source": [
        "val_loader = DataLoader(val_dataset, batch_size=16, shuffle=False)\n"
      ]
    },
    {
      "cell_type": "code",
      "execution_count": null,
      "metadata": {
        "colab": {
          "base_uri": "https://localhost:8080/"
        },
        "id": "UiIeig1EOT0u",
        "outputId": "62859b8e-fb0c-4dd0-f898-fd8de8087bc2"
      },
      "outputs": [
        {
          "output_type": "stream",
          "name": "stdout",
          "text": [
            "Using device: cuda\n"
          ]
        }
      ],
      "source": [
        "device = torch.device(\"cuda\" if torch.cuda.is_available() else \"cpu\")\n",
        "print(f\"Using device: {device}\")"
      ]
    },
    {
      "cell_type": "code",
      "execution_count": null,
      "metadata": {
        "colab": {
          "base_uri": "https://localhost:8080/"
        },
        "id": "UFjMxeh4OW5s",
        "outputId": "c6964029-9477-48c9-b64b-b75686f73847"
      },
      "outputs": [
        {
          "output_type": "stream",
          "name": "stderr",
          "text": [
            "<ipython-input-29-1529dc6678a3>:8: UserWarning: To copy construct from a tensor, it is recommended to use sourceTensor.clone().detach() or sourceTensor.clone().detach().requires_grad_(True), rather than torch.tensor(sourceTensor).\n",
            "  item = {key: torch.tensor(val[idx]) for key, val in self.encodings.items()}\n"
          ]
        }
      ],
      "source": [
        "predictions = []\n",
        "labels = []\n",
        "\n",
        "with torch.no_grad():\n",
        "    for batch in val_loader:\n",
        "        inputs = batch['input_ids'].to(device)\n",
        "        attention_mask = batch['attention_mask'].to(device)\n",
        "        model.to(device)\n",
        "        output = model(inputs, attention_mask=attention_mask)\n",
        "        logits = output.logits.to(device)\n",
        "        preds = torch.argmax(logits, dim=-1).cpu().numpy()\n",
        "        predictions.extend(preds)\n",
        "        labels.extend(batch['labels'].cpu().numpy())"
      ]
    },
    {
      "cell_type": "code",
      "execution_count": null,
      "metadata": {
        "colab": {
          "base_uri": "https://localhost:8080/"
        },
        "id": "y8nr3O9OOYvz",
        "outputId": "449382b5-8487-42e6-ef96-ff181774f308"
      },
      "outputs": [
        {
          "output_type": "stream",
          "name": "stdout",
          "text": [
            "Accuracy: 0.9453497117071948\n",
            "Precision: 0.9444476418760597\n",
            "Recall: 0.9453497117071948\n",
            "F1 Score: 0.944329069963225\n"
          ]
        }
      ],
      "source": [
        "from sklearn.metrics import accuracy_score, precision_recall_fscore_support\n",
        "\n",
        "# Calculate accuracy\n",
        "accuracy = accuracy_score(labels, predictions)\n",
        "print(f\"Accuracy: {accuracy}\")\n",
        "\n",
        "# Calculate precision, recall, and F1 score\n",
        "precision, recall, f1, _ = precision_recall_fscore_support(labels, predictions, average='weighted')\n",
        "print(f\"Precision: {precision}\\nRecall: {recall}\\nF1 Score: {f1}\")\n"
      ]
    },
    {
      "cell_type": "code",
      "execution_count": null,
      "metadata": {
        "id": "eXv-iOxzO7V9"
      },
      "outputs": [],
      "source": []
    }
  ],
  "metadata": {
    "accelerator": "GPU",
    "colab": {
      "gpuType": "V100",
      "machine_shape": "hm",
      "provenance": []
    },
    "kernelspec": {
      "display_name": "Python 3",
      "name": "python3"
    },
    "language_info": {
      "name": "python"
    },
    "widgets": {
      "application/vnd.jupyter.widget-state+json": {
        "a581459b3839411cbd4d3b537509c3ee": {
          "model_module": "@jupyter-widgets/controls",
          "model_name": "VBoxModel",
          "model_module_version": "1.5.0",
          "state": {
            "_dom_classes": [],
            "_model_module": "@jupyter-widgets/controls",
            "_model_module_version": "1.5.0",
            "_model_name": "VBoxModel",
            "_view_count": null,
            "_view_module": "@jupyter-widgets/controls",
            "_view_module_version": "1.5.0",
            "_view_name": "VBoxView",
            "box_style": "",
            "children": [
              "IPY_MODEL_3b6a8dab09d94ebc94b8bd3a7347239f",
              "IPY_MODEL_8fd02aab2a0f4f6ea011350caa1e417d"
            ],
            "layout": "IPY_MODEL_778a07c312184b5187357fe906956668"
          }
        },
        "3b6a8dab09d94ebc94b8bd3a7347239f": {
          "model_module": "@jupyter-widgets/controls",
          "model_name": "LabelModel",
          "model_module_version": "1.5.0",
          "state": {
            "_dom_classes": [],
            "_model_module": "@jupyter-widgets/controls",
            "_model_module_version": "1.5.0",
            "_model_name": "LabelModel",
            "_view_count": null,
            "_view_module": "@jupyter-widgets/controls",
            "_view_module_version": "1.5.0",
            "_view_name": "LabelView",
            "description": "",
            "description_tooltip": null,
            "layout": "IPY_MODEL_7ff68aa99bc94594bc312a122f8774b0",
            "placeholder": "​",
            "style": "IPY_MODEL_1701010790e44f499ae988e1da6d9e59",
            "value": "Waiting for wandb.init()...\r"
          }
        },
        "8fd02aab2a0f4f6ea011350caa1e417d": {
          "model_module": "@jupyter-widgets/controls",
          "model_name": "FloatProgressModel",
          "model_module_version": "1.5.0",
          "state": {
            "_dom_classes": [],
            "_model_module": "@jupyter-widgets/controls",
            "_model_module_version": "1.5.0",
            "_model_name": "FloatProgressModel",
            "_view_count": null,
            "_view_module": "@jupyter-widgets/controls",
            "_view_module_version": "1.5.0",
            "_view_name": "ProgressView",
            "bar_style": "",
            "description": "",
            "description_tooltip": null,
            "layout": "IPY_MODEL_6dd0f4d6fcc040bab7088226e93cc376",
            "max": 1,
            "min": 0,
            "orientation": "horizontal",
            "style": "IPY_MODEL_2b9d1d6a7c0745d0a325164af7644314",
            "value": 1
          }
        },
        "778a07c312184b5187357fe906956668": {
          "model_module": "@jupyter-widgets/base",
          "model_name": "LayoutModel",
          "model_module_version": "1.2.0",
          "state": {
            "_model_module": "@jupyter-widgets/base",
            "_model_module_version": "1.2.0",
            "_model_name": "LayoutModel",
            "_view_count": null,
            "_view_module": "@jupyter-widgets/base",
            "_view_module_version": "1.2.0",
            "_view_name": "LayoutView",
            "align_content": null,
            "align_items": null,
            "align_self": null,
            "border": null,
            "bottom": null,
            "display": null,
            "flex": null,
            "flex_flow": null,
            "grid_area": null,
            "grid_auto_columns": null,
            "grid_auto_flow": null,
            "grid_auto_rows": null,
            "grid_column": null,
            "grid_gap": null,
            "grid_row": null,
            "grid_template_areas": null,
            "grid_template_columns": null,
            "grid_template_rows": null,
            "height": null,
            "justify_content": null,
            "justify_items": null,
            "left": null,
            "margin": null,
            "max_height": null,
            "max_width": null,
            "min_height": null,
            "min_width": null,
            "object_fit": null,
            "object_position": null,
            "order": null,
            "overflow": null,
            "overflow_x": null,
            "overflow_y": null,
            "padding": null,
            "right": null,
            "top": null,
            "visibility": null,
            "width": null
          }
        },
        "7ff68aa99bc94594bc312a122f8774b0": {
          "model_module": "@jupyter-widgets/base",
          "model_name": "LayoutModel",
          "model_module_version": "1.2.0",
          "state": {
            "_model_module": "@jupyter-widgets/base",
            "_model_module_version": "1.2.0",
            "_model_name": "LayoutModel",
            "_view_count": null,
            "_view_module": "@jupyter-widgets/base",
            "_view_module_version": "1.2.0",
            "_view_name": "LayoutView",
            "align_content": null,
            "align_items": null,
            "align_self": null,
            "border": null,
            "bottom": null,
            "display": null,
            "flex": null,
            "flex_flow": null,
            "grid_area": null,
            "grid_auto_columns": null,
            "grid_auto_flow": null,
            "grid_auto_rows": null,
            "grid_column": null,
            "grid_gap": null,
            "grid_row": null,
            "grid_template_areas": null,
            "grid_template_columns": null,
            "grid_template_rows": null,
            "height": null,
            "justify_content": null,
            "justify_items": null,
            "left": null,
            "margin": null,
            "max_height": null,
            "max_width": null,
            "min_height": null,
            "min_width": null,
            "object_fit": null,
            "object_position": null,
            "order": null,
            "overflow": null,
            "overflow_x": null,
            "overflow_y": null,
            "padding": null,
            "right": null,
            "top": null,
            "visibility": null,
            "width": null
          }
        },
        "1701010790e44f499ae988e1da6d9e59": {
          "model_module": "@jupyter-widgets/controls",
          "model_name": "DescriptionStyleModel",
          "model_module_version": "1.5.0",
          "state": {
            "_model_module": "@jupyter-widgets/controls",
            "_model_module_version": "1.5.0",
            "_model_name": "DescriptionStyleModel",
            "_view_count": null,
            "_view_module": "@jupyter-widgets/base",
            "_view_module_version": "1.2.0",
            "_view_name": "StyleView",
            "description_width": ""
          }
        },
        "6dd0f4d6fcc040bab7088226e93cc376": {
          "model_module": "@jupyter-widgets/base",
          "model_name": "LayoutModel",
          "model_module_version": "1.2.0",
          "state": {
            "_model_module": "@jupyter-widgets/base",
            "_model_module_version": "1.2.0",
            "_model_name": "LayoutModel",
            "_view_count": null,
            "_view_module": "@jupyter-widgets/base",
            "_view_module_version": "1.2.0",
            "_view_name": "LayoutView",
            "align_content": null,
            "align_items": null,
            "align_self": null,
            "border": null,
            "bottom": null,
            "display": null,
            "flex": null,
            "flex_flow": null,
            "grid_area": null,
            "grid_auto_columns": null,
            "grid_auto_flow": null,
            "grid_auto_rows": null,
            "grid_column": null,
            "grid_gap": null,
            "grid_row": null,
            "grid_template_areas": null,
            "grid_template_columns": null,
            "grid_template_rows": null,
            "height": null,
            "justify_content": null,
            "justify_items": null,
            "left": null,
            "margin": null,
            "max_height": null,
            "max_width": null,
            "min_height": null,
            "min_width": null,
            "object_fit": null,
            "object_position": null,
            "order": null,
            "overflow": null,
            "overflow_x": null,
            "overflow_y": null,
            "padding": null,
            "right": null,
            "top": null,
            "visibility": null,
            "width": null
          }
        },
        "2b9d1d6a7c0745d0a325164af7644314": {
          "model_module": "@jupyter-widgets/controls",
          "model_name": "ProgressStyleModel",
          "model_module_version": "1.5.0",
          "state": {
            "_model_module": "@jupyter-widgets/controls",
            "_model_module_version": "1.5.0",
            "_model_name": "ProgressStyleModel",
            "_view_count": null,
            "_view_module": "@jupyter-widgets/base",
            "_view_module_version": "1.2.0",
            "_view_name": "StyleView",
            "bar_color": null,
            "description_width": ""
          }
        },
        "0e8f4ccf21944aefa474a5266fdb04d9": {
          "model_module": "@jupyter-widgets/controls",
          "model_name": "VBoxModel",
          "model_module_version": "1.5.0",
          "state": {
            "_dom_classes": [],
            "_model_module": "@jupyter-widgets/controls",
            "_model_module_version": "1.5.0",
            "_model_name": "VBoxModel",
            "_view_count": null,
            "_view_module": "@jupyter-widgets/controls",
            "_view_module_version": "1.5.0",
            "_view_name": "VBoxView",
            "box_style": "",
            "children": [
              "IPY_MODEL_96bba5237a0041d487408e6f37b2106b",
              "IPY_MODEL_64067a370edf4dd7b49733a1b333646f",
              "IPY_MODEL_63ebcfa460e046e2a8a32849eeaf4ba7",
              "IPY_MODEL_6d2c002b930a475fbf565314505f544a"
            ],
            "layout": "IPY_MODEL_32ea1419034d49c29c4d606150af7564"
          }
        },
        "56d8af4b1fee4b14b884c96264330419": {
          "model_module": "@jupyter-widgets/controls",
          "model_name": "HTMLModel",
          "model_module_version": "1.5.0",
          "state": {
            "_dom_classes": [],
            "_model_module": "@jupyter-widgets/controls",
            "_model_module_version": "1.5.0",
            "_model_name": "HTMLModel",
            "_view_count": null,
            "_view_module": "@jupyter-widgets/controls",
            "_view_module_version": "1.5.0",
            "_view_name": "HTMLView",
            "description": "",
            "description_tooltip": null,
            "layout": "IPY_MODEL_f2bab1770ac941c1b4231bb3bf272132",
            "placeholder": "​",
            "style": "IPY_MODEL_cdfc791041784e8aa1606862beb335ba",
            "value": "<center> <img\nsrc=https://huggingface.co/front/assets/huggingface_logo-noborder.svg\nalt='Hugging Face'> <br> Copy a token from <a\nhref=\"https://huggingface.co/settings/tokens\" target=\"_blank\">your Hugging Face\ntokens page</a> and paste it below. <br> Immediately click login after copying\nyour token or it might be stored in plain text in this notebook file. </center>"
          }
        },
        "d6f304d5b28c4b29a27bfbc84a8c62fb": {
          "model_module": "@jupyter-widgets/controls",
          "model_name": "PasswordModel",
          "model_module_version": "1.5.0",
          "state": {
            "_dom_classes": [],
            "_model_module": "@jupyter-widgets/controls",
            "_model_module_version": "1.5.0",
            "_model_name": "PasswordModel",
            "_view_count": null,
            "_view_module": "@jupyter-widgets/controls",
            "_view_module_version": "1.5.0",
            "_view_name": "PasswordView",
            "continuous_update": true,
            "description": "Token:",
            "description_tooltip": null,
            "disabled": false,
            "layout": "IPY_MODEL_e262038680ff43b2a9bdcbd674d5eec7",
            "placeholder": "​",
            "style": "IPY_MODEL_7d0baef7cc47403f85eeceddc2ecf285",
            "value": ""
          }
        },
        "37f4b210415b4713868a2c27fc44ddcb": {
          "model_module": "@jupyter-widgets/controls",
          "model_name": "CheckboxModel",
          "model_module_version": "1.5.0",
          "state": {
            "_dom_classes": [],
            "_model_module": "@jupyter-widgets/controls",
            "_model_module_version": "1.5.0",
            "_model_name": "CheckboxModel",
            "_view_count": null,
            "_view_module": "@jupyter-widgets/controls",
            "_view_module_version": "1.5.0",
            "_view_name": "CheckboxView",
            "description": "Add token as git credential?",
            "description_tooltip": null,
            "disabled": false,
            "indent": true,
            "layout": "IPY_MODEL_10fe79462e9e45378a72f29b7263d07d",
            "style": "IPY_MODEL_50128f69ed4744ee925d1e37203379a2",
            "value": true
          }
        },
        "0f04087257c049f7ae215dd5aca87422": {
          "model_module": "@jupyter-widgets/controls",
          "model_name": "ButtonModel",
          "model_module_version": "1.5.0",
          "state": {
            "_dom_classes": [],
            "_model_module": "@jupyter-widgets/controls",
            "_model_module_version": "1.5.0",
            "_model_name": "ButtonModel",
            "_view_count": null,
            "_view_module": "@jupyter-widgets/controls",
            "_view_module_version": "1.5.0",
            "_view_name": "ButtonView",
            "button_style": "",
            "description": "Login",
            "disabled": false,
            "icon": "",
            "layout": "IPY_MODEL_64ba3799612542ba8cd813a2dec52660",
            "style": "IPY_MODEL_9d8c0a0746d847fdb508e93518e070a8",
            "tooltip": ""
          }
        },
        "71cbaa0438e542218abe711adad20cf1": {
          "model_module": "@jupyter-widgets/controls",
          "model_name": "HTMLModel",
          "model_module_version": "1.5.0",
          "state": {
            "_dom_classes": [],
            "_model_module": "@jupyter-widgets/controls",
            "_model_module_version": "1.5.0",
            "_model_name": "HTMLModel",
            "_view_count": null,
            "_view_module": "@jupyter-widgets/controls",
            "_view_module_version": "1.5.0",
            "_view_name": "HTMLView",
            "description": "",
            "description_tooltip": null,
            "layout": "IPY_MODEL_74b7e16dc40a4d3180a53af62ffb6915",
            "placeholder": "​",
            "style": "IPY_MODEL_503dadde5ff04b80979c4dcd04f58d47",
            "value": "\n<b>Pro Tip:</b> If you don't already have one, you can create a dedicated\n'notebooks' token with 'write' access, that you can then easily reuse for all\nnotebooks. </center>"
          }
        },
        "32ea1419034d49c29c4d606150af7564": {
          "model_module": "@jupyter-widgets/base",
          "model_name": "LayoutModel",
          "model_module_version": "1.2.0",
          "state": {
            "_model_module": "@jupyter-widgets/base",
            "_model_module_version": "1.2.0",
            "_model_name": "LayoutModel",
            "_view_count": null,
            "_view_module": "@jupyter-widgets/base",
            "_view_module_version": "1.2.0",
            "_view_name": "LayoutView",
            "align_content": null,
            "align_items": "center",
            "align_self": null,
            "border": null,
            "bottom": null,
            "display": "flex",
            "flex": null,
            "flex_flow": "column",
            "grid_area": null,
            "grid_auto_columns": null,
            "grid_auto_flow": null,
            "grid_auto_rows": null,
            "grid_column": null,
            "grid_gap": null,
            "grid_row": null,
            "grid_template_areas": null,
            "grid_template_columns": null,
            "grid_template_rows": null,
            "height": null,
            "justify_content": null,
            "justify_items": null,
            "left": null,
            "margin": null,
            "max_height": null,
            "max_width": null,
            "min_height": null,
            "min_width": null,
            "object_fit": null,
            "object_position": null,
            "order": null,
            "overflow": null,
            "overflow_x": null,
            "overflow_y": null,
            "padding": null,
            "right": null,
            "top": null,
            "visibility": null,
            "width": "50%"
          }
        },
        "f2bab1770ac941c1b4231bb3bf272132": {
          "model_module": "@jupyter-widgets/base",
          "model_name": "LayoutModel",
          "model_module_version": "1.2.0",
          "state": {
            "_model_module": "@jupyter-widgets/base",
            "_model_module_version": "1.2.0",
            "_model_name": "LayoutModel",
            "_view_count": null,
            "_view_module": "@jupyter-widgets/base",
            "_view_module_version": "1.2.0",
            "_view_name": "LayoutView",
            "align_content": null,
            "align_items": null,
            "align_self": null,
            "border": null,
            "bottom": null,
            "display": null,
            "flex": null,
            "flex_flow": null,
            "grid_area": null,
            "grid_auto_columns": null,
            "grid_auto_flow": null,
            "grid_auto_rows": null,
            "grid_column": null,
            "grid_gap": null,
            "grid_row": null,
            "grid_template_areas": null,
            "grid_template_columns": null,
            "grid_template_rows": null,
            "height": null,
            "justify_content": null,
            "justify_items": null,
            "left": null,
            "margin": null,
            "max_height": null,
            "max_width": null,
            "min_height": null,
            "min_width": null,
            "object_fit": null,
            "object_position": null,
            "order": null,
            "overflow": null,
            "overflow_x": null,
            "overflow_y": null,
            "padding": null,
            "right": null,
            "top": null,
            "visibility": null,
            "width": null
          }
        },
        "cdfc791041784e8aa1606862beb335ba": {
          "model_module": "@jupyter-widgets/controls",
          "model_name": "DescriptionStyleModel",
          "model_module_version": "1.5.0",
          "state": {
            "_model_module": "@jupyter-widgets/controls",
            "_model_module_version": "1.5.0",
            "_model_name": "DescriptionStyleModel",
            "_view_count": null,
            "_view_module": "@jupyter-widgets/base",
            "_view_module_version": "1.2.0",
            "_view_name": "StyleView",
            "description_width": ""
          }
        },
        "e262038680ff43b2a9bdcbd674d5eec7": {
          "model_module": "@jupyter-widgets/base",
          "model_name": "LayoutModel",
          "model_module_version": "1.2.0",
          "state": {
            "_model_module": "@jupyter-widgets/base",
            "_model_module_version": "1.2.0",
            "_model_name": "LayoutModel",
            "_view_count": null,
            "_view_module": "@jupyter-widgets/base",
            "_view_module_version": "1.2.0",
            "_view_name": "LayoutView",
            "align_content": null,
            "align_items": null,
            "align_self": null,
            "border": null,
            "bottom": null,
            "display": null,
            "flex": null,
            "flex_flow": null,
            "grid_area": null,
            "grid_auto_columns": null,
            "grid_auto_flow": null,
            "grid_auto_rows": null,
            "grid_column": null,
            "grid_gap": null,
            "grid_row": null,
            "grid_template_areas": null,
            "grid_template_columns": null,
            "grid_template_rows": null,
            "height": null,
            "justify_content": null,
            "justify_items": null,
            "left": null,
            "margin": null,
            "max_height": null,
            "max_width": null,
            "min_height": null,
            "min_width": null,
            "object_fit": null,
            "object_position": null,
            "order": null,
            "overflow": null,
            "overflow_x": null,
            "overflow_y": null,
            "padding": null,
            "right": null,
            "top": null,
            "visibility": null,
            "width": null
          }
        },
        "7d0baef7cc47403f85eeceddc2ecf285": {
          "model_module": "@jupyter-widgets/controls",
          "model_name": "DescriptionStyleModel",
          "model_module_version": "1.5.0",
          "state": {
            "_model_module": "@jupyter-widgets/controls",
            "_model_module_version": "1.5.0",
            "_model_name": "DescriptionStyleModel",
            "_view_count": null,
            "_view_module": "@jupyter-widgets/base",
            "_view_module_version": "1.2.0",
            "_view_name": "StyleView",
            "description_width": ""
          }
        },
        "10fe79462e9e45378a72f29b7263d07d": {
          "model_module": "@jupyter-widgets/base",
          "model_name": "LayoutModel",
          "model_module_version": "1.2.0",
          "state": {
            "_model_module": "@jupyter-widgets/base",
            "_model_module_version": "1.2.0",
            "_model_name": "LayoutModel",
            "_view_count": null,
            "_view_module": "@jupyter-widgets/base",
            "_view_module_version": "1.2.0",
            "_view_name": "LayoutView",
            "align_content": null,
            "align_items": null,
            "align_self": null,
            "border": null,
            "bottom": null,
            "display": null,
            "flex": null,
            "flex_flow": null,
            "grid_area": null,
            "grid_auto_columns": null,
            "grid_auto_flow": null,
            "grid_auto_rows": null,
            "grid_column": null,
            "grid_gap": null,
            "grid_row": null,
            "grid_template_areas": null,
            "grid_template_columns": null,
            "grid_template_rows": null,
            "height": null,
            "justify_content": null,
            "justify_items": null,
            "left": null,
            "margin": null,
            "max_height": null,
            "max_width": null,
            "min_height": null,
            "min_width": null,
            "object_fit": null,
            "object_position": null,
            "order": null,
            "overflow": null,
            "overflow_x": null,
            "overflow_y": null,
            "padding": null,
            "right": null,
            "top": null,
            "visibility": null,
            "width": null
          }
        },
        "50128f69ed4744ee925d1e37203379a2": {
          "model_module": "@jupyter-widgets/controls",
          "model_name": "DescriptionStyleModel",
          "model_module_version": "1.5.0",
          "state": {
            "_model_module": "@jupyter-widgets/controls",
            "_model_module_version": "1.5.0",
            "_model_name": "DescriptionStyleModel",
            "_view_count": null,
            "_view_module": "@jupyter-widgets/base",
            "_view_module_version": "1.2.0",
            "_view_name": "StyleView",
            "description_width": ""
          }
        },
        "64ba3799612542ba8cd813a2dec52660": {
          "model_module": "@jupyter-widgets/base",
          "model_name": "LayoutModel",
          "model_module_version": "1.2.0",
          "state": {
            "_model_module": "@jupyter-widgets/base",
            "_model_module_version": "1.2.0",
            "_model_name": "LayoutModel",
            "_view_count": null,
            "_view_module": "@jupyter-widgets/base",
            "_view_module_version": "1.2.0",
            "_view_name": "LayoutView",
            "align_content": null,
            "align_items": null,
            "align_self": null,
            "border": null,
            "bottom": null,
            "display": null,
            "flex": null,
            "flex_flow": null,
            "grid_area": null,
            "grid_auto_columns": null,
            "grid_auto_flow": null,
            "grid_auto_rows": null,
            "grid_column": null,
            "grid_gap": null,
            "grid_row": null,
            "grid_template_areas": null,
            "grid_template_columns": null,
            "grid_template_rows": null,
            "height": null,
            "justify_content": null,
            "justify_items": null,
            "left": null,
            "margin": null,
            "max_height": null,
            "max_width": null,
            "min_height": null,
            "min_width": null,
            "object_fit": null,
            "object_position": null,
            "order": null,
            "overflow": null,
            "overflow_x": null,
            "overflow_y": null,
            "padding": null,
            "right": null,
            "top": null,
            "visibility": null,
            "width": null
          }
        },
        "9d8c0a0746d847fdb508e93518e070a8": {
          "model_module": "@jupyter-widgets/controls",
          "model_name": "ButtonStyleModel",
          "model_module_version": "1.5.0",
          "state": {
            "_model_module": "@jupyter-widgets/controls",
            "_model_module_version": "1.5.0",
            "_model_name": "ButtonStyleModel",
            "_view_count": null,
            "_view_module": "@jupyter-widgets/base",
            "_view_module_version": "1.2.0",
            "_view_name": "StyleView",
            "button_color": null,
            "font_weight": ""
          }
        },
        "74b7e16dc40a4d3180a53af62ffb6915": {
          "model_module": "@jupyter-widgets/base",
          "model_name": "LayoutModel",
          "model_module_version": "1.2.0",
          "state": {
            "_model_module": "@jupyter-widgets/base",
            "_model_module_version": "1.2.0",
            "_model_name": "LayoutModel",
            "_view_count": null,
            "_view_module": "@jupyter-widgets/base",
            "_view_module_version": "1.2.0",
            "_view_name": "LayoutView",
            "align_content": null,
            "align_items": null,
            "align_self": null,
            "border": null,
            "bottom": null,
            "display": null,
            "flex": null,
            "flex_flow": null,
            "grid_area": null,
            "grid_auto_columns": null,
            "grid_auto_flow": null,
            "grid_auto_rows": null,
            "grid_column": null,
            "grid_gap": null,
            "grid_row": null,
            "grid_template_areas": null,
            "grid_template_columns": null,
            "grid_template_rows": null,
            "height": null,
            "justify_content": null,
            "justify_items": null,
            "left": null,
            "margin": null,
            "max_height": null,
            "max_width": null,
            "min_height": null,
            "min_width": null,
            "object_fit": null,
            "object_position": null,
            "order": null,
            "overflow": null,
            "overflow_x": null,
            "overflow_y": null,
            "padding": null,
            "right": null,
            "top": null,
            "visibility": null,
            "width": null
          }
        },
        "503dadde5ff04b80979c4dcd04f58d47": {
          "model_module": "@jupyter-widgets/controls",
          "model_name": "DescriptionStyleModel",
          "model_module_version": "1.5.0",
          "state": {
            "_model_module": "@jupyter-widgets/controls",
            "_model_module_version": "1.5.0",
            "_model_name": "DescriptionStyleModel",
            "_view_count": null,
            "_view_module": "@jupyter-widgets/base",
            "_view_module_version": "1.2.0",
            "_view_name": "StyleView",
            "description_width": ""
          }
        },
        "7659f0ddf0ca45dd9d73bdfe0dcbb3b3": {
          "model_module": "@jupyter-widgets/controls",
          "model_name": "LabelModel",
          "model_module_version": "1.5.0",
          "state": {
            "_dom_classes": [],
            "_model_module": "@jupyter-widgets/controls",
            "_model_module_version": "1.5.0",
            "_model_name": "LabelModel",
            "_view_count": null,
            "_view_module": "@jupyter-widgets/controls",
            "_view_module_version": "1.5.0",
            "_view_name": "LabelView",
            "description": "",
            "description_tooltip": null,
            "layout": "IPY_MODEL_7577d454377c49c48444d1a9dcc50b3c",
            "placeholder": "​",
            "style": "IPY_MODEL_0ab625d3a36148fbbfa367f415c66b3d",
            "value": "Connecting..."
          }
        },
        "7577d454377c49c48444d1a9dcc50b3c": {
          "model_module": "@jupyter-widgets/base",
          "model_name": "LayoutModel",
          "model_module_version": "1.2.0",
          "state": {
            "_model_module": "@jupyter-widgets/base",
            "_model_module_version": "1.2.0",
            "_model_name": "LayoutModel",
            "_view_count": null,
            "_view_module": "@jupyter-widgets/base",
            "_view_module_version": "1.2.0",
            "_view_name": "LayoutView",
            "align_content": null,
            "align_items": null,
            "align_self": null,
            "border": null,
            "bottom": null,
            "display": null,
            "flex": null,
            "flex_flow": null,
            "grid_area": null,
            "grid_auto_columns": null,
            "grid_auto_flow": null,
            "grid_auto_rows": null,
            "grid_column": null,
            "grid_gap": null,
            "grid_row": null,
            "grid_template_areas": null,
            "grid_template_columns": null,
            "grid_template_rows": null,
            "height": null,
            "justify_content": null,
            "justify_items": null,
            "left": null,
            "margin": null,
            "max_height": null,
            "max_width": null,
            "min_height": null,
            "min_width": null,
            "object_fit": null,
            "object_position": null,
            "order": null,
            "overflow": null,
            "overflow_x": null,
            "overflow_y": null,
            "padding": null,
            "right": null,
            "top": null,
            "visibility": null,
            "width": null
          }
        },
        "0ab625d3a36148fbbfa367f415c66b3d": {
          "model_module": "@jupyter-widgets/controls",
          "model_name": "DescriptionStyleModel",
          "model_module_version": "1.5.0",
          "state": {
            "_model_module": "@jupyter-widgets/controls",
            "_model_module_version": "1.5.0",
            "_model_name": "DescriptionStyleModel",
            "_view_count": null,
            "_view_module": "@jupyter-widgets/base",
            "_view_module_version": "1.2.0",
            "_view_name": "StyleView",
            "description_width": ""
          }
        },
        "96bba5237a0041d487408e6f37b2106b": {
          "model_module": "@jupyter-widgets/controls",
          "model_name": "LabelModel",
          "model_module_version": "1.5.0",
          "state": {
            "_dom_classes": [],
            "_model_module": "@jupyter-widgets/controls",
            "_model_module_version": "1.5.0",
            "_model_name": "LabelModel",
            "_view_count": null,
            "_view_module": "@jupyter-widgets/controls",
            "_view_module_version": "1.5.0",
            "_view_name": "LabelView",
            "description": "",
            "description_tooltip": null,
            "layout": "IPY_MODEL_3d6f2bc255044dfe835666239d477cea",
            "placeholder": "​",
            "style": "IPY_MODEL_ac365dfcb1aa45d8bea610b794013c65",
            "value": "Token is valid (permission: write)."
          }
        },
        "64067a370edf4dd7b49733a1b333646f": {
          "model_module": "@jupyter-widgets/controls",
          "model_name": "LabelModel",
          "model_module_version": "1.5.0",
          "state": {
            "_dom_classes": [],
            "_model_module": "@jupyter-widgets/controls",
            "_model_module_version": "1.5.0",
            "_model_name": "LabelModel",
            "_view_count": null,
            "_view_module": "@jupyter-widgets/controls",
            "_view_module_version": "1.5.0",
            "_view_name": "LabelView",
            "description": "",
            "description_tooltip": null,
            "layout": "IPY_MODEL_a10ae4b968904e0d9e3a4c9102b15736",
            "placeholder": "​",
            "style": "IPY_MODEL_6ea9e460ea1d4849928f7ea0ae65a5ed",
            "value": "Your token has been saved in your configured git credential helpers (store)."
          }
        },
        "63ebcfa460e046e2a8a32849eeaf4ba7": {
          "model_module": "@jupyter-widgets/controls",
          "model_name": "LabelModel",
          "model_module_version": "1.5.0",
          "state": {
            "_dom_classes": [],
            "_model_module": "@jupyter-widgets/controls",
            "_model_module_version": "1.5.0",
            "_model_name": "LabelModel",
            "_view_count": null,
            "_view_module": "@jupyter-widgets/controls",
            "_view_module_version": "1.5.0",
            "_view_name": "LabelView",
            "description": "",
            "description_tooltip": null,
            "layout": "IPY_MODEL_be0d7ac56b6a4f09b00c755ff6c1deb1",
            "placeholder": "​",
            "style": "IPY_MODEL_2ca3330b147540bebb0938282828c2ff",
            "value": "Your token has been saved to /root/.cache/huggingface/token"
          }
        },
        "6d2c002b930a475fbf565314505f544a": {
          "model_module": "@jupyter-widgets/controls",
          "model_name": "LabelModel",
          "model_module_version": "1.5.0",
          "state": {
            "_dom_classes": [],
            "_model_module": "@jupyter-widgets/controls",
            "_model_module_version": "1.5.0",
            "_model_name": "LabelModel",
            "_view_count": null,
            "_view_module": "@jupyter-widgets/controls",
            "_view_module_version": "1.5.0",
            "_view_name": "LabelView",
            "description": "",
            "description_tooltip": null,
            "layout": "IPY_MODEL_5057e49620b2400aab6b8cae6b4b1f08",
            "placeholder": "​",
            "style": "IPY_MODEL_d778eae494c34d2fac9ed8a8752dc576",
            "value": "Login successful"
          }
        },
        "3d6f2bc255044dfe835666239d477cea": {
          "model_module": "@jupyter-widgets/base",
          "model_name": "LayoutModel",
          "model_module_version": "1.2.0",
          "state": {
            "_model_module": "@jupyter-widgets/base",
            "_model_module_version": "1.2.0",
            "_model_name": "LayoutModel",
            "_view_count": null,
            "_view_module": "@jupyter-widgets/base",
            "_view_module_version": "1.2.0",
            "_view_name": "LayoutView",
            "align_content": null,
            "align_items": null,
            "align_self": null,
            "border": null,
            "bottom": null,
            "display": null,
            "flex": null,
            "flex_flow": null,
            "grid_area": null,
            "grid_auto_columns": null,
            "grid_auto_flow": null,
            "grid_auto_rows": null,
            "grid_column": null,
            "grid_gap": null,
            "grid_row": null,
            "grid_template_areas": null,
            "grid_template_columns": null,
            "grid_template_rows": null,
            "height": null,
            "justify_content": null,
            "justify_items": null,
            "left": null,
            "margin": null,
            "max_height": null,
            "max_width": null,
            "min_height": null,
            "min_width": null,
            "object_fit": null,
            "object_position": null,
            "order": null,
            "overflow": null,
            "overflow_x": null,
            "overflow_y": null,
            "padding": null,
            "right": null,
            "top": null,
            "visibility": null,
            "width": null
          }
        },
        "ac365dfcb1aa45d8bea610b794013c65": {
          "model_module": "@jupyter-widgets/controls",
          "model_name": "DescriptionStyleModel",
          "model_module_version": "1.5.0",
          "state": {
            "_model_module": "@jupyter-widgets/controls",
            "_model_module_version": "1.5.0",
            "_model_name": "DescriptionStyleModel",
            "_view_count": null,
            "_view_module": "@jupyter-widgets/base",
            "_view_module_version": "1.2.0",
            "_view_name": "StyleView",
            "description_width": ""
          }
        },
        "a10ae4b968904e0d9e3a4c9102b15736": {
          "model_module": "@jupyter-widgets/base",
          "model_name": "LayoutModel",
          "model_module_version": "1.2.0",
          "state": {
            "_model_module": "@jupyter-widgets/base",
            "_model_module_version": "1.2.0",
            "_model_name": "LayoutModel",
            "_view_count": null,
            "_view_module": "@jupyter-widgets/base",
            "_view_module_version": "1.2.0",
            "_view_name": "LayoutView",
            "align_content": null,
            "align_items": null,
            "align_self": null,
            "border": null,
            "bottom": null,
            "display": null,
            "flex": null,
            "flex_flow": null,
            "grid_area": null,
            "grid_auto_columns": null,
            "grid_auto_flow": null,
            "grid_auto_rows": null,
            "grid_column": null,
            "grid_gap": null,
            "grid_row": null,
            "grid_template_areas": null,
            "grid_template_columns": null,
            "grid_template_rows": null,
            "height": null,
            "justify_content": null,
            "justify_items": null,
            "left": null,
            "margin": null,
            "max_height": null,
            "max_width": null,
            "min_height": null,
            "min_width": null,
            "object_fit": null,
            "object_position": null,
            "order": null,
            "overflow": null,
            "overflow_x": null,
            "overflow_y": null,
            "padding": null,
            "right": null,
            "top": null,
            "visibility": null,
            "width": null
          }
        },
        "6ea9e460ea1d4849928f7ea0ae65a5ed": {
          "model_module": "@jupyter-widgets/controls",
          "model_name": "DescriptionStyleModel",
          "model_module_version": "1.5.0",
          "state": {
            "_model_module": "@jupyter-widgets/controls",
            "_model_module_version": "1.5.0",
            "_model_name": "DescriptionStyleModel",
            "_view_count": null,
            "_view_module": "@jupyter-widgets/base",
            "_view_module_version": "1.2.0",
            "_view_name": "StyleView",
            "description_width": ""
          }
        },
        "be0d7ac56b6a4f09b00c755ff6c1deb1": {
          "model_module": "@jupyter-widgets/base",
          "model_name": "LayoutModel",
          "model_module_version": "1.2.0",
          "state": {
            "_model_module": "@jupyter-widgets/base",
            "_model_module_version": "1.2.0",
            "_model_name": "LayoutModel",
            "_view_count": null,
            "_view_module": "@jupyter-widgets/base",
            "_view_module_version": "1.2.0",
            "_view_name": "LayoutView",
            "align_content": null,
            "align_items": null,
            "align_self": null,
            "border": null,
            "bottom": null,
            "display": null,
            "flex": null,
            "flex_flow": null,
            "grid_area": null,
            "grid_auto_columns": null,
            "grid_auto_flow": null,
            "grid_auto_rows": null,
            "grid_column": null,
            "grid_gap": null,
            "grid_row": null,
            "grid_template_areas": null,
            "grid_template_columns": null,
            "grid_template_rows": null,
            "height": null,
            "justify_content": null,
            "justify_items": null,
            "left": null,
            "margin": null,
            "max_height": null,
            "max_width": null,
            "min_height": null,
            "min_width": null,
            "object_fit": null,
            "object_position": null,
            "order": null,
            "overflow": null,
            "overflow_x": null,
            "overflow_y": null,
            "padding": null,
            "right": null,
            "top": null,
            "visibility": null,
            "width": null
          }
        },
        "2ca3330b147540bebb0938282828c2ff": {
          "model_module": "@jupyter-widgets/controls",
          "model_name": "DescriptionStyleModel",
          "model_module_version": "1.5.0",
          "state": {
            "_model_module": "@jupyter-widgets/controls",
            "_model_module_version": "1.5.0",
            "_model_name": "DescriptionStyleModel",
            "_view_count": null,
            "_view_module": "@jupyter-widgets/base",
            "_view_module_version": "1.2.0",
            "_view_name": "StyleView",
            "description_width": ""
          }
        },
        "5057e49620b2400aab6b8cae6b4b1f08": {
          "model_module": "@jupyter-widgets/base",
          "model_name": "LayoutModel",
          "model_module_version": "1.2.0",
          "state": {
            "_model_module": "@jupyter-widgets/base",
            "_model_module_version": "1.2.0",
            "_model_name": "LayoutModel",
            "_view_count": null,
            "_view_module": "@jupyter-widgets/base",
            "_view_module_version": "1.2.0",
            "_view_name": "LayoutView",
            "align_content": null,
            "align_items": null,
            "align_self": null,
            "border": null,
            "bottom": null,
            "display": null,
            "flex": null,
            "flex_flow": null,
            "grid_area": null,
            "grid_auto_columns": null,
            "grid_auto_flow": null,
            "grid_auto_rows": null,
            "grid_column": null,
            "grid_gap": null,
            "grid_row": null,
            "grid_template_areas": null,
            "grid_template_columns": null,
            "grid_template_rows": null,
            "height": null,
            "justify_content": null,
            "justify_items": null,
            "left": null,
            "margin": null,
            "max_height": null,
            "max_width": null,
            "min_height": null,
            "min_width": null,
            "object_fit": null,
            "object_position": null,
            "order": null,
            "overflow": null,
            "overflow_x": null,
            "overflow_y": null,
            "padding": null,
            "right": null,
            "top": null,
            "visibility": null,
            "width": null
          }
        },
        "d778eae494c34d2fac9ed8a8752dc576": {
          "model_module": "@jupyter-widgets/controls",
          "model_name": "DescriptionStyleModel",
          "model_module_version": "1.5.0",
          "state": {
            "_model_module": "@jupyter-widgets/controls",
            "_model_module_version": "1.5.0",
            "_model_name": "DescriptionStyleModel",
            "_view_count": null,
            "_view_module": "@jupyter-widgets/base",
            "_view_module_version": "1.2.0",
            "_view_name": "StyleView",
            "description_width": ""
          }
        },
        "5b19f6b008554a378bd8a8fd81dab34c": {
          "model_module": "@jupyter-widgets/controls",
          "model_name": "HBoxModel",
          "model_module_version": "1.5.0",
          "state": {
            "_dom_classes": [],
            "_model_module": "@jupyter-widgets/controls",
            "_model_module_version": "1.5.0",
            "_model_name": "HBoxModel",
            "_view_count": null,
            "_view_module": "@jupyter-widgets/controls",
            "_view_module_version": "1.5.0",
            "_view_name": "HBoxView",
            "box_style": "",
            "children": [
              "IPY_MODEL_6c432c83628946fb9d9a71e3f00f5ed7",
              "IPY_MODEL_07fb9ecbea4a4395a296991cece047b0",
              "IPY_MODEL_0fda60fe0d254e97922dc5f5e8f8c135"
            ],
            "layout": "IPY_MODEL_9de4de87c15d4a3e80e747b2e236a6d8"
          }
        },
        "6c432c83628946fb9d9a71e3f00f5ed7": {
          "model_module": "@jupyter-widgets/controls",
          "model_name": "HTMLModel",
          "model_module_version": "1.5.0",
          "state": {
            "_dom_classes": [],
            "_model_module": "@jupyter-widgets/controls",
            "_model_module_version": "1.5.0",
            "_model_name": "HTMLModel",
            "_view_count": null,
            "_view_module": "@jupyter-widgets/controls",
            "_view_module_version": "1.5.0",
            "_view_name": "HTMLView",
            "description": "",
            "description_tooltip": null,
            "layout": "IPY_MODEL_88479e938cb84c76aee05e60b1815012",
            "placeholder": "​",
            "style": "IPY_MODEL_f28acdfafefb415abda5bde0f054b863",
            "value": "config.json: 100%"
          }
        },
        "07fb9ecbea4a4395a296991cece047b0": {
          "model_module": "@jupyter-widgets/controls",
          "model_name": "FloatProgressModel",
          "model_module_version": "1.5.0",
          "state": {
            "_dom_classes": [],
            "_model_module": "@jupyter-widgets/controls",
            "_model_module_version": "1.5.0",
            "_model_name": "FloatProgressModel",
            "_view_count": null,
            "_view_module": "@jupyter-widgets/controls",
            "_view_module_version": "1.5.0",
            "_view_name": "ProgressView",
            "bar_style": "success",
            "description": "",
            "description_tooltip": null,
            "layout": "IPY_MODEL_05d7a16a34a84866a3cee00d1a5cb14d",
            "max": 569,
            "min": 0,
            "orientation": "horizontal",
            "style": "IPY_MODEL_a7fb2cf34f3c4f23b7aea8d6422a5cfc",
            "value": 569
          }
        },
        "0fda60fe0d254e97922dc5f5e8f8c135": {
          "model_module": "@jupyter-widgets/controls",
          "model_name": "HTMLModel",
          "model_module_version": "1.5.0",
          "state": {
            "_dom_classes": [],
            "_model_module": "@jupyter-widgets/controls",
            "_model_module_version": "1.5.0",
            "_model_name": "HTMLModel",
            "_view_count": null,
            "_view_module": "@jupyter-widgets/controls",
            "_view_module_version": "1.5.0",
            "_view_name": "HTMLView",
            "description": "",
            "description_tooltip": null,
            "layout": "IPY_MODEL_c8d0497de8714c3a8f80d24d28ba90b1",
            "placeholder": "​",
            "style": "IPY_MODEL_a4eb618747db40e3bb04af4a71e1470a",
            "value": " 569/569 [00:00&lt;00:00, 47.4kB/s]"
          }
        },
        "9de4de87c15d4a3e80e747b2e236a6d8": {
          "model_module": "@jupyter-widgets/base",
          "model_name": "LayoutModel",
          "model_module_version": "1.2.0",
          "state": {
            "_model_module": "@jupyter-widgets/base",
            "_model_module_version": "1.2.0",
            "_model_name": "LayoutModel",
            "_view_count": null,
            "_view_module": "@jupyter-widgets/base",
            "_view_module_version": "1.2.0",
            "_view_name": "LayoutView",
            "align_content": null,
            "align_items": null,
            "align_self": null,
            "border": null,
            "bottom": null,
            "display": null,
            "flex": null,
            "flex_flow": null,
            "grid_area": null,
            "grid_auto_columns": null,
            "grid_auto_flow": null,
            "grid_auto_rows": null,
            "grid_column": null,
            "grid_gap": null,
            "grid_row": null,
            "grid_template_areas": null,
            "grid_template_columns": null,
            "grid_template_rows": null,
            "height": null,
            "justify_content": null,
            "justify_items": null,
            "left": null,
            "margin": null,
            "max_height": null,
            "max_width": null,
            "min_height": null,
            "min_width": null,
            "object_fit": null,
            "object_position": null,
            "order": null,
            "overflow": null,
            "overflow_x": null,
            "overflow_y": null,
            "padding": null,
            "right": null,
            "top": null,
            "visibility": null,
            "width": null
          }
        },
        "88479e938cb84c76aee05e60b1815012": {
          "model_module": "@jupyter-widgets/base",
          "model_name": "LayoutModel",
          "model_module_version": "1.2.0",
          "state": {
            "_model_module": "@jupyter-widgets/base",
            "_model_module_version": "1.2.0",
            "_model_name": "LayoutModel",
            "_view_count": null,
            "_view_module": "@jupyter-widgets/base",
            "_view_module_version": "1.2.0",
            "_view_name": "LayoutView",
            "align_content": null,
            "align_items": null,
            "align_self": null,
            "border": null,
            "bottom": null,
            "display": null,
            "flex": null,
            "flex_flow": null,
            "grid_area": null,
            "grid_auto_columns": null,
            "grid_auto_flow": null,
            "grid_auto_rows": null,
            "grid_column": null,
            "grid_gap": null,
            "grid_row": null,
            "grid_template_areas": null,
            "grid_template_columns": null,
            "grid_template_rows": null,
            "height": null,
            "justify_content": null,
            "justify_items": null,
            "left": null,
            "margin": null,
            "max_height": null,
            "max_width": null,
            "min_height": null,
            "min_width": null,
            "object_fit": null,
            "object_position": null,
            "order": null,
            "overflow": null,
            "overflow_x": null,
            "overflow_y": null,
            "padding": null,
            "right": null,
            "top": null,
            "visibility": null,
            "width": null
          }
        },
        "f28acdfafefb415abda5bde0f054b863": {
          "model_module": "@jupyter-widgets/controls",
          "model_name": "DescriptionStyleModel",
          "model_module_version": "1.5.0",
          "state": {
            "_model_module": "@jupyter-widgets/controls",
            "_model_module_version": "1.5.0",
            "_model_name": "DescriptionStyleModel",
            "_view_count": null,
            "_view_module": "@jupyter-widgets/base",
            "_view_module_version": "1.2.0",
            "_view_name": "StyleView",
            "description_width": ""
          }
        },
        "05d7a16a34a84866a3cee00d1a5cb14d": {
          "model_module": "@jupyter-widgets/base",
          "model_name": "LayoutModel",
          "model_module_version": "1.2.0",
          "state": {
            "_model_module": "@jupyter-widgets/base",
            "_model_module_version": "1.2.0",
            "_model_name": "LayoutModel",
            "_view_count": null,
            "_view_module": "@jupyter-widgets/base",
            "_view_module_version": "1.2.0",
            "_view_name": "LayoutView",
            "align_content": null,
            "align_items": null,
            "align_self": null,
            "border": null,
            "bottom": null,
            "display": null,
            "flex": null,
            "flex_flow": null,
            "grid_area": null,
            "grid_auto_columns": null,
            "grid_auto_flow": null,
            "grid_auto_rows": null,
            "grid_column": null,
            "grid_gap": null,
            "grid_row": null,
            "grid_template_areas": null,
            "grid_template_columns": null,
            "grid_template_rows": null,
            "height": null,
            "justify_content": null,
            "justify_items": null,
            "left": null,
            "margin": null,
            "max_height": null,
            "max_width": null,
            "min_height": null,
            "min_width": null,
            "object_fit": null,
            "object_position": null,
            "order": null,
            "overflow": null,
            "overflow_x": null,
            "overflow_y": null,
            "padding": null,
            "right": null,
            "top": null,
            "visibility": null,
            "width": null
          }
        },
        "a7fb2cf34f3c4f23b7aea8d6422a5cfc": {
          "model_module": "@jupyter-widgets/controls",
          "model_name": "ProgressStyleModel",
          "model_module_version": "1.5.0",
          "state": {
            "_model_module": "@jupyter-widgets/controls",
            "_model_module_version": "1.5.0",
            "_model_name": "ProgressStyleModel",
            "_view_count": null,
            "_view_module": "@jupyter-widgets/base",
            "_view_module_version": "1.2.0",
            "_view_name": "StyleView",
            "bar_color": null,
            "description_width": ""
          }
        },
        "c8d0497de8714c3a8f80d24d28ba90b1": {
          "model_module": "@jupyter-widgets/base",
          "model_name": "LayoutModel",
          "model_module_version": "1.2.0",
          "state": {
            "_model_module": "@jupyter-widgets/base",
            "_model_module_version": "1.2.0",
            "_model_name": "LayoutModel",
            "_view_count": null,
            "_view_module": "@jupyter-widgets/base",
            "_view_module_version": "1.2.0",
            "_view_name": "LayoutView",
            "align_content": null,
            "align_items": null,
            "align_self": null,
            "border": null,
            "bottom": null,
            "display": null,
            "flex": null,
            "flex_flow": null,
            "grid_area": null,
            "grid_auto_columns": null,
            "grid_auto_flow": null,
            "grid_auto_rows": null,
            "grid_column": null,
            "grid_gap": null,
            "grid_row": null,
            "grid_template_areas": null,
            "grid_template_columns": null,
            "grid_template_rows": null,
            "height": null,
            "justify_content": null,
            "justify_items": null,
            "left": null,
            "margin": null,
            "max_height": null,
            "max_width": null,
            "min_height": null,
            "min_width": null,
            "object_fit": null,
            "object_position": null,
            "order": null,
            "overflow": null,
            "overflow_x": null,
            "overflow_y": null,
            "padding": null,
            "right": null,
            "top": null,
            "visibility": null,
            "width": null
          }
        },
        "a4eb618747db40e3bb04af4a71e1470a": {
          "model_module": "@jupyter-widgets/controls",
          "model_name": "DescriptionStyleModel",
          "model_module_version": "1.5.0",
          "state": {
            "_model_module": "@jupyter-widgets/controls",
            "_model_module_version": "1.5.0",
            "_model_name": "DescriptionStyleModel",
            "_view_count": null,
            "_view_module": "@jupyter-widgets/base",
            "_view_module_version": "1.2.0",
            "_view_name": "StyleView",
            "description_width": ""
          }
        },
        "ff4526e4cf45461f8a0d1737fe9820ca": {
          "model_module": "@jupyter-widgets/controls",
          "model_name": "HBoxModel",
          "model_module_version": "1.5.0",
          "state": {
            "_dom_classes": [],
            "_model_module": "@jupyter-widgets/controls",
            "_model_module_version": "1.5.0",
            "_model_name": "HBoxModel",
            "_view_count": null,
            "_view_module": "@jupyter-widgets/controls",
            "_view_module_version": "1.5.0",
            "_view_name": "HBoxView",
            "box_style": "",
            "children": [
              "IPY_MODEL_951bdaa765964565aa368d860e58bcf6",
              "IPY_MODEL_11ff9ec02f61438d85c2cd7265f76005",
              "IPY_MODEL_edfd2a2b62024c97a167342b1c37cb55"
            ],
            "layout": "IPY_MODEL_3b969eb188414ae68d4a8ed7d1273373"
          }
        },
        "951bdaa765964565aa368d860e58bcf6": {
          "model_module": "@jupyter-widgets/controls",
          "model_name": "HTMLModel",
          "model_module_version": "1.5.0",
          "state": {
            "_dom_classes": [],
            "_model_module": "@jupyter-widgets/controls",
            "_model_module_version": "1.5.0",
            "_model_name": "HTMLModel",
            "_view_count": null,
            "_view_module": "@jupyter-widgets/controls",
            "_view_module_version": "1.5.0",
            "_view_name": "HTMLView",
            "description": "",
            "description_tooltip": null,
            "layout": "IPY_MODEL_3fc87f86ae8c4fcb8c80158162bdf1fb",
            "placeholder": "​",
            "style": "IPY_MODEL_f865fd523286415a8bd8a1081d676202",
            "value": "vocab.txt: 100%"
          }
        },
        "11ff9ec02f61438d85c2cd7265f76005": {
          "model_module": "@jupyter-widgets/controls",
          "model_name": "FloatProgressModel",
          "model_module_version": "1.5.0",
          "state": {
            "_dom_classes": [],
            "_model_module": "@jupyter-widgets/controls",
            "_model_module_version": "1.5.0",
            "_model_name": "FloatProgressModel",
            "_view_count": null,
            "_view_module": "@jupyter-widgets/controls",
            "_view_module_version": "1.5.0",
            "_view_name": "ProgressView",
            "bar_style": "success",
            "description": "",
            "description_tooltip": null,
            "layout": "IPY_MODEL_af99761a6947438690b09237dbacbd84",
            "max": 987396,
            "min": 0,
            "orientation": "horizontal",
            "style": "IPY_MODEL_c70305a1512a425a88a0990b9c821893",
            "value": 987396
          }
        },
        "edfd2a2b62024c97a167342b1c37cb55": {
          "model_module": "@jupyter-widgets/controls",
          "model_name": "HTMLModel",
          "model_module_version": "1.5.0",
          "state": {
            "_dom_classes": [],
            "_model_module": "@jupyter-widgets/controls",
            "_model_module_version": "1.5.0",
            "_model_name": "HTMLModel",
            "_view_count": null,
            "_view_module": "@jupyter-widgets/controls",
            "_view_module_version": "1.5.0",
            "_view_name": "HTMLView",
            "description": "",
            "description_tooltip": null,
            "layout": "IPY_MODEL_d91edb6baf8e4364a87fd276e554759c",
            "placeholder": "​",
            "style": "IPY_MODEL_2bc6a512a5384fc787e1c6887ef80c1a",
            "value": " 987k/987k [00:00&lt;00:00, 1.24MB/s]"
          }
        },
        "3b969eb188414ae68d4a8ed7d1273373": {
          "model_module": "@jupyter-widgets/base",
          "model_name": "LayoutModel",
          "model_module_version": "1.2.0",
          "state": {
            "_model_module": "@jupyter-widgets/base",
            "_model_module_version": "1.2.0",
            "_model_name": "LayoutModel",
            "_view_count": null,
            "_view_module": "@jupyter-widgets/base",
            "_view_module_version": "1.2.0",
            "_view_name": "LayoutView",
            "align_content": null,
            "align_items": null,
            "align_self": null,
            "border": null,
            "bottom": null,
            "display": null,
            "flex": null,
            "flex_flow": null,
            "grid_area": null,
            "grid_auto_columns": null,
            "grid_auto_flow": null,
            "grid_auto_rows": null,
            "grid_column": null,
            "grid_gap": null,
            "grid_row": null,
            "grid_template_areas": null,
            "grid_template_columns": null,
            "grid_template_rows": null,
            "height": null,
            "justify_content": null,
            "justify_items": null,
            "left": null,
            "margin": null,
            "max_height": null,
            "max_width": null,
            "min_height": null,
            "min_width": null,
            "object_fit": null,
            "object_position": null,
            "order": null,
            "overflow": null,
            "overflow_x": null,
            "overflow_y": null,
            "padding": null,
            "right": null,
            "top": null,
            "visibility": null,
            "width": null
          }
        },
        "3fc87f86ae8c4fcb8c80158162bdf1fb": {
          "model_module": "@jupyter-widgets/base",
          "model_name": "LayoutModel",
          "model_module_version": "1.2.0",
          "state": {
            "_model_module": "@jupyter-widgets/base",
            "_model_module_version": "1.2.0",
            "_model_name": "LayoutModel",
            "_view_count": null,
            "_view_module": "@jupyter-widgets/base",
            "_view_module_version": "1.2.0",
            "_view_name": "LayoutView",
            "align_content": null,
            "align_items": null,
            "align_self": null,
            "border": null,
            "bottom": null,
            "display": null,
            "flex": null,
            "flex_flow": null,
            "grid_area": null,
            "grid_auto_columns": null,
            "grid_auto_flow": null,
            "grid_auto_rows": null,
            "grid_column": null,
            "grid_gap": null,
            "grid_row": null,
            "grid_template_areas": null,
            "grid_template_columns": null,
            "grid_template_rows": null,
            "height": null,
            "justify_content": null,
            "justify_items": null,
            "left": null,
            "margin": null,
            "max_height": null,
            "max_width": null,
            "min_height": null,
            "min_width": null,
            "object_fit": null,
            "object_position": null,
            "order": null,
            "overflow": null,
            "overflow_x": null,
            "overflow_y": null,
            "padding": null,
            "right": null,
            "top": null,
            "visibility": null,
            "width": null
          }
        },
        "f865fd523286415a8bd8a1081d676202": {
          "model_module": "@jupyter-widgets/controls",
          "model_name": "DescriptionStyleModel",
          "model_module_version": "1.5.0",
          "state": {
            "_model_module": "@jupyter-widgets/controls",
            "_model_module_version": "1.5.0",
            "_model_name": "DescriptionStyleModel",
            "_view_count": null,
            "_view_module": "@jupyter-widgets/base",
            "_view_module_version": "1.2.0",
            "_view_name": "StyleView",
            "description_width": ""
          }
        },
        "af99761a6947438690b09237dbacbd84": {
          "model_module": "@jupyter-widgets/base",
          "model_name": "LayoutModel",
          "model_module_version": "1.2.0",
          "state": {
            "_model_module": "@jupyter-widgets/base",
            "_model_module_version": "1.2.0",
            "_model_name": "LayoutModel",
            "_view_count": null,
            "_view_module": "@jupyter-widgets/base",
            "_view_module_version": "1.2.0",
            "_view_name": "LayoutView",
            "align_content": null,
            "align_items": null,
            "align_self": null,
            "border": null,
            "bottom": null,
            "display": null,
            "flex": null,
            "flex_flow": null,
            "grid_area": null,
            "grid_auto_columns": null,
            "grid_auto_flow": null,
            "grid_auto_rows": null,
            "grid_column": null,
            "grid_gap": null,
            "grid_row": null,
            "grid_template_areas": null,
            "grid_template_columns": null,
            "grid_template_rows": null,
            "height": null,
            "justify_content": null,
            "justify_items": null,
            "left": null,
            "margin": null,
            "max_height": null,
            "max_width": null,
            "min_height": null,
            "min_width": null,
            "object_fit": null,
            "object_position": null,
            "order": null,
            "overflow": null,
            "overflow_x": null,
            "overflow_y": null,
            "padding": null,
            "right": null,
            "top": null,
            "visibility": null,
            "width": null
          }
        },
        "c70305a1512a425a88a0990b9c821893": {
          "model_module": "@jupyter-widgets/controls",
          "model_name": "ProgressStyleModel",
          "model_module_version": "1.5.0",
          "state": {
            "_model_module": "@jupyter-widgets/controls",
            "_model_module_version": "1.5.0",
            "_model_name": "ProgressStyleModel",
            "_view_count": null,
            "_view_module": "@jupyter-widgets/base",
            "_view_module_version": "1.2.0",
            "_view_name": "StyleView",
            "bar_color": null,
            "description_width": ""
          }
        },
        "d91edb6baf8e4364a87fd276e554759c": {
          "model_module": "@jupyter-widgets/base",
          "model_name": "LayoutModel",
          "model_module_version": "1.2.0",
          "state": {
            "_model_module": "@jupyter-widgets/base",
            "_model_module_version": "1.2.0",
            "_model_name": "LayoutModel",
            "_view_count": null,
            "_view_module": "@jupyter-widgets/base",
            "_view_module_version": "1.2.0",
            "_view_name": "LayoutView",
            "align_content": null,
            "align_items": null,
            "align_self": null,
            "border": null,
            "bottom": null,
            "display": null,
            "flex": null,
            "flex_flow": null,
            "grid_area": null,
            "grid_auto_columns": null,
            "grid_auto_flow": null,
            "grid_auto_rows": null,
            "grid_column": null,
            "grid_gap": null,
            "grid_row": null,
            "grid_template_areas": null,
            "grid_template_columns": null,
            "grid_template_rows": null,
            "height": null,
            "justify_content": null,
            "justify_items": null,
            "left": null,
            "margin": null,
            "max_height": null,
            "max_width": null,
            "min_height": null,
            "min_width": null,
            "object_fit": null,
            "object_position": null,
            "order": null,
            "overflow": null,
            "overflow_x": null,
            "overflow_y": null,
            "padding": null,
            "right": null,
            "top": null,
            "visibility": null,
            "width": null
          }
        },
        "2bc6a512a5384fc787e1c6887ef80c1a": {
          "model_module": "@jupyter-widgets/controls",
          "model_name": "DescriptionStyleModel",
          "model_module_version": "1.5.0",
          "state": {
            "_model_module": "@jupyter-widgets/controls",
            "_model_module_version": "1.5.0",
            "_model_name": "DescriptionStyleModel",
            "_view_count": null,
            "_view_module": "@jupyter-widgets/base",
            "_view_module_version": "1.2.0",
            "_view_name": "StyleView",
            "description_width": ""
          }
        },
        "fcdf872130844c55a26f52482b44df08": {
          "model_module": "@jupyter-widgets/controls",
          "model_name": "HBoxModel",
          "model_module_version": "1.5.0",
          "state": {
            "_dom_classes": [],
            "_model_module": "@jupyter-widgets/controls",
            "_model_module_version": "1.5.0",
            "_model_name": "HBoxModel",
            "_view_count": null,
            "_view_module": "@jupyter-widgets/controls",
            "_view_module_version": "1.5.0",
            "_view_name": "HBoxView",
            "box_style": "",
            "children": [
              "IPY_MODEL_8bac78ffa8d743c1a38da9fddc8583dd",
              "IPY_MODEL_42268a9426bc4981bbb762e50484c4be",
              "IPY_MODEL_d4e98650f95d4df6ba5451e8666192f3"
            ],
            "layout": "IPY_MODEL_ce057b2ad7f24bd3af932d882703910a"
          }
        },
        "8bac78ffa8d743c1a38da9fddc8583dd": {
          "model_module": "@jupyter-widgets/controls",
          "model_name": "HTMLModel",
          "model_module_version": "1.5.0",
          "state": {
            "_dom_classes": [],
            "_model_module": "@jupyter-widgets/controls",
            "_model_module_version": "1.5.0",
            "_model_name": "HTMLModel",
            "_view_count": null,
            "_view_module": "@jupyter-widgets/controls",
            "_view_module_version": "1.5.0",
            "_view_name": "HTMLView",
            "description": "",
            "description_tooltip": null,
            "layout": "IPY_MODEL_83af37ead3274a2b8c77b1d605123dd4",
            "placeholder": "​",
            "style": "IPY_MODEL_9ffe6f573db940cbbd11118d1ea42f70",
            "value": "pytorch_model.bin: 100%"
          }
        },
        "42268a9426bc4981bbb762e50484c4be": {
          "model_module": "@jupyter-widgets/controls",
          "model_name": "FloatProgressModel",
          "model_module_version": "1.5.0",
          "state": {
            "_dom_classes": [],
            "_model_module": "@jupyter-widgets/controls",
            "_model_module_version": "1.5.0",
            "_model_name": "FloatProgressModel",
            "_view_count": null,
            "_view_module": "@jupyter-widgets/controls",
            "_view_module_version": "1.5.0",
            "_view_name": "ProgressView",
            "bar_style": "success",
            "description": "",
            "description_tooltip": null,
            "layout": "IPY_MODEL_5770470c03774973a6106d3e0f7d8f46",
            "max": 327911986,
            "min": 0,
            "orientation": "horizontal",
            "style": "IPY_MODEL_d1b9d0db771740c2961d0df4db710736",
            "value": 327911986
          }
        },
        "d4e98650f95d4df6ba5451e8666192f3": {
          "model_module": "@jupyter-widgets/controls",
          "model_name": "HTMLModel",
          "model_module_version": "1.5.0",
          "state": {
            "_dom_classes": [],
            "_model_module": "@jupyter-widgets/controls",
            "_model_module_version": "1.5.0",
            "_model_name": "HTMLModel",
            "_view_count": null,
            "_view_module": "@jupyter-widgets/controls",
            "_view_module_version": "1.5.0",
            "_view_name": "HTMLView",
            "description": "",
            "description_tooltip": null,
            "layout": "IPY_MODEL_593c6c3347334ded96468c3339eac178",
            "placeholder": "​",
            "style": "IPY_MODEL_fc0b0b499a9b468fa0355a37bd14f914",
            "value": " 328M/328M [00:17&lt;00:00, 19.8MB/s]"
          }
        },
        "ce057b2ad7f24bd3af932d882703910a": {
          "model_module": "@jupyter-widgets/base",
          "model_name": "LayoutModel",
          "model_module_version": "1.2.0",
          "state": {
            "_model_module": "@jupyter-widgets/base",
            "_model_module_version": "1.2.0",
            "_model_name": "LayoutModel",
            "_view_count": null,
            "_view_module": "@jupyter-widgets/base",
            "_view_module_version": "1.2.0",
            "_view_name": "LayoutView",
            "align_content": null,
            "align_items": null,
            "align_self": null,
            "border": null,
            "bottom": null,
            "display": null,
            "flex": null,
            "flex_flow": null,
            "grid_area": null,
            "grid_auto_columns": null,
            "grid_auto_flow": null,
            "grid_auto_rows": null,
            "grid_column": null,
            "grid_gap": null,
            "grid_row": null,
            "grid_template_areas": null,
            "grid_template_columns": null,
            "grid_template_rows": null,
            "height": null,
            "justify_content": null,
            "justify_items": null,
            "left": null,
            "margin": null,
            "max_height": null,
            "max_width": null,
            "min_height": null,
            "min_width": null,
            "object_fit": null,
            "object_position": null,
            "order": null,
            "overflow": null,
            "overflow_x": null,
            "overflow_y": null,
            "padding": null,
            "right": null,
            "top": null,
            "visibility": null,
            "width": null
          }
        },
        "83af37ead3274a2b8c77b1d605123dd4": {
          "model_module": "@jupyter-widgets/base",
          "model_name": "LayoutModel",
          "model_module_version": "1.2.0",
          "state": {
            "_model_module": "@jupyter-widgets/base",
            "_model_module_version": "1.2.0",
            "_model_name": "LayoutModel",
            "_view_count": null,
            "_view_module": "@jupyter-widgets/base",
            "_view_module_version": "1.2.0",
            "_view_name": "LayoutView",
            "align_content": null,
            "align_items": null,
            "align_self": null,
            "border": null,
            "bottom": null,
            "display": null,
            "flex": null,
            "flex_flow": null,
            "grid_area": null,
            "grid_auto_columns": null,
            "grid_auto_flow": null,
            "grid_auto_rows": null,
            "grid_column": null,
            "grid_gap": null,
            "grid_row": null,
            "grid_template_areas": null,
            "grid_template_columns": null,
            "grid_template_rows": null,
            "height": null,
            "justify_content": null,
            "justify_items": null,
            "left": null,
            "margin": null,
            "max_height": null,
            "max_width": null,
            "min_height": null,
            "min_width": null,
            "object_fit": null,
            "object_position": null,
            "order": null,
            "overflow": null,
            "overflow_x": null,
            "overflow_y": null,
            "padding": null,
            "right": null,
            "top": null,
            "visibility": null,
            "width": null
          }
        },
        "9ffe6f573db940cbbd11118d1ea42f70": {
          "model_module": "@jupyter-widgets/controls",
          "model_name": "DescriptionStyleModel",
          "model_module_version": "1.5.0",
          "state": {
            "_model_module": "@jupyter-widgets/controls",
            "_model_module_version": "1.5.0",
            "_model_name": "DescriptionStyleModel",
            "_view_count": null,
            "_view_module": "@jupyter-widgets/base",
            "_view_module_version": "1.2.0",
            "_view_name": "StyleView",
            "description_width": ""
          }
        },
        "5770470c03774973a6106d3e0f7d8f46": {
          "model_module": "@jupyter-widgets/base",
          "model_name": "LayoutModel",
          "model_module_version": "1.2.0",
          "state": {
            "_model_module": "@jupyter-widgets/base",
            "_model_module_version": "1.2.0",
            "_model_name": "LayoutModel",
            "_view_count": null,
            "_view_module": "@jupyter-widgets/base",
            "_view_module_version": "1.2.0",
            "_view_name": "LayoutView",
            "align_content": null,
            "align_items": null,
            "align_self": null,
            "border": null,
            "bottom": null,
            "display": null,
            "flex": null,
            "flex_flow": null,
            "grid_area": null,
            "grid_auto_columns": null,
            "grid_auto_flow": null,
            "grid_auto_rows": null,
            "grid_column": null,
            "grid_gap": null,
            "grid_row": null,
            "grid_template_areas": null,
            "grid_template_columns": null,
            "grid_template_rows": null,
            "height": null,
            "justify_content": null,
            "justify_items": null,
            "left": null,
            "margin": null,
            "max_height": null,
            "max_width": null,
            "min_height": null,
            "min_width": null,
            "object_fit": null,
            "object_position": null,
            "order": null,
            "overflow": null,
            "overflow_x": null,
            "overflow_y": null,
            "padding": null,
            "right": null,
            "top": null,
            "visibility": null,
            "width": null
          }
        },
        "d1b9d0db771740c2961d0df4db710736": {
          "model_module": "@jupyter-widgets/controls",
          "model_name": "ProgressStyleModel",
          "model_module_version": "1.5.0",
          "state": {
            "_model_module": "@jupyter-widgets/controls",
            "_model_module_version": "1.5.0",
            "_model_name": "ProgressStyleModel",
            "_view_count": null,
            "_view_module": "@jupyter-widgets/base",
            "_view_module_version": "1.2.0",
            "_view_name": "StyleView",
            "bar_color": null,
            "description_width": ""
          }
        },
        "593c6c3347334ded96468c3339eac178": {
          "model_module": "@jupyter-widgets/base",
          "model_name": "LayoutModel",
          "model_module_version": "1.2.0",
          "state": {
            "_model_module": "@jupyter-widgets/base",
            "_model_module_version": "1.2.0",
            "_model_name": "LayoutModel",
            "_view_count": null,
            "_view_module": "@jupyter-widgets/base",
            "_view_module_version": "1.2.0",
            "_view_name": "LayoutView",
            "align_content": null,
            "align_items": null,
            "align_self": null,
            "border": null,
            "bottom": null,
            "display": null,
            "flex": null,
            "flex_flow": null,
            "grid_area": null,
            "grid_auto_columns": null,
            "grid_auto_flow": null,
            "grid_auto_rows": null,
            "grid_column": null,
            "grid_gap": null,
            "grid_row": null,
            "grid_template_areas": null,
            "grid_template_columns": null,
            "grid_template_rows": null,
            "height": null,
            "justify_content": null,
            "justify_items": null,
            "left": null,
            "margin": null,
            "max_height": null,
            "max_width": null,
            "min_height": null,
            "min_width": null,
            "object_fit": null,
            "object_position": null,
            "order": null,
            "overflow": null,
            "overflow_x": null,
            "overflow_y": null,
            "padding": null,
            "right": null,
            "top": null,
            "visibility": null,
            "width": null
          }
        },
        "fc0b0b499a9b468fa0355a37bd14f914": {
          "model_module": "@jupyter-widgets/controls",
          "model_name": "DescriptionStyleModel",
          "model_module_version": "1.5.0",
          "state": {
            "_model_module": "@jupyter-widgets/controls",
            "_model_module_version": "1.5.0",
            "_model_name": "DescriptionStyleModel",
            "_view_count": null,
            "_view_module": "@jupyter-widgets/base",
            "_view_module_version": "1.2.0",
            "_view_name": "StyleView",
            "description_width": ""
          }
        },
        "7dd854f3191f4f66b08ddeee716d7e97": {
          "model_module": "@jupyter-widgets/controls",
          "model_name": "HBoxModel",
          "model_module_version": "1.5.0",
          "state": {
            "_dom_classes": [],
            "_model_module": "@jupyter-widgets/controls",
            "_model_module_version": "1.5.0",
            "_model_name": "HBoxModel",
            "_view_count": null,
            "_view_module": "@jupyter-widgets/controls",
            "_view_module_version": "1.5.0",
            "_view_name": "HBoxView",
            "box_style": "",
            "children": [
              "IPY_MODEL_c19ec5e0938a43f0be79e096c850fdd4",
              "IPY_MODEL_e81b5fb2f2984d72be0180eeb7395065",
              "IPY_MODEL_f8a708a864c94818b46f81239cf4e692"
            ],
            "layout": "IPY_MODEL_1195277cb5bc463a8d92dd156cb7e2dc"
          }
        },
        "c19ec5e0938a43f0be79e096c850fdd4": {
          "model_module": "@jupyter-widgets/controls",
          "model_name": "HTMLModel",
          "model_module_version": "1.5.0",
          "state": {
            "_dom_classes": [],
            "_model_module": "@jupyter-widgets/controls",
            "_model_module_version": "1.5.0",
            "_model_name": "HTMLModel",
            "_view_count": null,
            "_view_module": "@jupyter-widgets/controls",
            "_view_module_version": "1.5.0",
            "_view_name": "HTMLView",
            "description": "",
            "description_tooltip": null,
            "layout": "IPY_MODEL_7f1e81e26e204525a2b3d483772ee5d0",
            "placeholder": "​",
            "style": "IPY_MODEL_12c1f521011f4228baf971eb619f04bb",
            "value": "README.md: 100%"
          }
        },
        "e81b5fb2f2984d72be0180eeb7395065": {
          "model_module": "@jupyter-widgets/controls",
          "model_name": "FloatProgressModel",
          "model_module_version": "1.5.0",
          "state": {
            "_dom_classes": [],
            "_model_module": "@jupyter-widgets/controls",
            "_model_module_version": "1.5.0",
            "_model_name": "FloatProgressModel",
            "_view_count": null,
            "_view_module": "@jupyter-widgets/controls",
            "_view_module_version": "1.5.0",
            "_view_name": "ProgressView",
            "bar_style": "success",
            "description": "",
            "description_tooltip": null,
            "layout": "IPY_MODEL_08557c08bd044e96b6200c8ee1216f59",
            "max": 3024,
            "min": 0,
            "orientation": "horizontal",
            "style": "IPY_MODEL_03f4749725ab4dde97492d433979bd98",
            "value": 3024
          }
        },
        "f8a708a864c94818b46f81239cf4e692": {
          "model_module": "@jupyter-widgets/controls",
          "model_name": "HTMLModel",
          "model_module_version": "1.5.0",
          "state": {
            "_dom_classes": [],
            "_model_module": "@jupyter-widgets/controls",
            "_model_module_version": "1.5.0",
            "_model_name": "HTMLModel",
            "_view_count": null,
            "_view_module": "@jupyter-widgets/controls",
            "_view_module_version": "1.5.0",
            "_view_name": "HTMLView",
            "description": "",
            "description_tooltip": null,
            "layout": "IPY_MODEL_6371f212d4424a7ea9a51a2a37d5d51c",
            "placeholder": "​",
            "style": "IPY_MODEL_e8bf624d9fa043e5b292ddd6de8927d4",
            "value": " 3.02k/3.02k [00:00&lt;00:00, 247kB/s]"
          }
        },
        "1195277cb5bc463a8d92dd156cb7e2dc": {
          "model_module": "@jupyter-widgets/base",
          "model_name": "LayoutModel",
          "model_module_version": "1.2.0",
          "state": {
            "_model_module": "@jupyter-widgets/base",
            "_model_module_version": "1.2.0",
            "_model_name": "LayoutModel",
            "_view_count": null,
            "_view_module": "@jupyter-widgets/base",
            "_view_module_version": "1.2.0",
            "_view_name": "LayoutView",
            "align_content": null,
            "align_items": null,
            "align_self": null,
            "border": null,
            "bottom": null,
            "display": null,
            "flex": null,
            "flex_flow": null,
            "grid_area": null,
            "grid_auto_columns": null,
            "grid_auto_flow": null,
            "grid_auto_rows": null,
            "grid_column": null,
            "grid_gap": null,
            "grid_row": null,
            "grid_template_areas": null,
            "grid_template_columns": null,
            "grid_template_rows": null,
            "height": null,
            "justify_content": null,
            "justify_items": null,
            "left": null,
            "margin": null,
            "max_height": null,
            "max_width": null,
            "min_height": null,
            "min_width": null,
            "object_fit": null,
            "object_position": null,
            "order": null,
            "overflow": null,
            "overflow_x": null,
            "overflow_y": null,
            "padding": null,
            "right": null,
            "top": null,
            "visibility": null,
            "width": null
          }
        },
        "7f1e81e26e204525a2b3d483772ee5d0": {
          "model_module": "@jupyter-widgets/base",
          "model_name": "LayoutModel",
          "model_module_version": "1.2.0",
          "state": {
            "_model_module": "@jupyter-widgets/base",
            "_model_module_version": "1.2.0",
            "_model_name": "LayoutModel",
            "_view_count": null,
            "_view_module": "@jupyter-widgets/base",
            "_view_module_version": "1.2.0",
            "_view_name": "LayoutView",
            "align_content": null,
            "align_items": null,
            "align_self": null,
            "border": null,
            "bottom": null,
            "display": null,
            "flex": null,
            "flex_flow": null,
            "grid_area": null,
            "grid_auto_columns": null,
            "grid_auto_flow": null,
            "grid_auto_rows": null,
            "grid_column": null,
            "grid_gap": null,
            "grid_row": null,
            "grid_template_areas": null,
            "grid_template_columns": null,
            "grid_template_rows": null,
            "height": null,
            "justify_content": null,
            "justify_items": null,
            "left": null,
            "margin": null,
            "max_height": null,
            "max_width": null,
            "min_height": null,
            "min_width": null,
            "object_fit": null,
            "object_position": null,
            "order": null,
            "overflow": null,
            "overflow_x": null,
            "overflow_y": null,
            "padding": null,
            "right": null,
            "top": null,
            "visibility": null,
            "width": null
          }
        },
        "12c1f521011f4228baf971eb619f04bb": {
          "model_module": "@jupyter-widgets/controls",
          "model_name": "DescriptionStyleModel",
          "model_module_version": "1.5.0",
          "state": {
            "_model_module": "@jupyter-widgets/controls",
            "_model_module_version": "1.5.0",
            "_model_name": "DescriptionStyleModel",
            "_view_count": null,
            "_view_module": "@jupyter-widgets/base",
            "_view_module_version": "1.2.0",
            "_view_name": "StyleView",
            "description_width": ""
          }
        },
        "08557c08bd044e96b6200c8ee1216f59": {
          "model_module": "@jupyter-widgets/base",
          "model_name": "LayoutModel",
          "model_module_version": "1.2.0",
          "state": {
            "_model_module": "@jupyter-widgets/base",
            "_model_module_version": "1.2.0",
            "_model_name": "LayoutModel",
            "_view_count": null,
            "_view_module": "@jupyter-widgets/base",
            "_view_module_version": "1.2.0",
            "_view_name": "LayoutView",
            "align_content": null,
            "align_items": null,
            "align_self": null,
            "border": null,
            "bottom": null,
            "display": null,
            "flex": null,
            "flex_flow": null,
            "grid_area": null,
            "grid_auto_columns": null,
            "grid_auto_flow": null,
            "grid_auto_rows": null,
            "grid_column": null,
            "grid_gap": null,
            "grid_row": null,
            "grid_template_areas": null,
            "grid_template_columns": null,
            "grid_template_rows": null,
            "height": null,
            "justify_content": null,
            "justify_items": null,
            "left": null,
            "margin": null,
            "max_height": null,
            "max_width": null,
            "min_height": null,
            "min_width": null,
            "object_fit": null,
            "object_position": null,
            "order": null,
            "overflow": null,
            "overflow_x": null,
            "overflow_y": null,
            "padding": null,
            "right": null,
            "top": null,
            "visibility": null,
            "width": null
          }
        },
        "03f4749725ab4dde97492d433979bd98": {
          "model_module": "@jupyter-widgets/controls",
          "model_name": "ProgressStyleModel",
          "model_module_version": "1.5.0",
          "state": {
            "_model_module": "@jupyter-widgets/controls",
            "_model_module_version": "1.5.0",
            "_model_name": "ProgressStyleModel",
            "_view_count": null,
            "_view_module": "@jupyter-widgets/base",
            "_view_module_version": "1.2.0",
            "_view_name": "StyleView",
            "bar_color": null,
            "description_width": ""
          }
        },
        "6371f212d4424a7ea9a51a2a37d5d51c": {
          "model_module": "@jupyter-widgets/base",
          "model_name": "LayoutModel",
          "model_module_version": "1.2.0",
          "state": {
            "_model_module": "@jupyter-widgets/base",
            "_model_module_version": "1.2.0",
            "_model_name": "LayoutModel",
            "_view_count": null,
            "_view_module": "@jupyter-widgets/base",
            "_view_module_version": "1.2.0",
            "_view_name": "LayoutView",
            "align_content": null,
            "align_items": null,
            "align_self": null,
            "border": null,
            "bottom": null,
            "display": null,
            "flex": null,
            "flex_flow": null,
            "grid_area": null,
            "grid_auto_columns": null,
            "grid_auto_flow": null,
            "grid_auto_rows": null,
            "grid_column": null,
            "grid_gap": null,
            "grid_row": null,
            "grid_template_areas": null,
            "grid_template_columns": null,
            "grid_template_rows": null,
            "height": null,
            "justify_content": null,
            "justify_items": null,
            "left": null,
            "margin": null,
            "max_height": null,
            "max_width": null,
            "min_height": null,
            "min_width": null,
            "object_fit": null,
            "object_position": null,
            "order": null,
            "overflow": null,
            "overflow_x": null,
            "overflow_y": null,
            "padding": null,
            "right": null,
            "top": null,
            "visibility": null,
            "width": null
          }
        },
        "e8bf624d9fa043e5b292ddd6de8927d4": {
          "model_module": "@jupyter-widgets/controls",
          "model_name": "DescriptionStyleModel",
          "model_module_version": "1.5.0",
          "state": {
            "_model_module": "@jupyter-widgets/controls",
            "_model_module_version": "1.5.0",
            "_model_name": "DescriptionStyleModel",
            "_view_count": null,
            "_view_module": "@jupyter-widgets/base",
            "_view_module_version": "1.2.0",
            "_view_name": "StyleView",
            "description_width": ""
          }
        }
      }
    }
  },
  "nbformat": 4,
  "nbformat_minor": 0
}