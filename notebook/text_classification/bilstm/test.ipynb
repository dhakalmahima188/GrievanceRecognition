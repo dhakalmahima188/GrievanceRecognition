{
 "cells": [
  {
   "cell_type": "code",
   "execution_count": 3,
   "metadata": {},
   "outputs": [
    {
     "name": "stdout",
     "output_type": "stream",
     "text": [
      "Rows before removing duplicates: 14537\n",
      "Rows after removing duplicates: 13120\n",
      "Duplicates removed: 1417\n"
     ]
    }
   ],
   "source": [
    "import pandas as pd\n",
    "\n",
    "# Replace 'your_file.csv' with the path to your actual CSV file\n",
    "file_path = 'dataset.csv'\n",
    "\n",
    "# Read the CSV file into a pandas DataFrame\n",
    "df = pd.read_csv(file_path)\n",
    "\n",
    "# Count the number of rows before removing duplicates\n",
    "rows_before = df.shape[0]\n",
    "\n",
    "# Remove duplicate rows\n",
    "df = df.drop_duplicates()\n",
    "\n",
    "# Count the number of rows after removing duplicates\n",
    "rows_after = df.shape[0]\n",
    "\n",
    "# Save the DataFrame back to CSV, without the index\n",
    "df.to_csv('newdata.csv', index=False)\n",
    "\n",
    "# Print the number of rows before and after, and the number of duplicates removed\n",
    "print(f'Rows before removing duplicates: {rows_before}')\n",
    "print(f'Rows after removing duplicates: {rows_after}')\n",
    "print(f'Duplicates removed: {rows_before - rows_after}')\n"
   ]
  },
  {
   "cell_type": "code",
   "execution_count": 4,
   "metadata": {},
   "outputs": [
    {
     "data": {
      "text/plain": [
       "category\n",
       "वेबसाइट तथा अभिलेख व्यवस्थापन सम्बन्धी      3199\n",
       "पार्किङ्ग तथा मेट्रो पुलिस                  1701\n",
       "सोधपुछ, सुझाव, प्रशंसा सम्बन्धी             1515\n",
       "कर्मचारी सम्वन्धी                           1337\n",
       "खानेपानी                                     863\n",
       "अर्थ सबन्धी                                  860\n",
       "स्वास्थ्यसँग सम्बन्धी                        694\n",
       "शान्ति सुरक्षा                               648\n",
       "सूचना तथा संचार                              640\n",
       "फोहोरमैला व्यवस्थापन                         630\n",
       "निर्माण कार्य सम्बन्धी                       605\n",
       "प्राकृतिक श्रोत/साधन सम्बन्धी                200\n",
       "लागु पदार्थ सम्बन्धी                         157\n",
       "अर्थिक अनियमितता तथा भ्रष्टाचार सम्बन्धी      71\n",
       "Name: count, dtype: int64"
      ]
     },
     "execution_count": 4,
     "metadata": {},
     "output_type": "execute_result"
    }
   ],
   "source": [
    "df['category'].value_counts()"
   ]
  },
  {
   "cell_type": "code",
   "execution_count": 6,
   "metadata": {},
   "outputs": [],
   "source": [
    "import pandas as pd\n",
    "\n",
    "# Specify the path to your .xlsx file\n",
    "xlsx_path = 'old_Dataset.xlsx'\n",
    "\n",
    "# Specify the path where the .csv file will be saved\n",
    "csv_path = 'old_Dataset.csv'\n",
    "\n",
    "# Load the Excel file\n",
    "df = pd.read_excel(xlsx_path)\n",
    "\n",
    "# Save the DataFrame to CSV\n",
    "df.to_csv(csv_path, index=False)  # Set index=False to exclude row indices in the CSV file\n"
   ]
  },
  {
   "cell_type": "code",
   "execution_count": 5,
   "metadata": {},
   "outputs": [
    {
     "name": "stdout",
     "output_type": "stream",
     "text": [
      "Collecting openpyxl\n",
      "  Using cached openpyxl-3.1.2-py2.py3-none-any.whl (249 kB)\n",
      "Collecting et-xmlfile\n",
      "  Using cached et_xmlfile-1.1.0-py3-none-any.whl (4.7 kB)\n",
      "Installing collected packages: et-xmlfile, openpyxl\n",
      "Successfully installed et-xmlfile-1.1.0 openpyxl-3.1.2\n"
     ]
    }
   ],
   "source": [
    "!pip3 install openpyxl"
   ]
  },
  {
   "cell_type": "code",
   "execution_count": 7,
   "metadata": {},
   "outputs": [
    {
     "data": {
      "text/plain": [
       "category\n",
       "वेबसाइट तथा अभिलेख व्यवस्थापन सम्बन्धी       2849\n",
       "सोधपुछ, सुझाव, प्रशंसा सम्बन्धी              1875\n",
       "पार्किङ्ग तथा मेट्रो पुलिस                   1702\n",
       "कर्मचारी सम्वन्धी                            1345\n",
       "स्वास्थ्यसँग सम्बन्धी                         970\n",
       "अर्थ सबन्धी                                   860\n",
       "खानेपानी सम्बन्धी                             765\n",
       "सूचना तथा  संचार सम्बन्धी                     639\n",
       "फोहोरमैला व्यवस्थापन                          630\n",
       "निर्माण कार्य सम्बन्धी                        604\n",
       "शान्ति सुरक्षा सम्बन्धी                       557\n",
       "प्राकृतिक श्रोत/साधन सम्बन्धी                 233\n",
       "लागु पदार्थ सम्बन्धी                          157\n",
       "अर्थिक अनियमितता तथा भ्रष्टाचार सम्बन्धी       71\n",
       "Name: count, dtype: int64"
      ]
     },
     "execution_count": 7,
     "metadata": {},
     "output_type": "execute_result"
    }
   ],
   "source": [
    "df1=pd.read_csv('old_Dataset.csv')\n",
    "df1[\"category\"].value_counts()\n"
   ]
  },
  {
   "cell_type": "code",
   "execution_count": 9,
   "metadata": {},
   "outputs": [
    {
     "data": {
      "text/plain": [
       "category\n",
       "वेबसाइट तथा अभिलेख व्यवस्थापन सम्बन्धी      2849\n",
       "पार्किङ्ग तथा मेट्रो पुलिस                  1701\n",
       "सोधपुछ, सुझाव, प्रशंसा सम्बन्धी             1515\n",
       "कर्मचारी सम्वन्धी                           1337\n",
       "अर्थ सबन्धी                                  860\n",
       "खानेपानी                                     800\n",
       "स्वास्थ्यसँग सम्बन्धी                        694\n",
       "सूचना तथा संचार                              640\n",
       "शान्ति सुरक्षा                               634\n",
       "फोहोरमैला व्यवस्थापन                         630\n",
       "निर्माण कार्य सम्बन्धी                       605\n",
       "प्राकृतिक श्रोत/साधन सम्बन्धी                200\n",
       "लागु पदार्थ सम्बन्धी                         157\n",
       "अर्थिक अनियमितता तथा भ्रष्टाचार सम्बन्धी      71\n",
       "Name: count, dtype: int64"
      ]
     },
     "execution_count": 9,
     "metadata": {},
     "output_type": "execute_result"
    }
   ],
   "source": [
    "df1=pd.read_csv('newdatalatest.csv')\n",
    "df1[\"category\"].value_counts()\n"
   ]
  },
  {
   "cell_type": "code",
   "execution_count": null,
   "metadata": {},
   "outputs": [],
   "source": []
  }
 ],
 "metadata": {
  "kernelspec": {
   "display_name": "venv",
   "language": "python",
   "name": "python3"
  },
  "language_info": {
   "codemirror_mode": {
    "name": "ipython",
    "version": 3
   },
   "file_extension": ".py",
   "mimetype": "text/x-python",
   "name": "python",
   "nbconvert_exporter": "python",
   "pygments_lexer": "ipython3",
   "version": "3.10.12"
  }
 },
 "nbformat": 4,
 "nbformat_minor": 2
}
