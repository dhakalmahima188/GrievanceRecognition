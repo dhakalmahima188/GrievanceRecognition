{
 "cells": [
  {
   "cell_type": "code",
   "execution_count": 3,
   "metadata": {},
   "outputs": [
    {
     "name": "stdout",
     "output_type": "stream",
     "text": [
      "Rows before removing duplicates: 14537\n",
      "Rows after removing duplicates: 13120\n",
      "Duplicates removed: 1417\n"
     ]
    }
   ],
   "source": [
    "import pandas as pd\n",
    "\n",
    "# Replace 'your_file.csv' with the path to your actual CSV file\n",
    "file_path = 'dataset.csv'\n",
    "\n",
    "# Read the CSV file into a pandas DataFrame\n",
    "df = pd.read_csv(file_path)\n",
    "\n",
    "# Count the number of rows before removing duplicates\n",
    "rows_before = df.shape[0]\n",
    "\n",
    "# Remove duplicate rows\n",
    "df = df.drop_duplicates()\n",
    "\n",
    "# Count the number of rows after removing duplicates\n",
    "rows_after = df.shape[0]\n",
    "\n",
    "# Save the DataFrame back to CSV, without the index\n",
    "df.to_csv('newdata.csv', index=False)\n",
    "\n",
    "# Print the number of rows before and after, and the number of duplicates removed\n",
    "print(f'Rows before removing duplicates: {rows_before}')\n",
    "print(f'Rows after removing duplicates: {rows_after}')\n",
    "print(f'Duplicates removed: {rows_before - rows_after}')\n"
   ]
  },
  {
   "cell_type": "code",
   "execution_count": 4,
   "metadata": {},
   "outputs": [
    {
     "data": {
      "text/plain": [
       "category\n",
       "वेबसाइट तथा अभिलेख व्यवस्थापन सम्बन्धी      3199\n",
       "पार्किङ्ग तथा मेट्रो पुलिस                  1701\n",
       "सोधपुछ, सुझाव, प्रशंसा सम्बन्धी             1515\n",
       "कर्मचारी सम्वन्धी                           1337\n",
       "खानेपानी                                     863\n",
       "अर्थ सबन्धी                                  860\n",
       "स्वास्थ्यसँग सम्बन्धी                        694\n",
       "शान्ति सुरक्षा                               648\n",
       "सूचना तथा संचार                              640\n",
       "फोहोरमैला व्यवस्थापन                         630\n",
       "निर्माण कार्य सम्बन्धी                       605\n",
       "प्राकृतिक श्रोत/साधन सम्बन्धी                200\n",
       "लागु पदार्थ सम्बन्धी                         157\n",
       "अर्थिक अनियमितता तथा भ्रष्टाचार सम्बन्धी      71\n",
       "Name: count, dtype: int64"
      ]
     },
     "execution_count": 4,
     "metadata": {},
     "output_type": "execute_result"
    }
   ],
   "source": [
    "df['category'].value_counts()"
   ]
  },
  {
   "cell_type": "code",
   "execution_count": 6,
   "metadata": {},
   "outputs": [],
   "source": [
    "import pandas as pd\n",
    "\n",
    "# Specify the path to your .xlsx file\n",
    "xlsx_path = 'old_Dataset.xlsx'\n",
    "\n",
    "# Specify the path where the .csv file will be saved\n",
    "csv_path = 'old_Dataset.csv'\n",
    "\n",
    "# Load the Excel file\n",
    "df = pd.read_excel(xlsx_path)\n",
    "\n",
    "# Save the DataFrame to CSV\n",
    "df.to_csv(csv_path, index=False)  # Set index=False to exclude row indices in the CSV file\n"
   ]
  },
  {
   "cell_type": "code",
   "execution_count": 5,
   "metadata": {},
   "outputs": [
    {
     "name": "stdout",
     "output_type": "stream",
     "text": [
      "Collecting openpyxl\n",
      "  Using cached openpyxl-3.1.2-py2.py3-none-any.whl (249 kB)\n",
      "Collecting et-xmlfile\n",
      "  Using cached et_xmlfile-1.1.0-py3-none-any.whl (4.7 kB)\n",
      "Installing collected packages: et-xmlfile, openpyxl\n",
      "Successfully installed et-xmlfile-1.1.0 openpyxl-3.1.2\n"
     ]
    }
   ],
   "source": [
    "!pip3 install openpyxl"
   ]
  },
  {
   "cell_type": "code",
   "execution_count": 7,
   "metadata": {},
   "outputs": [
    {
     "data": {
      "text/plain": [
       "category\n",
       "वेबसाइट तथा अभिलेख व्यवस्थापन सम्बन्धी       2849\n",
       "सोधपुछ, सुझाव, प्रशंसा सम्बन्धी              1875\n",
       "पार्किङ्ग तथा मेट्रो पुलिस                   1702\n",
       "कर्मचारी सम्वन्धी                            1345\n",
       "स्वास्थ्यसँग सम्बन्धी                         970\n",
       "अर्थ सबन्धी                                   860\n",
       "खानेपानी सम्बन्धी                             765\n",
       "सूचना तथा  संचार सम्बन्धी                     639\n",
       "फोहोरमैला व्यवस्थापन                          630\n",
       "निर्माण कार्य सम्बन्धी                        604\n",
       "शान्ति सुरक्षा सम्बन्धी                       557\n",
       "प्राकृतिक श्रोत/साधन सम्बन्धी                 233\n",
       "लागु पदार्थ सम्बन्धी                          157\n",
       "अर्थिक अनियमितता तथा भ्रष्टाचार सम्बन्धी       71\n",
       "Name: count, dtype: int64"
      ]
     },
     "execution_count": 7,
     "metadata": {},
     "output_type": "execute_result"
    }
   ],
   "source": [
    "df1=pd.read_csv('old_Dataset.csv')\n",
    "df1[\"category\"].value_counts()\n"
   ]
  },
  {
   "cell_type": "code",
   "execution_count": 9,
   "metadata": {},
   "outputs": [
    {
     "data": {
      "text/plain": [
       "category\n",
       "वेबसाइट तथा अभिलेख व्यवस्थापन सम्बन्धी      2849\n",
       "पार्किङ्ग तथा मेट्रो पुलिस                  1701\n",
       "सोधपुछ, सुझाव, प्रशंसा सम्बन्धी             1515\n",
       "कर्मचारी सम्वन्धी                           1337\n",
       "अर्थ सबन्धी                                  860\n",
       "खानेपानी                                     800\n",
       "स्वास्थ्यसँग सम्बन्धी                        694\n",
       "सूचना तथा संचार                              640\n",
       "शान्ति सुरक्षा                               634\n",
       "फोहोरमैला व्यवस्थापन                         630\n",
       "निर्माण कार्य सम्बन्धी                       605\n",
       "प्राकृतिक श्रोत/साधन सम्बन्धी                200\n",
       "लागु पदार्थ सम्बन्धी                         157\n",
       "अर्थिक अनियमितता तथा भ्रष्टाचार सम्बन्धी      71\n",
       "Name: count, dtype: int64"
      ]
     },
     "execution_count": 9,
     "metadata": {},
     "output_type": "execute_result"
    }
   ],
   "source": [
    "df1=pd.read_csv('newdatalatest.csv')\n",
    "df1[\"category\"].value_counts()\n"
   ]
  },
  {
   "cell_type": "code",
   "execution_count": 2,
   "metadata": {},
   "outputs": [
    {
     "name": "stdout",
     "output_type": "stream",
     "text": [
      "Sampled dataset saved to ./data/incremental.csv\n"
     ]
    }
   ],
   "source": [
    "import pandas as pd\n",
    "import numpy as np\n",
    "\n",
    "# Load the dataset\n",
    "file_path = './data/dataset.csv'  # Change this to the path of your CSV file\n",
    "df = pd.read_csv(file_path)\n",
    "\n",
    "# Calculate the number of unique categories and determine how many samples per category are needed\n",
    "unique_categories = df['category'].unique()\n",
    "samples_per_category = 300 // len(unique_categories)\n",
    "\n",
    "# Sample data\n",
    "sampled_df = pd.DataFrame()\n",
    "for category in unique_categories:\n",
    "    category_samples = df[df['category'] == category].sample(n=samples_per_category, replace=True)\n",
    "    sampled_df = pd.concat([sampled_df, category_samples])\n",
    "\n",
    "# Adjust the total number of samples to exactly 300, if necessary\n",
    "total_samples_needed = 300 - sampled_df.shape[0]\n",
    "if total_samples_needed > 0:\n",
    "    additional_samples = df.sample(n=total_samples_needed, replace=True)\n",
    "    sampled_df = pd.concat([sampled_df, additional_samples])\n",
    "elif total_samples_needed < 0:\n",
    "    sampled_df = sampled_df.sample(n=300)\n",
    "\n",
    "# Reset the index for cleanliness\n",
    "sampled_df.reset_index(drop=True, inplace=True)\n",
    "\n",
    "# Save the sampled data to a new CSV file\n",
    "sampled_path = './data/incremental.csv'  # Change this to your desired output file path\n",
    "sampled_df.to_csv(sampled_path, index=False)\n",
    "\n",
    "print(f'Sampled dataset saved to {sampled_path}')\n"
   ]
  },
  {
   "cell_type": "code",
   "execution_count": 3,
   "metadata": {},
   "outputs": [],
   "source": [
    "df=pd.read_csv('./data/incremental.csv')"
   ]
  },
  {
   "cell_type": "code",
   "execution_count": 4,
   "metadata": {},
   "outputs": [
    {
     "data": {
      "text/html": [
       "<div>\n",
       "<style scoped>\n",
       "    .dataframe tbody tr th:only-of-type {\n",
       "        vertical-align: middle;\n",
       "    }\n",
       "\n",
       "    .dataframe tbody tr th {\n",
       "        vertical-align: top;\n",
       "    }\n",
       "\n",
       "    .dataframe thead th {\n",
       "        text-align: right;\n",
       "    }\n",
       "</style>\n",
       "<table border=\"1\" class=\"dataframe\">\n",
       "  <thead>\n",
       "    <tr style=\"text-align: right;\">\n",
       "      <th></th>\n",
       "      <th>category</th>\n",
       "      <th>complain</th>\n",
       "    </tr>\n",
       "  </thead>\n",
       "  <tbody>\n",
       "    <tr>\n",
       "      <th>0</th>\n",
       "      <td>अर्थ सबन्धी</td>\n",
       "      <td>मैले मेरो बुवाको २४ मार्च २०२१ मा मेरो डीईसको ...</td>\n",
       "    </tr>\n",
       "    <tr>\n",
       "      <th>1</th>\n",
       "      <td>अर्थ सबन्धी</td>\n",
       "      <td>suru maa 11.5 theyo interest , ra aaile 14.35 ...</td>\n",
       "    </tr>\n",
       "    <tr>\n",
       "      <th>2</th>\n",
       "      <td>अर्थ सबन्धी</td>\n",
       "      <td>खोइ त हेलो सरकार !!!!! मेरो कोरोना बिमा को भुक...</td>\n",
       "    </tr>\n",
       "    <tr>\n",
       "      <th>3</th>\n",
       "      <td>अर्थ सबन्धी</td>\n",
       "      <td>मेरो किस्पाङ पशु तथा कृषि फार्म प्रा.लि. को २०...</td>\n",
       "    </tr>\n",
       "    <tr>\n",
       "      <th>4</th>\n",
       "      <td>अर्थ सबन्धी</td>\n",
       "      <td>इन्सुरंस कम्पनि हरुले कोरोना बिमाको भुक्तानी ह...</td>\n",
       "    </tr>\n",
       "    <tr>\n",
       "      <th>...</th>\n",
       "      <td>...</td>\n",
       "      <td>...</td>\n",
       "    </tr>\n",
       "    <tr>\n",
       "      <th>295</th>\n",
       "      <td>वेबसाइट तथा अभिलेख व्यवस्थापन सम्बन्धी</td>\n",
       "      <td>नागरिक aap मा भएका document offline Pani देखिन...</td>\n",
       "    </tr>\n",
       "    <tr>\n",
       "      <th>296</th>\n",
       "      <td>अर्थिक अनियमितता तथा भ्रष्टाचार सम्बन्धी</td>\n",
       "      <td>नेपाल सरकारले covid 19 को 2 वटा खोप लगायको सर्...</td>\n",
       "    </tr>\n",
       "    <tr>\n",
       "      <th>297</th>\n",
       "      <td>सोधपुछ, सुझाव, प्रशंसा सम्बन्धी</td>\n",
       "      <td>स्वास्थ्य सेवा दिनु भनेको एउटा विशुद्ध सेवा मु...</td>\n",
       "    </tr>\n",
       "    <tr>\n",
       "      <th>298</th>\n",
       "      <td>फोहोरमैला व्यवस्थापन</td>\n",
       "      <td>वानेश्वर तिनकुने गौरी मार्गमा एक हप्ता देखी फो...</td>\n",
       "    </tr>\n",
       "    <tr>\n",
       "      <th>299</th>\n",
       "      <td>वेबसाइट तथा अभिलेख व्यवस्थापन सम्बन्धी</td>\n",
       "      <td>मेरो नागरिकता नम्बर ९३०२ को अंग्रेजी नाम जाम्भ...</td>\n",
       "    </tr>\n",
       "  </tbody>\n",
       "</table>\n",
       "<p>300 rows × 2 columns</p>\n",
       "</div>"
      ],
      "text/plain": [
       "                                     category  \\\n",
       "0                                 अर्थ सबन्धी   \n",
       "1                                 अर्थ सबन्धी   \n",
       "2                                 अर्थ सबन्धी   \n",
       "3                                 अर्थ सबन्धी   \n",
       "4                                 अर्थ सबन्धी   \n",
       "..                                        ...   \n",
       "295    वेबसाइट तथा अभिलेख व्यवस्थापन सम्बन्धी   \n",
       "296  अर्थिक अनियमितता तथा भ्रष्टाचार सम्बन्धी   \n",
       "297           सोधपुछ, सुझाव, प्रशंसा सम्बन्धी   \n",
       "298                      फोहोरमैला व्यवस्थापन   \n",
       "299    वेबसाइट तथा अभिलेख व्यवस्थापन सम्बन्धी   \n",
       "\n",
       "                                              complain  \n",
       "0    मैले मेरो बुवाको २४ मार्च २०२१ मा मेरो डीईसको ...  \n",
       "1    suru maa 11.5 theyo interest , ra aaile 14.35 ...  \n",
       "2    खोइ त हेलो सरकार !!!!! मेरो कोरोना बिमा को भुक...  \n",
       "3    मेरो किस्पाङ पशु तथा कृषि फार्म प्रा.लि. को २०...  \n",
       "4    इन्सुरंस कम्पनि हरुले कोरोना बिमाको भुक्तानी ह...  \n",
       "..                                                 ...  \n",
       "295  नागरिक aap मा भएका document offline Pani देखिन...  \n",
       "296  नेपाल सरकारले covid 19 को 2 वटा खोप लगायको सर्...  \n",
       "297  स्वास्थ्य सेवा दिनु भनेको एउटा विशुद्ध सेवा मु...  \n",
       "298  वानेश्वर तिनकुने गौरी मार्गमा एक हप्ता देखी फो...  \n",
       "299  मेरो नागरिकता नम्बर ९३०२ को अंग्रेजी नाम जाम्भ...  \n",
       "\n",
       "[300 rows x 2 columns]"
      ]
     },
     "execution_count": 4,
     "metadata": {},
     "output_type": "execute_result"
    }
   ],
   "source": [
    "df"
   ]
  },
  {
   "cell_type": "code",
   "execution_count": 5,
   "metadata": {},
   "outputs": [
    {
     "data": {
      "text/plain": [
       "category\n",
       "वेबसाइट तथा अभिलेख व्यवस्थापन सम्बन्धी      23\n",
       "अर्थिक अनियमितता तथा भ्रष्टाचार सम्बन्धी    22\n",
       "पार्किङ्ग तथा मेट्रो पुलिस                  22\n",
       "फोहोरमैला व्यवस्थापन                        22\n",
       "सोधपुछ, सुझाव, प्रशंसा सम्बन्धी             22\n",
       "अर्थ सबन्धी                                 21\n",
       "कर्मचारी सम्वन्धी                           21\n",
       "खानेपानी                                    21\n",
       "निर्माण कार्य सम्बन्धी                      21\n",
       "प्राकृतिक श्रोत/साधन सम्बन्धी               21\n",
       "लागु पदार्थ सम्बन्धी                        21\n",
       "शान्ति सुरक्षा                              21\n",
       "सूचना तथा संचार                             21\n",
       "स्वास्थ्यसँग सम्बन्धी                       21\n",
       "Name: count, dtype: int64"
      ]
     },
     "execution_count": 5,
     "metadata": {},
     "output_type": "execute_result"
    }
   ],
   "source": [
    "df[\"category\"].value_counts()"
   ]
  },
  {
   "cell_type": "code",
   "execution_count": 1,
   "metadata": {},
   "outputs": [
    {
     "ename": "ModuleNotFoundError",
     "evalue": "No module named 'matplotlib'",
     "output_type": "error",
     "traceback": [
      "\u001b[0;31m---------------------------------------------------------------------------\u001b[0m",
      "\u001b[0;31mModuleNotFoundError\u001b[0m                       Traceback (most recent call last)",
      "Cell \u001b[0;32mIn[1], line 1\u001b[0m\n\u001b[0;32m----> 1\u001b[0m \u001b[38;5;28;01mimport\u001b[39;00m \u001b[38;5;21;01mmatplotlib\u001b[39;00m\u001b[38;5;21;01m.\u001b[39;00m\u001b[38;5;21;01mpyplot\u001b[39;00m \u001b[38;5;28;01mas\u001b[39;00m \u001b[38;5;21;01mplt\u001b[39;00m\n\u001b[1;32m      2\u001b[0m \u001b[38;5;28;01mimport\u001b[39;00m \u001b[38;5;21;01mpandas\u001b[39;00m \u001b[38;5;28;01mas\u001b[39;00m \u001b[38;5;21;01mpd\u001b[39;00m\n\u001b[1;32m      4\u001b[0m \u001b[38;5;66;03m# Data from the training results\u001b[39;00m\n",
      "\u001b[0;31mModuleNotFoundError\u001b[0m: No module named 'matplotlib'"
     ]
    }
   ],
   "source": [
    "import matplotlib.pyplot as plt\n",
    "import pandas as pd\n",
    "\n",
    "# Data from the training results\n",
    "data = {\n",
    "    'Epoch': [0.22, 0.45, 0.67, 0.89, 1.11, 1.34, 1.56, 1.78, 2.01, 2.23, 2.45, 2.67, 2.9, 3.12, 3.34, 3.57, 3.79, 4.01, 4.23, 4.46, 4.68, 4.9],\n",
    "    'Training Loss': [1.4921, 0.7781, 0.5865, 0.4625, 0.3648, 0.3001, 0.2723, 0.2538, 0.231, 0.1478, 0.1666, 0.1519, 0.1498, 0.1112, 0.0903, 0.1036, 0.1043, 0.0972, 0.0663, 0.0683, 0.0671, 0.0605],\n",
    "    'Validation Loss': [0.8642, 0.6241, 0.5342, 0.4250, 0.3856, 0.3424, 0.3199, 0.2898, 0.2676, 0.3029, 0.2580, 0.2573, 0.2746, 0.2564, 0.2726, 0.2664, 0.2614, 0.2499, 0.2643, 0.2688, 0.2657, 0.2687],\n",
    "    'Accuracy': [0.7235, 0.7974, 0.8243, 0.8576, 0.8759, 0.8899, 0.9007, 0.9085, 0.9203, 0.9210, 0.9283, 0.9308, 0.9328, 0.9398, 0.9403, 0.9398, 0.9459, 0.9453, 0.9469, 0.9474, 0.9491, 0.9494],\n",
    "    'F1-score': [0.7143, 0.7923, 0.8125, 0.8553, 0.8725, 0.8891, 0.8981, 0.9066, 0.9189, 0.9187, 0.9271, 0.9292, 0.9306, 0.9389, 0.9393, 0.9385, 0.9447, 0.9443, 0.9458, 0.9462, 0.9481, 0.9483]\n",
    "}\n",
    "\n",
    "df = pd.DataFrame(data)\n",
    "\n",
    "# Plotting\n",
    "plt.figure(figsize=(12, 8))\n",
    "\n",
    "plt.plot(df['Epoch'], df['Training Loss'], label='Training Loss', marker='o')\n",
    "plt.plot(df['Epoch'], df['Validation Loss'], label='Validation Loss', marker='x')\n",
    "plt.plot(df['Epoch'], df['Accuracy'], label='Accuracy', linestyle='--')\n",
    "plt.plot(df['Epoch'], df['F1-score'], label='F1-score', linestyle=':')\n",
    "\n",
    "plt.title('Training Progress of nepali_complaints_classification_nepbert3')\n",
    "plt.xlabel('Epoch')\n",
    "plt.ylabel('Values')\n",
    "plt.legend()\n",
    "plt.grid(True)\n",
    "\n",
    "plt.show()\n"
   ]
  },
  {
   "cell_type": "code",
   "execution_count": null,
   "metadata": {},
   "outputs": [],
   "source": []
  }
 ],
 "metadata": {
  "kernelspec": {
   "display_name": "venv",
   "language": "python",
   "name": "python3"
  },
  "language_info": {
   "codemirror_mode": {
    "name": "ipython",
    "version": 3
   },
   "file_extension": ".py",
   "mimetype": "text/x-python",
   "name": "python",
   "nbconvert_exporter": "python",
   "pygments_lexer": "ipython3",
   "version": "3.10.12"
  }
 },
 "nbformat": 4,
 "nbformat_minor": 2
}
