{
 "cells": [
  {
   "cell_type": "code",
   "execution_count": 1,
   "metadata": {},
   "outputs": [],
   "source": [
    "import pandas as pd\n",
    "import numpy as np\n"
   ]
  },
  {
   "cell_type": "code",
   "execution_count": 2,
   "metadata": {},
   "outputs": [],
   "source": [
    "pd.set_option('display.max_colwidth',None)  "
   ]
  },
  {
   "cell_type": "code",
   "execution_count": 3,
   "metadata": {},
   "outputs": [],
   "source": [
    "df=pd.read_excel(\"dataset/FINAL.xlsx\")"
   ]
  },
  {
   "cell_type": "code",
   "execution_count": 4,
   "metadata": {},
   "outputs": [],
   "source": [
    "import nltk\n",
    "from nltk.corpus import stopwords\n",
    "from nltk.tokenize import word_tokenize\n",
    "import re"
   ]
  },
  {
   "cell_type": "code",
   "execution_count": 5,
   "metadata": {},
   "outputs": [],
   "source": [
    "nepali_stopwords = set(stopwords.words('nepali'))"
   ]
  },
  {
   "cell_type": "code",
   "execution_count": 6,
   "metadata": {},
   "outputs": [],
   "source": [
    "english_stopwords = set(stopwords.words('english'))"
   ]
  },
  {
   "cell_type": "code",
   "execution_count": 7,
   "metadata": {},
   "outputs": [],
   "source": [
    "def preprocess_text(text):\n",
    "    # Convert to lowercase\n",
    "    text = text.lower()\n",
    "    # Remove specified characters\n",
    "    text = re.sub('[#\\\\/।(),०-९<<?!,—–’‘:\\u200d]', '', text)\n",
    "    # Strip double quotes\n",
    "    text = text.strip('\"')\n",
    "\n",
    "    # Tokenize the text\n",
    "    words=word_tokenize(text)\n",
    "    # Remove stop words for both Nepali and English\n",
    "    filtered_words = [word for word in words if word.lower() not in nepali_stopwords and word.lower() not in english_stopwords]\n",
    "    # Join the filtered words to form the processed text\n",
    "    processed_text = ' '.join(filtered_words)\n",
    "    return processed_text\n"
   ]
  },
  {
   "cell_type": "code",
   "execution_count": 8,
   "metadata": {},
   "outputs": [],
   "source": [
    "df['गुनासो'] = df['गुनासो'].apply(preprocess_text)\n"
   ]
  },
  {
   "cell_type": "code",
   "execution_count": 9,
   "metadata": {},
   "outputs": [],
   "source": [
    "from sklearn.model_selection import train_test_split"
   ]
  },
  {
   "cell_type": "code",
   "execution_count": 10,
   "metadata": {},
   "outputs": [
    {
     "data": {
      "text/html": [
       "<div>\n",
       "<style scoped>\n",
       "    .dataframe tbody tr th:only-of-type {\n",
       "        vertical-align: middle;\n",
       "    }\n",
       "\n",
       "    .dataframe tbody tr th {\n",
       "        vertical-align: top;\n",
       "    }\n",
       "\n",
       "    .dataframe thead th {\n",
       "        text-align: right;\n",
       "    }\n",
       "</style>\n",
       "<table border=\"1\" class=\"dataframe\">\n",
       "  <thead>\n",
       "    <tr style=\"text-align: right;\">\n",
       "      <th></th>\n",
       "      <th>गुनासो वर्ग</th>\n",
       "      <th>गुनासो</th>\n",
       "      <th>गुनासो वर्ग no</th>\n",
       "    </tr>\n",
       "  </thead>\n",
       "  <tbody>\n",
       "    <tr>\n",
       "      <th>6681</th>\n",
       "      <td>वेबसाइट तथा अभिलेख व्यवस्थापन सम्बन्धी</td>\n",
       "      <td>mero voter id address different dekhauxa .....</td>\n",
       "      <td>9</td>\n",
       "    </tr>\n",
       "    <tr>\n",
       "      <th>9406</th>\n",
       "      <td>शान्ति सुरक्षा सम्बन्धी</td>\n",
       "      <td>error paying customer .i paid basis error commission twice sunrise bank ltd.\\no.i.-suman tiwari.\\no.i.-arbin singh chettri.\\nrespectively.\\non disdaining &amp; slapped .</td>\n",
       "      <td>10</td>\n",
       "    </tr>\n",
       "    <tr>\n",
       "      <th>5125</th>\n",
       "      <td>सूचना तथा  संचार सम्बन्धी</td>\n",
       "      <td>pratek maina 2- 3 din network lae kam gardaina kina hola . sarkari company lai dharashai bhanaune chalkel ho ki aru nai ke karan ho</td>\n",
       "      <td>7</td>\n",
       "    </tr>\n",
       "    <tr>\n",
       "      <th>5611</th>\n",
       "      <td>स्वास्थ्यसँग सम्बन्धी</td>\n",
       "      <td>madhumalla health post upgrade hospital soon podsible . beleoved late grandfather wish . gave area build hospital . keep one permanent physican doctor .</td>\n",
       "      <td>8</td>\n",
       "    </tr>\n",
       "    <tr>\n",
       "      <th>3432</th>\n",
       "      <td>सोधपुछ, सुझाव, प्रशंसा सम्बन्धी</td>\n",
       "      <td>mero citizenship link garnu apryo app</td>\n",
       "      <td>5</td>\n",
       "    </tr>\n",
       "  </tbody>\n",
       "</table>\n",
       "</div>"
      ],
      "text/plain": [
       "                                  गुनासो वर्ग  \\\n",
       "6681  वेबसाइट तथा अभिलेख व्यवस्थापन सम्बन्धी    \n",
       "9406                 शान्ति सुरक्षा सम्बन्धी    \n",
       "5125                सूचना तथा  संचार सम्बन्धी   \n",
       "5611                    स्वास्थ्यसँग सम्बन्धी   \n",
       "3432          सोधपुछ, सुझाव, प्रशंसा सम्बन्धी   \n",
       "\n",
       "                                                                                                                                                                     गुनासो  \\\n",
       "6681                                                                                                                         mero voter id address different dekhauxa .....   \n",
       "9406  error paying customer .i paid basis error commission twice sunrise bank ltd.\\no.i.-suman tiwari.\\no.i.-arbin singh chettri.\\nrespectively.\\non disdaining & slapped .   \n",
       "5125                                    pratek maina 2- 3 din network lae kam gardaina kina hola . sarkari company lai dharashai bhanaune chalkel ho ki aru nai ke karan ho   \n",
       "5611               madhumalla health post upgrade hospital soon podsible . beleoved late grandfather wish . gave area build hospital . keep one permanent physican doctor .   \n",
       "3432                                                                                                                                  mero citizenship link garnu apryo app   \n",
       "\n",
       "      गुनासो वर्ग no  \n",
       "6681               9  \n",
       "9406              10  \n",
       "5125               7  \n",
       "5611               8  \n",
       "3432               5  "
      ]
     },
     "execution_count": 10,
     "metadata": {},
     "output_type": "execute_result"
    }
   ],
   "source": [
    "df['गुनासो वर्ग no']=df['गुनासो वर्ग'].map({\n",
    "    'लागु पदार्थ सम्बन्धी ':0,\n",
    "    'प्राकृतिक श्रोत/साधन सम्बन्धी':1,\n",
    "    'अर्थिक अनियमितता तथा भ्रष्टाचार सम्बन्धी ':2,\n",
    "    'कर्मचारी सम्वन्धी ':3,\n",
    "    'अर्थ सबन्धी ':4,\n",
    "    'सोधपुछ, सुझाव, प्रशंसा सम्बन्धी':5,\n",
    "    'सूचना तथा  संचार सम्बन्धी ':6,\n",
    "   'सूचना तथा  संचार सम्बन्धी':7,\n",
    "    'स्वास्थ्यसँग सम्बन्धी':8,\n",
    "    'वेबसाइट तथा अभिलेख व्यवस्थापन सम्बन्धी ':9,\n",
    "    'शान्ति सुरक्षा सम्बन्धी ':10,\n",
    "    'खानेपानी सम्बन्धी ':11,\n",
    "\n",
    "})\n",
    "df.sample(5)"
   ]
  },
  {
   "cell_type": "code",
   "execution_count": 11,
   "metadata": {},
   "outputs": [
    {
     "data": {
      "text/plain": [
       "(2863, 3)"
      ]
     },
     "execution_count": 11,
     "metadata": {},
     "output_type": "execute_result"
    }
   ],
   "source": [
    "df_1=df[df['गुनासो वर्ग']=='वेबसाइट तथा अभिलेख व्यवस्थापन सम्बन्धी ']\n",
    "df_1.shape"
   ]
  },
  {
   "cell_type": "code",
   "execution_count": 12,
   "metadata": {},
   "outputs": [
    {
     "data": {
      "text/plain": [
       "(2863, 3)"
      ]
     },
     "execution_count": 12,
     "metadata": {},
     "output_type": "execute_result"
    }
   ],
   "source": [
    "df_2=df[df['गुनासो वर्ग']=='सोधपुछ, सुझाव, प्रशंसा सम्बन्धी'].sample(2863,replace=True)\n",
    "df_2 = df_2.reset_index(drop=True)\n",
    "df_2.shape"
   ]
  },
  {
   "cell_type": "code",
   "execution_count": 13,
   "metadata": {},
   "outputs": [
    {
     "data": {
      "text/plain": [
       "(2863, 3)"
      ]
     },
     "execution_count": 13,
     "metadata": {},
     "output_type": "execute_result"
    }
   ],
   "source": [
    "df_3=df[df['गुनासो वर्ग']=='कर्मचारी सम्वन्धी '].sample(2863,replace=True)\n",
    "df_3 = df_3.reset_index(drop=True)\n",
    "df_3.shape"
   ]
  },
  {
   "cell_type": "code",
   "execution_count": 14,
   "metadata": {},
   "outputs": [
    {
     "data": {
      "text/plain": [
       "(2863, 3)"
      ]
     },
     "execution_count": 14,
     "metadata": {},
     "output_type": "execute_result"
    }
   ],
   "source": [
    "df_4=df[df['गुनासो वर्ग']=='स्वास्थ्यसँग सम्बन्धी'].sample(2863,replace=True)\n",
    "df_4 = df_4.reset_index(drop=True)\n",
    "df_4.shape\n"
   ]
  },
  {
   "cell_type": "code",
   "execution_count": 15,
   "metadata": {},
   "outputs": [
    {
     "data": {
      "text/plain": [
       "(2863, 3)"
      ]
     },
     "execution_count": 15,
     "metadata": {},
     "output_type": "execute_result"
    }
   ],
   "source": [
    "df_5=df[df['गुनासो वर्ग']=='अर्थ सबन्धी '].sample(2863,replace=True)\n",
    "df_5 = df_5.reset_index(drop=True)\n",
    "df_5.shape"
   ]
  },
  {
   "cell_type": "code",
   "execution_count": 16,
   "metadata": {},
   "outputs": [
    {
     "data": {
      "text/plain": [
       "(2863, 3)"
      ]
     },
     "execution_count": 16,
     "metadata": {},
     "output_type": "execute_result"
    }
   ],
   "source": [
    "df_6=df[df['गुनासो वर्ग']=='खानेपानी सम्बन्धी '].sample(2863,replace=True)\n",
    "df_6 = df_6.reset_index(drop=True)\n",
    "df_6.shape"
   ]
  },
  {
   "cell_type": "code",
   "execution_count": 17,
   "metadata": {},
   "outputs": [
    {
     "data": {
      "text/plain": [
       "(2863, 3)"
      ]
     },
     "execution_count": 17,
     "metadata": {},
     "output_type": "execute_result"
    }
   ],
   "source": [
    "df_7=df[df['गुनासो वर्ग']=='सूचना तथा  संचार सम्बन्धी'].sample(2863,replace=True)\n",
    "df_7 = df_7.reset_index(drop=True)\n",
    "df_7.shape"
   ]
  },
  {
   "cell_type": "code",
   "execution_count": 18,
   "metadata": {},
   "outputs": [
    {
     "data": {
      "text/plain": [
       "(2863, 3)"
      ]
     },
     "execution_count": 18,
     "metadata": {},
     "output_type": "execute_result"
    }
   ],
   "source": [
    "df_8=df[df['गुनासो वर्ग']=='शान्ति सुरक्षा सम्बन्धी '].sample(2863,replace=True)\n",
    "df_8 = df_8.reset_index(drop=True)\n",
    "df_8.shape"
   ]
  },
  {
   "cell_type": "code",
   "execution_count": 19,
   "metadata": {},
   "outputs": [
    {
     "data": {
      "text/plain": [
       "(2863, 3)"
      ]
     },
     "execution_count": 19,
     "metadata": {},
     "output_type": "execute_result"
    }
   ],
   "source": [
    "df_9=df[df['गुनासो वर्ग']=='प्राकृतिक श्रोत/साधन सम्बन्धी'].sample(2863,replace=True)\n",
    "df_9 =df_9.reset_index(drop=True)\n",
    "df_9.shape"
   ]
  },
  {
   "cell_type": "code",
   "execution_count": 20,
   "metadata": {},
   "outputs": [
    {
     "data": {
      "text/plain": [
       "(2863, 3)"
      ]
     },
     "execution_count": 20,
     "metadata": {},
     "output_type": "execute_result"
    }
   ],
   "source": [
    "df_10=df[df['गुनासो वर्ग']=='लागु पदार्थ सम्बन्धी '].sample(2863,replace=True)\n",
    "df_10 = df_10.reset_index(drop=True)\n",
    "df_10.shape"
   ]
  },
  {
   "cell_type": "code",
   "execution_count": 21,
   "metadata": {},
   "outputs": [
    {
     "data": {
      "text/plain": [
       "(2863, 3)"
      ]
     },
     "execution_count": 21,
     "metadata": {},
     "output_type": "execute_result"
    }
   ],
   "source": [
    "df_11=df[df['गुनासो वर्ग']=='अर्थिक अनियमितता तथा भ्रष्टाचार सम्बन्धी '].sample(2863,replace=True)\n",
    "df_11 = df_11.reset_index(drop=True)\n",
    "df_11.shape"
   ]
  },
  {
   "cell_type": "code",
   "execution_count": 22,
   "metadata": {},
   "outputs": [
    {
     "data": {
      "text/plain": [
       "(2863, 3)"
      ]
     },
     "execution_count": 22,
     "metadata": {},
     "output_type": "execute_result"
    }
   ],
   "source": [
    "df_12=df[df['गुनासो वर्ग']=='सूचना तथा  संचार सम्बन्धी'].sample(2863,replace=True)\n",
    "df_12 = df_12.reset_index(drop=True)\n",
    "df_12.shape"
   ]
  },
  {
   "cell_type": "code",
   "execution_count": 23,
   "metadata": {},
   "outputs": [],
   "source": [
    "df_final=pd.concat([df_1,df_2,df_3,df_4,df_5,df_6,df_7,df_8,df_9,df_10,df_11,df_12],axis=0)"
   ]
  },
  {
   "cell_type": "code",
   "execution_count": 24,
   "metadata": {},
   "outputs": [
    {
     "data": {
      "text/plain": [
       "(34356, 3)"
      ]
     },
     "execution_count": 24,
     "metadata": {},
     "output_type": "execute_result"
    }
   ],
   "source": [
    "df_final.shape"
   ]
  },
  {
   "cell_type": "code",
   "execution_count": 25,
   "metadata": {},
   "outputs": [
    {
     "data": {
      "text/plain": [
       "34356"
      ]
     },
     "execution_count": 25,
     "metadata": {},
     "output_type": "execute_result"
    }
   ],
   "source": [
    "2863*12\n"
   ]
  },
  {
   "cell_type": "code",
   "execution_count": 26,
   "metadata": {},
   "outputs": [],
   "source": [
    "X=df_final['गुनासो']\n",
    "y=df_final['गुनासो वर्ग no']"
   ]
  },
  {
   "cell_type": "code",
   "execution_count": 27,
   "metadata": {},
   "outputs": [],
   "source": [
    "X_train,X_test,y_train,y_test=train_test_split(X,y,test_size=0.2,random_state=0)"
   ]
  },
  {
   "cell_type": "code",
   "execution_count": 28,
   "metadata": {},
   "outputs": [],
   "source": [
    "from sklearn.feature_extraction.text import TfidfVectorizer"
   ]
  },
  {
   "cell_type": "code",
   "execution_count": 29,
   "metadata": {},
   "outputs": [],
   "source": [
    "from sklearn.pipeline import Pipeline\n",
    "from sklearn.naive_bayes import MultinomialNB\n",
    "from sklearn.ensemble import RandomForestClassifier\n",
    "from sklearn.metrics import classification_report"
   ]
  },
  {
   "cell_type": "code",
   "execution_count": 30,
   "metadata": {},
   "outputs": [
    {
     "name": "stdout",
     "output_type": "stream",
     "text": [
      "              precision    recall  f1-score   support\n",
      "\n",
      "           0       1.00      1.00      1.00       554\n",
      "           1       1.00      1.00      1.00       587\n",
      "           2       1.00      1.00      1.00       596\n",
      "           3       0.89      0.91      0.90       591\n",
      "           4       0.96      0.95      0.96       569\n",
      "           5       0.84      0.75      0.79       564\n",
      "           7       0.98      1.00      0.99      1109\n",
      "           8       0.95      0.97      0.96       543\n",
      "           9       0.83      0.83      0.83       568\n",
      "          10       1.00      0.98      0.99       598\n",
      "          11       0.95      0.99      0.97       593\n",
      "\n",
      "    accuracy                           0.95      6872\n",
      "   macro avg       0.94      0.94      0.94      6872\n",
      "weighted avg       0.95      0.95      0.95      6872\n",
      "\n"
     ]
    }
   ],
   "source": [
    "clf=Pipeline([\n",
    "    ('vectorizer_tfidf',TfidfVectorizer()),\n",
    "    ('random_forest',RandomForestClassifier())\n",
    "])\n",
    "clf.fit(X_train,y_train)\n",
    "y_pred=clf.predict(X_test)\n",
    "print(classification_report(y_test,y_pred))"
   ]
  },
  {
   "cell_type": "code",
   "execution_count": 31,
   "metadata": {},
   "outputs": [
    {
     "data": {
      "text/plain": [
       "2542    10\n",
       "2390     3\n",
       "2809     7\n",
       "926     11\n",
       "940     11\n",
       "Name: गुनासो वर्ग no, dtype: int64"
      ]
     },
     "execution_count": 31,
     "metadata": {},
     "output_type": "execute_result"
    }
   ],
   "source": [
    "y_test[:5]\n"
   ]
  },
  {
   "cell_type": "code",
   "execution_count": 32,
   "metadata": {},
   "outputs": [
    {
     "data": {
      "text/plain": [
       "array([10,  3,  7, 11, 11])"
      ]
     },
     "execution_count": 32,
     "metadata": {},
     "output_type": "execute_result"
    }
   ],
   "source": [
    "y_pred[:5]"
   ]
  },
  {
   "cell_type": "code",
   "execution_count": 33,
   "metadata": {},
   "outputs": [],
   "source": [
    "test_text='बिगत ६ महिना देखि UAE मा अलपत्र परेका शिव बच्चन रौनियार, विदेश पठाउनलाई मेन पावरले २ लाख रुपैया लिएको, कम्पनीमा गएर २ घण्टा मात्र काम गर्न लगाएर काम बांट निकालदिएको। बारमबार BBC र News channel बांट उदार गर्ने भनि डकुमेन्टरी आएर पनि, UAE स्थित नेपाली एम्बेसीले जिम्मा लिएर पनि, दुई दुई पटक एयरपोर्ट बांट फिर्ता जानु परेर हाल सम्म‌ उदार हुन नसकेको अवस्था छ, वहाको परिवारमा धेरै दयनिय अवस्था छ। याहाहरु बांट अंन्तिम आशा छ कि वहाको उदार होस । हजुरहरुको जवाफको प्रतिक्षामा । धन्यवाद। पिडितको नाम :शिव बच्चन रौनियार ठेगाना :कलैया उपमहानगरपालिका-९,बारा हाल : यु ए ई मा ६ महिना देखि अलपत्र ह्वाटस्प न: 9865333333'"
   ]
  },
  {
   "cell_type": "code",
   "execution_count": 34,
   "metadata": {},
   "outputs": [],
   "source": [
    "pred=clf.predict([test_text])"
   ]
  },
  {
   "cell_type": "code",
   "execution_count": 35,
   "metadata": {},
   "outputs": [
    {
     "data": {
      "text/plain": [
       "array([5])"
      ]
     },
     "execution_count": 35,
     "metadata": {},
     "output_type": "execute_result"
    }
   ],
   "source": [
    "pred"
   ]
  },
  {
   "cell_type": "code",
   "execution_count": 36,
   "metadata": {},
   "outputs": [],
   "source": [
    "from gensim.models import Word2Vec"
   ]
  },
  {
   "cell_type": "code",
   "execution_count": 37,
   "metadata": {},
   "outputs": [],
   "source": [
    "model = Word2Vec(sentences=df['गुनासो'], vector_size=100, window=5, min_count=1, workers=4)"
   ]
  },
  {
   "cell_type": "code",
   "execution_count": 38,
   "metadata": {},
   "outputs": [],
   "source": [
    "def text_to_vector(text):\n",
    "    vector = np.zeros(model.vector_size)\n",
    "    count = 0\n",
    "    for word in text:\n",
    "        if word in model.wv:\n",
    "            vector += model.wv[word]\n",
    "            count += 1\n",
    "    if count != 0:\n",
    "        vector /= count\n",
    "    return vector\n"
   ]
  },
  {
   "cell_type": "code",
   "execution_count": 39,
   "metadata": {},
   "outputs": [
    {
     "data": {
      "text/plain": [
       "array([-0.45174699,  0.03092936,  0.15116063,  0.34442481, -0.01424103,\n",
       "        0.04766228,  0.0663394 ,  0.16198674, -0.4530708 , -0.42742902,\n",
       "        0.18304808, -0.17488931, -0.12907284,  0.10301939,  0.02161303,\n",
       "        0.43539804,  0.48203855,  0.25957606, -0.10646672, -0.18419296,\n",
       "       -0.16323378,  0.08559945,  0.31866736,  0.08813356,  0.40474231,\n",
       "        0.44266875,  0.24217436,  0.00796378, -0.07483709,  0.18994797,\n",
       "       -0.18462641,  0.21231188, -0.02373478,  0.11072595, -0.19557682,\n",
       "        0.02455834,  0.43303517, -0.25636889,  0.31243941,  0.6201887 ,\n",
       "        0.32294287,  0.2024299 , -0.28878903, -0.13582053, -0.10402035,\n",
       "        0.37877804,  0.0314747 ,  0.12442988, -0.26252799, -0.40974101,\n",
       "       -0.07477982,  0.33378025, -0.16170068,  0.53405573, -0.02723502,\n",
       "       -0.47005404,  0.16511566, -0.03705193,  0.51485708,  0.32086139,\n",
       "        0.10528897,  0.15727918, -0.15679612, -0.11294041,  0.18103292,\n",
       "       -0.44297798,  0.097349  , -0.53470506,  0.68960636,  0.06156635,\n",
       "        0.29477371, -0.21082041, -0.37209627, -0.18454046, -0.36497666,\n",
       "       -0.01487223,  0.08066274, -0.04662301,  0.11588584, -0.27605203,\n",
       "        0.05509976, -0.2595114 ,  0.56852533, -0.19013354,  0.22337509,\n",
       "       -0.04418293,  0.26184203,  0.05268933, -0.33341499, -0.16004008,\n",
       "       -0.29035174,  0.10002412, -0.04232147,  0.11337416,  0.25378162,\n",
       "       -0.3448339 ,  0.17171795, -0.06993759,  0.06283868,  0.31851675])"
      ]
     },
     "execution_count": 39,
     "metadata": {},
     "output_type": "execute_result"
    }
   ],
   "source": [
    "text_to_vector(df['गुनासो'][3])"
   ]
  },
  {
   "cell_type": "code",
   "execution_count": 40,
   "metadata": {},
   "outputs": [],
   "source": [
    "df['गुनासो vector'] = df['गुनासो'].apply(text_to_vector)\n"
   ]
  },
  {
   "cell_type": "code",
   "execution_count": 41,
   "metadata": {},
   "outputs": [],
   "source": [
    "from sklearn.preprocessing import LabelEncoder\n"
   ]
  },
  {
   "cell_type": "code",
   "execution_count": 42,
   "metadata": {},
   "outputs": [],
   "source": [
    "X = np.stack(df['गुनासो vector'].to_numpy())\n",
    "le = LabelEncoder()\n",
    "y = le.fit_transform(df['गुनासो वर्ग no']) "
   ]
  },
  {
   "cell_type": "code",
   "execution_count": 43,
   "metadata": {},
   "outputs": [],
   "source": [
    "X_train, X_test, y_train, y_test = train_test_split(X, y, test_size=0.2, random_state=42)\n"
   ]
  },
  {
   "cell_type": "code",
   "execution_count": 44,
   "metadata": {},
   "outputs": [
    {
     "data": {
      "text/html": [
       "<style>#sk-container-id-1 {color: black;}#sk-container-id-1 pre{padding: 0;}#sk-container-id-1 div.sk-toggleable {background-color: white;}#sk-container-id-1 label.sk-toggleable__label {cursor: pointer;display: block;width: 100%;margin-bottom: 0;padding: 0.3em;box-sizing: border-box;text-align: center;}#sk-container-id-1 label.sk-toggleable__label-arrow:before {content: \"▸\";float: left;margin-right: 0.25em;color: #696969;}#sk-container-id-1 label.sk-toggleable__label-arrow:hover:before {color: black;}#sk-container-id-1 div.sk-estimator:hover label.sk-toggleable__label-arrow:before {color: black;}#sk-container-id-1 div.sk-toggleable__content {max-height: 0;max-width: 0;overflow: hidden;text-align: left;background-color: #f0f8ff;}#sk-container-id-1 div.sk-toggleable__content pre {margin: 0.2em;color: black;border-radius: 0.25em;background-color: #f0f8ff;}#sk-container-id-1 input.sk-toggleable__control:checked~div.sk-toggleable__content {max-height: 200px;max-width: 100%;overflow: auto;}#sk-container-id-1 input.sk-toggleable__control:checked~label.sk-toggleable__label-arrow:before {content: \"▾\";}#sk-container-id-1 div.sk-estimator input.sk-toggleable__control:checked~label.sk-toggleable__label {background-color: #d4ebff;}#sk-container-id-1 div.sk-label input.sk-toggleable__control:checked~label.sk-toggleable__label {background-color: #d4ebff;}#sk-container-id-1 input.sk-hidden--visually {border: 0;clip: rect(1px 1px 1px 1px);clip: rect(1px, 1px, 1px, 1px);height: 1px;margin: -1px;overflow: hidden;padding: 0;position: absolute;width: 1px;}#sk-container-id-1 div.sk-estimator {font-family: monospace;background-color: #f0f8ff;border: 1px dotted black;border-radius: 0.25em;box-sizing: border-box;margin-bottom: 0.5em;}#sk-container-id-1 div.sk-estimator:hover {background-color: #d4ebff;}#sk-container-id-1 div.sk-parallel-item::after {content: \"\";width: 100%;border-bottom: 1px solid gray;flex-grow: 1;}#sk-container-id-1 div.sk-label:hover label.sk-toggleable__label {background-color: #d4ebff;}#sk-container-id-1 div.sk-serial::before {content: \"\";position: absolute;border-left: 1px solid gray;box-sizing: border-box;top: 0;bottom: 0;left: 50%;z-index: 0;}#sk-container-id-1 div.sk-serial {display: flex;flex-direction: column;align-items: center;background-color: white;padding-right: 0.2em;padding-left: 0.2em;position: relative;}#sk-container-id-1 div.sk-item {position: relative;z-index: 1;}#sk-container-id-1 div.sk-parallel {display: flex;align-items: stretch;justify-content: center;background-color: white;position: relative;}#sk-container-id-1 div.sk-item::before, #sk-container-id-1 div.sk-parallel-item::before {content: \"\";position: absolute;border-left: 1px solid gray;box-sizing: border-box;top: 0;bottom: 0;left: 50%;z-index: -1;}#sk-container-id-1 div.sk-parallel-item {display: flex;flex-direction: column;z-index: 1;position: relative;background-color: white;}#sk-container-id-1 div.sk-parallel-item:first-child::after {align-self: flex-end;width: 50%;}#sk-container-id-1 div.sk-parallel-item:last-child::after {align-self: flex-start;width: 50%;}#sk-container-id-1 div.sk-parallel-item:only-child::after {width: 0;}#sk-container-id-1 div.sk-dashed-wrapped {border: 1px dashed gray;margin: 0 0.4em 0.5em 0.4em;box-sizing: border-box;padding-bottom: 0.4em;background-color: white;}#sk-container-id-1 div.sk-label label {font-family: monospace;font-weight: bold;display: inline-block;line-height: 1.2em;}#sk-container-id-1 div.sk-label-container {text-align: center;}#sk-container-id-1 div.sk-container {/* jupyter's `normalize.less` sets `[hidden] { display: none; }` but bootstrap.min.css set `[hidden] { display: none !important; }` so we also need the `!important` here to be able to override the default hidden behavior on the sphinx rendered scikit-learn.org. See: https://github.com/scikit-learn/scikit-learn/issues/21755 */display: inline-block !important;position: relative;}#sk-container-id-1 div.sk-text-repr-fallback {display: none;}</style><div id=\"sk-container-id-1\" class=\"sk-top-container\"><div class=\"sk-text-repr-fallback\"><pre>RandomForestClassifier(random_state=42)</pre><b>In a Jupyter environment, please rerun this cell to show the HTML representation or trust the notebook. <br />On GitHub, the HTML representation is unable to render, please try loading this page with nbviewer.org.</b></div><div class=\"sk-container\" hidden><div class=\"sk-item\"><div class=\"sk-estimator sk-toggleable\"><input class=\"sk-toggleable__control sk-hidden--visually\" id=\"sk-estimator-id-1\" type=\"checkbox\" checked><label for=\"sk-estimator-id-1\" class=\"sk-toggleable__label sk-toggleable__label-arrow\">RandomForestClassifier</label><div class=\"sk-toggleable__content\"><pre>RandomForestClassifier(random_state=42)</pre></div></div></div></div></div>"
      ],
      "text/plain": [
       "RandomForestClassifier(random_state=42)"
      ]
     },
     "execution_count": 44,
     "metadata": {},
     "output_type": "execute_result"
    }
   ],
   "source": [
    "rf_model = RandomForestClassifier(n_estimators=100, random_state=42)\n",
    "rf_model.fit(X_train, y_train)"
   ]
  },
  {
   "cell_type": "code",
   "execution_count": 45,
   "metadata": {},
   "outputs": [
    {
     "name": "stdout",
     "output_type": "stream",
     "text": [
      "              precision    recall  f1-score   support\n",
      "\n",
      "           0       1.00      0.03      0.05        36\n",
      "           1       0.00      0.00      0.00        47\n",
      "           2       0.00      0.00      0.00        14\n",
      "           3       0.37      0.45      0.41       293\n",
      "           4       0.38      0.11      0.17       158\n",
      "           5       0.28      0.34      0.31       377\n",
      "           7       0.41      0.16      0.23       139\n",
      "           8       0.23      0.04      0.06       189\n",
      "           9       0.43      0.79      0.55       528\n",
      "          10       0.62      0.15      0.25       130\n",
      "          11       0.53      0.39      0.45       156\n",
      "\n",
      "    accuracy                           0.39      2067\n",
      "   macro avg       0.39      0.22      0.23      2067\n",
      "weighted avg       0.39      0.39      0.34      2067\n",
      "\n"
     ]
    },
    {
     "name": "stderr",
     "output_type": "stream",
     "text": [
      "/home/nadika/Documents/Major/major_dataset_basanta_sir/venv/lib/python3.10/site-packages/sklearn/metrics/_classification.py:1471: UndefinedMetricWarning: Precision and F-score are ill-defined and being set to 0.0 in labels with no predicted samples. Use `zero_division` parameter to control this behavior.\n",
      "  _warn_prf(average, modifier, msg_start, len(result))\n",
      "/home/nadika/Documents/Major/major_dataset_basanta_sir/venv/lib/python3.10/site-packages/sklearn/metrics/_classification.py:1471: UndefinedMetricWarning: Precision and F-score are ill-defined and being set to 0.0 in labels with no predicted samples. Use `zero_division` parameter to control this behavior.\n",
      "  _warn_prf(average, modifier, msg_start, len(result))\n",
      "/home/nadika/Documents/Major/major_dataset_basanta_sir/venv/lib/python3.10/site-packages/sklearn/metrics/_classification.py:1471: UndefinedMetricWarning: Precision and F-score are ill-defined and being set to 0.0 in labels with no predicted samples. Use `zero_division` parameter to control this behavior.\n",
      "  _warn_prf(average, modifier, msg_start, len(result))\n"
     ]
    }
   ],
   "source": [
    "predictions = rf_model.predict(X_test)\n",
    "print(classification_report(y_test, predictions))\n"
   ]
  },
  {
   "cell_type": "code",
   "execution_count": 46,
   "metadata": {},
   "outputs": [],
   "source": [
    "from gensim.models import Word2Vec\n"
   ]
  },
  {
   "cell_type": "code",
   "execution_count": 47,
   "metadata": {},
   "outputs": [],
   "source": [
    "model_path = \"nepaliW2V_5Million.model\"  # Replace with the path to your model file\n",
    "model = Word2Vec.load(model_path)"
   ]
  },
  {
   "cell_type": "code",
   "execution_count": 48,
   "metadata": {},
   "outputs": [
    {
     "data": {
      "text/plain": [
       "array([-1.2064941e+00,  3.9402180e+00, -5.3299463e-01,  5.8262211e-01,\n",
       "       -2.8884690e+00,  2.0310917e+00,  2.2017171e+00, -6.9092125e-01,\n",
       "       -3.3459987e-02, -2.8237641e+00, -2.2161863e+00, -2.0649873e-02,\n",
       "        2.3419936e+00,  2.1083393e+00, -1.6098723e+00,  1.6880232e+00,\n",
       "        1.0636003e+00, -4.3425158e-01,  2.8757712e-01, -1.2578536e+00,\n",
       "       -8.1826556e-01,  2.5708151e+00,  1.1200736e+00,  1.9373624e+00,\n",
       "       -2.2005215e+00, -1.9701147e-01,  1.0601394e+00, -6.0928788e-02,\n",
       "        3.4843716e-01,  1.2614126e+00,  1.9669743e+00,  1.6927626e+00,\n",
       "       -4.0942243e-01,  1.1842006e+00, -3.7725961e+00,  5.9360400e-02,\n",
       "        2.5472122e-01,  7.1956187e-01,  2.2656856e-01, -1.8729920e+00,\n",
       "        5.1248568e-01,  5.5080795e+00,  4.6663639e-01,  5.4816031e-01,\n",
       "        2.3054123e+00,  2.4201939e-01,  5.7599324e-01, -6.9919479e-01,\n",
       "       -2.5615044e+00,  2.4187551e-01, -5.6440693e-01, -3.8744307e-01,\n",
       "        3.8822532e-01, -7.1457523e-01, -6.1328107e-01, -1.3851643e-01,\n",
       "       -8.9853138e-01, -2.9259026e-01, -2.4893187e-01,  1.7492201e+00,\n",
       "       -3.4233427e-01,  1.2565384e+00, -8.0202127e-01,  4.1826719e-01,\n",
       "        1.2009169e-02, -6.0472721e-01, -1.5550581e+00, -2.5827116e-01,\n",
       "       -1.5009649e+00, -1.9829878e+00,  5.7657713e-01, -1.4964653e+00,\n",
       "        4.2652793e+00,  6.0603267e-01,  7.3752052e-01,  6.0867357e-01,\n",
       "       -3.0602429e+00, -2.7265592e+00,  1.2266350e+00, -2.1469606e-01,\n",
       "        1.3724050e-01, -7.5898834e-02,  1.0999951e+00, -3.4260088e-01,\n",
       "        1.4124593e-01, -1.7548677e+00, -1.1887373e+00, -2.6258540e+00,\n",
       "        8.3544709e-02, -1.2354701e+00, -1.6236311e+00,  1.8613390e+00,\n",
       "       -1.6922096e+00,  1.7759005e+00,  1.8605875e+00, -2.8229399e+00,\n",
       "        1.3123899e+00, -6.0880329e-02,  8.1058252e-01,  2.9499507e+00,\n",
       "        2.6326683e+00, -3.7860295e-01, -2.3254583e+00,  2.5194359e-01,\n",
       "       -1.3238350e+00,  3.5739882e+00,  3.3936873e-01,  1.2314767e+00,\n",
       "       -1.4845967e+00, -5.4329348e-01, -4.3841854e-01,  1.3579326e+00,\n",
       "        1.6736721e+00, -1.5533152e+00,  1.3885556e+00,  2.9341810e+00,\n",
       "       -1.1132871e+00, -3.2389815e+00, -7.0381624e-01,  1.1269367e+00,\n",
       "       -1.6432533e+00,  1.2606224e+00, -9.7616069e-02, -1.6147814e+00,\n",
       "       -3.8637614e+00,  8.4592795e-01,  1.4047392e-01,  5.4253274e-01,\n",
       "       -7.3299384e-01, -1.2081012e+00, -2.9550500e+00,  1.9257200e+00,\n",
       "        1.0796505e+00, -1.0967396e+00, -7.0875004e-02, -3.0953913e+00,\n",
       "       -1.7332131e+00,  2.1112862e-01, -1.7394799e+00, -7.8542542e-01,\n",
       "       -3.4098382e+00, -1.3095781e+00,  1.3463326e+00, -2.9231606e+00,\n",
       "        1.9419892e-01,  8.1944156e-01, -2.5355635e+00,  9.6502906e-01,\n",
       "       -7.8463858e-01,  6.4004159e-01,  9.0644252e-01, -9.6417302e-01,\n",
       "       -4.8654202e-01, -1.6252550e+00, -4.9914166e-01,  4.7124376e+00,\n",
       "       -1.4011976e+00,  1.5470769e-01,  4.7104752e-01, -1.1764040e+00,\n",
       "        3.9771750e+00, -6.4319056e-01, -3.0336457e-03,  1.9141471e+00,\n",
       "        2.2187495e+00,  8.2151860e-01, -3.9438769e-01,  3.5581419e-01,\n",
       "       -1.5570427e-01, -4.5671153e-01, -2.7656012e+00, -7.6321977e-01,\n",
       "       -3.2084959e+00, -1.8487251e+00, -2.0509294e-01, -2.7309921e+00,\n",
       "        1.3768954e+00,  1.0623451e+00,  1.0288348e+00,  3.0536118e+00,\n",
       "        6.0804850e-01,  3.7088256e+00, -2.8527989e+00,  1.7670025e+00,\n",
       "        4.9039233e-01,  2.6722846e+00,  1.7916033e+00,  8.4650433e-01,\n",
       "       -1.9299977e+00,  2.4939461e+00,  4.2294452e-01, -6.6193134e-01,\n",
       "        1.8975792e+00, -3.2075572e+00,  2.0248580e+00,  1.3312081e+00,\n",
       "       -1.8165362e+00, -2.4838481e+00,  1.8117639e-01, -1.1228110e+00],\n",
       "      dtype=float32)"
      ]
     },
     "execution_count": 48,
     "metadata": {},
     "output_type": "execute_result"
    }
   ],
   "source": [
    "word_vector = model.wv['खानेपानी']\n",
    "word_vector"
   ]
  },
  {
   "cell_type": "code",
   "execution_count": 49,
   "metadata": {},
   "outputs": [],
   "source": [
    "from nltk.tokenize import word_tokenize\n",
    "import numpy as np\n",
    "# Function to convert text to vectors\n",
    "def text_to_vector(text):\n",
    "    vector = np.zeros(model.vector_size)\n",
    "    count = 0\n",
    "    for word in word_tokenize(text):\n",
    "        if word in model.wv:\n",
    "            vector += model.wv[word]\n",
    "            count += 1\n",
    "    if count != 0:\n",
    "        vector /= count\n",
    "    return vector"
   ]
  },
  {
   "cell_type": "code",
   "execution_count": 57,
   "metadata": {},
   "outputs": [],
   "source": [
    "df_final['गुनासो vector'] = df_final['गुनासो'].apply(text_to_vector)\n"
   ]
  },
  {
   "cell_type": "code",
   "execution_count": 58,
   "metadata": {},
   "outputs": [
    {
     "data": {
      "text/html": [
       "<div>\n",
       "<style scoped>\n",
       "    .dataframe tbody tr th:only-of-type {\n",
       "        vertical-align: middle;\n",
       "    }\n",
       "\n",
       "    .dataframe tbody tr th {\n",
       "        vertical-align: top;\n",
       "    }\n",
       "\n",
       "    .dataframe thead th {\n",
       "        text-align: right;\n",
       "    }\n",
       "</style>\n",
       "<table border=\"1\" class=\"dataframe\">\n",
       "  <thead>\n",
       "    <tr style=\"text-align: right;\">\n",
       "      <th></th>\n",
       "      <th>गुनासो वर्ग</th>\n",
       "      <th>गुनासो</th>\n",
       "      <th>गुनासो वर्ग no</th>\n",
       "      <th>गुनासो vector</th>\n",
       "    </tr>\n",
       "  </thead>\n",
       "  <tbody>\n",
       "    <tr>\n",
       "      <th>1841</th>\n",
       "      <td>प्राकृतिक श्रोत/साधन सम्बन्धी</td>\n",
       "      <td>पोखरा महतगौडा साबिक छिनेडाडा कित्ता पाटन क्षेत्रमा सार्बजनिक पुरानो पोखरीलाई पुरी ब्यक्तिगत प्रयोजन जग्गाको मोहोडा पार्न बाटो निर्माण गरिएको हुदा त्यस सार्बजनिक सम्पत्ति एबम पुरानो पोखरी गाईबस्तु चराचुरुङ्गी खडेरीमा पानी खाने समेतलाई प्रयोग भबिस्यमा पोखरीको ठुलो महत्व रहने भयकाले उक्त बाटो हटाई पोखरीलाई संरक्षण प्राकृतिक स्रोत साधनलाई बचाउ गरिदिनु सम्बन्धित निकायलाई ध्यानाकर्षण गराउन</td>\n",
       "      <td>1</td>\n",
       "      <td>[-0.3138177788350731, 0.10243723989050421, -0.3794575213558144, 0.12733528587139314, 0.5553500348598592, 0.15180593159877592, 0.5512531042800725, -0.11522541096847919, 0.10982962679635319, -1.0965657931390322, -0.30346539422559243, 0.19046474235235816, 0.09776020091440943, 0.23814971258656847, -0.22579020460964078, -0.2519104014564719, 0.32738777219007414, 0.11148512897650814, -0.0035014599561691284, 0.37920010329172427, -0.09343252085252768, 0.4951999944427775, 0.9756935856356803, -0.08998185647134152, 0.05344808963127434, 0.24470383920318758, 0.057581965940900974, 0.17768002156582144, 0.2950783917783863, -0.3274682371928874, 0.12921667696597675, 0.12627491949953967, 0.17315242660212485, -0.24484376342863673, -0.11853432282158691, -0.21019269209096414, 0.572930367766983, -0.1732957483165794, 0.06765381455706018, -0.44096428740562665, 0.07930670418621351, 0.18009955146246487, 0.9642225963373979, 0.2388678206027382, 0.12528133692426813, 0.05195976511883297, 0.06036090033335818, 0.0856274742141573, 0.07646675283710162, 0.18469391483813524, 0.09579143459753443, 0.3052802273046432, -0.6101778484234173, 0.6555775268740641, -0.08249100088141859, 0.3970483114260585, -0.11327755303742985, -0.05383301143431001, -0.6975992305411233, 0.40428747293642825, 0.31814490187551, -0.08875511053742634, -0.07220298983156681, 0.26741978735662997, 0.582022574549127, 0.0814749710003121, 0.31244571325886583, -0.11177102140047485, -0.20644806379116037, 0.04007855991625951, 0.4422424669416311, -0.552110058063085, 0.04269339675536483, -0.05886483104485604, 0.3542333568313754, -0.2777612794501086, -0.4450911324933663, -0.6255334449492188, -0.16712368441383457, 0.4216540163486368, 0.3097074444198774, 0.08531311242323783, -0.04424196600707041, 0.46467136731371284, 0.43636590399223174, -0.03940140031692055, -0.11600493055043949, -0.2501132167720546, 0.38552270568389857, -0.5854749534693029, -0.4433352418321495, 0.8238252204092633, 0.45665639287067783, -0.20624524909200975, -0.3312824405212369, -0.25742197713245535, -0.14029708380500475, 0.4327934574879085, -0.2292248479401072, 0.2968408211794061, ...]</td>\n",
       "    </tr>\n",
       "  </tbody>\n",
       "</table>\n",
       "</div>"
      ],
      "text/plain": [
       "                        गुनासो वर्ग  \\\n",
       "1841  प्राकृतिक श्रोत/साधन सम्बन्धी   \n",
       "\n",
       "                                                                                                                                                                                                                                                                                                                                                                                                  गुनासो  \\\n",
       "1841  पोखरा महतगौडा साबिक छिनेडाडा कित्ता पाटन क्षेत्रमा सार्बजनिक पुरानो पोखरीलाई पुरी ब्यक्तिगत प्रयोजन जग्गाको मोहोडा पार्न बाटो निर्माण गरिएको हुदा त्यस सार्बजनिक सम्पत्ति एबम पुरानो पोखरी गाईबस्तु चराचुरुङ्गी खडेरीमा पानी खाने समेतलाई प्रयोग भबिस्यमा पोखरीको ठुलो महत्व रहने भयकाले उक्त बाटो हटाई पोखरीलाई संरक्षण प्राकृतिक स्रोत साधनलाई बचाउ गरिदिनु सम्बन्धित निकायलाई ध्यानाकर्षण गराउन   \n",
       "\n",
       "      गुनासो वर्ग no  \\\n",
       "1841               1   \n",
       "\n",
       "                                                                                                                                                                                                                                                                                                                                                                                                                                                                                                                                                                                                                                                                                                                                                                                                                                                                                                                                                                                                                                                                                                                                                                                                                                                                                                                                                                                                                                                                                                                                                                                                                                                                                                                                                                                                                                                                                                                                                                                                                                                                                                                                                                                   गुनासो vector  \n",
       "1841  [-0.3138177788350731, 0.10243723989050421, -0.3794575213558144, 0.12733528587139314, 0.5553500348598592, 0.15180593159877592, 0.5512531042800725, -0.11522541096847919, 0.10982962679635319, -1.0965657931390322, -0.30346539422559243, 0.19046474235235816, 0.09776020091440943, 0.23814971258656847, -0.22579020460964078, -0.2519104014564719, 0.32738777219007414, 0.11148512897650814, -0.0035014599561691284, 0.37920010329172427, -0.09343252085252768, 0.4951999944427775, 0.9756935856356803, -0.08998185647134152, 0.05344808963127434, 0.24470383920318758, 0.057581965940900974, 0.17768002156582144, 0.2950783917783863, -0.3274682371928874, 0.12921667696597675, 0.12627491949953967, 0.17315242660212485, -0.24484376342863673, -0.11853432282158691, -0.21019269209096414, 0.572930367766983, -0.1732957483165794, 0.06765381455706018, -0.44096428740562665, 0.07930670418621351, 0.18009955146246487, 0.9642225963373979, 0.2388678206027382, 0.12528133692426813, 0.05195976511883297, 0.06036090033335818, 0.0856274742141573, 0.07646675283710162, 0.18469391483813524, 0.09579143459753443, 0.3052802273046432, -0.6101778484234173, 0.6555775268740641, -0.08249100088141859, 0.3970483114260585, -0.11327755303742985, -0.05383301143431001, -0.6975992305411233, 0.40428747293642825, 0.31814490187551, -0.08875511053742634, -0.07220298983156681, 0.26741978735662997, 0.582022574549127, 0.0814749710003121, 0.31244571325886583, -0.11177102140047485, -0.20644806379116037, 0.04007855991625951, 0.4422424669416311, -0.552110058063085, 0.04269339675536483, -0.05886483104485604, 0.3542333568313754, -0.2777612794501086, -0.4450911324933663, -0.6255334449492188, -0.16712368441383457, 0.4216540163486368, 0.3097074444198774, 0.08531311242323783, -0.04424196600707041, 0.46467136731371284, 0.43636590399223174, -0.03940140031692055, -0.11600493055043949, -0.2501132167720546, 0.38552270568389857, -0.5854749534693029, -0.4433352418321495, 0.8238252204092633, 0.45665639287067783, -0.20624524909200975, -0.3312824405212369, -0.25742197713245535, -0.14029708380500475, 0.4327934574879085, -0.2292248479401072, 0.2968408211794061, ...]  "
      ]
     },
     "execution_count": 58,
     "metadata": {},
     "output_type": "execute_result"
    }
   ],
   "source": [
    "df_final.sample(1)"
   ]
  },
  {
   "cell_type": "code",
   "execution_count": 59,
   "metadata": {},
   "outputs": [],
   "source": [
    "le = LabelEncoder()\n",
    "y = le.fit_transform(df_final['गुनासो वर्ग no'])\n"
   ]
  },
  {
   "cell_type": "code",
   "execution_count": 60,
   "metadata": {},
   "outputs": [],
   "source": [
    "X = np.vstack(df_final['गुनासो vector'])\n"
   ]
  },
  {
   "cell_type": "code",
   "execution_count": 54,
   "metadata": {},
   "outputs": [],
   "source": [
    "X_train, X_test, y_train, y_test = train_test_split(X, y, test_size=0.2, random_state=42)\n"
   ]
  },
  {
   "cell_type": "code",
   "execution_count": 61,
   "metadata": {},
   "outputs": [
    {
     "data": {
      "text/html": [
       "<style>#sk-container-id-3 {color: black;}#sk-container-id-3 pre{padding: 0;}#sk-container-id-3 div.sk-toggleable {background-color: white;}#sk-container-id-3 label.sk-toggleable__label {cursor: pointer;display: block;width: 100%;margin-bottom: 0;padding: 0.3em;box-sizing: border-box;text-align: center;}#sk-container-id-3 label.sk-toggleable__label-arrow:before {content: \"▸\";float: left;margin-right: 0.25em;color: #696969;}#sk-container-id-3 label.sk-toggleable__label-arrow:hover:before {color: black;}#sk-container-id-3 div.sk-estimator:hover label.sk-toggleable__label-arrow:before {color: black;}#sk-container-id-3 div.sk-toggleable__content {max-height: 0;max-width: 0;overflow: hidden;text-align: left;background-color: #f0f8ff;}#sk-container-id-3 div.sk-toggleable__content pre {margin: 0.2em;color: black;border-radius: 0.25em;background-color: #f0f8ff;}#sk-container-id-3 input.sk-toggleable__control:checked~div.sk-toggleable__content {max-height: 200px;max-width: 100%;overflow: auto;}#sk-container-id-3 input.sk-toggleable__control:checked~label.sk-toggleable__label-arrow:before {content: \"▾\";}#sk-container-id-3 div.sk-estimator input.sk-toggleable__control:checked~label.sk-toggleable__label {background-color: #d4ebff;}#sk-container-id-3 div.sk-label input.sk-toggleable__control:checked~label.sk-toggleable__label {background-color: #d4ebff;}#sk-container-id-3 input.sk-hidden--visually {border: 0;clip: rect(1px 1px 1px 1px);clip: rect(1px, 1px, 1px, 1px);height: 1px;margin: -1px;overflow: hidden;padding: 0;position: absolute;width: 1px;}#sk-container-id-3 div.sk-estimator {font-family: monospace;background-color: #f0f8ff;border: 1px dotted black;border-radius: 0.25em;box-sizing: border-box;margin-bottom: 0.5em;}#sk-container-id-3 div.sk-estimator:hover {background-color: #d4ebff;}#sk-container-id-3 div.sk-parallel-item::after {content: \"\";width: 100%;border-bottom: 1px solid gray;flex-grow: 1;}#sk-container-id-3 div.sk-label:hover label.sk-toggleable__label {background-color: #d4ebff;}#sk-container-id-3 div.sk-serial::before {content: \"\";position: absolute;border-left: 1px solid gray;box-sizing: border-box;top: 0;bottom: 0;left: 50%;z-index: 0;}#sk-container-id-3 div.sk-serial {display: flex;flex-direction: column;align-items: center;background-color: white;padding-right: 0.2em;padding-left: 0.2em;position: relative;}#sk-container-id-3 div.sk-item {position: relative;z-index: 1;}#sk-container-id-3 div.sk-parallel {display: flex;align-items: stretch;justify-content: center;background-color: white;position: relative;}#sk-container-id-3 div.sk-item::before, #sk-container-id-3 div.sk-parallel-item::before {content: \"\";position: absolute;border-left: 1px solid gray;box-sizing: border-box;top: 0;bottom: 0;left: 50%;z-index: -1;}#sk-container-id-3 div.sk-parallel-item {display: flex;flex-direction: column;z-index: 1;position: relative;background-color: white;}#sk-container-id-3 div.sk-parallel-item:first-child::after {align-self: flex-end;width: 50%;}#sk-container-id-3 div.sk-parallel-item:last-child::after {align-self: flex-start;width: 50%;}#sk-container-id-3 div.sk-parallel-item:only-child::after {width: 0;}#sk-container-id-3 div.sk-dashed-wrapped {border: 1px dashed gray;margin: 0 0.4em 0.5em 0.4em;box-sizing: border-box;padding-bottom: 0.4em;background-color: white;}#sk-container-id-3 div.sk-label label {font-family: monospace;font-weight: bold;display: inline-block;line-height: 1.2em;}#sk-container-id-3 div.sk-label-container {text-align: center;}#sk-container-id-3 div.sk-container {/* jupyter's `normalize.less` sets `[hidden] { display: none; }` but bootstrap.min.css set `[hidden] { display: none !important; }` so we also need the `!important` here to be able to override the default hidden behavior on the sphinx rendered scikit-learn.org. See: https://github.com/scikit-learn/scikit-learn/issues/21755 */display: inline-block !important;position: relative;}#sk-container-id-3 div.sk-text-repr-fallback {display: none;}</style><div id=\"sk-container-id-3\" class=\"sk-top-container\"><div class=\"sk-text-repr-fallback\"><pre>RandomForestClassifier(random_state=42)</pre><b>In a Jupyter environment, please rerun this cell to show the HTML representation or trust the notebook. <br />On GitHub, the HTML representation is unable to render, please try loading this page with nbviewer.org.</b></div><div class=\"sk-container\" hidden><div class=\"sk-item\"><div class=\"sk-estimator sk-toggleable\"><input class=\"sk-toggleable__control sk-hidden--visually\" id=\"sk-estimator-id-3\" type=\"checkbox\" checked><label for=\"sk-estimator-id-3\" class=\"sk-toggleable__label sk-toggleable__label-arrow\">RandomForestClassifier</label><div class=\"sk-toggleable__content\"><pre>RandomForestClassifier(random_state=42)</pre></div></div></div></div></div>"
      ],
      "text/plain": [
       "RandomForestClassifier(random_state=42)"
      ]
     },
     "execution_count": 61,
     "metadata": {},
     "output_type": "execute_result"
    }
   ],
   "source": [
    "# Initialize and train a Random Forest model\n",
    "rf_model = RandomForestClassifier(n_estimators=100, random_state=42)\n",
    "rf_model.fit(X_train, y_train)\n"
   ]
  },
  {
   "cell_type": "code",
   "execution_count": 62,
   "metadata": {},
   "outputs": [
    {
     "name": "stdout",
     "output_type": "stream",
     "text": [
      "              precision    recall  f1-score   support\n",
      "\n",
      "           0       1.00      0.25      0.40        36\n",
      "           1       0.83      0.53      0.65        47\n",
      "           2       0.00      0.00      0.00        14\n",
      "           3       0.54      0.60      0.57       293\n",
      "           4       0.53      0.41      0.46       158\n",
      "           5       0.37      0.39      0.38       377\n",
      "           7       0.73      0.39      0.51       139\n",
      "           8       0.57      0.39      0.46       189\n",
      "           9       0.48      0.77      0.59       528\n",
      "          10       0.72      0.16      0.26       130\n",
      "          11       0.86      0.59      0.70       156\n",
      "\n",
      "    accuracy                           0.52      2067\n",
      "   macro avg       0.60      0.41      0.45      2067\n",
      "weighted avg       0.56      0.52      0.50      2067\n",
      "\n"
     ]
    }
   ],
   "source": [
    "predictions = rf_model.predict(X_test)\n",
    "print(classification_report(y_test, predictions))"
   ]
  },
  {
   "cell_type": "code",
   "execution_count": null,
   "metadata": {},
   "outputs": [],
   "source": []
  }
 ],
 "metadata": {
  "kernelspec": {
   "display_name": "Python 3 (ipykernel)",
   "language": "python",
   "name": "python3"
  },
  "language_info": {
   "codemirror_mode": {
    "name": "ipython",
    "version": 3
   },
   "file_extension": ".py",
   "mimetype": "text/x-python",
   "name": "python",
   "nbconvert_exporter": "python",
   "pygments_lexer": "ipython3",
   "version": "3.10.12"
  }
 },
 "nbformat": 4,
 "nbformat_minor": 2
}
