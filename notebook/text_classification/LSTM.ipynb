{
  "cells": [
    {
      "cell_type": "code",
      "execution_count": null,
      "metadata": {
        "id": "N97cqZUnuIim"
      },
      "outputs": [],
      "source": [
        "import pandas as pd\n",
        "import numpy as np\n",
        "import re\n",
        "from sklearn.model_selection import train_test_split\n",
        "from sklearn.preprocessing import LabelEncoder\n",
        "from nltk.tokenize import word_tokenize\n",
        "from nltk.corpus import stopwords\n",
        "from gensim.models import Word2Vec\n",
        "from tensorflow.keras.models import Sequential\n",
        "from tensorflow.keras.layers import Embedding, LSTM, Dense, Bidirectional, Dropout\n",
        "from tensorflow.keras.preprocessing.text import Tokenizer\n",
        "from tensorflow.keras.preprocessing.sequence import pad_sequences"
      ]
    },
    {
      "cell_type": "code",
      "source": [
        "device = torch.device(\"cuda\" if torch.cuda.is_available() else \"cpu\")\n"
      ],
      "metadata": {
        "id": "WsfAAK-7s8Mj"
      },
      "execution_count": null,
      "outputs": []
    },
    {
      "cell_type": "code",
      "execution_count": null,
      "metadata": {
        "colab": {
          "base_uri": "https://localhost:8080/"
        },
        "id": "sfUv6wcLuVR_",
        "outputId": "01b4b37c-3e14-4479-cc74-f2964282c18c"
      },
      "outputs": [
        {
          "output_type": "stream",
          "name": "stdout",
          "text": [
            "Mounted at /content/drive\n"
          ]
        }
      ],
      "source": [
        "from google.colab import drive\n",
        "drive.mount('/content/drive')"
      ]
    },
    {
      "cell_type": "code",
      "execution_count": null,
      "metadata": {
        "id": "oTEh6a67unjS"
      },
      "outputs": [],
      "source": [
        "df=pd.read_csv(\"/content/drive/MyDrive/Adataset_new - final.csv\")"
      ]
    },
    {
      "cell_type": "code",
      "execution_count": null,
      "metadata": {
        "colab": {
          "base_uri": "https://localhost:8080/"
        },
        "id": "he6xABi6vFhR",
        "outputId": "e1353680-09e8-462d-fa09-e75b66f4eb05"
      },
      "outputs": [
        {
          "output_type": "execute_result",
          "data": {
            "text/plain": [
              "category\n",
              "वेबसाइट तथा अभिलेख व्यवस्थापन सम्बन्धी      2849\n",
              "पार्किङ्ग तथा मेट्रो पुलिस                  1701\n",
              "सोधपुछ, सुझाव, प्रशंसा सम्बन्धी             1605\n",
              "कर्मचारी सम्वन्धी                           1337\n",
              "अर्थ सबन्धी                                  860\n",
              "खानेपानी                                     800\n",
              "स्वास्थ्यसँग सम्बन्धी                        694\n",
              "सूचना तथा संचार                              640\n",
              "शान्ति सुरक्षा                               634\n",
              "फोहोरमैला व्यवस्थापन                         630\n",
              "निर्माण कार्य सम्बन्धी                       605\n",
              "प्राकृतिक श्रोत/साधन सम्बन्धी                200\n",
              "लागु पदार्थ सम्बन्धी                         157\n",
              "अर्थिक अनियमितता तथा भ्रष्टाचार सम्बन्धी      71\n",
              "Name: count, dtype: int64"
            ]
          },
          "metadata": {},
          "execution_count": 5
        }
      ],
      "source": [
        "df['category'].value_counts()"
      ]
    },
    {
      "cell_type": "code",
      "execution_count": null,
      "metadata": {
        "id": "CNhnDZ4RzlXU"
      },
      "outputs": [],
      "source": [
        "categories = [\n",
        "    \"वेबसाइट तथा अभिलेख व्यवस्थापन सम्बन्धी\",\n",
        "    \"पार्किङ्ग तथा मेट्रो पुलिस\",\n",
        "    \"सोधपुछ, सुझाव, प्रशंसा सम्बन्धी\",\n",
        "    \"कर्मचारी सम्वन्धी\",\n",
        "    \"खानेपानी\",\n",
        "    \"अर्थ सबन्धी\",\n",
        "    \"शान्ति सुरक्षा\",\n",
        "    \"स्वास्थ्यसँग सम्बन्धी\",\n",
        "    \"सूचना तथा संचार\",\n",
        "    \"फोहोरमैला व्यवस्थापन\",\n",
        "    \"निर्माण कार्य सम्बन्धी\",\n",
        "    \"प्राकृतिक श्रोत/साधन सम्बन्धी\",\n",
        "    \"लागु पदार्थ सम्बन्धी\",\n",
        "    \"अर्थिक अनियमितता तथा भ्रष्टाचार सम्बन्धी\"\n",
        "]\n"
      ]
    },
    {
      "cell_type": "code",
      "execution_count": null,
      "metadata": {
        "id": "la5k6SBbuIiq"
      },
      "outputs": [],
      "source": [
        "\n",
        "df_final = pd.DataFrame()  # Initialize an empty DataFrame to hold the final result\n",
        "\n",
        "for category,count in counts.items():\n",
        "    df_cat=df[df['category']==category]\n",
        "    if count < max_count:\n",
        "      df_cat_oversampled=df_cat.sample(max_count,replace=True)\n",
        "      df_cat_oversampled=df_cat_oversampled.reset_index(drop=True)\n",
        "    else:\n",
        "      df_cat_oversampled=df_cat\n",
        "\n",
        "    df_final=pd.concat([df_final,df_cat_oversampled])\n"
      ]
    },
    {
      "cell_type": "code",
      "execution_count": null,
      "metadata": {
        "colab": {
          "base_uri": "https://localhost:8080/"
        },
        "id": "VY-itGPSd03t",
        "outputId": "1c5cd7d5-44c9-44ce-9326-7613f6d555e8"
      },
      "outputs": [
        {
          "output_type": "execute_result",
          "data": {
            "text/plain": [
              "category                                  complain                                                                                                                                                                                                                                                                                                                                                                                                                                                                                                                                                                                                                                                                                                                                                                                                                                                                                                                                                                                                                                                                                                                                                                                              \n",
              "अर्थिक अनियमितता तथा भ्रष्टाचार सम्बन्धी  विभिन्न सरकारी तथा पब्लिक सेक्टरमा हुने गरेको भ्रस्टाचार नियन्त्रणमा सरकार र सम्बन्धित निमयाकिय निकायहरुको भूमिका धेरै फितलो र प्रभाभकारी नभएको जनमानसमा धनको ठुलो असमानता बढेको, समाजमा बितृष्णा जगाएको हुँदा यस्ता भ्रस्टचारी हरु लै कारबाही को दयारा मा ल्याएर पत्र प त्रिका, रेडियो, ति भी बाट सार्बजनिक गर्ने सम्मको कानून बनाउनु पर्यो. भ्रष्टाचारी को पैसा सिस्टम मा नआउने हुँदा र बिलाशिता मा खर्च हुने हुँदा तरलता समस्या को एउटा जड यो पनि हो. सो सरकार ले यसमा केहि ठोस कार्य गरे जनता को ठुलो जनमत पाउने छ. जय नेपाल                                                                                                                                                                                                                                                                                                                                                                                                                                                                                                                                                                                                                                                                          58\n",
              "                                          वडा प्रहरी कार्यालय नेपालगन्जका सइ शरण भण्डारी अवैध असुली धन्दाका नाइके बनेका छन् । दादागिरी शैलीमा सर्वसाधरणलाई धम्क्याउने र थर्काउने गरेका भण्डारीले अवैध असुलीलाई तीब्र बनाएका छन् । \\n\\nसानालाई धम्क्याउने र ठूलाबाट मोटो रकम असुल्ने गरेको छ । जैसपुरमा भारतबाट अवैध सामान भित्र्याउने कार्यमा उनले ठूलो भूमिका निभाएका थिए । त्यहाँबाट मोटो रकम लिएको खुलेको छ । योभन्दा अघि उनी कम्दीमा काठ तस्करसँग मिलेर असुली कार्यमा खटिएका थिए । \\n\\nशान्ति सुरक्षा र अवैध कार्य रोक्ने कसम खाएका भण्डारी आफैं अवैध असुलीमा लिप्त भएका छन् । यहाँसम्मकी अहिले पनि नगर भरी अवैध असुलीमा खटिएका छन् । वडा प्रहरी आसपासमा पार्किङमा राखिएको मोटरसाइकलवालासँग समेत उनले पैसा लिने गरेको छ । सकेसम्म पैसा दिन आग्रह गर्ने र नभए मोवाइलको रिचार्ज माग्ने गरेका छन् । \\n\\nनदिए दादागिरी शैलीमा थर्काउँदै हिड्ने गरेका छन् । दैलेख निवासी उनी पावर लगाएर कमाउ हुने क्षेत्रमा मात्र जाने गरेका छन् । उनको असुली धन्दाबारे वडा कार्यालयकै प्रहरी समेत आजित भएका छन् ।                                                                                                                                                                                                                                                   54\n",
              "                                          प्रहरी हवल्दार उपेन्द्र यादव राती को समय मा जलेश्वर नगरपालिका को बखरी पुल मा राती को 10 बजे प्रहरी हु भन्दै पोशाक मै सर्वसाधारण लाई घेरेर सङ पैसा मागने गरेको छ। कहिले डियाजी को घुमुवा हु भन्छ कहिले महोत्तरी को SP को त कहिले नगरपालिका को घुमुवा हु भन्छ। जिल्ला प्रहरी कार्यालय महोत्तरी मा पटक पटक जानकारी गराउदा पनि केही सुन्वाइ भएको छैन। मेरो पावर माथी सम्म छ भन्दै। व्यपारी देखि सर्वसाधारण सम्म लाई धम्की दिदै पैसा असुली गर्ने गरेको छ। हामी सर्वसाधारण जनता येस्ता प्रहरी लाई कडा भन्दा कडा कारबाहीमा को हेलो सरकार बाट अपेक्षा राख्द छौँ                                                                                                                                                                                                                                                                                                                                                                                                                                                                                                                                                                                                                                                   53\n",
              "                                          इप्रका फापरबारी दरबन्दी भइ हाल जिप्रका चितवनको सीसीटिभी शाखामा खटिएका प्रहरी जवान प्रवीण तिवारीले चोरी भएका वा बसमा लगेज छुटेका सेवाग्राहीको सामान खोजिदिन सहयोग गरेबापत निजले अतिरिक्त रकम माग गर्ने गरेको हुनाले तत्कालै यस बिषयमा सम्बन्धि निकायको ध्यानाकर्षण होस् भनी निज प्रहरी जवान विरुद्ध यो उजुरी टिपाइएको छ ।                                                                                                                                                                                                                                                                                                                                                                                                                                                                                                                                                                                                                                                                                                                                                                                                                                                                                  53\n",
              "                                          सरकारले विद्युतीय राहदानी अर्थात् इ–पासपोर्ट जारी गरेको नेपाल सरकार, परराष्ट्र मन्त्रालय, राहदानी बिभाग लगायत सम्बन्धित निकायहरू देखि प्राय सर्वसाधारण समेत जगजाहेर नै छ । हाल राहदानी विभागले विद्युतीय (इलेक्ट्रिक) पासपोर्ट लिन राष्ट्रिय परिचय पत्र नं. अनिवार्य गरेको छ साथै पासपोर्टको आवेदन पनि अनलाईन गरेको छ । बिभागले प्रविधि मार्फत कामलाई छिटो छरितो र सहज बनाउने कार्य सर्हानिय छ । तर हाम्रो नुवाकोट जिल्लाको प्रशासन कार्यालयमा राष्ट्रिय परिचय पत्रको अनलाईन आवेदन फर्म भरे पश्चात् फोटो खिच्न र परिचय पत्र नं. लिन महिनौ दिन पछिको समय भनौ वा जिल्ला प्रशासनको भाषामा टोकन दिने र ३ देखि ५ हजार दलाल वा कर्मचारीलाई खर्च दिए सोही दिनमा परिचय पत्र नं. तयार गरिदिने यो नुवाकोट जिल्ला प्रशासन कार्यालयले जनतालाई दिएको कस्तो सेवा सुविधा हो? त्यस्तै बिद्युतिय राहदानीको अनलाईन आवेदन दिए पश्चात फोटो खिच्न र आवेदन फारम बुझाउन पनि ठुलै युध्द जिते सरह भनौ वा चिठ्ठा कार्यक्रम जस्तो राहदानी बिभागले कुन समयमा र मिती उपलब्ध गराउछ भनेर मोवाईल वा कम्प्युटरमा झुन्डिएर बस्नु पर्ने बाध्यता छ । के यस्तै असहज र बाध्यात्मक परिस्थिति सृजना गराउन सरकारले र बिभागले अनलाईन आवेदन र बिद्धुतिय राहदानी प्रयोगमा ल्याउन खोजेको हो? कि कर्मचारीलाई घुस खान र घाम ताप्न ल्याएको प्रविधी हो।    51\n",
              "                                                                                                                                                                                                                                                                                                                                                                                                                                                                                                                                                                                                                                                                                                                                                                                                                                                                                                                                                                                                                                                                                                                                                                                                                                                    ..\n",
              "वेबसाइट तथा अभिलेख व्यवस्थापन सम्बन्धी    महंगो पैसो तिरेर जोडिएको नेट काम नै नगर्ने , काम किन गरेन भन्दा कर्मचारी को रुखो ब्यवहार। सानो कामको लागि घन्टा लाइन बस्न परो।\\nनेट कम्पनी तुरुन्त परिवर्तन गरिनु पर्ने छ । वाइफाइ उपलब्ध गराउने सग कर्मचारीको मिलेमतोको आसंका।\\nजहिले पनि सर्बर डाउन भन्या छन छन।।                                                                                                                                                                                                                                                                                                                                                                                                                                                                                                                                                                                                                                                                                                                                                                                                                                                                                                                                        1\n",
              "                                          मसग भएको नागरिकता मा  2042_10_2 जन्म मिति छ तर यहा अभिलेखमा 2040_10_2 छ 2042_10_2नैराखिदिनुहोला                                                                                                                                                                                                                                                                                                                                                                                                                                                                                                                                                                                                                                                                                                                                                                                                                                                                                                                                                                                                                                                                                                            1\n",
              "                                          मलाई २०७८-४-११ मा सरकारले \\निषेधाज्ञको अवधिभित्र सम्झौता भएका तर काम सम्पन्न गर्न नसकेका सम्झौताहरुको म्याद ६ महिना थप्ने निर्णय \\ काे पूर्ण पाठ आवश्यक छ ।\\nतर , website मा 2078 सालमा मन्त्रिपरषद्ब बैठकका निर्णयहरु update गरिएका छैनन्।                                                                                                                                                                                                                                                                                                                                                                                                                                                                                                                                                                                                                                                                                                                                                                                                                                                                                                                                                                1\n",
              "                                          मलाई हातमा दिएको माथिको सक्कली हो।तर तलको नागरिक एप मा देखाउँछ । क्रम संख्या पनि फरक छ।                                                                                                                                                                                                                                                                                                                                                                                                                                                                                                                                                                                                                                                                                                                                                                                                                                                                                                                                                                                                                                                                                                                    1\n",
              "                                          चितवन को कालिका नगरपालिका मा covid vaccine भेरिफाई गर्न जादा तपाईं कालिका गाउँ पालिका रसुवा जानुस ! भन्ने उत्तर आयो! अन्लाईन फर्म मा चितवन सेलेक्ट गरेसि कालिका अप्सन छान्दा यस्तो समस्या भयो दोस्रो पटक पनि तेस्तै भयो! अनि अब हामी कहाँ जाने! वेबसाईट अप्डेट गर्नु पर्यो अथवा गाउपालिका भए पनि नगर पालिका ले भेरिफाई गर्दिनु पर्यो !                                                                                                                                                                                                                                                                                                                                                                                                                                                                                                                                                                                                                                                                                                                                                                                                                                                                     1\n",
              "Name: count, Length: 11270, dtype: int64"
            ]
          },
          "metadata": {},
          "execution_count": 8
        }
      ],
      "source": [
        "df_final['category'].value_counts()"
      ]
    },
    {
      "cell_type": "code",
      "execution_count": null,
      "metadata": {
        "colab": {
          "base_uri": "https://localhost:8080/"
        },
        "id": "dDz0R18c1ezj",
        "outputId": "20ff795d-6ef1-44b6-e290-476dd42f5ecc"
      },
      "outputs": [
        {
          "output_type": "stream",
          "name": "stderr",
          "text": [
            "[nltk_data] Downloading package stopwords to /root/nltk_data...\n",
            "[nltk_data]   Unzipping corpora/stopwords.zip.\n"
          ]
        },
        {
          "output_type": "execute_result",
          "data": {
            "text/plain": [
              "True"
            ]
          },
          "metadata": {},
          "execution_count": 9
        }
      ],
      "source": [
        "import nltk\n",
        "nltk.download('stopwords')"
      ]
    },
    {
      "cell_type": "code",
      "execution_count": null,
      "metadata": {
        "colab": {
          "base_uri": "https://localhost:8080/"
        },
        "id": "EE-yi96x1eQ4",
        "outputId": "35fdba67-55b9-4cf9-a060-1182e6d0d02a"
      },
      "outputs": [
        {
          "output_type": "stream",
          "name": "stderr",
          "text": [
            "[nltk_data] Downloading package stopwords to /root/nltk_data...\n",
            "[nltk_data]   Package stopwords is already up-to-date!\n"
          ]
        },
        {
          "output_type": "execute_result",
          "data": {
            "text/plain": [
              "True"
            ]
          },
          "metadata": {},
          "execution_count": 10
        }
      ],
      "source": [
        "nltk.download('stopwords')"
      ]
    },
    {
      "cell_type": "code",
      "execution_count": null,
      "metadata": {
        "colab": {
          "base_uri": "https://localhost:8080/"
        },
        "id": "VY3NXsfr1R2i",
        "outputId": "fac6d9c5-2198-4004-e424-f1c54b2f7e0c"
      },
      "outputs": [
        {
          "output_type": "stream",
          "name": "stdout",
          "text": [
            "['i', 'me', 'my', 'myself', 'we', 'our', 'ours', 'ourselves', 'you', \"you're\", \"you've\", \"you'll\", \"you'd\", 'your', 'yours', 'yourself', 'yourselves', 'he', 'him', 'his', 'himself', 'she', \"she's\", 'her', 'hers', 'herself', 'it', \"it's\", 'its', 'itself', 'they', 'them', 'their', 'theirs', 'themselves', 'what', 'which', 'who', 'whom', 'this', 'that', \"that'll\", 'these', 'those', 'am', 'is', 'are', 'was', 'were', 'be', 'been', 'being', 'have', 'has', 'had', 'having', 'do', 'does', 'did', 'doing', 'a', 'an', 'the', 'and', 'but', 'if', 'or', 'because', 'as', 'until', 'while', 'of', 'at', 'by', 'for', 'with', 'about', 'against', 'between', 'into', 'through', 'during', 'before', 'after', 'above', 'below', 'to', 'from', 'up', 'down', 'in', 'out', 'on', 'off', 'over', 'under', 'again', 'further', 'then', 'once', 'here', 'there', 'when', 'where', 'why', 'how', 'all', 'any', 'both', 'each', 'few', 'more', 'most', 'other', 'some', 'such', 'no', 'nor', 'not', 'only', 'own', 'same', 'so', 'than', 'too', 'very', 's', 't', 'can', 'will', 'just', 'don', \"don't\", 'should', \"should've\", 'now', 'd', 'll', 'm', 'o', 're', 've', 'y', 'ain', 'aren', \"aren't\", 'couldn', \"couldn't\", 'didn', \"didn't\", 'doesn', \"doesn't\", 'hadn', \"hadn't\", 'hasn', \"hasn't\", 'haven', \"haven't\", 'isn', \"isn't\", 'ma', 'mightn', \"mightn't\", 'mustn', \"mustn't\", 'needn', \"needn't\", 'shan', \"shan't\", 'shouldn', \"shouldn't\", 'wasn', \"wasn't\", 'weren', \"weren't\", 'won', \"won't\", 'wouldn', \"wouldn't\"]\n"
          ]
        }
      ],
      "source": [
        "from nltk.corpus import stopwords\n",
        "\n",
        "stop_words = stopwords.words('english')  # For English stopwords\n",
        "print(stop_words)  # This will print the list of English stopwords\n"
      ]
    },
    {
      "cell_type": "code",
      "execution_count": null,
      "metadata": {
        "colab": {
          "base_uri": "https://localhost:8080/"
        },
        "id": "DrIkK7z-1_xd",
        "outputId": "4a0b5e0e-9b18-4258-c82c-deeca8c475b3"
      },
      "outputs": [
        {
          "output_type": "stream",
          "name": "stderr",
          "text": [
            "[nltk_data] Downloading package punkt to /root/nltk_data...\n",
            "[nltk_data]   Unzipping tokenizers/punkt.zip.\n"
          ]
        },
        {
          "output_type": "execute_result",
          "data": {
            "text/plain": [
              "True"
            ]
          },
          "metadata": {},
          "execution_count": 12
        }
      ],
      "source": [
        "nltk.download('punkt')"
      ]
    },
    {
      "cell_type": "code",
      "execution_count": null,
      "metadata": {
        "id": "1CsoBkmhuIir"
      },
      "outputs": [],
      "source": [
        "# Data Preprocessing\n",
        "nepali_stopwords = set(stopwords.words('nepali'))\n",
        "english_stopwords = set(stopwords.words('english'))\n",
        "def preprocess_text(text):\n",
        "    text = text.lower()\n",
        "    text = re.sub('[#\\\\/।(),०-९<<?!,—–’‘:\\u200d]', '', text)\n",
        "    text = text.strip('\"')\n",
        "    words = word_tokenize(text)\n",
        "    filtered_words = [word for word in words if word.lower() not in nepali_stopwords and word.lower() not in english_stopwords]\n",
        "    processed_text = ' '.join(filtered_words)\n",
        "    return processed_text\n",
        "\n",
        "df_final['complain'] = df_final['complain'].apply(preprocess_text)"
      ]
    },
    {
      "cell_type": "code",
      "execution_count": null,
      "metadata": {
        "id": "BzbNrZ4iuIis"
      },
      "outputs": [],
      "source": [
        "# Encoding Labels\n",
        "le = LabelEncoder()\n",
        "df_final['label_encoded'] = le.fit_transform(df_final['category'])\n"
      ]
    },
    {
      "cell_type": "code",
      "execution_count": null,
      "metadata": {
        "id": "NCv5DRx6uIis"
      },
      "outputs": [],
      "source": [
        "# Split the dataset into training and testing sets\n",
        "train_data, test_data = train_test_split(df_final, test_size=0.2, stratify=df_final['label_encoded'], random_state=42)\n"
      ]
    },
    {
      "cell_type": "code",
      "execution_count": null,
      "metadata": {
        "id": "MzvualRWuIis"
      },
      "outputs": [],
      "source": [
        "# Tokenize the text data\n",
        "max_words = 10000\n",
        "max_length = 100\n",
        "tokenizer = Tokenizer(num_words=max_words, oov_token='<OOV>')\n",
        "tokenizer.fit_on_texts(train_data['complain'])"
      ]
    },
    {
      "cell_type": "code",
      "execution_count": null,
      "metadata": {
        "id": "YN9mvtYEuIit"
      },
      "outputs": [],
      "source": [
        "train_sequences = tokenizer.texts_to_sequences(train_data['complain'])\n",
        "test_sequences = tokenizer.texts_to_sequences(test_data['complain'])"
      ]
    },
    {
      "cell_type": "code",
      "execution_count": null,
      "metadata": {
        "id": "Fcw4uay7uIit"
      },
      "outputs": [],
      "source": [
        "train_padded = pad_sequences(train_sequences, maxlen=max_length, padding='post', truncating='post')\n",
        "test_padded = pad_sequences(test_sequences, maxlen=max_length, padding='post', truncating='post')"
      ]
    },
    {
      "cell_type": "code",
      "execution_count": null,
      "metadata": {
        "id": "69u5SliNuIit"
      },
      "outputs": [],
      "source": [
        "# Load your pre-trained Nepali Word2Vec model\n",
        "word2vec_model_path = \"/content/drive/MyDrive/nepaliW2V_5Million.model\"\n",
        "word2vec_model = Word2Vec.load(word2vec_model_path)"
      ]
    },
    {
      "cell_type": "code",
      "execution_count": null,
      "metadata": {
        "id": "KOkdMUzsuIit"
      },
      "outputs": [],
      "source": [
        "# Create an embedding matrix\n",
        "embedding_dim = word2vec_model.vector_size\n",
        "embedding_matrix = np.zeros((max_words, embedding_dim))\n",
        "for word, i in tokenizer.word_index.items():\n",
        "    if i < max_words and word in word2vec_model.wv:\n",
        "\n",
        "        embedding_matrix[i] = word2vec_model.wv[word]"
      ]
    },
    {
      "cell_type": "code",
      "execution_count": null,
      "metadata": {
        "id": "eAiBaH8tuIiu"
      },
      "outputs": [],
      "source": [
        "# Build the Bi-LSTM model with Word2Vec embeddings\n",
        "lstm_units=100\n",
        "model = Sequential()\n",
        "model.add(Embedding(input_dim=max_words, output_dim=embedding_dim, weights=[embedding_matrix], input_length=max_length, trainable=False))\n",
        "model.add(LSTM(units=lstm_units, dropout=0.2, recurrent_dropout=0.2))\n",
        "model.add(Dense(units=len(np.unique(df_final['label_encoded'])), activation='softmax'))"
      ]
    },
    {
      "cell_type": "code",
      "execution_count": null,
      "metadata": {
        "colab": {
          "base_uri": "https://localhost:8080/"
        },
        "id": "eXdzXcMouIiu",
        "outputId": "f4e34840-557a-445b-b8f3-b613105f4743"
      },
      "outputs": [
        {
          "output_type": "stream",
          "name": "stdout",
          "text": [
            "Epoch 1/20\n",
            "1002/1002 [==============================] - 287s 281ms/step - loss: 2.3956 - accuracy: 0.1536 - val_loss: 2.4772 - val_accuracy: 0.1279\n",
            "Epoch 2/20\n",
            "1002/1002 [==============================] - 267s 267ms/step - loss: 2.3731 - accuracy: 0.1575 - val_loss: 2.5756 - val_accuracy: 0.1158\n",
            "Epoch 3/20\n",
            "1002/1002 [==============================] - 259s 259ms/step - loss: 2.3683 - accuracy: 0.1697 - val_loss: 2.2866 - val_accuracy: 0.1796\n",
            "Epoch 4/20\n",
            "1002/1002 [==============================] - 257s 257ms/step - loss: 2.1777 - accuracy: 0.1941 - val_loss: 2.0669 - val_accuracy: 0.2194\n",
            "Epoch 5/20\n",
            "1002/1002 [==============================] - 259s 259ms/step - loss: 2.0436 - accuracy: 0.2330 - val_loss: 1.8406 - val_accuracy: 0.3208\n",
            "Epoch 6/20\n",
            "1002/1002 [==============================] - 267s 266ms/step - loss: 1.6711 - accuracy: 0.4003 - val_loss: 1.4335 - val_accuracy: 0.4998\n",
            "Epoch 7/20\n",
            "1002/1002 [==============================] - 267s 267ms/step - loss: 1.3645 - accuracy: 0.5345 - val_loss: 1.1931 - val_accuracy: 0.5868\n",
            "Epoch 8/20\n",
            "1002/1002 [==============================] - 257s 256ms/step - loss: 1.1473 - accuracy: 0.6229 - val_loss: 1.0011 - val_accuracy: 0.6714\n",
            "Epoch 9/20\n",
            "1002/1002 [==============================] - 257s 256ms/step - loss: 0.9662 - accuracy: 0.6855 - val_loss: 0.8510 - val_accuracy: 0.7215\n",
            "Epoch 10/20\n",
            "1002/1002 [==============================] - 288s 288ms/step - loss: 0.8369 - accuracy: 0.7253 - val_loss: 0.7590 - val_accuracy: 0.7513\n",
            "Epoch 11/20\n",
            "1002/1002 [==============================] - 259s 258ms/step - loss: 0.7348 - accuracy: 0.7586 - val_loss: 0.6850 - val_accuracy: 0.7803\n",
            "Epoch 12/20\n",
            "1002/1002 [==============================] - 269s 268ms/step - loss: 0.6579 - accuracy: 0.7817 - val_loss: 0.6053 - val_accuracy: 0.8011\n",
            "Epoch 13/20\n",
            "1002/1002 [==============================] - 266s 266ms/step - loss: 0.7236 - accuracy: 0.7660 - val_loss: 0.6101 - val_accuracy: 0.7982\n",
            "Epoch 14/20\n",
            "1002/1002 [==============================] - 256s 255ms/step - loss: 0.5789 - accuracy: 0.8040 - val_loss: 0.5350 - val_accuracy: 0.8213\n",
            "Epoch 15/20\n",
            "1002/1002 [==============================] - 256s 256ms/step - loss: 0.5310 - accuracy: 0.8211 - val_loss: 0.5267 - val_accuracy: 0.8222\n",
            "Epoch 16/20\n",
            "1002/1002 [==============================] - 257s 256ms/step - loss: 0.5013 - accuracy: 0.8293 - val_loss: 0.4829 - val_accuracy: 0.8372\n",
            "Epoch 17/20\n",
            "1002/1002 [==============================] - 259s 259ms/step - loss: 0.4650 - accuracy: 0.8420 - val_loss: 0.4590 - val_accuracy: 0.8423\n",
            "Epoch 18/20\n",
            "1002/1002 [==============================] - 265s 265ms/step - loss: 0.4405 - accuracy: 0.8491 - val_loss: 0.4182 - val_accuracy: 0.8614\n",
            "Epoch 19/20\n",
            "1002/1002 [==============================] - 259s 258ms/step - loss: 0.4194 - accuracy: 0.8579 - val_loss: 0.4013 - val_accuracy: 0.8669\n",
            "Epoch 20/20\n",
            "1002/1002 [==============================] - 267s 266ms/step - loss: 0.3917 - accuracy: 0.8657 - val_loss: 0.3937 - val_accuracy: 0.8671\n"
          ]
        }
      ],
      "source": [
        "# Compile the model\n",
        "model.compile(optimizer='adam', loss='sparse_categorical_crossentropy', metrics=['accuracy'])\n",
        "\n",
        "# Train the model\n",
        "epochs = 20\n",
        "history=model.fit(train_padded, train_data['label_encoded'], epochs=epochs, validation_data=(test_padded, test_data['label_encoded']))\n"
      ]
    },
    {
      "cell_type": "code",
      "execution_count": null,
      "metadata": {
        "id": "8fIWdURGasta",
        "colab": {
          "base_uri": "https://localhost:8080/",
          "height": 472
        },
        "outputId": "1c16d8eb-7524-49f0-8c99-68ba1dbfdfaf"
      },
      "outputs": [
        {
          "output_type": "display_data",
          "data": {
            "text/plain": [
              "<Figure size 640x480 with 1 Axes>"
            ],
            "image/png": "[encoded data removed]"
          },
          "metadata": {}
        }
      ],
      "source": [
        "import matplotlib.pyplot as plt\n",
        "\n",
        "plt.plot(history.history['loss'], label='Training Loss')\n",
        "plt.plot(history.history['val_loss'], label='Validation Loss')\n",
        "plt.title('Training and Validation Loss')\n",
        "plt.xlabel('Epoch')\n",
        "plt.ylabel('Loss')\n",
        "plt.legend()\n",
        "plt.show()"
      ]
    },
    {
      "cell_type": "code",
      "execution_count": null,
      "metadata": {
        "id": "9hce2DSra3b7",
        "colab": {
          "base_uri": "https://localhost:8080/",
          "height": 472
        },
        "outputId": "a8d08715-899b-4c11-95fb-eff0c622556d"
      },
      "outputs": [
        {
          "output_type": "display_data",
          "data": {
            "text/plain": [
              "<Figure size 640x480 with 1 Axes>"
            ],
            "image/png": "[encoded data removed]"
          },
          "metadata": {}
        }
      ],
      "source": [
        "# Plot training and validation accuracies\n",
        "plt.plot(history.history['accuracy'], label='Training Accuracy')\n",
        "plt.plot(history.history['val_accuracy'], label='Validation Accuracy')\n",
        "plt.title('Training and Validation Accuracy')\n",
        "plt.xlabel('Epoch')\n",
        "plt.ylabel('Accuracy')\n",
        "plt.legend()\n",
        "plt.show()\n"
      ]
    },
    {
      "cell_type": "code",
      "execution_count": null,
      "metadata": {
        "id": "SwiW44tluIiu",
        "colab": {
          "base_uri": "https://localhost:8080/"
        },
        "outputId": "ad842c1b-2b7c-40ea-c065-b5d5d4fe81e7"
      },
      "outputs": [
        {
          "output_type": "stream",
          "name": "stdout",
          "text": [
            "251/251 [==============================] - 12s 47ms/step\n",
            "Classification Report:\n",
            "                                          precision    recall  f1-score   support\n",
            "\n",
            "                             अर्थ सबन्धी       0.86      0.85      0.85       572\n",
            "अर्थिक अनियमितता तथा भ्रष्टाचार सम्बन्धी       0.98      1.00      0.99       573\n",
            "                       कर्मचारी सम्वन्धी       0.81      0.69      0.75       573\n",
            "                                खानेपानी       0.98      0.99      0.99       573\n",
            "                  निर्माण कार्य सम्बन्धी       0.95      0.87      0.91       573\n",
            "              पार्किङ्ग तथा मेट्रो पुलिस       0.85      0.89      0.87       572\n",
            "           प्राकृतिक श्रोत/साधन सम्बन्धी       0.99      1.00      0.99       573\n",
            "                    फोहोरमैला व्यवस्थापन       0.88      0.92      0.90       573\n",
            "                    लागु पदार्थ सम्बन्धी       1.00      0.97      0.98       572\n",
            "  वेबसाइट तथा अभिलेख व्यवस्थापन सम्बन्धी       0.72      0.52      0.60       570\n",
            "                          शान्ति सुरक्षा       0.88      0.94      0.91       572\n",
            "                         सूचना तथा संचार       0.94      0.88      0.91       573\n",
            "         सोधपुछ, सुझाव, प्रशंसा सम्बन्धी       0.56      0.71      0.62       572\n",
            "                   स्वास्थ्यसँग सम्बन्धी       0.80      0.91      0.85       573\n",
            "\n",
            "                                accuracy                           0.87      8014\n",
            "                               macro avg       0.87      0.87      0.87      8014\n",
            "                            weighted avg       0.87      0.87      0.87      8014\n",
            "\n"
          ]
        }
      ],
      "source": [
        "# Evaluate the model\n",
        "y_pred_probs = model.predict(test_padded)\n",
        "\n",
        "# Convert predicted probabilities to class labels\n",
        "y_pred = np.argmax(y_pred_probs, axis=1)\n",
        "\n",
        "# Decode the encoded labels back to original classes\n",
        "y_true = le.inverse_transform(test_data['label_encoded'])\n",
        "y_pred_decoded = le.inverse_transform(y_pred)\n",
        "\n",
        "# Print the classification report\n",
        "from sklearn.metrics import classification_report\n",
        "print(\"Classification Report:\")\n",
        "print(classification_report(y_true, y_pred_decoded))\n"
      ]
    },
    {
      "cell_type": "code",
      "execution_count": null,
      "metadata": {
        "id": "0o6bI5qRb29m",
        "colab": {
          "base_uri": "https://localhost:8080/"
        },
        "outputId": "a8ad9e51-85c1-4ea2-a562-3d0a656264f4"
      },
      "outputs": [
        {
          "output_type": "stream",
          "name": "stderr",
          "text": [
            "/usr/local/lib/python3.10/dist-packages/keras/src/engine/training.py:3103: UserWarning: You are saving your model as an HDF5 file via `model.save()`. This file format is considered legacy. We recommend using instead the native Keras format, e.g. `model.save('my_model.keras')`.\n",
            "  saving_api.save_model(\n"
          ]
        }
      ],
      "source": [
        "model.save(\"/content/drive/MyDrive/model.h5\")"
      ]
    },
    {
      "cell_type": "code",
      "execution_count": null,
      "metadata": {
        "id": "qjYaWJHUcqUA"
      },
      "outputs": [],
      "source": [
        "from tensorflow.keras.models import load_model\n",
        "\n",
        "# Load the saved model\n",
        "loaded_model = load_model('/content/drive/MyDrive/model.h5')\n",
        "\n"
      ]
    },
    {
      "cell_type": "code",
      "execution_count": null,
      "metadata": {
        "id": "oyk49Y5wuIiu",
        "colab": {
          "base_uri": "https://localhost:8080/"
        },
        "outputId": "24140240-6fc1-43c7-afc5-226c11b2d7ed"
      },
      "outputs": [
        {
          "output_type": "stream",
          "name": "stdout",
          "text": [
            "1/1 [==============================] - 0s 319ms/step\n",
            "Predicted Class: स्वास्थ्यसँग सम्बन्धी (Class 13)\n"
          ]
        }
      ],
      "source": [
        "# New Nepali text\n",
        "new_text = \"यस महानगरपालिकाको सुनाकोठी नखिपोट नख्खुडोल गोकुल आवास कान्तिपुर कोलोनीका वासिन्दाले दिनरात यो धुंवाको सास कहिलेसम्म फेर्नुपर्ने हो हजुर?\"\n",
        "\n",
        "# Preprocess the new text\n",
        "processed_text = preprocess_text(new_text)\n",
        "\n",
        "# Tokenize and pad the sequence\n",
        "new_sequence = tokenizer.texts_to_sequences([processed_text])\n",
        "new_padded = pad_sequences(new_sequence, maxlen=max_length, padding='post', truncating='post')\n",
        "\n",
        "# Make predictions\n",
        "new_pred_probs = loaded_model.predict(new_padded)\n",
        "new_pred_class = np.argmax(new_pred_probs, axis=1)[0]\n",
        "predicted_class_label = le.inverse_transform([new_pred_class])[0]\n",
        "\n",
        "# Print the result\n",
        "print(f\"Predicted Class: {predicted_class_label} (Class {new_pred_class})\")"
      ]
    },
    {
      "cell_type": "code",
      "execution_count": null,
      "metadata": {
        "id": "EETWMdGiuIiu",
        "colab": {
          "base_uri": "https://localhost:8080/"
        },
        "outputId": "7a4c47fc-4b4b-48c4-f70d-01987aed2f30"
      },
      "outputs": [
        {
          "output_type": "stream",
          "name": "stdout",
          "text": [
            "1/1 [==============================] - 0s 40ms/step\n",
            "Predicted Class: कर्मचारी सम्वन्धी (Class 2)\n"
          ]
        }
      ],
      "source": [
        "# New Nepali text\n",
        "new_text = \"सुनसरी जिल्ला इटहरी उप महानगर भित्र अवस्थित धरान पुग्ने यो बाटो । कुन ठेकेदारले यो काम गर्दा कति पैसा कुम्ल्याउन पाइने हो र आफ्नो निर्वाचन ताका खर्च भएको करोड उठाउन पाइन्छ भनेर त हैन ?\"\n",
        "\n",
        "# Preprocess the new text\n",
        "processed_text = preprocess_text(new_text)\n",
        "\n",
        "# Tokenize and pad the sequence\n",
        "new_sequence = tokenizer.texts_to_sequences([processed_text])\n",
        "new_padded = pad_sequences(new_sequence, maxlen=max_length, padding='post', truncating='post')\n",
        "\n",
        "# Make predictions\n",
        "new_pred_probs = model.predict(new_padded)\n",
        "new_pred_class = np.argmax(new_pred_probs, axis=1)[0]\n",
        "predicted_class_label = le.inverse_transform([new_pred_class])[0]\n",
        "\n",
        "# Print the result\n",
        "print(f\"Predicted Class: {predicted_class_label} (Class {new_pred_class})\")"
      ]
    },
    {
      "cell_type": "code",
      "execution_count": null,
      "metadata": {
        "id": "bmtlct7muIiv",
        "colab": {
          "base_uri": "https://localhost:8080/"
        },
        "outputId": "d8a5c75c-e1b4-4332-b086-e7c1568ebd7f"
      },
      "outputs": [
        {
          "output_type": "stream",
          "name": "stdout",
          "text": [
            "1/1 [==============================] - 0s 43ms/step\n",
            "Predicted Class: खानेपानी (Class 3)\n"
          ]
        }
      ],
      "source": [
        "# New Nepali text\n",
        "new_text = \"काठमाडौं मा मेलम्ची को पानी बितरन्ण भयो भन्छ । हामी मा अहीपुग्ने कहिले हो मेरो मा पानी न आहेक्क आजको दिन टक्काइ ४० दिन भयो । खानी पानी कार्यल मा भनो भने पाले ले आजै दिन्छ भन्छ हामी लाई फर्काइ दिन्छ अब भन्नुस् कति दिन यो महङ्गो मा पानी किनेर जिबन याबन गर्ने । हजुर हरु लाई के लाग्छ के हामी पानी बिना को जिबन जिउन सकिन्छ त ।कृपया हाम्रो समस्य बुझीदिन्छ कि भनेर हजुर सम्म यो गुनासो पठाउन बात्य भएको छु ।\"\n",
        "\n",
        "# Preprocess the new text\n",
        "processed_text = preprocess_text(new_text)\n",
        "\n",
        "# Tokenize and pad the sequence\n",
        "new_sequence = tokenizer.texts_to_sequences([processed_text])\n",
        "new_padded = pad_sequences(new_sequence, maxlen=max_length, padding='post', truncating='post')\n",
        "\n",
        "# Make predictions\n",
        "new_pred_probs = model.predict(new_padded)\n",
        "new_pred_class = np.argmax(new_pred_probs, axis=1)[0]\n",
        "predicted_class_label = le.inverse_transform([new_pred_class])[0]\n",
        "\n",
        "# Print the result\n",
        "print(f\"Predicted Class: {predicted_class_label} (Class {new_pred_class})\")"
      ]
    },
    {
      "cell_type": "code",
      "execution_count": null,
      "metadata": {
        "id": "GPGuxUQPuIiv",
        "colab": {
          "base_uri": "https://localhost:8080/"
        },
        "outputId": "beefa82f-938e-4f90-b5a6-1400221421c4"
      },
      "outputs": [
        {
          "output_type": "stream",
          "name": "stdout",
          "text": [
            "1/1 [==============================] - 0s 39ms/step\n",
            "Predicted Class: वेबसाइट तथा अभिलेख व्यवस्थापन सम्बन्धी (Class 9)\n"
          ]
        }
      ],
      "source": [
        "# New Nepali text\n",
        "new_text = \"नगरिक ऐप नागरिकता संशोधन\"\n",
        "\n",
        "# Preprocess the new text\n",
        "processed_text = preprocess_text(new_text)\n",
        "\n",
        "# Tokenize and pad the sequence\n",
        "new_sequence = tokenizer.texts_to_sequences([processed_text])\n",
        "new_padded = pad_sequences(new_sequence, maxlen=max_length, padding='post', truncating='post')\n",
        "\n",
        "# Make predictions\n",
        "new_pred_probs = model.predict(new_padded)\n",
        "new_pred_class = np.argmax(new_pred_probs, axis=1)[0]\n",
        "predicted_class_label = le.inverse_transform([new_pred_class])[0]\n",
        "\n",
        "# Print the result\n",
        "print(f\"Predicted Class: {predicted_class_label} (Class {new_pred_class})\")"
      ]
    },
    {
      "cell_type": "code",
      "execution_count": null,
      "metadata": {
        "id": "SNap9xtWBvpW"
      },
      "outputs": [],
      "source": [
        "[\n",
        "    {'category': 'वेबसाइट तथा अभिलेख व्यवस्थापन सम्बन्धी', 'count': 2849},\n",
        "    {'category': 'सोधपुछ, सुझाव, प्रशंसा सम्बन्धी', 'count': 1875},\n",
        "    {'category': 'पार्किङ्ग तथा मेट्रो पुलिस', 'count': 1702},\n",
        "    {'category': 'कर्मचारी सम्वन्धी', 'count': 1345},\n",
        "    {'category': 'स्वास्थ्यसँग सम्बन्धी', 'count': 970},\n",
        "    {'category': 'अर्थ सबन्धी', 'count': 860},\n",
        "    {'category': 'खानेपानी सम्बन्धी', 'count': 765},\n",
        "    {'category': 'सूचना तथा संचार सम्बन्धी', 'count': 639},\n",
        "    {'category': 'फोहोरमैला व्यवस्थापन', 'count': 630},\n",
        "    {'category': 'निर्माण कार्य सम्बन्धी', 'count': 604},\n",
        "    {'category': 'शान्ति सुरक्षा सम्बन्धी', 'count': 557},\n",
        "    {'category': 'प्राकृतिक श्रोत/साधन सम्बन्धी', 'count': 233},\n",
        "    {'category': 'लागु पदार्थ सम्बन्धी', 'count': 157},\n",
        "    {'category': 'अर्थिक अनियमितता तथा भ्रष्टाचार सम्बन्धी', 'count': 71}\n",
        "]\n"
      ]
    },
    {
      "cell_type": "code",
      "source": [
        "[\n",
        "    {'category': 'वेबसाइट तथा अभिलेख व्यवस्थापन सम्बन्धी', 'count': 2849},\n",
        "    {'category': 'सोधपुछ, सुझाव, प्रशंसा सम्बन्धी', 'count': 1875},\n",
        "    {'category': 'पार्किङ्ग तथा मेट्रो पुलिस', 'count': 1702},\n",
        "    {'category': 'कर्मचारी सम्वन्धी', 'count': 1345},\n",
        "    {'category': 'स्वास्थ्यसँग सम्बन्धी', 'count': 970},\n",
        "    {'category': 'अर्थ सबन्धी', 'count': 860},\n",
        "    {'category': 'खानेपानी सम्बन्धी', 'count': 765},\n",
        "    {'category': 'सूचना तथा संचार सम्बन्धी', 'count': 639},\n",
        "    {'category': 'फोहोरमैला व्यवस्थापन', 'count': 630},\n",
        "    {'category': 'निर्माण कार्य सम्बन्धी', 'count': 604},\n",
        "    {'category': 'शान्ति सुरक्षा सम्बन्धी', 'count': 557},\n",
        "    {'category': 'प्राकृतिक श्रोत/साधन सम्बन्धी', 'count': 233},\n",
        "    {'category': 'लागु पदार्थ सम्बन्धी', 'count': 350},\n",
        "    {'category': 'अर्थिक अनियमितता तथा भ्रष्टाचार सम्बन्धी', 'count': 300}\n",
        "]\n"
      ],
      "metadata": {
        "id": "5T2go-YQ5llU"
      },
      "execution_count": null,
      "outputs": []
    },
    {
      "cell_type": "code",
      "source": [
        "import matplotlib.pyplot as plt\n",
        "\n",
        "# Categories and counts from the provided table\n",
        "categories = [ str(i) for i in range(0,14,1)]\n",
        "counts = [2849, 1875, 1702, 1345, 970, 860, 765, 639, 630, 604, 557, 233, 157, 71]\n",
        "counts2 = [2849, 1875, 1702, 1542, 1040, 964, 880, 739, 730, 714, 657, 450, 290, 200]\n",
        "\n",
        "plt.figure(figsize=(10, 8))\n",
        "plt.barh(categories, counts, color='skyblue')\n",
        "plt.xlabel('Counts')\n",
        "plt.title('Complaint Categories and Counts')\n",
        "plt.gca().invert_yaxis()  # Display the highest count at the top\n",
        "plt.show()\n"
      ],
      "metadata": {
        "colab": {
          "base_uri": "https://localhost:8080/",
          "height": 718
        },
        "id": "gjo9zT826PSg",
        "outputId": "fd5410a0-9534-46ea-c88c-a52810406e08"
      },
      "execution_count": null,
      "outputs": [
        {
          "output_type": "display_data",
          "data": {
            "text/plain": [
              "<Figure size 1000x800 with 1 Axes>"
            ],
            "image/png": "[encoded data removed]"
          },
          "metadata": {}
        }
      ]
    },
    {
      "cell_type": "code",
      "source": [
        "import matplotlib.pyplot as plt\n",
        "import numpy as np\n",
        "\n",
        "# Categories and counts from the provided table\n",
        "categories = [str(i) for i in range(0, 14, 1)]\n",
        "before = [2849, 1875, 1702, 1345, 970, 860, 765, 639, 630, 604, 557, 233, 157, 71]\n",
        "after = [2849, 1875, 1800, 1542, 1140, 964, 980, 839, 750, 750, 757, 450, 300, 288]\n",
        "\n",
        "y_pos = np.arange(len(categories))\n",
        "\n",
        "# Bar width\n",
        "bar_width = 0.35\n",
        "\n",
        "plt.figure(figsize=(5, 4))\n",
        "\n",
        "# Plotting both the counts and counts2 side by side\n",
        "plt.barh(y_pos - bar_width/2, before, bar_width, label='before', color='skyblue')\n",
        "plt.barh(y_pos + bar_width/2, after, bar_width, label='after', color='lightgreen')\n",
        "\n",
        "plt.xlabel('Counts')\n",
        "plt.title('Complaint Categories and Counts')\n",
        "plt.yticks(y_pos, categories)\n",
        "plt.gca().invert_yaxis()  # Display the highest count at the top\n",
        "plt.legend()\n",
        "\n",
        "plt.show()\n"
      ],
      "metadata": {
        "colab": {
          "base_uri": "https://localhost:8080/",
          "height": 410
        },
        "id": "Mi4TKAE26SNd",
        "outputId": "d64d7113-fb65-4e5b-e830-a99f71f8a603"
      },
      "execution_count": null,
      "outputs": [
        {
          "output_type": "display_data",
          "data": {
            "text/plain": [
              "<Figure size 500x400 with 1 Axes>"
            ],
            "image/png": "[encoded data removed]"
          },
          "metadata": {}
        }
      ]
    },
    {
      "cell_type": "code",
      "source": [],
      "metadata": {
        "id": "zEWPYwbF0Eyt"
      },
      "execution_count": null,
      "outputs": []
    }
  ],
  "metadata": {
    "accelerator": "GPU",
    "colab": {
      "gpuType": "T4",
      "provenance": []
    },
    "kernelspec": {
      "display_name": "Python 3",
      "name": "python3"
    },
    "language_info": {
      "codemirror_mode": {
        "name": "ipython",
        "version": 3
      },
      "file_extension": ".py",
      "mimetype": "text/x-python",
      "name": "python",
      "nbconvert_exporter": "python",
      "pygments_lexer": "ipython3",
      "version": "3.10.12"
    }
  },
  "nbformat": 4,
  "nbformat_minor": 0
}